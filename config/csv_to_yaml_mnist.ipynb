{
 "cells": [
  {
   "cell_type": "code",
   "execution_count": 15,
   "id": "32371c94-4826-45cf-a88f-74ef3449cc1d",
   "metadata": {
    "tags": []
   },
   "outputs": [],
   "source": [
    "import pandas as pd\n",
    "import yaml\n",
    "\n",
    "# where you want to use regular 28x28 MNIST or 20x20 version\n",
    "dataset = \"mnist\" \n",
    "#dataset = \"fashion_mnist\" \n"
   ]
  },
  {
   "cell_type": "code",
   "execution_count": 16,
   "id": "a28a5ea6-97bb-4cba-94da-1b00cbef1c42",
   "metadata": {
    "tags": []
   },
   "outputs": [
    {
     "name": "stdout",
     "output_type": "stream",
     "text": [
      "YAML file 'mnist_config_20x20.yaml' generated successfully.\n"
     ]
    }
   ],
   "source": [
    "if dataset == \"mnist\":\n",
    "    first_in_dim = 400\n",
    "    filename = \"mnist_config_20x20.yaml\"\n",
    "    df = pd.read_csv(\"mnist_hyperparameters.csv\")\n",
    "elif dataset == \"fashion_mnist\":\n",
    "    first_in_dim = 784\n",
    "    filename = \"fashion_mnist_config_28x28.yaml\"\n",
    "    df = pd.read_csv(\"fashion_mnist_hyperparameters.csv\")\n",
    "\n",
    "# Convert the DataFrame to a list of dictionaries\n",
    "models = df.to_dict(orient=\"records\")\n",
    "\n",
    "# Create the YAML structure\n",
    "yaml_structure = {\"models\": {}}\n",
    "\n",
    "# Function to round the number to the nearest multiple of the output size\n",
    "def round_to_nearest_multiple(value, multiple):\n",
    "    return multiple * round(value / multiple)\n",
    "\n",
    "# Populate the YAML structure with models\n",
    "for i, model in enumerate(models, start=1):\n",
    "    # Zero-pad model names to 3 digits \n",
    "    model_name = f\"model_{str(i).zfill(3)}\"\n",
    "    layers_config = {}\n",
    "    \n",
    "    for layer in range(1, model[\"H\"] + 1):\n",
    "        # Zero-pad layer names to 3 digits\n",
    "        layer_name = f\"LogicLayer{str(layer).zfill(3)}\"\n",
    "        \n",
    "        # Adjust in_dim to the nearest multiple of 10\n",
    "        in_dim = first_in_dim if layer == 1 else round_to_nearest_multiple(model[\"W\"], 10)\n",
    "        \n",
    "        # Adjust out_dim to the nearest multiple of 10\n",
    "        out_dim = round_to_nearest_multiple(model[\"W\"], 10)\n",
    "        \n",
    "        layers_config[layer_name] = {\n",
    "            \"in_dim\": in_dim,\n",
    "            \"out_dim\": out_dim,\n",
    "            \"device\": \"cuda\",\n",
    "            \"implementation\": \"cuda\",\n",
    "            \"connections\": \"random\",\n",
    "            \"grad_factor\": 1, # we can try different grad_factor values as well\n",
    "        }\n",
    "    \n",
    "    yaml_structure[\"models\"][model_name] = {\n",
    "        \"input_dim\": first_in_dim, \n",
    "        \"output_size\": 10, # for MNIST classification\n",
    "        \"tau\": model[\"tau\"],\n",
    "        \"learning_rate\": model[\"lr\"],\n",
    "        \"layers_config\": layers_config,\n",
    "        # add the AR parameter in here \n",
    "    }\n",
    "\n",
    "# Save to a YAML file\n",
    "with open(f'{filename}', \"w\") as file:\n",
    "    yaml.dump(yaml_structure, file, default_flow_style=False)\n",
    "\n",
    "print(f\"YAML file '{filename}' generated successfully.\")"
   ]
  }
 ],
 "metadata": {
  "kernelspec": {
   "display_name": "DIFFLOGIC",
   "language": "python",
   "name": "difflogic"
  },
  "language_info": {
   "codemirror_mode": {
    "name": "ipython",
    "version": 3
   },
   "file_extension": ".py",
   "mimetype": "text/x-python",
   "name": "python",
   "nbconvert_exporter": "python",
   "pygments_lexer": "ipython3",
   "version": "3.9.19"
  }
 },
 "nbformat": 4,
 "nbformat_minor": 5
}
