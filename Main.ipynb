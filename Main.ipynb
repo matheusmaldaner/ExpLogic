{
 "cells": [
  {
   "cell_type": "markdown",
   "id": "267af5dd-e83a-4431-8036-c75321cb3945",
   "metadata": {
    "tags": []
   },
   "source": [
    "# **ExpLogic**"
   ]
  },
  {
   "cell_type": "markdown",
   "id": "f568cabd-3e11-474b-af13-f6c0c668454d",
   "metadata": {
    "tags": []
   },
   "source": [
    "### **Setting up**"
   ]
  },
  {
   "cell_type": "markdown",
   "id": "df65bb0b-594d-4717-bd3c-63b04b9d864b",
   "metadata": {
    "tags": []
   },
   "source": [
    "#### **Dependencies**"
   ]
  },
  {
   "cell_type": "code",
   "execution_count": 25,
   "id": "fb5dd1c0-73cf-4679-ae21-6fa00a85a395",
   "metadata": {
    "tags": []
   },
   "outputs": [],
   "source": [
    "import torch\n",
    "import torch.nn as nn\n",
    "import numpy as np\n",
    "import pandas as pd\n",
    "from tqdm import tqdm\n",
    "import random\n",
    "import yaml\n",
    "import os\n",
    "import cv2\n",
    "import time\n",
    "import matplotlib.pyplot as plt\n",
    "import torchvision.transforms as transforms\n",
    "from torchvision.transforms import Resize, ToTensor, Compose, Lambda\n",
    "import mnist_dataset\n",
    "from hydra import initialize, compose\n",
    "from torch.utils.data import DataLoader, Dataset, TensorDataset, Subset\n",
    "from difflogic import LogicLayer, GroupSum, PackBitsTensor\n",
    "from mnist_dataset import MNISTRemoveBorderTransform\n",
    "import subset_loaders as subset"
   ]
  },
  {
   "cell_type": "markdown",
   "id": "be99c41f-b5c7-4d64-a704-5a003a5b56c2",
   "metadata": {
    "tags": []
   },
   "source": [
    "#### **Dataset**"
   ]
  },
  {
   "cell_type": "markdown",
   "id": "63f8096d-fc17-46d7-861e-685d2fe12dbb",
   "metadata": {},
   "source": [
    "Tunable Variables"
   ]
  },
  {
   "cell_type": "code",
   "execution_count": 32,
   "id": "47ea8409-a084-4bee-8121-96acd99bb28e",
   "metadata": {
    "tags": []
   },
   "outputs": [],
   "source": [
    "# Configurable options\n",
    "remove_border = True       # True: Removes border of Mnist, False: Keeps black border around digits\n",
    "binarize_images = True     # True: Binarized Images, False: Grayscale Images \n",
    "evenly_partitioned = True  # True: Even distribution of samples, False: Original Mnist distribution\n",
    "upscaled_images = False    # True: Upscales the samples to 32x32, False: Keeps size unchanged\n",
    "downscaled_images = False   # True: Downscales the samples to 16x16, False: Keeps size unchanged\n",
    "batch_size = 256           # Batch size"
   ]
  },
  {
   "cell_type": "markdown",
   "id": "f63667e4-7675-4c59-a6f3-18f4acd21475",
   "metadata": {},
   "source": [
    "Set Seed for Reproducibiity"
   ]
  },
  {
   "cell_type": "code",
   "execution_count": 33,
   "id": "fe299cc0-4872-4902-94f7-b85c193bd43f",
   "metadata": {
    "tags": []
   },
   "outputs": [],
   "source": [
    "torch.manual_seed(42)      # PyTorch seed fixing\n",
    "torch.cuda.manual_seed(42) # PyTorch CUDA seed fixing (if using GPU)\n",
    "np.random.seed(42)         # NumPy seed fixing\n",
    "random.seed(42)            # Python's built-in random seed fixing"
   ]
  },
  {
   "cell_type": "markdown",
   "id": "d4450630-e7a8-4564-b106-6e2dc3a12e61",
   "metadata": {},
   "source": [
    "Dataset Transform"
   ]
  },
  {
   "cell_type": "code",
   "execution_count": 34,
   "id": "1779afcd-2def-41d1-abdc-c1bc8dbb1719",
   "metadata": {
    "tags": []
   },
   "outputs": [],
   "source": [
    "# function to binarize an image, threshold is tunable \n",
    "def binarize(image, threshold=0.5):\n",
    "    return (image > threshold).float()  \n",
    "\n",
    "def binarize_transform(x):\n",
    "    return binarize(x)\n",
    "\n",
    "# define the transformation logic\n",
    "transform_list = [ToTensor()]\n",
    "\n",
    "# removes border around each mnist digit\n",
    "if remove_border:\n",
    "    transform_list.append(MNISTRemoveBorderTransform())\n",
    "\n",
    "# upscales or downscales the images\n",
    "if upscaled_images:\n",
    "    transform_list.append(Resize((32, 32)))\n",
    "elif downscaled_images:\n",
    "    transform_list.append(Resize((16, 16)))\n",
    "\n",
    "# binarizes the images\n",
    "if binarize_images:\n",
    "    transform_list.append(Lambda(binarize_transform))\n",
    "    \n",
    "transform = Compose(transform_list)"
   ]
  },
  {
   "cell_type": "code",
   "execution_count": 35,
   "id": "9d9255d2-bf0c-4bab-b66a-b65360bcb86f",
   "metadata": {
    "tags": []
   },
   "outputs": [],
   "source": [
    "train_dataset = mnist_dataset.MNIST('./data-mnist', train=True, download=True, transform=transform)\n",
    "test_dataset = mnist_dataset.MNIST('./data-mnist', train=False, transform=transform)\n",
    "\n",
    "train_loader = DataLoader(train_dataset, batch_size=batch_size, shuffle=True, pin_memory=True, drop_last=True)\n",
    "test_loader = DataLoader(test_dataset, batch_size=batch_size, shuffle=False, pin_memory=True, drop_last=True)"
   ]
  },
  {
   "cell_type": "code",
   "execution_count": 36,
   "id": "38a5db70-d2ba-44a7-803c-829177a182c8",
   "metadata": {},
   "outputs": [],
   "source": [
    "# makes the Dataset evenly partitioned\n",
    "if evenly_partitioned:\n",
    "    # code below is used so that all classes have the same number of samples\n",
    "    train_targets = train_loader.dataset.targets\n",
    "    test_targets = test_loader.dataset.targets\n",
    "\n",
    "    train_digits_total = []\n",
    "    test_digits_total = []\n",
    "\n",
    "    for i in range(10):\n",
    "        curr_tot_train = torch.sum(train_targets == i).item()\n",
    "        curr_tot_test = torch.sum(test_targets == i).item()    \n",
    "        train_digits_total.append(curr_tot_train)\n",
    "        test_digits_total.append(curr_tot_test)\n",
    "\n",
    "    train_digits_total, test_digits_total\n",
    "\n",
    "    # find the minimum number of samples across all classes\n",
    "    min_samples_train = min(train_digits_total)\n",
    "    min_samples_test = min(test_digits_total)\n",
    "\n",
    "    # function to trim dataset to match the minimum samples for each class and shuffle indices\n",
    "    def trim_dataset(dataset, targets, min_samples):\n",
    "        indices = []\n",
    "        for i in range(10):\n",
    "            class_indices = (targets == i).nonzero(as_tuple=True)[0]  # get indices of class i\n",
    "            class_indices = class_indices[:min_samples]  # trim to min_samples\n",
    "            indices.extend(class_indices)\n",
    "\n",
    "        # shuffle indices after collecting them\n",
    "        indices = torch.tensor(indices)\n",
    "        indices = indices[torch.randperm(indices.size(0))]  \n",
    "\n",
    "        return Subset(dataset, indices)\n",
    "\n",
    "    # trim both train and test datasets to ensure all classes have the same number of samples\n",
    "    trimmed_train_dataset = trim_dataset(train_loader.dataset, train_targets, min_samples_train)\n",
    "    trimmed_test_dataset = trim_dataset(test_loader.dataset, test_targets, min_samples_test)\n",
    "\n",
    "    # create DataLoaders for the trimmed datasets\n",
    "    trimmed_train_loader = DataLoader(trimmed_train_dataset, batch_size=batch_size, shuffle=True, pin_memory=True, drop_last=True)\n",
    "    trimmed_test_loader = DataLoader(trimmed_test_dataset, batch_size=batch_size, shuffle=False, pin_memory=True, drop_last=True)\n",
    "\n",
    "    # verify the lengths of the trimmed datasets\n",
    "    len(trimmed_train_loader.dataset), len(trimmed_test_loader.dataset)\n",
    "\n",
    "    train_dataset = trimmed_train_dataset\n",
    "    test_dataset = trimmed_test_dataset\n",
    "    train_loader = trimmed_train_loader\n",
    "    test_loader = trimmed_test_loader"
   ]
  },
  {
   "cell_type": "code",
   "execution_count": 37,
   "id": "66230413-408e-4bc1-bf5f-2313690e0964",
   "metadata": {
    "tags": []
   },
   "outputs": [
    {
     "data": {
      "text/plain": [
       "<matplotlib.image.AxesImage at 0x153cf5f73310>"
      ]
     },
     "execution_count": 37,
     "metadata": {},
     "output_type": "execute_result"
    },
    {
     "data": {
      "image/png": "[encoded data removed]",
      "text/plain": [
       "<Figure size 640x480 with 1 Axes>"
      ]
     },
     "metadata": {},
     "output_type": "display_data"
    }
   ],
   "source": [
    "# visualizing a single image\n",
    "dataset_size = len(train_dataset)\n",
    "random_index = random.randint(0, dataset_size - 1)\n",
    "\n",
    "if remove_border and not downscaled_images:\n",
    "    image = train_loader.dataset[random_index][0].reshape(20, 20)\n",
    "elif not remove_border and not upscaled_images and not downscaled_images:\n",
    "    image = train_loader.dataset[random_index][0].reshape(28, 28)\n",
    "elif downscaled_images:\n",
    "    image = train_loader.dataset[random_index][0].reshape(16, 16)\n",
    "else:\n",
    "    image = train_loader.dataset[random_index][0].reshape(32, 32)\n",
    "plt.imshow(image, cmap='gray')"
   ]
  },
  {
   "cell_type": "markdown",
   "id": "3973f0e3-5f32-4793-afc6-9394425419de",
   "metadata": {
    "tags": []
   },
   "source": [
    "#### Model Hyperparameters"
   ]
  },
  {
   "cell_type": "markdown",
   "id": "0f4e63be-c489-4aaf-a605-9e1d0fda631f",
   "metadata": {},
   "source": [
    "Converts csv into yaml config file"
   ]
  },
  {
   "cell_type": "code",
   "execution_count": 38,
   "id": "a9b89fd2-f200-40c1-973a-489ef4190e17",
   "metadata": {
    "tags": []
   },
   "outputs": [],
   "source": [
    "# define first input and the name of the file to be saved\n",
    "first_in_dim = 400 # 20x20\n",
    "filename = \"config/mnist_config_20x20.yaml\"  "
   ]
  },
  {
   "cell_type": "code",
   "execution_count": 39,
   "id": "4dc64546-f1d7-4e18-b88c-7140d4d42692",
   "metadata": {
    "tags": []
   },
   "outputs": [
    {
     "name": "stdout",
     "output_type": "stream",
     "text": [
      "YAML file 'config/mnist_config_20x20.yaml' generated successfully.\n"
     ]
    }
   ],
   "source": [
    "# reads the CSV file into a DataFrame\n",
    "df = pd.read_csv(\"config/mnist_hyperparameters.csv\")\n",
    "\n",
    "# convert the DataFrame to a list of dictionaries\n",
    "models = df.to_dict(orient=\"records\")\n",
    "\n",
    "# create the YAML structure\n",
    "yaml_structure = {\"models\": {}}\n",
    "\n",
    "# rounds the number to the nearest multiple of the output size\n",
    "def round_to_nearest_multiple(value, multiple):\n",
    "    return multiple * round(value / multiple)\n",
    "\n",
    "# populate the YAML structure with models\n",
    "for i, model in enumerate(models, start=1):\n",
    "    # zero-padding model names to 3 digits \n",
    "    model_name = f\"model_{str(i).zfill(3)}\"\n",
    "    layers_config = {}\n",
    "    \n",
    "    for layer in range(1, model[\"H\"] + 1):\n",
    "        # zero-padding the layer names to 3 digits\n",
    "        layer_name = f\"LogicLayer{str(layer).zfill(3)}\"\n",
    "        \n",
    "        # adjusts in_dim to the nearest multiple of 10\n",
    "        in_dim = first_in_dim if layer == 1 else round_to_nearest_multiple(model[\"W\"], 10)\n",
    "        \n",
    "        # adjusts out_dim to the nearest multiple of 10\n",
    "        out_dim = round_to_nearest_multiple(model[\"W\"], 10)\n",
    "        \n",
    "        layers_config[layer_name] = {\n",
    "            \"in_dim\": in_dim,\n",
    "            \"out_dim\": out_dim,\n",
    "            \"device\": \"cuda\",\n",
    "            \"implementation\": \"cuda\",\n",
    "            \"connections\": \"random\",\n",
    "            \"grad_factor\": 2, # we can try different grad_factor values as well\n",
    "        }\n",
    "    \n",
    "    yaml_structure[\"models\"][model_name] = {\n",
    "        \"input_dim\": first_in_dim, \n",
    "        \"output_size\": 10, # for MNIST classification\n",
    "        \"tau\": model[\"tau\"],\n",
    "        \"learning_rate\": model[\"lr\"],\n",
    "        \"layers_config\": layers_config,\n",
    "    }\n",
    "\n",
    "# saves to a YAML file\n",
    "with open(f'{filename}', \"w\") as file:\n",
    "    yaml.dump(yaml_structure, file, default_flow_style=False)\n",
    "\n",
    "print(f\"YAML file '{filename}' generated successfully.\")"
   ]
  },
  {
   "cell_type": "markdown",
   "id": "5e939ace-e4c3-4781-bdea-f9722ddb925e",
   "metadata": {
    "tags": []
   },
   "source": [
    "### **Model Definition**"
   ]
  },
  {
   "cell_type": "markdown",
   "id": "7bf4c832-0caf-4efc-9b71-8c2cf1faffa7",
   "metadata": {
    "tags": []
   },
   "source": [
    "#### **Model Function Declarations**"
   ]
  },
  {
   "cell_type": "markdown",
   "id": "bb42a7a7-1a8b-4d5f-b2c6-6f68678e328b",
   "metadata": {},
   "source": [
    "Custom GroupSum"
   ]
  },
  {
   "cell_type": "code",
   "execution_count": 40,
   "id": "b1ead0c5-4377-4447-937c-353d12632fbe",
   "metadata": {
    "tags": []
   },
   "outputs": [],
   "source": [
    "class CustomGroupSum(GroupSum):\n",
    "    \"\"\"\n",
    "    The CustomGroupSum module that extends GroupSum to include printing of class sums.\n",
    "    \"\"\"\n",
    "    def forward(self, x):\n",
    "        # Use the original functionality from GroupSum\n",
    "        output = super().forward(x)\n",
    "\n",
    "        # Calculate the class sums for printing\n",
    "        if isinstance(x, PackBitsTensor):\n",
    "            class_sums = x.group_sum(self.k)\n",
    "        else:\n",
    "            class_sums = x.reshape(*x.shape[:-1], self.k, x.shape[-1] // self.k).sum(-1)\n",
    "\n",
    "        # Print the class sums before returning the output\n",
    "        print(\"Class Sums:\", class_sums)\n",
    "\n",
    "        # Return the processed output, as in the original GroupSum\n",
    "        return output"
   ]
  },
  {
   "cell_type": "markdown",
   "id": "e473370c-ec74-455b-854c-f597d04144f3",
   "metadata": {},
   "source": [
    "DiffLogic Class"
   ]
  },
  {
   "cell_type": "code",
   "execution_count": 41,
   "id": "b244edec-9bd5-474d-9aaa-4f9aafe31b24",
   "metadata": {},
   "outputs": [],
   "source": [
    "class DiffLogic(nn.Module):\n",
    "    def __init__(self, layers_config, output_size, tau=30):\n",
    "        \"\"\"\n",
    "        Initializes the DiffLogic model with the specified layer configurations, output size, and temperature parameter.\n",
    "\n",
    "        Args:\n",
    "            layers_config (dict): Configuration for each logic layer, including dimensions, device, implementation, connections, and grad factor.\n",
    "            output_size (int): The number of output groups (classes in a classification problem).\n",
    "            tau (int): Temperature parameter for the GroupSum operation.\n",
    "        \"\"\"\n",
    "        super(DiffLogic, self).__init__()\n",
    "        self.flatten = nn.Flatten()\n",
    "        \n",
    "        # stores the logic layers\n",
    "        layers = []\n",
    "        for layer_name, config in layers_config.items():\n",
    "            layer = LogicLayer(\n",
    "                in_dim=config['in_dim'],\n",
    "                out_dim=config['out_dim'],\n",
    "                device=config['device'],\n",
    "                implementation=config['implementation'],\n",
    "                connections=config['connections'],\n",
    "                grad_factor=config['grad_factor']       \n",
    "            )\n",
    "            layers.append(layer)\n",
    "            print(layer)\n",
    "        \n",
    "        self.logic_layers = nn.Sequential(*layers)\n",
    "        self.group = GroupSum(k=output_size, tau=tau)\n",
    "        #self.group = CustomGroupSum(k=output_size, tau=tau) \n",
    "        self.log_text = \"\"  # initializes logging string\n",
    "\n",
    "    def forward(self, x):\n",
    "        \"\"\"\n",
    "        Forward pass of the DiffLogic model.\n",
    "\n",
    "        Args:\n",
    "            x (torch.Tensor): Input tensor.\n",
    "\n",
    "        Returns:\n",
    "            torch.Tensor: Output tensor after processing through the logic layers and grouping operation.\n",
    "        \"\"\"\n",
    "        # moves tensor to GPU\n",
    "        if torch.cuda.is_available():\n",
    "            x = x.to('cuda')          \n",
    "        x = self.flatten(x)\n",
    "        logits = self.logic_layers(x)\n",
    "        group = self.group(logits)\n",
    "        return group\n",
    "    \n",
    "    def save(self, file_path, model_name='model'):\n",
    "        \"\"\"\n",
    "        Saves the model's state dictionary to the specified file path.\n",
    "\n",
    "        Args:\n",
    "            file_path (str): Path where the model will be saved.\n",
    "            model_name (str): Name of the saved model\n",
    "\n",
    "        Returns:\n",
    "            None\n",
    "        \"\"\"\n",
    "        torch.save({\n",
    "            'model_state_dict': self.state_dict(),\n",
    "            'connections': [layer.indices for layer in self.logic_layers if isinstance(layer, LogicLayer)]\n",
    "        }, os.path.join(file_path, f\"{model_name}.pth\"))\n",
    "        self.log_text += f\"Model saved to: {file_path}\\n\"\n",
    "\n",
    "    def load(self, file_path):\n",
    "        \"\"\"\n",
    "        Loads the model's state dictionary from the specified file path.\n",
    "\n",
    "        Args:\n",
    "            file_path (str): Path from which the model will be loaded.\n",
    "\n",
    "        Returns:\n",
    "            None\n",
    "        \"\"\"\n",
    "        checkpoint = torch.load(file_path)\n",
    "        self.load_state_dict(checkpoint['model_state_dict'])\n",
    "\n",
    "        # assigns connections to each LogicLayer\n",
    "        for idx, layer in enumerate(self.logic_layers):\n",
    "            if isinstance(layer, LogicLayer):\n",
    "                layer.indices = checkpoint['connections'][idx]\n",
    "\n",
    "        self.eval()\n",
    "        self.log_text += f\"Model loaded from: {file_path}\\n\"\n",
    "        \n",
    "    def get_accuracy(self, data_loader):\n",
    "        \"\"\"\n",
    "        Calculates the accuracy of the model against a data loader\n",
    "\n",
    "        Args:\n",
    "            data_loader: a DataLoader object, e.g. train_loader or test_loader\n",
    "\n",
    "        Returns:\n",
    "            float: The accuracy\n",
    "        \"\"\"\n",
    "        correct = 0\n",
    "        total = 0\n",
    "\n",
    "        # ensures that model is in evaluation mode\n",
    "        self.eval()\n",
    "\n",
    "        with torch.no_grad():  # Disable gradient calculation for inference\n",
    "            for batch_inputs, batch_outputs in tqdm(data_loader, desc=\"Running Inference\"):\n",
    "                batch_inputs, batch_outputs = batch_inputs.to('cuda'), batch_outputs.to('cuda')\n",
    "\n",
    "                # forward pass to get predictions\n",
    "                outputs = self(batch_inputs)\n",
    "\n",
    "                # gets the predicted class (index of the maximum logit)\n",
    "                _, predicted = torch.max(outputs.data, 1)\n",
    "\n",
    "                # counting correct predictions\n",
    "                total += batch_outputs.size(0)  # total number of samples in the batch\n",
    "                correct += (predicted == batch_outputs).sum().item()  # counting correct predictions\n",
    "\n",
    "        accuracy = correct / total\n",
    "        return accuracy\n",
    "\n",
    "    def get_log(self):\n",
    "        \"\"\"\n",
    "        Retrieves the log text and clears the log after retrieval.\n",
    "\n",
    "        Returns:\n",
    "            str: The log text.\n",
    "        \"\"\"\n",
    "        log_copy = self.log_text\n",
    "        self.log_text = \"\"  # Clear the log after returning\n",
    "        return log_copy"
   ]
  },
  {
   "cell_type": "code",
   "execution_count": 42,
   "id": "5632fa27-5e05-41b0-b3a3-ac941714657b",
   "metadata": {
    "tags": []
   },
   "outputs": [],
   "source": [
    "class EarlyStopper:\n",
    "    def __init__(self, patience=10, min_delta=0):\n",
    "        \"\"\"\n",
    "        Initializes the EarlyStopper to stop training if the performance doesn't improve after a certain number of epochs.\n",
    "\n",
    "        Args:\n",
    "            patience (int): Number of epochs to wait for an improvement.\n",
    "            min_delta (float): Minimum change to consider an improvement.\n",
    "        \"\"\"\n",
    "        self.patience = patience\n",
    "        self.min_delta = min_delta\n",
    "        self.best_loss = None\n",
    "        self.counter = 0\n",
    "\n",
    "    def should_stop(self, current_loss):\n",
    "        \"\"\"\n",
    "        Check if training should stop based on the current loss.\n",
    "\n",
    "        Args:\n",
    "            current_loss (float): The current loss.\n",
    "\n",
    "        Returns:\n",
    "            bool: True if training should stop, False otherwise.\n",
    "        \"\"\"\n",
    "        if self.best_loss is None:\n",
    "            self.best_loss = current_loss\n",
    "            return False\n",
    "        elif current_loss < self.best_loss - self.min_delta:\n",
    "            self.best_loss = current_loss\n",
    "            self.counter = 0\n",
    "            return False\n",
    "        else:\n",
    "            self.counter += 1\n",
    "            print(\"EarlyStopper Triggered: \", self.counter)\n",
    "            if self.counter >= self.patience:\n",
    "                return True\n",
    "            return False"
   ]
  },
  {
   "cell_type": "markdown",
   "id": "fcd97e0b-c6c4-4262-97ab-32136126ba39",
   "metadata": {
    "jp-MarkdownHeadingCollapsed": true,
    "tags": []
   },
   "source": [
    "#### **Model Training**"
   ]
  },
  {
   "cell_type": "code",
   "execution_count": null,
   "id": "dea90015-6e45-49af-bb11-539c8811adcd",
   "metadata": {
    "tags": []
   },
   "outputs": [],
   "source": [
    "# initialize Hydra with the config path and job name\n",
    "with initialize(version_base=None, config_path=\"config\", job_name=\"ExpLogic\"):\n",
    "    cfg = compose(config_name=\"mnist_config_20x20\")\n",
    "\n",
    "# training loop for all models\n",
    "all_models_dict = {}\n",
    "num_epochs = 5\n",
    "file_path = 'trained_models/mnist_trained_20x20' # where to save your trained models\n",
    "\n",
    "# loops through all model configs and trains each of them\n",
    "for model_name, model_cfg in cfg.models.items():\n",
    "    print(f'training model {model_name}')\n",
    "\n",
    "    # tracking dictionary\n",
    "    all_models_dict[model_name] = {\n",
    "        'losses': [],\n",
    "    }\n",
    "\n",
    "    try:\n",
    "        # initializes DiffLogic model and moves to CUDA if available\n",
    "        model = DiffLogic(layers_config=model_cfg['layers_config'], \n",
    "                          output_size=model_cfg['output_size'], \n",
    "                          tau=model_cfg['tau']).to('cuda' if torch.cuda.is_available() else 'cpu')\n",
    "        \n",
    "        # optimizer and loss criterion\n",
    "        optimizer = torch.optim.Adam(model.parameters(), lr=model_cfg['learning_rate'])\n",
    "        criterion = nn.CrossEntropyLoss()\n",
    "        \n",
    "        # early stopping\n",
    "        early_stopper = EarlyStopper(patience=5)\n",
    "\n",
    "        for epoch in range(num_epochs):\n",
    "            loop = tqdm(train_loader, leave=True, desc=f'Epoch {epoch+1}/{num_epochs}')\n",
    "            epoch_loss = 0  # to track loss for an epoch\n",
    "            \n",
    "            for batch_inputs, batch_outputs in loop:\n",
    "                # move data to the appropriate device\n",
    "                device = 'cuda' if torch.cuda.is_available() else 'cpu'\n",
    "                batch_inputs, batch_outputs = batch_inputs.to(device).double(), batch_outputs.to(device).long()\n",
    "\n",
    "                # forward pass through the model\n",
    "                predictions = model(batch_inputs)\n",
    "                loss = criterion(predictions, batch_outputs)\n",
    "\n",
    "                # zero gradients, backpropagates, and updates model parameters\n",
    "                optimizer.zero_grad()\n",
    "                loss.backward()\n",
    "                optimizer.step()\n",
    "                \n",
    "                # accumulating the loss for the epoch\n",
    "                epoch_loss += loss.item()\n",
    "\n",
    "            # caclulating the average loss for the epoch\n",
    "            epoch_loss /= len(train_loader)\n",
    "            all_models_dict[model_name]['losses'].append(epoch_loss)\n",
    "            print(f'Epoch {epoch+1} Loss: {epoch_loss}')\n",
    "\n",
    "            # checks for early stopping\n",
    "            if early_stopper.should_stop(epoch_loss):\n",
    "                print(f\"Early stopping triggered for {model_name} at epoch {epoch+1}.\")\n",
    "                break\n",
    "\n",
    "        # saving trained model's state\n",
    "        model.save(file_path, model_name)\n",
    "\n",
    "    except Exception as e:\n",
    "        print(f\"ERROR TRAINING {model_name.upper()}: {str(e)}\")\n",
    "\n",
    "print(\"All models processed.\")"
   ]
  },
  {
   "cell_type": "markdown",
   "id": "1d28a834-adac-4241-83a4-d9a23ac17db5",
   "metadata": {
    "tags": []
   },
   "source": [
    "#### **Model Testing**"
   ]
  },
  {
   "cell_type": "code",
   "execution_count": 43,
   "id": "33048f62-fc21-4f87-b725-6eb470a66700",
   "metadata": {
    "tags": []
   },
   "outputs": [
    {
     "name": "stdout",
     "output_type": "stream",
     "text": [
      "LogicLayer(400, 2500, train)\n",
      "LogicLayer(2500, 2500, train)\n",
      "Evaluating model_077_weights.pth...\n"
     ]
    },
    {
     "name": "stderr",
     "output_type": "stream",
     "text": [
      "Running Inference: 100%|██████████| 34/34 [00:02<00:00, 13.28it/s]"
     ]
    },
    {
     "name": "stdout",
     "output_type": "stream",
     "text": [
      "Accuracy of model_077_weights.pth: 92.15%\n",
      "\n"
     ]
    },
    {
     "name": "stderr",
     "output_type": "stream",
     "text": [
      "\n"
     ]
    }
   ],
   "source": [
    "# testing loop to test inferences\n",
    "trained_models_dir = 'trained_models/'\n",
    "\n",
    "# retrieves a list of all model files in the directory\n",
    "model_files = sorted([f for f in os.listdir(trained_models_dir) if f.endswith('.pth')])\n",
    "\n",
    "with initialize(version_base=None, config_path=\"config\", job_name=\"ExpLogic_Test\"):\n",
    "    cfg = compose(config_name=\"mnist_config_20x20\")\n",
    "\n",
    "# dictionary to store the trained models\n",
    "trained_models = {}\n",
    "trained_models_accuracies = {}\n",
    "\n",
    "# loops through all model files and calculates their accuracies\n",
    "for i, model_file in enumerate(model_files):\n",
    "    if model_file.endswith('_weights.pth'):\n",
    "        model_name = model_file.removesuffix('_weights.pth')\n",
    "    else:\n",
    "        model_name = model_file.removesuffix('.pth')\n",
    "    \n",
    "    model_cfg = cfg['models'][model_name]\n",
    "    \n",
    "    # instantiates the model and load its weights\n",
    "    model = DiffLogic(layers_config=model_cfg['layers_config'], \n",
    "                          output_size=model_cfg['output_size'], \n",
    "                          tau=model_cfg['tau']).to('cuda' if torch.cuda.is_available() else 'cpu')\n",
    "    \n",
    "    model_path = os.path.join(trained_models_dir, model_file)\n",
    "    print(f\"Evaluating {model_file}...\")\n",
    "\n",
    "    # loads the respective model\n",
    "    model.load(model_path)\n",
    "    \n",
    "    # calculates accuracy\n",
    "    accuracy = model.get_accuracy(test_loader)\n",
    "    \n",
    "    print(f\"Accuracy of {model_file}: {accuracy * 100:.2f}%\\n\")\n",
    "    \n",
    "    trained_models[i] = model\n",
    "    trained_models_accuracies[i] = accuracy"
   ]
  },
  {
   "cell_type": "markdown",
   "id": "ccc15d31-2d9b-42f4-8d07-039e9c972871",
   "metadata": {
    "tags": []
   },
   "source": [
    "### **Switching Probability**"
   ]
  },
  {
   "cell_type": "markdown",
   "id": "decdce79-f993-4a5c-81d1-f0e5b64be619",
   "metadata": {},
   "source": [
    "Converting DiffLogic to LogicGraph"
   ]
  },
  {
   "cell_type": "code",
   "execution_count": 44,
   "id": "1f72fa04-489d-4d62-98c0-fd2b9323c677",
   "metadata": {
    "tags": []
   },
   "outputs": [
    {
     "name": "stdout",
     "output_type": "stream",
     "text": [
      "Creating LogicGraph\n"
     ]
    },
    {
     "name": "stderr",
     "output_type": "stream",
     "text": [
      "Processing MNIST images: 100%|██████████| 211/211 [00:20<00:00, 10.41it/s]\n"
     ]
    },
    {
     "data": {
      "text/plain": [
       "'b'"
      ]
     },
     "execution_count": 44,
     "metadata": {},
     "output_type": "execute_result"
    }
   ],
   "source": [
    "from LogicGraph import * \n",
    "    \n",
    "print(\"Creating LogicGraph\")\n",
    "gall = LogicGraph(model)\n",
    "\n",
    "gall.compute_sf(train_loader)\n",
    "gall.compute_sp(np.ones((20,20))-0.5)\n",
    "\n",
    "gall.edges()[('L1_N2029', 'L2_N2124')][\"ab\"]"
   ]
  },
  {
   "cell_type": "markdown",
   "id": "0efa6880-2f52-43fd-9af4-9e87f8f48231",
   "metadata": {},
   "source": [
    "#### **Difference of SP for Individual Classes**"
   ]
  },
  {
   "cell_type": "markdown",
   "id": "ac70e7db-e9f7-400d-998f-79e7773da32d",
   "metadata": {},
   "source": [
    "Find the TP, TN, FP, FN instances, and use this to create sub-datasets for specific cases "
   ]
  },
  {
   "cell_type": "code",
   "execution_count": 46,
   "id": "e93518bf-6e84-4f02-be85-85f4a37b4dca",
   "metadata": {
    "tags": []
   },
   "outputs": [],
   "source": [
    "# set to True if you have already created the files\n",
    "saved = False "
   ]
  },
  {
   "cell_type": "code",
   "execution_count": 47,
   "id": "81293fce-d505-43d5-aa21-0011f72df319",
   "metadata": {
    "tags": []
   },
   "outputs": [
    {
     "name": "stderr",
     "output_type": "stream",
     "text": [
      "Predicting: 100%|██████████| 211/211 [00:10<00:00, 20.47it/s]\n",
      "Predicting: 100%|██████████| 34/34 [00:01<00:00, 20.57it/s]\n"
     ]
    },
    {
     "name": "stdout",
     "output_type": "stream",
     "text": [
      "Saving the Class Datasets\n",
      "Saving the General Datasets\n",
      "Saving the General Datasets\n",
      "Saving the Class-Specific Datasets\n"
     ]
    }
   ],
   "source": [
    "def binarize(image, threshold=0.5):\n",
    "    return (image > threshold).float()\n",
    "\n",
    "def predict_and_categorize(model, data_loader, binary=False, threshold=0.5):\n",
    "    all_images = []\n",
    "    all_labels = []\n",
    "    all_predictions = []\n",
    "\n",
    "    # Ensure model is in evaluation mode\n",
    "    model.eval()\n",
    "\n",
    "    with torch.no_grad():  # Disable gradient calculation for inference\n",
    "        for batch_inputs, batch_outputs in tqdm(data_loader, desc=\"Predicting\"):\n",
    "            batch_inputs, batch_outputs = batch_inputs.to('cuda'), batch_outputs.to('cuda')\n",
    "\n",
    "            if binary:\n",
    "                batch_inputs = binarize(batch_inputs)\n",
    "\n",
    "            # Forward pass to get predictions\n",
    "            outputs = model(batch_inputs)\n",
    "\n",
    "            # Get the predicted class (index of the maximum logit)\n",
    "            _, predicted = torch.max(outputs.data, 1)\n",
    "\n",
    "            all_images.append(batch_inputs.cpu())\n",
    "            all_labels.append(batch_outputs.cpu())\n",
    "            all_predictions.append(predicted.cpu())\n",
    "\n",
    "    all_images = torch.cat(all_images)\n",
    "    all_labels = torch.cat(all_labels)\n",
    "    all_predictions = torch.cat(all_predictions)\n",
    "\n",
    "    return all_images, all_labels, all_predictions\n",
    "\n",
    "if not saved: \n",
    "    # Usage:\n",
    "    binary = True    # Set to True if you want to binarize the images\n",
    "    threshold = 0.5  # Set the threshold for binarization if binarize is True\n",
    "\n",
    "    all_images_train, all_labels_train, all_predictions_train = predict_and_categorize(model, train_loader, binary=binary, threshold=threshold)\n",
    "    all_images_test,  all_labels_test,  all_predictions_test  = predict_and_categorize(model,  test_loader, binary=binary, threshold=threshold) \n",
    "\n",
    "    torch.save(     all_images_train, 'datasets/all_images_train.pth')\n",
    "    torch.save(     all_labels_train, 'datasets/all_labels_train.pth')\n",
    "    torch.save(all_predictions_train, 'datasets/all_predictions_train.pth')\n",
    "\n",
    "    torch.save(     all_images_test, 'datasets/all_images_test.pth')\n",
    "    torch.save(     all_labels_test, 'datasets/all_labels_test.pth')\n",
    "    torch.save(all_predictions_test, 'datasets/all_predictions_test.pth')\n",
    "\n",
    "else: \n",
    "    all_images_train      = torch.load('datasets/all_images_train.pth')\n",
    "    all_labels_train      = torch.load('datasets/all_labels_train.pth')\n",
    "    all_predictions_train = torch.load('datasets/all_predictions_train.pth')\n",
    "\n",
    "    all_images_test       = torch.load('datasets/all_images_test.pth')\n",
    "    all_labels_test       = torch.load('datasets/all_labels_test.pth')\n",
    "    all_predictions_test  = torch.load('datasets/all_predictions_test.pth')\n",
    "\n",
    "if not saved: \n",
    "    # Fix random seeds for reproducibility\n",
    "    torch.manual_seed(42)            \n",
    "    torch.cuda.manual_seed(42)        \n",
    "    np.random.seed(42)\n",
    "    # If using CUDA:\n",
    "    torch.backends.cudnn.deterministic = True\n",
    "    torch.backends.cudnn.benchmark = False\n",
    "\n",
    "    # Init parameters\n",
    "    batch_size = 256   # this can be tuned as well \n",
    "    binary   = True    # Set this to True if you want to binarize the images\n",
    "    threshold  = 0.5   # Set the threshold for binarization\n",
    "\n",
    "    # Create class-specific data loaders for training and testing sets\n",
    "    train_class_loaders = subset.create_class_dataloaders(train_dataset, batch_size, binarize=binary, threshold=threshold)\n",
    "    test_class_loaders  = subset.create_class_dataloaders(test_dataset,  batch_size, binarize=binary, threshold=threshold)\n",
    "\n",
    "    print(\"Saving the Class Datasets\")\n",
    "    torch.save(train_class_loaders, 'datasets/train_class_loaders.pth')\n",
    "    torch.save(test_class_loaders, 'datasets/test_class_loaders.pth')\n",
    "\n",
    "    # Create TN/TP/FN/FP datasets\n",
    "    general_datasets        = subset.create_tn_tp_fn_fp_datasets(all_images_train, all_labels_train, all_predictions_train)\n",
    "    class_specific_datasets = subset.create_class_specific_datasets(all_images_train, all_labels_train, all_predictions_train)\n",
    "\n",
    "    print(\"Saving the General Datasets\")\n",
    "    torch.save(general_datasets, 'datasets/general_datasets.pth')\n",
    "\n",
    "    # For the general TN, TP, FN, FP datasets:\n",
    "    t_dataset = DataLoader(general_datasets['T'],batch_size=batch_size, shuffle=True, pin_memory=True, drop_last=True)\n",
    "    f_dataset = DataLoader(general_datasets['F'],batch_size=batch_size, shuffle=True, pin_memory=True, drop_last=True)\n",
    "\n",
    "    print(\"Saving the General Datasets\")\n",
    "    torch.save(t_dataset, 'datasets/t_dataset.pth')\n",
    "    torch.save(f_dataset, 'datasets/f_dataset.pth')\n",
    "\n",
    "    # For class-specific datasets (e.g., for class 5):\n",
    "    print(\"Saving the Class-Specific Datasets\")\n",
    "    for i in range(10): \n",
    "        class_specific_datasets['TP_class'][i] = DataLoader(class_specific_datasets['TP_class'][i],batch_size=batch_size, shuffle=True, pin_memory=True, drop_last=True)\n",
    "        class_specific_datasets['FP_class'][i] = DataLoader(class_specific_datasets['FP_class'][i],batch_size=batch_size, shuffle=True, pin_memory=True, drop_last=True)\n",
    "        class_specific_datasets['TN_class'][i] = DataLoader(class_specific_datasets['TN_class'][i],batch_size=batch_size, shuffle=True, pin_memory=True, drop_last=True)\n",
    "        class_specific_datasets['FN_class'][i] = DataLoader(class_specific_datasets['FN_class'][i],batch_size=batch_size, shuffle=True, pin_memory=True, drop_last=True)\n",
    "\n",
    "    torch.save(class_specific_datasets, 'datasets/class_specific_datasets.pth')    \n",
    "else: \n",
    "    t_dataset               = torch.load('datasets/t_dataset.pth')\n",
    "    f_dataset               = torch.load('datasets/f_dataset.pth')\n",
    "    class_specific_datasets = torch.load('datasets/class_specific_datasets.pth')\n",
    "    train_class_loaders     = torch.load('datasets/train_class_loaders.pth')\n",
    "    test_class_loaders      = torch.load('datasets/test_class_loaders.pth')\n",
    "    general_datasets        = torch.load('datasets/general_datasets.pth')"
   ]
  },
  {
   "cell_type": "markdown",
   "id": "1283f3f3-ef17-4774-a590-02489ad2d667",
   "metadata": {},
   "source": [
    "Class Specific Differences"
   ]
  },
  {
   "cell_type": "code",
   "execution_count": 48,
   "id": "3cca78da-be99-405f-86d3-2087cc506b6b",
   "metadata": {
    "tags": []
   },
   "outputs": [
    {
     "name": "stdout",
     "output_type": "stream",
     "text": [
      "Class 0\n"
     ]
    },
    {
     "name": "stderr",
     "output_type": "stream",
     "text": [
      "Processing MNIST images: 100%|██████████| 21/21 [00:02<00:00, 10.44it/s]\n"
     ]
    },
    {
     "name": "stdout",
     "output_type": "stream",
     "text": [
      "Class 1\n"
     ]
    },
    {
     "name": "stderr",
     "output_type": "stream",
     "text": [
      "Processing MNIST images: 100%|██████████| 21/21 [00:02<00:00,  9.81it/s]\n"
     ]
    },
    {
     "name": "stdout",
     "output_type": "stream",
     "text": [
      "Class 2\n"
     ]
    },
    {
     "name": "stderr",
     "output_type": "stream",
     "text": [
      "Processing MNIST images: 100%|██████████| 21/21 [00:02<00:00, 10.44it/s]\n"
     ]
    },
    {
     "name": "stdout",
     "output_type": "stream",
     "text": [
      "Class 3\n"
     ]
    },
    {
     "name": "stderr",
     "output_type": "stream",
     "text": [
      "Processing MNIST images: 100%|██████████| 21/21 [00:02<00:00, 10.32it/s]\n"
     ]
    },
    {
     "name": "stdout",
     "output_type": "stream",
     "text": [
      "Class 4\n"
     ]
    },
    {
     "name": "stderr",
     "output_type": "stream",
     "text": [
      "Processing MNIST images: 100%|██████████| 21/21 [00:02<00:00,  9.39it/s]\n"
     ]
    },
    {
     "name": "stdout",
     "output_type": "stream",
     "text": [
      "Class 5\n"
     ]
    },
    {
     "name": "stderr",
     "output_type": "stream",
     "text": [
      "Processing MNIST images: 100%|██████████| 21/21 [00:02<00:00, 10.42it/s]\n"
     ]
    },
    {
     "name": "stdout",
     "output_type": "stream",
     "text": [
      "Class 6\n"
     ]
    },
    {
     "name": "stderr",
     "output_type": "stream",
     "text": [
      "Processing MNIST images: 100%|██████████| 21/21 [00:02<00:00, 10.29it/s]\n"
     ]
    },
    {
     "name": "stdout",
     "output_type": "stream",
     "text": [
      "Class 7\n"
     ]
    },
    {
     "name": "stderr",
     "output_type": "stream",
     "text": [
      "Processing MNIST images: 100%|██████████| 21/21 [00:02<00:00, 10.30it/s]\n"
     ]
    },
    {
     "name": "stdout",
     "output_type": "stream",
     "text": [
      "Class 8\n"
     ]
    },
    {
     "name": "stderr",
     "output_type": "stream",
     "text": [
      "Processing MNIST images: 100%|██████████| 21/21 [00:02<00:00, 10.27it/s]\n"
     ]
    },
    {
     "name": "stdout",
     "output_type": "stream",
     "text": [
      "Class 9\n"
     ]
    },
    {
     "name": "stderr",
     "output_type": "stream",
     "text": [
      "Processing MNIST images: 100%|██████████| 21/21 [00:02<00:00, 10.17it/s]\n"
     ]
    }
   ],
   "source": [
    "outputs = [f\"L3_N0\", f\"L3_N1\", f\"L3_N2\", f\"L3_N3\", f\"L3_N4\", f\"L3_N5\", f\"L3_N6\", f\"L3_N7\", f\"L3_N8\", f\"L3_N9\"]\n",
    "\n",
    "p_maps = []\n",
    "sp_graphs = [] \n",
    "sp_diffs = [] \n",
    "for j, output_node in enumerate(outputs): \n",
    "    p_maps.append(cv2.imread(f\"mnist_averages/average_digit_{j}.png\")[4:24,4:24,1]/255)\n",
    "    sp_graph  = copy.deepcopy(gall)\n",
    "    sp_graph.compute_sp(p_maps[j])\n",
    "    sp_graphs.append(sp_graph)\n",
    "    sp_diffs.append(sp_graph.sub_sp(gall))\n",
    "    \n",
    "# Compute SF for each graph\n",
    "graphs = {}\n",
    "for g in range(10): \n",
    "    print(f\"Class {g}\")\n",
    "    graphs[g] = LogicGraph(model)\n",
    "    graphs[g].compute_sf(train_class_loaders[g])"
   ]
  },
  {
   "cell_type": "code",
   "execution_count": 49,
   "id": "0497f639-1ec5-44a7-a244-a1aa222bb954",
   "metadata": {
    "tags": []
   },
   "outputs": [
    {
     "name": "stdout",
     "output_type": "stream",
     "text": [
      "0\n"
     ]
    },
    {
     "name": "stderr",
     "output_type": "stream",
     "text": [
      "Processing MNIST images: 100%|██████████| 188/188 [00:09<00:00, 19.90it/s]\n"
     ]
    },
    {
     "name": "stdout",
     "output_type": "stream",
     "text": [
      "1\n"
     ]
    },
    {
     "name": "stderr",
     "output_type": "stream",
     "text": [
      "Processing MNIST images: 100%|██████████| 1/1 [00:00<00:00, 20.22it/s]\n",
      "Processing MNIST images: 100%|██████████| 188/188 [00:09<00:00, 19.83it/s]\n"
     ]
    },
    {
     "name": "stdout",
     "output_type": "stream",
     "text": [
      "2\n"
     ]
    },
    {
     "name": "stderr",
     "output_type": "stream",
     "text": [
      "Processing MNIST images: 100%|██████████| 1/1 [00:00<00:00, 20.46it/s]\n",
      "Processing MNIST images: 100%|██████████| 1/1 [00:00<00:00, 19.98it/s]\n",
      "Processing MNIST images: 100%|██████████| 188/188 [00:09<00:00, 19.80it/s]\n"
     ]
    },
    {
     "name": "stdout",
     "output_type": "stream",
     "text": [
      "3\n"
     ]
    },
    {
     "name": "stderr",
     "output_type": "stream",
     "text": [
      "Processing MNIST images: 100%|██████████| 2/2 [00:00<00:00, 20.62it/s]\n",
      "Processing MNIST images: 100%|██████████| 1/1 [00:00<00:00, 20.24it/s]\n",
      "Processing MNIST images: 100%|██████████| 187/187 [00:09<00:00, 19.75it/s]\n"
     ]
    },
    {
     "name": "stdout",
     "output_type": "stream",
     "text": [
      "4\n"
     ]
    },
    {
     "name": "stderr",
     "output_type": "stream",
     "text": [
      "Processing MNIST images: 100%|██████████| 2/2 [00:00<00:00, 20.55it/s]\n",
      "Processing MNIST images: 100%|██████████| 1/1 [00:00<00:00, 20.11it/s]\n",
      "Processing MNIST images: 100%|██████████| 187/187 [00:09<00:00, 19.78it/s]\n"
     ]
    },
    {
     "name": "stdout",
     "output_type": "stream",
     "text": [
      "5\n"
     ]
    },
    {
     "name": "stderr",
     "output_type": "stream",
     "text": [
      "Processing MNIST images: 100%|██████████| 2/2 [00:00<00:00, 20.62it/s]\n",
      "Processing MNIST images: 100%|██████████| 2/2 [00:00<00:00, 20.67it/s]\n",
      "Processing MNIST images: 100%|██████████| 187/187 [00:09<00:00, 19.75it/s]\n"
     ]
    },
    {
     "name": "stdout",
     "output_type": "stream",
     "text": [
      "6\n"
     ]
    },
    {
     "name": "stderr",
     "output_type": "stream",
     "text": [
      "Processing MNIST images: 100%|██████████| 1/1 [00:00<00:00, 20.32it/s]\n",
      "Processing MNIST images: 100%|██████████| 1/1 [00:00<00:00, 20.22it/s]\n",
      "Processing MNIST images: 100%|██████████| 188/188 [00:09<00:00, 19.72it/s]\n"
     ]
    },
    {
     "name": "stdout",
     "output_type": "stream",
     "text": [
      "7\n"
     ]
    },
    {
     "name": "stderr",
     "output_type": "stream",
     "text": [
      "Processing MNIST images: 100%|██████████| 1/1 [00:00<00:00, 20.51it/s]\n",
      "Processing MNIST images: 100%|██████████| 1/1 [00:00<00:00, 20.30it/s]\n",
      "Processing MNIST images: 100%|██████████| 188/188 [00:09<00:00, 19.54it/s]\n"
     ]
    },
    {
     "name": "stdout",
     "output_type": "stream",
     "text": [
      "8\n"
     ]
    },
    {
     "name": "stderr",
     "output_type": "stream",
     "text": [
      "Processing MNIST images: 100%|██████████| 1/1 [00:00<00:00, 20.00it/s]\n",
      "Processing MNIST images: 100%|██████████| 2/2 [00:00<00:00, 20.56it/s]\n",
      "Processing MNIST images: 100%|██████████| 188/188 [00:09<00:00, 20.41it/s]\n"
     ]
    },
    {
     "name": "stdout",
     "output_type": "stream",
     "text": [
      "9\n"
     ]
    },
    {
     "name": "stderr",
     "output_type": "stream",
     "text": [
      "Processing MNIST images: 100%|██████████| 2/2 [00:00<00:00, 20.41it/s]\n",
      "Processing MNIST images: 100%|██████████| 2/2 [00:00<00:00, 20.41it/s]\n",
      "Processing MNIST images: 100%|██████████| 187/187 [00:09<00:00, 20.35it/s]\n"
     ]
    }
   ],
   "source": [
    "# Compute SF for each graph\n",
    "fps = {}\n",
    "tps = {}\n",
    "fns = {}\n",
    "tns = {}\n",
    "for g in range(10): \n",
    "    print(g)\n",
    "    fps[g] = LogicGraph(model)\n",
    "    if [i for i in class_specific_datasets['FP_class'][g]] != []:\n",
    "        fps[g].compute_sf(class_specific_datasets['FP_class'][g])\n",
    "    #tps[g] = LogicGraph(model)\n",
    "    #if [i for i in class_specific_datasets['TP_class'][g]] != []:\n",
    "    #    tps[g].compute_sf(class_specific_datasets['TP_class'][g])\n",
    "    fns[g] = LogicGraph(model)\n",
    "    if [i for i in class_specific_datasets['FN_class'][g]] != []:\n",
    "        fns[g].compute_sf(class_specific_datasets['FN_class'][g])\n",
    "    tns[g] = LogicGraph(model)\n",
    "    if [i for i in class_specific_datasets['TN_class'][g]] != []:\n",
    "        tns[g].compute_sf(class_specific_datasets['TN_class'][g])"
   ]
  },
  {
   "cell_type": "code",
   "execution_count": 50,
   "id": "747f9edf-9998-474f-963b-555bbe428c0e",
   "metadata": {
    "tags": []
   },
   "outputs": [
    {
     "name": "stdout",
     "output_type": "stream",
     "text": [
      "Computing diffs\n",
      "Computing centered\n",
      "Computing specific\n"
     ]
    }
   ],
   "source": [
    "# Compute SF Diff for each combination\n",
    "print(\"Computing diffs\")\n",
    "diffs = {}\n",
    "for i in range(10): \n",
    "    diff = {} \n",
    "    for j in range(10): \n",
    "        diff[j] = graphs[i] - graphs[j]\n",
    "    diffs[i] = diff\n",
    "\n",
    "print(\"Computing centered\")\n",
    "centered = {}\n",
    "for i in range(10): \n",
    "    centered[i] = graphs[i] - gall\n",
    "    \n",
    "print(\"Computing specific\")\n",
    "specific = {}\n",
    "for i in range(10): \n",
    "    specific[i] = graphs[i] - tns[i]    "
   ]
  },
  {
   "cell_type": "markdown",
   "id": "ad3632c5-07e4-46a4-b877-f7d44bd622fb",
   "metadata": {},
   "source": [
    "Plot the Differences in the switching frequency per Class Prediction"
   ]
  },
  {
   "cell_type": "code",
   "execution_count": 51,
   "id": "7a3119c1-d38d-48a9-b1a0-1bfb334db94c",
   "metadata": {
    "tags": []
   },
   "outputs": [
    {
     "data": {
      "image/png": "[encoded data removed]",
      "text/plain": [
       "<Figure size 1000x1000 with 100 Axes>"
      ]
     },
     "metadata": {},
     "output_type": "display_data"
    }
   ],
   "source": [
    "fig, ax = plt.subplots(10,10,figsize=(10,10))\n",
    "for i in range(10): \n",
    "    for j in range(10): \n",
    "        sf = list(nx.get_node_attributes(diffs[i][j].g,\"sf\").values())\n",
    "        ax[i][j].hist(sf,bins=20)"
   ]
  },
  {
   "cell_type": "markdown",
   "id": "b3faee65-87c1-4572-ba02-b7e1ef1da33a",
   "metadata": {},
   "source": [
    "Initialize helper functions for visualizing the FAN-IN"
   ]
  },
  {
   "cell_type": "code",
   "execution_count": 55,
   "id": "2c6a0d79-fff6-4e30-a60b-5d1359c1bc59",
   "metadata": {
    "tags": []
   },
   "outputs": [],
   "source": [
    "a_not_list = [\"not_implied_by\", \"not_or\",\"not_xor\",\"not_a\",\"implies\",\"not_and\"]\n",
    "b_not_list = [\"not_implies\", \"not_or\",\"not_xor\",\"not_b\",\"implied_by\",\"not_and\"]\n",
    "\n",
    "def find_fan_in(G, output_node, threshold,metric=\"sf\"):\n",
    "    \"\"\"\n",
    "    Find all input nodes connected to the given output node.\n",
    "    \"\"\"\n",
    "    fan_in = set()\n",
    "    nodes_to_check = [(output_node,1)]\n",
    "    input_set = []\n",
    "    while nodes_to_check:\n",
    "        \n",
    "        # Get node and node properties \n",
    "        parent_node, dpo = nodes_to_check.pop(0)\n",
    "        new_fan_in  = []\n",
    "        child_gates = []\n",
    "        parent_type = G.nodes[parent_node][\"gate\"]\n",
    "        \n",
    "        # Account for all predesesors\n",
    "        for child_node in list(G.predecessors(parent_node)): \n",
    "            \n",
    "            desired_parent_output = dpo*1\n",
    "            \n",
    "            # Get type of child node \n",
    "            child_type = G.nodes[child_node][\"gate\"]\n",
    "            \n",
    "            # Account for output case \n",
    "            if parent_type == \"output\": \n",
    "\n",
    "                # Check whether the current node is contributing to the class output\n",
    "                desired_child_output = desired_parent_output\n",
    "                if G.nodes[child_node][metric] > threshold: \n",
    "                    child_gates.append((child_node, desired_child_output))\n",
    "                    new_fan_in.append((child_node,  desired_child_output))\n",
    "\n",
    "            # Account for hidden-layer case \n",
    "            elif child_node != \"input\": \n",
    "\n",
    "                # Get the current wire type\n",
    "                props     = G.get_edge_data(child_node, parent_node)\n",
    "                wire_type = props[\"ab\"] if \"ab\" in props.keys() else None\n",
    "\n",
    "                # Check whether the current wire increases the class score by being zero\n",
    "                if (wire_type == \"a\" and parent_type in a_not_list) or (wire_type == \"b\" and parent_type in b_not_list): \n",
    "                    \n",
    "                    # Adjust the \"desired child output\"\n",
    "                    desired_child_output = -desired_parent_output\n",
    "                    \n",
    "                    # Check whether the current node is contributing to the class output\n",
    "                    if G.nodes[child_node][metric] <= threshold: # Less than because we contribute by being a zero \n",
    "                        child_gates.append((child_node,desired_child_output))\n",
    "                        new_fan_in.append((child_node,desired_child_output))\n",
    "                    \n",
    "                # Case where the current wire increases the class score by being a one\n",
    "                else: \n",
    "                    \n",
    "                    # Adjust the \"desired child output\"\n",
    "                    desired_child_output = desired_parent_output\n",
    "                    \n",
    "                    # Check whether the current node is contributing to the class output\n",
    "                    if G.nodes[child_node][metric] > threshold: \n",
    "                        child_gates.append((child_node,desired_child_output))\n",
    "                        new_fan_in.append((child_node,desired_child_output))\n",
    "\n",
    "            # Account for input case\n",
    "            else: \n",
    "                \n",
    "                # Get the current wire type\n",
    "                props = G.get_edge_data(child_node, parent_node)\n",
    "                wire_type = props[\"ab\"] if \"ab\" in props.keys() else None\n",
    "\n",
    "                # Check whether the current wire increases the class score by being zero\n",
    "                if (wire_type == \"a\" and parent_type in a_not_list) or (wire_type == \"b\" and parent_type in b_not_list): \n",
    "                    \n",
    "                    # Adjust the \"desired child output\"\n",
    "                    child_sign = -1*parent_sign\n",
    "                    new_fan_in.append(  (child_node, child_sign))\n",
    "                    input_set.append( (child_node, child_sign))\n",
    "                    \n",
    "                # Case where the current wire increases the class score by being a one\n",
    "                else: \n",
    "                    \n",
    "                    # Adjust the \"desired child output\"\n",
    "                    child_sign = parent_sign\n",
    "                    new_fan_in.append(  (child_node, child_sign))\n",
    "                    input_set.append( (child_node, child_sign))\n",
    "                        \n",
    "        fan_in.update(new_fan_in)\n",
    "        nodes_to_check.extend(child_gates)\n",
    "\n",
    "    return fan_in, input_set\n",
    "\n",
    "def node_to_pixel(node_id):\n",
    "    \"\"\"\n",
    "    Convert a node ID (e.g., 'L0_Gate 1') to pixel coordinates.\n",
    "    Assumes the input layer corresponds to a 28x28 image (MNIST format).\n",
    "    \"\"\"\n",
    "    if (node_id != \"HIGH\") and (node_id != \"LOW\"): \n",
    "        layer, gate = node_id.split('_')\n",
    "        \n",
    "        gate_num = int(gate.split(\"N\")[1]) - 1  # Convert 'Gate X' to zero-based index\n",
    "\n",
    "        if layer == 'L0':  # Input layer\n",
    "            y = gate_num // 20\n",
    "            x = gate_num % 20\n",
    "            return (x, y)\n",
    "        \n",
    "    return None  # For non-input layers, return None\n",
    "\n",
    "def visualize_fan_in(G, output_node,threshold,signed=True, show=False,metric=\"sf\"):\n",
    "    \"\"\"\n",
    "    Visualize the fan-in of the given output node as highlighted pixels in an image.\n",
    "    \"\"\"\n",
    "    fan_in,pixels = find_fan_in(G, output_node,threshold,metric)\n",
    "    # Create a blank 28x28 image\n",
    "    img = np.zeros((20, 20))\n",
    "    \n",
    "    # Highlight pixels corresponding to input nodes in the fan-in\n",
    "    for node,sign in fan_in:\n",
    "        pixel = node_to_pixel(node)\n",
    "        if pixel:\n",
    "            x, y = pixel\n",
    "            if signed: \n",
    "                img[y, x] += sign  # Set pixel to white (1)\n",
    "            else: \n",
    "                img[y, x] += 1  # Set pixel to white (1)\n",
    "\n",
    "    if show: \n",
    "        # Plot the image\n",
    "        plt.imshow(img)\n",
    "        plt.title(f\"Fan-in visualization for {output_node}\")\n",
    "        plt.colorbar()\n",
    "        plt.axis('off')\n",
    "        plt.show()\n",
    "    \n",
    "    return img, fan_in,pixels"
   ]
  },
  {
   "cell_type": "markdown",
   "id": "3a548d62-e58a-4f3d-a757-50e95fd5f4a9",
   "metadata": {},
   "source": [
    "Visualize the saliency maps for the FAN-IN (Class specific SF, and Global SF)"
   ]
  },
  {
   "cell_type": "code",
   "execution_count": null,
   "id": "54a404eb-a2b3-45f9-bcd9-5e7faecd11ed",
   "metadata": {
    "tags": []
   },
   "outputs": [
    {
     "data": {
      "image/png": "[encoded data removed]",
      "text/plain": [
       "<Figure size 1500x1000 with 10 Axes>"
      ]
     },
     "metadata": {},
     "output_type": "display_data"
    },
    {
     "data": {
      "image/png": "[encoded data removed]",
      "text/plain": [
       "<Figure size 1500x1000 with 10 Axes>"
      ]
     },
     "metadata": {},
     "output_type": "display_data"
    },
    {
     "data": {
      "image/png": "[encoded data removed]",
      "text/plain": [
       "<Figure size 1500x1000 with 10 Axes>"
      ]
     },
     "metadata": {},
     "output_type": "display_data"
    },
    {
     "data": {
      "image/png": "[encoded data removed]",
      "text/plain": [
       "<Figure size 1500x1000 with 10 Axes>"
      ]
     },
     "metadata": {},
     "output_type": "display_data"
    },
    {
     "data": {
      "image/png": "[encoded data removed]",
      "text/plain": [
       "<Figure size 1500x1000 with 10 Axes>"
      ]
     },
     "metadata": {},
     "output_type": "display_data"
    }
   ],
   "source": [
    "thresholds = [float(i)/100-1.0 for i in range(200)]\n",
    "#thresholds = [0.0]\n",
    "outputs = [f\"L3_N0\", f\"L3_N1\", f\"L3_N2\", f\"L3_N3\", f\"L3_N4\", f\"L3_N5\", f\"L3_N6\", f\"L3_N7\", f\"L3_N8\", f\"L3_N9\"]\n",
    "test = False\n",
    "\n",
    "\n",
    "def plot_row(g,thresholds,signed,metric): \n",
    "    # Plot pixel attribution  \n",
    "    fig, ax = plt.subplots(1, len(outputs), figsize=(15, 10))\n",
    "    for i, output_node in enumerate(outputs): \n",
    "        G = g[i].g\n",
    "        im = []\n",
    "        for threshold in thresholds: \n",
    "            img, fan_in,pixels = visualize_fan_in(G, output_node, threshold,signed, False,metric)\n",
    "            im.append(img)\n",
    "        img  = np.average(im,axis=0)\n",
    "        ax[i].imshow(img,cmap=\"inferno\")\n",
    "        ax[i].title.set_text(\" \")#(f\"{i}\")\n",
    "        ax[i].set_axis_off()\n",
    "    plt.show()\n",
    "    \n",
    "print(\"#################################################### MNIST ####################################################\")if test else None \n",
    "import copy \n",
    "fig, ax = plt.subplots(1, len(outputs), figsize=(15, 10))\n",
    "p_maps = []\n",
    "sp_graphs = [] \n",
    "sp_diffs = [] \n",
    "for j, output_node in enumerate(outputs): \n",
    "    p_maps.append(cv2.imread(f\"mnist_averages/average_digit_{j}.png\")[4:24,4:24,1]/255)\n",
    "    sp_graph  = copy.deepcopy(gall)\n",
    "    sp_graph.compute_sp(p_maps[j])\n",
    "    sp_graphs.append(sp_graph)\n",
    "    sp_diffs.append(sp_graph.sub_sp(gall))\n",
    "    ax[j].imshow(p_maps[j])\n",
    "    ax[j].title.set_text(\" \")#(f\"{j}\")\n",
    "    ax[j].set_axis_off()\n",
    "plt.show()\n",
    "#burn = cv2.imread(f\"mnist_averages/average_all_digits.png\")\n",
    "#ax[len(outputs)].imshow(burn[4:24,4:24,1])\n",
    "\n",
    "\n",
    "t1 = [float(i)/100 for i in range(100)]\n",
    "t2 = [float(i)/100-0.5 for i in range(100)]\n",
    "\n",
    "\n",
    "print(\"#################################################### Switch Probability ####################################################\")if test else None \n",
    "\n",
    "print(\"--- Uniform 0.5\") if test else None \n",
    "gall.compute_sp(np.ones((20,20))-0.5)\n",
    "plot_row([gall for i in range(len(graphs))],t1,True,\"sp\")\n",
    "\n",
    "print(\"--- Average of All MNIST Digits\") if test else None \n",
    "p_maps.append(cv2.imread(f\"mnist_averages/average_all_digits.png\")[4:24,4:24,1]/255)\n",
    "gall.compute_sp(p_maps[-1])\n",
    "plot_row([gall for i in range(len(graphs))],t1,True,\"sp\")\n",
    "\n",
    "print(\"--- Average of Class-Specific MNIST Digits\") if test else None \n",
    "plot_row(sp_graphs,t1,True,\"sp\")\n",
    "\n",
    "print(\"--- (Class-Specific-Average) - (Global-Average)\") if test else None \n",
    "plot_row(sp_diffs,t2,True,\"sp\")\n",
    "\n",
    "print(\"#################################################### Switch Frequency ####################################################\")if test else None \n",
    "\n",
    "fig, ax = plt.subplots(1, len(outputs), figsize=(15, 10))\n",
    "p_maps = []\n",
    "sp_graphs = [] \n",
    "sp_diffs = [] \n",
    "for j, output_node in enumerate(outputs): \n",
    "    p_maps.append(cv2.imread(f\"mnist_averages/average_digit_{j}.png\")[4:24,4:24,1]/255)\n",
    "    sp_graph  = copy.deepcopy(gall)\n",
    "    sp_graph.compute_sp(p_maps[j])\n",
    "    sp_graphs.append(sp_graph)\n",
    "    sp_diffs.append(sp_graph.sub_sp(gall))\n",
    "    ax[j].imshow(p_maps[j])\n",
    "    ax[j].title.set_text(\" \")#(f\"{j}\")\n",
    "    ax[j].set_axis_off()\n",
    "plt.show()\n",
    "\n",
    "#print(\"--- Raw Association\") if test else None \n",
    "#plot_row(graphs,[-1],False,\"sf\")\n",
    "\n",
    "print(\"--- (Signed Association)\") if test else None \n",
    "plot_row(graphs,[-1,0],True,\"sf\")\n",
    "\n",
    "print(\"--- (All MNIST)\") if test else None \n",
    "plot_row([gall for i in range(len(graphs))],t1,True,\"sf\")\n",
    "\n",
    "print(\"--- (Class-Specific)\") if test else None \n",
    "plot_row(graphs,t1,True,\"sf\")\n",
    "\n",
    "print(\"--- (Class-Specific) - (All MNIST)\") if test else None \n",
    "plot_row(specific,t2,True,\"sf\")"
   ]
  },
  {
   "cell_type": "markdown",
   "id": "82764403-d0b9-47b2-8b97-114951a98cfa",
   "metadata": {},
   "source": [
    "Show and generate local explanations"
   ]
  },
  {
   "cell_type": "code",
   "execution_count": null,
   "id": "92ac54b9-14a8-4706-bce8-fab551978f7e",
   "metadata": {
    "tags": []
   },
   "outputs": [],
   "source": [
    "test = nx.get_node_attributes(g.g,\"sf\")\n",
    "t = [test[i] for i in nx.get_node_attributes(g.g,\"sf\").keys()]"
   ]
  },
  {
   "cell_type": "code",
   "execution_count": 28,
   "id": "212d5bce-fe25-43bb-af9a-1a0999f9f0b4",
   "metadata": {
    "tags": []
   },
   "outputs": [
    {
     "ename": "NameError",
     "evalue": "name 'class_specific_datasets' is not defined",
     "output_type": "error",
     "traceback": [
      "\u001b[0;31m---------------------------------------------------------------------------\u001b[0m",
      "\u001b[0;31mNameError\u001b[0m                                 Traceback (most recent call last)",
      "Cell \u001b[0;32mIn[28], line 2\u001b[0m\n\u001b[1;32m      1\u001b[0m \u001b[38;5;66;03m# Switching Frequency\u001b[39;00m\n\u001b[0;32m----> 2\u001b[0m \u001b[38;5;28;01mfor\u001b[39;00m k,(data,label) \u001b[38;5;129;01min\u001b[39;00m \u001b[38;5;28menumerate\u001b[39m(\u001b[43mclass_specific_datasets\u001b[49m[\u001b[38;5;124m'\u001b[39m\u001b[38;5;124mFN_class\u001b[39m\u001b[38;5;124m'\u001b[39m][\u001b[38;5;241m8\u001b[39m]\u001b[38;5;241m.\u001b[39mdataset): \n\u001b[1;32m      3\u001b[0m     g \u001b[38;5;241m=\u001b[39m LogicGraph(model\u001b[38;5;241m.\u001b[39mdiff_logic_model)\n\u001b[1;32m      4\u001b[0m     g\u001b[38;5;241m.\u001b[39mcompute_sf(data)\n",
      "\u001b[0;31mNameError\u001b[0m: name 'class_specific_datasets' is not defined"
     ]
    }
   ],
   "source": [
    "# Switching Frequency\n",
    "for k,(data,label) in enumerate(class_specific_datasets['FN_class'][8].dataset): \n",
    "    g = LogicGraph(model)\n",
    "    g.compute_sf(data)\n",
    "    \n",
    "    fig, ax = plt.subplots(1, len(outputs)+1, figsize=(15, 10))\n",
    "    thresholds = [0.5]\n",
    "    for i, output_node in enumerate(outputs): \n",
    "        im = []\n",
    "        for threshold in thresholds: \n",
    "            img, fan_in,pixels = visualize_fan_in(g.g, output_node, threshold,True,False)\n",
    "            im.append(img)\n",
    "\n",
    "        img  = np.average(im,axis=0)\n",
    "        overlap = np.array(img==(data*2-1).cpu().detach().numpy()).astype(int)\n",
    "        \n",
    "        ax[i].imshow((img*overlap).reshape((20,20,1)))\n",
    "        ax[i].title.set_text(f\"{i}-{np.sum(np.abs(img))}\")\n",
    "    ax[len(outputs)].imshow(data.reshape((20,20,1)))\n",
    "    ax[len(outputs)].title.set_text(f\"{np.argmax(np.array(g.forward(data).cpu().detach()))}\")\n",
    "    plt.show()\n",
    "    \n",
    "    if k > 5: \n",
    "        break "
   ]
  },
  {
   "cell_type": "code",
   "execution_count": 27,
   "id": "1b79c94e-b4ce-49db-b28c-d5f2c7a52472",
   "metadata": {
    "tags": []
   },
   "outputs": [
    {
     "ename": "NameError",
     "evalue": "name 'class_specific_datasets' is not defined",
     "output_type": "error",
     "traceback": [
      "\u001b[0;31m---------------------------------------------------------------------------\u001b[0m",
      "\u001b[0;31mNameError\u001b[0m                                 Traceback (most recent call last)",
      "Cell \u001b[0;32mIn[27], line 2\u001b[0m\n\u001b[1;32m      1\u001b[0m \u001b[38;5;66;03m# Switching Probability\u001b[39;00m\n\u001b[0;32m----> 2\u001b[0m \u001b[38;5;28;01mfor\u001b[39;00m k,(data,label) \u001b[38;5;129;01min\u001b[39;00m \u001b[38;5;28menumerate\u001b[39m(\u001b[43mclass_specific_datasets\u001b[49m[\u001b[38;5;124m'\u001b[39m\u001b[38;5;124mFN_class\u001b[39m\u001b[38;5;124m'\u001b[39m][\u001b[38;5;241m8\u001b[39m]\u001b[38;5;241m.\u001b[39mdataset): \n\u001b[1;32m      3\u001b[0m     g \u001b[38;5;241m=\u001b[39m LogicGraph(model\u001b[38;5;241m.\u001b[39mdiff_logic_model)\n\u001b[1;32m      4\u001b[0m     g\u001b[38;5;241m.\u001b[39mcompute_sp(data)\n",
      "\u001b[0;31mNameError\u001b[0m: name 'class_specific_datasets' is not defined"
     ]
    }
   ],
   "source": [
    "# Switching Probability\n",
    "for k,(data,label) in enumerate(class_specific_datasets['FN_class'][8].dataset): \n",
    "    g = LogicGraph(model)\n",
    "    g.compute_sp(data)\n",
    "    \n",
    "    fig, ax = plt.subplots(1, len(outputs)+1, figsize=(15, 10))\n",
    "    thresholds = [0]\n",
    "    for i, output_node in enumerate(outputs): \n",
    "        im = []\n",
    "        for threshold in thresholds: \n",
    "            img, fan_in,pixels = visualize_fan_in(g.g, output_node, threshold,True,False,metric=\"sp\")\n",
    "            im.append(img)\n",
    "\n",
    "        img  = np.average(im,axis=0)\n",
    "        overlap = np.array(img==(data*2-1).cpu().detach().numpy()).astype(int)\n",
    "        \n",
    "        ax[i].imshow((img*overlap).reshape((20,20,1)))\n",
    "        ax[i].title.set_text(f\"{i}-{np.sum(np.abs(img))}\")\n",
    "    ax[len(outputs)].imshow(data.reshape((20,20,1)))\n",
    "    ax[len(outputs)].title.set_text(f\"{np.argmax(np.array(g.forward(data).cpu().detach()))}\")\n",
    "    plt.show()\n",
    "    \n",
    "    if k > 5: \n",
    "        break "
   ]
  },
  {
   "cell_type": "code",
   "execution_count": 29,
   "id": "84627231-8763-4d2b-ba94-6de46d6e1556",
   "metadata": {
    "tags": []
   },
   "outputs": [
    {
     "ename": "AttributeError",
     "evalue": "'DiffLogic' object has no attribute 'diff_logic_model'",
     "output_type": "error",
     "traceback": [
      "\u001b[0;31m---------------------------------------------------------------------------\u001b[0m",
      "\u001b[0;31mAttributeError\u001b[0m                            Traceback (most recent call last)",
      "Cell \u001b[0;32mIn[29], line 3\u001b[0m\n\u001b[1;32m      1\u001b[0m test \u001b[38;5;241m=\u001b[39m \u001b[38;5;28;01mTrue\u001b[39;00m\n\u001b[1;32m      2\u001b[0m \u001b[38;5;28;01mfor\u001b[39;00m k,(data,label) \u001b[38;5;129;01min\u001b[39;00m \u001b[38;5;28menumerate\u001b[39m(train_loader\u001b[38;5;241m.\u001b[39mdataset): \n\u001b[0;32m----> 3\u001b[0m     g \u001b[38;5;241m=\u001b[39m LogicGraph(\u001b[43mmodel\u001b[49m\u001b[38;5;241;43m.\u001b[39;49m\u001b[43mdiff_logic_model\u001b[49m)\n\u001b[1;32m      4\u001b[0m     g\u001b[38;5;241m.\u001b[39mcompute_sf(data)\n\u001b[1;32m      6\u001b[0m     fig, ax \u001b[38;5;241m=\u001b[39m plt\u001b[38;5;241m.\u001b[39msubplots(\u001b[38;5;241m1\u001b[39m, \u001b[38;5;28mlen\u001b[39m(outputs)\u001b[38;5;241m+\u001b[39m\u001b[38;5;241m1\u001b[39m, figsize\u001b[38;5;241m=\u001b[39m(\u001b[38;5;241m15\u001b[39m, \u001b[38;5;241m10\u001b[39m))\n",
      "File \u001b[0;32m/blue/woodard/mkunzlermaldaner/project/ExpLogic/explogic_env/lib/python3.9/site-packages/torch/nn/modules/module.py:1130\u001b[0m, in \u001b[0;36mModule.__getattr__\u001b[0;34m(self, name)\u001b[0m\n\u001b[1;32m   1128\u001b[0m     \u001b[38;5;28;01mif\u001b[39;00m name \u001b[38;5;129;01min\u001b[39;00m modules:\n\u001b[1;32m   1129\u001b[0m         \u001b[38;5;28;01mreturn\u001b[39;00m modules[name]\n\u001b[0;32m-> 1130\u001b[0m \u001b[38;5;28;01mraise\u001b[39;00m \u001b[38;5;167;01mAttributeError\u001b[39;00m(\u001b[38;5;124m\"\u001b[39m\u001b[38;5;124m'\u001b[39m\u001b[38;5;132;01m{}\u001b[39;00m\u001b[38;5;124m'\u001b[39m\u001b[38;5;124m object has no attribute \u001b[39m\u001b[38;5;124m'\u001b[39m\u001b[38;5;132;01m{}\u001b[39;00m\u001b[38;5;124m'\u001b[39m\u001b[38;5;124m\"\u001b[39m\u001b[38;5;241m.\u001b[39mformat(\n\u001b[1;32m   1131\u001b[0m     \u001b[38;5;28mtype\u001b[39m(\u001b[38;5;28mself\u001b[39m)\u001b[38;5;241m.\u001b[39m\u001b[38;5;18m__name__\u001b[39m, name))\n",
      "\u001b[0;31mAttributeError\u001b[0m: 'DiffLogic' object has no attribute 'diff_logic_model'"
     ]
    }
   ],
   "source": [
    "test = True\n",
    "for k,(data,label) in enumerate(train_loader.dataset): \n",
    "    g = LogicGraph(model.diff_logic_model)\n",
    "    g.compute_sf(data)\n",
    "    \n",
    "    fig, ax = plt.subplots(1, len(outputs)+1, figsize=(15, 10))\n",
    "    thresholds = [0.0]\n",
    "    for i, output_node in enumerate(outputs): \n",
    "        im = []\n",
    "        for threshold in thresholds: \n",
    "            img, fan_in,pixels = visualize_fan_in(g.g, output_node, threshold,True,False,test)\n",
    "            im.append(img)\n",
    "\n",
    "        img  = np.average(im,axis=0)\n",
    "        overlap = np.array(img==(data*2-1).cpu().detach().numpy()).astype(int)\n",
    "        \n",
    "        ax[i].imshow((img*overlap).reshape((20,20,1)))\n",
    "        ax[i].title.set_text(f\"{i}-{np.sum(np.abs(img))}\")\n",
    "    ax[len(outputs)].imshow(data.reshape((20,20,1)))\n",
    "    ax[len(outputs)].title.set_text(f\"{np.argmax(np.array(g.forward(data).cpu().detach()))}\")\n",
    "    plt.show()\n",
    "    \n",
    "    if k > 5: \n",
    "        break "
   ]
  },
  {
   "cell_type": "code",
   "execution_count": 30,
   "id": "96dd2236-2c37-4da7-94ae-31de3f87466e",
   "metadata": {
    "tags": []
   },
   "outputs": [
    {
     "ename": "NameError",
     "evalue": "name 'class_specific_datasets' is not defined",
     "output_type": "error",
     "traceback": [
      "\u001b[0;31m---------------------------------------------------------------------------\u001b[0m",
      "\u001b[0;31mNameError\u001b[0m                                 Traceback (most recent call last)",
      "Cell \u001b[0;32mIn[30], line 1\u001b[0m\n\u001b[0;32m----> 1\u001b[0m \u001b[43mclass_specific_datasets\u001b[49m[\u001b[38;5;124m'\u001b[39m\u001b[38;5;124mFP_class\u001b[39m\u001b[38;5;124m'\u001b[39m][index]\u001b[38;5;241m.\u001b[39mdataset\n",
      "\u001b[0;31mNameError\u001b[0m: name 'class_specific_datasets' is not defined"
     ]
    }
   ],
   "source": [
    "class_specific_datasets['FP_class'][index].dataset"
   ]
  },
  {
   "cell_type": "code",
   "execution_count": 31,
   "id": "3c654762-644b-43ab-9aca-b57b98d3ac1d",
   "metadata": {
    "tags": []
   },
   "outputs": [
    {
     "ename": "NameError",
     "evalue": "name 'class_specific_datasets' is not defined",
     "output_type": "error",
     "traceback": [
      "\u001b[0;31m---------------------------------------------------------------------------\u001b[0m",
      "\u001b[0;31mNameError\u001b[0m                                 Traceback (most recent call last)",
      "Cell \u001b[0;32mIn[31], line 5\u001b[0m\n\u001b[1;32m      1\u001b[0m \u001b[38;5;28;01mfrom\u001b[39;00m \u001b[38;5;21;01mmatplotlib\u001b[39;00m \u001b[38;5;28;01mimport\u001b[39;00m rc\n\u001b[1;32m      3\u001b[0m index \u001b[38;5;241m=\u001b[39m \u001b[38;5;241m1\u001b[39m\n\u001b[0;32m----> 5\u001b[0m \u001b[38;5;28;01mfor\u001b[39;00m k,(data,label) \u001b[38;5;129;01min\u001b[39;00m \u001b[38;5;28menumerate\u001b[39m(\u001b[43mclass_specific_datasets\u001b[49m[\u001b[38;5;124m'\u001b[39m\u001b[38;5;124mTP_class\u001b[39m\u001b[38;5;124m'\u001b[39m][index]\u001b[38;5;241m.\u001b[39mdataset): \n\u001b[1;32m      6\u001b[0m     g \u001b[38;5;241m=\u001b[39m LogicGraph(model\u001b[38;5;241m.\u001b[39mdiff_logic_model)\n\u001b[1;32m      7\u001b[0m     g\u001b[38;5;241m.\u001b[39mcompute_sf(data)\n",
      "\u001b[0;31mNameError\u001b[0m: name 'class_specific_datasets' is not defined"
     ]
    }
   ],
   "source": [
    "from matplotlib import rc\n",
    "\n",
    "index = 1\n",
    "\n",
    "for k,(data,label) in enumerate(class_specific_datasets['TP_class'][index].dataset): \n",
    "    g = LogicGraph(model)\n",
    "    g.compute_sf(data)\n",
    "    \n",
    "    fig, ax = plt.subplots(1, len(outputs)+1, figsize=(15, 10))\n",
    "    thresholds = [0.0]\n",
    "    for i, output_node in enumerate(outputs): \n",
    "        im = []\n",
    "        for threshold in thresholds: \n",
    "            img, fan_in,pixels = visualize_fan_in(g.g, output_node, threshold,True,False)\n",
    "            im.append(img)\n",
    "\n",
    "        img  = np.average(im,axis=0)\n",
    "        overlap = np.array(img==(data*2-1).cpu().detach().numpy()).astype(int)\n",
    "        \n",
    "        ax[i+1].imshow((img*overlap).reshape((20,20,1)),\"inferno\",vmin=-1,vmax=1)\n",
    "        ax[i+1].title.set_text(f\"C: {i}; $\\Sigma$={int(np.sum(np.abs(img)*overlap))}\")\n",
    "        \n",
    "        ax[i+1].set_axis_off()\n",
    "        \n",
    "    ax[0].imshow(data.reshape((20,20,1)),\"inferno\")\n",
    "    ax[0].title.set_text(f\"C: {np.argmax(np.array(g.forward(data).cpu().detach()))} (TP)\")\n",
    "    ax[0].set_axis_off()\n",
    "    plt.show()\n",
    "    \n",
    "    break \n",
    "        \n",
    "for k,(data,label) in enumerate(class_specific_datasets['FP_class'][index].dataset): \n",
    "    g = LogicGraph(model)\n",
    "    g.compute_sf(data)\n",
    "    \n",
    "    fig, ax = plt.subplots(1, len(outputs)+1, figsize=(15, 10))\n",
    "    thresholds = [0.0]\n",
    "    for i, output_node in enumerate(outputs): \n",
    "        im = []\n",
    "        for threshold in thresholds: \n",
    "            img, fan_in,pixels = visualize_fan_in(g.g, output_node, threshold,True,False)\n",
    "            im.append(img)\n",
    "\n",
    "        img  = np.average(im,axis=0)\n",
    "        overlap = np.array(img==(data*2-1).cpu().detach().numpy()).astype(int)\n",
    "        \n",
    "        ax[i+1].imshow((img*overlap).reshape((20,20,1)),\"inferno\",vmin=-1,vmax=1)\n",
    "        ax[i+1].title.set_text(f\"C: {i}; $\\Sigma$={int(np.sum(np.abs(img)*overlap))}\")\n",
    "        \n",
    "        ax[i+1].set_axis_off()\n",
    "        \n",
    "    ax[0].imshow(data.reshape((20,20,1)),\"inferno\")\n",
    "    ax[0].title.set_text(f\"C: {np.argmax(np.array(g.forward(data).cpu().detach()))} (FP)\")\n",
    "    ax[0].set_axis_off()\n",
    "    plt.show()\n",
    "    \n",
    "    break \n",
    "    \n",
    "        \n",
    "for k,(data,label) in enumerate(class_specific_datasets['FN_class'][index].dataset): \n",
    "    g = LogicGraph(model)\n",
    "    g.compute_sf(data)\n",
    "    \n",
    "    fig, ax = plt.subplots(1, len(outputs)+1, figsize=(15, 10))\n",
    "    thresholds = [0.0]\n",
    "    for i, output_node in enumerate(outputs): \n",
    "        im = []\n",
    "        for threshold in thresholds: \n",
    "            img, fan_in,pixels = visualize_fan_in(g.g, output_node, threshold,True,False)\n",
    "            im.append(img)\n",
    "\n",
    "        img  = np.average(im,axis=0)\n",
    "        overlap = np.array(img==(data*2-1).cpu().detach().numpy()).astype(int)\n",
    "        \n",
    "        ax[i+1].imshow((img*overlap).reshape((20,20,1)),\"inferno\")\n",
    "        ax[i+1].title.set_text(f\"C: {i}; $\\Sigma$={int(np.sum(np.abs(img*overlap)))}\")\n",
    "        \n",
    "        ax[i+1].set_axis_off()\n",
    "        \n",
    "    ax[0].imshow(data.reshape((20,20,1)),\"inferno\")\n",
    "    ax[0].title.set_text(f\"C: {np.argmax(np.array(g.forward(data).cpu().detach()))} (FN)\")\n",
    "    ax[0].set_axis_off()\n",
    "    plt.show()\n",
    "    \n",
    "    break     "
   ]
  },
  {
   "cell_type": "markdown",
   "id": "4b9fb989-c76f-44fe-9103-af4219cb52ee",
   "metadata": {},
   "source": [
    "#### **Regions associated with FN and FP cases**"
   ]
  },
  {
   "cell_type": "code",
   "execution_count": null,
   "id": "e3ca4428-e69b-4e68-a620-5cc724b6f10e",
   "metadata": {},
   "outputs": [],
   "source": []
  },
  {
   "cell_type": "markdown",
   "id": "2320d56b-0d86-4910-8c86-ace5bf1064b9",
   "metadata": {},
   "source": [
    "### **Further Analysis**"
   ]
  },
  {
   "cell_type": "markdown",
   "id": "4809bc19-042f-444e-9092-420182833dd1",
   "metadata": {},
   "source": [
    "#### **Data Loading**"
   ]
  },
  {
   "cell_type": "code",
   "execution_count": 54,
   "id": "0351dd8a-a411-4b03-93eb-1913d007ac18",
   "metadata": {
    "tags": []
   },
   "outputs": [
    {
     "name": "stdout",
     "output_type": "stream",
     "text": [
      "No CSV files found to concatenate.\n"
     ]
    }
   ],
   "source": [
    "# Create outputs directory if it doesn't exist\n",
    "if not os.path.exists(\"./outputs\"):\n",
    "    os.mkdir(\"./outputs\")\n",
    "\n",
    "# Read and concatenate CSVs in ./outputs\n",
    "df_list = []\n",
    "folder = \"./outputs/\"\n",
    "for file in os.listdir(folder):\n",
    "    if file.endswith(\".csv\"):\n",
    "        df_list.append(pd.read_csv(os.path.join(folder, file)))\n",
    "\n",
    "if df_list:\n",
    "    dfs = pd.concat(df_list).reset_index(drop=True)\n",
    "else:\n",
    "    print(\"No CSV files found to concatenate.\")"
   ]
  },
  {
   "cell_type": "markdown",
   "id": "bce1e816-5149-4204-8c15-86c7c4bcb3ca",
   "metadata": {},
   "source": [
    "#### **Histogram Plotting & Statistics**"
   ]
  },
  {
   "cell_type": "code",
   "execution_count": null,
   "id": "d1f216c9-8e49-4b83-ba37-6802fe2fc6ab",
   "metadata": {},
   "outputs": [],
   "source": [
    "# Set up histogram parameters\n",
    "step_size = 0.25\n",
    "max_num   = 20\n",
    "bins      = [i * step_size for i in range(int(max_num/step_size))]\n",
    "alpha_val = 0.5\n",
    "\n",
    "# Example sets of dtypes, labels, and legends\n",
    "dtypes = [\"ri\", \"rip\", \"rin\"]\n",
    "labels = [\"+/- Imp.\", \"+ Imp.\", \"- Imp.\"]\n",
    "legend = [\"rand\", \"ig\", \"vg\", \"dl\", \"lsp\", \"lsp\"]"
   ]
  },
  {
   "cell_type": "markdown",
   "id": "9ff6f914-e2c4-4166-bfe7-3619223fd235",
   "metadata": {},
   "source": [
    "Function Definitions"
   ]
  },
  {
   "cell_type": "code",
   "execution_count": null,
   "id": "976f0c66-bc32-4281-8740-1a18d92a66d6",
   "metadata": {},
   "outputs": [],
   "source": [
    "# Stripe plot with 'inferno' colormap\n",
    "def plt_stripe(dtype, datas, bins, alpha, titles, legend, label):\n",
    "    fig, ax = plt.subplots(1, 1, figsize=(15, 2))\n",
    "    colormap = plt.cm.inferno\n",
    "    num_colors = len(datas)\n",
    "    \n",
    "    for i, (data, title) in enumerate(zip(datas, titles)):\n",
    "        # Filter out zeros (if needed)\n",
    "        data = [d for d in data if d != 0]\n",
    "        color = colormap(i / num_colors)  # pick color from colormap\n",
    "        ax.hist(data, bins=bins, alpha=alpha, color=color, label=title)\n",
    "    \n",
    "    ax.set_title(label)\n",
    "    ax.set_xlabel(\"Distance Traveled (L2)\")\n",
    "    ax.set_ylabel(\"Counts\")\n",
    "    ax.legend(legend)\n",
    "\n",
    "# Calculate statistics (mean, std, etc.)\n",
    "def calculate_statistics(datas, titles, label):\n",
    "    stats = []\n",
    "    for data, title in zip(datas, titles):\n",
    "        # Count and filter\n",
    "        zeros  = [d for d in data if d == 0]\n",
    "        larges = [d for d in data if d > 50]\n",
    "        data   = [d for d in data if (d != 0) and (d < 100)]\n",
    "        \n",
    "        # Compute\n",
    "        mean_val = np.mean(data) if len(data) > 0 else np.nan\n",
    "        std_val  = np.std(data)  if len(data) > 0 else np.nan\n",
    "        num_large = len(larges)\n",
    "        num_zeros = len(zeros)\n",
    "        num_valid = len(data)\n",
    "        total     = num_large + num_zeros + num_valid\n",
    "        pct_valid = (num_valid / total * 100) if total else np.nan\n",
    "        \n",
    "        stats.append([\n",
    "            label, title, mean_val, std_val, \n",
    "            num_large, num_zeros, num_valid, pct_valid\n",
    "        ])\n",
    "    return stats"
   ]
  },
  {
   "cell_type": "markdown",
   "id": "5474ad76-bfb3-4497-9fe1-63f1a0ef3025",
   "metadata": {},
   "source": [
    "Collecting and Displaying Stats"
   ]
  },
  {
   "cell_type": "code",
   "execution_count": null,
   "id": "a4cfeb12-8bba-414c-a4cb-bfa6fceb8662",
   "metadata": {},
   "outputs": [],
   "source": [
    "# Collect stats across different dtypes\n",
    "all_stats = []\n",
    "for dt, lbl in zip(dtypes, labels):\n",
    "    # Titles to collect from the DataFrame\n",
    "    titles = [\n",
    "        f\"ig_d_r3\",\n",
    "        f\"ig_d_{dt}\",\n",
    "        f\"vg_d_{dt}\",\n",
    "        f\"dl_l_sf_d_{dt}\",\n",
    "        f\"dl_g_sf_d_{dt}\",\n",
    "        f\"dl_c_sf_d_{dt}\",\n",
    "        f\"dl_s_sf_d_{dt}\",\n",
    "        f\"dl_l_sp_d_{dt}\",\n",
    "        f\"dl_g_sp_d_{dt}\",\n",
    "        f\"dl_c_sp_d_{dt}\",\n",
    "        f\"dl_s_sp_d_{dt}\",\n",
    "        f\"dl_z_sp_d_{dt}\",\n",
    "    ]\n",
    "    data = [dfs[t] for t in titles if t in dfs.columns]\n",
    "    all_stats.extend(calculate_statistics(data, titles, lbl))\n",
    "    plt_stripe(dt, data, bins, alpha_val, titles, legend, lbl)\n",
    "\n",
    "# Create a DataFrame of statistics and display\n",
    "columns = [\n",
    "    \"Comparison Type\", \"Data Type\", \"Mean\", \"Standard Deviation\",\n",
    "    \"# DNC\", \"# Zeros\", \"# Valid\", \"% Valid\"\n",
    "]\n",
    "df_stats = pd.DataFrame(all_stats, columns=columns)\n",
    "print(df_stats)"
   ]
  },
  {
   "cell_type": "markdown",
   "id": "066cd6ce-99ee-4bef-9449-db52d598d4d0",
   "metadata": {},
   "source": [
    "#### **ImageConversion & Side-by-Side Display**"
   ]
  },
  {
   "cell_type": "code",
   "execution_count": null,
   "id": "b066fda9-5cef-4ecc-982f-de2e1411d316",
   "metadata": {},
   "outputs": [],
   "source": [
    "# Helper function to convert a string representation of a 2D array into a NumPy array\n",
    "def convert_to_array(string, shape=(20, 20)):\n",
    "    \"\"\"\n",
    "    Cleans and converts a string like '[1 2 3 ...]' \n",
    "    into a NumPy array with given shape.\n",
    "    \"\"\"\n",
    "    cleaned = string.strip('[]').replace('\\n', ' ')\n",
    "    split_vals = cleaned.split()\n",
    "    float_vals = [float(v) for v in split_vals]\n",
    "    return np.array(float_vals).reshape(shape)\n",
    "\n",
    "# Example: Display several images side by side\n",
    "# (Assume columns 'image', 'vg_s', 'dl_c_sf_s', etc. exist in dfs)\n",
    "\n",
    "cols_to_show = [\"image\", \"vg_s\", \"dl_c_sf_s\", \"dl_g_sf_s\", \"ig_s\"]\n",
    "num_images = len(cols_to_show)\n",
    "fig, axes = plt.subplots(1, num_images, figsize=(12, 2))\n",
    "\n",
    "for i, col in enumerate(cols_to_show):\n",
    "    if col in dfs.columns:\n",
    "        arr = convert_to_array(dfs[col].iloc[0])\n",
    "        axes[i].imshow(arr, cmap='inferno')\n",
    "        axes[i].set_title(col)\n",
    "        axes[i].axis(\"off\")\n",
    "\n",
    "plt.tight_layout()\n",
    "plt.show()"
   ]
  },
  {
   "cell_type": "markdown",
   "id": "7bf93a59-7d8e-4478-8f35-e9ad11e5c420",
   "metadata": {},
   "source": [
    "#### **Saliency & Target Generation**"
   ]
  },
  {
   "cell_type": "code",
   "execution_count": null,
   "id": "bce5bcc2-cc24-459d-8f26-72c9e6523e5c",
   "metadata": {},
   "outputs": [],
   "source": [
    "import torch\n",
    "\n",
    "def get_targets(image, saliency, n_rands=100):\n",
    "    \"\"\"\n",
    "    Generate various target images by adding/subtracting saliency,\n",
    "    zeros/ones baselines, and random half-ones baselines.\n",
    "    \"\"\"\n",
    "    # Convert to float if needed\n",
    "    image = image.float()\n",
    "    saliency = saliency.float()\n",
    "    \n",
    "    # L2 normalize saliency\n",
    "    unit_vec = saliency.view(-1)\n",
    "    norm = torch.norm(unit_vec, p=2)\n",
    "    unit_vec = unit_vec / (norm + 1e-9)  # avoid division by zero\n",
    "    unit_mat = unit_vec.view(saliency.shape)\n",
    "    \n",
    "    # Dictionary to hold different target variations\n",
    "    targets = {\n",
    "        \"pp\": image + unit_mat * 20.0,   # example scaling factor\n",
    "        \"pn\": image - unit_mat * 20.0,\n",
    "        \"np\": torch.tensor((image - 0.5) * torch.abs(unit_mat) + 0.5),\n",
    "        \"nn\": torch.tensor((image - 0.5) * -torch.abs(unit_mat) + 0.5),\n",
    "        \"sp\": saliency,\n",
    "        \"sn\": -saliency,\n",
    "        \"1\":  torch.ones_like(saliency),\n",
    "        \"0\":  torch.zeros_like(saliency),\n",
    "    }\n",
    "    \n",
    "    # Add random targets\n",
    "    for i in range(n_rands):\n",
    "        targets[f\"r{i}\"] = (torch.rand_like(saliency) > 0.5).int()\n",
    "    \n",
    "    return targets\n",
    "\n",
    "# Example usage:\n",
    "# Convert a row's data to torch tensors\n",
    "sample_img  = torch.tensor(convert_to_array(dfs[\"image\"].iloc[0]))\n",
    "sample_sal  = torch.tensor(convert_to_array(dfs[\"vg_s\"].iloc[0]))\n",
    "targets_dict = get_targets(sample_img, sample_sal)\n",
    "\n",
    "# Display 5 of them side by side\n",
    "fig, axes = plt.subplots(1, 5, figsize=(12, 2))\n",
    "for idx, key in enumerate(list(targets_dict.keys())[:5]):\n",
    "    axes[idx].imshow(targets_dict[key].numpy(), cmap='inferno')\n",
    "    axes[idx].set_title(key)\n",
    "    axes[idx].axis(\"off\")\n",
    "\n",
    "plt.tight_layout()\n",
    "plt.show()"
   ]
  },
  {
   "cell_type": "markdown",
   "id": "1c0ef565-a0b6-4dbf-a8b8-adcaf386825a",
   "metadata": {
    "jp-MarkdownHeadingCollapsed": true,
    "tags": []
   },
   "source": [
    "### **Hardware**"
   ]
  },
  {
   "cell_type": "markdown",
   "id": "f2c06262-afe8-4b02-883c-c044a060fc39",
   "metadata": {
    "jp-MarkdownHeadingCollapsed": true,
    "tags": []
   },
   "source": [
    "#### **Verilog Conversion**"
   ]
  },
  {
   "cell_type": "markdown",
   "id": "f9e20496-c3ac-4d87-8e55-359ac0069b03",
   "metadata": {},
   "source": [
    "Logic gate to Verilog expression mapping"
   ]
  },
  {
   "cell_type": "code",
   "execution_count": null,
   "id": "2846e8b8-9b6f-49dc-adbc-7bfe8fe0a27d",
   "metadata": {
    "tags": []
   },
   "outputs": [],
   "source": [
    "logic_gate_verilog = {\n",
    "    \"0\": \"1'b0\",\n",
    "    \"A∧B\": \"({a}) & ({b})\",\n",
    "    \"¬(A⇒B)\": \"({a}) & ~({b})\",\n",
    "    \"A\": \"{a}\",\n",
    "    \"¬(B⇒A)\": \"({b}) & ~({a})\",\n",
    "    \"B\": \"{b}\",\n",
    "    \"A⊕B\": \"({a}) ^ ({b})\",\n",
    "    \"A∨B\": \"({a}) | ({b})\",\n",
    "    \"¬(A∨B)\": \"~(({a}) | ({b}))\",\n",
    "    \"¬(A⊕B)\": \"~(({a}) ^ ({b}))\",\n",
    "    \"¬B\": \"~({b})\",\n",
    "    \"B⇒A\": \"~({b}) | ({a})\",\n",
    "    \"¬A\": \"~({a})\",\n",
    "    \"A⇒B\": \"~({a}) | ({b})\",\n",
    "    \"¬(A∧B)\": \"~(({a}) & ({b}))\",\n",
    "    \"1\": \"1'b1\"\n",
    "}"
   ]
  },
  {
   "cell_type": "code",
   "execution_count": null,
   "id": "f0a28141-16b1-4e15-8adc-a4aa7cb405cf",
   "metadata": {
    "tags": []
   },
   "outputs": [],
   "source": [
    "side = 16 # pixels in one side of the image\n",
    "N_input = 16 * 16  # number of input dimensions\n",
    "\n",
    "# converts the learned logic gates to verilog or vhdl \n",
    "def generate_verilog(model, filename=\"logic_network.v\"):\n",
    "    \n",
    "    N_layers = len(model.logic_layers)\n",
    "\n",
    "    # gets number of neurons per layer\n",
    "    neurons_per_layer = [layer.weights.size()[0] for layer in model.logic_layers]\n",
    "    \n",
    "    # Set the output size to the number of neurons in the last layer\n",
    "    N_output = neurons_per_layer[-1]\n",
    "    \n",
    "    with open(filename, 'w') as file:\n",
    "        # module declaration\n",
    "        file.write(\"module logic_network(\\n\")\n",
    "        file.write(f\"    input wire [{N_input-1}:0] inputs,\\n\")\n",
    "        file.write(f\"    output wire [{N_output-1}:0] outputs\\n\")\n",
    "        file.write(\");\\n\\n\")\n",
    "\n",
    "        # declares wires for internal layers\n",
    "        for layer_index in range(N_layers - 1):\n",
    "            N_neurons = neurons_per_layer[layer_index]\n",
    "            file.write(f\"    wire [{N_neurons -1}:0] layer{layer_index}_outputs;\\n\")\n",
    "        file.write(\"\\n\")\n",
    "\n",
    "        logic_operations = list(logic_gate_verilog.keys())\n",
    "\n",
    "        for layer_index in range(N_layers):\n",
    "            logic_layer = model.logic_layers[layer_index]\n",
    "\n",
    "            # gets input and output indices\n",
    "            input_indices = logic_layer.indices[0].cpu().numpy()  # first input indices\n",
    "            output_indices = logic_layer.indices[1].cpu().numpy()  # second input indices\n",
    "\n",
    "            neuron_gates = [torch.argmax(logic_layer.weights[neuron]).item()\n",
    "                            for neuron in range(logic_layer.weights.size()[0])]\n",
    "            connections = {i: (input_indices[i], output_indices[i]) for i in range(len(neuron_gates))}\n",
    "\n",
    "            N_neurons = neurons_per_layer[layer_index]\n",
    "\n",
    "            # determines input wires\n",
    "            if layer_index == 0:\n",
    "                input_wire_base = \"inputs\"\n",
    "            else:\n",
    "                input_wire_base = f\"layer{layer_index -1}_outputs\"\n",
    "\n",
    "            # determines output wires\n",
    "            if layer_index == N_layers - 1:\n",
    "                output_wire_base = \"outputs\"\n",
    "            else:\n",
    "                output_wire_base = f\"layer{layer_index}_outputs\"\n",
    "\n",
    "            # assign statements for this layer\n",
    "            for neuron_id in range(N_neurons):\n",
    "                a_idx, b_idx = connections[neuron_id]\n",
    "\n",
    "                # maps indices to input wires\n",
    "                a_wire = f\"{input_wire_base}[{a_idx}]\"\n",
    "                b_wire = f\"{input_wire_base}[{b_idx}]\"\n",
    "\n",
    "                # gets gate\n",
    "                gate_op = logic_operations[neuron_gates[neuron_id]]\n",
    "                gate = logic_gate_verilog[gate_op].format(a=a_wire, b=b_wire)\n",
    "\n",
    "                # assigns to output wire\n",
    "                output_wire = f\"{output_wire_base}[{neuron_id}]\"\n",
    "\n",
    "                file.write(f\"    assign {output_wire} = {gate};\\n\")\n",
    "\n",
    "        file.write(\"endmodule\\n\")\n",
    "        print('success')\n",
    "\n",
    "# generates Verilog file for all trained models\n",
    "for model_idx in range(len(trained_models)):\n",
    "    i = model_idx + 1\n",
    "    generate_verilog(trained_models[model_idx], filename=f\"verilog/{side}x{side}/model_{i:03d}_logic_network.v\")"
   ]
  },
  {
   "cell_type": "markdown",
   "id": "3e7325be-1e5f-4c16-8a49-a66327d183bd",
   "metadata": {
    "jp-MarkdownHeadingCollapsed": true,
    "tags": []
   },
   "source": [
    "#### **VHDL Conversion**"
   ]
  },
  {
   "cell_type": "markdown",
   "id": "9c22f5f2-059b-453e-b32e-9634cf8a9e3c",
   "metadata": {},
   "source": [
    "Logic gate to Verilog expression mapping"
   ]
  },
  {
   "cell_type": "code",
   "execution_count": null,
   "id": "78b2f39a-e420-4b4d-93a6-1c0182bd15b6",
   "metadata": {
    "tags": []
   },
   "outputs": [],
   "source": [
    "logic_gate_vhdl = {\n",
    "    \"0\": \"'0'\",\n",
    "    \"A∧B\": \"({a}) and ({b})\",\n",
    "    \"¬(A⇒B)\": \"({a}) and not ({b})\",\n",
    "    \"A\": \"{a}\",\n",
    "    \"¬(B⇒A)\": \"({b}) and not ({a})\",\n",
    "    \"B\": \"{b}\",\n",
    "    \"A⊕B\": \"({a}) xor ({b})\",\n",
    "    \"A∨B\": \"({a}) or ({b})\",\n",
    "    \"¬(A∨B)\": \"not(({a}) or ({b}))\",\n",
    "    \"¬(A⊕B)\": \"not(({a}) xor ({b}))\",\n",
    "    \"¬B\": \"not({b})\",\n",
    "    \"B⇒A\": \"not({b}) or ({a})\",\n",
    "    \"¬A\": \"not({a})\",\n",
    "    \"A⇒B\": \"not({a}) or ({b})\",\n",
    "    \"¬(A∧B)\": \"not(({a}) and ({b}))\",\n",
    "    \"1\": \"'1'\"\n",
    "}"
   ]
  },
  {
   "cell_type": "code",
   "execution_count": null,
   "id": "20389672-5297-4dd4-a368-1b96df1445ba",
   "metadata": {
    "tags": []
   },
   "outputs": [],
   "source": [
    "side = 16 # pixels in one side of the image\n",
    "N_input = 16 * 16  # number of input dimensions\n",
    "\n",
    "# Converts the learned logic gates to VHDL\n",
    "def generate_vhdl(model, filename=\"logic_network.vhdl\"):\n",
    "    N_layers = len(model.logic_layers)\n",
    "    neurons_per_layer = [layer.weights.size()[0] for layer in model.logic_layers]\n",
    "\n",
    "    # set output size to the number of neurons in the last layer\n",
    "    N_output = neurons_per_layer[-1]\n",
    "    \n",
    "    with open(filename, 'w') as file:\n",
    "        # Library and entity declaration\n",
    "        file.write(\"library IEEE;\\n\")\n",
    "        file.write(\"use IEEE.STD_LOGIC_1164.ALL;\\n\\n\")\n",
    "        file.write(\"entity logic_network is\\n\")\n",
    "        file.write(f\"    port (\\n\")\n",
    "        file.write(f\"        inputs : in std_logic_vector({N_input - 1} downto 0);\\n\")\n",
    "        file.write(f\"        outputs : out std_logic_vector({N_output - 1} downto 0)\\n\")\n",
    "        file.write(\"    );\\n\")\n",
    "        file.write(\"end logic_network;\\n\\n\")\n",
    "        file.write(\"architecture Behavioral of logic_network is\\n\")\n",
    "\n",
    "        # Declare signals for internal layers\n",
    "        for layer_index in range(N_layers - 1):\n",
    "            N_neurons = neurons_per_layer[layer_index]\n",
    "            file.write(f\"    signal layer{layer_index}_outputs : std_logic_vector({N_neurons - 1} downto 0);\\n\")\n",
    "        file.write(\"\\nbegin\\n\\n\")\n",
    "\n",
    "        logic_operations = list(logic_gate_vhdl.keys())\n",
    "\n",
    "        # Generate VHDL code for each layer\n",
    "        for layer_index in range(N_layers):\n",
    "            logic_layer = model.logic_layers[layer_index]\n",
    "\n",
    "            # Get input and output indices\n",
    "            input_indices = logic_layer.indices[0].cpu().numpy()  # first input indices\n",
    "            output_indices = logic_layer.indices[1].cpu().numpy()  # second input indices\n",
    "\n",
    "            neuron_gates = [torch.argmax(logic_layer.weights[neuron]).item()\n",
    "                            for neuron in range(logic_layer.weights.size()[0])]\n",
    "            connections = {i: (input_indices[i], output_indices[i]) for i in range(len(neuron_gates))}\n",
    "\n",
    "            N_neurons = neurons_per_layer[layer_index]\n",
    "\n",
    "            # Determine input signals\n",
    "            if layer_index == 0:\n",
    "                input_wire_base = \"inputs\"\n",
    "            else:\n",
    "                input_wire_base = f\"layer{layer_index -1}_outputs\"\n",
    "\n",
    "            # Determine output signals\n",
    "            if layer_index == N_layers - 1:\n",
    "                output_wire_base = \"outputs\"\n",
    "            else:\n",
    "                output_wire_base = f\"layer{layer_index}_outputs\"\n",
    "\n",
    "            # Assign statements for each neuron in this layer\n",
    "            for neuron_id in range(N_neurons):\n",
    "                a_idx, b_idx = connections[neuron_id]\n",
    "\n",
    "                # Map indices to input signals\n",
    "                a_wire = f\"{input_wire_base}({a_idx})\"\n",
    "                b_wire = f\"{input_wire_base}({b_idx})\"\n",
    "\n",
    "                # Get the gate operation\n",
    "                gate_op = logic_operations[neuron_gates[neuron_id]]\n",
    "                gate = logic_gate_vhdl[gate_op].format(a=a_wire, b=b_wire)\n",
    "\n",
    "                # Assign to output signal\n",
    "                output_wire = f\"{output_wire_base}({neuron_id})\"\n",
    "                file.write(f\"    {output_wire} <= {gate};\\n\")\n",
    "\n",
    "        file.write(\"\\nend Behavioral;\\n\")\n",
    "        print('success')\n",
    "\n",
    "# Generates VHDL files for all trained models\n",
    "for model_idx in range(len(trained_models)):\n",
    "    i = model_idx + 1\n",
    "    generate_vhdl(trained_models[model_idx], filename=f\"vhdl/{side}x{side}/model_{i:03d}_logic_network.vhdl\")"
   ]
  },
  {
   "cell_type": "markdown",
   "id": "b15d3597-9cf6-4688-a0ab-a676848f4439",
   "metadata": {
    "jp-MarkdownHeadingCollapsed": true,
    "tags": []
   },
   "source": [
    "#### **Predicting from Hex**"
   ]
  },
  {
   "cell_type": "markdown",
   "id": "b59df202-6740-4136-82ad-2ad266c20eb6",
   "metadata": {},
   "source": [
    "Sanity check to see that the FPGA output matches the model predictions on the same data"
   ]
  },
  {
   "cell_type": "code",
   "execution_count": null,
   "id": "dac4a4f5-4b7f-47be-bf77-6864016839c7",
   "metadata": {
    "tags": []
   },
   "outputs": [],
   "source": [
    "import numpy as np\n",
    "import re\n",
    "\n",
    "def load_images_from_hex_file(filename):\n",
    "    images = []\n",
    "    hex_pattern = re.compile(r'^[0-9a-fA-F]+$')  # only allows valid hex characters\n",
    "\n",
    "    with open(filename, 'r') as file:\n",
    "        for line in file:\n",
    "            if ':' in line:\n",
    "                hex_data = line.split(':')[1].strip().strip(';')\n",
    "                \n",
    "                # check if hex_data is a valid hexadecimal string\n",
    "                if hex_pattern.match(hex_data):\n",
    "                    # convert to binary and pad to 256 bits\n",
    "                    bin_data = bin(int(hex_data, 16))[2:].zfill(256)\n",
    "                    image = np.array([int(bit) for bit in bin_data], dtype=np.uint8).reshape(16, 16)\n",
    "                    images.append(image)\n",
    "                else:\n",
    "                    print(f\"Skipping invalid line: {line.strip()}\")\n",
    "\n",
    "    return np.array(images)\n",
    "\n",
    "# loading images\n",
    "filename = 'mnist_input.mif'  \n",
    "images = load_images_from_hex_file(filename)"
   ]
  },
  {
   "cell_type": "code",
   "execution_count": null,
   "id": "fe7da784-e8c6-47b5-af6f-4c8b09e1dcbe",
   "metadata": {
    "tags": []
   },
   "outputs": [],
   "source": [
    "def run_inference_on_images(model, images):\n",
    "    model.eval()  # sets model to evaluation mode\n",
    "    predictions = []\n",
    "    \n",
    "    # starts inference time\n",
    "    start_time = time.time()\n",
    "    \n",
    "    for img in images:\n",
    "        # flatten each 16x16 image to a 1D tensor with 256 elements\n",
    "        input_data = torch.tensor(img.flatten(), dtype=torch.float32).unsqueeze(0).to('cuda' if torch.cuda.is_available() else 'cpu')\n",
    "        \n",
    "        with torch.no_grad():  # disable gradient computation for inference\n",
    "            output = model(input_data)\n",
    "            _, predicted_label = torch.max(output, 1)  # get the predicted label\n",
    "            predictions.append(predicted_label.item())\n",
    "    \n",
    "    # end timing inference\n",
    "    end_time = time.time()\n",
    "    inference_time = end_time - start_time  # total inference time in seconds\n",
    "    avg_inference_time = inference_time / len(images)\n",
    "    \n",
    "    return predictions, avg_inference_time\n",
    "\n",
    "# dictionary to store the predictions and avg inference times for each of the 25 models    \n",
    "predictions = {}\n",
    "avg_inference_times = {}\n",
    "\n",
    "for model_idx in trained_models:\n",
    "    prediction, avg_inference_time = run_inference_on_images(trained_models[model_idx], images)\n",
    "    predictions[model_idx] = prediction\n",
    "    avg_inference_times[model_idx] = avg_inference_time"
   ]
  },
  {
   "cell_type": "code",
   "execution_count": null,
   "id": "685d6ebd-1029-41b0-945b-e255cca2ec6d",
   "metadata": {
    "tags": []
   },
   "outputs": [],
   "source": [
    "from difflogic import CompiledLogicNet"
   ]
  },
  {
   "cell_type": "code",
   "execution_count": null,
   "id": "9689d378-2324-496d-bcb2-6d06d5220c4d",
   "metadata": {
    "tags": []
   },
   "outputs": [],
   "source": [
    "def run_inference_with_packbits(model, images):\n",
    "    model.eval()  # Set model to evaluation mode\n",
    "    predictions = []\n",
    "\n",
    "    # Start timing the inference\n",
    "    start_time = time.time()\n",
    "\n",
    "    # Loop through each image\n",
    "    with torch.no_grad():  # No gradient computation needed\n",
    "        for img in images:\n",
    "            # Convert image to boolean tensor and flatten\n",
    "            print(img)\n",
    "            img_tensor = torch.tensor(img, dtype=torch.bool).view(1, -1)  # Shape: [1, flattened_dim]\n",
    "            print(img_tensor)\n",
    "                \n",
    "            # Convert to PackBitsTensor for efficient inference\n",
    "            packed_input = difflogic.PackBitsTensor(img_tensor)\n",
    "            print(packed_input)\n",
    "            \n",
    "            # Perform inference with PackBitsTensor\n",
    "            output = model(packed_input)\n",
    "\n",
    "            # Get predicted class\n",
    "            _, predicted_label = torch.max(output, 1)\n",
    "            predictions.append(predicted_label.item())\n",
    "\n",
    "    # End timing the inference\n",
    "    end_time = time.time()\n",
    "    inference_time = end_time - start_time  # Total inference time in seconds\n",
    "    avg_inference_time = inference_time / len(images)\n",
    "\n",
    "    return predictions, avg_inference_time\n",
    "\n",
    "# Assuming `images` is a numpy array of shape [num_images, height, width]\n",
    "predictions = {}\n",
    "avg_inference_times = {}\n",
    "\n",
    "model = trained_models\n",
    "model.implementation = 'cuda'\n",
    "for model_idx, trained_model in trained_models.items():\n",
    "    prediction, avg_inference_time = run_inference_with_packbits(trained_model, images)\n",
    "    predictions[model_idx] = prediction\n",
    "    avg_inference_times[model_idx] = avg_inference_time\n"
   ]
  },
  {
   "cell_type": "code",
   "execution_count": null,
   "id": "cca015aa-a294-4600-a80b-d4c9e41438d5",
   "metadata": {
    "tags": []
   },
   "outputs": [],
   "source": [
    "# displays some sample images with predictions\n",
    "def display_images_side_by_side(images, predictions, num_images=10, title=\"Model\", accuracy=None, avg_inference_time=None):\n",
    "    \n",
    "    # converts avg_inference_time from seconds to milliseconds\n",
    "    avg_inference_time_ms = avg_inference_time * 1000 if avg_inference_time is not None else 0\n",
    "    \n",
    "    fig, axes = plt.subplots(1, num_images, figsize=(15, 2))  \n",
    "    \n",
    "    # sets big title above all images with accuracy and inference time\n",
    "    fig.suptitle(f\"{title}\\nAccuracy: {accuracy:.2%} | Avg Inference Time: {avg_inference_time_ms:.2f} ms\", \n",
    "                 fontsize=14, fontweight='bold', y=1.1)\n",
    "    \n",
    "    for i in range(num_images):\n",
    "        axes[i].imshow(images[i], cmap='gray')\n",
    "        axes[i].set_title(f\"Pred: {predictions[i]}\")\n",
    "        axes[i].axis('off')  \n",
    "    \n",
    "    plt.tight_layout()\n",
    "    plt.show()\n",
    "\n",
    "# loops through each model and display images with respective accuracy and inference time\n",
    "for model_name, preds in predictions.items():\n",
    "    # gets accuracy and inference time for the current model\n",
    "    accuracy = trained_models_accuracies[model_name]\n",
    "    avg_inference_time = avg_inference_times[model_name]\n",
    "    # displaying the first 10 images side by side with their predictions\n",
    "    display_images_side_by_side(\n",
    "        images, preds, num_images=10, \n",
    "        title=f'Model {model_name}', \n",
    "        accuracy=accuracy, \n",
    "        avg_inference_time=avg_inference_time\n",
    "    )"
   ]
  }
 ],
 "metadata": {
  "kernelspec": {
   "display_name": "ExpLogic",
   "language": "python",
   "name": "difflogic_env"
  },
  "language_info": {
   "codemirror_mode": {
    "name": "ipython",
    "version": 3
   },
   "file_extension": ".py",
   "mimetype": "text/x-python",
   "name": "python",
   "nbconvert_exporter": "python",
   "pygments_lexer": "ipython3",
   "version": "3.9.21"
  }
 },
 "nbformat": 4,
 "nbformat_minor": 5
}
