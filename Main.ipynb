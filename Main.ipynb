{
 "cells": [
  {
   "cell_type": "markdown",
   "id": "267af5dd-e83a-4431-8036-c75321cb3945",
   "metadata": {
    "tags": []
   },
   "source": [
    "# **ExpLogic**"
   ]
  },
  {
   "cell_type": "markdown",
   "id": "f568cabd-3e11-474b-af13-f6c0c668454d",
   "metadata": {
    "tags": []
   },
   "source": [
    "### **Setting up**"
   ]
  },
  {
   "cell_type": "markdown",
   "id": "df65bb0b-594d-4717-bd3c-63b04b9d864b",
   "metadata": {
    "tags": []
   },
   "source": [
    "#### **Dependencies**"
   ]
  },
  {
   "cell_type": "code",
   "execution_count": 73,
   "id": "fb5dd1c0-73cf-4679-ae21-6fa00a85a395",
   "metadata": {
    "tags": []
   },
   "outputs": [
    {
     "name": "stdout",
     "output_type": "stream",
     "text": [
      "Available GPUs: 4\n"
     ]
    }
   ],
   "source": [
    "# System Utilities\n",
    "import os\n",
    "import time\n",
    "import copy\n",
    "import random\n",
    "import pickle\n",
    "import importlib as lib\n",
    "from collections import defaultdict\n",
    "\n",
    "# Data Processing\n",
    "import numpy as np\n",
    "import pandas as pd\n",
    "import yaml\n",
    "\n",
    "# PyTorch\n",
    "import torch\n",
    "import torch.nn as nn\n",
    "from torch.utils.data import DataLoader, Dataset, TensorDataset, Subset\n",
    "\n",
    "# Image Processing\n",
    "import cv2\n",
    "import matplotlib.pyplot as plt\n",
    "from matplotlib import rc\n",
    "import torchvision.transforms as transforms\n",
    "from torchvision.transforms import Resize, ToTensor, Compose, Lambda\n",
    "\n",
    "# Dataset Utilities\n",
    "from utils import mnist_dataset\n",
    "from utils import subset_loaders as subset\n",
    "from utils import data_getter as dat\n",
    "\n",
    "# Metrics and Analysis\n",
    "from sklearn.metrics import precision_recall_curve\n",
    "from tqdm import tqdm\n",
    "\n",
    "# DiffLogic and Logic Graph\n",
    "from difflogic import LogicLayer, GroupSum, PackBitsTensor\n",
    "from utils import LogicGraph as lg\n",
    "\n",
    "# Configuration Management\n",
    "from hydra import initialize, compose\n",
    "\n",
    "# Check GPU Availability\n",
    "print(f\"Available GPUs: {torch.cuda.device_count()}\")"
   ]
  },
  {
   "cell_type": "markdown",
   "id": "be99c41f-b5c7-4d64-a704-5a003a5b56c2",
   "metadata": {
    "tags": []
   },
   "source": [
    "#### **Dataset**"
   ]
  },
  {
   "cell_type": "markdown",
   "id": "63f8096d-fc17-46d7-861e-685d2fe12dbb",
   "metadata": {},
   "source": [
    "Tunable Variables"
   ]
  },
  {
   "cell_type": "code",
   "execution_count": 74,
   "id": "47ea8409-a084-4bee-8121-96acd99bb28e",
   "metadata": {
    "tags": []
   },
   "outputs": [],
   "source": [
    "# Configurable options\n",
    "crop          = None             # (x,x) else None: Removes border of Mnist, False: Keeps black border around digits\n",
    "dataset_name  = \"fashion_mnist\"  # \"mnist\"/\"fashion_mnist\" \n",
    "bpp           = 1                # Bits-Per-Pixels (fixed at 1 for ExpLogic for the binary case) "
   ]
  },
  {
   "cell_type": "markdown",
   "id": "f63667e4-7675-4c59-a6f3-18f4acd21475",
   "metadata": {},
   "source": [
    "Set Seed for Reproducibiity"
   ]
  },
  {
   "cell_type": "code",
   "execution_count": 75,
   "id": "fe299cc0-4872-4902-94f7-b85c193bd43f",
   "metadata": {
    "tags": []
   },
   "outputs": [],
   "source": [
    "torch.manual_seed(42)      # PyTorch seed fixing\n",
    "torch.cuda.manual_seed(42) # PyTorch CUDA seed fixing (if using GPU)\n",
    "np.random.seed(42)         # NumPy seed fixing\n",
    "random.seed(42)            # Python's built-in random seed fixing"
   ]
  },
  {
   "cell_type": "markdown",
   "id": "d4450630-e7a8-4564-b106-6e2dc3a12e61",
   "metadata": {},
   "source": [
    "Dataset Transform"
   ]
  },
  {
   "cell_type": "code",
   "execution_count": 76,
   "id": "f3f6a794-6052-43c3-a616-d7db6568ed0e",
   "metadata": {
    "tags": []
   },
   "outputs": [],
   "source": [
    "batch_size = 512\n",
    "train_loader, test_loader, input_dim, out_dim = dat.get_dataset(dataset_name, batch_size=batch_size, data_dir='./data', bpp=bpp, crop=crop)"
   ]
  },
  {
   "cell_type": "code",
   "execution_count": 77,
   "id": "38a5db70-d2ba-44a7-803c-829177a182c8",
   "metadata": {
    "tags": []
   },
   "outputs": [],
   "source": [
    "# makes the Dataset evenly partitioned\n",
    "# code below is used so that all classes have the same number of samples\n",
    "train_targets = train_loader.dataset.targets\n",
    "test_targets = test_loader.dataset.targets\n",
    "\n",
    "train_digits_total = []\n",
    "test_digits_total = []\n",
    "\n",
    "for i in range(10):\n",
    "    curr_tot_train = torch.sum(train_targets == i).item()\n",
    "    curr_tot_test = torch.sum(test_targets == i).item()    \n",
    "    train_digits_total.append(curr_tot_train)\n",
    "    test_digits_total.append(curr_tot_test)\n",
    "\n",
    "train_digits_total, test_digits_total\n",
    "\n",
    "# find the minimum number of samples across all classes\n",
    "min_samples_train = min(train_digits_total)\n",
    "min_samples_test = min(test_digits_total)\n",
    "\n",
    "# function to trim dataset to match the minimum samples for each class and shuffle indices\n",
    "def trim_dataset(dataset, targets, min_samples):\n",
    "    indices = []\n",
    "    for i in range(10):\n",
    "        class_indices = (targets == i).nonzero(as_tuple=True)[0]  # get indices of class i\n",
    "        class_indices = class_indices[:min_samples]  # trim to min_samples\n",
    "        indices.extend(class_indices)\n",
    "\n",
    "    # shuffle indices after collecting them\n",
    "    indices = torch.tensor(indices)\n",
    "    indices = indices[torch.randperm(indices.size(0))]  \n",
    "\n",
    "    return Subset(dataset, indices)\n",
    "\n",
    "# trim both train and test datasets to ensure all classes have the same number of samples\n",
    "trimmed_train_dataset = trim_dataset(train_loader.dataset, train_targets, min_samples_train)\n",
    "trimmed_test_dataset = trim_dataset(test_loader.dataset, test_targets, min_samples_test)\n",
    "\n",
    "# create DataLoaders for the trimmed datasets\n",
    "trimmed_train_loader = DataLoader(trimmed_train_dataset, batch_size=batch_size, shuffle=True, pin_memory=True, drop_last=True)\n",
    "trimmed_test_loader = DataLoader(trimmed_test_dataset, batch_size=batch_size, shuffle=False, pin_memory=True, drop_last=True)\n",
    "\n",
    "# verify the lengths of the trimmed datasets\n",
    "len(trimmed_train_loader.dataset), len(trimmed_test_loader.dataset)\n",
    "\n",
    "train_dataset = trimmed_train_dataset\n",
    "test_dataset = trimmed_test_dataset\n",
    "train_loader = trimmed_train_loader\n",
    "test_loader = trimmed_test_loader"
   ]
  },
  {
   "cell_type": "code",
   "execution_count": 78,
   "id": "66230413-408e-4bc1-bf5f-2313690e0964",
   "metadata": {
    "tags": []
   },
   "outputs": [
    {
     "data": {
      "text/plain": [
       "<matplotlib.image.AxesImage at 0x1549b01e7be0>"
      ]
     },
     "execution_count": 78,
     "metadata": {},
     "output_type": "execute_result"
    },
    {
     "data": {
      "image/png": "[encoded data removed]",
      "text/plain": [
       "<Figure size 640x480 with 1 Axes>"
      ]
     },
     "metadata": {},
     "output_type": "display_data"
    }
   ],
   "source": [
    "# visualizing a single image\n",
    "dataset_size = len(train_dataset)\n",
    "random_index = random.randint(0, dataset_size - 1)\n",
    "image        = np.array(train_loader.dataset[random_index][0])\n",
    "shape        = (20,20) if crop else (28,28)\n",
    "image        = np.array([np.sum([image[(j*bpp) + p]*(2**(bpp-p+1)) for p in range(bpp)]) for j in range(shape[0]*shape[0])]).reshape(shape)\n",
    "\n",
    "plt.figure()\n",
    "plt.imshow(image, cmap='gray')"
   ]
  },
  {
   "cell_type": "markdown",
   "id": "3973f0e3-5f32-4793-afc6-9394425419de",
   "metadata": {
    "tags": []
   },
   "source": [
    "#### Model Hyperparameters"
   ]
  },
  {
   "cell_type": "markdown",
   "id": "0f4e63be-c489-4aaf-a605-9e1d0fda631f",
   "metadata": {},
   "source": [
    "Converts csv into yaml config file"
   ]
  },
  {
   "cell_type": "code",
   "execution_count": 79,
   "id": "a9b89fd2-f200-40c1-973a-489ef4190e17",
   "metadata": {
    "tags": []
   },
   "outputs": [],
   "source": [
    "# define first input and the name of the file to be saved\n",
    "if dataset_name == \"mnist\":\n",
    "    first_in_dim = 400*bpp\n",
    "    filename = \"config/mnist_config_20x20.yaml\"\n",
    "    df = pd.read_csv(\"config/mnist_hyperparameters.csv\")\n",
    "elif dataset_name == \"fashion_mnist\":\n",
    "    first_in_dim = 784*bpp\n",
    "    filename = \"config/fashion_mnist_config_28x28.yaml\"\n",
    "    df = pd.read_csv(\"config/fashion_mnist_hyperparameters.csv\")"
   ]
  },
  {
   "cell_type": "code",
   "execution_count": 80,
   "id": "4dc64546-f1d7-4e18-b88c-7140d4d42692",
   "metadata": {
    "tags": []
   },
   "outputs": [
    {
     "name": "stdout",
     "output_type": "stream",
     "text": [
      "YAML file 'config/fashion_mnist_config_28x28.yaml' generated successfully.\n"
     ]
    }
   ],
   "source": [
    "# convert the DataFrame to a list of dictionaries\n",
    "models = df.to_dict(orient=\"records\")\n",
    "\n",
    "# create the YAML structure\n",
    "yaml_structure = {\"models\": {}}\n",
    "\n",
    "# rounds the number to the nearest multiple of the output size\n",
    "def round_to_nearest_multiple(value, multiple):\n",
    "    return multiple * round(value / multiple)\n",
    "\n",
    "# populate the YAML structure with models\n",
    "for i, model in enumerate(models, start=1):\n",
    "    # zero-padding model names to 3 digits \n",
    "    model_name = f\"model_{str(i).zfill(3)}\"\n",
    "    layers_config = {}\n",
    "    \n",
    "    for layer in range(1, model[\"H\"] + 1):\n",
    "        # zero-padding the layer names to 3 digits\n",
    "        layer_name = f\"LogicLayer{str(layer).zfill(3)}\"\n",
    "        \n",
    "        # adjusts in_dim to the nearest multiple of 10\n",
    "        in_dim = first_in_dim if layer == 1 else round_to_nearest_multiple(model[\"W\"], 10)\n",
    "        \n",
    "        # adjusts out_dim to the nearest multiple of 10\n",
    "        out_dim = round_to_nearest_multiple(model[\"W\"], 10)\n",
    "        \n",
    "        layers_config[layer_name] = {\n",
    "            \"in_dim\": in_dim,\n",
    "            \"out_dim\": out_dim,\n",
    "            \"device\": \"cuda\",\n",
    "            \"implementation\": \"cuda\",\n",
    "            \"connections\": \"random\",\n",
    "            \"grad_factor\": 2, # we can try different grad_factor values as well\n",
    "        }\n",
    "    \n",
    "    yaml_structure[\"models\"][model_name] = {\n",
    "        \"input_dim\": first_in_dim, \n",
    "        \"output_size\": 10, # for MNIST classification\n",
    "        \"tau\": model[\"tau\"],\n",
    "        \"learning_rate\": model[\"lr\"],\n",
    "        \"layers_config\": layers_config,\n",
    "    }\n",
    "\n",
    "# saves to a YAML file\n",
    "with open(f'{filename}', \"w\") as file:\n",
    "    yaml.dump(yaml_structure, file, default_flow_style=False)\n",
    "\n",
    "print(f\"YAML file '{filename}' generated successfully.\")"
   ]
  },
  {
   "cell_type": "markdown",
   "id": "5e939ace-e4c3-4781-bdea-f9722ddb925e",
   "metadata": {
    "tags": []
   },
   "source": [
    "### **Model Definition**"
   ]
  },
  {
   "cell_type": "markdown",
   "id": "7bf4c832-0caf-4efc-9b71-8c2cf1faffa7",
   "metadata": {
    "tags": []
   },
   "source": [
    "#### **Model Function Declarations**"
   ]
  },
  {
   "cell_type": "markdown",
   "id": "e473370c-ec74-455b-854c-f597d04144f3",
   "metadata": {},
   "source": [
    "DiffLogic Class"
   ]
  },
  {
   "cell_type": "code",
   "execution_count": 81,
   "id": "b244edec-9bd5-474d-9aaa-4f9aafe31b24",
   "metadata": {
    "tags": []
   },
   "outputs": [],
   "source": [
    "class DiffLogic(nn.Module):\n",
    "    def __init__(self, layers_config, output_size, tau=30):\n",
    "        \"\"\"\n",
    "        Initializes the DiffLogic model with the specified layer configurations, output size, and temperature parameter.\n",
    "\n",
    "        Args:\n",
    "            layers_config (dict): Configuration for each logic layer, including dimensions, device, implementation, connections, and grad factor.\n",
    "            output_size (int): The number of output groups (classes in a classification problem).\n",
    "            tau (int): Temperature parameter for the GroupSum operation.\n",
    "        \"\"\"\n",
    "        super(DiffLogic, self).__init__()\n",
    "        \n",
    "        # stores the logic layers\n",
    "        layers = []\n",
    "        for layer_name, config in layers_config.items():\n",
    "            layer = LogicLayer(\n",
    "                in_dim=config['in_dim'],\n",
    "                out_dim=config['out_dim'],\n",
    "                device=config['device'],\n",
    "                implementation=config['implementation'],\n",
    "                connections=config['connections'],\n",
    "                grad_factor=config['grad_factor']       \n",
    "            )\n",
    "            layers.append(layer)\n",
    "            print(layer)\n",
    "        \n",
    "        self.logic_layers = nn.Sequential(*layers)\n",
    "        self.group = GroupSum(k=output_size, tau=tau)\n",
    "        self.log_text = \"\"  # initializes logging string\n",
    "\n",
    "    def forward(self, x):\n",
    "        \"\"\"\n",
    "        Forward pass of the DiffLogic model.\n",
    "\n",
    "        Args:\n",
    "            x (torch.Tensor): Input tensor.\n",
    "\n",
    "        Returns:\n",
    "            torch.Tensor: Output tensor after processing through the logic layers and grouping operation.\n",
    "        \"\"\"\n",
    "        # moves tensor to GPU\n",
    "        if torch.cuda.is_available():\n",
    "            x = x.to('cuda')          \n",
    "        #x = torch.flatten(x)\n",
    "        logits = self.logic_layers(x)\n",
    "        group = self.group(logits)\n",
    "        return group\n",
    "    \n",
    "    def save(self, file_path, model_name='model'):\n",
    "        \"\"\"\n",
    "        Saves the model's state dictionary to the specified file path.\n",
    "\n",
    "        Args:\n",
    "            file_path (str): Path where the model will be saved.\n",
    "            model_name (str): Name of the saved model\n",
    "\n",
    "        Returns:\n",
    "            None\n",
    "        \"\"\"\n",
    "        torch.save({\n",
    "            'model_state_dict': self.state_dict(),\n",
    "            'connections': [layer.indices for layer in self.logic_layers if isinstance(layer, LogicLayer)]\n",
    "        }, os.path.join(file_path, f\"{model_name}.pth\"))\n",
    "        self.log_text += f\"Model saved to: {file_path}\\n\"\n",
    "\n",
    "    def load(self, file_path):\n",
    "        \"\"\"\n",
    "        Loads the model's state dictionary from the specified file path.\n",
    "\n",
    "        Args:\n",
    "            file_path (str): Path from which the model will be loaded.\n",
    "\n",
    "        Returns:\n",
    "            None\n",
    "        \"\"\"\n",
    "        checkpoint = torch.load(file_path)\n",
    "        self.load_state_dict(checkpoint['model_state_dict'])\n",
    "\n",
    "        # assigns connections to each LogicLayer\n",
    "        for idx, layer in enumerate(self.logic_layers):\n",
    "            if isinstance(layer, LogicLayer):\n",
    "                layer.indices = checkpoint['connections'][idx]\n",
    "\n",
    "        self.eval()\n",
    "        self.log_text += f\"Model loaded from: {file_path}\\n\"\n",
    "        \n",
    "    def get_accuracy(self, data_loader):\n",
    "        \"\"\"\n",
    "        Calculates the accuracy of the model against a data loader\n",
    "\n",
    "        Args:\n",
    "            data_loader: a DataLoader object, e.g. train_loader or test_loader\n",
    "\n",
    "        Returns:\n",
    "            float: The accuracy\n",
    "        \"\"\"\n",
    "        correct = 0\n",
    "        total = 0\n",
    "\n",
    "        # ensures that model is in evaluation mode\n",
    "        self.eval()\n",
    "\n",
    "        with torch.no_grad():  # Disable gradient calculation for inference\n",
    "            for batch_inputs, batch_outputs in tqdm(data_loader, desc=\"Running Inference\"):\n",
    "                batch_inputs, batch_outputs = batch_inputs.to('cuda'), batch_outputs.to('cuda')\n",
    "\n",
    "                # forward pass to get predictions\n",
    "                outputs = self(batch_inputs.float())\n",
    "\n",
    "                # gets the predicted class (index of the maximum logit)\n",
    "                _, predicted = torch.max(outputs.data, 1)\n",
    "\n",
    "                # counting correct predictions\n",
    "                total += batch_outputs.size(0)  # total number of samples in the batch\n",
    "                correct += (predicted == batch_outputs).sum().item()  # counting correct predictions\n",
    "\n",
    "        accuracy = correct / total\n",
    "        return accuracy\n",
    "\n",
    "    def get_log(self):\n",
    "        \"\"\"\n",
    "        Retrieves the log text and clears the log after retrieval.\n",
    "\n",
    "        Returns:\n",
    "            str: The log text.\n",
    "        \"\"\"\n",
    "        log_copy = self.log_text\n",
    "        self.log_text = \"\"  # Clear the log after returning\n",
    "        return log_copy"
   ]
  },
  {
   "cell_type": "code",
   "execution_count": 82,
   "id": "5632fa27-5e05-41b0-b3a3-ac941714657b",
   "metadata": {
    "tags": []
   },
   "outputs": [],
   "source": [
    "class EarlyStopper:\n",
    "    def __init__(self, patience=10, min_delta=0):\n",
    "        \"\"\"\n",
    "        Initializes the EarlyStopper to stop training if the performance doesn't improve after a certain number of epochs.\n",
    "\n",
    "        Args:\n",
    "            patience (int): Number of epochs to wait for an improvement.\n",
    "            min_delta (float): Minimum change to consider an improvement.\n",
    "        \"\"\"\n",
    "        self.patience = patience\n",
    "        self.min_delta = min_delta\n",
    "        self.best_loss = None\n",
    "        self.counter = 0\n",
    "\n",
    "    def should_stop(self, current_loss):\n",
    "        \"\"\"\n",
    "        Check if training should stop based on the current loss.\n",
    "\n",
    "        Args:\n",
    "            current_loss (float): The current loss.\n",
    "\n",
    "        Returns:\n",
    "            bool: True if training should stop, False otherwise.\n",
    "        \"\"\"\n",
    "        if self.best_loss is None:\n",
    "            self.best_loss = current_loss\n",
    "            return False\n",
    "        elif current_loss < self.best_loss - self.min_delta:\n",
    "            self.best_loss = current_loss\n",
    "            self.counter = 0\n",
    "            return False\n",
    "        else:\n",
    "            self.counter += 1\n",
    "            print(\"EarlyStopper Triggered: \", self.counter)\n",
    "            if self.counter >= self.patience:\n",
    "                return True\n",
    "            return False"
   ]
  },
  {
   "cell_type": "markdown",
   "id": "c4c7d07b-a12c-4390-b1f7-57c0b4d69477",
   "metadata": {
    "jp-MarkdownHeadingCollapsed": true,
    "tags": []
   },
   "source": [
    "### **Model Training/Testing**"
   ]
  },
  {
   "cell_type": "markdown",
   "id": "fcd97e0b-c6c4-4262-97ab-32136126ba39",
   "metadata": {
    "jp-MarkdownHeadingCollapsed": true,
    "tags": []
   },
   "source": [
    "#### **Training**"
   ]
  },
  {
   "cell_type": "code",
   "execution_count": 15,
   "id": "dea90015-6e45-49af-bb11-539c8811adcd",
   "metadata": {
    "tags": []
   },
   "outputs": [
    {
     "name": "stdout",
     "output_type": "stream",
     "text": [
      "training model model_001\n",
      "LogicLayer(784, 5000, train)\n",
      "LogicLayer(5000, 5000, train)\n",
      "model DiffLogic(\n",
      "  (logic_layers): Sequential(\n",
      "    (0): LogicLayer(784, 5000, train)\n",
      "    (1): LogicLayer(5000, 5000, train)\n",
      "  )\n",
      "  (group): GroupSum(k=10, tau=10)\n",
      ")\n"
     ]
    },
    {
     "name": "stderr",
     "output_type": "stream",
     "text": [
      "Epoch 1/1: 100%|██████████| 117/117 [01:55<00:00,  1.01it/s]"
     ]
    },
    {
     "name": "stdout",
     "output_type": "stream",
     "text": [
      "Epoch 1 Loss: 1.4403667081375555\n",
      "All models processed.\n"
     ]
    },
    {
     "name": "stderr",
     "output_type": "stream",
     "text": [
      "\n"
     ]
    }
   ],
   "source": [
    "# initialize Hydra with the config path and job name\n",
    "with initialize(version_base=None, config_path=\"config\", job_name=\"ExpLogic\"):\n",
    "    cfg = compose(config_name=f\"{dataset_name}_config_{shape[0]}x{shape[0]}\")\n",
    "\n",
    "# training loop for all models\n",
    "all_models_dict = {}\n",
    "num_epochs = 1 # just for debugging\n",
    "file_path = f'trained_models/{dataset_name}_trained_models' # where to save your trained models\n",
    "\n",
    "# loops through all model configs and trains each of them\n",
    "for model_name, model_cfg in cfg.models.items():\n",
    "    print(f'training model {model_name}')\n",
    "\n",
    "    # tracking dictionary\n",
    "    all_models_dict[model_name] = {\n",
    "        'losses': [],\n",
    "    }\n",
    "\n",
    "    # initializes DiffLogic model and moves to CUDA if available\n",
    "    model = DiffLogic(layers_config=model_cfg['layers_config'], \n",
    "                      output_size=model_cfg['output_size'], \n",
    "                      tau=model_cfg['tau']).to('cuda' if torch.cuda.is_available() else 'cpu')\n",
    "\n",
    "    # wraps the model with DataParallel to distribute workload across GPUs \n",
    "    #model = torch.nn.DataParallel(model)\n",
    "    \n",
    "    # optimizer and loss criterion\n",
    "    optimizer = torch.optim.Adam(model.parameters(), lr=model_cfg['learning_rate'])\n",
    "    criterion = nn.CrossEntropyLoss()\n",
    "\n",
    "    # early stopping\n",
    "    early_stopper = EarlyStopper(patience=5)\n",
    "\n",
    "    print('model', model)\n",
    "\n",
    "    for epoch in range(num_epochs):\n",
    "        loop = tqdm(train_loader, leave=True, desc=f'Epoch {epoch+1}/{num_epochs}')\n",
    "        epoch_loss = 0  # to track loss for an epoch            \n",
    "\n",
    "        for batch_inputs, batch_outputs in loop:\n",
    "            # move data to the appropriate device\n",
    "            device = 'cuda' if torch.cuda.is_available() else 'cpu'\n",
    "            batch_inputs, batch_outputs = batch_inputs.to(device).double(), batch_outputs.to(device).long()\n",
    "\n",
    "            # forward pass through the model\n",
    "            predictions = model(batch_inputs)  \n",
    "                        \n",
    "            loss = criterion(predictions, batch_outputs)\n",
    "            \n",
    "            # zero gradients, backpropagates, and updates model parameters\n",
    "            optimizer.zero_grad()\n",
    "            loss.backward()\n",
    "            optimizer.step()\n",
    "            \n",
    "            # accumulating the loss for the epoch\n",
    "            epoch_loss += loss.item()\n",
    "\n",
    "        # caclulating the average loss for the epoch\n",
    "        epoch_loss /= len(train_loader)\n",
    "        all_models_dict[model_name]['losses'].append(epoch_loss)\n",
    "        print(f'Epoch {epoch+1} Loss: {epoch_loss}')\n",
    "\n",
    "        # checks for early stopping\n",
    "        if early_stopper.should_stop(epoch_loss):\n",
    "            print(f\"Early stopping triggered for {model_name} at epoch {epoch+1}.\")\n",
    "            break\n",
    "\n",
    "    # saving trained model's state\n",
    "    model.save(file_path, model_name)\n",
    "\n",
    "print(\"All models processed.\")"
   ]
  },
  {
   "cell_type": "markdown",
   "id": "1d28a834-adac-4241-83a4-d9a23ac17db5",
   "metadata": {
    "jp-MarkdownHeadingCollapsed": true,
    "tags": []
   },
   "source": [
    "#### **Testing**"
   ]
  },
  {
   "cell_type": "code",
   "execution_count": 17,
   "id": "33048f62-fc21-4f87-b725-6eb470a66700",
   "metadata": {
    "tags": []
   },
   "outputs": [
    {
     "name": "stdout",
     "output_type": "stream",
     "text": [
      "LogicLayer(784, 5000, train)\n",
      "LogicLayer(5000, 5000, train)\n",
      "Evaluating model_001.pth...\n"
     ]
    },
    {
     "name": "stderr",
     "output_type": "stream",
     "text": [
      "Running Inference: 100%|██████████| 19/19 [00:18<00:00,  1.04it/s]"
     ]
    },
    {
     "name": "stdout",
     "output_type": "stream",
     "text": [
      "Accuracy of model_001.pth: 82.31%\n",
      "\n"
     ]
    },
    {
     "name": "stderr",
     "output_type": "stream",
     "text": [
      "\n"
     ]
    }
   ],
   "source": [
    "# testing loop to test inferences\n",
    "trained_models_dir = f'trained_models/{dataset_name}_trained_models/'\n",
    "\n",
    "# retrieves a list of all model files in the directory\n",
    "model_files = sorted([f for f in os.listdir(trained_models_dir) if f.endswith('.pth')])\n",
    "\n",
    "with initialize(version_base=None, config_path=\"config\", job_name=\"ExpLogic_Test\"):\n",
    "    cfg = compose(config_name=f\"{dataset_name}_config_{shape[0]}x{shape[0]}\")\n",
    "\n",
    "# dictionary to store the trained models\n",
    "trained_models = {}\n",
    "trained_models_accuracies = {}\n",
    "\n",
    "# loops through all model files and calculates their accuracies\n",
    "for i, model_file in enumerate(model_files):\n",
    "    if model_file.endswith('_weights.pth'):\n",
    "        model_name = model_file.removesuffix('_weights.pth')\n",
    "    else:\n",
    "        model_name = model_file.removesuffix('.pth')\n",
    "    if model_name in cfg['models'].keys(): \n",
    "        model_cfg = cfg['models'][model_name]\n",
    "\n",
    "        # instantiates the model and load its weights\n",
    "        model = DiffLogic(layers_config=model_cfg['layers_config'], \n",
    "                              output_size=model_cfg['output_size'], \n",
    "                              tau=model_cfg['tau']).to('cuda' if torch.cuda.is_available() else 'cpu')\n",
    "\n",
    "        model_path = os.path.join(trained_models_dir, model_file)\n",
    "        print(f\"Evaluating {model_file}...\")\n",
    "\n",
    "        # loads the respective model\n",
    "        model.load(model_path)\n",
    "\n",
    "        # calculates accuracy\n",
    "        accuracy = model.get_accuracy(test_loader)\n",
    "\n",
    "        print(f\"Accuracy of {model_file}: {accuracy * 100:.2f}%\\n\")\n",
    "\n",
    "        trained_models[i] = model\n",
    "        trained_models_accuracies[i] = accuracy"
   ]
  },
  {
   "cell_type": "markdown",
   "id": "ccc15d31-2d9b-42f4-8d07-039e9c972871",
   "metadata": {
    "jp-MarkdownHeadingCollapsed": true,
    "tags": []
   },
   "source": [
    "### **Switching Probability**"
   ]
  },
  {
   "cell_type": "markdown",
   "id": "c3b9a937-516e-4129-9a43-7b9b3a2897dc",
   "metadata": {},
   "source": [
    "Loading a specific model, mainly so that you can load the model without having to run inference"
   ]
  },
  {
   "cell_type": "code",
   "execution_count": 22,
   "id": "86ccefeb-b4d9-49eb-ae57-33be4353787c",
   "metadata": {
    "tags": []
   },
   "outputs": [],
   "source": [
    "model_name = 'model_001'"
   ]
  },
  {
   "cell_type": "code",
   "execution_count": 23,
   "id": "d53daa41-13d2-4f4c-b089-061200595216",
   "metadata": {
    "tags": []
   },
   "outputs": [
    {
     "name": "stdout",
     "output_type": "stream",
     "text": [
      "LogicLayer(784, 5000, train)\n",
      "LogicLayer(5000, 5000, train)\n"
     ]
    }
   ],
   "source": [
    "trained_models_dir = f'trained_models/{dataset_name}_trained_models/'\n",
    "\n",
    "with initialize(version_base=None, config_path=\"config\", job_name=\"ExpLogic_Test\"):\n",
    "    model_cfg = compose(config_name=f\"{dataset_name}_config_{shape[0]}x{shape[0]}\")\n",
    "\n",
    "model_cfg = model_cfg['models'][model_name]\n",
    "\n",
    "model = DiffLogic(layers_config=model_cfg['layers_config'], \n",
    "    output_size=model_cfg['output_size'], \n",
    "    tau=model_cfg['tau']).to('cuda' if torch.cuda.is_available() else 'cpu')    \n",
    "\n",
    "model_path = os.path.join(trained_models_dir, model_name + \".pth\")\n",
    "model.load(model_path)"
   ]
  },
  {
   "cell_type": "markdown",
   "id": "decdce79-f993-4a5c-81d1-f0e5b64be619",
   "metadata": {},
   "source": [
    "Converting DiffLogic to LogicGraph"
   ]
  },
  {
   "cell_type": "code",
   "execution_count": 24,
   "id": "1f72fa04-489d-4d62-98c0-fd2b9323c677",
   "metadata": {
    "tags": []
   },
   "outputs": [
    {
     "name": "stdout",
     "output_type": "stream",
     "text": [
      "Creating LogicGraph\n"
     ]
    },
    {
     "name": "stderr",
     "output_type": "stream",
     "text": [
      "Processing images: 100%|██████████| 19/19 [00:20<00:00,  1.10s/it]\n"
     ]
    }
   ],
   "source": [
    "lg = lib.reload(lg)\n",
    "\n",
    "print(\"Creating LogicGraph\")\n",
    "gall = lg.LogicGraph(model)\n",
    "\n",
    "gall.compute_sf(test_loader)\n",
    "gall.compute_sp(np.ones((shape[0],shape[1]))-0.5)\n",
    "\n",
    "# Example of accessing the gate type per edge\n",
    "#gall.edges()[('L1_N576', 'L2_N1210')][\"ab\"]"
   ]
  },
  {
   "cell_type": "markdown",
   "id": "0efa6880-2f52-43fd-9af4-9e87f8f48231",
   "metadata": {},
   "source": [
    "#### **Difference of SP for Individual Classes**"
   ]
  },
  {
   "cell_type": "markdown",
   "id": "ac70e7db-e9f7-400d-998f-79e7773da32d",
   "metadata": {},
   "source": [
    "Find the TP, TN, FP, FN instances, and use this to create sub-datasets for specific cases \n",
    "(NOTE: This section will take some time to run)\n",
    "\n",
    "If you get stuck trying to run the following, restart the kernel and set \"saved\" to True"
   ]
  },
  {
   "cell_type": "code",
   "execution_count": 25,
   "id": "e49baa9a-7316-47aa-a3d5-c73c0de8a11e",
   "metadata": {
    "tags": []
   },
   "outputs": [
    {
     "name": "stdout",
     "output_type": "stream",
     "text": [
      "Processing datasets...\n"
     ]
    },
    {
     "name": "stderr",
     "output_type": "stream",
     "text": [
      "Predicting: 100%|██████████| 117/117 [01:55<00:00,  1.02it/s]\n",
      "Predicting: 100%|██████████| 19/19 [00:18<00:00,  1.02it/s]\n"
     ]
    }
   ],
   "source": [
    "saved = False  # Set to True after the first successful run\n",
    "\n",
    "# Define file paths for saving data\n",
    "train_data_file = \"train_data.pkl\"\n",
    "test_data_file = \"test_data.pkl\"\n",
    "\n",
    "# Function to save data\n",
    "def pkl_save(data, file_path):\n",
    "    with open(file_path, \"wb\") as f:\n",
    "        pickle.dump(data, f)\n",
    "\n",
    "# Function to load data\n",
    "def pkl_load(file_path):\n",
    "    with open(file_path, \"rb\") as f:\n",
    "        return pickle.load(f)\n",
    "\n",
    "def predict_and_categorize(model, data_loader):\n",
    "    all_images      = []\n",
    "    all_labels      = []\n",
    "    all_predictions = []\n",
    "\n",
    "    # Ensure model is in evaluation mode\n",
    "    model.eval()\n",
    "    with torch.no_grad():  # Disable gradient calculation for inference\n",
    "        for batch_inputs, batch_outputs in tqdm(data_loader, desc=\"Predicting\"):\n",
    "            batch_inputs, batch_outputs = batch_inputs.to('cuda'), batch_outputs.to('cuda')\n",
    "\n",
    "            # Forward pass to get predictions\n",
    "            outputs = model(batch_inputs.float())\n",
    "\n",
    "            # Get the predicted class (index of the maximum logit)\n",
    "            _, predicted = torch.max(outputs.data, 1)\n",
    "\n",
    "            all_images.append(batch_inputs.cpu())\n",
    "            all_labels.append(batch_outputs.cpu())\n",
    "            all_predictions.append(predicted.cpu())\n",
    "\n",
    "    all_images = torch.cat(all_images)\n",
    "    all_labels = torch.cat(all_labels)\n",
    "    all_predictions = torch.cat(all_predictions)\n",
    "\n",
    "    return all_images, all_labels, all_predictions\n",
    "\n",
    "# Check if data is already saved\n",
    "if saved and os.path.exists(train_data_file) and os.path.exists(test_data_file):\n",
    "    print(\"Loading saved datasets...\")\n",
    "    train_data = pkl_load(train_data_file)\n",
    "    test_data = pkl_load(test_data_file)\n",
    "    all_images_train, all_labels_train, all_predictions_train = train_data\n",
    "    all_images_test, all_labels_test, all_predictions_test = test_data\n",
    "    print(\"All datasets loaded.\")\n",
    "else:\n",
    "    print(\"Processing datasets...\")\n",
    "    # Predict and categorize\n",
    "    all_images_train, all_labels_train, all_predictions_train = predict_and_categorize(model, train_loader)\n",
    "    all_images_test, all_labels_test, all_predictions_test = predict_and_categorize(model, test_loader)\n",
    "    \n",
    "    # Save the results for future use\n",
    "    pkl_save((all_images_train, all_labels_train, all_predictions_train), train_data_file)\n",
    "    pkl_save((all_images_test, all_labels_test, all_predictions_test), test_data_file)\n",
    "    saved = True"
   ]
  },
  {
   "cell_type": "code",
   "execution_count": 26,
   "id": "9f8060b6-5b50-4555-a4fd-528212adee4c",
   "metadata": {
    "tags": []
   },
   "outputs": [],
   "source": [
    "# Create TN/TP/FN/FP datasets\n",
    "general_datasets        = subset.create_tn_tp_fn_fp_datasets(all_images_train, all_labels_train, all_predictions_train)\n",
    "class_specific_datasets = subset.create_class_specific_datasets(all_images_train, all_labels_train, all_predictions_train)"
   ]
  },
  {
   "cell_type": "code",
   "execution_count": 27,
   "id": "5589163e-f4a1-4d34-8af9-347a2cc1096e",
   "metadata": {
    "tags": []
   },
   "outputs": [],
   "source": [
    "# For the general TN, TP, FN, FP datasets:\n",
    "t_dataset = DataLoader(general_datasets['T'],batch_size=batch_size, shuffle=True, pin_memory=True, drop_last=True)\n",
    "f_dataset = DataLoader(general_datasets['F'],batch_size=batch_size, shuffle=True, pin_memory=True, drop_last=True)\n",
    "\n",
    "# For class-specific datasets (e.g., for class 5):\n",
    "for i in range(10): \n",
    "    class_specific_datasets['TP_class'][i] = DataLoader(class_specific_datasets['TP_class'][i],batch_size=batch_size, shuffle=True, pin_memory=True, drop_last=True)\n",
    "    class_specific_datasets['FP_class'][i] = DataLoader(class_specific_datasets['FP_class'][i],batch_size=batch_size, shuffle=True, pin_memory=True, drop_last=True)\n",
    "    class_specific_datasets['TN_class'][i] = DataLoader(class_specific_datasets['TN_class'][i],batch_size=batch_size, shuffle=True, pin_memory=True, drop_last=True)\n",
    "    class_specific_datasets['FN_class'][i] = DataLoader(class_specific_datasets['FN_class'][i],batch_size=batch_size, shuffle=True, pin_memory=True, drop_last=True)"
   ]
  },
  {
   "cell_type": "markdown",
   "id": "1283f3f3-ef17-4774-a590-02489ad2d667",
   "metadata": {},
   "source": [
    "Class Specific Differences"
   ]
  },
  {
   "cell_type": "markdown",
   "id": "ebc3f41c-8a1c-453a-ba3b-8a0920ebaf33",
   "metadata": {},
   "source": [
    "(This may take a substantial amount of time)"
   ]
  },
  {
   "cell_type": "code",
   "execution_count": 28,
   "id": "45977e13-b5f4-4413-81c0-a46ae52718a0",
   "metadata": {
    "tags": []
   },
   "outputs": [],
   "source": [
    "# Create class-specific data loaders for training and testing sets\n",
    "train_class_loaders = subset.create_class_dataloaders(train_dataset, batch_size)\n",
    "test_class_loaders  = subset.create_class_dataloaders(test_dataset,  batch_size)"
   ]
  },
  {
   "cell_type": "code",
   "execution_count": 30,
   "id": "3cca78da-be99-405f-86d3-2087cc506b6b",
   "metadata": {
    "tags": []
   },
   "outputs": [],
   "source": [
    "outputs = [f\"L3_N0\", f\"L3_N1\", f\"L3_N2\", f\"L3_N3\", f\"L3_N4\", f\"L3_N5\", f\"L3_N6\", f\"L3_N7\", f\"L3_N8\", f\"L3_N9\"]\n",
    "\n",
    "p_maps = []\n",
    "sp_graphs = [] \n",
    "sp_diffs = []  \n",
    "for j, output_node in enumerate(outputs): \n",
    "    p_maps.append(cv2.imread(f\"averaged_images/{dataset_name}_averages/average_{j}.png\")[4:24,4:24,1]/255)\n",
    "    sp_graph  = copy.deepcopy(gall)\n",
    "    sp_graph.compute_sp(p_maps[j])\n",
    "    sp_graphs.append(sp_graph)\n",
    "    sp_diffs.append(sp_graph.sub_sp(gall))"
   ]
  },
  {
   "cell_type": "code",
   "execution_count": 31,
   "id": "bfd6f2cf-4c04-48d5-8c02-6edca5c61962",
   "metadata": {
    "tags": []
   },
   "outputs": [
    {
     "name": "stdout",
     "output_type": "stream",
     "text": [
      "Class 0\n"
     ]
    },
    {
     "name": "stderr",
     "output_type": "stream",
     "text": [
      "Processing images: 100%|██████████| 11/11 [00:11<00:00,  1.08s/it]\n"
     ]
    },
    {
     "name": "stdout",
     "output_type": "stream",
     "text": [
      "Class 1\n"
     ]
    },
    {
     "name": "stderr",
     "output_type": "stream",
     "text": [
      "Processing images: 100%|██████████| 11/11 [00:11<00:00,  1.05s/it]\n"
     ]
    },
    {
     "name": "stdout",
     "output_type": "stream",
     "text": [
      "Class 2\n"
     ]
    },
    {
     "name": "stderr",
     "output_type": "stream",
     "text": [
      "Processing images: 100%|██████████| 11/11 [00:11<00:00,  1.07s/it]\n"
     ]
    },
    {
     "name": "stdout",
     "output_type": "stream",
     "text": [
      "Class 3\n"
     ]
    },
    {
     "name": "stderr",
     "output_type": "stream",
     "text": [
      "Processing images: 100%|██████████| 11/11 [00:11<00:00,  1.06s/it]\n"
     ]
    },
    {
     "name": "stdout",
     "output_type": "stream",
     "text": [
      "Class 4\n"
     ]
    },
    {
     "name": "stderr",
     "output_type": "stream",
     "text": [
      "Processing images: 100%|██████████| 11/11 [00:11<00:00,  1.06s/it]\n"
     ]
    },
    {
     "name": "stdout",
     "output_type": "stream",
     "text": [
      "Class 5\n"
     ]
    },
    {
     "name": "stderr",
     "output_type": "stream",
     "text": [
      "Processing images: 100%|██████████| 11/11 [00:11<00:00,  1.07s/it]\n"
     ]
    },
    {
     "name": "stdout",
     "output_type": "stream",
     "text": [
      "Class 6\n"
     ]
    },
    {
     "name": "stderr",
     "output_type": "stream",
     "text": [
      "Processing images: 100%|██████████| 11/11 [00:11<00:00,  1.07s/it]\n"
     ]
    },
    {
     "name": "stdout",
     "output_type": "stream",
     "text": [
      "Class 7\n"
     ]
    },
    {
     "name": "stderr",
     "output_type": "stream",
     "text": [
      "Processing images: 100%|██████████| 11/11 [00:12<00:00,  1.10s/it]\n"
     ]
    },
    {
     "name": "stdout",
     "output_type": "stream",
     "text": [
      "Class 8\n"
     ]
    },
    {
     "name": "stderr",
     "output_type": "stream",
     "text": [
      "Processing images: 100%|██████████| 11/11 [00:11<00:00,  1.08s/it]\n"
     ]
    },
    {
     "name": "stdout",
     "output_type": "stream",
     "text": [
      "Class 9\n"
     ]
    },
    {
     "name": "stderr",
     "output_type": "stream",
     "text": [
      "Processing images: 100%|██████████| 11/11 [00:12<00:00,  1.11s/it]\n"
     ]
    }
   ],
   "source": [
    "# Compute SF for each graph (each class)\n",
    "graphs = {}\n",
    "for g in range(10): \n",
    "    print(f\"Class {g}\")\n",
    "    graphs[g] = lg.LogicGraph(model)\n",
    "    graphs[g].compute_sf(train_class_loaders[g])"
   ]
  },
  {
   "cell_type": "code",
   "execution_count": 32,
   "id": "0497f639-1ec5-44a7-a244-a1aa222bb954",
   "metadata": {
    "tags": []
   },
   "outputs": [
    {
     "name": "stdout",
     "output_type": "stream",
     "text": [
      "0\n"
     ]
    },
    {
     "name": "stderr",
     "output_type": "stream",
     "text": [
      "Processing images: 100%|██████████| 3/3 [00:00<00:00, 10.30it/s]\n",
      "Processing images: 100%|██████████| 1/1 [00:00<00:00, 10.20it/s]\n",
      "Processing images: 100%|██████████| 102/102 [00:10<00:00,  9.93it/s]\n"
     ]
    },
    {
     "name": "stdout",
     "output_type": "stream",
     "text": [
      "1\n"
     ]
    },
    {
     "name": "stderr",
     "output_type": "stream",
     "text": [
      "Processing images: 100%|██████████| 105/105 [00:10<00:00,  9.91it/s]\n"
     ]
    },
    {
     "name": "stdout",
     "output_type": "stream",
     "text": [
      "2\n"
     ]
    },
    {
     "name": "stderr",
     "output_type": "stream",
     "text": [
      "Processing images: 100%|██████████| 2/2 [00:00<00:00, 10.14it/s]\n",
      "Processing images: 100%|██████████| 2/2 [00:00<00:00, 10.20it/s]\n",
      "Processing images: 100%|██████████| 102/102 [00:10<00:00,  9.86it/s]\n"
     ]
    },
    {
     "name": "stdout",
     "output_type": "stream",
     "text": [
      "3\n"
     ]
    },
    {
     "name": "stderr",
     "output_type": "stream",
     "text": [
      "Processing images: 100%|██████████| 1/1 [00:00<00:00, 10.12it/s]\n",
      "Processing images: 100%|██████████| 1/1 [00:00<00:00, 10.15it/s]\n",
      "Processing images: 100%|██████████| 103/103 [00:10<00:00,  9.84it/s]\n"
     ]
    },
    {
     "name": "stdout",
     "output_type": "stream",
     "text": [
      "4\n"
     ]
    },
    {
     "name": "stderr",
     "output_type": "stream",
     "text": [
      "Processing images: 100%|██████████| 2/2 [00:00<00:00, 10.18it/s]\n",
      "Processing images: 100%|██████████| 2/2 [00:00<00:00, 10.21it/s]\n",
      "Processing images: 100%|██████████| 102/102 [00:10<00:00,  9.80it/s]\n"
     ]
    },
    {
     "name": "stdout",
     "output_type": "stream",
     "text": [
      "5\n"
     ]
    },
    {
     "name": "stderr",
     "output_type": "stream",
     "text": [
      "Processing images: 100%|██████████| 1/1 [00:00<00:00, 10.11it/s]\n",
      "Processing images: 100%|██████████| 103/103 [00:10<00:00,  9.76it/s]\n"
     ]
    },
    {
     "name": "stdout",
     "output_type": "stream",
     "text": [
      "6\n"
     ]
    },
    {
     "name": "stderr",
     "output_type": "stream",
     "text": [
      "Processing images: 100%|██████████| 2/2 [00:00<00:00, 10.23it/s]\n",
      "Processing images: 100%|██████████| 4/4 [00:00<00:00, 10.30it/s]\n",
      "Processing images: 100%|██████████| 102/102 [00:10<00:00,  9.70it/s]\n"
     ]
    },
    {
     "name": "stdout",
     "output_type": "stream",
     "text": [
      "7\n"
     ]
    },
    {
     "name": "stderr",
     "output_type": "stream",
     "text": [
      "Processing images: 100%|██████████| 1/1 [00:00<00:00, 10.09it/s]\n",
      "Processing images: 100%|██████████| 1/1 [00:00<00:00, 10.15it/s]\n",
      "Processing images: 100%|██████████| 104/104 [00:10<00:00,  9.71it/s]\n"
     ]
    },
    {
     "name": "stdout",
     "output_type": "stream",
     "text": [
      "8\n"
     ]
    },
    {
     "name": "stderr",
     "output_type": "stream",
     "text": [
      "Processing images: 100%|██████████| 104/104 [00:10<00:00,  9.67it/s]\n"
     ]
    },
    {
     "name": "stdout",
     "output_type": "stream",
     "text": [
      "9\n"
     ]
    },
    {
     "name": "stderr",
     "output_type": "stream",
     "text": [
      "Processing images: 100%|██████████| 104/104 [00:10<00:00,  9.63it/s]\n"
     ]
    }
   ],
   "source": [
    "# Compute FPS, TPS, FNS and TNS for each graph\n",
    "fps = {}\n",
    "tps = {}\n",
    "fns = {}\n",
    "tns = {}\n",
    "for g in range(10): \n",
    "    print(g)\n",
    "    fps[g] = lg.LogicGraph(model)\n",
    "    if [i for i in class_specific_datasets['FP_class'][g]] != []:\n",
    "        fps[g].compute_sf(class_specific_datasets['FP_class'][g])\n",
    "    #tps[g] = LogicGraph(model)\n",
    "    #if [i for i in class_specific_datasets['TP_class'][g]] != []:\n",
    "    #    tps[g].compute_sf(class_specific_datasets['TP_class'][g])\n",
    "    fns[g] = lg.LogicGraph(model)\n",
    "    if [i for i in class_specific_datasets['FN_class'][g]] != []:\n",
    "        fns[g].compute_sf(class_specific_datasets['FN_class'][g])\n",
    "    tns[g] = lg.LogicGraph(model)\n",
    "    if [i for i in class_specific_datasets['TN_class'][g]] != []:\n",
    "        tns[g].compute_sf(class_specific_datasets['TN_class'][g])"
   ]
  },
  {
   "cell_type": "code",
   "execution_count": 33,
   "id": "747f9edf-9998-474f-963b-555bbe428c0e",
   "metadata": {
    "tags": []
   },
   "outputs": [
    {
     "name": "stdout",
     "output_type": "stream",
     "text": [
      "Computing diffs\n",
      "Computing centered\n",
      "Computing specific\n"
     ]
    }
   ],
   "source": [
    "# Compute SF Diff for each combination\n",
    "print(\"Computing diffs\")\n",
    "diffs = {}\n",
    "for i in range(10): \n",
    "    diff = {} \n",
    "    for j in range(10): \n",
    "        diff[j] = graphs[i] - graphs[j]\n",
    "    diffs[i] = diff\n",
    "\n",
    "print(\"Computing centered\")\n",
    "centered = {}\n",
    "for i in range(10): \n",
    "    centered[i] = graphs[i] - gall\n",
    "    \n",
    "print(\"Computing specific\")\n",
    "specific = {}\n",
    "for i in range(10): \n",
    "    specific[i] = graphs[i] - tns[i]    "
   ]
  },
  {
   "cell_type": "markdown",
   "id": "77437287-2d92-409b-bf14-5ff6a0982ecd",
   "metadata": {
    "tags": []
   },
   "source": [
    "##### **Visualizations**"
   ]
  },
  {
   "cell_type": "markdown",
   "id": "b3faee65-87c1-4572-ba02-b7e1ef1da33a",
   "metadata": {},
   "source": [
    "Initialize helper functions for visualizing the FAN-IN"
   ]
  },
  {
   "cell_type": "code",
   "execution_count": 34,
   "id": "2c6a0d79-fff6-4e30-a60b-5d1359c1bc59",
   "metadata": {
    "tags": []
   },
   "outputs": [],
   "source": [
    "a_not_list = [\"not_implied_by\", \"not_or\",\"not_xor\",\"not_a\",\"implies\",\"not_and\"]\n",
    "b_not_list = [\"not_implies\", \"not_or\",\"not_xor\",\"not_b\",\"implied_by\",\"not_and\"]\n",
    "\n",
    "def find_fan_in(G, output_node, threshold,metric=\"sf\"):\n",
    "    \"\"\"\n",
    "    Find all input nodes connected to the given output node.\n",
    "    \"\"\"\n",
    "    fan_in = set()\n",
    "    nodes_to_check = [(output_node,1)]\n",
    "    input_set = []\n",
    "    while nodes_to_check:\n",
    "        \n",
    "        # Get node and node properties \n",
    "        parent_node, dpo = nodes_to_check.pop(0)\n",
    "        new_fan_in  = []\n",
    "        child_gates = []\n",
    "        parent_type = G.nodes[parent_node][\"gate\"]\n",
    "        \n",
    "        # Account for all predesesors\n",
    "        for child_node in list(G.predecessors(parent_node)): \n",
    "            \n",
    "            desired_parent_output = dpo*1\n",
    "            \n",
    "            # Get type of child node \n",
    "            child_type = G.nodes[child_node][\"gate\"]\n",
    "            \n",
    "            # Account for output case \n",
    "            if parent_type == \"output\": \n",
    "\n",
    "                # Check whether the current node is contributing to the class output\n",
    "                desired_child_output = desired_parent_output\n",
    "                if G.nodes[child_node][metric] > threshold: \n",
    "                    child_gates.append((child_node, desired_child_output))\n",
    "                    new_fan_in.append((child_node,  desired_child_output))\n",
    "\n",
    "            # Account for hidden-layer case \n",
    "            elif child_node != \"input\": \n",
    "\n",
    "                # Get the current wire type\n",
    "                props     = G.get_edge_data(child_node, parent_node)\n",
    "                wire_type = props[\"ab\"] if \"ab\" in props.keys() else None\n",
    "\n",
    "                # Check whether the current wire increases the class score by being zero\n",
    "                if (wire_type == \"a\" and parent_type in a_not_list) or (wire_type == \"b\" and parent_type in b_not_list): \n",
    "                    \n",
    "                    # Adjust the \"desired child output\"\n",
    "                    desired_child_output = -desired_parent_output\n",
    "                    \n",
    "                    # Check whether the current node is contributing to the class output\n",
    "                    if G.nodes[child_node][metric] <= threshold: # Less than because we contribute by being a zero \n",
    "                        child_gates.append((child_node,desired_child_output))\n",
    "                        new_fan_in.append((child_node,desired_child_output))\n",
    "                    \n",
    "                # Case where the current wire increases the class score by being a one\n",
    "                else: \n",
    "                    \n",
    "                    # Adjust the \"desired child output\"\n",
    "                    desired_child_output = desired_parent_output\n",
    "                    \n",
    "                    # Check whether the current node is contributing to the class output\n",
    "                    if G.nodes[child_node][metric] > threshold: \n",
    "                        child_gates.append((child_node,desired_child_output))\n",
    "                        new_fan_in.append((child_node,desired_child_output))\n",
    "\n",
    "            # Account for input case\n",
    "            else: \n",
    "                \n",
    "                # Get the current wire type\n",
    "                props = G.get_edge_data(child_node, parent_node)\n",
    "                wire_type = props[\"ab\"] if \"ab\" in props.keys() else None\n",
    "\n",
    "                # Check whether the current wire increases the class score by being zero\n",
    "                if (wire_type == \"a\" and parent_type in a_not_list) or (wire_type == \"b\" and parent_type in b_not_list): \n",
    "                    \n",
    "                    # Adjust the \"desired child output\"\n",
    "                    child_sign = -1*parent_sign\n",
    "                    new_fan_in.append(  (child_node, child_sign))\n",
    "                    input_set.append( (child_node, child_sign))\n",
    "                    \n",
    "                # Case where the current wire increases the class score by being a one\n",
    "                else: \n",
    "                    \n",
    "                    # Adjust the \"desired child output\"\n",
    "                    child_sign = parent_sign\n",
    "                    new_fan_in.append(  (child_node, child_sign))\n",
    "                    input_set.append( (child_node, child_sign))\n",
    "                        \n",
    "        fan_in.update(new_fan_in)\n",
    "        nodes_to_check.extend(child_gates)\n",
    "\n",
    "    return fan_in, input_set\n",
    "\n",
    "def node_to_pixel(node_id):\n",
    "    \"\"\"\n",
    "    Convert a node ID (e.g., 'L0_Gate 1') to pixel coordinates.\n",
    "    Assumes the input layer corresponds to a 28x28 image (MNIST format).\n",
    "    \"\"\"\n",
    "    if (node_id != \"HIGH\") and (node_id != \"LOW\"): \n",
    "        layer, gate = node_id.split('_')\n",
    "        \n",
    "        gate_num = int(gate.split(\"N\")[1]) - 1  # Convert 'Gate X' to zero-based index\n",
    "\n",
    "        if layer == 'L0':  # Input layer\n",
    "            y = gate_num // shape[1]\n",
    "            x = gate_num % shape[0]\n",
    "            return (x, y)\n",
    "        \n",
    "    return None  # For non-input layers, return None\n",
    "\n",
    "def visualize_fan_in(G, output_node,threshold,signed=True, show=False,metric=\"sf\"):\n",
    "    \"\"\"\n",
    "    Visualize the fan-in of the given output node as highlighted pixels in an image.\n",
    "    \"\"\"\n",
    "    fan_in,pixels = find_fan_in(G, output_node,threshold,metric)\n",
    "    # Create a blank 28x28 image\n",
    "    img = np.zeros(shape)\n",
    "    \n",
    "    # Highlight pixels corresponding to input nodes in the fan-in\n",
    "    for node,sign in fan_in:\n",
    "        pixel = node_to_pixel(node)\n",
    "        if pixel:\n",
    "            x, y = pixel\n",
    "            if signed: \n",
    "                img[y, x] += sign  # Set pixel to white (1)\n",
    "            else: \n",
    "                img[y, x] += 1  # Set pixel to white (1)\n",
    "\n",
    "    if show: \n",
    "        # Plot the image\n",
    "        plt.imshow(img)\n",
    "        plt.title(f\"Fan-in visualization for {output_node}\")\n",
    "        plt.colorbar()\n",
    "        plt.axis('off')\n",
    "        plt.show()\n",
    "    \n",
    "    return img, fan_in,pixels"
   ]
  },
  {
   "cell_type": "markdown",
   "id": "3a548d62-e58a-4f3d-a757-50e95fd5f4a9",
   "metadata": {},
   "source": [
    "Visualize the saliency maps for the FAN-IN (Class specific SF, and Global SF)"
   ]
  },
  {
   "cell_type": "code",
   "execution_count": 39,
   "id": "54a404eb-a2b3-45f9-bcd9-5e7faecd11ed",
   "metadata": {
    "tags": []
   },
   "outputs": [
    {
     "name": "stdout",
     "output_type": "stream",
     "text": [
      "#################################################### Switch Probability ####################################################\n",
      "--- Uniform 0.5\n"
     ]
    },
    {
     "data": {
      "image/png": "[encoded data removed]",
      "text/plain": [
       "<Figure size 1500x1000 with 10 Axes>"
      ]
     },
     "metadata": {},
     "output_type": "display_data"
    },
    {
     "name": "stdout",
     "output_type": "stream",
     "text": [
      "--- Average of All Images\n"
     ]
    },
    {
     "data": {
      "image/png": "[encoded data removed]",
      "text/plain": [
       "<Figure size 1500x1000 with 10 Axes>"
      ]
     },
     "metadata": {},
     "output_type": "display_data"
    },
    {
     "name": "stdout",
     "output_type": "stream",
     "text": [
      "--- Average of Class-Specific Images\n"
     ]
    },
    {
     "data": {
      "image/png": "[encoded data removed]",
      "text/plain": [
       "<Figure size 1500x1000 with 10 Axes>"
      ]
     },
     "metadata": {},
     "output_type": "display_data"
    },
    {
     "name": "stdout",
     "output_type": "stream",
     "text": [
      "--- (Class-Specific) - (Global Average)\n"
     ]
    },
    {
     "data": {
      "image/png": "[encoded data removed]",
      "text/plain": [
       "<Figure size 1500x1000 with 10 Axes>"
      ]
     },
     "metadata": {},
     "output_type": "display_data"
    },
    {
     "name": "stdout",
     "output_type": "stream",
     "text": [
      "#################################################### Switch Frequency ####################################################\n",
      "--- (Signed Association)\n"
     ]
    },
    {
     "data": {
      "image/png": "[encoded data removed]",
      "text/plain": [
       "<Figure size 1500x1000 with 10 Axes>"
      ]
     },
     "metadata": {},
     "output_type": "display_data"
    },
    {
     "name": "stdout",
     "output_type": "stream",
     "text": [
      "--- (All Data)\n"
     ]
    },
    {
     "data": {
      "image/png": "[encoded data removed]",
      "text/plain": [
       "<Figure size 1500x1000 with 10 Axes>"
      ]
     },
     "metadata": {},
     "output_type": "display_data"
    },
    {
     "name": "stdout",
     "output_type": "stream",
     "text": [
      "--- (Class-Specific)\n"
     ]
    },
    {
     "data": {
      "image/png": "[encoded data removed]",
      "text/plain": [
       "<Figure size 1500x1000 with 10 Axes>"
      ]
     },
     "metadata": {},
     "output_type": "display_data"
    },
    {
     "name": "stdout",
     "output_type": "stream",
     "text": [
      "--- (Class-Specific) - (All Data)\n"
     ]
    },
    {
     "data": {
      "image/png": "[encoded data removed]",
      "text/plain": [
       "<Figure size 1500x1000 with 10 Axes>"
      ]
     },
     "metadata": {},
     "output_type": "display_data"
    }
   ],
   "source": [
    "# Configuration\n",
    "thresholds_uniform = [float(i) / 100 for i in range(100)]\n",
    "thresholds_offset = [float(i) / 100 - 0.5 for i in range(100)]\n",
    "outputs = [f\"L3_N{i}\" for i in range(10)]  # Modify as needed for your dataset\n",
    "test = True\n",
    "\n",
    "# Helper Functions\n",
    "def load_class_averages(dataset_name, num_classes, shape):\n",
    "    \"\"\"Load class-specific average images.\"\"\"\n",
    "    p_maps = []\n",
    "    for class_idx in range(num_classes):\n",
    "        img_path = f\"averaged_images/{dataset_name}_averages/average_{class_idx}.png\"\n",
    "        image = cv2.imread(img_path)[4:24, 4:24, 1] / 255  # Crop and normalize\n",
    "        p_maps.append(image)\n",
    "    return p_maps\n",
    "\n",
    "def compute_graphs(graph, p_maps):\n",
    "    \"\"\"Compute graphs and differences for class-specific averages.\"\"\"\n",
    "    sp_graphs = []\n",
    "    sp_diffs = []\n",
    "    for p_map in p_maps:\n",
    "        sp_graph = copy.deepcopy(graph)\n",
    "        sp_graph.compute_sp(p_map)\n",
    "        sp_graphs.append(sp_graph)\n",
    "        sp_diffs.append(sp_graph.sub_sp(graph))\n",
    "    return sp_graphs, sp_diffs\n",
    "\n",
    "def plot_images(images, titles=None, figsize=(15, 10), cmap=\"inferno\"):\n",
    "    \"\"\"Plot a row of images.\"\"\"\n",
    "    fig, ax = plt.subplots(1, len(images), figsize=figsize)\n",
    "    for i, img in enumerate(images):\n",
    "        ax[i].imshow(img, cmap=cmap)\n",
    "        ax[i].set_axis_off()\n",
    "        if titles:\n",
    "            ax[i].title.set_text(titles[i])\n",
    "    plt.show()\n",
    "\n",
    "def plot_row(graphs, thresholds, signed, metric, outputs):\n",
    "    \"\"\"Plot pixel attributions for multiple output nodes.\"\"\"\n",
    "    fig, ax = plt.subplots(1, len(outputs), figsize=(15, 10))\n",
    "    for i, output_node in enumerate(outputs):\n",
    "        G = graphs[i].g\n",
    "        images = [\n",
    "            visualize_fan_in(G, output_node, threshold, signed, False, metric)[0]\n",
    "            for threshold in thresholds\n",
    "        ]\n",
    "        avg_image = np.average(images, axis=0)\n",
    "        ax[i].imshow(avg_image, cmap=\"inferno\")\n",
    "        ax[i].set_axis_off()\n",
    "    plt.show()\n",
    "\n",
    "\n",
    "# Main Workflow\n",
    "if __name__ == \"__main__\":\n",
    "    print(\"#################################################### Switch Probability ####################################################\") if test else None\n",
    "\n",
    "    # Uniform Threshold\n",
    "    if test:\n",
    "        print(\"--- Uniform 0.5\")\n",
    "        gall.compute_sp(np.ones(shape) - 0.5)\n",
    "        plot_row([gall for _ in range(len(outputs))], thresholds_uniform, True, \"sp\", outputs)\n",
    "\n",
    "    # Average of All Images\n",
    "    if test:\n",
    "        print(\"--- Average of All Images\")\n",
    "        all_avg_path = f\"averaged_images/{dataset_name}_averages/average_all.png\"\n",
    "        all_avg = cv2.imread(all_avg_path)[4:24, 4:24, 1] / 255\n",
    "        gall.compute_sp(all_avg)\n",
    "        plot_row([gall for _ in range(len(outputs))], thresholds_uniform, True, \"sp\", outputs)\n",
    "\n",
    "    # Class-Specific Averages\n",
    "    print(\"--- Average of Class-Specific Images\") if test else None\n",
    "    p_maps = load_class_averages(dataset_name, len(outputs), shape)\n",
    "    sp_graphs, sp_diffs = compute_graphs(gall, p_maps)\n",
    "    plot_row(sp_graphs, thresholds_uniform, True, \"sp\", outputs)\n",
    "\n",
    "    # Class-Specific - Global Average\n",
    "    print(\"--- (Class-Specific) - (Global Average)\") if test else None\n",
    "    plot_row(sp_diffs, thresholds_offset, True, \"sp\", outputs)\n",
    "\n",
    "    print(\"#################################################### Switch Frequency ####################################################\") if test else None\n",
    "\n",
    "    # Class-Specific Signed Associations\n",
    "    print(\"--- (Signed Association)\") if test else None\n",
    "    plot_row(graphs, [-1, 0], True, \"sf\", outputs)\n",
    "\n",
    "    # Uniform Threshold\n",
    "    print(\"--- (All Data)\") if test else None\n",
    "    plot_row([gall for _ in range(len(outputs))], thresholds_uniform, True, \"sf\", outputs)\n",
    "\n",
    "    # Class-Specific Thresholds\n",
    "    print(\"--- (Class-Specific)\") if test else None\n",
    "    plot_row(graphs, thresholds_uniform, True, \"sf\", outputs)\n",
    "\n",
    "    # Class-Specific - All Data\n",
    "    print(\"--- (Class-Specific) - (All Data)\") if test else None\n",
    "    plot_row(sp_diffs, thresholds_offset, True, \"sf\", outputs)"
   ]
  },
  {
   "cell_type": "markdown",
   "id": "82764403-d0b9-47b2-8b97-114951a98cfa",
   "metadata": {},
   "source": [
    "Show and generate local explanations"
   ]
  },
  {
   "cell_type": "code",
   "execution_count": 51,
   "id": "212d5bce-fe25-43bb-af9a-1a0999f9f0b4",
   "metadata": {
    "tags": []
   },
   "outputs": [
    {
     "data": {
      "image/png": "[encoded data removed]",
      "text/plain": [
       "<Figure size 1500x1000 with 11 Axes>"
      ]
     },
     "metadata": {},
     "output_type": "display_data"
    },
    {
     "data": {
      "image/png": "[encoded data removed]",
      "text/plain": [
       "<Figure size 1500x1000 with 11 Axes>"
      ]
     },
     "metadata": {},
     "output_type": "display_data"
    },
    {
     "data": {
      "image/png": "[encoded data removed]",
      "text/plain": [
       "<Figure size 1500x1000 with 11 Axes>"
      ]
     },
     "metadata": {},
     "output_type": "display_data"
    },
    {
     "data": {
      "image/png": "[encoded data removed]",
      "text/plain": [
       "<Figure size 1500x1000 with 11 Axes>"
      ]
     },
     "metadata": {},
     "output_type": "display_data"
    },
    {
     "data": {
      "image/png": "[encoded data removed]",
      "text/plain": [
       "<Figure size 1500x1000 with 11 Axes>"
      ]
     },
     "metadata": {},
     "output_type": "display_data"
    },
    {
     "data": {
      "image/png": "[encoded data removed]",
      "text/plain": [
       "<Figure size 1500x1000 with 11 Axes>"
      ]
     },
     "metadata": {},
     "output_type": "display_data"
    },
    {
     "data": {
      "image/png": "[encoded data removed]",
      "text/plain": [
       "<Figure size 1500x1000 with 11 Axes>"
      ]
     },
     "metadata": {},
     "output_type": "display_data"
    }
   ],
   "source": [
    "mode = \"sf\"  # Options: \"sp\"/\"sf\"\n",
    "thresholds = [0.0]\n",
    "p_type = \"FP\"\n",
    "class_num = 2\n",
    "\n",
    "# Switching Frequency/Probability based local explanations\n",
    "model.flatten = lambda x: torch.flatten(x).reshape(1, shape[0] * shape[1])\n",
    "\n",
    "def visualize_class_data(g, data, outputs, ax, mode, thresholds):\n",
    "    \"\"\"\n",
    "    Visualizes the class data and overlays the explanations.\n",
    "    \"\"\"\n",
    "    for i, output_node in enumerate(outputs): \n",
    "        im = []\n",
    "        for threshold in thresholds: \n",
    "            img, fan_in, pixels = visualize_fan_in(g.g, output_node, threshold, True, False)\n",
    "            im.append(img)\n",
    "\n",
    "        img = np.average(im, axis=0)\n",
    "        overlap = np.array(img.flatten() == (data * 2 - 1).cpu().detach().numpy()).astype(int)\n",
    "        \n",
    "        # Overlay the explanation and display\n",
    "        ax[i].imshow((img.flatten() * overlap).reshape((shape[0], shape[1], 1)), cmap=\"inferno\")\n",
    "        ax[i].set_title(f\"{i}-{np.sum(np.abs(img))}\")\n",
    "        ax[i].axis(\"off\")  # Turn off the axes for cleaner display\n",
    "\n",
    "    # Show the input data\n",
    "    ax[len(outputs)].imshow(data.reshape((shape[0], shape[1], 1)), cmap=\"gray\")\n",
    "    ax[len(outputs)].set_title(f\"Prediction: {np.argmax(np.array(g.forward(data.float().view(1, -1)).cpu().detach()))}\")\n",
    "    ax[len(outputs)].axis(\"off\")  # Turn off the axes for cleaner display\n",
    "\n",
    "# Main Loop\n",
    "for k, (data, label) in enumerate(class_specific_datasets[f'{p_type}_class'][class_num].dataset): \n",
    "    g = lg.LogicGraph(model)\n",
    "    \n",
    "    # Compute either sf or sp based on the mode\n",
    "    if mode == \"sf\": \n",
    "        g.compute_sf(data.unsqueeze(0).to(float))\n",
    "    elif mode == \"sp\":\n",
    "        g.compute_sp(data.unsqueeze(0).to(float))\n",
    "    \n",
    "    # Set up the figure\n",
    "    fig, ax = plt.subplots(1, len(outputs) + 1, figsize=(15, 10))\n",
    "    \n",
    "    # Visualize the class data\n",
    "    visualize_class_data(g, data, outputs, ax, mode, thresholds)\n",
    "    \n",
    "    # Display the visualization\n",
    "    plt.tight_layout()  # Ensure everything fits nicely\n",
    "    plt.show()\n",
    "    \n",
    "    # Stop after showing 5 images\n",
    "    if k > 5: \n",
    "        break"
   ]
  },
  {
   "cell_type": "markdown",
   "id": "89ac9cd8-60b0-4582-b632-e125240bd98c",
   "metadata": {},
   "source": [
    "Compare Evidence for TP/FN/FP cases"
   ]
  },
  {
   "cell_type": "code",
   "execution_count": 52,
   "id": "3c654762-644b-43ab-9aca-b57b98d3ac1d",
   "metadata": {
    "tags": []
   },
   "outputs": [
    {
     "data": {
      "image/png": "[encoded data removed]",
      "text/plain": [
       "<Figure size 1500x1000 with 11 Axes>"
      ]
     },
     "metadata": {},
     "output_type": "display_data"
    },
    {
     "data": {
      "image/png": "[encoded data removed]",
      "text/plain": [
       "<Figure size 1500x1000 with 11 Axes>"
      ]
     },
     "metadata": {},
     "output_type": "display_data"
    },
    {
     "data": {
      "image/png": "[encoded data removed]",
      "text/plain": [
       "<Figure size 1500x1000 with 11 Axes>"
      ]
     },
     "metadata": {},
     "output_type": "display_data"
    }
   ],
   "source": [
    "def visualize_class_data(dataset, class_name, label, model, outputs, shape):\n",
    "    for k, (data, _) in enumerate(dataset):\n",
    "        g = lg.LogicGraph(model)\n",
    "        g.compute_sf(data.unsqueeze(0).to(float))\n",
    "        \n",
    "        fig, ax = plt.subplots(1, len(outputs) + 1, figsize=(15, 10))\n",
    "        thresholds = [0.0]\n",
    "        \n",
    "        for i, output_node in enumerate(outputs):\n",
    "            im = []\n",
    "            for threshold in thresholds:\n",
    "                img, fan_in, pixels = visualize_fan_in(g.g, output_node, threshold, True, False)\n",
    "                im.append(img)\n",
    "            \n",
    "            img = np.average(im, axis=0)\n",
    "            overlap = np.array(img.flatten() == (data * 2 - 1).cpu().detach().numpy()).astype(int)\n",
    "            \n",
    "            ax[i + 1].imshow((img.flatten() * overlap).reshape((shape[0], shape[1], 1)), \"inferno\", vmin=-1, vmax=1)\n",
    "            ax[i + 1].title.set_text(f\"C: {i}; $\\Sigma$={int(np.sum(np.abs(img).flatten() * overlap))}\")\n",
    "            ax[i + 1].set_axis_off()\n",
    "        \n",
    "        ax[0].imshow(data.reshape((shape[0], shape[1], 1)), \"inferno\")\n",
    "        ax[0].title.set_text(f\"C: {np.argmax(np.array(g.forward(data.float().view(1, -1)).cpu().detach()))} ({class_name})\")\n",
    "        ax[0].set_axis_off()\n",
    "        \n",
    "        plt.show()\n",
    "        \n",
    "        break\n",
    "\n",
    "# Visualize True Positive, False Positive, and False Negative class data\n",
    "index = 1\n",
    "visualize_class_data(class_specific_datasets['TP_class'][index].dataset, 'TP', label, model, outputs, shape)\n",
    "visualize_class_data(class_specific_datasets['FP_class'][index].dataset, 'FP', label, model, outputs, shape)\n",
    "visualize_class_data(class_specific_datasets['FN_class'][index].dataset, 'FN', label, model, outputs, shape)"
   ]
  },
  {
   "cell_type": "markdown",
   "id": "63ef7090-54d6-4960-be99-2d960b0e8b43",
   "metadata": {
    "tags": []
   },
   "source": [
    "### **MiniNets**"
   ]
  },
  {
   "cell_type": "markdown",
   "id": "b2db6bc9-db74-45a1-8114-4c625635b70f",
   "metadata": {},
   "source": [
    "Model Declaration"
   ]
  },
  {
   "cell_type": "code",
   "execution_count": 83,
   "id": "9bbf2937-895e-406d-b8d3-814626511cac",
   "metadata": {
    "tags": []
   },
   "outputs": [
    {
     "name": "stdout",
     "output_type": "stream",
     "text": [
      "LogicLayer(784, 5000, train)\n",
      "LogicLayer(5000, 5000, train)\n"
     ]
    }
   ],
   "source": [
    "# write the name of the model you want to work with\n",
    "model_name = 'model_001'\n",
    "\n",
    "# declare file paths\n",
    "trained_models_dir = f'trained_models/{dataset_name}_trained_models/'\n",
    "with initialize(version_base=None, config_path=\"config\", job_name=\"ExpLogic_Test\"):\n",
    "    model_cfg = compose(config_name=f\"{dataset_name}_config_{shape[0]}x{shape[0]}\")\n",
    "model_cfg = model_cfg['models'][model_name]\n",
    "\n",
    "# instantiate a DiffLogic model\n",
    "model = DiffLogic(layers_config=model_cfg['layers_config'], \n",
    "    output_size=model_cfg['output_size'], \n",
    "    tau=model_cfg['tau']).to('cuda' if torch.cuda.is_available() else 'cpu')    \n",
    "\n",
    "# load the DiffLogic model \"weights\" (the logic gates/connections) \n",
    "model_path = os.path.join(trained_models_dir, model_name + \".pth\")\n",
    "model.load(model_path)"
   ]
  },
  {
   "cell_type": "markdown",
   "id": "23e606fa-cca7-49bc-a77e-121c006e3555",
   "metadata": {
    "tags": []
   },
   "source": [
    "MiniNet Class"
   ]
  },
  {
   "cell_type": "code",
   "execution_count": 84,
   "id": "fdcee001-f330-4ff7-8006-d0f35191ba78",
   "metadata": {
    "tags": []
   },
   "outputs": [],
   "source": [
    "def bin_op(a, b, i):\n",
    "    \"\"\"\n",
    "    Compute the logic gate outputs for given inputs and gate indices.\n",
    "    \n",
    "    Args:\n",
    "        a: Tensor of shape (batch_size, out_dim)\n",
    "        b: Tensor of shape (batch_size, out_dim)\n",
    "        i: Tensor of shape (out_dim,), representing gate indices.\n",
    "\n",
    "    Returns:\n",
    "        Tensor of shape (batch_size, out_dim), the computed outputs.\n",
    "    \"\"\"\n",
    "    # Define operations for all possible gates\n",
    "    gate_ops = {\n",
    "        0: lambda a, b: torch.zeros_like(a),  # zero\n",
    "        1: lambda a, b: a * b,  # and\n",
    "        2: lambda a, b: a - a * b,  # not_implies\n",
    "        3: lambda a, b: a,  # a\n",
    "        4: lambda a, b: b - a * b,  # not_implied_by\n",
    "        5: lambda a, b: b,  # b\n",
    "        6: lambda a, b: a + b - 2 * a * b,  # xor\n",
    "        7: lambda a, b: a + b - a * b,  # or\n",
    "        8: lambda a, b: 1 - (a + b - a * b),  # not_or\n",
    "        9: lambda a, b: 1 - (a + b - 2 * a * b),  # not_xor\n",
    "        10: lambda a, b: 1 - b,  # not_b\n",
    "        11: lambda a, b: 1 - b + a * b,  # implied_by\n",
    "        12: lambda a, b: 1 - a,  # not_a\n",
    "        13: lambda a, b: 1 - a + a * b,  # implies\n",
    "        14: lambda a, b: 1 - a * b,  # not_and\n",
    "        15: lambda a, b: torch.ones_like(a),  # one\n",
    "    }\n",
    "\n",
    "    outputs = torch.zeros_like(a, dtype=torch.float32)\n",
    "\n",
    "    for gate_idx in torch.unique(i):\n",
    "        mask = (i == gate_idx).unsqueeze(0)  # Shape: (1, out_dim)\n",
    "        gate_output = gate_ops[gate_idx.item()](a, b)\n",
    "        outputs += gate_output * mask.float()\n",
    "    return outputs\n",
    "\n",
    "\n",
    "class CustomLogicLayer(torch.nn.Module):\n",
    "    def __init__(\n",
    "        self,\n",
    "        in_dim: int,\n",
    "        out_dim: int,\n",
    "        connections: torch.Tensor,  # Connections between input and output nodes\n",
    "        logic_gates: list,          # Logic gates for each output neuron\n",
    "        device: str = \"cuda\",\n",
    "    ):\n",
    "        super().__init__()\n",
    "        self.indices = connections.to(device)\n",
    "        self.logic_gates = torch.tensor(logic_gates, dtype=torch.long, device=device)\n",
    "        self.in_dim = in_dim\n",
    "        self.out_dim = out_dim\n",
    "        self.device = device\n",
    "\n",
    "    def forward(self, x):\n",
    "        return self.forward_python(x)\n",
    "\n",
    "    def forward_python(self, x):\n",
    "        assert x.shape[-1] == self.in_dim, (x.shape[-1], self.in_dim)\n",
    "        \n",
    "        a = x[..., self.indices[:, 0]]  # Shape: (batch_size, out_dim)\n",
    "        b = x[..., self.indices[:, 1]]  # Shape: (batch_size, out_dim)\n",
    "\n",
    "        gate_indices = self.logic_gates  # Shape: (out_dim,)\n",
    "\n",
    "        # Compute the outputs using bin_op and the known gate indices\n",
    "        outputs = bin_op(a, b, gate_indices)\n",
    "        return outputs\n",
    "\n",
    "    def extra_repr(self):\n",
    "        return \"{}, {}, {}\".format(self.in_dim, self.out_dim, \"train\" if self.training else \"eval\")\n",
    "    \n",
    "    \n",
    "class CustomDiffLogic(torch.nn.Module):\n",
    "    def __init__(self, layer_specs, output_size=10, device=\"cuda\", tau=30):\n",
    "        \"\"\"\n",
    "        Constructs a network using layers of logic gates and custom connections.\n",
    "        \n",
    "        Args:\n",
    "            layer_specs (list): List of layer specifications, each containing\n",
    "                                input size, output size, connections, and logic gates.\n",
    "            output_size (int): Number of output groups/classes.\n",
    "            device (str): Device for computation (e.g., 'cuda' or 'cpu').\n",
    "            tau (int): Temperature parameter for the GroupSum layer.\n",
    "        \"\"\"\n",
    "        super(CustomDiffLogic, self).__init__()\n",
    "        self.flatten = torch.nn.Flatten()\n",
    "        self.device = device\n",
    "\n",
    "        layers = []\n",
    "\n",
    "        # Create each layer with specific connections and logic gates\n",
    "        for layer_spec in layer_specs:\n",
    "            layer = CustomLogicLayer(\n",
    "                in_dim=layer_spec[\"input_size\"],\n",
    "                out_dim=layer_spec[\"output_size\"],\n",
    "                connections=layer_spec[\"connections\"],\n",
    "                logic_gates=layer_spec[\"logic_gates\"],\n",
    "                device=self.device,\n",
    "            )\n",
    "            layers.append(layer)\n",
    "\n",
    "        self.logic_layers = torch.nn.Sequential(*layers)\n",
    "        #self.group = GroupSum(k=output_size, tau=tau)\n",
    "\n",
    "    def forward(self, x):\n",
    "        # Flatten input for processing\n",
    "        if torch.cuda.is_available():\n",
    "            x = x.to(self.device)\n",
    "\n",
    "        x = self.flatten(x)\n",
    "        logits = self.logic_layers(x)\n",
    "\n",
    "        output = logits.sum(dim=1)\n",
    "        \n",
    "        # Grouping the final logits\n",
    "        return output"
   ]
  },
  {
   "cell_type": "markdown",
   "id": "f5ede275-216e-4458-bc08-1637c03adc48",
   "metadata": {},
   "source": [
    "Ensures there are no leftover hooks before we begin"
   ]
  },
  {
   "cell_type": "code",
   "execution_count": 85,
   "id": "4c7df2b7-3bcd-4f5c-bc67-4305c9e46844",
   "metadata": {
    "tags": []
   },
   "outputs": [],
   "source": [
    "# function to remove all forward and backward hooks in a model\n",
    "def remove_all_hooks(model):\n",
    "    # pass through modules (layers) in the model\n",
    "    for layer in model.modules():\n",
    "        # check and remove forward hooks\n",
    "        if hasattr(layer, \"_forward_hooks\"):\n",
    "            layer._forward_hooks.clear()\n",
    "        \n",
    "        # check and remove backward hooks\n",
    "        if hasattr(layer, \"_backward_hooks\"):\n",
    "            layer._backward_hooks.clear()\n",
    "        \n",
    "        # also checks for pre-forward hooks (rare) and removes them\n",
    "        if hasattr(layer, \"_forward_pre_hooks\"):\n",
    "            layer._forward_pre_hooks.clear()\n",
    "\n",
    "# call the function to remove all hooks from the model\n",
    "remove_all_hooks(model)"
   ]
  },
  {
   "cell_type": "markdown",
   "id": "90e21b68-737a-4384-96c0-b90eb3accc36",
   "metadata": {},
   "source": [
    "Creates data loaders for each individual class\n",
    "\n",
    "e.g. A dataloader where all samples correspond to class \"1\""
   ]
  },
  {
   "cell_type": "code",
   "execution_count": 86,
   "id": "7989f3d8-e937-4d18-ba82-d807e7a8a985",
   "metadata": {
    "tags": []
   },
   "outputs": [],
   "source": [
    "# Create class-specific data loaders for training and testing sets if they haven't been created\n",
    "if 'train_class_loaders' not in locals():\n",
    "    train_class_loaders = subset.create_class_dataloaders(train_dataset, batch_size)\n",
    "if 'test_class_loaders' not in locals():\n",
    "    test_class_loaders = subset.create_class_dataloaders(test_dataset, batch_size)"
   ]
  },
  {
   "cell_type": "markdown",
   "id": "6b56ee66-cd08-4620-b823-587cb4860be0",
   "metadata": {},
   "source": [
    "Tracks the activation of EACH node. \n",
    "\n",
    "For example, if we pass 10 images of the number \"1\", the middle vertical pixels (aka nodes in the model) of the image would be \"ON\" probably all 10 times. \n",
    "\n",
    "We interpret those pixels as being activated 10 times out of 10 times. Pixels in the corner of the images are less likely to be activated, so their count would most likely be closer to 0 in this example.\n",
    "\n",
    "\"Activated\" just means the output of a node is 1."
   ]
  },
  {
   "cell_type": "code",
   "execution_count": 87,
   "id": "d58b05dc-7458-44e2-bbd5-3328e050ba3e",
   "metadata": {
    "tags": []
   },
   "outputs": [],
   "source": [
    "# track activations for a specific digit\n",
    "def hook_fn(module, input, output, layer_idx, digit, debug=False):\n",
    "    if len(activation_counts_per_digit[digit]) <= layer_idx:\n",
    "        activation_counts_per_digit[digit].append(np.zeros(output.size(1), dtype=np.int64))\n",
    "        \n",
    "    activation_counts_per_digit[digit][layer_idx] = activation_counts_per_digit[digit][layer_idx].astype(np.int64)\n",
    "    \n",
    "    # prints before adding to check the behavior\n",
    "    if debug:\n",
    "        print(f\"Before accumulation for digit {digit}, Layer {layer_idx}, Counts: {activation_counts_per_digit[digit][layer_idx]}\")\n",
    "        print(f\"Activation counts for digit {digit} (output > 0): {(output > 0).sum(dim=0).cpu().numpy()}\")\n",
    "      \n",
    "    activation_counts_per_digit[digit][layer_idx] += (output > 0).sum(dim=0).cpu().numpy().astype(np.int64)\n",
    "    \n",
    "    # prints after accumulation to see the updated counts\n",
    "    if debug:\n",
    "        print(f\"After accumulation for digit {digit}, Layer {layer_idx}, Counts: {activation_counts_per_digit[digit][layer_idx]}\")\n",
    "\n",
    "\n",
    "# run forward pass and collect activations for each digit's dataset\n",
    "def run_and_collect_activations(model, digit_loaders):\n",
    "    for digit, loader in digit_loaders.items():\n",
    "        hooks = []\n",
    "\n",
    "        for idx, layer in enumerate(model.logic_layers):\n",
    "            if isinstance(layer, LogicLayer): \n",
    "                hook = layer.register_forward_hook(\n",
    "                    (lambda layer_idx, digit: \n",
    "                        lambda module, input, output: \n",
    "                            hook_fn(module, input, output, layer_idx, digit))(idx, digit)\n",
    "                )\n",
    "                hooks.append(hook)\n",
    "\n",
    "        for batch_data, _ in loader:\n",
    "            batch_data = batch_data.float().to('cuda')  # Ensure correct type and device\n",
    "            model(batch_data)\n",
    "\n",
    "        for hook in hooks:\n",
    "            hook.remove()\n",
    "\n",
    "# initializes an empty dictionary to be populated with how often pixels are activated\n",
    "activation_counts_per_digit = {digit: [] for digit in range(10)} \n",
    "# passes trained DiffLogic model and dictionary of individual digit loaders\n",
    "run_and_collect_activations(model, train_class_loaders)"
   ]
  },
  {
   "cell_type": "markdown",
   "id": "9b0a48de-df0c-4e55-b4bd-3f39773fc14a",
   "metadata": {},
   "source": [
    "This is where we actually decide which nodes to get rid off.\n",
    "\n",
    "Based on how often each node was activated (previous code block), we decide whether to remove or keep that pixel.\n",
    "\n",
    "This number can be tweaked to be more lenient or more strict (the higher the number, the more a pixel needs to be activated to be considered important)"
   ]
  },
  {
   "cell_type": "code",
   "execution_count": 88,
   "id": "fd2c5ed3-c625-4468-9520-b7220e7e95c9",
   "metadata": {
    "tags": []
   },
   "outputs": [],
   "source": [
    "# switching frequency (sf) refers to the PROPORTION of activated nodes\n",
    "# e.g. a node activates 75 times out of 100 samples -> sf = 75/100 = 0.75\n",
    "# higher switching frequency means more nodes will be removed\n",
    "SWITCHING_FREQUENCY = 0.75"
   ]
  },
  {
   "cell_type": "code",
   "execution_count": 89,
   "id": "9ce8cbd7-3688-47c0-b631-3f2525fbec14",
   "metadata": {
    "tags": []
   },
   "outputs": [],
   "source": [
    "def threshold_activation_counts(activation_counts, sf=0.50):\n",
    "    # dictionary to store the thresholded values\n",
    "    thresholded_counts = {}\n",
    "    \n",
    "    # iterates through each digit and layer in the activation_counts\n",
    "    for digit, layers in activation_counts.items():\n",
    "        thresholded_counts[digit] = []\n",
    "        \n",
    "        most_activations = max(max(layer_array) for layer_array in layers)\n",
    "            \n",
    "        # calculates the threshold of how many times a node has to be activated\n",
    "        threshold = sf * most_activations\n",
    "        \n",
    "        for layer_array in layers:\n",
    "            # applies threshold, set values above 'threshold' to 1, otherwise 0\n",
    "            thresholded_layer = (layer_array > threshold).astype(int)\n",
    "            thresholded_counts[digit].append(thresholded_layer)\n",
    "    \n",
    "    return thresholded_counts\n",
    "\n",
    "thresholded_activation_counts_per_digit = threshold_activation_counts(activation_counts_per_digit, sf=SWITCHING_FREQUENCY)"
   ]
  },
  {
   "cell_type": "markdown",
   "id": "da140f28-e447-431d-a0d9-123523e5e5c5",
   "metadata": {},
   "source": [
    "Now we use the thresholded activation counts to find the unused nodes (the ones that didn't activate enough times)"
   ]
  },
  {
   "cell_type": "code",
   "execution_count": 90,
   "id": "56661415-a4f3-48ca-aaca-ef9082fe139f",
   "metadata": {
    "tags": []
   },
   "outputs": [],
   "source": [
    "def find_unused_nodes(thresholded_counts):\n",
    "    unused_nodes_per_digit = {}\n",
    "\n",
    "    # iterate through each digit\n",
    "    for digit, layers in thresholded_counts.items():\n",
    "        unused_nodes_per_digit[digit] = []\n",
    "        \n",
    "        # iterate through each layer for the current digit\n",
    "        for layer_idx, layer_activations in enumerate(layers):\n",
    "            # find the indices of nodes that are always zero in this layer\n",
    "            unused_nodes = {node_idx for node_idx, activation_value in enumerate(layer_activations) if activation_value == 0}\n",
    "            # append the unused nodes set for the current layer\n",
    "            unused_nodes_per_digit[digit].append(unused_nodes)\n",
    "            \n",
    "    return unused_nodes_per_digit\n",
    "\n",
    "unused_gates_per_digit = find_unused_nodes(thresholded_activation_counts_per_digit)"
   ]
  },
  {
   "cell_type": "markdown",
   "id": "5a7430a9-54b8-44a3-b1ec-d04ee187e92a",
   "metadata": {},
   "source": [
    "We need to get the connections for our base model"
   ]
  },
  {
   "cell_type": "code",
   "execution_count": 91,
   "id": "3a8154bb-9b53-4837-8c39-2ccfcf05b5a5",
   "metadata": {
    "tags": []
   },
   "outputs": [
    {
     "data": {
      "text/plain": [
       "[{'neuron_idx': 0, 'gate': 'b', 'inputs': (660, 648)},\n",
       " {'neuron_idx': 1, 'gate': 'not_or', 'inputs': (560, 196)},\n",
       " {'neuron_idx': 2, 'gate': 'not_and', 'inputs': (658, 540)},\n",
       " {'neuron_idx': 3, 'gate': 'not_or', 'inputs': (511, 316)},\n",
       " {'neuron_idx': 4, 'gate': 'not_xor', 'inputs': (28, 69)}]"
      ]
     },
     "execution_count": 91,
     "metadata": {},
     "output_type": "execute_result"
    }
   ],
   "source": [
    "# gets the connections for the overall model\n",
    "def get_all_connections(model):\n",
    "    \n",
    "    # map gate names to indices\n",
    "    ALL_OPERATIONS = [\n",
    "        \"zero\", \"and\", \"not_implies\", \"a\", \"not_implied_by\", \"b\", \"xor\", \"or\", \n",
    "        \"not_or\", \"not_xor\", \"not_b\", \"implied_by\", \"not_a\", \"implies\", \"not_and\", \"one\"\n",
    "    ]\n",
    "\n",
    "    gates_per_layer = []\n",
    "    \n",
    "    for layer_idx, layer in enumerate(model.logic_layers):\n",
    "        layer_connections = []\n",
    "        \n",
    "        # for each neuron in the layer\n",
    "        for neuron_idx in range(layer.weights.size(0)):\n",
    "            # get the learned gate by taking the argmax of the weights for the neuron\n",
    "            gate_op_idx = layer.weights[neuron_idx].argmax().item()\n",
    "            learned_gate = ALL_OPERATIONS[gate_op_idx]\n",
    "\n",
    "            # get the input connections (indices) for the gate\n",
    "            input_neuron_a = layer.indices[0][neuron_idx].item()\n",
    "            input_neuron_b = layer.indices[1][neuron_idx].item()\n",
    "\n",
    "            # store the gate and connections\n",
    "            layer_connections.append({\n",
    "                'neuron_idx': neuron_idx,\n",
    "                'gate': learned_gate,\n",
    "                'inputs': (input_neuron_a, input_neuron_b),\n",
    "            })\n",
    "        \n",
    "        gates_per_layer.append(layer_connections)\n",
    "    \n",
    "    return gates_per_layer\n",
    "\n",
    "# retrieve all connections for the model\n",
    "connections = get_all_connections(model)\n",
    "connections[0][:5] # example displaying the first 5"
   ]
  },
  {
   "cell_type": "markdown",
   "id": "6ce70caa-3f5e-4c6a-bb9a-42983f3f4eed",
   "metadata": {},
   "source": [
    "Code below ensures we don't have \"ghost\" references\n",
    "\n",
    "If a node is referenced and not in our list of activated nodes, the referenced node is added to the list"
   ]
  },
  {
   "cell_type": "code",
   "execution_count": 92,
   "id": "1b2c4410-f4f2-416c-bebe-c86d93e4da2a",
   "metadata": {
    "tags": []
   },
   "outputs": [],
   "source": [
    "# makes sure no gate references an unused digit\n",
    "def propagate_activity(connections, unused_nodes_per_digit, digit):\n",
    "    \"\"\"\n",
    "    Propagates neuron activity backward through the layers. If a neuron in the second layer is active, \n",
    "    it makes the connected neurons in the first layer active.\n",
    "    \n",
    "    Args:\n",
    "    connections (list): List of connections for each layer for the overall model.\n",
    "    unused_nodes_per_digit (dict): Dictionary of unused nodes per digit and layer.\n",
    "    digit (int): The digit to process.\n",
    "\n",
    "    Returns:\n",
    "    updated_unused_nodes_per_digit (dict): The updated dictionary with necessary nodes marked as active.\n",
    "    \"\"\"\n",
    "    # Copy the unused_nodes_per_digit to modify it\n",
    "    updated_unused_nodes_per_digit = copy.deepcopy(unused_nodes_per_digit)\n",
    "\n",
    "    # Iterate backward through layers (starting from the second-to-last)\n",
    "    for layer_idx in range(len(connections) - 1, 0, -1):\n",
    "        # Get the current layer's connections and unused nodes\n",
    "        layer_connections = connections[layer_idx]\n",
    "        unused_nodes_in_layer = updated_unused_nodes_per_digit[digit][layer_idx]\n",
    "\n",
    "        # Check which neurons are active in the current layer\n",
    "        active_neurons = {conn['neuron_idx'] for conn in layer_connections if conn['neuron_idx'] not in unused_nodes_in_layer}\n",
    "\n",
    "        # Activate the neurons in the previous layer that are connected to active neurons in the current layer\n",
    "        for conn in layer_connections:\n",
    "            if conn['neuron_idx'] in active_neurons:\n",
    "                input_a, input_b = conn['inputs']\n",
    "                # Remove these neurons from the \"unused\" set, making them active\n",
    "                updated_unused_nodes_per_digit[digit][layer_idx - 1].discard(input_a)\n",
    "                updated_unused_nodes_per_digit[digit][layer_idx - 1].discard(input_b)\n",
    "\n",
    "    return updated_unused_nodes_per_digit\n",
    "\n",
    "def filter_connections_after_propagation(connections, unused_nodes_per_digit, digit):\n",
    "    \"\"\"\n",
    "    Filters out unused gates and updates connections after propagating neuron activity.\n",
    "    \n",
    "    Args:\n",
    "    - connections (list): List of connections for each layer.\n",
    "    - unused_nodes_per_digit (dict): Updated dictionary of unused nodes per digit and layer.\n",
    "    - digit (int): The digit to process.\n",
    "    \n",
    "    Returns:\n",
    "    - filtered_connections (list): The adjusted connections after removing unused gates.\n",
    "    \"\"\"\n",
    "    filtered_connections = []\n",
    "\n",
    "    for layer_idx, layer_connections in enumerate(connections):\n",
    "        layer_unused_nodes = unused_nodes_per_digit[digit][layer_idx]\n",
    "        \n",
    "        # Filter out connections where the neuron index is in the unused nodes\n",
    "        filtered_layer_connections = [\n",
    "            conn for conn in layer_connections if conn['neuron_idx'] not in layer_unused_nodes\n",
    "        ]\n",
    "        \n",
    "        filtered_connections.append(filtered_layer_connections)\n",
    "\n",
    "    return filtered_connections\n",
    "\n",
    "def process_network_with_propagation(connections, unused_nodes_per_digit, digit):\n",
    "    # Step 1: Propagate activity backward\n",
    "    updated_unused_nodes_per_digit = propagate_activity(connections, unused_nodes_per_digit, digit)\n",
    "    \n",
    "    # Step 2: Filter connections based on updated activity\n",
    "    filtered_connections = filter_connections_after_propagation(connections, updated_unused_nodes_per_digit, digit)\n",
    "    \n",
    "    return filtered_connections"
   ]
  },
  {
   "cell_type": "markdown",
   "id": "18356850-76a3-4c5c-866b-54343a725e86",
   "metadata": {},
   "source": [
    "Mapping of logic gates to their actual mathematical representation"
   ]
  },
  {
   "cell_type": "code",
   "execution_count": 93,
   "id": "fdb38063-83ff-4858-a9e9-ec9a9af217f6",
   "metadata": {
    "tags": []
   },
   "outputs": [],
   "source": [
    "# map gate names to indices\n",
    "ALL_OPERATIONS = [\n",
    "    \"zero\", \"and\", \"not_implies\", \"a\", \"not_implied_by\", \"b\", \"xor\", \"or\", \n",
    "    \"not_or\", \"not_xor\", \"not_b\", \"implied_by\", \"not_a\", \"implies\", \"not_and\", \"one\"\n",
    "]\n",
    "\n",
    "# map gate names to indices\n",
    "gate_name_to_index = {name: idx for idx, name in enumerate(ALL_OPERATIONS)}"
   ]
  },
  {
   "cell_type": "markdown",
   "id": "2d69d4f1-c5b0-4236-b5f2-45524af767c9",
   "metadata": {},
   "source": [
    "We need to know what Logic Gate was learned at each one of the nodes"
   ]
  },
  {
   "cell_type": "code",
   "execution_count": 94,
   "id": "5f9840c6-281c-4c7a-9019-5df5a9bb468d",
   "metadata": {
    "tags": []
   },
   "outputs": [],
   "source": [
    "# extract logic gates per layer\n",
    "def extract_logic_gates_per_layer(adjusted_connections, gate_name_to_index):\n",
    "    logic_gates_per_layer = []\n",
    "    for layer_connections in adjusted_connections:\n",
    "        # Convert each gate name to its corresponding index\n",
    "        logic_gates = [gate_name_to_index[conn['gate']] for conn in layer_connections]\n",
    "        logic_gates_per_layer.append(logic_gates)\n",
    "    return logic_gates_per_layer\n",
    "\n",
    "# loop for all digits\n",
    "logic_gates_per_layer_per_digit = {}\n",
    "for digit in range(10):\n",
    "    # example usage\n",
    "    adjusted_connections_per_digit = process_network_with_propagation(connections, unused_gates_per_digit, digit)\n",
    "    logic_gates_per_layer_per_digit[digit] = extract_logic_gates_per_layer(adjusted_connections_per_digit, gate_name_to_index)"
   ]
  },
  {
   "cell_type": "markdown",
   "id": "91993965-999c-499a-ab70-b7dccd948901",
   "metadata": {},
   "source": [
    "Layer Specs is what we will pass when creating the Miniature model.\n",
    "\n",
    "It is simply the format/order the model expects this data to be passed"
   ]
  },
  {
   "cell_type": "code",
   "execution_count": 95,
   "id": "6e8de1fb-ebb4-4ef8-8813-df3f56cefcc8",
   "metadata": {
    "tags": []
   },
   "outputs": [],
   "source": [
    "def create_layer_specs(adjusted_connections, logic_gates_per_layer, input_size):\n",
    "    layer_specs = []\n",
    "    previous_absolute_indices = None\n",
    "    previous_absolute_to_relative = None\n",
    "\n",
    "    for layer_idx, layer_connections in enumerate(adjusted_connections):\n",
    "        if layer_idx == 0:\n",
    "            # First Layer\n",
    "            current_input_size = input_size\n",
    "            output_size = len(layer_connections)\n",
    "\n",
    "            # Build mapping from output neuron absolute indices to relative indices\n",
    "            absolute_indices = [conn['neuron_idx'] for conn in layer_connections]\n",
    "            absolute_to_relative = {abs_idx: rel_idx for rel_idx, abs_idx in enumerate(absolute_indices)}\n",
    "\n",
    "            # Connections: no need to remap inputs\n",
    "            connections = torch.tensor([conn['inputs'] for conn in layer_connections], dtype=torch.long).to('cuda')\n",
    "\n",
    "            logic_gates = logic_gates_per_layer[layer_idx]\n",
    "            layer_specs.append({\n",
    "                'input_size': current_input_size,\n",
    "                'output_size': output_size,\n",
    "                'connections': connections,\n",
    "                'logic_gates': logic_gates,\n",
    "            })\n",
    "\n",
    "            previous_absolute_indices = absolute_indices\n",
    "            previous_absolute_to_relative = absolute_to_relative\n",
    "        else:\n",
    "            # Subsequent Layers\n",
    "            current_input_size = len(previous_absolute_indices)\n",
    "            output_size = len(layer_connections)\n",
    "\n",
    "            # Remap inputs using previous layer's absolute to relative mapping\n",
    "            connections = []\n",
    "            for conn in layer_connections:\n",
    "                input_a_abs = conn['inputs'][0]\n",
    "                input_b_abs = conn['inputs'][1]\n",
    "\n",
    "                # Map absolute indices to relative indices\n",
    "                input_a_rel = previous_absolute_to_relative[input_a_abs]\n",
    "                input_b_rel = previous_absolute_to_relative[input_b_abs]\n",
    "                connections.append((input_a_rel, input_b_rel))\n",
    "\n",
    "            connections = torch.tensor(connections, dtype=torch.long).to('cuda')\n",
    "            logic_gates = logic_gates_per_layer[layer_idx]\n",
    "            layer_specs.append({\n",
    "                'input_size': current_input_size,\n",
    "                'output_size': output_size,\n",
    "                'connections': connections,\n",
    "                'logic_gates': logic_gates,\n",
    "            })\n",
    "\n",
    "            # Update mappings for the next layer\n",
    "            absolute_indices = [conn['neuron_idx'] for conn in layer_connections]\n",
    "            absolute_to_relative = {abs_idx: rel_idx for rel_idx, abs_idx in enumerate(absolute_indices)}\n",
    "            previous_absolute_indices = absolute_indices\n",
    "            previous_absolute_to_relative = absolute_to_relative\n",
    "        \n",
    "    return layer_specs"
   ]
  },
  {
   "cell_type": "markdown",
   "id": "4be9db11-50bb-4fbe-8b3a-47308039185d",
   "metadata": {},
   "source": [
    "We will have one MiniNet per class (digit for the MNIST example). "
   ]
  },
  {
   "cell_type": "code",
   "execution_count": 96,
   "id": "8538534c-72cf-40d1-9ab3-14dca4e89880",
   "metadata": {
    "tags": []
   },
   "outputs": [
    {
     "name": "stdout",
     "output_type": "stream",
     "text": [
      "Processing digit 0\n",
      "CustomDiffLogic(\n",
      "  (flatten): Flatten(start_dim=1, end_dim=-1)\n",
      "  (logic_layers): Sequential(\n",
      "    (0): CustomLogicLayer(784, 2390, train)\n",
      "    (1): CustomLogicLayer(2390, 1017, train)\n",
      "  )\n",
      ")\n",
      "Processing digit 1\n",
      "CustomDiffLogic(\n",
      "  (flatten): Flatten(start_dim=1, end_dim=-1)\n",
      "  (logic_layers): Sequential(\n",
      "    (0): CustomLogicLayer(784, 3649, train)\n",
      "    (1): CustomLogicLayer(3649, 1826, train)\n",
      "  )\n",
      ")\n",
      "Processing digit 2\n",
      "CustomDiffLogic(\n",
      "  (flatten): Flatten(start_dim=1, end_dim=-1)\n",
      "  (logic_layers): Sequential(\n",
      "    (0): CustomLogicLayer(784, 2200, train)\n",
      "    (1): CustomLogicLayer(2200, 908, train)\n",
      "  )\n",
      ")\n",
      "Processing digit 3\n",
      "CustomDiffLogic(\n",
      "  (flatten): Flatten(start_dim=1, end_dim=-1)\n",
      "  (logic_layers): Sequential(\n",
      "    (0): CustomLogicLayer(784, 3137, train)\n",
      "    (1): CustomLogicLayer(3137, 1478, train)\n",
      "  )\n",
      ")\n",
      "Processing digit 4\n",
      "CustomDiffLogic(\n",
      "  (flatten): Flatten(start_dim=1, end_dim=-1)\n",
      "  (logic_layers): Sequential(\n",
      "    (0): CustomLogicLayer(784, 3014, train)\n",
      "    (1): CustomLogicLayer(3014, 1362, train)\n",
      "  )\n",
      ")\n",
      "Processing digit 5\n",
      "CustomDiffLogic(\n",
      "  (flatten): Flatten(start_dim=1, end_dim=-1)\n",
      "  (logic_layers): Sequential(\n",
      "    (0): CustomLogicLayer(784, 3232, train)\n",
      "    (1): CustomLogicLayer(3232, 1520, train)\n",
      "  )\n",
      ")\n",
      "Processing digit 6\n",
      "CustomDiffLogic(\n",
      "  (flatten): Flatten(start_dim=1, end_dim=-1)\n",
      "  (logic_layers): Sequential(\n",
      "    (0): CustomLogicLayer(784, 1994, train)\n",
      "    (1): CustomLogicLayer(1994, 816, train)\n",
      "  )\n",
      ")\n",
      "Processing digit 7\n",
      "CustomDiffLogic(\n",
      "  (flatten): Flatten(start_dim=1, end_dim=-1)\n",
      "  (logic_layers): Sequential(\n",
      "    (0): CustomLogicLayer(784, 3348, train)\n",
      "    (1): CustomLogicLayer(3348, 1647, train)\n",
      "  )\n",
      ")\n",
      "Processing digit 8\n",
      "CustomDiffLogic(\n",
      "  (flatten): Flatten(start_dim=1, end_dim=-1)\n",
      "  (logic_layers): Sequential(\n",
      "    (0): CustomLogicLayer(784, 2254, train)\n",
      "    (1): CustomLogicLayer(2254, 912, train)\n",
      "  )\n",
      ")\n",
      "Processing digit 9\n",
      "CustomDiffLogic(\n",
      "  (flatten): Flatten(start_dim=1, end_dim=-1)\n",
      "  (logic_layers): Sequential(\n",
      "    (0): CustomLogicLayer(784, 3220, train)\n",
      "    (1): CustomLogicLayer(3220, 1512, train)\n",
      "  )\n",
      ")\n"
     ]
    }
   ],
   "source": [
    "models_per_digit = {}\n",
    "\n",
    "# Loop over all digits from 0 to 9\n",
    "for digit in range(10):\n",
    "    print(f\"Processing digit {digit}\")\n",
    "\n",
    "    # All the necessary (used) connections for the current digit\n",
    "    full_connections_for_digit = process_network_with_propagation(connections, unused_gates_per_digit, digit=digit)\n",
    "\n",
    "    # All the logic gates (nodes) needed in the current digit\n",
    "    logic_gates_per_layer = extract_logic_gates_per_layer(full_connections_for_digit, gate_name_to_index)\n",
    "\n",
    "    # Combined list of gates and connections\n",
    "    layer_specs = create_layer_specs(full_connections_for_digit, logic_gates_per_layer, input_size=784)\n",
    "\n",
    "    # Create the custom model\n",
    "    custom_model = CustomDiffLogic(layer_specs)\n",
    "\n",
    "    # Move model to device\n",
    "    if torch.cuda.is_available():\n",
    "        custom_model = custom_model.to('cuda')\n",
    "\n",
    "    # Store the model in the dictionary\n",
    "    models_per_digit[digit] = custom_model\n",
    "\n",
    "    # Print the reduced model architecture\n",
    "    print(custom_model)"
   ]
  },
  {
   "cell_type": "markdown",
   "id": "26784979-72a2-4114-81f1-e73d71f7a9b5",
   "metadata": {},
   "source": [
    "Because the MiniNet is now a binary classifier, we need to measure accuracy differently"
   ]
  },
  {
   "cell_type": "code",
   "execution_count": 98,
   "id": "7a974f92-ca8f-41e0-9ea5-2dd2787b6143",
   "metadata": {
    "tags": []
   },
   "outputs": [],
   "source": [
    "def accuracy_one_vs_all(model, dataloader, digit, device='cuda'):\n",
    "    model.eval()\n",
    "    correct = 0\n",
    "    total = 0\n",
    "\n",
    "    with torch.no_grad():\n",
    "        for inputs, labels in dataloader:\n",
    "            inputs, labels = inputs.to(device), labels.to(device)\n",
    "\n",
    "            # The model returns a raw logit in [-∞, +∞]\n",
    "            logits = model(inputs)  # shape [batch_size]\n",
    "            \n",
    "            # Convert logit -> probability in [0,1]\n",
    "            prob = torch.sigmoid(logits)\n",
    "            predictions = (prob > 0.5).float()\n",
    "\n",
    "            # Convert ground-truth labels to 0/1\n",
    "            binary_labels = (labels == digit).float()\n",
    "\n",
    "            correct += (predictions == binary_labels).sum().item()\n",
    "            total += labels.size(0)\n",
    "\n",
    "    accuracy = correct / total\n",
    "    print(f\"One-vs.-all Accuracy for digit {digit}: {accuracy * 100:.2f}%\")\n",
    "    return accuracy\n",
    "\n",
    "# Example usage\n",
    "# accuracy_one_vs_all(mini_difflogic, test_class_loaders[0], 0)"
   ]
  },
  {
   "cell_type": "code",
   "execution_count": 99,
   "id": "cbe0027b-784d-4ca1-8412-bf1d94dcb4fa",
   "metadata": {
    "tags": []
   },
   "outputs": [
    {
     "name": "stdout",
     "output_type": "stream",
     "text": [
      "One-vs.-all Accuracy for digit 0: 9.93%\n",
      "Accuracy on TestLoader for reduced model of digit 0: 0.09930098684210527\n",
      "One-vs.-all Accuracy for digit 0: 100.00%\n",
      "Accuracy on DigitLoader 0 for reduced model of digit 0: 1.0\n",
      "One-vs.-all Accuracy for digit 1: 10.08%\n",
      "Accuracy on TestLoader for reduced model of digit 1: 0.10084292763157894\n",
      "One-vs.-all Accuracy for digit 1: 100.00%\n",
      "Accuracy on DigitLoader 1 for reduced model of digit 1: 1.0\n",
      "One-vs.-all Accuracy for digit 2: 9.87%\n",
      "Accuracy on TestLoader for reduced model of digit 2: 0.09868421052631579\n",
      "One-vs.-all Accuracy for digit 2: 100.00%\n",
      "Accuracy on DigitLoader 2 for reduced model of digit 2: 1.0\n",
      "One-vs.-all Accuracy for digit 3: 9.97%\n",
      "Accuracy on TestLoader for reduced model of digit 3: 0.09971217105263158\n",
      "One-vs.-all Accuracy for digit 3: 100.00%\n",
      "Accuracy on DigitLoader 3 for reduced model of digit 3: 1.0\n",
      "One-vs.-all Accuracy for digit 4: 9.94%\n",
      "Accuracy on TestLoader for reduced model of digit 4: 0.09940378289473684\n",
      "One-vs.-all Accuracy for digit 4: 100.00%\n",
      "Accuracy on DigitLoader 4 for reduced model of digit 4: 1.0\n",
      "One-vs.-all Accuracy for digit 5: 10.05%\n",
      "Accuracy on TestLoader for reduced model of digit 5: 0.10053453947368421\n",
      "One-vs.-all Accuracy for digit 5: 100.00%\n",
      "Accuracy on DigitLoader 5 for reduced model of digit 5: 1.0\n",
      "One-vs.-all Accuracy for digit 6: 10.12%\n",
      "Accuracy on TestLoader for reduced model of digit 6: 0.10115131578947369\n",
      "One-vs.-all Accuracy for digit 6: 100.00%\n",
      "Accuracy on DigitLoader 6 for reduced model of digit 6: 1.0\n",
      "One-vs.-all Accuracy for digit 7: 10.02%\n",
      "Accuracy on TestLoader for reduced model of digit 7: 0.10022615131578948\n",
      "One-vs.-all Accuracy for digit 7: 100.00%\n",
      "Accuracy on DigitLoader 7 for reduced model of digit 7: 1.0\n",
      "One-vs.-all Accuracy for digit 8: 10.05%\n",
      "Accuracy on TestLoader for reduced model of digit 8: 0.10053453947368421\n",
      "One-vs.-all Accuracy for digit 8: 100.00%\n",
      "Accuracy on DigitLoader 8 for reduced model of digit 8: 1.0\n",
      "One-vs.-all Accuracy for digit 9: 9.96%\n",
      "Accuracy on TestLoader for reduced model of digit 9: 0.099609375\n",
      "One-vs.-all Accuracy for digit 9: 100.00%\n",
      "Accuracy on DigitLoader 9 for reduced model of digit 9: 1.0\n"
     ]
    }
   ],
   "source": [
    "accuracies_on_test_loader = {}\n",
    "accuracies_on_digit_loader = {}\n",
    "\n",
    "# Evaluate the model with a 0.5 threshold\n",
    "for digit in range(10):\n",
    "    test_loader_accuracy = accuracy_one_vs_all(models_per_digit[digit], test_loader, digit)\n",
    "    print(f\"Accuracy on TestLoader for reduced model of digit {digit}: {test_loader_accuracy}\")\n",
    "    accuracies_on_test_loader[digit] = test_loader_accuracy\n",
    "        \n",
    "    digit_loader_accuracy = accuracy_one_vs_all(models_per_digit[digit], test_class_loaders[digit], digit)\n",
    "    print(f\"Accuracy on DigitLoader {digit} for reduced model of digit {digit}: {digit_loader_accuracy}\")\n",
    "    accuracies_on_digit_loader[digit] = digit_loader_accuracy"
   ]
  },
  {
   "cell_type": "markdown",
   "id": "c5ec6337-dcb9-4b7b-82ba-fe59af06507f",
   "metadata": {},
   "source": [
    "But that accuracy can be greatly increased if we find the **optimal threshold**"
   ]
  },
  {
   "cell_type": "code",
   "execution_count": 100,
   "id": "a359b94c-ca9c-403f-b061-dd4a8b6f66bd",
   "metadata": {
    "tags": []
   },
   "outputs": [],
   "source": [
    "def collect_outputs_and_labels(model, data_loader, digit, device='cuda'):\n",
    "        outputs_list = []\n",
    "        labels_list = []\n",
    "\n",
    "        model.eval()\n",
    "\n",
    "        with torch.no_grad():\n",
    "            for batch_inputs, batch_labels in tqdm(data_loader, desc=\"Collecting Outputs\"):\n",
    "                batch_inputs = batch_inputs.to(device)\n",
    "                batch_labels = batch_labels.to(device)\n",
    "                \n",
    "                # Adjust labels to binary\n",
    "                binary_labels = (batch_labels == digit).float()\n",
    "\n",
    "                # Forward pass\n",
    "                outputs = model(batch_inputs)\n",
    "\n",
    "                # Store outputs and labels\n",
    "                outputs_list.append(outputs.cpu())\n",
    "                labels_list.append(binary_labels.cpu())\n",
    "\n",
    "        # Concatenate all outputs and labels\n",
    "        outputs = torch.cat(outputs_list).squeeze()\n",
    "        labels = torch.cat(labels_list)\n",
    "        \n",
    "        return outputs, labels\n",
    "\n",
    "\n",
    "def find_optimal_threshold(outputs, labels):\n",
    "    from sklearn.metrics import precision_recall_curve\n",
    "    import numpy as np\n",
    "\n",
    "    # Calculate precision and recall for various thresholds\n",
    "    precision, recall, thresholds = precision_recall_curve(labels, outputs)\n",
    "\n",
    "    # Avoid division by zero\n",
    "    epsilon = 1e-6\n",
    "\n",
    "    # Calculate F1 scores\n",
    "    f1_scores = 2 * precision * recall / (precision + recall + epsilon)\n",
    "\n",
    "    # Find the threshold that maximizes the F1 score\n",
    "    max_f1_idx = np.argmax(f1_scores)\n",
    "    optimal_threshold = thresholds[max_f1_idx]\n",
    "\n",
    "    print(f\"Optimal Threshold: {optimal_threshold}\")\n",
    "    print(f\"Maximum F1 Score: {f1_scores[max_f1_idx]}\")\n",
    "\n",
    "    return optimal_threshold, precision[max_f1_idx], recall[max_f1_idx], f1_scores[max_f1_idx]\n",
    "    \n",
    "    \n",
    "def thresholded_accuracy(outputs, labels, threshold):\n",
    "    predictions = (outputs > threshold).float()\n",
    "    correct = (predictions == labels).sum().item()\n",
    "    accuracy = correct / labels.size(0)\n",
    "    return accuracy"
   ]
  },
  {
   "cell_type": "code",
   "execution_count": 101,
   "id": "e486934d-bcff-4438-a611-ebaeb7469bba",
   "metadata": {
    "tags": []
   },
   "outputs": [
    {
     "name": "stderr",
     "output_type": "stream",
     "text": [
      "Collecting Outputs: 100%|██████████| 19/19 [00:18<00:00,  1.04it/s]\n"
     ]
    },
    {
     "name": "stdout",
     "output_type": "stream",
     "text": [
      "Optimal Threshold: 910.0\n",
      "Maximum F1 Score: 0.5326577280855834\n",
      "Accuracy for reduced model of digit 0: 0.9055\n",
      "Precision: 0.5213, Recall: 0.5445, F1 Score: 0.5327\n"
     ]
    },
    {
     "name": "stderr",
     "output_type": "stream",
     "text": [
      "Collecting Outputs: 100%|██████████| 19/19 [00:19<00:00,  1.03s/it]\n"
     ]
    },
    {
     "name": "stdout",
     "output_type": "stream",
     "text": [
      "Optimal Threshold: 1622.0\n",
      "Maximum F1 Score: 0.7667936041435436\n",
      "Accuracy for reduced model of digit 1: 0.9557\n",
      "Precision: 0.8259, Recall: 0.7156, F1 Score: 0.7668\n"
     ]
    },
    {
     "name": "stderr",
     "output_type": "stream",
     "text": [
      "Collecting Outputs: 100%|██████████| 19/19 [00:19<00:00,  1.03s/it]\n"
     ]
    },
    {
     "name": "stdout",
     "output_type": "stream",
     "text": [
      "Optimal Threshold: 766.0\n",
      "Maximum F1 Score: 0.4015316528309338\n",
      "Accuracy for reduced model of digit 2: 0.8085\n",
      "Precision: 0.2895, Recall: 0.6552, F1 Score: 0.4015\n"
     ]
    },
    {
     "name": "stderr",
     "output_type": "stream",
     "text": [
      "Collecting Outputs: 100%|██████████| 19/19 [00:18<00:00,  1.04it/s]\n"
     ]
    },
    {
     "name": "stdout",
     "output_type": "stream",
     "text": [
      "Optimal Threshold: 1347.0\n",
      "Maximum F1 Score: 0.5996247566464648\n",
      "Accuracy for reduced model of digit 3: 0.9343\n",
      "Precision: 0.7607, Recall: 0.4948, F1 Score: 0.5996\n"
     ]
    },
    {
     "name": "stderr",
     "output_type": "stream",
     "text": [
      "Collecting Outputs: 100%|██████████| 19/19 [00:18<00:00,  1.03it/s]\n"
     ]
    },
    {
     "name": "stdout",
     "output_type": "stream",
     "text": [
      "Optimal Threshold: 1223.0\n",
      "Maximum F1 Score: 0.5522732971326225\n",
      "Accuracy for reduced model of digit 4: 0.9016\n",
      "Precision: 0.5051, Recall: 0.6091, F1 Score: 0.5523\n"
     ]
    },
    {
     "name": "stderr",
     "output_type": "stream",
     "text": [
      "Collecting Outputs: 100%|██████████| 19/19 [00:19<00:00,  1.03s/it]\n"
     ]
    },
    {
     "name": "stdout",
     "output_type": "stream",
     "text": [
      "Optimal Threshold: 1422.0\n",
      "Maximum F1 Score: 0.4636497287909598\n",
      "Accuracy for reduced model of digit 5: 0.8924\n",
      "Precision: 0.4611, Recall: 0.4663, F1 Score: 0.4636\n"
     ]
    },
    {
     "name": "stderr",
     "output_type": "stream",
     "text": [
      "Collecting Outputs: 100%|██████████| 19/19 [00:19<00:00,  1.03s/it]\n"
     ]
    },
    {
     "name": "stdout",
     "output_type": "stream",
     "text": [
      "Optimal Threshold: 739.0\n",
      "Maximum F1 Score: 0.30472057389226304\n",
      "Accuracy for reduced model of digit 6: 0.8034\n",
      "Precision: 0.2351, Recall: 0.4329, F1 Score: 0.3047\n"
     ]
    },
    {
     "name": "stderr",
     "output_type": "stream",
     "text": [
      "Collecting Outputs: 100%|██████████| 19/19 [00:18<00:00,  1.04it/s]\n"
     ]
    },
    {
     "name": "stdout",
     "output_type": "stream",
     "text": [
      "Optimal Threshold: 1512.0\n",
      "Maximum F1 Score: 0.7813847829088326\n",
      "Accuracy for reduced model of digit 7: 0.9583\n",
      "Precision: 0.8270, Recall: 0.7405, F1 Score: 0.7814\n"
     ]
    },
    {
     "name": "stderr",
     "output_type": "stream",
     "text": [
      "Collecting Outputs: 100%|██████████| 19/19 [00:18<00:00,  1.04it/s]\n"
     ]
    },
    {
     "name": "stdout",
     "output_type": "stream",
     "text": [
      "Optimal Threshold: 796.0\n",
      "Maximum F1 Score: 0.6639048378309662\n",
      "Accuracy for reduced model of digit 8: 0.9418\n",
      "Precision: 0.7879, Recall: 0.5736, F1 Score: 0.6639\n"
     ]
    },
    {
     "name": "stderr",
     "output_type": "stream",
     "text": [
      "Collecting Outputs: 100%|██████████| 19/19 [00:19<00:00,  1.03s/it]"
     ]
    },
    {
     "name": "stdout",
     "output_type": "stream",
     "text": [
      "Optimal Threshold: 1264.0\n",
      "Maximum F1 Score: 0.7907450012921395\n",
      "Accuracy for reduced model of digit 9: 0.9581\n",
      "Precision: 0.7879, Recall: 0.7936, F1 Score: 0.7907\n"
     ]
    },
    {
     "name": "stderr",
     "output_type": "stream",
     "text": [
      "\n"
     ]
    }
   ],
   "source": [
    "reduced_model_accuracies = {}\n",
    "\n",
    "for digit in range(10):\n",
    "    outputs, labels = collect_outputs_and_labels(models_per_digit[digit], test_loader, digit)\n",
    "    optimal_threshold, precision, recall, f1_score = find_optimal_threshold(outputs, labels)\n",
    "    accuracy = thresholded_accuracy(outputs, labels, optimal_threshold)\n",
    "    reduced_model_accuracies[digit] = accuracy\n",
    "    print(f\"Accuracy for reduced model of digit {digit}: {accuracy:.4f}\")\n",
    "    print(f\"Precision: {precision:.4f}, Recall: {recall:.4f}, F1 Score: {f1_score:.4f}\")"
   ]
  },
  {
   "cell_type": "markdown",
   "id": "444fb7f0-70d6-4256-8632-a25bee9201d9",
   "metadata": {},
   "source": [
    "#### **A Single Pipeline**"
   ]
  },
  {
   "cell_type": "code",
   "execution_count": 103,
   "id": "1cbcdfe6-2a6f-4342-b89f-c86e95784832",
   "metadata": {
    "tags": []
   },
   "outputs": [],
   "source": [
    "def run_full_mininet_pipeline(\n",
    "    base_model, \n",
    "    train_dataset, \n",
    "    test_dataset, \n",
    "    input_size,\n",
    "    switching_frequency=0.75, \n",
    "    batch_size=512,\n",
    "    device='cuda'\n",
    "):\n",
    "    \"\"\"\n",
    "    Orchestrates the entire pipeline to create MiniNets (one per digit/class).\n",
    "    \n",
    "    Args:\n",
    "        base_model (DiffLogic): The trained DiffLogic model.\n",
    "        train_dataset (Dataset): The full training dataset.\n",
    "        test_dataset (Dataset): The full test dataset.\n",
    "        switching_frequency (float): The proportion of activations at which \n",
    "                                     to threshold nodes as \"unused\".\n",
    "        batch_size (int): Batch size for creating class-specific dataloaders.\n",
    "        device (str): The device to be used (\"cuda\" or \"cpu\").\n",
    "\n",
    "    Returns:\n",
    "        models_per_digit (dict): A dictionary mapping each digit (0-9) to its reduced CustomDiffLogic model.\n",
    "        accuracies_on_test_loader (dict): Accuracy (with threshold=0.5) of each digit's reduced model on the full test set.\n",
    "        accuracies_on_digit_loader (dict): Accuracy (with threshold=0.5) of each digit's reduced model on \n",
    "                                           its own digit-specific test set.\n",
    "        reduced_model_accuracies (dict): Accuracy (with the optimal threshold found via precision-recall) \n",
    "                                         of each digit's reduced model on the full test set.\n",
    "    \"\"\"\n",
    "\n",
    "    # --------------------------------------------------\n",
    "    # 1) Remove all existing hooks from the base model\n",
    "    # --------------------------------------------------\n",
    "    # Reason: we need a clean slate, free of leftover hooks \n",
    "    # that may interfere with new forward_pass hooks used \n",
    "    # for activation tracking.\n",
    "    remove_all_hooks(base_model)\n",
    "    \n",
    "    # --------------------------------------------------\n",
    "    # 2) Create class-specific dataloaders\n",
    "    # --------------------------------------------------\n",
    "    # Reason: we need separate data loaders for each digit \n",
    "    # so we can track which gates/nodes are used by each digit.\n",
    "    train_class_loaders = subset.create_class_dataloaders(train_dataset, batch_size)\n",
    "    test_class_loaders = subset.create_class_dataloaders(test_dataset, batch_size)\n",
    "    \n",
    "    # --------------------------------------------------\n",
    "    # 3) Track activation counts for each digit\n",
    "    # --------------------------------------------------\n",
    "    # Reason: we do a forward pass for each digit's samples \n",
    "    # to figure out how many times each node is \"ON\" (activated).\n",
    "    activation_counts_per_digit = {digit: [] for digit in range(10)}\n",
    "    run_and_collect_activations(base_model, train_class_loaders)\n",
    "    \n",
    "    # --------------------------------------------------\n",
    "    # 4) Apply thresholding to decide which nodes are \"unused\"\n",
    "    #    based on the switching_frequency\n",
    "    # --------------------------------------------------\n",
    "    # Reason: threshold_activation_counts returns a dictionary \n",
    "    # of 0/1 values (1 = \"keep\", 0 = \"remove\").\n",
    "    thresholded_activation_counts_per_digit = threshold_activation_counts(\n",
    "        activation_counts_per_digit, \n",
    "        sf=switching_frequency\n",
    "    )\n",
    "    \n",
    "    # --------------------------------------------------\n",
    "    # 5) Find the \"unused\" nodes per digit\n",
    "    # --------------------------------------------------\n",
    "    # Reason: we now know which nodes have effectively never \n",
    "    # or rarely turned \"ON\" for a particular digit.\n",
    "    unused_gates_per_digit = find_unused_nodes(thresholded_activation_counts_per_digit)\n",
    "    \n",
    "    # --------------------------------------------------\n",
    "    # 6) Retrieve all connections (gates + input indices) \n",
    "    #    from the original DiffLogic model\n",
    "    # --------------------------------------------------\n",
    "    # Reason: we’ll need the base model’s connections to decide \n",
    "    # which ones to keep or discard based on usage.\n",
    "    connections = get_all_connections(base_model)\n",
    "    \n",
    "    # --------------------------------------------------\n",
    "    # 7) For each digit, filter out unused gates \n",
    "    #    and create a \"mini\" model\n",
    "    # --------------------------------------------------\n",
    "    # Reason: each digit’s specialized sub-network is created by \n",
    "    # removing all the gates it does not use.\n",
    "    models_per_digit = {}\n",
    "    for digit in range(10):\n",
    "        # 7a) Propagate activity and filter out truly unused connections\n",
    "        full_connections_for_digit = process_network_with_propagation(connections, unused_gates_per_digit, digit=digit)\n",
    "        \n",
    "        # 7b) Extract the gate indices\n",
    "        logic_gates_per_layer = extract_logic_gates_per_layer(full_connections_for_digit, gate_name_to_index)\n",
    "        \n",
    "        # 7c) Create the layer_specs needed to build a CustomDiffLogic\n",
    "        layer_specs = create_layer_specs(\n",
    "            adjusted_connections=full_connections_for_digit, \n",
    "            logic_gates_per_layer=logic_gates_per_layer, \n",
    "            input_size=input_size  \n",
    "        )\n",
    "        \n",
    "        # 7d) Construct the \"mini\" model for this digit\n",
    "        custom_model = CustomDiffLogic(layer_specs, device=device)\n",
    "        custom_model.to(device)\n",
    "        \n",
    "        # Store in the dictionary\n",
    "        models_per_digit[digit] = custom_model\n",
    "    \n",
    "    # --------------------------------------------------\n",
    "    # 8) Evaluate these \"mini\" models\n",
    "    # --------------------------------------------------\n",
    "    # Reason: we want to measure how well each digit’s reduced model \n",
    "    # separates \"digit vs. not-digit\" with a 0.5 threshold \n",
    "    # and also with an optimal threshold.\n",
    "    accuracies_on_test_loader = {}\n",
    "    accuracies_on_digit_loader = {}\n",
    "    \n",
    "    # 8a) Evaluate the accuracy on the whole test dataset and on the specific one for that class\n",
    "    for digit in range(10):\n",
    "        test_loader_accuracy = accuracy_one_vs_all(models_per_digit[digit], test_dataset, digit, device=device)\n",
    "        accuracies_on_test_loader[digit] = test_loader_accuracy\n",
    "\n",
    "        digit_loader_accuracy = accuracy_one_vs_all(models_per_digit[digit], test_class_loaders[digit], digit, device=device)\n",
    "        accuracies_on_digit_loader[digit] = digit_loader_accuracy\n",
    "    \n",
    "    # 8b) Evaluate with an optimal threshold (based on precision-recall)\n",
    "    reduced_model_accuracies = {}\n",
    "    for digit in range(10):\n",
    "        outputs, labels = collect_outputs_and_labels(models_per_digit[digit], test_dataset, digit, device=device)\n",
    "        \n",
    "        optimal_threshold, precision, recall, f1_score = find_optimal_threshold(outputs, labels)\n",
    "        accuracy_opt_threshold = thresholded_accuracy(outputs, labels, optimal_threshold)\n",
    "        \n",
    "        reduced_model_accuracies[digit] = accuracy_opt_threshold\n",
    "        print(f\"[Digit {digit}] - Optimal threshold = {optimal_threshold}, Accuracy = {accuracy_opt_threshold:.4f}, \"\n",
    "              f\"Precision = {precision:.4f}, Recall = {recall:.4f}, F1 = {f1_score:.4f}\")\n",
    "    \n",
    "    # Return all the final mini-models and their accuracies\n",
    "    return models_per_digit, accuracies_on_test_loader, accuracies_on_digit_loader, reduced_model_accuracies"
   ]
  },
  {
   "cell_type": "code",
   "execution_count": 104,
   "id": "804e79ed-1885-4854-bf13-f74ab595b083",
   "metadata": {
    "tags": []
   },
   "outputs": [
    {
     "ename": "ValueError",
     "evalue": "max() arg is an empty sequence",
     "output_type": "error",
     "traceback": [
      "\u001b[0;31m---------------------------------------------------------------------------\u001b[0m",
      "\u001b[0;31mValueError\u001b[0m                                Traceback (most recent call last)",
      "Cell \u001b[0;32mIn[104], line 3\u001b[0m\n\u001b[1;32m      1\u001b[0m \u001b[38;5;66;03m## HAVE NOT LOOKED INTO WHY THIS IS FAILING, WILL CHECK TOMORROW\u001b[39;00m\n\u001b[0;32m----> 3\u001b[0m models_per_digit, acc_test_loader, acc_digit_loader, reduced_accs \u001b[38;5;241m=\u001b[39m \u001b[43mrun_full_mininet_pipeline\u001b[49m\u001b[43m(\u001b[49m\n\u001b[1;32m      4\u001b[0m \u001b[43m    \u001b[49m\u001b[43mbase_model\u001b[49m\u001b[38;5;241;43m=\u001b[39;49m\u001b[43mmodel\u001b[49m\u001b[43m,\u001b[49m\u001b[43m \u001b[49m\n\u001b[1;32m      5\u001b[0m \u001b[43m    \u001b[49m\u001b[43mtrain_dataset\u001b[49m\u001b[38;5;241;43m=\u001b[39;49m\u001b[43mtrain_dataset\u001b[49m\u001b[43m,\u001b[49m\u001b[43m \u001b[49m\n\u001b[1;32m      6\u001b[0m \u001b[43m    \u001b[49m\u001b[43mtest_dataset\u001b[49m\u001b[38;5;241;43m=\u001b[39;49m\u001b[43mtest_dataset\u001b[49m\u001b[43m,\u001b[49m\u001b[43m \u001b[49m\n\u001b[1;32m      7\u001b[0m \u001b[43m    \u001b[49m\u001b[43minput_size\u001b[49m\u001b[38;5;241;43m=\u001b[39;49m\u001b[38;5;241;43m784\u001b[39;49m\u001b[43m,\u001b[49m\n\u001b[1;32m      8\u001b[0m \u001b[43m    \u001b[49m\u001b[43mswitching_frequency\u001b[49m\u001b[38;5;241;43m=\u001b[39;49m\u001b[38;5;241;43m0.75\u001b[39;49m\u001b[43m,\u001b[49m\u001b[43m \u001b[49m\n\u001b[1;32m      9\u001b[0m \u001b[43m    \u001b[49m\u001b[43mbatch_size\u001b[49m\u001b[38;5;241;43m=\u001b[39;49m\u001b[38;5;241;43m512\u001b[39;49m\u001b[43m,\u001b[49m\n\u001b[1;32m     10\u001b[0m \u001b[43m    \u001b[49m\u001b[43mdevice\u001b[49m\u001b[38;5;241;43m=\u001b[39;49m\u001b[38;5;124;43m'\u001b[39;49m\u001b[38;5;124;43mcuda\u001b[39;49m\u001b[38;5;124;43m'\u001b[39;49m\n\u001b[1;32m     11\u001b[0m \u001b[43m)\u001b[49m\n",
      "Cell \u001b[0;32mIn[103], line 61\u001b[0m, in \u001b[0;36mrun_full_mininet_pipeline\u001b[0;34m(base_model, train_dataset, test_dataset, input_size, switching_frequency, batch_size, device)\u001b[0m\n\u001b[1;32m     53\u001b[0m run_and_collect_activations(base_model, train_class_loaders)\n\u001b[1;32m     55\u001b[0m \u001b[38;5;66;03m# --------------------------------------------------\u001b[39;00m\n\u001b[1;32m     56\u001b[0m \u001b[38;5;66;03m# 4) Apply thresholding to decide which nodes are \"unused\"\u001b[39;00m\n\u001b[1;32m     57\u001b[0m \u001b[38;5;66;03m#    based on the switching_frequency\u001b[39;00m\n\u001b[1;32m     58\u001b[0m \u001b[38;5;66;03m# --------------------------------------------------\u001b[39;00m\n\u001b[1;32m     59\u001b[0m \u001b[38;5;66;03m# Reason: threshold_activation_counts returns a dictionary \u001b[39;00m\n\u001b[1;32m     60\u001b[0m \u001b[38;5;66;03m# of 0/1 values (1 = \"keep\", 0 = \"remove\").\u001b[39;00m\n\u001b[0;32m---> 61\u001b[0m thresholded_activation_counts_per_digit \u001b[38;5;241m=\u001b[39m \u001b[43mthreshold_activation_counts\u001b[49m\u001b[43m(\u001b[49m\n\u001b[1;32m     62\u001b[0m \u001b[43m    \u001b[49m\u001b[43mactivation_counts_per_digit\u001b[49m\u001b[43m,\u001b[49m\u001b[43m \u001b[49m\n\u001b[1;32m     63\u001b[0m \u001b[43m    \u001b[49m\u001b[43msf\u001b[49m\u001b[38;5;241;43m=\u001b[39;49m\u001b[43mswitching_frequency\u001b[49m\n\u001b[1;32m     64\u001b[0m \u001b[43m\u001b[49m\u001b[43m)\u001b[49m\n\u001b[1;32m     66\u001b[0m \u001b[38;5;66;03m# --------------------------------------------------\u001b[39;00m\n\u001b[1;32m     67\u001b[0m \u001b[38;5;66;03m# 5) Find the \"unused\" nodes per digit\u001b[39;00m\n\u001b[1;32m     68\u001b[0m \u001b[38;5;66;03m# --------------------------------------------------\u001b[39;00m\n\u001b[1;32m     69\u001b[0m \u001b[38;5;66;03m# Reason: we now know which nodes have effectively never \u001b[39;00m\n\u001b[1;32m     70\u001b[0m \u001b[38;5;66;03m# or rarely turned \"ON\" for a particular digit.\u001b[39;00m\n\u001b[1;32m     71\u001b[0m unused_gates_per_digit \u001b[38;5;241m=\u001b[39m find_unused_nodes(thresholded_activation_counts_per_digit)\n",
      "Cell \u001b[0;32mIn[89], line 9\u001b[0m, in \u001b[0;36mthreshold_activation_counts\u001b[0;34m(activation_counts, sf)\u001b[0m\n\u001b[1;32m      6\u001b[0m \u001b[38;5;28;01mfor\u001b[39;00m digit, layers \u001b[38;5;129;01min\u001b[39;00m activation_counts\u001b[38;5;241m.\u001b[39mitems():\n\u001b[1;32m      7\u001b[0m     thresholded_counts[digit] \u001b[38;5;241m=\u001b[39m []\n\u001b[0;32m----> 9\u001b[0m     most_activations \u001b[38;5;241m=\u001b[39m \u001b[38;5;28;43mmax\u001b[39;49m\u001b[43m(\u001b[49m\u001b[38;5;28;43mmax\u001b[39;49m\u001b[43m(\u001b[49m\u001b[43mlayer_array\u001b[49m\u001b[43m)\u001b[49m\u001b[43m \u001b[49m\u001b[38;5;28;43;01mfor\u001b[39;49;00m\u001b[43m \u001b[49m\u001b[43mlayer_array\u001b[49m\u001b[43m \u001b[49m\u001b[38;5;129;43;01min\u001b[39;49;00m\u001b[43m \u001b[49m\u001b[43mlayers\u001b[49m\u001b[43m)\u001b[49m\n\u001b[1;32m     11\u001b[0m     \u001b[38;5;66;03m# calculates the threshold of how many times a node has to be activated\u001b[39;00m\n\u001b[1;32m     12\u001b[0m     threshold \u001b[38;5;241m=\u001b[39m sf \u001b[38;5;241m*\u001b[39m most_activations\n",
      "\u001b[0;31mValueError\u001b[0m: max() arg is an empty sequence"
     ]
    }
   ],
   "source": [
    "## HAVE NOT LOOKED INTO WHY THIS IS FAILING, WILL CHECK TOMORROW\n",
    "\n",
    "models_per_digit, acc_test_loader, acc_digit_loader, reduced_accs = run_full_mininet_pipeline(\n",
    "    base_model=model, \n",
    "    train_dataset=train_dataset, \n",
    "    test_dataset=test_dataset, \n",
    "    input_size=784,\n",
    "    switching_frequency=0.75, \n",
    "    batch_size=512,\n",
    "    device='cuda'\n",
    ")"
   ]
  },
  {
   "cell_type": "markdown",
   "id": "746aacdc-aa52-4a9c-838e-275e822aae16",
   "metadata": {},
   "source": [
    "-----"
   ]
  },
  {
   "cell_type": "markdown",
   "id": "40bd379a-b014-4568-99d1-56cba2f083f1",
   "metadata": {
    "jp-MarkdownHeadingCollapsed": true,
    "tags": []
   },
   "source": [
    "#### **Creating MiniNets with Stephen Code [Ignore For Now]**"
   ]
  },
  {
   "cell_type": "code",
   "execution_count": 14,
   "id": "f2ceac67-a403-4fbd-8488-91bd0a1aebee",
   "metadata": {
    "tags": []
   },
   "outputs": [],
   "source": [
    "# Create class-specific data loaders for training and testing sets if they haven't been created\n",
    "if 'train_class_loaders' not in locals():\n",
    "    train_class_loaders = subset.create_class_dataloaders(train_dataset, batch_size)\n",
    "if 'test_class_loaders' not in locals():\n",
    "    test_class_loaders = subset.create_class_dataloaders(test_dataset, batch_size)"
   ]
  },
  {
   "cell_type": "code",
   "execution_count": 15,
   "id": "b84d399c-304c-4bf4-b521-f464e546c2b3",
   "metadata": {
    "tags": []
   },
   "outputs": [
    {
     "name": "stdout",
     "output_type": "stream",
     "text": [
      "Class 0\n"
     ]
    },
    {
     "name": "stderr",
     "output_type": "stream",
     "text": [
      "Processing images: 100%|██████████| 11/11 [00:12<00:00,  1.14s/it]\n"
     ]
    },
    {
     "name": "stdout",
     "output_type": "stream",
     "text": [
      "Class 1\n"
     ]
    },
    {
     "name": "stderr",
     "output_type": "stream",
     "text": [
      "Processing images: 100%|██████████| 11/11 [00:11<00:00,  1.03s/it]\n"
     ]
    },
    {
     "name": "stdout",
     "output_type": "stream",
     "text": [
      "Class 2\n"
     ]
    },
    {
     "name": "stderr",
     "output_type": "stream",
     "text": [
      "Processing images: 100%|██████████| 11/11 [00:11<00:00,  1.03s/it]\n"
     ]
    },
    {
     "name": "stdout",
     "output_type": "stream",
     "text": [
      "Class 3\n"
     ]
    },
    {
     "name": "stderr",
     "output_type": "stream",
     "text": [
      "Processing images: 100%|██████████| 11/11 [00:11<00:00,  1.04s/it]\n"
     ]
    },
    {
     "name": "stdout",
     "output_type": "stream",
     "text": [
      "Class 4\n"
     ]
    },
    {
     "name": "stderr",
     "output_type": "stream",
     "text": [
      "Processing images: 100%|██████████| 11/11 [00:11<00:00,  1.04s/it]\n"
     ]
    },
    {
     "name": "stdout",
     "output_type": "stream",
     "text": [
      "Class 5\n"
     ]
    },
    {
     "name": "stderr",
     "output_type": "stream",
     "text": [
      "Processing images: 100%|██████████| 11/11 [00:11<00:00,  1.05s/it]\n"
     ]
    },
    {
     "name": "stdout",
     "output_type": "stream",
     "text": [
      "Class 6\n"
     ]
    },
    {
     "name": "stderr",
     "output_type": "stream",
     "text": [
      "Processing images: 100%|██████████| 11/11 [00:11<00:00,  1.05s/it]\n"
     ]
    },
    {
     "name": "stdout",
     "output_type": "stream",
     "text": [
      "Class 7\n"
     ]
    },
    {
     "name": "stderr",
     "output_type": "stream",
     "text": [
      "Processing images: 100%|██████████| 11/11 [00:11<00:00,  1.05s/it]\n"
     ]
    },
    {
     "name": "stdout",
     "output_type": "stream",
     "text": [
      "Class 8\n"
     ]
    },
    {
     "name": "stderr",
     "output_type": "stream",
     "text": [
      "Processing images: 100%|██████████| 11/11 [00:11<00:00,  1.06s/it]\n"
     ]
    },
    {
     "name": "stdout",
     "output_type": "stream",
     "text": [
      "Class 9\n"
     ]
    },
    {
     "name": "stderr",
     "output_type": "stream",
     "text": [
      "Processing images: 100%|██████████| 11/11 [00:11<00:00,  1.07s/it]\n"
     ]
    }
   ],
   "source": [
    "# Compute SF for each graph (e.g. digits 0-9 for MNIST) \n",
    "graphs = {}\n",
    "\n",
    "for g in range(10): \n",
    "    print(f\"Class {g}\")\n",
    "    graphs[g] = lg.LogicGraph(model) \n",
    "    graphs[g].compute_sf(train_class_loaders[g])"
   ]
  },
  {
   "cell_type": "markdown",
   "id": "93aa30a1-4971-4eea-8fd2-ae941949356f",
   "metadata": {},
   "source": [
    "1. Prune the graph by a specific SF threshold"
   ]
  },
  {
   "cell_type": "code",
   "execution_count": 104,
   "id": "4348adfa-6c73-4655-8cda-127ae187584f",
   "metadata": {
    "tags": []
   },
   "outputs": [],
   "source": [
    "def prune_graph_by_sf(logic_graph, sf_threshold=0.1, keep_high_low=False):\n",
    "    \"\"\"\n",
    "    Returns a subgraph containing only nodes whose SF >= sf_threshold.\n",
    "    Optionally keep 'HIGH'/'LOW' nodes always.\n",
    "\n",
    "    Args:\n",
    "        logic_graph (LogicGraph): The LogicGraph instance that already called compute_sf(...) \n",
    "                                  so each node has an 'sf' attribute.\n",
    "        sf_threshold (float): The minimum SF required to keep the node.\n",
    "        keep_high_low (bool): If True, do not remove 'HIGH'/'LOW' nodes.\n",
    "\n",
    "    Returns:\n",
    "        nx.DiGraph: pruned (sub)graph\n",
    "    \"\"\"\n",
    "    # Copy original graph to avoid modifying in-place\n",
    "    pruned = logic_graph.g.copy()\n",
    "\n",
    "    for node in list(pruned.nodes()):\n",
    "        # If user wants to keep 'HIGH'/'LOW', skip them\n",
    "        if keep_high_low and node in (\"HIGH\", \"LOW\"):\n",
    "            continue\n",
    "\n",
    "        # Get the SF for this node\n",
    "        node_sf = pruned.nodes[node].get(\"sf\", 0.0)\n",
    "        if node_sf < sf_threshold:\n",
    "            pruned.remove_node(node)\n",
    "\n",
    "    return pruned"
   ]
  },
  {
   "cell_type": "code",
   "execution_count": 108,
   "id": "afbce318-2b6a-44b5-8b5e-a8542b2ebbe4",
   "metadata": {
    "collapsed": true,
    "jupyter": {
     "outputs_hidden": true
    },
    "tags": []
   },
   "outputs": [
    {
     "name": "stdout",
     "output_type": "stream",
     "text": [
      "Nodes in the graph:\n",
      "  ('L1_N166', {'layer': 1, 'counts': 0, 'gate': 'not_b', 'sf': 1.0, 'sp': 0})\n",
      "  ('L1_N418', {'layer': 1, 'counts': 0, 'gate': 'implied_by', 'sf': 1.0, 'sp': 0})\n",
      "  ('L1_N504', {'layer': 1, 'counts': 0, 'gate': 'one', 'sf': 1.0, 'sp': 0})\n",
      "  ('L1_N658', {'layer': 1, 'counts': 0, 'gate': 'one', 'sf': 1.0, 'sp': 0})\n",
      "  ('L1_N815', {'layer': 1, 'counts': 0, 'gate': 'implied_by', 'sf': 1.0, 'sp': 0})\n",
      "  ('L1_N940', {'layer': 1, 'counts': 0, 'gate': 'one', 'sf': 1.0, 'sp': 0})\n",
      "  ('L1_N1048', {'layer': 1, 'counts': 0, 'gate': 'implies', 'sf': 1.0, 'sp': 0})\n",
      "  ('L1_N1081', {'layer': 1, 'counts': 0, 'gate': 'one', 'sf': 1.0, 'sp': 0})\n",
      "  ('L1_N1112', {'layer': 1, 'counts': 0, 'gate': 'one', 'sf': 1.0, 'sp': 0})\n",
      "  ('L1_N1295', {'layer': 1, 'counts': 0, 'gate': 'not_a', 'sf': 1.0, 'sp': 0})\n",
      "  ('L1_N1354', {'layer': 1, 'counts': 0, 'gate': 'one', 'sf': 1.0, 'sp': 0})\n",
      "  ('L1_N1530', {'layer': 1, 'counts': 0, 'gate': 'implied_by', 'sf': 1.0, 'sp': 0})\n",
      "  ('L1_N1681', {'layer': 1, 'counts': 0, 'gate': 'not_a', 'sf': 1.0, 'sp': 0})\n",
      "  ('L1_N1821', {'layer': 1, 'counts': 0, 'gate': 'not_a', 'sf': 1.0, 'sp': 0})\n",
      "  ('L1_N1913', {'layer': 1, 'counts': 0, 'gate': 'not_and', 'sf': 1.0, 'sp': 0})\n",
      "  ('L1_N1920', {'layer': 1, 'counts': 0, 'gate': 'one', 'sf': 1.0, 'sp': 0})\n",
      "  ('L1_N1950', {'layer': 1, 'counts': 0, 'gate': 'one', 'sf': 1.0, 'sp': 0})\n",
      "  ('L1_N1991', {'layer': 1, 'counts': 0, 'gate': 'implied_by', 'sf': 1.0, 'sp': 0})\n",
      "  ('L1_N2147', {'layer': 1, 'counts': 0, 'gate': 'one', 'sf': 1.0, 'sp': 0})\n",
      "  ('L1_N2263', {'layer': 1, 'counts': 0, 'gate': 'one', 'sf': 1.0, 'sp': 0})\n",
      "  ('L1_N2485', {'layer': 1, 'counts': 0, 'gate': 'one', 'sf': 1.0, 'sp': 0})\n",
      "  ('L1_N2571', {'layer': 1, 'counts': 0, 'gate': 'one', 'sf': 1.0, 'sp': 0})\n",
      "  ('L1_N2578', {'layer': 1, 'counts': 0, 'gate': 'not_b', 'sf': 1.0, 'sp': 0})\n",
      "  ('L1_N2645', {'layer': 1, 'counts': 0, 'gate': 'one', 'sf': 1.0, 'sp': 0})\n",
      "  ('L1_N2680', {'layer': 1, 'counts': 0, 'gate': 'implies', 'sf': 1.0, 'sp': 0})\n",
      "  ('L1_N2715', {'layer': 1, 'counts': 0, 'gate': 'not_and', 'sf': 1.0, 'sp': 0})\n",
      "  ('L1_N2732', {'layer': 1, 'counts': 0, 'gate': 'implied_by', 'sf': 1.0, 'sp': 0})\n",
      "  ('L1_N3041', {'layer': 1, 'counts': 0, 'gate': 'not_a', 'sf': 1.0, 'sp': 0})\n",
      "  ('L1_N3053', {'layer': 1, 'counts': 0, 'gate': 'implied_by', 'sf': 1.0, 'sp': 0})\n",
      "  ('L1_N3054', {'layer': 1, 'counts': 0, 'gate': 'one', 'sf': 1.0, 'sp': 0})\n",
      "  ('L1_N3063', {'layer': 1, 'counts': 0, 'gate': 'not_and', 'sf': 1.0, 'sp': 0})\n",
      "  ('L1_N3221', {'layer': 1, 'counts': 0, 'gate': 'not_b', 'sf': 1.0, 'sp': 0})\n",
      "  ('L1_N3661', {'layer': 1, 'counts': 0, 'gate': 'one', 'sf': 1.0, 'sp': 0})\n",
      "  ('L1_N3730', {'layer': 1, 'counts': 0, 'gate': 'one', 'sf': 1.0, 'sp': 0})\n",
      "  ('L1_N3824', {'layer': 1, 'counts': 0, 'gate': 'one', 'sf': 1.0, 'sp': 0})\n",
      "  ('L1_N4069', {'layer': 1, 'counts': 0, 'gate': 'one', 'sf': 1.0, 'sp': 0})\n",
      "  ('L1_N4131', {'layer': 1, 'counts': 0, 'gate': 'implies', 'sf': 1.0, 'sp': 0})\n",
      "  ('L1_N4297', {'layer': 1, 'counts': 0, 'gate': 'not_a', 'sf': 1.0, 'sp': 0})\n",
      "  ('L1_N4413', {'layer': 1, 'counts': 0, 'gate': 'implies', 'sf': 1.0, 'sp': 0})\n",
      "  ('L1_N4466', {'layer': 1, 'counts': 0, 'gate': 'one', 'sf': 1.0, 'sp': 0})\n",
      "  ('L1_N4498', {'layer': 1, 'counts': 0, 'gate': 'one', 'sf': 1.0, 'sp': 0})\n",
      "  ('L1_N4672', {'layer': 1, 'counts': 0, 'gate': 'not_and', 'sf': 1.0, 'sp': 0})\n",
      "  ('L2_N162', {'layer': 2, 'counts': 0, 'gate': 'implied_by', 'sf': 1.0, 'sp': 0})\n",
      "  ('L2_N629', {'layer': 2, 'counts': 0, 'gate': 'a', 'sf': 1.0, 'sp': 0})\n",
      "  ('L2_N633', {'layer': 2, 'counts': 0, 'gate': 'implies', 'sf': 1.0, 'sp': 0})\n",
      "  ('L2_N1215', {'layer': 2, 'counts': 0, 'gate': 'not_and', 'sf': 1.0, 'sp': 0})\n",
      "  ('L2_N1292', {'layer': 2, 'counts': 0, 'gate': 'one', 'sf': 1.0, 'sp': 0})\n",
      "  ('L2_N1332', {'layer': 2, 'counts': 0, 'gate': 'one', 'sf': 1.0, 'sp': 0})\n",
      "  ('L2_N3090', {'layer': 2, 'counts': 0, 'gate': 'one', 'sf': 1.0, 'sp': 0})\n",
      "  ('L2_N3180', {'layer': 2, 'counts': 0, 'gate': 'one', 'sf': 1.0, 'sp': 0})\n",
      "  ('L2_N3339', {'layer': 2, 'counts': 0, 'gate': 'implies', 'sf': 1.0, 'sp': 0})\n",
      "  ('L2_N3433', {'layer': 2, 'counts': 0, 'gate': 'or', 'sf': 1.0, 'sp': 0})\n",
      "  ('L2_N3480', {'layer': 2, 'counts': 0, 'gate': 'one', 'sf': 1.0, 'sp': 0})\n",
      "  ('L2_N4045', {'layer': 2, 'counts': 0, 'gate': 'implies', 'sf': 1.0, 'sp': 0})\n",
      "  ('L2_N4072', {'layer': 2, 'counts': 0, 'gate': 'not_a', 'sf': 1.0, 'sp': 0})\n",
      "  ('L2_N4080', {'layer': 2, 'counts': 0, 'gate': 'or', 'sf': 1.0, 'sp': 0})\n",
      "  ('L2_N4108', {'layer': 2, 'counts': 0, 'gate': 'implies', 'sf': 1.0, 'sp': 0})\n",
      "  ('L2_N4361', {'layer': 2, 'counts': 0, 'gate': 'one', 'sf': 1.0, 'sp': 0})\n",
      "  ('L2_N4372', {'layer': 2, 'counts': 0, 'gate': 'one', 'sf': 1.0, 'sp': 0})\n",
      "  ('L2_N4377', {'layer': 2, 'counts': 0, 'gate': 'or', 'sf': 1.0, 'sp': 0})\n",
      "  ('L2_N4482', {'layer': 2, 'counts': 0, 'gate': 'one', 'sf': 1.0, 'sp': 0})\n",
      "  ('L2_N4593', {'layer': 2, 'counts': 0, 'gate': 'one', 'sf': 1.0, 'sp': 0})\n",
      "\n",
      "Edges in the graph:\n",
      "  ('L1_N1913', 'L2_N629', {'ab': 'a'})\n",
      "  ('L1_N1950', 'L2_N4377', {'ab': 'a'})\n",
      "  ('L1_N3053', 'L2_N4080', {'ab': 'a'})\n"
     ]
    }
   ],
   "source": [
    "# helper function to print out the graph\n",
    "def print_graph_connections(graph):\n",
    "    \"\"\"\n",
    "    Prints the connections (edges) in the graph along with optional attributes.\n",
    "\n",
    "    Args:\n",
    "        graph (nx.DiGraph): The graph to print.\n",
    "    \"\"\"\n",
    "    print(\"Nodes in the graph:\")\n",
    "    for node in graph.nodes(data=True):  # `data=True` includes node attributes\n",
    "        print(f\"  {node}\")\n",
    "\n",
    "    print(\"\\nEdges in the graph:\")\n",
    "    for edge in graph.edges(data=True):  # `data=True` includes edge attributes\n",
    "        print(f\"  {edge}\")\n",
    "\n",
    "# example usage:\n",
    "pruned_graph = prune_graph_by_sf(graphs[0], sf_threshold=0.9999, keep_high_low=False)\n",
    "print_graph_connections(pruned_graph)"
   ]
  },
  {
   "cell_type": "markdown",
   "id": "c707eb9e-d284-4363-b596-ed4436d4ce42",
   "metadata": {},
   "source": [
    "testing"
   ]
  },
  {
   "cell_type": "code",
   "execution_count": 126,
   "id": "456a5f67-11d5-4cb8-9f77-c010c74e1ad5",
   "metadata": {
    "tags": []
   },
   "outputs": [],
   "source": [
    "import networkx as nx\n",
    "def reindex_subgraph_nodes(pruned_graph):\n",
    "    \"\"\"\n",
    "    Re-map each layer's node IDs to consecutive indices [0..k-1].\n",
    "    Returns a new graph (or mapping) with the updated node IDs plus a dict\n",
    "    that maps old IDs -> new IDs.\n",
    "    \"\"\"\n",
    "    # Example approach:\n",
    "    # 1. Separate nodes by layer\n",
    "    nodes_by_layer = {}\n",
    "    for node in pruned_graph.nodes():\n",
    "        if node in (\"HIGH\",\"LOW\"):\n",
    "            continue\n",
    "        layer = pruned_graph.nodes[node][\"layer\"]  # assume your graph stored 'layer' attribute\n",
    "        nodes_by_layer.setdefault(layer, []).append(node)\n",
    "    \n",
    "    # 2. Sort each layer's nodes and build re-mapping\n",
    "    mapping = {}\n",
    "    for layer, node_list in nodes_by_layer.items():\n",
    "        node_list_sorted = sorted(node_list)  # or sort by their numeric ID\n",
    "        for new_idx, n in enumerate(node_list_sorted):\n",
    "            mapping[n] = f\"L{layer}_IDX{new_idx}\"  # or just store the integer new_idx\n",
    "            # if you prefer storing an integer: mapping[n] = (layer, new_idx)\n",
    "    \n",
    "    # 3. Create a copy of the graph and rename\n",
    "    new_g = nx.relabel_nodes(pruned_graph, mapping, copy=True)\n",
    "    return new_g, mapping\n",
    "\n",
    "new_g, mapping = reindex_subgraph_nodes(pruned_graph)"
   ]
  },
  {
   "cell_type": "markdown",
   "id": "045f1c40-5588-4d09-9cb8-c7031e68e9a9",
   "metadata": {},
   "source": [
    "2. Extract the connections and gates from this subgraph"
   ]
  },
  {
   "cell_type": "code",
   "execution_count": 111,
   "id": "20fe5a17-28f5-482c-9d9d-8bcbbe2dd532",
   "metadata": {
    "tags": []
   },
   "outputs": [],
   "source": [
    "def extract_connections_and_gates_from_subgraph(pruned_graph):\n",
    "    \"\"\"\n",
    "    Creates a list of (inputA, inputB, outputNode) plus a dict of node->gate from the pruned graph.\n",
    "    \n",
    "    Args:\n",
    "        pruned_graph (nx.DiGraph): The pruned networkx graph.\n",
    "    \n",
    "    Returns:\n",
    "        connections (list of (inputA, inputB, outputNode))\n",
    "        gates (dict) mapping each node to its learned gate (str).\n",
    "    \"\"\"\n",
    "    connections = []\n",
    "    gates = {}\n",
    "\n",
    "    for node in pruned_graph.nodes():\n",
    "        # Skip 'HIGH','LOW' if they're present\n",
    "        if node in (\"HIGH\", \"LOW\"):\n",
    "            continue\n",
    "\n",
    "        # Gate name\n",
    "        learned_gate = pruned_graph.nodes[node][\"gate\"]\n",
    "        gates[node] = learned_gate\n",
    "\n",
    "        # The node’s predecessors\n",
    "        preds = list(pruned_graph.predecessors(node))\n",
    "\n",
    "        # If 2 predecessors => typical binary gate\n",
    "        if len(preds) == 2:\n",
    "            connections.append((preds[0], preds[1], node))\n",
    "        # If 1 predecessor => unary gate (like \"not_a\",\"not_b\", or \"a\"/\"b\" ignoring the second input)\n",
    "        elif len(preds) == 1:\n",
    "            connections.append((preds[0], None, node))\n",
    "        # If 0 => either 'HIGH','LOW', or something unusual\n",
    "\n",
    "    return connections, gates\n",
    "\n",
    "connections, gates = extract_connections_and_gates_from_subgraph(pruned_graph)"
   ]
  },
  {
   "cell_type": "code",
   "execution_count": 118,
   "id": "09f52601-04f0-442a-b24b-da618fb1050e",
   "metadata": {
    "tags": []
   },
   "outputs": [
    {
     "data": {
      "text/plain": [
       "([('L1_N1913', None, 'L2_N629'),\n",
       "  ('L1_N3053', None, 'L2_N4080'),\n",
       "  ('L1_N1950', None, 'L2_N4377')],\n",
       " {'L2_N629': 'a', 'L2_N4080': 'a', 'L2_N4377': 'a'})"
      ]
     },
     "execution_count": 118,
     "metadata": {},
     "output_type": "execute_result"
    }
   ],
   "source": [
    "def validate_and_fix_binary_gates(connections, gates):\n",
    "    \"\"\"\n",
    "    Ensures that binary gates (AND, OR, XOR, IMPLIES, etc.)\n",
    "    have exactly 2 inputs. If they only have 1 input, either drop them\n",
    "    or convert them to a unary gate (like 'a').\n",
    "    If the gate is unary (NOT_A, etc.), ensure it has exactly 1 input.\n",
    "    Returns new_connections, new_gates with invalid gates removed or fixed.\n",
    "    \"\"\"\n",
    "    # The set of definitely-binary gates in your list:\n",
    "    BINARY_GATES = {\"and\",\"not_implies\",\"not_implied_by\",\"xor\",\"or\",\n",
    "                    \"implies\",\"implied_by\",\"not_and\",\"not_or\",\"not_xor\"}\n",
    "    \n",
    "    # The set of definitely-unary gates in your list:\n",
    "    UNARY_GATES = {\"a\",\"b\",\"not_a\",\"not_b\"}\n",
    "    \n",
    "    new_connections = []\n",
    "    new_gates = {}\n",
    "    \n",
    "    for (inpA, inpB, node) in connections:\n",
    "        gate = gates[node]\n",
    "        \n",
    "        # Count how many real (non-None) inputs we have\n",
    "        inputs_count = (inpA is not None) + (inpB is not None)\n",
    "        \n",
    "        if gate in BINARY_GATES:\n",
    "            if inputs_count < 2:\n",
    "                # Option A: drop the node\n",
    "                # continue  # skip adding this node entirely\n",
    "                \n",
    "                # OR Option B: degrade the node to gate 'a' if it had exactly 1 input\n",
    "                if inputs_count == 1:\n",
    "                    new_gate = \"a\"  # or \"b\", your choice\n",
    "                    # keep whichever input is not None\n",
    "                    if inpA is None:\n",
    "                        new_connections.append((inpB, None, node))\n",
    "                    else:\n",
    "                        new_connections.append((inpA, None, node))\n",
    "                    new_gates[node] = new_gate\n",
    "                else:\n",
    "                    # 0 inputs? skip\n",
    "                    continue\n",
    "            else:\n",
    "                # 2 inputs => good\n",
    "                new_connections.append((inpA, inpB, node))\n",
    "                new_gates[node] = gate\n",
    "                \n",
    "        elif gate in UNARY_GATES:\n",
    "            if inputs_count == 0:\n",
    "                # if gate is 'a' but no inputs => skip\n",
    "                continue\n",
    "            # If it has 2 inputs by mistake, you must choose how to handle that:\n",
    "            if inputs_count == 2:\n",
    "                # just keep the first input, or skip:\n",
    "                new_connections.append((inpA, None, node))\n",
    "                new_gates[node] = gate\n",
    "            else:\n",
    "                # exactly 1 input => good\n",
    "                new_connections.append((inpA, inpB, node))\n",
    "                new_gates[node] = gate\n",
    "        else:\n",
    "            # Could be gates \"zero\" or \"one\" which actually need 0 inputs\n",
    "            if gate in {\"zero\",\"one\"}:\n",
    "                # 0 inputs is ideal for them. If there's at least 1 input, we might skip them or ignore.\n",
    "                if inputs_count == 0:\n",
    "                    new_connections.append((None, None, node))\n",
    "                    new_gates[node] = gate\n",
    "                # else skip or handle\n",
    "            else:\n",
    "                # If unknown gate, skip or keep\n",
    "                new_connections.append((inpA, inpB, node))\n",
    "                new_gates[node] = gate\n",
    "    \n",
    "    return new_connections, new_gates\n",
    "\n",
    "validate_and_fix_binary_gates(connections, gates)"
   ]
  },
  {
   "cell_type": "markdown",
   "id": "ccbbb973-0d5d-4ea9-b547-194c8a0def7e",
   "metadata": {},
   "source": [
    "3. Convert the Connections into layer_specs"
   ]
  },
  {
   "cell_type": "code",
   "execution_count": 114,
   "id": "5b1b431a-3fa5-4b74-bbe1-5571bd4257c0",
   "metadata": {
    "tags": []
   },
   "outputs": [
    {
     "data": {
      "text/plain": [
       "{'zero': 0,\n",
       " 'and': 1,\n",
       " 'not_implies': 2,\n",
       " 'a': 3,\n",
       " 'not_implied_by': 4,\n",
       " 'b': 5,\n",
       " 'xor': 6,\n",
       " 'or': 7,\n",
       " 'not_or': 8,\n",
       " 'not_xor': 9,\n",
       " 'not_b': 10,\n",
       " 'implied_by': 11,\n",
       " 'not_a': 12,\n",
       " 'implies': 13,\n",
       " 'not_and': 14,\n",
       " 'one': 15}"
      ]
     },
     "execution_count": 114,
     "metadata": {},
     "output_type": "execute_result"
    }
   ],
   "source": [
    "# map gate names to indices\n",
    "ALL_OPERATIONS = [\n",
    "    \"zero\", \"and\", \"not_implies\", \"a\", \"not_implied_by\", \"b\", \"xor\", \"or\", \n",
    "    \"not_or\", \"not_xor\", \"not_b\", \"implied_by\", \"not_a\", \"implies\", \"not_and\", \"one\"\n",
    "]\n",
    "\n",
    "gate_name_to_index = {name: idx for idx, name in enumerate(ALL_OPERATIONS)}\n",
    "gate_name_to_index"
   ]
  },
  {
   "cell_type": "code",
   "execution_count": 115,
   "id": "6b7bd08c-4281-459a-b7d5-aab112b1aa1d",
   "metadata": {
    "tags": []
   },
   "outputs": [],
   "source": [
    "# helper function to convert strings into integers and speed up processing\n",
    "def parse_node_id(node_id):\n",
    "    \"\"\"\n",
    "    Given a string like 'L2_N123', returns (layer=2, node_index=123).\n",
    "    If node_id is None, return None.\n",
    "\n",
    "    Example:\n",
    "        parse_node_id('L1_N4690') -> (1, 4690)\n",
    "        parse_node_id(None) -> None\n",
    "    \"\"\"\n",
    "    if node_id is None:\n",
    "        return None\n",
    "\n",
    "    if \"_N\" not in node_id:\n",
    "        print(f\"parse_node_id -> Node WITHOUT '_N': {node_id}\")\n",
    "    layer_part, idx_part = node_id.split('_N')\n",
    "    \n",
    "    layer_part, idx_part = node_id.split('_N')  # e.g. ['L1', '4690']\n",
    "    layer = int(layer_part.replace('L',''))     # e.g. 'L1' -> 1\n",
    "    node_idx = int(idx_part)                    # '4690' -> 4690\n",
    "    return (layer, node_idx)\n",
    "\n",
    "# helper function to group connections by the output layer\n",
    "def group_connections_by_output_layer(connections, gates):\n",
    "    \"\"\"\n",
    "    Given a list of (inA, inB, outNode) plus a dict of gates,\n",
    "    group them by the *outputNode*'s layer.\n",
    "\n",
    "    Returns a dict: { layer_number -> [ { 'inA': ..., 'inB': ..., 'out_idx': ..., 'gate': ...}, ... ] }\n",
    "    \"\"\"\n",
    "\n",
    "    grouped = defaultdict(list)\n",
    "\n",
    "    for (nodeA, nodeB, outNode) in connections:\n",
    "        out_layer, out_idx = parse_node_id(outNode)\n",
    "        # parse inputA, inputB as well\n",
    "        A_layer_idx = parse_node_id(nodeA)\n",
    "        B_layer_idx = parse_node_id(nodeB)\n",
    "\n",
    "        # each entry is a small dict describing this connection\n",
    "        gate_name = gates[outNode]  # e.g. \"not_or\", \"xor\", etc.\n",
    "        grouped[out_layer].append({\n",
    "            'inA': A_layer_idx,     # (layer, idx) or None\n",
    "            'inB': B_layer_idx,     # (layer, idx) or None\n",
    "            'out_idx': out_idx,     # e.g. 0, 4, 5, etc.\n",
    "            'gate_name': gate_name  # string\n",
    "        })\n",
    "\n",
    "    return dict(grouped)  # convert defaultdict -> normal dict"
   ]
  },
  {
   "cell_type": "code",
   "execution_count": 116,
   "id": "fe672c21-2ee9-4959-b33d-fb75c0986d73",
   "metadata": {
    "tags": []
   },
   "outputs": [
    {
     "data": {
      "text/plain": [
       "[{'input_size': 784,\n",
       "  'output_size': 3,\n",
       "  'connections': tensor([[1913,   -1],\n",
       "          [3053,   -1],\n",
       "          [1950,   -1]]),\n",
       "  'logic_gates': [3, 7, 7]}]"
      ]
     },
     "execution_count": 116,
     "metadata": {},
     "output_type": "execute_result"
    }
   ],
   "source": [
    "def create_layer_specs_fast(connections, gates, gate_name_to_index, input_size = 784):\n",
    "    \"\"\"\n",
    "    Builds layer_specs from (inA, inB, outNode) by grouping them by outNode's layer.\n",
    "\n",
    "    Args:\n",
    "      - connections: list of (nodeA, nodeB, outNode) like:\n",
    "          ('L1_N4690', None, 'L2_N0'), ...\n",
    "      - gates: dict, e.g. { 'L2_N0': 'xor', ... }\n",
    "      - input_size: e.g. 784 for MNIST\n",
    "      - gate_name_to_index: maps gate string to int\n",
    "\n",
    "    Returns: list of layer_specs, each a dict:\n",
    "      {\n",
    "        \"input_size\": <int>,\n",
    "        \"output_size\": <int>,\n",
    "        \"connections\": torch.Tensor of shape [output_size, 2] (with -1 for missing input),\n",
    "        \"logic_gates\": list of length output_size\n",
    "      }\n",
    "    \"\"\"\n",
    "\n",
    "    # 1) Group by output layer\n",
    "    grouped = group_connections_by_output_layer(connections, gates)\n",
    "    # grouped is e.g. { 2: [ {...}, {...} ], 3: [ ... ], etc. }\n",
    "\n",
    "    # 2) Sort the layers in ascending order ( ignore L0, that's the input layer itself )\n",
    "    sorted_layers = sorted(k for k in grouped.keys() if k > 0)\n",
    "\n",
    "    # We'll store the final results here\n",
    "    layer_specs = []\n",
    "\n",
    "    # We'll track how many nodes are in the \"previous layer,\" so we can set input_size accordingly\n",
    "    # For the first hidden layer, we define input_size=the actual pixel input_size\n",
    "    prev_layer_size = input_size\n",
    "\n",
    "    for layer in sorted_layers:\n",
    "        entries = grouped[layer]\n",
    "        output_size = len(entries)  # each outNode is presumably unique in your data\n",
    "\n",
    "        # Build \"connections\" -> an array of shape [output_size, 2], with -1 for None\n",
    "        connections_array = []\n",
    "        logic_gates = []\n",
    "\n",
    "        for e in entries:\n",
    "            A_layer_idx = e['inA']  # e.g. (1, 4690) or None\n",
    "            B_layer_idx = e['inB']\n",
    "            # out_idx = e['out_idx']  # we might not need 'out_idx' if we just do them in order\n",
    "            gate = e['gate_name']\n",
    "            gate_idx = gate_name_to_index[gate]\n",
    "\n",
    "            # parse the inputA or inputB index\n",
    "            if A_layer_idx is None:\n",
    "                inA = -1\n",
    "            else:\n",
    "                # e.g. A_layer_idx = (1, 4690), we only need the \"node index\" part\n",
    "                # but be sure that layer is (layer-1) if we assume it’s from the previous layer\n",
    "                inA = A_layer_idx[1]\n",
    "\n",
    "            if B_layer_idx is None:\n",
    "                inB = -1\n",
    "            else:\n",
    "                inB = B_layer_idx[1]\n",
    "\n",
    "            connections_array.append( (inA, inB) )\n",
    "            logic_gates.append( gate_idx )\n",
    "\n",
    "        # Convert to torch tensor\n",
    "        connections_t = torch.tensor(connections_array, dtype=torch.long)\n",
    "\n",
    "        layer_specs.append({\n",
    "            \"input_size\":  prev_layer_size,\n",
    "            \"output_size\": output_size,\n",
    "            \"connections\": connections_t,\n",
    "            \"logic_gates\": logic_gates,\n",
    "        })\n",
    "\n",
    "        # The new 'prev_layer_size' is output_size for the next layer.\n",
    "        prev_layer_size = output_size\n",
    "\n",
    "    return layer_specs\n",
    "\n",
    "# Example usage\n",
    "create_layer_specs_fast(connections, gates, gate_name_to_index)"
   ]
  },
  {
   "cell_type": "markdown",
   "id": "e7d74b15-bd95-4f30-8adc-41bb6b0040ca",
   "metadata": {},
   "source": [
    "4. Combines the previous functions and returns a MiniNet"
   ]
  },
  {
   "cell_type": "code",
   "execution_count": 117,
   "id": "406b7b32-a94c-4988-876a-defc90f58efc",
   "metadata": {
    "collapsed": true,
    "jupyter": {
     "outputs_hidden": true
    },
    "tags": []
   },
   "outputs": [
    {
     "ename": "RuntimeError",
     "evalue": "CUDA error: device-side assert triggered\nCUDA kernel errors might be asynchronously reported at some other API call,so the stacktrace below might be incorrect.\nFor debugging consider passing CUDA_LAUNCH_BLOCKING=1.",
     "output_type": "error",
     "traceback": [
      "\u001b[0;31m---------------------------------------------------------------------------\u001b[0m",
      "\u001b[0;31mRuntimeError\u001b[0m                              Traceback (most recent call last)",
      "Cell \u001b[0;32mIn[117], line 33\u001b[0m\n\u001b[1;32m     29\u001b[0m     mini_net \u001b[38;5;241m=\u001b[39m CustomDiffLogic(layer_specs\u001b[38;5;241m=\u001b[39mlayer_specs, output_size\u001b[38;5;241m=\u001b[39m\u001b[38;5;241m10\u001b[39m, device\u001b[38;5;241m=\u001b[39m\u001b[38;5;124m'\u001b[39m\u001b[38;5;124mcuda\u001b[39m\u001b[38;5;124m'\u001b[39m, tau\u001b[38;5;241m=\u001b[39m\u001b[38;5;241m30\u001b[39m)\n\u001b[1;32m     31\u001b[0m     \u001b[38;5;28;01mreturn\u001b[39;00m mini_net\n\u001b[0;32m---> 33\u001b[0m \u001b[43mcreate_mininet_for_digit\u001b[49m\u001b[43m(\u001b[49m\u001b[38;5;241;43m0\u001b[39;49m\u001b[43m,\u001b[49m\u001b[43m \u001b[49m\u001b[43mgraphs\u001b[49m\u001b[43m)\u001b[49m\n",
      "Cell \u001b[0;32mIn[117], line 29\u001b[0m, in \u001b[0;36mcreate_mininet_for_digit\u001b[0;34m(digit, graphs, sf_threshold, input_size)\u001b[0m\n\u001b[1;32m     21\u001b[0m layer_specs \u001b[38;5;241m=\u001b[39m create_layer_specs_fast(\n\u001b[1;32m     22\u001b[0m     connections,\n\u001b[1;32m     23\u001b[0m     gates,\n\u001b[1;32m     24\u001b[0m     gate_name_to_index \n\u001b[1;32m     25\u001b[0m )\n\u001b[1;32m     27\u001b[0m \u001b[38;5;66;03m# 4) Build the net\u001b[39;00m\n\u001b[1;32m     28\u001b[0m \u001b[38;5;66;03m# 'output_size=10' if you want 10-class final grouping, or 1 if \"one vs rest\"\u001b[39;00m\n\u001b[0;32m---> 29\u001b[0m mini_net \u001b[38;5;241m=\u001b[39m \u001b[43mCustomDiffLogic\u001b[49m\u001b[43m(\u001b[49m\u001b[43mlayer_specs\u001b[49m\u001b[38;5;241;43m=\u001b[39;49m\u001b[43mlayer_specs\u001b[49m\u001b[43m,\u001b[49m\u001b[43m \u001b[49m\u001b[43moutput_size\u001b[49m\u001b[38;5;241;43m=\u001b[39;49m\u001b[38;5;241;43m10\u001b[39;49m\u001b[43m,\u001b[49m\u001b[43m \u001b[49m\u001b[43mdevice\u001b[49m\u001b[38;5;241;43m=\u001b[39;49m\u001b[38;5;124;43m'\u001b[39;49m\u001b[38;5;124;43mcuda\u001b[39;49m\u001b[38;5;124;43m'\u001b[39;49m\u001b[43m,\u001b[49m\u001b[43m \u001b[49m\u001b[43mtau\u001b[49m\u001b[38;5;241;43m=\u001b[39;49m\u001b[38;5;241;43m30\u001b[39;49m\u001b[43m)\u001b[49m\n\u001b[1;32m     31\u001b[0m \u001b[38;5;28;01mreturn\u001b[39;00m mini_net\n",
      "Cell \u001b[0;32mIn[103], line 21\u001b[0m, in \u001b[0;36mCustomDiffLogic.__init__\u001b[0;34m(self, layer_specs, output_size, device, tau)\u001b[0m\n\u001b[1;32m     19\u001b[0m \u001b[38;5;66;03m# Create each layer with specific connections and logic gates\u001b[39;00m\n\u001b[1;32m     20\u001b[0m \u001b[38;5;28;01mfor\u001b[39;00m layer_spec \u001b[38;5;129;01min\u001b[39;00m layer_specs:\n\u001b[0;32m---> 21\u001b[0m     layer \u001b[38;5;241m=\u001b[39m \u001b[43mCustomLogicLayer\u001b[49m\u001b[43m(\u001b[49m\n\u001b[1;32m     22\u001b[0m \u001b[43m        \u001b[49m\u001b[43min_dim\u001b[49m\u001b[38;5;241;43m=\u001b[39;49m\u001b[43mlayer_spec\u001b[49m\u001b[43m[\u001b[49m\u001b[38;5;124;43m\"\u001b[39;49m\u001b[38;5;124;43minput_size\u001b[39;49m\u001b[38;5;124;43m\"\u001b[39;49m\u001b[43m]\u001b[49m\u001b[43m,\u001b[49m\n\u001b[1;32m     23\u001b[0m \u001b[43m        \u001b[49m\u001b[43mout_dim\u001b[49m\u001b[38;5;241;43m=\u001b[39;49m\u001b[43mlayer_spec\u001b[49m\u001b[43m[\u001b[49m\u001b[38;5;124;43m\"\u001b[39;49m\u001b[38;5;124;43moutput_size\u001b[39;49m\u001b[38;5;124;43m\"\u001b[39;49m\u001b[43m]\u001b[49m\u001b[43m,\u001b[49m\n\u001b[1;32m     24\u001b[0m \u001b[43m        \u001b[49m\u001b[43mconnections\u001b[49m\u001b[38;5;241;43m=\u001b[39;49m\u001b[43mlayer_spec\u001b[49m\u001b[43m[\u001b[49m\u001b[38;5;124;43m\"\u001b[39;49m\u001b[38;5;124;43mconnections\u001b[39;49m\u001b[38;5;124;43m\"\u001b[39;49m\u001b[43m]\u001b[49m\u001b[43m,\u001b[49m\n\u001b[1;32m     25\u001b[0m \u001b[43m        \u001b[49m\u001b[43mlogic_gates\u001b[49m\u001b[38;5;241;43m=\u001b[39;49m\u001b[43mlayer_spec\u001b[49m\u001b[43m[\u001b[49m\u001b[38;5;124;43m\"\u001b[39;49m\u001b[38;5;124;43mlogic_gates\u001b[39;49m\u001b[38;5;124;43m\"\u001b[39;49m\u001b[43m]\u001b[49m\u001b[43m,\u001b[49m\n\u001b[1;32m     26\u001b[0m \u001b[43m        \u001b[49m\u001b[43mdevice\u001b[49m\u001b[38;5;241;43m=\u001b[39;49m\u001b[38;5;28;43mself\u001b[39;49m\u001b[38;5;241;43m.\u001b[39;49m\u001b[43mdevice\u001b[49m\u001b[43m,\u001b[49m\n\u001b[1;32m     27\u001b[0m \u001b[43m    \u001b[49m\u001b[43m)\u001b[49m\n\u001b[1;32m     28\u001b[0m     layers\u001b[38;5;241m.\u001b[39mappend(layer)\n\u001b[1;32m     30\u001b[0m \u001b[38;5;28mself\u001b[39m\u001b[38;5;241m.\u001b[39mlogic_layers \u001b[38;5;241m=\u001b[39m torch\u001b[38;5;241m.\u001b[39mnn\u001b[38;5;241m.\u001b[39mSequential(\u001b[38;5;241m*\u001b[39mlayers)\n",
      "Cell \u001b[0;32mIn[102], line 11\u001b[0m, in \u001b[0;36mCustomLogicLayer.__init__\u001b[0;34m(self, in_dim, out_dim, connections, logic_gates, device)\u001b[0m\n\u001b[1;32m      2\u001b[0m \u001b[38;5;28;01mdef\u001b[39;00m \u001b[38;5;21m__init__\u001b[39m(\n\u001b[1;32m      3\u001b[0m     \u001b[38;5;28mself\u001b[39m,\n\u001b[1;32m      4\u001b[0m     in_dim: \u001b[38;5;28mint\u001b[39m,\n\u001b[0;32m   (...)\u001b[0m\n\u001b[1;32m      8\u001b[0m     device: \u001b[38;5;28mstr\u001b[39m \u001b[38;5;241m=\u001b[39m \u001b[38;5;124m\"\u001b[39m\u001b[38;5;124mcuda\u001b[39m\u001b[38;5;124m\"\u001b[39m,\n\u001b[1;32m      9\u001b[0m ):\n\u001b[1;32m     10\u001b[0m     \u001b[38;5;28msuper\u001b[39m()\u001b[38;5;241m.\u001b[39m\u001b[38;5;21m__init__\u001b[39m()\n\u001b[0;32m---> 11\u001b[0m     \u001b[38;5;28mself\u001b[39m\u001b[38;5;241m.\u001b[39mindices \u001b[38;5;241m=\u001b[39m \u001b[43mconnections\u001b[49m\u001b[38;5;241;43m.\u001b[39;49m\u001b[43mto\u001b[49m\u001b[43m(\u001b[49m\u001b[43mdevice\u001b[49m\u001b[43m)\u001b[49m\n\u001b[1;32m     12\u001b[0m     \u001b[38;5;28mself\u001b[39m\u001b[38;5;241m.\u001b[39mlogic_gates \u001b[38;5;241m=\u001b[39m torch\u001b[38;5;241m.\u001b[39mtensor(logic_gates, dtype\u001b[38;5;241m=\u001b[39mtorch\u001b[38;5;241m.\u001b[39mlong, device\u001b[38;5;241m=\u001b[39mdevice)\n\u001b[1;32m     13\u001b[0m     \u001b[38;5;28mself\u001b[39m\u001b[38;5;241m.\u001b[39min_dim \u001b[38;5;241m=\u001b[39m in_dim\n",
      "\u001b[0;31mRuntimeError\u001b[0m: CUDA error: device-side assert triggered\nCUDA kernel errors might be asynchronously reported at some other API call,so the stacktrace below might be incorrect.\nFor debugging consider passing CUDA_LAUNCH_BLOCKING=1."
     ]
    }
   ],
   "source": [
    "def create_mininet_for_digit(digit, \n",
    "                             graphs,    # dict of {digit: LogicGraph}, each LogicGraph has .compute_sf done\n",
    "                             sf_threshold=0.1, \n",
    "                             input_size=784):\n",
    "    \"\"\"\n",
    "    Builds a CustomDiffLogic net for a specific digit, \n",
    "    pruning the LogicGraph by 'sf_threshold'.\n",
    "\n",
    "    Returns:\n",
    "        mini_net (CustomDiffLogic)\n",
    "    \"\"\"\n",
    "    logic_graph = graphs[digit]  # a LogicGraph for this digit\n",
    "    \n",
    "    # 1) Prune\n",
    "    pruned_subgraph = prune_graph_by_sf(logic_graph, sf_threshold=sf_threshold)\n",
    "    \n",
    "    # 2) Extract the pruned connections & gates\n",
    "    connections, gates = extract_connections_and_gates_from_subgraph(pruned_subgraph)\n",
    "    \n",
    "    # 3) Build layer specs\n",
    "    layer_specs = create_layer_specs_fast(\n",
    "        connections,\n",
    "        gates,\n",
    "        gate_name_to_index \n",
    "    )\n",
    "    \n",
    "    # 4) Build the net\n",
    "    # 'output_size=10' if you want 10-class final grouping, or 1 if \"one vs rest\"\n",
    "    mini_net = CustomDiffLogic(layer_specs=layer_specs, output_size=10, device='cuda', tau=30)\n",
    "    \n",
    "    return mini_net\n",
    "\n",
    "create_mininet_for_digit(0, graphs)"
   ]
  },
  {
   "cell_type": "markdown",
   "id": "df6f4ec9-f87c-4e95-b195-64c8fe09301b",
   "metadata": {},
   "source": [
    "5. Evaluation"
   ]
  },
  {
   "cell_type": "code",
   "execution_count": 80,
   "id": "caa53daa-f62e-427b-9957-e0dbdf6ea4fd",
   "metadata": {
    "collapsed": true,
    "jupyter": {
     "outputs_hidden": true
    },
    "tags": []
   },
   "outputs": [
    {
     "name": "stderr",
     "output_type": "stream",
     "text": [
      "/pytorch/aten/src/ATen/native/cuda/IndexKernel.cu:97: operator(): block: [22,0,0], thread: [1,0,0] Assertion `index >= -sizes[i] && index < sizes[i] && \"index out of bounds\"` failed.\n",
      "/pytorch/aten/src/ATen/native/cuda/IndexKernel.cu:97: operator(): block: [22,0,0], thread: [2,0,0] Assertion `index >= -sizes[i] && index < sizes[i] && \"index out of bounds\"` failed.\n",
      "/pytorch/aten/src/ATen/native/cuda/IndexKernel.cu:97: operator(): block: [22,0,0], thread: [4,0,0] Assertion `index >= -sizes[i] && index < sizes[i] && \"index out of bounds\"` failed.\n",
      "/pytorch/aten/src/ATen/native/cuda/IndexKernel.cu:97: operator(): block: [22,0,0], thread: [5,0,0] Assertion `index >= -sizes[i] && index < sizes[i] && \"index out of bounds\"` failed.\n",
      "/pytorch/aten/src/ATen/native/cuda/IndexKernel.cu:97: operator(): block: [22,0,0], thread: [6,0,0] Assertion `index >= -sizes[i] && index < sizes[i] && \"index out of bounds\"` failed.\n",
      "/pytorch/aten/src/ATen/native/cuda/IndexKernel.cu:97: operator(): block: [22,0,0], thread: [7,0,0] Assertion `index >= -sizes[i] && index < sizes[i] && \"index out of bounds\"` failed.\n",
      "/pytorch/aten/src/ATen/native/cuda/IndexKernel.cu:97: operator(): block: [22,0,0], thread: [8,0,0] Assertion `index >= -sizes[i] && index < sizes[i] && \"index out of bounds\"` failed.\n",
      "/pytorch/aten/src/ATen/native/cuda/IndexKernel.cu:97: operator(): block: [22,0,0], thread: [9,0,0] Assertion `index >= -sizes[i] && index < sizes[i] && \"index out of bounds\"` failed.\n",
      "/pytorch/aten/src/ATen/native/cuda/IndexKernel.cu:97: operator(): block: [22,0,0], thread: [11,0,0] Assertion `index >= -sizes[i] && index < sizes[i] && \"index out of bounds\"` failed.\n",
      "/pytorch/aten/src/ATen/native/cuda/IndexKernel.cu:97: operator(): block: [22,0,0], thread: [12,0,0] Assertion `index >= -sizes[i] && index < sizes[i] && \"index out of bounds\"` failed.\n",
      "/pytorch/aten/src/ATen/native/cuda/IndexKernel.cu:97: operator(): block: [22,0,0], thread: [13,0,0] Assertion `index >= -sizes[i] && index < sizes[i] && \"index out of bounds\"` failed.\n",
      "/pytorch/aten/src/ATen/native/cuda/IndexKernel.cu:97: operator(): block: [22,0,0], thread: [14,0,0] Assertion `index >= -sizes[i] && index < sizes[i] && \"index out of bounds\"` failed.\n",
      "/pytorch/aten/src/ATen/native/cuda/IndexKernel.cu:97: operator(): block: [22,0,0], thread: [15,0,0] Assertion `index >= -sizes[i] && index < sizes[i] && \"index out of bounds\"` failed.\n",
      "/pytorch/aten/src/ATen/native/cuda/IndexKernel.cu:97: operator(): block: [22,0,0], thread: [17,0,0] Assertion `index >= -sizes[i] && index < sizes[i] && \"index out of bounds\"` failed.\n",
      "/pytorch/aten/src/ATen/native/cuda/IndexKernel.cu:97: operator(): block: [22,0,0], thread: [18,0,0] Assertion `index >= -sizes[i] && index < sizes[i] && \"index out of bounds\"` failed.\n",
      "/pytorch/aten/src/ATen/native/cuda/IndexKernel.cu:97: operator(): block: [22,0,0], thread: [19,0,0] Assertion `index >= -sizes[i] && index < sizes[i] && \"index out of bounds\"` failed.\n",
      "/pytorch/aten/src/ATen/native/cuda/IndexKernel.cu:97: operator(): block: [22,0,0], thread: [20,0,0] Assertion `index >= -sizes[i] && index < sizes[i] && \"index out of bounds\"` failed.\n",
      "/pytorch/aten/src/ATen/native/cuda/IndexKernel.cu:97: operator(): block: [22,0,0], thread: [22,0,0] Assertion `index >= -sizes[i] && index < sizes[i] && \"index out of bounds\"` failed.\n",
      "/pytorch/aten/src/ATen/native/cuda/IndexKernel.cu:97: operator(): block: [22,0,0], thread: [25,0,0] Assertion `index >= -sizes[i] && index < sizes[i] && \"index out of bounds\"` failed.\n",
      "/pytorch/aten/src/ATen/native/cuda/IndexKernel.cu:97: operator(): block: [22,0,0], thread: [26,0,0] Assertion `index >= -sizes[i] && index < sizes[i] && \"index out of bounds\"` failed.\n",
      "/pytorch/aten/src/ATen/native/cuda/IndexKernel.cu:97: operator(): block: [22,0,0], thread: [27,0,0] Assertion `index >= -sizes[i] && index < sizes[i] && \"index out of bounds\"` failed.\n",
      "/pytorch/aten/src/ATen/native/cuda/IndexKernel.cu:97: operator(): block: [22,0,0], thread: [28,0,0] Assertion `index >= -sizes[i] && index < sizes[i] && \"index out of bounds\"` failed.\n",
      "/pytorch/aten/src/ATen/native/cuda/IndexKernel.cu:97: operator(): block: [22,0,0], thread: [29,0,0] Assertion `index >= -sizes[i] && index < sizes[i] && \"index out of bounds\"` failed.\n",
      "/pytorch/aten/src/ATen/native/cuda/IndexKernel.cu:97: operator(): block: [22,0,0], thread: [30,0,0] Assertion `index >= -sizes[i] && index < sizes[i] && \"index out of bounds\"` failed.\n",
      "/pytorch/aten/src/ATen/native/cuda/IndexKernel.cu:97: operator(): block: [22,0,0], thread: [31,0,0] Assertion `index >= -sizes[i] && index < sizes[i] && \"index out of bounds\"` failed.\n",
      "/pytorch/aten/src/ATen/native/cuda/IndexKernel.cu:97: operator(): block: [90,0,0], thread: [96,0,0] Assertion `index >= -sizes[i] && index < sizes[i] && \"index out of bounds\"` failed.\n",
      "/pytorch/aten/src/ATen/native/cuda/IndexKernel.cu:97: operator(): block: [90,0,0], thread: [98,0,0] Assertion `index >= -sizes[i] && index < sizes[i] && \"index out of bounds\"` failed.\n",
      "/pytorch/aten/src/ATen/native/cuda/IndexKernel.cu:97: operator(): block: [90,0,0], thread: [99,0,0] Assertion `index >= -sizes[i] && index < sizes[i] && \"index out of bounds\"` failed.\n",
      "/pytorch/aten/src/ATen/native/cuda/IndexKernel.cu:97: operator(): block: [90,0,0], thread: [100,0,0] Assertion `index >= -sizes[i] && index < sizes[i] && \"index out of bounds\"` failed.\n",
      "/pytorch/aten/src/ATen/native/cuda/IndexKernel.cu:97: operator(): block: [90,0,0], thread: [105,0,0] Assertion `index >= -sizes[i] && index < sizes[i] && \"index out of bounds\"` failed.\n",
      "/pytorch/aten/src/ATen/native/cuda/IndexKernel.cu:97: operator(): block: [90,0,0], thread: [108,0,0] Assertion `index >= -sizes[i] && index < sizes[i] && \"index out of bounds\"` failed.\n",
      "/pytorch/aten/src/ATen/native/cuda/IndexKernel.cu:97: operator(): block: [90,0,0], thread: [110,0,0] Assertion `index >= -sizes[i] && index < sizes[i] && \"index out of bounds\"` failed.\n",
      "/pytorch/aten/src/ATen/native/cuda/IndexKernel.cu:97: operator(): block: [90,0,0], thread: [112,0,0] Assertion `index >= -sizes[i] && index < sizes[i] && \"index out of bounds\"` failed.\n",
      "/pytorch/aten/src/ATen/native/cuda/IndexKernel.cu:97: operator(): block: [90,0,0], thread: [113,0,0] Assertion `index >= -sizes[i] && index < sizes[i] && \"index out of bounds\"` failed.\n",
      "/pytorch/aten/src/ATen/native/cuda/IndexKernel.cu:97: operator(): block: [90,0,0], thread: [114,0,0] Assertion `index >= -sizes[i] && index < sizes[i] && \"index out of bounds\"` failed.\n",
      "/pytorch/aten/src/ATen/native/cuda/IndexKernel.cu:97: operator(): block: [90,0,0], thread: [115,0,0] Assertion `index >= -sizes[i] && index < sizes[i] && \"index out of bounds\"` failed.\n",
      "/pytorch/aten/src/ATen/native/cuda/IndexKernel.cu:97: operator(): block: [90,0,0], thread: [116,0,0] Assertion `index >= -sizes[i] && index < sizes[i] && \"index out of bounds\"` failed.\n",
      "/pytorch/aten/src/ATen/native/cuda/IndexKernel.cu:97: operator(): block: [90,0,0], thread: [117,0,0] Assertion `index >= -sizes[i] && index < sizes[i] && \"index out of bounds\"` failed.\n",
      "/pytorch/aten/src/ATen/native/cuda/IndexKernel.cu:97: operator(): block: [90,0,0], thread: [118,0,0] Assertion `index >= -sizes[i] && index < sizes[i] && \"index out of bounds\"` failed.\n",
      "/pytorch/aten/src/ATen/native/cuda/IndexKernel.cu:97: operator(): block: [90,0,0], thread: [119,0,0] Assertion `index >= -sizes[i] && index < sizes[i] && \"index out of bounds\"` failed.\n",
      "/pytorch/aten/src/ATen/native/cuda/IndexKernel.cu:97: operator(): block: [90,0,0], thread: [120,0,0] Assertion `index >= -sizes[i] && index < sizes[i] && \"index out of bounds\"` failed.\n",
      "/pytorch/aten/src/ATen/native/cuda/IndexKernel.cu:97: operator(): block: [90,0,0], thread: [122,0,0] Assertion `index >= -sizes[i] && index < sizes[i] && \"index out of bounds\"` failed.\n",
      "/pytorch/aten/src/ATen/native/cuda/IndexKernel.cu:97: operator(): block: [90,0,0], thread: [123,0,0] Assertion `index >= -sizes[i] && index < sizes[i] && \"index out of bounds\"` failed.\n",
      "/pytorch/aten/src/ATen/native/cuda/IndexKernel.cu:97: operator(): block: [90,0,0], thread: [125,0,0] Assertion `index >= -sizes[i] && index < sizes[i] && \"index out of bounds\"` failed.\n",
      "/pytorch/aten/src/ATen/native/cuda/IndexKernel.cu:97: operator(): block: [90,0,0], thread: [126,0,0] Assertion `index >= -sizes[i] && index < sizes[i] && \"index out of bounds\"` failed.\n",
      "/pytorch/aten/src/ATen/native/cuda/IndexKernel.cu:97: operator(): block: [90,0,0], thread: [127,0,0] Assertion `index >= -sizes[i] && index < sizes[i] && \"index out of bounds\"` failed.\n"
     ]
    },
    {
     "ename": "RuntimeError",
     "evalue": "CUDA error: device-side assert triggered\nCUDA kernel errors might be asynchronously reported at some other API call,so the stacktrace below might be incorrect.\nFor debugging consider passing CUDA_LAUNCH_BLOCKING=1.",
     "output_type": "error",
     "traceback": [
      "\u001b[0;31m---------------------------------------------------------------------------\u001b[0m",
      "\u001b[0;31mRuntimeError\u001b[0m                              Traceback (most recent call last)",
      "Cell \u001b[0;32mIn[80], line 11\u001b[0m\n\u001b[1;32m      9\u001b[0m \u001b[38;5;28;01mfor\u001b[39;00m batch_inputs, batch_labels \u001b[38;5;129;01min\u001b[39;00m test_loader:\n\u001b[1;32m     10\u001b[0m     batch_inputs, batch_labels \u001b[38;5;241m=\u001b[39m batch_inputs\u001b[38;5;241m.\u001b[39mto(device), batch_labels\u001b[38;5;241m.\u001b[39mto(device)\n\u001b[0;32m---> 11\u001b[0m     outputs \u001b[38;5;241m=\u001b[39m \u001b[43mmininet\u001b[49m\u001b[43m(\u001b[49m\u001b[43mbatch_inputs\u001b[49m\u001b[43m)\u001b[49m\n\u001b[1;32m     12\u001b[0m     \u001b[38;5;66;03m# Because CustomDiffLogic returns shape (batch_size, 10) if output_size=10\u001b[39;00m\n\u001b[1;32m     13\u001b[0m     \u001b[38;5;66;03m# we pick the argmax across the 10 classes\u001b[39;00m\n\u001b[1;32m     14\u001b[0m     _, predicted \u001b[38;5;241m=\u001b[39m torch\u001b[38;5;241m.\u001b[39mmax(outputs, dim\u001b[38;5;241m=\u001b[39m\u001b[38;5;241m1\u001b[39m)\n",
      "File \u001b[0;32m/blue/woodard/mkunzlermaldaner/project/ExpLogic/explogic_env/lib/python3.9/site-packages/torch/nn/modules/module.py:1051\u001b[0m, in \u001b[0;36mModule._call_impl\u001b[0;34m(self, *input, **kwargs)\u001b[0m\n\u001b[1;32m   1047\u001b[0m \u001b[38;5;66;03m# If we don't have any hooks, we want to skip the rest of the logic in\u001b[39;00m\n\u001b[1;32m   1048\u001b[0m \u001b[38;5;66;03m# this function, and just call forward.\u001b[39;00m\n\u001b[1;32m   1049\u001b[0m \u001b[38;5;28;01mif\u001b[39;00m \u001b[38;5;129;01mnot\u001b[39;00m (\u001b[38;5;28mself\u001b[39m\u001b[38;5;241m.\u001b[39m_backward_hooks \u001b[38;5;129;01mor\u001b[39;00m \u001b[38;5;28mself\u001b[39m\u001b[38;5;241m.\u001b[39m_forward_hooks \u001b[38;5;129;01mor\u001b[39;00m \u001b[38;5;28mself\u001b[39m\u001b[38;5;241m.\u001b[39m_forward_pre_hooks \u001b[38;5;129;01mor\u001b[39;00m _global_backward_hooks\n\u001b[1;32m   1050\u001b[0m         \u001b[38;5;129;01mor\u001b[39;00m _global_forward_hooks \u001b[38;5;129;01mor\u001b[39;00m _global_forward_pre_hooks):\n\u001b[0;32m-> 1051\u001b[0m     \u001b[38;5;28;01mreturn\u001b[39;00m \u001b[43mforward_call\u001b[49m\u001b[43m(\u001b[49m\u001b[38;5;241;43m*\u001b[39;49m\u001b[38;5;28;43minput\u001b[39;49m\u001b[43m,\u001b[49m\u001b[43m \u001b[49m\u001b[38;5;241;43m*\u001b[39;49m\u001b[38;5;241;43m*\u001b[39;49m\u001b[43mkwargs\u001b[49m\u001b[43m)\u001b[49m\n\u001b[1;32m   1052\u001b[0m \u001b[38;5;66;03m# Do not call functions when jit is used\u001b[39;00m\n\u001b[1;32m   1053\u001b[0m full_backward_hooks, non_full_backward_hooks \u001b[38;5;241m=\u001b[39m [], []\n",
      "Cell \u001b[0;32mIn[37], line 39\u001b[0m, in \u001b[0;36mCustomDiffLogic.forward\u001b[0;34m(self, x)\u001b[0m\n\u001b[1;32m     36\u001b[0m     x \u001b[38;5;241m=\u001b[39m x\u001b[38;5;241m.\u001b[39mto(\u001b[38;5;28mself\u001b[39m\u001b[38;5;241m.\u001b[39mdevice)\n\u001b[1;32m     38\u001b[0m x \u001b[38;5;241m=\u001b[39m \u001b[38;5;28mself\u001b[39m\u001b[38;5;241m.\u001b[39mflatten(x)\n\u001b[0;32m---> 39\u001b[0m logits \u001b[38;5;241m=\u001b[39m \u001b[38;5;28;43mself\u001b[39;49m\u001b[38;5;241;43m.\u001b[39;49m\u001b[43mlogic_layers\u001b[49m\u001b[43m(\u001b[49m\u001b[43mx\u001b[49m\u001b[43m)\u001b[49m\n\u001b[1;32m     41\u001b[0m \u001b[38;5;66;03m# Grouping the final logits\u001b[39;00m\n\u001b[1;32m     42\u001b[0m \u001b[38;5;28;01mreturn\u001b[39;00m \u001b[38;5;28mself\u001b[39m\u001b[38;5;241m.\u001b[39mgroup(logits)\n",
      "File \u001b[0;32m/blue/woodard/mkunzlermaldaner/project/ExpLogic/explogic_env/lib/python3.9/site-packages/torch/nn/modules/module.py:1051\u001b[0m, in \u001b[0;36mModule._call_impl\u001b[0;34m(self, *input, **kwargs)\u001b[0m\n\u001b[1;32m   1047\u001b[0m \u001b[38;5;66;03m# If we don't have any hooks, we want to skip the rest of the logic in\u001b[39;00m\n\u001b[1;32m   1048\u001b[0m \u001b[38;5;66;03m# this function, and just call forward.\u001b[39;00m\n\u001b[1;32m   1049\u001b[0m \u001b[38;5;28;01mif\u001b[39;00m \u001b[38;5;129;01mnot\u001b[39;00m (\u001b[38;5;28mself\u001b[39m\u001b[38;5;241m.\u001b[39m_backward_hooks \u001b[38;5;129;01mor\u001b[39;00m \u001b[38;5;28mself\u001b[39m\u001b[38;5;241m.\u001b[39m_forward_hooks \u001b[38;5;129;01mor\u001b[39;00m \u001b[38;5;28mself\u001b[39m\u001b[38;5;241m.\u001b[39m_forward_pre_hooks \u001b[38;5;129;01mor\u001b[39;00m _global_backward_hooks\n\u001b[1;32m   1050\u001b[0m         \u001b[38;5;129;01mor\u001b[39;00m _global_forward_hooks \u001b[38;5;129;01mor\u001b[39;00m _global_forward_pre_hooks):\n\u001b[0;32m-> 1051\u001b[0m     \u001b[38;5;28;01mreturn\u001b[39;00m \u001b[43mforward_call\u001b[49m\u001b[43m(\u001b[49m\u001b[38;5;241;43m*\u001b[39;49m\u001b[38;5;28;43minput\u001b[39;49m\u001b[43m,\u001b[49m\u001b[43m \u001b[49m\u001b[38;5;241;43m*\u001b[39;49m\u001b[38;5;241;43m*\u001b[39;49m\u001b[43mkwargs\u001b[49m\u001b[43m)\u001b[49m\n\u001b[1;32m   1052\u001b[0m \u001b[38;5;66;03m# Do not call functions when jit is used\u001b[39;00m\n\u001b[1;32m   1053\u001b[0m full_backward_hooks, non_full_backward_hooks \u001b[38;5;241m=\u001b[39m [], []\n",
      "File \u001b[0;32m/blue/woodard/mkunzlermaldaner/project/ExpLogic/explogic_env/lib/python3.9/site-packages/torch/nn/modules/container.py:139\u001b[0m, in \u001b[0;36mSequential.forward\u001b[0;34m(self, input)\u001b[0m\n\u001b[1;32m    137\u001b[0m \u001b[38;5;28;01mdef\u001b[39;00m \u001b[38;5;21mforward\u001b[39m(\u001b[38;5;28mself\u001b[39m, \u001b[38;5;28minput\u001b[39m):\n\u001b[1;32m    138\u001b[0m     \u001b[38;5;28;01mfor\u001b[39;00m module \u001b[38;5;129;01min\u001b[39;00m \u001b[38;5;28mself\u001b[39m:\n\u001b[0;32m--> 139\u001b[0m         \u001b[38;5;28minput\u001b[39m \u001b[38;5;241m=\u001b[39m \u001b[43mmodule\u001b[49m\u001b[43m(\u001b[49m\u001b[38;5;28;43minput\u001b[39;49m\u001b[43m)\u001b[49m\n\u001b[1;32m    140\u001b[0m     \u001b[38;5;28;01mreturn\u001b[39;00m \u001b[38;5;28minput\u001b[39m\n",
      "File \u001b[0;32m/blue/woodard/mkunzlermaldaner/project/ExpLogic/explogic_env/lib/python3.9/site-packages/torch/nn/modules/module.py:1051\u001b[0m, in \u001b[0;36mModule._call_impl\u001b[0;34m(self, *input, **kwargs)\u001b[0m\n\u001b[1;32m   1047\u001b[0m \u001b[38;5;66;03m# If we don't have any hooks, we want to skip the rest of the logic in\u001b[39;00m\n\u001b[1;32m   1048\u001b[0m \u001b[38;5;66;03m# this function, and just call forward.\u001b[39;00m\n\u001b[1;32m   1049\u001b[0m \u001b[38;5;28;01mif\u001b[39;00m \u001b[38;5;129;01mnot\u001b[39;00m (\u001b[38;5;28mself\u001b[39m\u001b[38;5;241m.\u001b[39m_backward_hooks \u001b[38;5;129;01mor\u001b[39;00m \u001b[38;5;28mself\u001b[39m\u001b[38;5;241m.\u001b[39m_forward_hooks \u001b[38;5;129;01mor\u001b[39;00m \u001b[38;5;28mself\u001b[39m\u001b[38;5;241m.\u001b[39m_forward_pre_hooks \u001b[38;5;129;01mor\u001b[39;00m _global_backward_hooks\n\u001b[1;32m   1050\u001b[0m         \u001b[38;5;129;01mor\u001b[39;00m _global_forward_hooks \u001b[38;5;129;01mor\u001b[39;00m _global_forward_pre_hooks):\n\u001b[0;32m-> 1051\u001b[0m     \u001b[38;5;28;01mreturn\u001b[39;00m \u001b[43mforward_call\u001b[49m\u001b[43m(\u001b[49m\u001b[38;5;241;43m*\u001b[39;49m\u001b[38;5;28;43minput\u001b[39;49m\u001b[43m,\u001b[49m\u001b[43m \u001b[49m\u001b[38;5;241;43m*\u001b[39;49m\u001b[38;5;241;43m*\u001b[39;49m\u001b[43mkwargs\u001b[49m\u001b[43m)\u001b[49m\n\u001b[1;32m   1052\u001b[0m \u001b[38;5;66;03m# Do not call functions when jit is used\u001b[39;00m\n\u001b[1;32m   1053\u001b[0m full_backward_hooks, non_full_backward_hooks \u001b[38;5;241m=\u001b[39m [], []\n",
      "Cell \u001b[0;32mIn[36], line 18\u001b[0m, in \u001b[0;36mCustomLogicLayer.forward\u001b[0;34m(self, x)\u001b[0m\n\u001b[1;32m     17\u001b[0m \u001b[38;5;28;01mdef\u001b[39;00m \u001b[38;5;21mforward\u001b[39m(\u001b[38;5;28mself\u001b[39m, x):\n\u001b[0;32m---> 18\u001b[0m     \u001b[38;5;28;01mreturn\u001b[39;00m \u001b[38;5;28;43mself\u001b[39;49m\u001b[38;5;241;43m.\u001b[39;49m\u001b[43mforward_python\u001b[49m\u001b[43m(\u001b[49m\u001b[43mx\u001b[49m\u001b[43m)\u001b[49m\n",
      "Cell \u001b[0;32mIn[36], line 29\u001b[0m, in \u001b[0;36mCustomLogicLayer.forward_python\u001b[0;34m(self, x)\u001b[0m\n\u001b[1;32m     26\u001b[0m gate_indices \u001b[38;5;241m=\u001b[39m \u001b[38;5;28mself\u001b[39m\u001b[38;5;241m.\u001b[39mlogic_gates  \u001b[38;5;66;03m# Shape: (out_dim,)\u001b[39;00m\n\u001b[1;32m     28\u001b[0m \u001b[38;5;66;03m# Compute the outputs using bin_op and the known gate indices\u001b[39;00m\n\u001b[0;32m---> 29\u001b[0m outputs \u001b[38;5;241m=\u001b[39m \u001b[43mbin_op\u001b[49m\u001b[43m(\u001b[49m\u001b[43ma\u001b[49m\u001b[43m,\u001b[49m\u001b[43m \u001b[49m\u001b[43mb\u001b[49m\u001b[43m,\u001b[49m\u001b[43m \u001b[49m\u001b[43mgate_indices\u001b[49m\u001b[43m)\u001b[49m\n\u001b[1;32m     30\u001b[0m \u001b[38;5;28;01mreturn\u001b[39;00m outputs\n",
      "Cell \u001b[0;32mIn[35], line 34\u001b[0m, in \u001b[0;36mbin_op\u001b[0;34m(a, b, i)\u001b[0m\n\u001b[1;32m     14\u001b[0m gate_ops \u001b[38;5;241m=\u001b[39m {\n\u001b[1;32m     15\u001b[0m     \u001b[38;5;241m0\u001b[39m: \u001b[38;5;28;01mlambda\u001b[39;00m a, b: torch\u001b[38;5;241m.\u001b[39mzeros_like(a),  \u001b[38;5;66;03m# zero\u001b[39;00m\n\u001b[1;32m     16\u001b[0m     \u001b[38;5;241m1\u001b[39m: \u001b[38;5;28;01mlambda\u001b[39;00m a, b: a \u001b[38;5;241m*\u001b[39m b,  \u001b[38;5;66;03m# and\u001b[39;00m\n\u001b[0;32m   (...)\u001b[0m\n\u001b[1;32m     30\u001b[0m     \u001b[38;5;241m15\u001b[39m: \u001b[38;5;28;01mlambda\u001b[39;00m a, b: torch\u001b[38;5;241m.\u001b[39mones_like(a),  \u001b[38;5;66;03m# one\u001b[39;00m\n\u001b[1;32m     31\u001b[0m }\n\u001b[1;32m     33\u001b[0m outputs \u001b[38;5;241m=\u001b[39m torch\u001b[38;5;241m.\u001b[39mzeros_like(a)\n\u001b[0;32m---> 34\u001b[0m \u001b[38;5;28;01mfor\u001b[39;00m gate_idx \u001b[38;5;129;01min\u001b[39;00m \u001b[43mtorch\u001b[49m\u001b[38;5;241;43m.\u001b[39;49m\u001b[43munique\u001b[49m\u001b[43m(\u001b[49m\u001b[43mi\u001b[49m\u001b[43m)\u001b[49m:\n\u001b[1;32m     35\u001b[0m     mask \u001b[38;5;241m=\u001b[39m (i \u001b[38;5;241m==\u001b[39m gate_idx)\u001b[38;5;241m.\u001b[39munsqueeze(\u001b[38;5;241m0\u001b[39m)  \u001b[38;5;66;03m# Shape: (1, out_dim)\u001b[39;00m\n\u001b[1;32m     36\u001b[0m     gate_output \u001b[38;5;241m=\u001b[39m gate_ops[gate_idx\u001b[38;5;241m.\u001b[39mitem()](a, b)\n",
      "File \u001b[0;32m/blue/woodard/mkunzlermaldaner/project/ExpLogic/explogic_env/lib/python3.9/site-packages/torch/_jit_internal.py:405\u001b[0m, in \u001b[0;36mboolean_dispatch.<locals>.fn\u001b[0;34m(*args, **kwargs)\u001b[0m\n\u001b[1;32m    403\u001b[0m     \u001b[38;5;28;01mreturn\u001b[39;00m if_true(\u001b[38;5;241m*\u001b[39margs, \u001b[38;5;241m*\u001b[39m\u001b[38;5;241m*\u001b[39mkwargs)\n\u001b[1;32m    404\u001b[0m \u001b[38;5;28;01melse\u001b[39;00m:\n\u001b[0;32m--> 405\u001b[0m     \u001b[38;5;28;01mreturn\u001b[39;00m \u001b[43mif_false\u001b[49m\u001b[43m(\u001b[49m\u001b[38;5;241;43m*\u001b[39;49m\u001b[43margs\u001b[49m\u001b[43m,\u001b[49m\u001b[43m \u001b[49m\u001b[38;5;241;43m*\u001b[39;49m\u001b[38;5;241;43m*\u001b[39;49m\u001b[43mkwargs\u001b[49m\u001b[43m)\u001b[49m\n",
      "File \u001b[0;32m/blue/woodard/mkunzlermaldaner/project/ExpLogic/explogic_env/lib/python3.9/site-packages/torch/_jit_internal.py:405\u001b[0m, in \u001b[0;36mboolean_dispatch.<locals>.fn\u001b[0;34m(*args, **kwargs)\u001b[0m\n\u001b[1;32m    403\u001b[0m     \u001b[38;5;28;01mreturn\u001b[39;00m if_true(\u001b[38;5;241m*\u001b[39margs, \u001b[38;5;241m*\u001b[39m\u001b[38;5;241m*\u001b[39mkwargs)\n\u001b[1;32m    404\u001b[0m \u001b[38;5;28;01melse\u001b[39;00m:\n\u001b[0;32m--> 405\u001b[0m     \u001b[38;5;28;01mreturn\u001b[39;00m \u001b[43mif_false\u001b[49m\u001b[43m(\u001b[49m\u001b[38;5;241;43m*\u001b[39;49m\u001b[43margs\u001b[49m\u001b[43m,\u001b[49m\u001b[43m \u001b[49m\u001b[38;5;241;43m*\u001b[39;49m\u001b[38;5;241;43m*\u001b[39;49m\u001b[43mkwargs\u001b[49m\u001b[43m)\u001b[49m\n",
      "File \u001b[0;32m/blue/woodard/mkunzlermaldaner/project/ExpLogic/explogic_env/lib/python3.9/site-packages/torch/functional.py:722\u001b[0m, in \u001b[0;36m_return_output\u001b[0;34m(input, sorted, return_inverse, return_counts, dim)\u001b[0m\n\u001b[1;32m    719\u001b[0m \u001b[38;5;28;01mif\u001b[39;00m has_torch_function_unary(\u001b[38;5;28minput\u001b[39m):\n\u001b[1;32m    720\u001b[0m     \u001b[38;5;28;01mreturn\u001b[39;00m _unique_impl(\u001b[38;5;28minput\u001b[39m, \u001b[38;5;28msorted\u001b[39m, return_inverse, return_counts, dim)\n\u001b[0;32m--> 722\u001b[0m output, _, _ \u001b[38;5;241m=\u001b[39m \u001b[43m_unique_impl\u001b[49m\u001b[43m(\u001b[49m\u001b[38;5;28;43minput\u001b[39;49m\u001b[43m,\u001b[49m\u001b[43m \u001b[49m\u001b[38;5;28;43msorted\u001b[39;49m\u001b[43m,\u001b[49m\u001b[43m \u001b[49m\u001b[43mreturn_inverse\u001b[49m\u001b[43m,\u001b[49m\u001b[43m \u001b[49m\u001b[43mreturn_counts\u001b[49m\u001b[43m,\u001b[49m\u001b[43m \u001b[49m\u001b[43mdim\u001b[49m\u001b[43m)\u001b[49m\n\u001b[1;32m    723\u001b[0m \u001b[38;5;28;01mreturn\u001b[39;00m output\n",
      "File \u001b[0;32m/blue/woodard/mkunzlermaldaner/project/ExpLogic/explogic_env/lib/python3.9/site-packages/torch/functional.py:636\u001b[0m, in \u001b[0;36m_unique_impl\u001b[0;34m(input, sorted, return_inverse, return_counts, dim)\u001b[0m\n\u001b[1;32m    628\u001b[0m     output, inverse_indices, counts \u001b[38;5;241m=\u001b[39m _VF\u001b[38;5;241m.\u001b[39munique_dim(\n\u001b[1;32m    629\u001b[0m         \u001b[38;5;28minput\u001b[39m,\n\u001b[1;32m    630\u001b[0m         dim,\n\u001b[0;32m   (...)\u001b[0m\n\u001b[1;32m    633\u001b[0m         return_counts\u001b[38;5;241m=\u001b[39mreturn_counts,\n\u001b[1;32m    634\u001b[0m     )\n\u001b[1;32m    635\u001b[0m \u001b[38;5;28;01melse\u001b[39;00m:\n\u001b[0;32m--> 636\u001b[0m     output, inverse_indices, counts \u001b[38;5;241m=\u001b[39m \u001b[43mtorch\u001b[49m\u001b[38;5;241;43m.\u001b[39;49m\u001b[43m_unique2\u001b[49m\u001b[43m(\u001b[49m\n\u001b[1;32m    637\u001b[0m \u001b[43m        \u001b[49m\u001b[38;5;28;43minput\u001b[39;49m\u001b[43m,\u001b[49m\n\u001b[1;32m    638\u001b[0m \u001b[43m        \u001b[49m\u001b[38;5;28;43msorted\u001b[39;49m\u001b[38;5;241;43m=\u001b[39;49m\u001b[38;5;28;43msorted\u001b[39;49m\u001b[43m,\u001b[49m\n\u001b[1;32m    639\u001b[0m \u001b[43m        \u001b[49m\u001b[43mreturn_inverse\u001b[49m\u001b[38;5;241;43m=\u001b[39;49m\u001b[43mreturn_inverse\u001b[49m\u001b[43m,\u001b[49m\n\u001b[1;32m    640\u001b[0m \u001b[43m        \u001b[49m\u001b[43mreturn_counts\u001b[49m\u001b[38;5;241;43m=\u001b[39;49m\u001b[43mreturn_counts\u001b[49m\u001b[43m,\u001b[49m\n\u001b[1;32m    641\u001b[0m \u001b[43m    \u001b[49m\u001b[43m)\u001b[49m\n\u001b[1;32m    642\u001b[0m \u001b[38;5;28;01mreturn\u001b[39;00m output, inverse_indices, counts\n",
      "\u001b[0;31mRuntimeError\u001b[0m: CUDA error: device-side assert triggered\nCUDA kernel errors might be asynchronously reported at some other API call,so the stacktrace below might be incorrect.\nFor debugging consider passing CUDA_LAUNCH_BLOCKING=1."
     ]
    }
   ],
   "source": [
    "# Example: Evaluate the mini-net for digit 0 on the test_loader\n",
    "device = 'cuda' if torch.cuda.is_available() else 'cpu'\n",
    "mininet.eval()\n",
    "\n",
    "correct = 0\n",
    "total = 0\n",
    "\n",
    "with torch.no_grad():\n",
    "    for batch_inputs, batch_labels in test_loader:\n",
    "        batch_inputs, batch_labels = batch_inputs.to(device), batch_labels.to(device)\n",
    "        outputs = mininet(batch_inputs)\n",
    "        # Because CustomDiffLogic returns shape (batch_size, 10) if output_size=10\n",
    "        # we pick the argmax across the 10 classes\n",
    "        _, predicted = torch.max(outputs, dim=1)\n",
    "        \n",
    "        total += batch_labels.size(0)\n",
    "        correct += (predicted == batch_labels).sum().item()\n",
    "\n",
    "acc = correct / total\n",
    "print(f\"MiniNet for digit 0 - Accuracy on test set: {acc}\")\n"
   ]
  },
  {
   "cell_type": "code",
   "execution_count": null,
   "id": "30a6e005-941e-4c8c-a56e-ad60bd7da069",
   "metadata": {},
   "outputs": [],
   "source": [
    "# 1) For each digit 0..9, compute the switching frequency on that digit's data\n",
    "graphs = {}\n",
    "for d in range(10):\n",
    "    graphs[d] = lg.LogicGraph(model)\n",
    "    graphs[d].compute_sf(train_class_loaders[d])  # or test_class_loaders[d]\n",
    "\n",
    "# 2) For each digit, build a “mininet” with a certain threshold\n",
    "mini_nets = {}\n",
    "threshold = 0.1\n",
    "for d in range(10):\n",
    "    mini_nets[d] = create_mininet_for_digit(digit=d,\n",
    "                                            graphs=graphs,\n",
    "                                            sf_threshold=threshold,\n",
    "                                            input_size=784)\n",
    "\n",
    "# 3) Evaluate each mini-net\n",
    "for d in range(10):\n",
    "    # Evaluate on test_loader or digit_loader, up to you\n",
    "    accuracy = evaluate_mininet(mini_nets[d], test_loader)  # define a helper function\n",
    "    print(f\"Digit {d} MiniNet => test accuracy: {accuracy:.3f}\")\n",
    "\n",
    "def evaluate_mininet(mini_net, data_loader):\n",
    "    device = next(mini_net.parameters()).device\n",
    "    mini_net.eval()\n",
    "    correct, total = 0, 0\n",
    "    with torch.no_grad():\n",
    "        for batch_inputs, batch_labels in data_loader:\n",
    "            batch_inputs, batch_labels = batch_inputs.to(device), batch_labels.to(device)\n",
    "            logits = mini_net(batch_inputs)   # shape [batch_size, 10]\n",
    "            _, predicted = torch.max(logits, dim=1)\n",
    "            total += batch_labels.size(0)\n",
    "            correct += (predicted == batch_labels).sum().item()\n",
    "    return correct / total\n"
   ]
  },
  {
   "cell_type": "markdown",
   "id": "abc014f3-e307-4468-aa4f-f7666607389c",
   "metadata": {},
   "source": [
    "---- Everything below here has not been tested / will be scratched ----"
   ]
  },
  {
   "cell_type": "markdown",
   "id": "1acfe48c-825b-4967-a322-e6ada40f535a",
   "metadata": {},
   "source": [
    "Just some visualizations"
   ]
  },
  {
   "cell_type": "code",
   "execution_count": 76,
   "id": "e28d3bd2-7d64-4098-b1d5-94e27e819ab8",
   "metadata": {
    "tags": []
   },
   "outputs": [
    {
     "data": {
      "image/png": "[encoded data removed]",
      "text/plain": [
       "<Figure size 2000x200 with 10 Axes>"
      ]
     },
     "metadata": {},
     "output_type": "display_data"
    }
   ],
   "source": [
    "def show_one_sample_per_class(dataset, bpp=1, crop=False, max_classes=10):\n",
    "    \n",
    "    shape = (20, 20) if crop else (28, 28)\n",
    "    \n",
    "    # We will store one image for each class index from 0..9\n",
    "    chosen_images = [None] * max_classes\n",
    "    chosen_labels = set()\n",
    "\n",
    "    # We can shuffle the dataset indices to pick random examples\n",
    "    all_indices = list(range(len(dataset)))\n",
    "    random.shuffle(all_indices)\n",
    "\n",
    "    for idx in all_indices:\n",
    "        image, label = dataset[idx]\n",
    "        if label < max_classes and chosen_images[label] is None:\n",
    "            # Convert to numpy \n",
    "            image_np = np.array(image)\n",
    "            \n",
    "            reshaped = np.array([\n",
    "                np.sum([\n",
    "                    image_np[(j * bpp) + p] * (2 ** (bpp - p + 1)) \n",
    "                    for p in range(bpp)\n",
    "                ]) \n",
    "                for j in range(shape[0] * shape[0])\n",
    "            ]).reshape(shape)\n",
    "\n",
    "            chosen_images[label] = reshaped\n",
    "            chosen_labels.add(label)\n",
    "\n",
    "        # Once we have found an example for every label, we can stop\n",
    "        if len(chosen_labels) == max_classes:\n",
    "            break\n",
    "\n",
    "    # Plot\n",
    "    fig, axes = plt.subplots(1, max_classes, figsize=(2 * max_classes, 2))\n",
    "    for i in range(max_classes):\n",
    "        axes[i].imshow(chosen_images[i], cmap='gray')\n",
    "        axes[i].set_title(f\"Class {i}\")\n",
    "        axes[i].axis('off')\n",
    "\n",
    "    plt.tight_layout()\n",
    "    plt.show()\n",
    "\n",
    "show_one_sample_per_class(train_dataset, bpp=1, crop=False)"
   ]
  },
  {
   "cell_type": "code",
   "execution_count": null,
   "id": "d9ce5a32-3248-4cf2-9f00-71aed90a19c1",
   "metadata": {},
   "outputs": [],
   "source": [
    "import matplotlib.pyplot as plt\n",
    "import torch\n",
    "import random\n",
    "\n",
    "def show_random_samples_for_each_digit(train_class_loaders, shape=(28,28)):\n",
    "    \"\"\"\n",
    "    Displays one random sample from each digit (0..9).\n",
    "    \"\"\"\n",
    "\n",
    "    fig, axes = plt.subplots(1, 10, figsize=(20, 2))\n",
    "    \n",
    "    for digit in range(10):\n",
    "        digit_dataset = train_class_loaders[digit].dataset\n",
    "        dataset_size = len(digit_dataset)\n",
    "\n",
    "        # Pick a random index, fetch the image\n",
    "        random_index = random.randint(0, dataset_size - 1)\n",
    "        image, label = digit_dataset[random_index]\n",
    "\n",
    "        # If image is bpp=1, shape is (28,28) or (20,20), \n",
    "        # but might also be [1,28,28]. If so, do .squeeze(0).\n",
    "        if image.ndim == 3:\n",
    "            image = image.squeeze(0)\n",
    "        \n",
    "        axes[digit].imshow(image.reshape(shape), cmap='gray')\n",
    "        axes[digit].axis('off')\n",
    "        axes[digit].set_title(f'Digit {digit}')\n",
    "\n",
    "    plt.tight_layout()\n",
    "    plt.show()\n"
   ]
  },
  {
   "cell_type": "code",
   "execution_count": 122,
   "id": "45e019c5-33a0-4baa-a10f-86a3a917f587",
   "metadata": {},
   "outputs": [
    {
     "ename": "RuntimeError",
     "evalue": "CUDA error: device-side assert triggered\nCUDA kernel errors might be asynchronously reported at some other API call,so the stacktrace below might be incorrect.\nFor debugging consider passing CUDA_LAUNCH_BLOCKING=1.",
     "output_type": "error",
     "traceback": [
      "\u001b[0;31m---------------------------------------------------------------------------\u001b[0m",
      "\u001b[0;31mRuntimeError\u001b[0m                              Traceback (most recent call last)",
      "Cell \u001b[0;32mIn[122], line 26\u001b[0m\n\u001b[1;32m     23\u001b[0m             hook\u001b[38;5;241m.\u001b[39mremove()\n\u001b[1;32m     25\u001b[0m \u001b[38;5;66;03m# passes trained diff logic model and all digit loaders\u001b[39;00m\n\u001b[0;32m---> 26\u001b[0m \u001b[43mrun_and_collect_activations\u001b[49m\u001b[43m(\u001b[49m\u001b[43mmodel\u001b[49m\u001b[43m,\u001b[49m\u001b[43m \u001b[49m\u001b[43mtrain_class_loaders\u001b[49m\u001b[43m)\u001b[49m\n",
      "Cell \u001b[0;32mIn[122], line 19\u001b[0m, in \u001b[0;36mrun_and_collect_activations\u001b[0;34m(model, train_class_loaders)\u001b[0m\n\u001b[1;32m     17\u001b[0m \u001b[38;5;66;03m# runs forward pass for each batch in the DataLoader for the current digit\u001b[39;00m\n\u001b[1;32m     18\u001b[0m \u001b[38;5;28;01mfor\u001b[39;00m batch_data, _ \u001b[38;5;129;01min\u001b[39;00m loader:\n\u001b[0;32m---> 19\u001b[0m     \u001b[43mmodel\u001b[49m\u001b[43m(\u001b[49m\u001b[43mbatch_data\u001b[49m\u001b[43m)\u001b[49m\n\u001b[1;32m     21\u001b[0m \u001b[38;5;66;03m# unhook all the registered hooks after the forward pass\u001b[39;00m\n\u001b[1;32m     22\u001b[0m \u001b[38;5;28;01mfor\u001b[39;00m hook \u001b[38;5;129;01min\u001b[39;00m hooks:\n",
      "File \u001b[0;32m/blue/woodard/mkunzlermaldaner/project/ExpLogic/explogic_env/lib/python3.9/site-packages/torch/nn/modules/module.py:1051\u001b[0m, in \u001b[0;36mModule._call_impl\u001b[0;34m(self, *input, **kwargs)\u001b[0m\n\u001b[1;32m   1047\u001b[0m \u001b[38;5;66;03m# If we don't have any hooks, we want to skip the rest of the logic in\u001b[39;00m\n\u001b[1;32m   1048\u001b[0m \u001b[38;5;66;03m# this function, and just call forward.\u001b[39;00m\n\u001b[1;32m   1049\u001b[0m \u001b[38;5;28;01mif\u001b[39;00m \u001b[38;5;129;01mnot\u001b[39;00m (\u001b[38;5;28mself\u001b[39m\u001b[38;5;241m.\u001b[39m_backward_hooks \u001b[38;5;129;01mor\u001b[39;00m \u001b[38;5;28mself\u001b[39m\u001b[38;5;241m.\u001b[39m_forward_hooks \u001b[38;5;129;01mor\u001b[39;00m \u001b[38;5;28mself\u001b[39m\u001b[38;5;241m.\u001b[39m_forward_pre_hooks \u001b[38;5;129;01mor\u001b[39;00m _global_backward_hooks\n\u001b[1;32m   1050\u001b[0m         \u001b[38;5;129;01mor\u001b[39;00m _global_forward_hooks \u001b[38;5;129;01mor\u001b[39;00m _global_forward_pre_hooks):\n\u001b[0;32m-> 1051\u001b[0m     \u001b[38;5;28;01mreturn\u001b[39;00m \u001b[43mforward_call\u001b[49m\u001b[43m(\u001b[49m\u001b[38;5;241;43m*\u001b[39;49m\u001b[38;5;28;43minput\u001b[39;49m\u001b[43m,\u001b[49m\u001b[43m \u001b[49m\u001b[38;5;241;43m*\u001b[39;49m\u001b[38;5;241;43m*\u001b[39;49m\u001b[43mkwargs\u001b[49m\u001b[43m)\u001b[49m\n\u001b[1;32m   1052\u001b[0m \u001b[38;5;66;03m# Do not call functions when jit is used\u001b[39;00m\n\u001b[1;32m   1053\u001b[0m full_backward_hooks, non_full_backward_hooks \u001b[38;5;241m=\u001b[39m [], []\n",
      "Cell \u001b[0;32mIn[10], line 44\u001b[0m, in \u001b[0;36mDiffLogic.forward\u001b[0;34m(self, x)\u001b[0m\n\u001b[1;32m     42\u001b[0m \u001b[38;5;66;03m# moves tensor to GPU\u001b[39;00m\n\u001b[1;32m     43\u001b[0m \u001b[38;5;28;01mif\u001b[39;00m torch\u001b[38;5;241m.\u001b[39mcuda\u001b[38;5;241m.\u001b[39mis_available():\n\u001b[0;32m---> 44\u001b[0m     x \u001b[38;5;241m=\u001b[39m \u001b[43mx\u001b[49m\u001b[38;5;241;43m.\u001b[39;49m\u001b[43mto\u001b[49m\u001b[43m(\u001b[49m\u001b[38;5;124;43m'\u001b[39;49m\u001b[38;5;124;43mcuda\u001b[39;49m\u001b[38;5;124;43m'\u001b[39;49m\u001b[43m)\u001b[49m          \n\u001b[1;32m     45\u001b[0m \u001b[38;5;66;03m#x = torch.flatten(x)\u001b[39;00m\n\u001b[1;32m     46\u001b[0m logits \u001b[38;5;241m=\u001b[39m \u001b[38;5;28mself\u001b[39m\u001b[38;5;241m.\u001b[39mlogic_layers(x)\n",
      "\u001b[0;31mRuntimeError\u001b[0m: CUDA error: device-side assert triggered\nCUDA kernel errors might be asynchronously reported at some other API call,so the stacktrace below might be incorrect.\nFor debugging consider passing CUDA_LAUNCH_BLOCKING=1."
     ]
    }
   ],
   "source": [
    "# run forward pass and collect activations for each digit's dataset\n",
    "def run_and_collect_activations(model, train_class_loaders):\n",
    "    \n",
    "    for digit, loader in train_class_loaders.items():\n",
    "        hooks = []  \n",
    "        \n",
    "        for idx, layer in enumerate(model.logic_layers):\n",
    "            if isinstance(layer, LogicLayer): \n",
    "                # register hook for the current layer and digit\n",
    "                hook = layer.register_forward_hook(\n",
    "                    (lambda layer_idx, digit: \n",
    "                        lambda module, input, output: \n",
    "                            hook_fn(module, input, output, layer_idx, digit))(idx, digit)\n",
    "                )\n",
    "                hooks.append(hook)\n",
    "\n",
    "        # runs forward pass for each batch in the DataLoader for the current digit\n",
    "        for batch_data, _ in loader:\n",
    "            model(batch_data)\n",
    "\n",
    "        # unhook all the registered hooks after the forward pass\n",
    "        for hook in hooks:\n",
    "            hook.remove()\n",
    "\n",
    "# passes trained diff logic model and all digit loaders\n",
    "run_and_collect_activations(model, train_class_loaders)"
   ]
  },
  {
   "cell_type": "code",
   "execution_count": 133,
   "id": "151c9295-fe6a-4f28-b808-be797ca2d07f",
   "metadata": {},
   "outputs": [],
   "source": [
    "# calculation given two inputs (a and b) and their logic gate (i)\n",
    "def bin_op(a, b, i):\n",
    "    assert a[0].shape == b[0].shape, (a[0].shape, b[0].shape)\n",
    "    if a.shape[0] > 1:\n",
    "        assert a[1].shape == b[1].shape, (a[1].shape, b[1].shape)\n",
    "\n",
    "    if i == 0:\n",
    "        return torch.zeros_like(a)\n",
    "    elif i == 1:\n",
    "        return a * b\n",
    "    elif i == 2:\n",
    "        return a - a * b\n",
    "    elif i == 3:\n",
    "        return a\n",
    "    elif i == 4:\n",
    "        return b - a * b\n",
    "    elif i == 5:\n",
    "        return b\n",
    "    elif i == 6:\n",
    "        return a + b - 2 * a * b\n",
    "    elif i == 7:\n",
    "        return a + b - a * b\n",
    "    elif i == 8:\n",
    "        return 1 - (a + b - a * b)\n",
    "    elif i == 9:\n",
    "        return 1 - (a + b - 2 * a * b)\n",
    "    elif i == 10:\n",
    "        return 1 - b\n",
    "    elif i == 11:\n",
    "        return 1 - b + a * b\n",
    "    elif i == 12:\n",
    "        return 1 - a\n",
    "    elif i == 13:\n",
    "        return 1 - a + a * b\n",
    "    elif i == 14:\n",
    "        return 1 - a * b\n",
    "    elif i == 15:\n",
    "        return torch.ones_like(a)"
   ]
  }
 ],
 "metadata": {
  "kernelspec": {
   "display_name": "EXPLOGIC",
   "language": "python",
   "name": "explogic_env"
  },
  "language_info": {
   "codemirror_mode": {
    "name": "ipython",
    "version": 3
   },
   "file_extension": ".py",
   "mimetype": "text/x-python",
   "name": "python",
   "nbconvert_exporter": "python",
   "pygments_lexer": "ipython3",
   "version": "3.9.21"
  }
 },
 "nbformat": 4,
 "nbformat_minor": 5
}
