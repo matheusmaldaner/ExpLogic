{
 "cells": [
  {
   "cell_type": "markdown",
   "id": "267af5dd-e83a-4431-8036-c75321cb3945",
   "metadata": {
    "tags": []
   },
   "source": [
    "# **ExpLogic**"
   ]
  },
  {
   "cell_type": "markdown",
   "id": "f568cabd-3e11-474b-af13-f6c0c668454d",
   "metadata": {
    "jp-MarkdownHeadingCollapsed": true,
    "tags": []
   },
   "source": [
    "### **Setting up**"
   ]
  },
  {
   "cell_type": "markdown",
   "id": "df65bb0b-594d-4717-bd3c-63b04b9d864b",
   "metadata": {
    "tags": []
   },
   "source": [
    "#### **Dependencies**"
   ]
  },
  {
   "cell_type": "code",
   "execution_count": 19,
   "id": "fb5dd1c0-73cf-4679-ae21-6fa00a85a395",
   "metadata": {
    "tags": []
   },
   "outputs": [
    {
     "name": "stdout",
     "output_type": "stream",
     "text": [
      "Available GPUs: 4\n"
     ]
    }
   ],
   "source": [
    "import torch\n",
    "import torch.nn as nn\n",
    "import numpy as np\n",
    "import pandas as pd\n",
    "from tqdm import tqdm\n",
    "import random\n",
    "import yaml\n",
    "import os\n",
    "import copy\n",
    "import pickle\n",
    "import cv2\n",
    "import time\n",
    "import matplotlib.pyplot as plt\n",
    "import torchvision.transforms as transforms\n",
    "from torchvision.transforms import Resize, ToTensor, Compose, Lambda\n",
    "import mnist_dataset\n",
    "from hydra import initialize, compose\n",
    "from torch.utils.data import DataLoader, Dataset, TensorDataset, Subset\n",
    "from difflogic import LogicLayer, GroupSum, PackBitsTensor\n",
    "import subset_loaders as subset\n",
    "import LogicGraph as lg\n",
    "import data_getter as dat\n",
    "import importlib\n",
    "from collections import defaultdict\n",
    "dat = importlib.reload(dat)\n",
    "print(f\"Available GPUs: {torch.cuda.device_count()}\")"
   ]
  },
  {
   "cell_type": "markdown",
   "id": "be99c41f-b5c7-4d64-a704-5a003a5b56c2",
   "metadata": {
    "tags": []
   },
   "source": [
    "#### **Dataset**"
   ]
  },
  {
   "cell_type": "markdown",
   "id": "63f8096d-fc17-46d7-861e-685d2fe12dbb",
   "metadata": {},
   "source": [
    "Tunable Variables"
   ]
  },
  {
   "cell_type": "code",
   "execution_count": 2,
   "id": "47ea8409-a084-4bee-8121-96acd99bb28e",
   "metadata": {
    "tags": []
   },
   "outputs": [],
   "source": [
    "# Configurable options\n",
    "crop          = None             # (x,x) else None: Removes border of Mnist, False: Keeps black border around digits\n",
    "dataset_name  = \"fashion_mnist\"  # \"mnist\"/\"fashion_mnist\" \n",
    "bpp           = 1                # Bits-Per-Pixels (fixed at 1 for ExpLogic for the binary case) "
   ]
  },
  {
   "cell_type": "markdown",
   "id": "f63667e4-7675-4c59-a6f3-18f4acd21475",
   "metadata": {},
   "source": [
    "Set Seed for Reproducibiity"
   ]
  },
  {
   "cell_type": "code",
   "execution_count": 3,
   "id": "fe299cc0-4872-4902-94f7-b85c193bd43f",
   "metadata": {
    "tags": []
   },
   "outputs": [],
   "source": [
    "torch.manual_seed(42)      # PyTorch seed fixing\n",
    "torch.cuda.manual_seed(42) # PyTorch CUDA seed fixing (if using GPU)\n",
    "np.random.seed(42)         # NumPy seed fixing\n",
    "random.seed(42)            # Python's built-in random seed fixing"
   ]
  },
  {
   "cell_type": "markdown",
   "id": "d4450630-e7a8-4564-b106-6e2dc3a12e61",
   "metadata": {},
   "source": [
    "Dataset Transform"
   ]
  },
  {
   "cell_type": "code",
   "execution_count": 4,
   "id": "f3f6a794-6052-43c3-a616-d7db6568ed0e",
   "metadata": {
    "tags": []
   },
   "outputs": [
    {
     "name": "stderr",
     "output_type": "stream",
     "text": [
      "/blue/woodard/mkunzlermaldaner/project/ExpLogic/explogic_env/lib/python3.9/site-packages/torchvision/datasets/mnist.py:498: UserWarning: The given NumPy array is not writeable, and PyTorch does not support non-writeable tensors. This means you can write to the underlying (supposedly non-writeable) NumPy array using the tensor. You may want to copy the array to protect its data or make it writeable before converting it to a tensor. This type of warning will be suppressed for the rest of this program. (Triggered internally at  /pytorch/torch/csrc/utils/tensor_numpy.cpp:180.)\n",
      "  return torch.from_numpy(parsed.astype(m[2], copy=False)).view(*s)\n"
     ]
    }
   ],
   "source": [
    "batch_size = 512\n",
    "train_loader, test_loader, input_dim, out_dim = dat.get_dataset(dataset_name, batch_size=batch_size, data_dir='./data', bpp=bpp, crop=crop)"
   ]
  },
  {
   "cell_type": "code",
   "execution_count": 5,
   "id": "38a5db70-d2ba-44a7-803c-829177a182c8",
   "metadata": {
    "tags": []
   },
   "outputs": [],
   "source": [
    "# makes the Dataset evenly partitioned\n",
    "# code below is used so that all classes have the same number of samples\n",
    "train_targets = train_loader.dataset.targets\n",
    "test_targets = test_loader.dataset.targets\n",
    "\n",
    "train_digits_total = []\n",
    "test_digits_total = []\n",
    "\n",
    "for i in range(10):\n",
    "    curr_tot_train = torch.sum(train_targets == i).item()\n",
    "    curr_tot_test = torch.sum(test_targets == i).item()    \n",
    "    train_digits_total.append(curr_tot_train)\n",
    "    test_digits_total.append(curr_tot_test)\n",
    "\n",
    "train_digits_total, test_digits_total\n",
    "\n",
    "# find the minimum number of samples across all classes\n",
    "min_samples_train = min(train_digits_total)\n",
    "min_samples_test = min(test_digits_total)\n",
    "\n",
    "# function to trim dataset to match the minimum samples for each class and shuffle indices\n",
    "def trim_dataset(dataset, targets, min_samples):\n",
    "    indices = []\n",
    "    for i in range(10):\n",
    "        class_indices = (targets == i).nonzero(as_tuple=True)[0]  # get indices of class i\n",
    "        class_indices = class_indices[:min_samples]  # trim to min_samples\n",
    "        indices.extend(class_indices)\n",
    "\n",
    "    # shuffle indices after collecting them\n",
    "    indices = torch.tensor(indices)\n",
    "    indices = indices[torch.randperm(indices.size(0))]  \n",
    "\n",
    "    return Subset(dataset, indices)\n",
    "\n",
    "# trim both train and test datasets to ensure all classes have the same number of samples\n",
    "trimmed_train_dataset = trim_dataset(train_loader.dataset, train_targets, min_samples_train)\n",
    "trimmed_test_dataset = trim_dataset(test_loader.dataset, test_targets, min_samples_test)\n",
    "\n",
    "# create DataLoaders for the trimmed datasets\n",
    "trimmed_train_loader = DataLoader(trimmed_train_dataset, batch_size=batch_size, shuffle=True, pin_memory=True, drop_last=True)\n",
    "trimmed_test_loader = DataLoader(trimmed_test_dataset, batch_size=batch_size, shuffle=False, pin_memory=True, drop_last=True)\n",
    "\n",
    "# verify the lengths of the trimmed datasets\n",
    "len(trimmed_train_loader.dataset), len(trimmed_test_loader.dataset)\n",
    "\n",
    "train_dataset = trimmed_train_dataset\n",
    "test_dataset = trimmed_test_dataset\n",
    "train_loader = trimmed_train_loader\n",
    "test_loader = trimmed_test_loader"
   ]
  },
  {
   "cell_type": "code",
   "execution_count": 6,
   "id": "66230413-408e-4bc1-bf5f-2313690e0964",
   "metadata": {
    "tags": []
   },
   "outputs": [
    {
     "data": {
      "text/plain": [
       "<matplotlib.image.AxesImage at 0x14f654171640>"
      ]
     },
     "execution_count": 6,
     "metadata": {},
     "output_type": "execute_result"
    },
    {
     "data": {
      "image/png": "[encoded data removed]",
      "text/plain": [
       "<Figure size 640x480 with 1 Axes>"
      ]
     },
     "metadata": {},
     "output_type": "display_data"
    }
   ],
   "source": [
    "# visualizing a single image\n",
    "dataset_size = len(train_dataset)\n",
    "random_index = random.randint(0, dataset_size - 1)\n",
    "image        = np.array(train_loader.dataset[random_index][0])\n",
    "shape        = (20,20) if crop else (28,28)\n",
    "image        = np.array([np.sum([image[(j*bpp) + p]*(2**(bpp-p+1)) for p in range(bpp)]) for j in range(shape[0]*shape[0])]).reshape(shape)\n",
    "\n",
    "plt.figure()\n",
    "plt.imshow(image, cmap='gray')"
   ]
  },
  {
   "cell_type": "markdown",
   "id": "3973f0e3-5f32-4793-afc6-9394425419de",
   "metadata": {
    "tags": []
   },
   "source": [
    "#### Model Hyperparameters"
   ]
  },
  {
   "cell_type": "markdown",
   "id": "0f4e63be-c489-4aaf-a605-9e1d0fda631f",
   "metadata": {},
   "source": [
    "Converts csv into yaml config file"
   ]
  },
  {
   "cell_type": "code",
   "execution_count": 7,
   "id": "a9b89fd2-f200-40c1-973a-489ef4190e17",
   "metadata": {
    "tags": []
   },
   "outputs": [],
   "source": [
    "# define first input and the name of the file to be saved\n",
    "if dataset_name == \"mnist\":\n",
    "    first_in_dim = 400*bpp\n",
    "    filename = \"config/mnist_config_20x20.yaml\"\n",
    "    df = pd.read_csv(\"config/mnist_hyperparameters.csv\")\n",
    "elif dataset_name == \"fashion_mnist\":\n",
    "    first_in_dim = 784*bpp\n",
    "    filename = \"config/fashion_mnist_config_28x28.yaml\"\n",
    "    df = pd.read_csv(\"config/fashion_mnist_hyperparameters.csv\")"
   ]
  },
  {
   "cell_type": "code",
   "execution_count": 8,
   "id": "4dc64546-f1d7-4e18-b88c-7140d4d42692",
   "metadata": {
    "tags": []
   },
   "outputs": [
    {
     "name": "stdout",
     "output_type": "stream",
     "text": [
      "YAML file 'config/fashion_mnist_config_28x28.yaml' generated successfully.\n"
     ]
    }
   ],
   "source": [
    "# convert the DataFrame to a list of dictionaries\n",
    "models = df.to_dict(orient=\"records\")\n",
    "\n",
    "# create the YAML structure\n",
    "yaml_structure = {\"models\": {}}\n",
    "\n",
    "# rounds the number to the nearest multiple of the output size\n",
    "def round_to_nearest_multiple(value, multiple):\n",
    "    return multiple * round(value / multiple)\n",
    "\n",
    "# populate the YAML structure with models\n",
    "for i, model in enumerate(models, start=1):\n",
    "    # zero-padding model names to 3 digits \n",
    "    model_name = f\"model_{str(i).zfill(3)}\"\n",
    "    layers_config = {}\n",
    "    \n",
    "    for layer in range(1, model[\"H\"] + 1):\n",
    "        # zero-padding the layer names to 3 digits\n",
    "        layer_name = f\"LogicLayer{str(layer).zfill(3)}\"\n",
    "        \n",
    "        # adjusts in_dim to the nearest multiple of 10\n",
    "        in_dim = first_in_dim if layer == 1 else round_to_nearest_multiple(model[\"W\"], 10)\n",
    "        \n",
    "        # adjusts out_dim to the nearest multiple of 10\n",
    "        out_dim = round_to_nearest_multiple(model[\"W\"], 10)\n",
    "        \n",
    "        layers_config[layer_name] = {\n",
    "            \"in_dim\": in_dim,\n",
    "            \"out_dim\": out_dim,\n",
    "            \"device\": \"cuda\",\n",
    "            \"implementation\": \"cuda\",\n",
    "            \"connections\": \"random\",\n",
    "            \"grad_factor\": 2, # we can try different grad_factor values as well\n",
    "        }\n",
    "    \n",
    "    yaml_structure[\"models\"][model_name] = {\n",
    "        \"input_dim\": first_in_dim, \n",
    "        \"output_size\": 10, # for MNIST classification\n",
    "        \"tau\": model[\"tau\"],\n",
    "        \"learning_rate\": model[\"lr\"],\n",
    "        \"layers_config\": layers_config,\n",
    "    }\n",
    "\n",
    "# saves to a YAML file\n",
    "with open(f'{filename}', \"w\") as file:\n",
    "    yaml.dump(yaml_structure, file, default_flow_style=False)\n",
    "\n",
    "print(f\"YAML file '{filename}' generated successfully.\")"
   ]
  },
  {
   "cell_type": "markdown",
   "id": "5e939ace-e4c3-4781-bdea-f9722ddb925e",
   "metadata": {
    "tags": []
   },
   "source": [
    "### **Model Definition**"
   ]
  },
  {
   "cell_type": "markdown",
   "id": "7bf4c832-0caf-4efc-9b71-8c2cf1faffa7",
   "metadata": {
    "jp-MarkdownHeadingCollapsed": true,
    "tags": []
   },
   "source": [
    "#### **Model Function Declarations**"
   ]
  },
  {
   "cell_type": "markdown",
   "id": "bb42a7a7-1a8b-4d5f-b2c6-6f68678e328b",
   "metadata": {},
   "source": [
    "Custom GroupSum"
   ]
  },
  {
   "cell_type": "code",
   "execution_count": 9,
   "id": "b1ead0c5-4377-4447-937c-353d12632fbe",
   "metadata": {
    "tags": []
   },
   "outputs": [],
   "source": [
    "class CustomGroupSum(GroupSum):\n",
    "    \"\"\"\n",
    "    The CustomGroupSum module that extends GroupSum to include printing of class sums.\n",
    "    \"\"\"\n",
    "    def forward(self, x):\n",
    "        # Use the original functionality from GroupSum\n",
    "        output = super().forward(x)\n",
    "\n",
    "        # Calculate the class sums for printing\n",
    "        if isinstance(x, PackBitsTensor):\n",
    "            class_sums = x.group_sum(self.k)\n",
    "        else:\n",
    "            class_sums = x.reshape(*x.shape[:-1], self.k, x.shape[-1] // self.k).sum(-1)\n",
    "\n",
    "        # Print the class sums before returning the output\n",
    "        print(\"Class Sums:\", class_sums)\n",
    "\n",
    "        # Return the processed output, as in the original GroupSum\n",
    "        return output"
   ]
  },
  {
   "cell_type": "markdown",
   "id": "e473370c-ec74-455b-854c-f597d04144f3",
   "metadata": {},
   "source": [
    "DiffLogic Class"
   ]
  },
  {
   "cell_type": "code",
   "execution_count": 10,
   "id": "b244edec-9bd5-474d-9aaa-4f9aafe31b24",
   "metadata": {
    "tags": []
   },
   "outputs": [],
   "source": [
    "class DiffLogic(nn.Module):\n",
    "    def __init__(self, layers_config, output_size, tau=30):\n",
    "        \"\"\"\n",
    "        Initializes the DiffLogic model with the specified layer configurations, output size, and temperature parameter.\n",
    "\n",
    "        Args:\n",
    "            layers_config (dict): Configuration for each logic layer, including dimensions, device, implementation, connections, and grad factor.\n",
    "            output_size (int): The number of output groups (classes in a classification problem).\n",
    "            tau (int): Temperature parameter for the GroupSum operation.\n",
    "        \"\"\"\n",
    "        super(DiffLogic, self).__init__()\n",
    "        \n",
    "        # stores the logic layers\n",
    "        layers = []\n",
    "        for layer_name, config in layers_config.items():\n",
    "            layer = LogicLayer(\n",
    "                in_dim=config['in_dim'],\n",
    "                out_dim=config['out_dim'],\n",
    "                device=config['device'],\n",
    "                implementation=config['implementation'],\n",
    "                connections=config['connections'],\n",
    "                grad_factor=config['grad_factor']       \n",
    "            )\n",
    "            layers.append(layer)\n",
    "            print(layer)\n",
    "        \n",
    "        self.logic_layers = nn.Sequential(*layers)\n",
    "        self.group = GroupSum(k=output_size, tau=tau)\n",
    "        #self.group = CustomGroupSum(k=output_size, tau=tau) \n",
    "        self.log_text = \"\"  # initializes logging string\n",
    "\n",
    "    def forward(self, x):\n",
    "        \"\"\"\n",
    "        Forward pass of the DiffLogic model.\n",
    "\n",
    "        Args:\n",
    "            x (torch.Tensor): Input tensor.\n",
    "\n",
    "        Returns:\n",
    "            torch.Tensor: Output tensor after processing through the logic layers and grouping operation.\n",
    "        \"\"\"\n",
    "        # moves tensor to GPU\n",
    "        if torch.cuda.is_available():\n",
    "            x = x.to('cuda')          \n",
    "        #x = torch.flatten(x)\n",
    "        logits = self.logic_layers(x)\n",
    "        group = self.group(logits)\n",
    "        return group\n",
    "    \n",
    "    def save(self, file_path, model_name='model'):\n",
    "        \"\"\"\n",
    "        Saves the model's state dictionary to the specified file path.\n",
    "\n",
    "        Args:\n",
    "            file_path (str): Path where the model will be saved.\n",
    "            model_name (str): Name of the saved model\n",
    "\n",
    "        Returns:\n",
    "            None\n",
    "        \"\"\"\n",
    "        torch.save({\n",
    "            'model_state_dict': self.state_dict(),\n",
    "            'connections': [layer.indices for layer in self.logic_layers if isinstance(layer, LogicLayer)]\n",
    "        }, os.path.join(file_path, f\"{model_name}.pth\"))\n",
    "        self.log_text += f\"Model saved to: {file_path}\\n\"\n",
    "\n",
    "    def load(self, file_path):\n",
    "        \"\"\"\n",
    "        Loads the model's state dictionary from the specified file path.\n",
    "\n",
    "        Args:\n",
    "            file_path (str): Path from which the model will be loaded.\n",
    "\n",
    "        Returns:\n",
    "            None\n",
    "        \"\"\"\n",
    "        checkpoint = torch.load(file_path)\n",
    "        self.load_state_dict(checkpoint['model_state_dict'])\n",
    "\n",
    "        # assigns connections to each LogicLayer\n",
    "        for idx, layer in enumerate(self.logic_layers):\n",
    "            if isinstance(layer, LogicLayer):\n",
    "                layer.indices = checkpoint['connections'][idx]\n",
    "\n",
    "        self.eval()\n",
    "        self.log_text += f\"Model loaded from: {file_path}\\n\"\n",
    "        \n",
    "    def get_accuracy(self, data_loader):\n",
    "        \"\"\"\n",
    "        Calculates the accuracy of the model against a data loader\n",
    "\n",
    "        Args:\n",
    "            data_loader: a DataLoader object, e.g. train_loader or test_loader\n",
    "\n",
    "        Returns:\n",
    "            float: The accuracy\n",
    "        \"\"\"\n",
    "        correct = 0\n",
    "        total = 0\n",
    "\n",
    "        # ensures that model is in evaluation mode\n",
    "        self.eval()\n",
    "\n",
    "        with torch.no_grad():  # Disable gradient calculation for inference\n",
    "            for batch_inputs, batch_outputs in tqdm(data_loader, desc=\"Running Inference\"):\n",
    "                batch_inputs, batch_outputs = batch_inputs.to('cuda'), batch_outputs.to('cuda')\n",
    "\n",
    "                # forward pass to get predictions\n",
    "                outputs = self(batch_inputs.float())\n",
    "\n",
    "                # gets the predicted class (index of the maximum logit)\n",
    "                _, predicted = torch.max(outputs.data, 1)\n",
    "\n",
    "                # counting correct predictions\n",
    "                total += batch_outputs.size(0)  # total number of samples in the batch\n",
    "                correct += (predicted == batch_outputs).sum().item()  # counting correct predictions\n",
    "\n",
    "        accuracy = correct / total\n",
    "        return accuracy\n",
    "\n",
    "    def get_log(self):\n",
    "        \"\"\"\n",
    "        Retrieves the log text and clears the log after retrieval.\n",
    "\n",
    "        Returns:\n",
    "            str: The log text.\n",
    "        \"\"\"\n",
    "        log_copy = self.log_text\n",
    "        self.log_text = \"\"  # Clear the log after returning\n",
    "        return log_copy"
   ]
  },
  {
   "cell_type": "code",
   "execution_count": 11,
   "id": "5632fa27-5e05-41b0-b3a3-ac941714657b",
   "metadata": {
    "tags": []
   },
   "outputs": [],
   "source": [
    "class EarlyStopper:\n",
    "    def __init__(self, patience=10, min_delta=0):\n",
    "        \"\"\"\n",
    "        Initializes the EarlyStopper to stop training if the performance doesn't improve after a certain number of epochs.\n",
    "\n",
    "        Args:\n",
    "            patience (int): Number of epochs to wait for an improvement.\n",
    "            min_delta (float): Minimum change to consider an improvement.\n",
    "        \"\"\"\n",
    "        self.patience = patience\n",
    "        self.min_delta = min_delta\n",
    "        self.best_loss = None\n",
    "        self.counter = 0\n",
    "\n",
    "    def should_stop(self, current_loss):\n",
    "        \"\"\"\n",
    "        Check if training should stop based on the current loss.\n",
    "\n",
    "        Args:\n",
    "            current_loss (float): The current loss.\n",
    "\n",
    "        Returns:\n",
    "            bool: True if training should stop, False otherwise.\n",
    "        \"\"\"\n",
    "        if self.best_loss is None:\n",
    "            self.best_loss = current_loss\n",
    "            return False\n",
    "        elif current_loss < self.best_loss - self.min_delta:\n",
    "            self.best_loss = current_loss\n",
    "            self.counter = 0\n",
    "            return False\n",
    "        else:\n",
    "            self.counter += 1\n",
    "            print(\"EarlyStopper Triggered: \", self.counter)\n",
    "            if self.counter >= self.patience:\n",
    "                return True\n",
    "            return False"
   ]
  },
  {
   "cell_type": "markdown",
   "id": "fcd97e0b-c6c4-4262-97ab-32136126ba39",
   "metadata": {
    "jp-MarkdownHeadingCollapsed": true,
    "tags": []
   },
   "source": [
    "#### **Model Training**"
   ]
  },
  {
   "cell_type": "code",
   "execution_count": 16,
   "id": "dea90015-6e45-49af-bb11-539c8811adcd",
   "metadata": {
    "tags": []
   },
   "outputs": [
    {
     "name": "stdout",
     "output_type": "stream",
     "text": [
      "training model model_001\n",
      "LogicLayer(784, 5000, train)\n",
      "LogicLayer(5000, 5000, train)\n",
      "model DiffLogic(\n",
      "  (logic_layers): Sequential(\n",
      "    (0): LogicLayer(784, 5000, train)\n",
      "    (1): LogicLayer(5000, 5000, train)\n",
      "  )\n",
      "  (group): GroupSum(k=10, tau=10)\n",
      ")\n"
     ]
    },
    {
     "name": "stderr",
     "output_type": "stream",
     "text": [
      "Epoch 1/100: 100%|██████████| 937/937 [01:48<00:00,  8.65it/s]\n"
     ]
    },
    {
     "name": "stdout",
     "output_type": "stream",
     "text": [
      "Epoch 1 Loss: 0.8229283818936901\n"
     ]
    },
    {
     "name": "stderr",
     "output_type": "stream",
     "text": [
      "Epoch 2/100: 100%|██████████| 937/937 [01:48<00:00,  8.63it/s]\n"
     ]
    },
    {
     "name": "stdout",
     "output_type": "stream",
     "text": [
      "Epoch 2 Loss: 0.566326324371745\n"
     ]
    },
    {
     "name": "stderr",
     "output_type": "stream",
     "text": [
      "Epoch 3/100: 100%|██████████| 937/937 [01:47<00:00,  8.73it/s]\n"
     ]
    },
    {
     "name": "stdout",
     "output_type": "stream",
     "text": [
      "Epoch 3 Loss: 0.5241241747938101\n"
     ]
    },
    {
     "name": "stderr",
     "output_type": "stream",
     "text": [
      "Epoch 4/100: 100%|██████████| 937/937 [01:47<00:00,  8.73it/s]\n"
     ]
    },
    {
     "name": "stdout",
     "output_type": "stream",
     "text": [
      "Epoch 4 Loss: 0.5022816856235505\n"
     ]
    },
    {
     "name": "stderr",
     "output_type": "stream",
     "text": [
      "Epoch 5/100: 100%|██████████| 937/937 [01:48<00:00,  8.62it/s]\n"
     ]
    },
    {
     "name": "stdout",
     "output_type": "stream",
     "text": [
      "Epoch 5 Loss: 0.4878191805572806\n"
     ]
    },
    {
     "name": "stderr",
     "output_type": "stream",
     "text": [
      "Epoch 6/100: 100%|██████████| 937/937 [01:49<00:00,  8.53it/s]\n"
     ]
    },
    {
     "name": "stdout",
     "output_type": "stream",
     "text": [
      "Epoch 6 Loss: 0.4772435414820998\n"
     ]
    },
    {
     "name": "stderr",
     "output_type": "stream",
     "text": [
      "Epoch 7/100: 100%|██████████| 937/937 [01:50<00:00,  8.51it/s]\n"
     ]
    },
    {
     "name": "stdout",
     "output_type": "stream",
     "text": [
      "Epoch 7 Loss: 0.46879855979402907\n"
     ]
    },
    {
     "name": "stderr",
     "output_type": "stream",
     "text": [
      "Epoch 8/100: 100%|██████████| 937/937 [01:47<00:00,  8.74it/s]\n"
     ]
    },
    {
     "name": "stdout",
     "output_type": "stream",
     "text": [
      "Epoch 8 Loss: 0.46177510511957187\n"
     ]
    },
    {
     "name": "stderr",
     "output_type": "stream",
     "text": [
      "Epoch 9/100: 100%|██████████| 937/937 [01:47<00:00,  8.73it/s]\n"
     ]
    },
    {
     "name": "stdout",
     "output_type": "stream",
     "text": [
      "Epoch 9 Loss: 0.4563845024430169\n"
     ]
    },
    {
     "name": "stderr",
     "output_type": "stream",
     "text": [
      "Epoch 10/100: 100%|██████████| 937/937 [01:47<00:00,  8.72it/s]\n"
     ]
    },
    {
     "name": "stdout",
     "output_type": "stream",
     "text": [
      "Epoch 10 Loss: 0.4524437232925\n"
     ]
    },
    {
     "name": "stderr",
     "output_type": "stream",
     "text": [
      "Epoch 11/100: 100%|██████████| 937/937 [01:47<00:00,  8.70it/s]\n"
     ]
    },
    {
     "name": "stdout",
     "output_type": "stream",
     "text": [
      "Epoch 11 Loss: 0.4486129771202517\n"
     ]
    },
    {
     "name": "stderr",
     "output_type": "stream",
     "text": [
      "Epoch 12/100: 100%|██████████| 937/937 [01:48<00:00,  8.62it/s]\n"
     ]
    },
    {
     "name": "stdout",
     "output_type": "stream",
     "text": [
      "Epoch 12 Loss: 0.445570039016152\n"
     ]
    },
    {
     "name": "stderr",
     "output_type": "stream",
     "text": [
      "Epoch 13/100: 100%|██████████| 937/937 [01:47<00:00,  8.74it/s]\n"
     ]
    },
    {
     "name": "stdout",
     "output_type": "stream",
     "text": [
      "Epoch 13 Loss: 0.4427941484839602\n"
     ]
    },
    {
     "name": "stderr",
     "output_type": "stream",
     "text": [
      "Epoch 14/100: 100%|██████████| 937/937 [01:47<00:00,  8.72it/s]\n"
     ]
    },
    {
     "name": "stdout",
     "output_type": "stream",
     "text": [
      "Epoch 14 Loss: 0.4403312723888995\n"
     ]
    },
    {
     "name": "stderr",
     "output_type": "stream",
     "text": [
      "Epoch 15/100: 100%|██████████| 937/937 [01:47<00:00,  8.72it/s]\n"
     ]
    },
    {
     "name": "stdout",
     "output_type": "stream",
     "text": [
      "Epoch 15 Loss: 0.43803032875897613\n"
     ]
    },
    {
     "name": "stderr",
     "output_type": "stream",
     "text": [
      "Epoch 16/100: 100%|██████████| 937/937 [01:48<00:00,  8.66it/s]\n"
     ]
    },
    {
     "name": "stdout",
     "output_type": "stream",
     "text": [
      "Epoch 16 Loss: 0.43661649321267937\n"
     ]
    },
    {
     "name": "stderr",
     "output_type": "stream",
     "text": [
      "Epoch 17/100: 100%|██████████| 937/937 [01:47<00:00,  8.71it/s]\n"
     ]
    },
    {
     "name": "stdout",
     "output_type": "stream",
     "text": [
      "Epoch 17 Loss: 0.4348006990212375\n"
     ]
    },
    {
     "name": "stderr",
     "output_type": "stream",
     "text": [
      "Epoch 18/100: 100%|██████████| 937/937 [01:47<00:00,  8.68it/s]\n"
     ]
    },
    {
     "name": "stdout",
     "output_type": "stream",
     "text": [
      "Epoch 18 Loss: 0.4330657026999795\n"
     ]
    },
    {
     "name": "stderr",
     "output_type": "stream",
     "text": [
      "Epoch 19/100: 100%|██████████| 937/937 [01:47<00:00,  8.72it/s]\n"
     ]
    },
    {
     "name": "stdout",
     "output_type": "stream",
     "text": [
      "Epoch 19 Loss: 0.431896042168339\n"
     ]
    },
    {
     "name": "stderr",
     "output_type": "stream",
     "text": [
      "Epoch 20/100: 100%|██████████| 937/937 [01:47<00:00,  8.74it/s]\n"
     ]
    },
    {
     "name": "stdout",
     "output_type": "stream",
     "text": [
      "Epoch 20 Loss: 0.4309019079971598\n"
     ]
    },
    {
     "name": "stderr",
     "output_type": "stream",
     "text": [
      "Epoch 21/100: 100%|██████████| 937/937 [01:47<00:00,  8.74it/s]\n"
     ]
    },
    {
     "name": "stdout",
     "output_type": "stream",
     "text": [
      "Epoch 21 Loss: 0.4298042487331804\n"
     ]
    },
    {
     "name": "stderr",
     "output_type": "stream",
     "text": [
      "Epoch 22/100: 100%|██████████| 937/937 [01:48<00:00,  8.60it/s]\n"
     ]
    },
    {
     "name": "stdout",
     "output_type": "stream",
     "text": [
      "Epoch 22 Loss: 0.4288768974507579\n"
     ]
    },
    {
     "name": "stderr",
     "output_type": "stream",
     "text": [
      "Epoch 23/100: 100%|██████████| 937/937 [01:48<00:00,  8.65it/s]\n"
     ]
    },
    {
     "name": "stdout",
     "output_type": "stream",
     "text": [
      "Epoch 23 Loss: 0.4278285747645687\n"
     ]
    },
    {
     "name": "stderr",
     "output_type": "stream",
     "text": [
      "Epoch 24/100: 100%|██████████| 937/937 [01:47<00:00,  8.76it/s]\n"
     ]
    },
    {
     "name": "stdout",
     "output_type": "stream",
     "text": [
      "Epoch 24 Loss: 0.42679978007238284\n"
     ]
    },
    {
     "name": "stderr",
     "output_type": "stream",
     "text": [
      "Epoch 25/100: 100%|██████████| 937/937 [01:47<00:00,  8.75it/s]\n"
     ]
    },
    {
     "name": "stdout",
     "output_type": "stream",
     "text": [
      "Epoch 25 Loss: 0.42600916958235835\n"
     ]
    },
    {
     "name": "stderr",
     "output_type": "stream",
     "text": [
      "Epoch 26/100: 100%|██████████| 937/937 [01:48<00:00,  8.67it/s]\n"
     ]
    },
    {
     "name": "stdout",
     "output_type": "stream",
     "text": [
      "Epoch 26 Loss: 0.42548296065868835\n"
     ]
    },
    {
     "name": "stderr",
     "output_type": "stream",
     "text": [
      "Epoch 27/100: 100%|██████████| 937/937 [01:48<00:00,  8.64it/s]\n"
     ]
    },
    {
     "name": "stdout",
     "output_type": "stream",
     "text": [
      "Epoch 27 Loss: 0.424960613335513\n"
     ]
    },
    {
     "name": "stderr",
     "output_type": "stream",
     "text": [
      "Epoch 28/100: 100%|██████████| 937/937 [01:47<00:00,  8.74it/s]\n"
     ]
    },
    {
     "name": "stdout",
     "output_type": "stream",
     "text": [
      "Epoch 28 Loss: 0.4245227702535748\n"
     ]
    },
    {
     "name": "stderr",
     "output_type": "stream",
     "text": [
      "Epoch 29/100: 100%|██████████| 937/937 [01:47<00:00,  8.74it/s]\n"
     ]
    },
    {
     "name": "stdout",
     "output_type": "stream",
     "text": [
      "Epoch 29 Loss: 0.423839010453762\n"
     ]
    },
    {
     "name": "stderr",
     "output_type": "stream",
     "text": [
      "Epoch 30/100: 100%|██████████| 937/937 [01:47<00:00,  8.72it/s]\n"
     ]
    },
    {
     "name": "stdout",
     "output_type": "stream",
     "text": [
      "Epoch 30 Loss: 0.4233646820309135\n"
     ]
    },
    {
     "name": "stderr",
     "output_type": "stream",
     "text": [
      "Epoch 31/100: 100%|██████████| 937/937 [01:47<00:00,  8.73it/s]\n"
     ]
    },
    {
     "name": "stdout",
     "output_type": "stream",
     "text": [
      "Epoch 31 Loss: 0.4228463727184462\n"
     ]
    },
    {
     "name": "stderr",
     "output_type": "stream",
     "text": [
      "Epoch 32/100: 100%|██████████| 937/937 [01:48<00:00,  8.65it/s]\n"
     ]
    },
    {
     "name": "stdout",
     "output_type": "stream",
     "text": [
      "Epoch 32 Loss: 0.42230661560473426\n"
     ]
    },
    {
     "name": "stderr",
     "output_type": "stream",
     "text": [
      "Epoch 33/100: 100%|██████████| 937/937 [01:49<00:00,  8.54it/s]\n"
     ]
    },
    {
     "name": "stdout",
     "output_type": "stream",
     "text": [
      "Epoch 33 Loss: 0.4219010122023218\n"
     ]
    },
    {
     "name": "stderr",
     "output_type": "stream",
     "text": [
      "Epoch 34/100: 100%|██████████| 937/937 [01:50<00:00,  8.48it/s]\n"
     ]
    },
    {
     "name": "stdout",
     "output_type": "stream",
     "text": [
      "Epoch 34 Loss: 0.42143723987064924\n"
     ]
    },
    {
     "name": "stderr",
     "output_type": "stream",
     "text": [
      "Epoch 35/100: 100%|██████████| 937/937 [01:54<00:00,  8.19it/s]\n"
     ]
    },
    {
     "name": "stdout",
     "output_type": "stream",
     "text": [
      "Epoch 35 Loss: 0.4212598354068818\n"
     ]
    },
    {
     "name": "stderr",
     "output_type": "stream",
     "text": [
      "Epoch 36/100: 100%|██████████| 937/937 [01:48<00:00,  8.62it/s]\n"
     ]
    },
    {
     "name": "stdout",
     "output_type": "stream",
     "text": [
      "Epoch 36 Loss: 0.42071040048634856\n"
     ]
    },
    {
     "name": "stderr",
     "output_type": "stream",
     "text": [
      "Epoch 37/100: 100%|██████████| 937/937 [01:49<00:00,  8.53it/s]\n"
     ]
    },
    {
     "name": "stdout",
     "output_type": "stream",
     "text": [
      "Epoch 37 Loss: 0.4205329136158952\n"
     ]
    },
    {
     "name": "stderr",
     "output_type": "stream",
     "text": [
      "Epoch 38/100: 100%|██████████| 937/937 [01:47<00:00,  8.73it/s]\n"
     ]
    },
    {
     "name": "stdout",
     "output_type": "stream",
     "text": [
      "Epoch 38 Loss: 0.42021071911199304\n"
     ]
    },
    {
     "name": "stderr",
     "output_type": "stream",
     "text": [
      "Epoch 39/100: 100%|██████████| 937/937 [01:47<00:00,  8.72it/s]\n"
     ]
    },
    {
     "name": "stdout",
     "output_type": "stream",
     "text": [
      "Epoch 39 Loss: 0.4198419552562701\n"
     ]
    },
    {
     "name": "stderr",
     "output_type": "stream",
     "text": [
      "Epoch 40/100: 100%|██████████| 937/937 [01:47<00:00,  8.73it/s]\n"
     ]
    },
    {
     "name": "stdout",
     "output_type": "stream",
     "text": [
      "Epoch 40 Loss: 0.4196829648257472\n"
     ]
    },
    {
     "name": "stderr",
     "output_type": "stream",
     "text": [
      "Epoch 41/100: 100%|██████████| 937/937 [01:47<00:00,  8.75it/s]\n"
     ]
    },
    {
     "name": "stdout",
     "output_type": "stream",
     "text": [
      "Epoch 41 Loss: 0.41932501088542495\n"
     ]
    },
    {
     "name": "stderr",
     "output_type": "stream",
     "text": [
      "Epoch 42/100: 100%|██████████| 937/937 [01:47<00:00,  8.68it/s]\n"
     ]
    },
    {
     "name": "stdout",
     "output_type": "stream",
     "text": [
      "Epoch 42 Loss: 0.4192799420818893\n"
     ]
    },
    {
     "name": "stderr",
     "output_type": "stream",
     "text": [
      "Epoch 43/100: 100%|██████████| 937/937 [01:47<00:00,  8.74it/s]\n"
     ]
    },
    {
     "name": "stdout",
     "output_type": "stream",
     "text": [
      "Epoch 43 Loss: 0.41896686855753895\n"
     ]
    },
    {
     "name": "stderr",
     "output_type": "stream",
     "text": [
      "Epoch 44/100: 100%|██████████| 937/937 [01:47<00:00,  8.74it/s]\n"
     ]
    },
    {
     "name": "stdout",
     "output_type": "stream",
     "text": [
      "Epoch 44 Loss: 0.41859435222121477\n"
     ]
    },
    {
     "name": "stderr",
     "output_type": "stream",
     "text": [
      "Epoch 45/100: 100%|██████████| 937/937 [01:47<00:00,  8.73it/s]\n"
     ]
    },
    {
     "name": "stdout",
     "output_type": "stream",
     "text": [
      "Epoch 45 Loss: 0.41826569439146954\n"
     ]
    },
    {
     "name": "stderr",
     "output_type": "stream",
     "text": [
      "Epoch 46/100: 100%|██████████| 937/937 [01:47<00:00,  8.72it/s]\n"
     ]
    },
    {
     "name": "stdout",
     "output_type": "stream",
     "text": [
      "Epoch 46 Loss: 0.41821560082762077\n"
     ]
    },
    {
     "name": "stderr",
     "output_type": "stream",
     "text": [
      "Epoch 47/100: 100%|██████████| 937/937 [01:47<00:00,  8.74it/s]\n"
     ]
    },
    {
     "name": "stdout",
     "output_type": "stream",
     "text": [
      "Epoch 47 Loss: 0.4179250357700389\n"
     ]
    },
    {
     "name": "stderr",
     "output_type": "stream",
     "text": [
      "Epoch 48/100: 100%|██████████| 937/937 [01:46<00:00,  8.77it/s]\n"
     ]
    },
    {
     "name": "stdout",
     "output_type": "stream",
     "text": [
      "Epoch 48 Loss: 0.41769353960857186\n"
     ]
    },
    {
     "name": "stderr",
     "output_type": "stream",
     "text": [
      "Epoch 49/100: 100%|██████████| 937/937 [01:47<00:00,  8.75it/s]\n"
     ]
    },
    {
     "name": "stdout",
     "output_type": "stream",
     "text": [
      "Epoch 49 Loss: 0.4174799959531165\n"
     ]
    },
    {
     "name": "stderr",
     "output_type": "stream",
     "text": [
      "Epoch 50/100: 100%|██████████| 937/937 [01:47<00:00,  8.74it/s]\n"
     ]
    },
    {
     "name": "stdout",
     "output_type": "stream",
     "text": [
      "Epoch 50 Loss: 0.41729329998860465\n"
     ]
    },
    {
     "name": "stderr",
     "output_type": "stream",
     "text": [
      "Epoch 51/100: 100%|██████████| 937/937 [01:47<00:00,  8.75it/s]\n"
     ]
    },
    {
     "name": "stdout",
     "output_type": "stream",
     "text": [
      "Epoch 51 Loss: 0.417192675302412\n"
     ]
    },
    {
     "name": "stderr",
     "output_type": "stream",
     "text": [
      "Epoch 52/100: 100%|██████████| 937/937 [01:48<00:00,  8.67it/s]\n"
     ]
    },
    {
     "name": "stdout",
     "output_type": "stream",
     "text": [
      "Epoch 52 Loss: 0.41710783262915785\n"
     ]
    },
    {
     "name": "stderr",
     "output_type": "stream",
     "text": [
      "Epoch 53/100: 100%|██████████| 937/937 [01:48<00:00,  8.67it/s]\n"
     ]
    },
    {
     "name": "stdout",
     "output_type": "stream",
     "text": [
      "Epoch 53 Loss: 0.4167709408418811\n"
     ]
    },
    {
     "name": "stderr",
     "output_type": "stream",
     "text": [
      "Epoch 54/100: 100%|██████████| 937/937 [01:47<00:00,  8.73it/s]\n"
     ]
    },
    {
     "name": "stdout",
     "output_type": "stream",
     "text": [
      "Epoch 54 Loss: 0.4165679280517641\n"
     ]
    },
    {
     "name": "stderr",
     "output_type": "stream",
     "text": [
      "Epoch 55/100: 100%|██████████| 937/937 [01:48<00:00,  8.60it/s]\n"
     ]
    },
    {
     "name": "stdout",
     "output_type": "stream",
     "text": [
      "Epoch 55 Loss: 0.41648133758163397\n"
     ]
    },
    {
     "name": "stderr",
     "output_type": "stream",
     "text": [
      "Epoch 56/100: 100%|██████████| 937/937 [01:49<00:00,  8.58it/s]\n"
     ]
    },
    {
     "name": "stdout",
     "output_type": "stream",
     "text": [
      "Epoch 56 Loss: 0.4162555325193538\n"
     ]
    },
    {
     "name": "stderr",
     "output_type": "stream",
     "text": [
      "Epoch 57/100: 100%|██████████| 937/937 [01:46<00:00,  8.76it/s]\n"
     ]
    },
    {
     "name": "stdout",
     "output_type": "stream",
     "text": [
      "Epoch 57 Loss: 0.4164065144086587\n",
      "EarlyStopper Triggered:  1\n"
     ]
    },
    {
     "name": "stderr",
     "output_type": "stream",
     "text": [
      "Epoch 58/100: 100%|██████████| 937/937 [01:47<00:00,  8.73it/s]\n"
     ]
    },
    {
     "name": "stdout",
     "output_type": "stream",
     "text": [
      "Epoch 58 Loss: 0.41589712993269856\n"
     ]
    },
    {
     "name": "stderr",
     "output_type": "stream",
     "text": [
      "Epoch 59/100: 100%|██████████| 937/937 [01:47<00:00,  8.71it/s]\n"
     ]
    },
    {
     "name": "stdout",
     "output_type": "stream",
     "text": [
      "Epoch 59 Loss: 0.4158331789792479\n"
     ]
    },
    {
     "name": "stderr",
     "output_type": "stream",
     "text": [
      "Epoch 60/100: 100%|██████████| 937/937 [01:47<00:00,  8.74it/s]\n"
     ]
    },
    {
     "name": "stdout",
     "output_type": "stream",
     "text": [
      "Epoch 60 Loss: 0.41578016445224786\n"
     ]
    },
    {
     "name": "stderr",
     "output_type": "stream",
     "text": [
      "Epoch 61/100: 100%|██████████| 937/937 [01:47<00:00,  8.74it/s]\n"
     ]
    },
    {
     "name": "stdout",
     "output_type": "stream",
     "text": [
      "Epoch 61 Loss: 0.41557412818146056\n"
     ]
    },
    {
     "name": "stderr",
     "output_type": "stream",
     "text": [
      "Epoch 62/100: 100%|██████████| 937/937 [01:47<00:00,  8.71it/s]\n"
     ]
    },
    {
     "name": "stdout",
     "output_type": "stream",
     "text": [
      "Epoch 62 Loss: 0.41541762687273465\n"
     ]
    },
    {
     "name": "stderr",
     "output_type": "stream",
     "text": [
      "Epoch 63/100: 100%|██████████| 937/937 [01:47<00:00,  8.72it/s]\n"
     ]
    },
    {
     "name": "stdout",
     "output_type": "stream",
     "text": [
      "Epoch 63 Loss: 0.41538820235590335\n"
     ]
    },
    {
     "name": "stderr",
     "output_type": "stream",
     "text": [
      "Epoch 64/100: 100%|██████████| 937/937 [01:48<00:00,  8.63it/s]\n"
     ]
    },
    {
     "name": "stdout",
     "output_type": "stream",
     "text": [
      "Epoch 64 Loss: 0.4154048346724912\n",
      "EarlyStopper Triggered:  1\n"
     ]
    },
    {
     "name": "stderr",
     "output_type": "stream",
     "text": [
      "Epoch 65/100: 100%|██████████| 937/937 [01:47<00:00,  8.72it/s]\n"
     ]
    },
    {
     "name": "stdout",
     "output_type": "stream",
     "text": [
      "Epoch 65 Loss: 0.415226163403391\n"
     ]
    },
    {
     "name": "stderr",
     "output_type": "stream",
     "text": [
      "Epoch 66/100: 100%|██████████| 937/937 [01:47<00:00,  8.73it/s]\n"
     ]
    },
    {
     "name": "stdout",
     "output_type": "stream",
     "text": [
      "Epoch 66 Loss: 0.4149313940775236\n"
     ]
    },
    {
     "name": "stderr",
     "output_type": "stream",
     "text": [
      "Epoch 67/100: 100%|██████████| 937/937 [01:48<00:00,  8.60it/s]\n"
     ]
    },
    {
     "name": "stdout",
     "output_type": "stream",
     "text": [
      "Epoch 67 Loss: 0.41492516799216334\n"
     ]
    },
    {
     "name": "stderr",
     "output_type": "stream",
     "text": [
      "Epoch 68/100: 100%|██████████| 937/937 [01:50<00:00,  8.52it/s]\n"
     ]
    },
    {
     "name": "stdout",
     "output_type": "stream",
     "text": [
      "Epoch 68 Loss: 0.41490730055979536\n"
     ]
    },
    {
     "name": "stderr",
     "output_type": "stream",
     "text": [
      "Epoch 69/100: 100%|██████████| 937/937 [01:47<00:00,  8.74it/s]\n"
     ]
    },
    {
     "name": "stdout",
     "output_type": "stream",
     "text": [
      "Epoch 69 Loss: 0.41469884136054974\n"
     ]
    },
    {
     "name": "stderr",
     "output_type": "stream",
     "text": [
      "Epoch 70/100: 100%|██████████| 937/937 [01:48<00:00,  8.67it/s]\n"
     ]
    },
    {
     "name": "stdout",
     "output_type": "stream",
     "text": [
      "Epoch 70 Loss: 0.41463497865803156\n"
     ]
    },
    {
     "name": "stderr",
     "output_type": "stream",
     "text": [
      "Epoch 71/100: 100%|██████████| 937/937 [01:47<00:00,  8.72it/s]\n"
     ]
    },
    {
     "name": "stdout",
     "output_type": "stream",
     "text": [
      "Epoch 71 Loss: 0.4145394455812586\n"
     ]
    },
    {
     "name": "stderr",
     "output_type": "stream",
     "text": [
      "Epoch 72/100: 100%|██████████| 937/937 [01:52<00:00,  8.35it/s]\n"
     ]
    },
    {
     "name": "stdout",
     "output_type": "stream",
     "text": [
      "Epoch 72 Loss: 0.4145177143681521\n"
     ]
    },
    {
     "name": "stderr",
     "output_type": "stream",
     "text": [
      "Epoch 73/100: 100%|██████████| 937/937 [01:50<00:00,  8.51it/s]\n"
     ]
    },
    {
     "name": "stdout",
     "output_type": "stream",
     "text": [
      "Epoch 73 Loss: 0.4144047882022356\n"
     ]
    },
    {
     "name": "stderr",
     "output_type": "stream",
     "text": [
      "Epoch 74/100: 100%|██████████| 937/937 [01:47<00:00,  8.74it/s]\n"
     ]
    },
    {
     "name": "stdout",
     "output_type": "stream",
     "text": [
      "Epoch 74 Loss: 0.41439955953519914\n"
     ]
    },
    {
     "name": "stderr",
     "output_type": "stream",
     "text": [
      "Epoch 75/100: 100%|██████████| 937/937 [01:48<00:00,  8.63it/s]\n"
     ]
    },
    {
     "name": "stdout",
     "output_type": "stream",
     "text": [
      "Epoch 75 Loss: 0.4143336868940418\n"
     ]
    },
    {
     "name": "stderr",
     "output_type": "stream",
     "text": [
      "Epoch 76/100: 100%|██████████| 937/937 [01:49<00:00,  8.56it/s]\n"
     ]
    },
    {
     "name": "stdout",
     "output_type": "stream",
     "text": [
      "Epoch 76 Loss: 0.4140684766452292\n"
     ]
    },
    {
     "name": "stderr",
     "output_type": "stream",
     "text": [
      "Epoch 77/100: 100%|██████████| 937/937 [01:48<00:00,  8.65it/s]\n"
     ]
    },
    {
     "name": "stdout",
     "output_type": "stream",
     "text": [
      "Epoch 77 Loss: 0.4142279799825785\n",
      "EarlyStopper Triggered:  1\n"
     ]
    },
    {
     "name": "stderr",
     "output_type": "stream",
     "text": [
      "Epoch 78/100: 100%|██████████| 937/937 [01:47<00:00,  8.72it/s]\n"
     ]
    },
    {
     "name": "stdout",
     "output_type": "stream",
     "text": [
      "Epoch 78 Loss: 0.41405897764012956\n"
     ]
    },
    {
     "name": "stderr",
     "output_type": "stream",
     "text": [
      "Epoch 79/100: 100%|██████████| 937/937 [01:47<00:00,  8.73it/s]\n"
     ]
    },
    {
     "name": "stdout",
     "output_type": "stream",
     "text": [
      "Epoch 79 Loss: 0.4139713723390715\n"
     ]
    },
    {
     "name": "stderr",
     "output_type": "stream",
     "text": [
      "Epoch 80/100: 100%|██████████| 937/937 [01:47<00:00,  8.74it/s]\n"
     ]
    },
    {
     "name": "stdout",
     "output_type": "stream",
     "text": [
      "Epoch 80 Loss: 0.4139348268014228\n"
     ]
    },
    {
     "name": "stderr",
     "output_type": "stream",
     "text": [
      "Epoch 81/100: 100%|██████████| 937/937 [01:47<00:00,  8.73it/s]\n"
     ]
    },
    {
     "name": "stdout",
     "output_type": "stream",
     "text": [
      "Epoch 81 Loss: 0.4140163748609227\n",
      "EarlyStopper Triggered:  1\n"
     ]
    },
    {
     "name": "stderr",
     "output_type": "stream",
     "text": [
      "Epoch 82/100: 100%|██████████| 937/937 [01:47<00:00,  8.74it/s]\n"
     ]
    },
    {
     "name": "stdout",
     "output_type": "stream",
     "text": [
      "Epoch 82 Loss: 0.4138047696438898\n"
     ]
    },
    {
     "name": "stderr",
     "output_type": "stream",
     "text": [
      "Epoch 83/100: 100%|██████████| 937/937 [01:47<00:00,  8.75it/s]\n"
     ]
    },
    {
     "name": "stdout",
     "output_type": "stream",
     "text": [
      "Epoch 83 Loss: 0.41390139750312993\n",
      "EarlyStopper Triggered:  1\n"
     ]
    },
    {
     "name": "stderr",
     "output_type": "stream",
     "text": [
      "Epoch 84/100: 100%|██████████| 937/937 [01:48<00:00,  8.66it/s]\n"
     ]
    },
    {
     "name": "stdout",
     "output_type": "stream",
     "text": [
      "Epoch 84 Loss: 0.4136982355723048\n"
     ]
    },
    {
     "name": "stderr",
     "output_type": "stream",
     "text": [
      "Epoch 85/100: 100%|██████████| 937/937 [01:48<00:00,  8.66it/s]\n"
     ]
    },
    {
     "name": "stdout",
     "output_type": "stream",
     "text": [
      "Epoch 85 Loss: 0.41375727023138176\n",
      "EarlyStopper Triggered:  1\n"
     ]
    },
    {
     "name": "stderr",
     "output_type": "stream",
     "text": [
      "Epoch 86/100: 100%|██████████| 937/937 [01:47<00:00,  8.74it/s]\n"
     ]
    },
    {
     "name": "stdout",
     "output_type": "stream",
     "text": [
      "Epoch 86 Loss: 0.4136550326732836\n"
     ]
    },
    {
     "name": "stderr",
     "output_type": "stream",
     "text": [
      "Epoch 87/100: 100%|██████████| 937/937 [01:48<00:00,  8.65it/s]\n"
     ]
    },
    {
     "name": "stdout",
     "output_type": "stream",
     "text": [
      "Epoch 87 Loss: 0.41372438377304194\n",
      "EarlyStopper Triggered:  1\n"
     ]
    },
    {
     "name": "stderr",
     "output_type": "stream",
     "text": [
      "Epoch 88/100: 100%|██████████| 937/937 [01:49<00:00,  8.53it/s]\n"
     ]
    },
    {
     "name": "stdout",
     "output_type": "stream",
     "text": [
      "Epoch 88 Loss: 0.41362870308034966\n"
     ]
    },
    {
     "name": "stderr",
     "output_type": "stream",
     "text": [
      "Epoch 89/100: 100%|██████████| 937/937 [01:50<00:00,  8.49it/s]\n"
     ]
    },
    {
     "name": "stdout",
     "output_type": "stream",
     "text": [
      "Epoch 89 Loss: 0.4136366270949494\n",
      "EarlyStopper Triggered:  1\n"
     ]
    },
    {
     "name": "stderr",
     "output_type": "stream",
     "text": [
      "Epoch 90/100: 100%|██████████| 937/937 [01:47<00:00,  8.75it/s]\n"
     ]
    },
    {
     "name": "stdout",
     "output_type": "stream",
     "text": [
      "Epoch 90 Loss: 0.4134037039749806\n"
     ]
    },
    {
     "name": "stderr",
     "output_type": "stream",
     "text": [
      "Epoch 91/100: 100%|██████████| 937/937 [01:47<00:00,  8.74it/s]\n"
     ]
    },
    {
     "name": "stdout",
     "output_type": "stream",
     "text": [
      "Epoch 91 Loss: 0.4134909354961605\n",
      "EarlyStopper Triggered:  1\n"
     ]
    },
    {
     "name": "stderr",
     "output_type": "stream",
     "text": [
      "Epoch 92/100: 100%|██████████| 937/937 [01:47<00:00,  8.74it/s]\n"
     ]
    },
    {
     "name": "stdout",
     "output_type": "stream",
     "text": [
      "Epoch 92 Loss: 0.41333649911800924\n"
     ]
    },
    {
     "name": "stderr",
     "output_type": "stream",
     "text": [
      "Epoch 93/100: 100%|██████████| 937/937 [01:47<00:00,  8.73it/s]\n"
     ]
    },
    {
     "name": "stdout",
     "output_type": "stream",
     "text": [
      "Epoch 93 Loss: 0.4133455393116695\n",
      "EarlyStopper Triggered:  1\n"
     ]
    },
    {
     "name": "stderr",
     "output_type": "stream",
     "text": [
      "Epoch 94/100: 100%|██████████| 937/937 [01:47<00:00,  8.72it/s]\n"
     ]
    },
    {
     "name": "stdout",
     "output_type": "stream",
     "text": [
      "Epoch 94 Loss: 0.4132178517744018\n"
     ]
    },
    {
     "name": "stderr",
     "output_type": "stream",
     "text": [
      "Epoch 95/100: 100%|██████████| 937/937 [01:47<00:00,  8.75it/s]\n"
     ]
    },
    {
     "name": "stdout",
     "output_type": "stream",
     "text": [
      "Epoch 95 Loss: 0.4133525946891029\n",
      "EarlyStopper Triggered:  1\n"
     ]
    },
    {
     "name": "stderr",
     "output_type": "stream",
     "text": [
      "Epoch 96/100: 100%|██████████| 937/937 [01:46<00:00,  8.76it/s]\n"
     ]
    },
    {
     "name": "stdout",
     "output_type": "stream",
     "text": [
      "Epoch 96 Loss: 0.4133783076754085\n",
      "EarlyStopper Triggered:  2\n"
     ]
    },
    {
     "name": "stderr",
     "output_type": "stream",
     "text": [
      "Epoch 97/100: 100%|██████████| 937/937 [01:48<00:00,  8.63it/s]\n"
     ]
    },
    {
     "name": "stdout",
     "output_type": "stream",
     "text": [
      "Epoch 97 Loss: 0.41318620669819967\n"
     ]
    },
    {
     "name": "stderr",
     "output_type": "stream",
     "text": [
      "Epoch 98/100: 100%|██████████| 937/937 [01:47<00:00,  8.71it/s]\n"
     ]
    },
    {
     "name": "stdout",
     "output_type": "stream",
     "text": [
      "Epoch 98 Loss: 0.41314048568504774\n"
     ]
    },
    {
     "name": "stderr",
     "output_type": "stream",
     "text": [
      "Epoch 99/100: 100%|██████████| 937/937 [01:49<00:00,  8.58it/s]\n"
     ]
    },
    {
     "name": "stdout",
     "output_type": "stream",
     "text": [
      "Epoch 99 Loss: 0.4131232339963033\n"
     ]
    },
    {
     "name": "stderr",
     "output_type": "stream",
     "text": [
      "Epoch 100/100: 100%|██████████| 937/937 [01:48<00:00,  8.66it/s]\n"
     ]
    },
    {
     "name": "stdout",
     "output_type": "stream",
     "text": [
      "Epoch 100 Loss: 0.41323426865888074\n",
      "EarlyStopper Triggered:  1\n",
      "All models processed.\n"
     ]
    }
   ],
   "source": [
    "# initialize Hydra with the config path and job name\n",
    "with initialize(version_base=None, config_path=\"config\", job_name=\"ExpLogic\"):\n",
    "    cfg = compose(config_name=f\"{dataset_name}_config_{shape[0]}x{shape[0]}\")\n",
    "\n",
    "# training loop for all models\n",
    "all_models_dict = {}\n",
    "num_epochs = 100\n",
    "file_path = f'{dataset_name}_trained_models' # where to save your trained models\n",
    "\n",
    "# loops through all model configs and trains each of them\n",
    "for model_name, model_cfg in cfg.models.items():\n",
    "    print(f'training model {model_name}')\n",
    "\n",
    "    # tracking dictionary\n",
    "    all_models_dict[model_name] = {\n",
    "        'losses': [],\n",
    "    }\n",
    "\n",
    "    # initializes DiffLogic model and moves to CUDA if available\n",
    "    model = DiffLogic(layers_config=model_cfg['layers_config'], \n",
    "                      output_size=model_cfg['output_size'], \n",
    "                      tau=model_cfg['tau']).to('cuda' if torch.cuda.is_available() else 'cpu')\n",
    "\n",
    "    # wraps the model with DataParallel to distribute workload across GPUs \n",
    "    #model = torch.nn.DataParallel(model)\n",
    "    \n",
    "    # optimizer and loss criterion\n",
    "    optimizer = torch.optim.Adam(model.parameters(), lr=model_cfg['learning_rate'])\n",
    "    criterion = nn.CrossEntropyLoss()\n",
    "\n",
    "    # early stopping\n",
    "    early_stopper = EarlyStopper(patience=5)\n",
    "\n",
    "    print('model', model)\n",
    "\n",
    "    for epoch in range(num_epochs):\n",
    "        loop = tqdm(train_loader, leave=True, desc=f'Epoch {epoch+1}/{num_epochs}')\n",
    "        epoch_loss = 0  # to track loss for an epoch            \n",
    "\n",
    "        for batch_inputs, batch_outputs in loop:\n",
    "            # move data to the appropriate device\n",
    "            device = 'cuda' if torch.cuda.is_available() else 'cpu'\n",
    "            batch_inputs, batch_outputs = batch_inputs.to(device).double(), batch_outputs.to(device).long()\n",
    "\n",
    "            # forward pass through the model\n",
    "            predictions = model(batch_inputs)  \n",
    "                        \n",
    "            loss = criterion(predictions, batch_outputs)\n",
    "            \n",
    "            # zero gradients, backpropagates, and updates model parameters\n",
    "            optimizer.zero_grad()\n",
    "            loss.backward()\n",
    "            optimizer.step()\n",
    "            \n",
    "            # accumulating the loss for the epoch\n",
    "            epoch_loss += loss.item()\n",
    "\n",
    "        # caclulating the average loss for the epoch\n",
    "        epoch_loss /= len(train_loader)\n",
    "        all_models_dict[model_name]['losses'].append(epoch_loss)\n",
    "        print(f'Epoch {epoch+1} Loss: {epoch_loss}')\n",
    "\n",
    "        # checks for early stopping\n",
    "        if early_stopper.should_stop(epoch_loss):\n",
    "            print(f\"Early stopping triggered for {model_name} at epoch {epoch+1}.\")\n",
    "            break\n",
    "\n",
    "    # saving trained model's state\n",
    "    model.save(file_path, model_name)\n",
    "\n",
    "print(\"All models processed.\")"
   ]
  },
  {
   "cell_type": "markdown",
   "id": "1d28a834-adac-4241-83a4-d9a23ac17db5",
   "metadata": {
    "jp-MarkdownHeadingCollapsed": true,
    "tags": []
   },
   "source": [
    "#### **Model Testing**"
   ]
  },
  {
   "cell_type": "code",
   "execution_count": 12,
   "id": "33048f62-fc21-4f87-b725-6eb470a66700",
   "metadata": {
    "tags": []
   },
   "outputs": [
    {
     "name": "stdout",
     "output_type": "stream",
     "text": [
      "LogicLayer(784, 5000, train)\n",
      "LogicLayer(5000, 5000, train)\n",
      "Evaluating model_001.pth...\n"
     ]
    },
    {
     "name": "stderr",
     "output_type": "stream",
     "text": [
      "Running Inference: 100%|██████████| 156/156 [00:19<00:00,  7.83it/s]"
     ]
    },
    {
     "name": "stdout",
     "output_type": "stream",
     "text": [
      "Accuracy of model_001.pth: 82.19%\n",
      "\n"
     ]
    },
    {
     "name": "stderr",
     "output_type": "stream",
     "text": [
      "\n"
     ]
    }
   ],
   "source": [
    "# testing loop to test inferences\n",
    "trained_models_dir = f'{dataset_name}_trained_models/'\n",
    "\n",
    "# retrieves a list of all model files in the directory\n",
    "model_files = sorted([f for f in os.listdir(trained_models_dir) if f.endswith('.pth')])\n",
    "\n",
    "with initialize(version_base=None, config_path=\"config\", job_name=\"ExpLogic_Test\"):\n",
    "    cfg = compose(config_name=f\"{dataset_name}_config_{shape[0]}x{shape[0]}\")\n",
    "\n",
    "# dictionary to store the trained models\n",
    "trained_models = {}\n",
    "trained_models_accuracies = {}\n",
    "\n",
    "# loops through all model files and calculates their accuracies\n",
    "for i, model_file in enumerate(model_files):\n",
    "    if model_file.endswith('_weights.pth'):\n",
    "        model_name = model_file.removesuffix('_weights.pth')\n",
    "    else:\n",
    "        model_name = model_file.removesuffix('.pth')\n",
    "    if model_name in cfg['models'].keys(): \n",
    "        model_cfg = cfg['models'][model_name]\n",
    "\n",
    "        # instantiates the model and load its weights\n",
    "        model = DiffLogic(layers_config=model_cfg['layers_config'], \n",
    "                              output_size=model_cfg['output_size'], \n",
    "                              tau=model_cfg['tau']).to('cuda' if torch.cuda.is_available() else 'cpu')\n",
    "\n",
    "        model_path = os.path.join(trained_models_dir, model_file)\n",
    "        print(f\"Evaluating {model_file}...\")\n",
    "\n",
    "        # loads the respective model\n",
    "        model.load(model_path)\n",
    "\n",
    "        # calculates accuracy\n",
    "        accuracy = model.get_accuracy(test_loader)\n",
    "\n",
    "        print(f\"Accuracy of {model_file}: {accuracy * 100:.2f}%\\n\")\n",
    "\n",
    "        trained_models[i] = model\n",
    "        trained_models_accuracies[i] = accuracy"
   ]
  },
  {
   "cell_type": "markdown",
   "id": "ccc15d31-2d9b-42f4-8d07-039e9c972871",
   "metadata": {
    "jp-MarkdownHeadingCollapsed": true,
    "tags": []
   },
   "source": [
    "### **Switching Probability**"
   ]
  },
  {
   "cell_type": "markdown",
   "id": "c3b9a937-516e-4129-9a43-7b9b3a2897dc",
   "metadata": {},
   "source": [
    "Loading a specific model, mainly so that you can load the model without having to run inference"
   ]
  },
  {
   "cell_type": "code",
   "execution_count": 12,
   "id": "86ccefeb-b4d9-49eb-ae57-33be4353787c",
   "metadata": {
    "tags": []
   },
   "outputs": [],
   "source": [
    "model_name = 'model_001'"
   ]
  },
  {
   "cell_type": "code",
   "execution_count": 13,
   "id": "d53daa41-13d2-4f4c-b089-061200595216",
   "metadata": {
    "tags": []
   },
   "outputs": [
    {
     "name": "stdout",
     "output_type": "stream",
     "text": [
      "LogicLayer(784, 5000, train)\n",
      "LogicLayer(5000, 5000, train)\n"
     ]
    }
   ],
   "source": [
    "trained_models_dir = f'{dataset_name}_trained_models/'\n",
    "\n",
    "with initialize(version_base=None, config_path=\"config\", job_name=\"ExpLogic_Test\"):\n",
    "    model_cfg = compose(config_name=f\"{dataset_name}_config_{shape[0]}x{shape[0]}\")\n",
    "\n",
    "model_cfg = model_cfg['models'][model_name]\n",
    "\n",
    "model = DiffLogic(layers_config=model_cfg['layers_config'], \n",
    "    output_size=model_cfg['output_size'], \n",
    "    tau=model_cfg['tau']).to('cuda' if torch.cuda.is_available() else 'cpu')    \n",
    "\n",
    "model_path = os.path.join(trained_models_dir, model_name + \".pth\")\n",
    "model.load(model_path)"
   ]
  },
  {
   "cell_type": "markdown",
   "id": "decdce79-f993-4a5c-81d1-f0e5b64be619",
   "metadata": {},
   "source": [
    "Converting DiffLogic to LogicGraph"
   ]
  },
  {
   "cell_type": "code",
   "execution_count": 14,
   "id": "1f72fa04-489d-4d62-98c0-fd2b9323c677",
   "metadata": {
    "tags": []
   },
   "outputs": [
    {
     "name": "stdout",
     "output_type": "stream",
     "text": [
      "Creating LogicGraph\n"
     ]
    },
    {
     "name": "stderr",
     "output_type": "stream",
     "text": [
      "Processing images: 100%|██████████| 19/19 [00:20<00:00,  1.10s/it]\n"
     ]
    }
   ],
   "source": [
    "import LogicGraph as lg \n",
    "import importlib as lib\n",
    "lg = lib.reload(lg)\n",
    "\n",
    "print(\"Creating LogicGraph\")\n",
    "gall = lg.LogicGraph(model)\n",
    "\n",
    "gall.compute_sf(test_loader)\n",
    "gall.compute_sp(np.ones((shape[0],shape[1]))-0.5)\n",
    "\n",
    "# Example of accessing the gate type per edge\n",
    "#gall.edges()[('L1_N576', 'L2_N1210')][\"ab\"]"
   ]
  },
  {
   "cell_type": "markdown",
   "id": "0efa6880-2f52-43fd-9af4-9e87f8f48231",
   "metadata": {},
   "source": [
    "#### **Difference of SP for Individual Classes**"
   ]
  },
  {
   "cell_type": "markdown",
   "id": "ac70e7db-e9f7-400d-998f-79e7773da32d",
   "metadata": {},
   "source": [
    "Find the TP, TN, FP, FN instances, and use this to create sub-datasets for specific cases \n",
    "(NOTE: This section will take some time to run)\n",
    "\n",
    "If you get stuck trying to run the following, restart the kernel and set \"saved\" to True"
   ]
  },
  {
   "cell_type": "code",
   "execution_count": 15,
   "id": "e49baa9a-7316-47aa-a3d5-c73c0de8a11e",
   "metadata": {
    "tags": []
   },
   "outputs": [
    {
     "name": "stdout",
     "output_type": "stream",
     "text": [
      "Loading saved datasets...\n",
      "All datasets loaded.\n"
     ]
    }
   ],
   "source": [
    "saved = True  # Set to True after the first successful run\n",
    "\n",
    "# Define file paths for saving data\n",
    "train_data_file = \"train_data.pkl\"\n",
    "test_data_file = \"test_data.pkl\"\n",
    "\n",
    "# Function to save data\n",
    "def pkl_save(data, file_path):\n",
    "    with open(file_path, \"wb\") as f:\n",
    "        pickle.dump(data, f)\n",
    "\n",
    "# Function to load data\n",
    "def pkl_load(file_path):\n",
    "    with open(file_path, \"rb\") as f:\n",
    "        return pickle.load(f)\n",
    "\n",
    "def predict_and_categorize(model, data_loader):\n",
    "    all_images      = []\n",
    "    all_labels      = []\n",
    "    all_predictions = []\n",
    "\n",
    "    # Ensure model is in evaluation mode\n",
    "    model.eval()\n",
    "    with torch.no_grad():  # Disable gradient calculation for inference\n",
    "        for batch_inputs, batch_outputs in tqdm(data_loader, desc=\"Predicting\"):\n",
    "            batch_inputs, batch_outputs = batch_inputs.to('cuda'), batch_outputs.to('cuda')\n",
    "\n",
    "            # Forward pass to get predictions\n",
    "            outputs = model(batch_inputs.float())\n",
    "\n",
    "            # Get the predicted class (index of the maximum logit)\n",
    "            _, predicted = torch.max(outputs.data, 1)\n",
    "\n",
    "            all_images.append(batch_inputs.cpu())\n",
    "            all_labels.append(batch_outputs.cpu())\n",
    "            all_predictions.append(predicted.cpu())\n",
    "\n",
    "    all_images = torch.cat(all_images)\n",
    "    all_labels = torch.cat(all_labels)\n",
    "    all_predictions = torch.cat(all_predictions)\n",
    "\n",
    "    return all_images, all_labels, all_predictions\n",
    "\n",
    "# Check if data is already saved\n",
    "if saved and os.path.exists(train_data_file) and os.path.exists(test_data_file):\n",
    "    print(\"Loading saved datasets...\")\n",
    "    train_data = pkl_load(train_data_file)\n",
    "    test_data = pkl_load(test_data_file)\n",
    "    all_images_train, all_labels_train, all_predictions_train = train_data\n",
    "    all_images_test, all_labels_test, all_predictions_test = test_data\n",
    "    print(\"All datasets loaded.\")\n",
    "else:\n",
    "    print(\"Processing datasets...\")\n",
    "    # Predict and categorize\n",
    "    all_images_train, all_labels_train, all_predictions_train = predict_and_categorize(model, train_loader)\n",
    "    all_images_test, all_labels_test, all_predictions_test = predict_and_categorize(model, test_loader)\n",
    "    \n",
    "    # Save the results for future use\n",
    "    pkl_save((all_images_train, all_labels_train, all_predictions_train), train_data_file)\n",
    "    pkl_save((all_images_test, all_labels_test, all_predictions_test), test_data_file)\n",
    "    saved = True"
   ]
  },
  {
   "cell_type": "code",
   "execution_count": 16,
   "id": "9f8060b6-5b50-4555-a4fd-528212adee4c",
   "metadata": {
    "tags": []
   },
   "outputs": [],
   "source": [
    "# Create TN/TP/FN/FP datasets\n",
    "general_datasets        = subset.create_tn_tp_fn_fp_datasets(all_images_train, all_labels_train, all_predictions_train)\n",
    "class_specific_datasets = subset.create_class_specific_datasets(all_images_train, all_labels_train, all_predictions_train)"
   ]
  },
  {
   "cell_type": "code",
   "execution_count": 17,
   "id": "5589163e-f4a1-4d34-8af9-347a2cc1096e",
   "metadata": {
    "tags": []
   },
   "outputs": [],
   "source": [
    "# For the general TN, TP, FN, FP datasets:\n",
    "t_dataset = DataLoader(general_datasets['T'],batch_size=batch_size, shuffle=True, pin_memory=True, drop_last=True)\n",
    "f_dataset = DataLoader(general_datasets['F'],batch_size=batch_size, shuffle=True, pin_memory=True, drop_last=True)\n",
    "\n",
    "# For class-specific datasets (e.g., for class 5):\n",
    "for i in range(10): \n",
    "    class_specific_datasets['TP_class'][i] = DataLoader(class_specific_datasets['TP_class'][i],batch_size=batch_size, shuffle=True, pin_memory=True, drop_last=True)\n",
    "    class_specific_datasets['FP_class'][i] = DataLoader(class_specific_datasets['FP_class'][i],batch_size=batch_size, shuffle=True, pin_memory=True, drop_last=True)\n",
    "    class_specific_datasets['TN_class'][i] = DataLoader(class_specific_datasets['TN_class'][i],batch_size=batch_size, shuffle=True, pin_memory=True, drop_last=True)\n",
    "    class_specific_datasets['FN_class'][i] = DataLoader(class_specific_datasets['FN_class'][i],batch_size=batch_size, shuffle=True, pin_memory=True, drop_last=True)"
   ]
  },
  {
   "cell_type": "markdown",
   "id": "1283f3f3-ef17-4774-a590-02489ad2d667",
   "metadata": {},
   "source": [
    "Class Specific Differences"
   ]
  },
  {
   "cell_type": "markdown",
   "id": "ebc3f41c-8a1c-453a-ba3b-8a0920ebaf33",
   "metadata": {},
   "source": [
    "(This may take a substantial amount of time)"
   ]
  },
  {
   "cell_type": "code",
   "execution_count": 18,
   "id": "45977e13-b5f4-4413-81c0-a46ae52718a0",
   "metadata": {
    "tags": []
   },
   "outputs": [],
   "source": [
    "# Create class-specific data loaders for training and testing sets\n",
    "train_class_loaders = subset.create_class_dataloaders(train_dataset, batch_size)\n",
    "test_class_loaders  = subset.create_class_dataloaders(test_dataset,  batch_size)"
   ]
  },
  {
   "cell_type": "code",
   "execution_count": 19,
   "id": "3cca78da-be99-405f-86d3-2087cc506b6b",
   "metadata": {
    "tags": []
   },
   "outputs": [],
   "source": [
    "outputs = [f\"L3_N0\", f\"L3_N1\", f\"L3_N2\", f\"L3_N3\", f\"L3_N4\", f\"L3_N5\", f\"L3_N6\", f\"L3_N7\", f\"L3_N8\", f\"L3_N9\"]\n",
    "\n",
    "p_maps = []\n",
    "sp_graphs = [] \n",
    "sp_diffs = [] \n",
    "for j, output_node in enumerate(outputs): \n",
    "    p_maps.append(cv2.imread(f\"{dataset_name}_averages/average_{j}.png\")[4:24,4:24,1]/255)\n",
    "    sp_graph  = copy.deepcopy(gall)\n",
    "    sp_graph.compute_sp(p_maps[j])\n",
    "    sp_graphs.append(sp_graph)\n",
    "    sp_diffs.append(sp_graph.sub_sp(gall))"
   ]
  },
  {
   "cell_type": "code",
   "execution_count": 20,
   "id": "bfd6f2cf-4c04-48d5-8c02-6edca5c61962",
   "metadata": {
    "tags": []
   },
   "outputs": [
    {
     "name": "stdout",
     "output_type": "stream",
     "text": [
      "Class 0\n"
     ]
    },
    {
     "name": "stderr",
     "output_type": "stream",
     "text": [
      "Processing images: 100%|██████████| 11/11 [00:11<00:00,  1.05s/it]\n"
     ]
    },
    {
     "name": "stdout",
     "output_type": "stream",
     "text": [
      "Class 1\n"
     ]
    },
    {
     "name": "stderr",
     "output_type": "stream",
     "text": [
      "Processing images: 100%|██████████| 11/11 [00:11<00:00,  1.08s/it]\n"
     ]
    },
    {
     "name": "stdout",
     "output_type": "stream",
     "text": [
      "Class 2\n"
     ]
    },
    {
     "name": "stderr",
     "output_type": "stream",
     "text": [
      "Processing images: 100%|██████████| 11/11 [00:12<00:00,  1.13s/it]\n"
     ]
    },
    {
     "name": "stdout",
     "output_type": "stream",
     "text": [
      "Class 3\n"
     ]
    },
    {
     "name": "stderr",
     "output_type": "stream",
     "text": [
      "Processing images: 100%|██████████| 11/11 [00:11<00:00,  1.03s/it]\n"
     ]
    },
    {
     "name": "stdout",
     "output_type": "stream",
     "text": [
      "Class 4\n"
     ]
    },
    {
     "name": "stderr",
     "output_type": "stream",
     "text": [
      "Processing images: 100%|██████████| 11/11 [00:11<00:00,  1.07s/it]\n"
     ]
    },
    {
     "name": "stdout",
     "output_type": "stream",
     "text": [
      "Class 5\n"
     ]
    },
    {
     "name": "stderr",
     "output_type": "stream",
     "text": [
      "Processing images: 100%|██████████| 11/11 [00:11<00:00,  1.07s/it]\n"
     ]
    },
    {
     "name": "stdout",
     "output_type": "stream",
     "text": [
      "Class 6\n"
     ]
    },
    {
     "name": "stderr",
     "output_type": "stream",
     "text": [
      "Processing images: 100%|██████████| 11/11 [00:11<00:00,  1.07s/it]\n"
     ]
    },
    {
     "name": "stdout",
     "output_type": "stream",
     "text": [
      "Class 7\n"
     ]
    },
    {
     "name": "stderr",
     "output_type": "stream",
     "text": [
      "Processing images: 100%|██████████| 11/11 [00:11<00:00,  1.09s/it]\n"
     ]
    },
    {
     "name": "stdout",
     "output_type": "stream",
     "text": [
      "Class 8\n"
     ]
    },
    {
     "name": "stderr",
     "output_type": "stream",
     "text": [
      "Processing images: 100%|██████████| 11/11 [00:11<00:00,  1.01s/it]\n"
     ]
    },
    {
     "name": "stdout",
     "output_type": "stream",
     "text": [
      "Class 9\n"
     ]
    },
    {
     "name": "stderr",
     "output_type": "stream",
     "text": [
      "Processing images: 100%|██████████| 11/11 [00:11<00:00,  1.02s/it]\n"
     ]
    }
   ],
   "source": [
    "# Compute SF for each graph (each class)\n",
    "graphs = {}\n",
    "for g in range(10): \n",
    "    print(f\"Class {g}\")\n",
    "    graphs[g] = lg.LogicGraph(model)\n",
    "    graphs[g].compute_sf(train_class_loaders[g])"
   ]
  },
  {
   "cell_type": "code",
   "execution_count": 22,
   "id": "0497f639-1ec5-44a7-a244-a1aa222bb954",
   "metadata": {
    "tags": []
   },
   "outputs": [
    {
     "name": "stdout",
     "output_type": "stream",
     "text": [
      "0\n"
     ]
    },
    {
     "name": "stderr",
     "output_type": "stream",
     "text": [
      "Processing images: 100%|██████████| 3/3 [00:00<00:00, 10.46it/s]\n",
      "Processing images: 100%|██████████| 1/1 [00:00<00:00, 10.46it/s]\n",
      "Processing images: 100%|██████████| 102/102 [00:10<00:00,  9.53it/s]\n"
     ]
    },
    {
     "name": "stdout",
     "output_type": "stream",
     "text": [
      "1\n"
     ]
    },
    {
     "name": "stderr",
     "output_type": "stream",
     "text": [
      "Processing images: 100%|██████████| 105/105 [00:10<00:00,  9.66it/s]\n"
     ]
    },
    {
     "name": "stdout",
     "output_type": "stream",
     "text": [
      "2\n"
     ]
    },
    {
     "name": "stderr",
     "output_type": "stream",
     "text": [
      "Processing images: 100%|██████████| 2/2 [00:00<00:00, 10.30it/s]\n",
      "Processing images: 100%|██████████| 2/2 [00:00<00:00, 10.26it/s]\n",
      "Processing images: 100%|██████████| 102/102 [00:10<00:00,  9.94it/s]\n"
     ]
    },
    {
     "name": "stdout",
     "output_type": "stream",
     "text": [
      "3\n"
     ]
    },
    {
     "name": "stderr",
     "output_type": "stream",
     "text": [
      "Processing images: 100%|██████████| 1/1 [00:00<00:00, 10.37it/s]\n",
      "Processing images: 100%|██████████| 1/1 [00:00<00:00, 10.35it/s]\n",
      "Processing images: 100%|██████████| 103/103 [00:10<00:00,  9.94it/s]\n"
     ]
    },
    {
     "name": "stdout",
     "output_type": "stream",
     "text": [
      "4\n"
     ]
    },
    {
     "name": "stderr",
     "output_type": "stream",
     "text": [
      "Processing images: 100%|██████████| 2/2 [00:00<00:00, 10.41it/s]\n",
      "Processing images: 100%|██████████| 2/2 [00:00<00:00,  9.12it/s]\n",
      "Processing images: 100%|██████████| 102/102 [00:10<00:00,  9.53it/s]\n"
     ]
    },
    {
     "name": "stdout",
     "output_type": "stream",
     "text": [
      "5\n"
     ]
    },
    {
     "name": "stderr",
     "output_type": "stream",
     "text": [
      "Processing images: 100%|██████████| 1/1 [00:00<00:00,  7.78it/s]\n",
      "Processing images: 100%|██████████| 103/103 [00:10<00:00,  9.39it/s]\n"
     ]
    },
    {
     "name": "stdout",
     "output_type": "stream",
     "text": [
      "6\n"
     ]
    },
    {
     "name": "stderr",
     "output_type": "stream",
     "text": [
      "Processing images: 100%|██████████| 2/2 [00:00<00:00,  8.15it/s]\n",
      "Processing images: 100%|██████████| 4/4 [00:00<00:00, 10.35it/s]\n",
      "Processing images: 100%|██████████| 102/102 [00:09<00:00, 10.44it/s]\n"
     ]
    },
    {
     "name": "stdout",
     "output_type": "stream",
     "text": [
      "7\n"
     ]
    },
    {
     "name": "stderr",
     "output_type": "stream",
     "text": [
      "Processing images: 100%|██████████| 1/1 [00:00<00:00,  8.12it/s]\n",
      "Processing images: 100%|██████████| 1/1 [00:00<00:00, 10.35it/s]\n",
      "Processing images: 100%|██████████| 104/104 [00:10<00:00,  9.82it/s]\n"
     ]
    },
    {
     "name": "stdout",
     "output_type": "stream",
     "text": [
      "8\n"
     ]
    },
    {
     "name": "stderr",
     "output_type": "stream",
     "text": [
      "Processing images: 100%|██████████| 104/104 [00:10<00:00,  9.67it/s]\n"
     ]
    },
    {
     "name": "stdout",
     "output_type": "stream",
     "text": [
      "9\n"
     ]
    },
    {
     "name": "stderr",
     "output_type": "stream",
     "text": [
      "Processing images: 100%|██████████| 104/104 [00:10<00:00,  9.48it/s]\n"
     ]
    }
   ],
   "source": [
    "# Compute FPS, TPS, FNS and TNS for each graph\n",
    "fps = {}\n",
    "tps = {}\n",
    "fns = {}\n",
    "tns = {}\n",
    "for g in range(10): \n",
    "    print(g)\n",
    "    fps[g] = lg.LogicGraph(model)\n",
    "    if [i for i in class_specific_datasets['FP_class'][g]] != []:\n",
    "        fps[g].compute_sf(class_specific_datasets['FP_class'][g])\n",
    "    #tps[g] = LogicGraph(model)\n",
    "    #if [i for i in class_specific_datasets['TP_class'][g]] != []:\n",
    "    #    tps[g].compute_sf(class_specific_datasets['TP_class'][g])\n",
    "    fns[g] = lg.LogicGraph(model)\n",
    "    if [i for i in class_specific_datasets['FN_class'][g]] != []:\n",
    "        fns[g].compute_sf(class_specific_datasets['FN_class'][g])\n",
    "    tns[g] = lg.LogicGraph(model)\n",
    "    if [i for i in class_specific_datasets['TN_class'][g]] != []:\n",
    "        tns[g].compute_sf(class_specific_datasets['TN_class'][g])"
   ]
  },
  {
   "cell_type": "code",
   "execution_count": 23,
   "id": "747f9edf-9998-474f-963b-555bbe428c0e",
   "metadata": {
    "tags": []
   },
   "outputs": [
    {
     "name": "stdout",
     "output_type": "stream",
     "text": [
      "Computing diffs\n",
      "Computing centered\n",
      "Computing specific\n"
     ]
    }
   ],
   "source": [
    "# Compute SF Diff for each combination\n",
    "print(\"Computing diffs\")\n",
    "diffs = {}\n",
    "for i in range(10): \n",
    "    diff = {} \n",
    "    for j in range(10): \n",
    "        diff[j] = graphs[i] - graphs[j]\n",
    "    diffs[i] = diff\n",
    "\n",
    "print(\"Computing centered\")\n",
    "centered = {}\n",
    "for i in range(10): \n",
    "    centered[i] = graphs[i] - gall\n",
    "    \n",
    "print(\"Computing specific\")\n",
    "specific = {}\n",
    "for i in range(10): \n",
    "    specific[i] = graphs[i] - tns[i]    "
   ]
  },
  {
   "cell_type": "markdown",
   "id": "77437287-2d92-409b-bf14-5ff6a0982ecd",
   "metadata": {
    "jp-MarkdownHeadingCollapsed": true,
    "tags": []
   },
   "source": [
    "##### **Visualizations**"
   ]
  },
  {
   "cell_type": "markdown",
   "id": "b3faee65-87c1-4572-ba02-b7e1ef1da33a",
   "metadata": {},
   "source": [
    "Initialize helper functions for visualizing the FAN-IN"
   ]
  },
  {
   "cell_type": "code",
   "execution_count": 24,
   "id": "2c6a0d79-fff6-4e30-a60b-5d1359c1bc59",
   "metadata": {
    "tags": []
   },
   "outputs": [],
   "source": [
    "a_not_list = [\"not_implied_by\", \"not_or\",\"not_xor\",\"not_a\",\"implies\",\"not_and\"]\n",
    "b_not_list = [\"not_implies\", \"not_or\",\"not_xor\",\"not_b\",\"implied_by\",\"not_and\"]\n",
    "\n",
    "def find_fan_in(G, output_node, threshold,metric=\"sf\"):\n",
    "    \"\"\"\n",
    "    Find all input nodes connected to the given output node.\n",
    "    \"\"\"\n",
    "    fan_in = set()\n",
    "    nodes_to_check = [(output_node,1)]\n",
    "    input_set = []\n",
    "    while nodes_to_check:\n",
    "        \n",
    "        # Get node and node properties \n",
    "        parent_node, dpo = nodes_to_check.pop(0)\n",
    "        new_fan_in  = []\n",
    "        child_gates = []\n",
    "        parent_type = G.nodes[parent_node][\"gate\"]\n",
    "        \n",
    "        # Account for all predesesors\n",
    "        for child_node in list(G.predecessors(parent_node)): \n",
    "            \n",
    "            desired_parent_output = dpo*1\n",
    "            \n",
    "            # Get type of child node \n",
    "            child_type = G.nodes[child_node][\"gate\"]\n",
    "            \n",
    "            # Account for output case \n",
    "            if parent_type == \"output\": \n",
    "\n",
    "                # Check whether the current node is contributing to the class output\n",
    "                desired_child_output = desired_parent_output\n",
    "                if G.nodes[child_node][metric] > threshold: \n",
    "                    child_gates.append((child_node, desired_child_output))\n",
    "                    new_fan_in.append((child_node,  desired_child_output))\n",
    "\n",
    "            # Account for hidden-layer case \n",
    "            elif child_node != \"input\": \n",
    "\n",
    "                # Get the current wire type\n",
    "                props     = G.get_edge_data(child_node, parent_node)\n",
    "                wire_type = props[\"ab\"] if \"ab\" in props.keys() else None\n",
    "\n",
    "                # Check whether the current wire increases the class score by being zero\n",
    "                if (wire_type == \"a\" and parent_type in a_not_list) or (wire_type == \"b\" and parent_type in b_not_list): \n",
    "                    \n",
    "                    # Adjust the \"desired child output\"\n",
    "                    desired_child_output = -desired_parent_output\n",
    "                    \n",
    "                    # Check whether the current node is contributing to the class output\n",
    "                    if G.nodes[child_node][metric] <= threshold: # Less than because we contribute by being a zero \n",
    "                        child_gates.append((child_node,desired_child_output))\n",
    "                        new_fan_in.append((child_node,desired_child_output))\n",
    "                    \n",
    "                # Case where the current wire increases the class score by being a one\n",
    "                else: \n",
    "                    \n",
    "                    # Adjust the \"desired child output\"\n",
    "                    desired_child_output = desired_parent_output\n",
    "                    \n",
    "                    # Check whether the current node is contributing to the class output\n",
    "                    if G.nodes[child_node][metric] > threshold: \n",
    "                        child_gates.append((child_node,desired_child_output))\n",
    "                        new_fan_in.append((child_node,desired_child_output))\n",
    "\n",
    "            # Account for input case\n",
    "            else: \n",
    "                \n",
    "                # Get the current wire type\n",
    "                props = G.get_edge_data(child_node, parent_node)\n",
    "                wire_type = props[\"ab\"] if \"ab\" in props.keys() else None\n",
    "\n",
    "                # Check whether the current wire increases the class score by being zero\n",
    "                if (wire_type == \"a\" and parent_type in a_not_list) or (wire_type == \"b\" and parent_type in b_not_list): \n",
    "                    \n",
    "                    # Adjust the \"desired child output\"\n",
    "                    child_sign = -1*parent_sign\n",
    "                    new_fan_in.append(  (child_node, child_sign))\n",
    "                    input_set.append( (child_node, child_sign))\n",
    "                    \n",
    "                # Case where the current wire increases the class score by being a one\n",
    "                else: \n",
    "                    \n",
    "                    # Adjust the \"desired child output\"\n",
    "                    child_sign = parent_sign\n",
    "                    new_fan_in.append(  (child_node, child_sign))\n",
    "                    input_set.append( (child_node, child_sign))\n",
    "                        \n",
    "        fan_in.update(new_fan_in)\n",
    "        nodes_to_check.extend(child_gates)\n",
    "\n",
    "    return fan_in, input_set\n",
    "\n",
    "def node_to_pixel(node_id):\n",
    "    \"\"\"\n",
    "    Convert a node ID (e.g., 'L0_Gate 1') to pixel coordinates.\n",
    "    Assumes the input layer corresponds to a 28x28 image (MNIST format).\n",
    "    \"\"\"\n",
    "    if (node_id != \"HIGH\") and (node_id != \"LOW\"): \n",
    "        layer, gate = node_id.split('_')\n",
    "        \n",
    "        gate_num = int(gate.split(\"N\")[1]) - 1  # Convert 'Gate X' to zero-based index\n",
    "\n",
    "        if layer == 'L0':  # Input layer\n",
    "            y = gate_num // shape[1]\n",
    "            x = gate_num % shape[0]\n",
    "            return (x, y)\n",
    "        \n",
    "    return None  # For non-input layers, return None\n",
    "\n",
    "def visualize_fan_in(G, output_node,threshold,signed=True, show=False,metric=\"sf\"):\n",
    "    \"\"\"\n",
    "    Visualize the fan-in of the given output node as highlighted pixels in an image.\n",
    "    \"\"\"\n",
    "    fan_in,pixels = find_fan_in(G, output_node,threshold,metric)\n",
    "    # Create a blank 28x28 image\n",
    "    img = np.zeros(shape)\n",
    "    \n",
    "    # Highlight pixels corresponding to input nodes in the fan-in\n",
    "    for node,sign in fan_in:\n",
    "        pixel = node_to_pixel(node)\n",
    "        if pixel:\n",
    "            x, y = pixel\n",
    "            if signed: \n",
    "                img[y, x] += sign  # Set pixel to white (1)\n",
    "            else: \n",
    "                img[y, x] += 1  # Set pixel to white (1)\n",
    "\n",
    "    if show: \n",
    "        # Plot the image\n",
    "        plt.imshow(img)\n",
    "        plt.title(f\"Fan-in visualization for {output_node}\")\n",
    "        plt.colorbar()\n",
    "        plt.axis('off')\n",
    "        plt.show()\n",
    "    \n",
    "    return img, fan_in,pixels"
   ]
  },
  {
   "cell_type": "markdown",
   "id": "3a548d62-e58a-4f3d-a757-50e95fd5f4a9",
   "metadata": {},
   "source": [
    "Visualize the saliency maps for the FAN-IN (Class specific SF, and Global SF)"
   ]
  },
  {
   "cell_type": "code",
   "execution_count": 25,
   "id": "54a404eb-a2b3-45f9-bcd9-5e7faecd11ed",
   "metadata": {
    "tags": []
   },
   "outputs": [
    {
     "data": {
      "image/png": "[encoded data removed]",
      "text/plain": [
       "<Figure size 1500x1000 with 10 Axes>"
      ]
     },
     "metadata": {},
     "output_type": "display_data"
    },
    {
     "data": {
      "image/png": "[encoded data removed]",
      "text/plain": [
       "<Figure size 1500x1000 with 10 Axes>"
      ]
     },
     "metadata": {},
     "output_type": "display_data"
    },
    {
     "data": {
      "image/png": "[encoded data removed]",
      "text/plain": [
       "<Figure size 1500x1000 with 10 Axes>"
      ]
     },
     "metadata": {},
     "output_type": "display_data"
    },
    {
     "data": {
      "image/png": "[encoded data removed]",
      "text/plain": [
       "<Figure size 1500x1000 with 10 Axes>"
      ]
     },
     "metadata": {},
     "output_type": "display_data"
    },
    {
     "data": {
      "image/png": "[encoded data removed]",
      "text/plain": [
       "<Figure size 1500x1000 with 10 Axes>"
      ]
     },
     "metadata": {},
     "output_type": "display_data"
    },
    {
     "data": {
      "image/png": "[encoded data removed]",
      "text/plain": [
       "<Figure size 1500x1000 with 10 Axes>"
      ]
     },
     "metadata": {},
     "output_type": "display_data"
    },
    {
     "data": {
      "image/png": "[encoded data removed]",
      "text/plain": [
       "<Figure size 1500x1000 with 10 Axes>"
      ]
     },
     "metadata": {},
     "output_type": "display_data"
    },
    {
     "data": {
      "image/png": "[encoded data removed]",
      "text/plain": [
       "<Figure size 1500x1000 with 10 Axes>"
      ]
     },
     "metadata": {},
     "output_type": "display_data"
    },
    {
     "data": {
      "image/png": "[encoded data removed]",
      "text/plain": [
       "<Figure size 1500x1000 with 10 Axes>"
      ]
     },
     "metadata": {},
     "output_type": "display_data"
    },
    {
     "data": {
      "image/png": "[encoded data removed]",
      "text/plain": [
       "<Figure size 1500x1000 with 10 Axes>"
      ]
     },
     "metadata": {},
     "output_type": "display_data"
    }
   ],
   "source": [
    "thresholds = [float(i)/100-1.0 for i in range(200)]\n",
    "#thresholds = [0.0]\n",
    "outputs = [f\"L3_N0\", f\"L3_N1\", f\"L3_N2\", f\"L3_N3\", f\"L3_N4\", f\"L3_N5\", f\"L3_N6\", f\"L3_N7\", f\"L3_N8\", f\"L3_N9\"]\n",
    "test = False\n",
    "\n",
    "\n",
    "def plot_row(g,thresholds,signed,metric): \n",
    "    # Plot pixel attribution  \n",
    "    fig, ax = plt.subplots(1, len(outputs), figsize=(15, 10))\n",
    "    for i, output_node in enumerate(outputs): \n",
    "        G = g[i].g\n",
    "        im = []\n",
    "        for threshold in thresholds: \n",
    "            img, fan_in,pixels = visualize_fan_in(G, output_node, threshold,signed, False,metric)\n",
    "            im.append(img)\n",
    "        img  = np.average(im,axis=0)\n",
    "        ax[i].imshow(img,cmap=\"inferno\")\n",
    "        ax[i].title.set_text(\" \")#(f\"{i}\")\n",
    "        ax[i].set_axis_off()\n",
    "    plt.show()\n",
    "    \n",
    "print(\"#################################################### MNIST ####################################################\")if test else None \n",
    "import copy \n",
    "fig, ax = plt.subplots(1, len(outputs), figsize=(15, 10))\n",
    "p_maps = []\n",
    "sp_graphs = [] \n",
    "sp_diffs = [] \n",
    "for j, output_node in enumerate(outputs): \n",
    "    p_maps.append(cv2.imread(f\"{dataset_name}_averages/average_{j}.png\")[4:24,4:24,1]/255)\n",
    "    sp_graph  = copy.deepcopy(gall)\n",
    "    sp_graph.compute_sp(p_maps[j])\n",
    "    sp_graphs.append(sp_graph)\n",
    "    sp_diffs.append(sp_graph.sub_sp(gall))\n",
    "    ax[j].imshow(p_maps[j])\n",
    "    ax[j].title.set_text(\" \")#(f\"{j}\")\n",
    "    ax[j].set_axis_off()\n",
    "plt.show()\n",
    "#burn = cv2.imread(f\"mnist_averages/average_all_digits.png\")\n",
    "#ax[len(outputs)].imshow(burn[4:24,4:24,1])\n",
    "\n",
    "\n",
    "t1 = [float(i)/100 for i in range(100)]\n",
    "t2 = [float(i)/100-0.5 for i in range(100)]\n",
    "\n",
    "\n",
    "print(\"#################################################### Switch Probability ####################################################\")if test else None \n",
    "\n",
    "print(\"--- Uniform 0.5\") if test else None \n",
    "gall.compute_sp(np.ones(shape)-0.5)\n",
    "plot_row([gall for i in range(len(graphs))],t1,True,\"sp\")\n",
    "\n",
    "print(\"--- Average of All MNIST Digits\") if test else None \n",
    "p_maps.append(cv2.imread(f\"mnist_averages/average_all.png\")[4:24,4:24,1]/255)\n",
    "gall.compute_sp(p_maps[-1])\n",
    "plot_row([gall for i in range(len(graphs))],t1,True,\"sp\")\n",
    "\n",
    "print(\"--- Average of Class-Specific MNIST Digits\") if test else None \n",
    "plot_row(sp_graphs,t1,True,\"sp\")\n",
    "\n",
    "print(\"--- (Class-Specific-Average) - (Global-Average)\") if test else None \n",
    "plot_row(sp_diffs,t2,True,\"sp\")\n",
    "\n",
    "print(\"#################################################### Switch Frequency ####################################################\")if test else None \n",
    "\n",
    "fig, ax = plt.subplots(1, len(outputs), figsize=(15, 10))\n",
    "p_maps = []\n",
    "sp_graphs = [] \n",
    "sp_diffs = [] \n",
    "for j, output_node in enumerate(outputs): \n",
    "    p_maps.append(cv2.imread(f\"{dataset_name}_averages/average_{j}.png\")[4:24,4:24,1]/255)\n",
    "    sp_graph  = copy.deepcopy(gall)\n",
    "    sp_graph.compute_sp(p_maps[j])\n",
    "    sp_graphs.append(sp_graph)\n",
    "    sp_diffs.append(sp_graph.sub_sp(gall))\n",
    "    ax[j].imshow(p_maps[j])\n",
    "    ax[j].title.set_text(\" \")#(f\"{j}\")\n",
    "    ax[j].set_axis_off()\n",
    "plt.show()\n",
    "\n",
    "#print(\"--- Raw Association\") if test else None \n",
    "#plot_row(graphs,[-1],False,\"sf\")\n",
    "\n",
    "print(\"--- (Signed Association)\") if test else None \n",
    "plot_row(graphs,[-1,0],True,\"sf\")\n",
    "\n",
    "print(\"--- (All MNIST)\") if test else None \n",
    "plot_row([gall for i in range(len(graphs))],t1,True,\"sf\")\n",
    "\n",
    "print(\"--- (Class-Specific)\") if test else None \n",
    "plot_row(graphs,t1,True,\"sf\")\n",
    "\n",
    "print(\"--- (Class-Specific) - (All MNIST)\") if test else None \n",
    "plot_row(specific,t2,True,\"sf\")"
   ]
  },
  {
   "cell_type": "markdown",
   "id": "82764403-d0b9-47b2-8b97-114951a98cfa",
   "metadata": {},
   "source": [
    "Show and generate local explanations"
   ]
  },
  {
   "cell_type": "code",
   "execution_count": 34,
   "id": "212d5bce-fe25-43bb-af9a-1a0999f9f0b4",
   "metadata": {
    "tags": []
   },
   "outputs": [
    {
     "data": {
      "image/png": "[encoded data removed]",
      "text/plain": [
       "<Figure size 1500x1000 with 11 Axes>"
      ]
     },
     "metadata": {},
     "output_type": "display_data"
    },
    {
     "data": {
      "image/png": "[encoded data removed]",
      "text/plain": [
       "<Figure size 1500x1000 with 11 Axes>"
      ]
     },
     "metadata": {},
     "output_type": "display_data"
    },
    {
     "data": {
      "image/png": "[encoded data removed]",
      "text/plain": [
       "<Figure size 1500x1000 with 11 Axes>"
      ]
     },
     "metadata": {},
     "output_type": "display_data"
    },
    {
     "data": {
      "image/png": "[encoded data removed]",
      "text/plain": [
       "<Figure size 1500x1000 with 11 Axes>"
      ]
     },
     "metadata": {},
     "output_type": "display_data"
    },
    {
     "data": {
      "image/png": "[encoded data removed]",
      "text/plain": [
       "<Figure size 1500x1000 with 11 Axes>"
      ]
     },
     "metadata": {},
     "output_type": "display_data"
    },
    {
     "data": {
      "image/png": "[encoded data removed]",
      "text/plain": [
       "<Figure size 1500x1000 with 11 Axes>"
      ]
     },
     "metadata": {},
     "output_type": "display_data"
    },
    {
     "data": {
      "image/png": "[encoded data removed]",
      "text/plain": [
       "<Figure size 1500x1000 with 11 Axes>"
      ]
     },
     "metadata": {},
     "output_type": "display_data"
    }
   ],
   "source": [
    "mode = \"sf\"  # Options: \"sp\"/\"sf\"\n",
    "thresholds = [0.0]\n",
    "p_type = \"FP\"\n",
    "class_num = 2\n",
    "\n",
    "# Switching Frequency/Probability based local explanations\n",
    "model.flatten = lambda x: torch.flatten(x).reshape(1, shape[0] * shape[1])\n",
    "\n",
    "def visualize_class_data(g, data, outputs, ax, mode, thresholds):\n",
    "    for i, output_node in enumerate(outputs): \n",
    "        im = []\n",
    "        for threshold in thresholds: \n",
    "            img, fan_in, pixels = visualize_fan_in(g.g, output_node, threshold, True, False)\n",
    "            im.append(img)\n",
    "\n",
    "        img = np.average(im, axis=0)\n",
    "        overlap = np.array(img.flatten() == (data * 2 - 1).cpu().detach().numpy()).astype(int)\n",
    "        \n",
    "        ax[i].imshow((img.flatten() * overlap).reshape((shape[0], shape[1], 1)))\n",
    "        ax[i].title.set_text(f\"{i}-{np.sum(np.abs(img))}\")\n",
    "    \n",
    "    ax[len(outputs)].imshow(data.reshape((shape[0], shape[1], 1)))\n",
    "    ax[len(outputs)].title.set_text(f\"{np.argmax(np.array(g.forward(data.float().view(1, -1)).cpu().detach()))}\")\n",
    "    \n",
    "    \n",
    "for k, (data, label) in enumerate(class_specific_datasets[f'{p_type}_class'][class_num].dataset): \n",
    "    g = lg.LogicGraph(model)\n",
    "    \n",
    "    # Compute either sf or sp based on the mode\n",
    "    if mode == \"sf\": \n",
    "        g.compute_sf(data.unsqueeze(0).to(float))\n",
    "    elif mode == \"sp\":\n",
    "        g.compute_sf(data.unsqueeze(0).to(float))\n",
    "    \n",
    "    fig, ax = plt.subplots(1, len(outputs) + 1, figsize=(15, 10))\n",
    "    \n",
    "    # Call the function to handle the visualization logic\n",
    "    visualize_class_data(g, data, outputs, ax, mode, thresholds)\n",
    "    \n",
    "    plt.show()\n",
    "    \n",
    "    if k > 5: \n",
    "        break"
   ]
  },
  {
   "cell_type": "markdown",
   "id": "89ac9cd8-60b0-4582-b632-e125240bd98c",
   "metadata": {},
   "source": [
    "Compare Evidence for TP/FN/FP cases"
   ]
  },
  {
   "cell_type": "code",
   "execution_count": 37,
   "id": "3c654762-644b-43ab-9aca-b57b98d3ac1d",
   "metadata": {
    "tags": []
   },
   "outputs": [
    {
     "data": {
      "image/png": "[encoded data removed]",
      "text/plain": [
       "<Figure size 1500x1000 with 11 Axes>"
      ]
     },
     "metadata": {},
     "output_type": "display_data"
    },
    {
     "data": {
      "image/png": "[encoded data removed]",
      "text/plain": [
       "<Figure size 1500x1000 with 11 Axes>"
      ]
     },
     "metadata": {},
     "output_type": "display_data"
    },
    {
     "data": {
      "image/png": "[encoded data removed]",
      "text/plain": [
       "<Figure size 1500x1000 with 11 Axes>"
      ]
     },
     "metadata": {},
     "output_type": "display_data"
    }
   ],
   "source": [
    "from matplotlib import rc\n",
    "\n",
    "def visualize_class_data(dataset, class_name, label, model, outputs, shape):\n",
    "    for k, (data, _) in enumerate(dataset):\n",
    "        g = lg.LogicGraph(model)\n",
    "        g.compute_sf(data.unsqueeze(0).to(float))\n",
    "        \n",
    "        fig, ax = plt.subplots(1, len(outputs) + 1, figsize=(15, 10))\n",
    "        thresholds = [0.0]\n",
    "        \n",
    "        for i, output_node in enumerate(outputs):\n",
    "            im = []\n",
    "            for threshold in thresholds:\n",
    "                img, fan_in, pixels = visualize_fan_in(g.g, output_node, threshold, True, False)\n",
    "                im.append(img)\n",
    "            \n",
    "            img = np.average(im, axis=0)\n",
    "            overlap = np.array(img.flatten() == (data * 2 - 1).cpu().detach().numpy()).astype(int)\n",
    "            \n",
    "            ax[i + 1].imshow((img.flatten() * overlap).reshape((shape[0], shape[1], 1)), \"inferno\", vmin=-1, vmax=1)\n",
    "            ax[i + 1].title.set_text(f\"C: {i}; $\\Sigma$={int(np.sum(np.abs(img).flatten() * overlap))}\")\n",
    "            ax[i + 1].set_axis_off()\n",
    "        \n",
    "        ax[0].imshow(data.reshape((shape[0], shape[1], 1)), \"inferno\")\n",
    "        ax[0].title.set_text(f\"C: {np.argmax(np.array(g.forward(data.float().view(1, -1)).cpu().detach()))} ({class_name})\")\n",
    "        ax[0].set_axis_off()\n",
    "        \n",
    "        plt.show()\n",
    "        \n",
    "        break\n",
    "\n",
    "# Visualize True Positive, False Positive, and False Negative class data\n",
    "index = 1\n",
    "visualize_class_data(class_specific_datasets['TP_class'][index].dataset, 'TP', label, model, outputs, shape)\n",
    "visualize_class_data(class_specific_datasets['FP_class'][index].dataset, 'FP', label, model, outputs, shape)\n",
    "visualize_class_data(class_specific_datasets['FN_class'][index].dataset, 'FN', label, model, outputs, shape)"
   ]
  },
  {
   "cell_type": "markdown",
   "id": "63ef7090-54d6-4960-be99-2d960b0e8b43",
   "metadata": {},
   "source": [
    "### **MiniNets**"
   ]
  },
  {
   "cell_type": "code",
   "execution_count": 12,
   "id": "9bbf2937-895e-406d-b8d3-814626511cac",
   "metadata": {
    "tags": []
   },
   "outputs": [
    {
     "name": "stdout",
     "output_type": "stream",
     "text": [
      "LogicLayer(784, 5000, train)\n",
      "LogicLayer(5000, 5000, train)\n"
     ]
    }
   ],
   "source": [
    "model_name = 'model_001'\n",
    "\n",
    "# testing loop to test inferences\n",
    "trained_models_dir = f'{dataset_name}_trained_models/'\n",
    "\n",
    "with initialize(version_base=None, config_path=\"config\", job_name=\"ExpLogic_Test\"):\n",
    "    model_cfg = compose(config_name=f\"{dataset_name}_config_{shape[0]}x{shape[0]}\")\n",
    "\n",
    "model_cfg = model_cfg['models'][model_name]\n",
    "\n",
    "model = DiffLogic(layers_config=model_cfg['layers_config'], \n",
    "    output_size=model_cfg['output_size'], \n",
    "    tau=model_cfg['tau']).to('cuda' if torch.cuda.is_available() else 'cpu')    \n",
    "\n",
    "model_path = os.path.join(trained_models_dir, model_name + \".pth\")\n",
    "model.load(model_path)"
   ]
  },
  {
   "cell_type": "code",
   "execution_count": 13,
   "id": "f2ceac67-a403-4fbd-8488-91bd0a1aebee",
   "metadata": {
    "tags": []
   },
   "outputs": [],
   "source": [
    "# Create class-specific data loaders for training and testing sets if they haven't been created\n",
    "if 'train_class_loaders' not in locals():\n",
    "    train_class_loaders = subset.create_class_dataloaders(train_dataset, batch_size)\n",
    "if 'test_class_loaders' not in locals():\n",
    "    test_class_loaders = subset.create_class_dataloaders(test_dataset, batch_size)"
   ]
  },
  {
   "cell_type": "code",
   "execution_count": 21,
   "id": "b84d399c-304c-4bf4-b521-f464e546c2b3",
   "metadata": {
    "tags": []
   },
   "outputs": [
    {
     "name": "stdout",
     "output_type": "stream",
     "text": [
      "Class 0\n"
     ]
    },
    {
     "name": "stderr",
     "output_type": "stream",
     "text": [
      "Processing images: 100%|██████████| 11/11 [00:12<00:00,  1.10s/it]\n"
     ]
    },
    {
     "name": "stdout",
     "output_type": "stream",
     "text": [
      "Class 1\n"
     ]
    },
    {
     "name": "stderr",
     "output_type": "stream",
     "text": [
      "Processing images: 100%|██████████| 11/11 [00:12<00:00,  1.12s/it]\n"
     ]
    },
    {
     "name": "stdout",
     "output_type": "stream",
     "text": [
      "Class 2\n"
     ]
    },
    {
     "name": "stderr",
     "output_type": "stream",
     "text": [
      "Processing images: 100%|██████████| 11/11 [00:11<00:00,  1.04s/it]\n"
     ]
    },
    {
     "name": "stdout",
     "output_type": "stream",
     "text": [
      "Class 3\n"
     ]
    },
    {
     "name": "stderr",
     "output_type": "stream",
     "text": [
      "Processing images: 100%|██████████| 11/11 [00:12<00:00,  1.13s/it]\n"
     ]
    },
    {
     "name": "stdout",
     "output_type": "stream",
     "text": [
      "Class 4\n"
     ]
    },
    {
     "name": "stderr",
     "output_type": "stream",
     "text": [
      "Processing images: 100%|██████████| 11/11 [00:12<00:00,  1.12s/it]\n"
     ]
    },
    {
     "name": "stdout",
     "output_type": "stream",
     "text": [
      "Class 5\n"
     ]
    },
    {
     "name": "stderr",
     "output_type": "stream",
     "text": [
      "Processing images: 100%|██████████| 11/11 [00:12<00:00,  1.14s/it]\n"
     ]
    },
    {
     "name": "stdout",
     "output_type": "stream",
     "text": [
      "Class 6\n"
     ]
    },
    {
     "name": "stderr",
     "output_type": "stream",
     "text": [
      "Processing images: 100%|██████████| 11/11 [00:12<00:00,  1.12s/it]\n"
     ]
    },
    {
     "name": "stdout",
     "output_type": "stream",
     "text": [
      "Class 7\n"
     ]
    },
    {
     "name": "stderr",
     "output_type": "stream",
     "text": [
      "Processing images: 100%|██████████| 11/11 [00:12<00:00,  1.11s/it]\n"
     ]
    },
    {
     "name": "stdout",
     "output_type": "stream",
     "text": [
      "Class 8\n"
     ]
    },
    {
     "name": "stderr",
     "output_type": "stream",
     "text": [
      "Processing images: 100%|██████████| 11/11 [00:11<00:00,  1.08s/it]\n"
     ]
    },
    {
     "name": "stdout",
     "output_type": "stream",
     "text": [
      "Class 9\n"
     ]
    },
    {
     "name": "stderr",
     "output_type": "stream",
     "text": [
      "Processing images: 100%|██████████| 11/11 [00:11<00:00,  1.07s/it]\n"
     ]
    }
   ],
   "source": [
    "# Compute SF for each graph (e.g. digits 0-9 for MNIST) \n",
    "graphs = {}\n",
    "\n",
    "for g in range(10): \n",
    "    print(f\"Class {g}\")\n",
    "    graphs[g] = lg.LogicGraph(model) \n",
    "    graphs[g].compute_sf(train_class_loaders[g])"
   ]
  },
  {
   "cell_type": "code",
   "execution_count": 86,
   "id": "3182ab32-2b12-4e0d-a859-71e7234b5341",
   "metadata": {
    "tags": []
   },
   "outputs": [],
   "source": [
    "def bin_op(a, b, i):\n",
    "    \"\"\"\n",
    "    Compute the logic gate outputs for given inputs and gate indices.\n",
    "    \n",
    "    Args:\n",
    "        a: Tensor of shape (batch_size, out_dim)\n",
    "        b: Tensor of shape (batch_size, out_dim)\n",
    "        i: Tensor of shape (out_dim,), representing gate indices.\n",
    "\n",
    "    Returns:\n",
    "        Tensor of shape (batch_size, out_dim), the computed outputs.\n",
    "    \"\"\"\n",
    "    # Define operations for all possible gates\n",
    "    gate_ops = {\n",
    "        0: lambda a, b: torch.zeros_like(a),  # zero\n",
    "        1: lambda a, b: a * b,  # and\n",
    "        2: lambda a, b: a - a * b,  # not_implies\n",
    "        3: lambda a, b: a,  # a\n",
    "        4: lambda a, b: b - a * b,  # not_implied_by\n",
    "        5: lambda a, b: b,  # b\n",
    "        6: lambda a, b: a + b - 2 * a * b,  # xor\n",
    "        7: lambda a, b: a + b - a * b,  # or\n",
    "        8: lambda a, b: 1 - (a + b - a * b),  # not_or\n",
    "        9: lambda a, b: 1 - (a + b - 2 * a * b),  # not_xor\n",
    "        10: lambda a, b: 1 - b,  # not_b\n",
    "        11: lambda a, b: 1 - b + a * b,  # implied_by\n",
    "        12: lambda a, b: 1 - a,  # not_a\n",
    "        13: lambda a, b: 1 - a + a * b,  # implies\n",
    "        14: lambda a, b: 1 - a * b,  # not_and\n",
    "        15: lambda a, b: torch.ones_like(a),  # one\n",
    "    }\n",
    "\n",
    "    outputs = torch.zeros_like(a)\n",
    "    for gate_idx in torch.unique(i):\n",
    "        mask = (i == gate_idx).unsqueeze(0)  # Shape: (1, out_dim)\n",
    "        gate_output = gate_ops[gate_idx.item()](a, b)\n",
    "        outputs += gate_output * mask.float()\n",
    "    return outputs"
   ]
  },
  {
   "cell_type": "markdown",
   "id": "23e606fa-cca7-49bc-a77e-121c006e3555",
   "metadata": {
    "tags": []
   },
   "source": [
    "##### Class to define a Miniature DiffLogic Network"
   ]
  },
  {
   "cell_type": "code",
   "execution_count": 15,
   "id": "fdcee001-f330-4ff7-8006-d0f35191ba78",
   "metadata": {
    "tags": []
   },
   "outputs": [],
   "source": [
    "class CustomLogicLayer(torch.nn.Module):\n",
    "    def __init__(\n",
    "        self,\n",
    "        in_dim: int,\n",
    "        out_dim: int,\n",
    "        connections: torch.Tensor,  # Connections between input and output nodes\n",
    "        logic_gates: list,          # Logic gates for each output neuron\n",
    "        device: str = \"cuda\",\n",
    "    ):\n",
    "        super().__init__()\n",
    "        self.indices = connections.to(device)\n",
    "        self.logic_gates = torch.tensor(logic_gates, dtype=torch.long, device=device)\n",
    "        self.in_dim = in_dim\n",
    "        self.out_dim = out_dim\n",
    "        self.device = device\n",
    "\n",
    "    def forward(self, x):\n",
    "        return self.forward_python(x)\n",
    "\n",
    "    def forward_python(self, x):\n",
    "        assert x.shape[-1] == self.in_dim, (x.shape[-1], self.in_dim)\n",
    "        \n",
    "        a = x[..., self.indices[:, 0]]  # Shape: (batch_size, out_dim)\n",
    "        b = x[..., self.indices[:, 1]]  # Shape: (batch_size, out_dim)\n",
    "\n",
    "        gate_indices = self.logic_gates  # Shape: (out_dim,)\n",
    "\n",
    "        # Compute the outputs using bin_op and the known gate indices\n",
    "        outputs = bin_op(a, b, gate_indices)\n",
    "        return outputs\n",
    "\n",
    "    def extra_repr(self):\n",
    "        return \"{}, {}, {}\".format(self.in_dim, self.out_dim, \"train\" if self.training else \"eval\")"
   ]
  },
  {
   "cell_type": "code",
   "execution_count": 82,
   "id": "891cc5e9-2818-41ec-92e0-ca53648957ab",
   "metadata": {
    "tags": []
   },
   "outputs": [],
   "source": [
    "class CustomDiffLogic(torch.nn.Module):\n",
    "    def __init__(self, layer_specs, output_size=10, device=\"cuda\", tau=30):\n",
    "        \"\"\"\n",
    "        Constructs a network using layers of logic gates and custom connections.\n",
    "        \n",
    "        Args:\n",
    "            layer_specs (list): List of layer specifications, each containing\n",
    "                                input size, output size, connections, and logic gates.\n",
    "            output_size (int): Number of output groups/classes.\n",
    "            device (str): Device for computation (e.g., 'cuda' or 'cpu').\n",
    "            tau (int): Temperature parameter for the GroupSum layer.\n",
    "        \"\"\"\n",
    "        super(CustomDiffLogic, self).__init__()\n",
    "        self.flatten = torch.nn.Flatten()\n",
    "        self.device = device\n",
    "\n",
    "        layers = []\n",
    "\n",
    "        # Create each layer with specific connections and logic gates\n",
    "        for layer_spec in layer_specs:\n",
    "            layer = CustomLogicLayer(\n",
    "                in_dim=layer_spec[\"input_size\"],\n",
    "                out_dim=layer_spec[\"output_size\"],\n",
    "                connections=layer_spec[\"connections\"],\n",
    "                logic_gates=layer_spec[\"logic_gates\"],\n",
    "                device=self.device,\n",
    "            )\n",
    "            layers.append(layer)\n",
    "\n",
    "        self.logic_layers = torch.nn.Sequential(*layers)\n",
    "        self.group = GroupSum(k=output_size, tau=tau)\n",
    "\n",
    "    def forward(self, x):\n",
    "        # Flatten input for processing\n",
    "        if torch.cuda.is_available():\n",
    "            x = x.to(self.device)\n",
    "\n",
    "        x = self.flatten(x)\n",
    "        logits = self.logic_layers(x)\n",
    "\n",
    "        # Grouping the final logits\n",
    "        return self.group(logits)"
   ]
  },
  {
   "cell_type": "markdown",
   "id": "e48a6a20-0856-43ec-9d74-51799ed76b25",
   "metadata": {},
   "source": [
    "---------------------"
   ]
  },
  {
   "cell_type": "markdown",
   "id": "9531a845-351b-40f5-9aae-19de5f393875",
   "metadata": {},
   "source": [
    "USING MY OLD APPROACH, WILL TRY CONVERTING TO STEPHEN'S LATER"
   ]
  },
  {
   "cell_type": "code",
   "execution_count": 69,
   "id": "7989f3d8-e937-4d18-ba82-d807e7a8a985",
   "metadata": {
    "tags": []
   },
   "outputs": [],
   "source": [
    "# function to remove all forward and backward hooks in a model\n",
    "def remove_all_hooks(model):\n",
    "    # pass through modules (layers) in the model\n",
    "    for layer in model.modules():\n",
    "        # check and remove forward hooks\n",
    "        if hasattr(layer, \"_forward_hooks\"):\n",
    "            layer._forward_hooks.clear()\n",
    "        \n",
    "        # check and remove backward hooks\n",
    "        if hasattr(layer, \"_backward_hooks\"):\n",
    "            layer._backward_hooks.clear()\n",
    "        \n",
    "        # also checks for pre-forward hooks (rare) and removes them\n",
    "        if hasattr(layer, \"_forward_pre_hooks\"):\n",
    "            layer._forward_pre_hooks.clear()\n",
    "\n",
    "# call the function to remove all hooks from the model\n",
    "remove_all_hooks(model)"
   ]
  },
  {
   "cell_type": "code",
   "execution_count": 70,
   "id": "d58b05dc-7458-44e2-bbd5-3328e050ba3e",
   "metadata": {
    "tags": []
   },
   "outputs": [],
   "source": [
    "activation_counts_per_digit = {digit: [] for digit in range(10)}  \n",
    "\n",
    "# track activations for a specific digit\n",
    "def hook_fn(module, input, output, layer_idx, digit, debug=False):\n",
    "    if len(activation_counts_per_digit[digit]) <= layer_idx:\n",
    "        activation_counts_per_digit[digit].append(np.zeros(output.size(1), dtype=np.int64))\n",
    "        \n",
    "    activation_counts_per_digit[digit][layer_idx] = activation_counts_per_digit[digit][layer_idx].astype(np.int64)\n",
    "    \n",
    "    # prints before adding to check the behavior\n",
    "    if debug:\n",
    "        print(f\"Before accumulation for digit {digit}, Layer {layer_idx}, Counts: {activation_counts_per_digit[digit][layer_idx]}\")\n",
    "        print(f\"Activation counts for digit {digit} (output > 0): {(output > 0).sum(dim=0).cpu().numpy()}\")\n",
    "      \n",
    "    activation_counts_per_digit[digit][layer_idx] += (output > 0).sum(dim=0).cpu().numpy().astype(np.int64)\n",
    "    \n",
    "    # prints after accumulation to see the updated counts\n",
    "    if debug:\n",
    "        print(f\"After accumulation for digit {digit}, Layer {layer_idx}, Counts: {activation_counts_per_digit[digit][layer_idx]}\")\n",
    "\n",
    "\n",
    "# run forward pass and collect activations for each digit's dataset\n",
    "def run_and_collect_activations(model, digit_loaders):\n",
    "    for digit, loader in digit_loaders.items():\n",
    "        hooks = []\n",
    "\n",
    "        for idx, layer in enumerate(model.logic_layers):\n",
    "            if isinstance(layer, LogicLayer): \n",
    "                hook = layer.register_forward_hook(\n",
    "                    (lambda layer_idx, digit: \n",
    "                        lambda module, input, output: \n",
    "                            hook_fn(module, input, output, layer_idx, digit))(idx, digit)\n",
    "                )\n",
    "                hooks.append(hook)\n",
    "\n",
    "        for batch_data, _ in loader:\n",
    "            batch_data = batch_data.float().to('cuda')  # Ensure correct type and device\n",
    "            model(batch_data)\n",
    "\n",
    "        for hook in hooks:\n",
    "            hook.remove()\n",
    "\n",
    "# passes trained diff logic model and all digit loaders\n",
    "run_and_collect_activations(model, test_class_loaders)"
   ]
  },
  {
   "cell_type": "code",
   "execution_count": 71,
   "id": "c3450d6e-13e9-475c-bbff-2c8f196b94a3",
   "metadata": {
    "tags": []
   },
   "outputs": [
    {
     "data": {
      "text/plain": [
       "DiffLogic(\n",
       "  (logic_layers): Sequential(\n",
       "    (0): LogicLayer(784, 5000, eval)\n",
       "    (1): LogicLayer(5000, 5000, eval)\n",
       "  )\n",
       "  (group): GroupSum(k=10, tau=10)\n",
       ")"
      ]
     },
     "execution_count": 71,
     "metadata": {},
     "output_type": "execute_result"
    }
   ],
   "source": [
    "model"
   ]
  },
  {
   "cell_type": "code",
   "execution_count": 72,
   "id": "9ce8cbd7-3688-47c0-b631-3f2525fbec14",
   "metadata": {
    "tags": []
   },
   "outputs": [],
   "source": [
    "def threshold_activation_counts(activation_counts, threshold=2000):\n",
    "    # dictionary to store the thresholded values\n",
    "    thresholded_counts = {}\n",
    "    \n",
    "    # iterates through each digit and layer in the activation_counts\n",
    "    for digit, layers in activation_counts.items():\n",
    "        thresholded_counts[digit] = []\n",
    "        for layer_array in layers:\n",
    "            # applies threshold, set values above 'threshold' to 1, otherwise 0\n",
    "            thresholded_layer = (layer_array > threshold).astype(int)\n",
    "            thresholded_counts[digit].append(thresholded_layer)\n",
    "    \n",
    "    return thresholded_counts\n",
    "\n",
    "def find_unused_nodes(thresholded_counts):\n",
    "    unused_nodes_per_digit = {}\n",
    "\n",
    "    # iterate through each digit\n",
    "    for digit, layers in thresholded_counts.items():\n",
    "        unused_nodes_per_digit[digit] = []\n",
    "        \n",
    "        # iterate through each layer for the current digit\n",
    "        for layer_idx, layer_activations in enumerate(layers):\n",
    "            # find the indices of nodes that are always zero in this layer\n",
    "            unused_nodes = {node_idx for node_idx, activation_value in enumerate(layer_activations) if activation_value == 0}\n",
    "            # append the unused nodes set for the current layer\n",
    "            unused_nodes_per_digit[digit].append(unused_nodes)\n",
    "            \n",
    "    return unused_nodes_per_digit\n",
    "\n",
    "thresholded_activation_counts_per_digit = threshold_activation_counts(activation_counts_per_digit, threshold = 100)\n",
    "unused_gates_per_digit = find_unused_nodes(thresholded_activation_counts_per_digit) # you can change the thresholding factor"
   ]
  },
  {
   "cell_type": "code",
   "execution_count": 74,
   "id": "3a8154bb-9b53-4837-8c39-2ccfcf05b5a5",
   "metadata": {
    "collapsed": true,
    "jupyter": {
     "outputs_hidden": true
    },
    "tags": []
   },
   "outputs": [
    {
     "data": {
      "text/plain": [
       "[[{'neuron_idx': 0, 'gate': 'b', 'inputs': (660, 648)},\n",
       "  {'neuron_idx': 1, 'gate': 'not_or', 'inputs': (560, 196)},\n",
       "  {'neuron_idx': 2, 'gate': 'not_and', 'inputs': (658, 540)},\n",
       "  {'neuron_idx': 3, 'gate': 'not_or', 'inputs': (511, 316)},\n",
       "  {'neuron_idx': 4, 'gate': 'not_xor', 'inputs': (28, 69)},\n",
       "  {'neuron_idx': 5, 'gate': 'not_or', 'inputs': (2, 65)},\n",
       "  {'neuron_idx': 6, 'gate': 'b', 'inputs': (691, 178)},\n",
       "  {'neuron_idx': 7, 'gate': 'not_or', 'inputs': (9, 27)},\n",
       "  {'neuron_idx': 8, 'gate': 'not_or', 'inputs': (438, 114)},\n",
       "  {'neuron_idx': 9, 'gate': 'not_and', 'inputs': (646, 212)},\n",
       "  {'neuron_idx': 10, 'gate': 'not_implies', 'inputs': (298, 363)},\n",
       "  {'neuron_idx': 11, 'gate': 'not_a', 'inputs': (106, 737)},\n",
       "  {'neuron_idx': 12, 'gate': 'not_b', 'inputs': (528, 175)},\n",
       "  {'neuron_idx': 13, 'gate': 'not_a', 'inputs': (498, 683)},\n",
       "  {'neuron_idx': 14, 'gate': 'implied_by', 'inputs': (29, 753)},\n",
       "  {'neuron_idx': 15, 'gate': 'not_implies', 'inputs': (611, 253)},\n",
       "  {'neuron_idx': 16, 'gate': 'or', 'inputs': (11, 459)},\n",
       "  {'neuron_idx': 17, 'gate': 'not_a', 'inputs': (388, 59)},\n",
       "  {'neuron_idx': 18, 'gate': 'a', 'inputs': (419, 21)},\n",
       "  {'neuron_idx': 19, 'gate': 'b', 'inputs': (164, 738)},\n",
       "  {'neuron_idx': 20, 'gate': 'b', 'inputs': (434, 148)},\n",
       "  {'neuron_idx': 21, 'gate': 'not_a', 'inputs': (130, 561)},\n",
       "  {'neuron_idx': 22, 'gate': 'not_xor', 'inputs': (84, 218)},\n",
       "  {'neuron_idx': 23, 'gate': 'not_implied_by', 'inputs': (228, 738)},\n",
       "  {'neuron_idx': 24, 'gate': 'implied_by', 'inputs': (672, 97)},\n",
       "  {'neuron_idx': 25, 'gate': 'xor', 'inputs': (453, 373)},\n",
       "  {'neuron_idx': 26, 'gate': 'xor', 'inputs': (386, 82)},\n",
       "  {'neuron_idx': 27, 'gate': 'b', 'inputs': (725, 728)},\n",
       "  {'neuron_idx': 28, 'gate': 'xor', 'inputs': (266, 445)},\n",
       "  {'neuron_idx': 29, 'gate': 'xor', 'inputs': (548, 237)},\n",
       "  {'neuron_idx': 30, 'gate': 'and', 'inputs': (690, 715)},\n",
       "  {'neuron_idx': 31, 'gate': 'or', 'inputs': (14, 297)},\n",
       "  {'neuron_idx': 32, 'gate': 'b', 'inputs': (320, 667)},\n",
       "  {'neuron_idx': 33, 'gate': 'not_xor', 'inputs': (550, 138)},\n",
       "  {'neuron_idx': 34, 'gate': 'implied_by', 'inputs': (58, 667)},\n",
       "  {'neuron_idx': 35, 'gate': 'not_implies', 'inputs': (739, 566)},\n",
       "  {'neuron_idx': 36, 'gate': 'a', 'inputs': (80, 573)},\n",
       "  {'neuron_idx': 37, 'gate': 'not_xor', 'inputs': (383, 91)},\n",
       "  {'neuron_idx': 38, 'gate': 'xor', 'inputs': (547, 679)},\n",
       "  {'neuron_idx': 39, 'gate': 'not_b', 'inputs': (346, 507)},\n",
       "  {'neuron_idx': 40, 'gate': 'a', 'inputs': (718, 330)},\n",
       "  {'neuron_idx': 41, 'gate': 'or', 'inputs': (202, 367)},\n",
       "  {'neuron_idx': 42, 'gate': 'implies', 'inputs': (195, 5)},\n",
       "  {'neuron_idx': 43, 'gate': 'not_implies', 'inputs': (322, 344)},\n",
       "  {'neuron_idx': 44, 'gate': 'implied_by', 'inputs': (256, 16)},\n",
       "  {'neuron_idx': 45, 'gate': 'a', 'inputs': (219, 643)},\n",
       "  {'neuron_idx': 46, 'gate': 'not_b', 'inputs': (725, 133)},\n",
       "  {'neuron_idx': 47, 'gate': 'not_a', 'inputs': (77, 433)},\n",
       "  {'neuron_idx': 48, 'gate': 'or', 'inputs': (281, 563)},\n",
       "  {'neuron_idx': 49, 'gate': 'xor', 'inputs': (546, 241)},\n",
       "  {'neuron_idx': 50, 'gate': 'or', 'inputs': (346, 416)},\n",
       "  {'neuron_idx': 51, 'gate': 'and', 'inputs': (636, 269)},\n",
       "  {'neuron_idx': 52, 'gate': 'b', 'inputs': (427, 97)},\n",
       "  {'neuron_idx': 53, 'gate': 'or', 'inputs': (665, 388)},\n",
       "  {'neuron_idx': 54, 'gate': 'implied_by', 'inputs': (330, 457)},\n",
       "  {'neuron_idx': 55, 'gate': 'not_and', 'inputs': (458, 453)},\n",
       "  {'neuron_idx': 56, 'gate': 'not_a', 'inputs': (384, 584)},\n",
       "  {'neuron_idx': 57, 'gate': 'xor', 'inputs': (134, 208)},\n",
       "  {'neuron_idx': 58, 'gate': 'not_b', 'inputs': (444, 290)},\n",
       "  {'neuron_idx': 59, 'gate': 'b', 'inputs': (429, 43)},\n",
       "  {'neuron_idx': 60, 'gate': 'not_xor', 'inputs': (704, 722)},\n",
       "  {'neuron_idx': 61, 'gate': 'b', 'inputs': (468, 65)},\n",
       "  {'neuron_idx': 62, 'gate': 'not_a', 'inputs': (520, 736)},\n",
       "  {'neuron_idx': 63, 'gate': 'not_or', 'inputs': (726, 675)},\n",
       "  {'neuron_idx': 64, 'gate': 'not_b', 'inputs': (460, 301)},\n",
       "  {'neuron_idx': 65, 'gate': 'a', 'inputs': (690, 676)},\n",
       "  {'neuron_idx': 66, 'gate': 'or', 'inputs': (204, 108)},\n",
       "  {'neuron_idx': 67, 'gate': 'implies', 'inputs': (692, 780)},\n",
       "  {'neuron_idx': 68, 'gate': 'a', 'inputs': (599, 548)},\n",
       "  {'neuron_idx': 69, 'gate': 'not_or', 'inputs': (693, 516)},\n",
       "  {'neuron_idx': 70, 'gate': 'or', 'inputs': (346, 115)},\n",
       "  {'neuron_idx': 71, 'gate': 'a', 'inputs': (539, 236)},\n",
       "  {'neuron_idx': 72, 'gate': 'b', 'inputs': (604, 556)},\n",
       "  {'neuron_idx': 73, 'gate': 'xor', 'inputs': (482, 395)},\n",
       "  {'neuron_idx': 74, 'gate': 'not_or', 'inputs': (550, 225)},\n",
       "  {'neuron_idx': 75, 'gate': 'not_xor', 'inputs': (517, 588)},\n",
       "  {'neuron_idx': 76, 'gate': 'b', 'inputs': (493, 347)},\n",
       "  {'neuron_idx': 77, 'gate': 'b', 'inputs': (129, 613)},\n",
       "  {'neuron_idx': 78, 'gate': 'not_implies', 'inputs': (123, 279)},\n",
       "  {'neuron_idx': 79, 'gate': 'not_implied_by', 'inputs': (307, 770)},\n",
       "  {'neuron_idx': 80, 'gate': 'xor', 'inputs': (766, 606)},\n",
       "  {'neuron_idx': 81, 'gate': 'not_and', 'inputs': (505, 530)},\n",
       "  {'neuron_idx': 82, 'gate': 'not_a', 'inputs': (618, 510)},\n",
       "  {'neuron_idx': 83, 'gate': 'xor', 'inputs': (386, 440)},\n",
       "  {'neuron_idx': 84, 'gate': 'implies', 'inputs': (175, 759)},\n",
       "  {'neuron_idx': 85, 'gate': 'not_b', 'inputs': (638, 229)},\n",
       "  {'neuron_idx': 86, 'gate': 'or', 'inputs': (217, 6)},\n",
       "  {'neuron_idx': 87, 'gate': 'b', 'inputs': (726, 174)},\n",
       "  {'neuron_idx': 88, 'gate': 'implied_by', 'inputs': (782, 274)},\n",
       "  {'neuron_idx': 89, 'gate': 'and', 'inputs': (356, 460)},\n",
       "  {'neuron_idx': 90, 'gate': 'or', 'inputs': (630, 774)},\n",
       "  {'neuron_idx': 91, 'gate': 'xor', 'inputs': (543, 624)},\n",
       "  {'neuron_idx': 92, 'gate': 'not_implies', 'inputs': (713, 628)},\n",
       "  {'neuron_idx': 93, 'gate': 'xor', 'inputs': (508, 348)},\n",
       "  {'neuron_idx': 94, 'gate': 'not_or', 'inputs': (114, 19)},\n",
       "  {'neuron_idx': 95, 'gate': 'or', 'inputs': (296, 289)},\n",
       "  {'neuron_idx': 96, 'gate': 'not_implies', 'inputs': (716, 408)},\n",
       "  {'neuron_idx': 97, 'gate': 'not_xor', 'inputs': (440, 190)},\n",
       "  {'neuron_idx': 98, 'gate': 'not_or', 'inputs': (237, 448)},\n",
       "  {'neuron_idx': 99, 'gate': 'or', 'inputs': (582, 51)},\n",
       "  {'neuron_idx': 100, 'gate': 'not_implies', 'inputs': (615, 94)},\n",
       "  {'neuron_idx': 101, 'gate': 'implies', 'inputs': (396, 754)},\n",
       "  {'neuron_idx': 102, 'gate': 'b', 'inputs': (470, 748)},\n",
       "  {'neuron_idx': 103, 'gate': 'a', 'inputs': (531, 650)},\n",
       "  {'neuron_idx': 104, 'gate': 'not_implied_by', 'inputs': (50, 101)},\n",
       "  {'neuron_idx': 105, 'gate': 'or', 'inputs': (567, 522)},\n",
       "  {'neuron_idx': 106, 'gate': 'b', 'inputs': (712, 388)},\n",
       "  {'neuron_idx': 107, 'gate': 'b', 'inputs': (712, 233)},\n",
       "  {'neuron_idx': 108, 'gate': 'not_xor', 'inputs': (726, 446)},\n",
       "  {'neuron_idx': 109, 'gate': 'not_or', 'inputs': (288, 705)},\n",
       "  {'neuron_idx': 110, 'gate': 'b', 'inputs': (52, 457)},\n",
       "  {'neuron_idx': 111, 'gate': 'not_b', 'inputs': (134, 428)},\n",
       "  {'neuron_idx': 112, 'gate': 'not_or', 'inputs': (503, 466)},\n",
       "  {'neuron_idx': 113, 'gate': 'not_or', 'inputs': (379, 614)},\n",
       "  {'neuron_idx': 114, 'gate': 'or', 'inputs': (167, 261)},\n",
       "  {'neuron_idx': 115, 'gate': 'a', 'inputs': (329, 382)},\n",
       "  {'neuron_idx': 116, 'gate': 'not_xor', 'inputs': (581, 4)},\n",
       "  {'neuron_idx': 117, 'gate': 'or', 'inputs': (484, 588)},\n",
       "  {'neuron_idx': 118, 'gate': 'implied_by', 'inputs': (544, 513)},\n",
       "  {'neuron_idx': 119, 'gate': 'a', 'inputs': (141, 179)},\n",
       "  {'neuron_idx': 120, 'gate': 'not_b', 'inputs': (622, 591)},\n",
       "  {'neuron_idx': 121, 'gate': 'not_xor', 'inputs': (67, 516)},\n",
       "  {'neuron_idx': 122, 'gate': 'not_or', 'inputs': (702, 252)},\n",
       "  {'neuron_idx': 123, 'gate': 'not_a', 'inputs': (717, 155)},\n",
       "  {'neuron_idx': 124, 'gate': 'implies', 'inputs': (491, 428)},\n",
       "  {'neuron_idx': 125, 'gate': 'xor', 'inputs': (638, 323)},\n",
       "  {'neuron_idx': 126, 'gate': 'or', 'inputs': (99, 132)},\n",
       "  {'neuron_idx': 127, 'gate': 'xor', 'inputs': (666, 96)},\n",
       "  {'neuron_idx': 128, 'gate': 'or', 'inputs': (93, 145)},\n",
       "  {'neuron_idx': 129, 'gate': 'not_xor', 'inputs': (697, 565)},\n",
       "  {'neuron_idx': 130, 'gate': 'a', 'inputs': (664, 346)},\n",
       "  {'neuron_idx': 131, 'gate': 'or', 'inputs': (491, 8)},\n",
       "  {'neuron_idx': 132, 'gate': 'xor', 'inputs': (160, 760)},\n",
       "  {'neuron_idx': 133, 'gate': 'implied_by', 'inputs': (336, 385)},\n",
       "  {'neuron_idx': 134, 'gate': 'xor', 'inputs': (488, 240)},\n",
       "  {'neuron_idx': 135, 'gate': 'a', 'inputs': (651, 58)},\n",
       "  {'neuron_idx': 136, 'gate': 'not_xor', 'inputs': (332, 141)},\n",
       "  {'neuron_idx': 137, 'gate': 'implies', 'inputs': (335, 88)},\n",
       "  {'neuron_idx': 138, 'gate': 'or', 'inputs': (605, 277)},\n",
       "  {'neuron_idx': 139, 'gate': 'or', 'inputs': (336, 335)},\n",
       "  {'neuron_idx': 140, 'gate': 'not_and', 'inputs': (497, 708)},\n",
       "  {'neuron_idx': 141, 'gate': 'or', 'inputs': (702, 262)},\n",
       "  {'neuron_idx': 142, 'gate': 'not_or', 'inputs': (692, 661)},\n",
       "  {'neuron_idx': 143, 'gate': 'not_a', 'inputs': (305, 626)},\n",
       "  {'neuron_idx': 144, 'gate': 'or', 'inputs': (342, 648)},\n",
       "  {'neuron_idx': 145, 'gate': 'not_implied_by', 'inputs': (575, 153)},\n",
       "  {'neuron_idx': 146, 'gate': 'xor', 'inputs': (699, 718)},\n",
       "  {'neuron_idx': 147, 'gate': 'not_implied_by', 'inputs': (759, 72)},\n",
       "  {'neuron_idx': 148, 'gate': 'and', 'inputs': (350, 478)},\n",
       "  {'neuron_idx': 149, 'gate': 'not_implies', 'inputs': (341, 627)},\n",
       "  {'neuron_idx': 150, 'gate': 'not_and', 'inputs': (600, 495)},\n",
       "  {'neuron_idx': 151, 'gate': 'b', 'inputs': (246, 640)},\n",
       "  {'neuron_idx': 152, 'gate': 'xor', 'inputs': (171, 470)},\n",
       "  {'neuron_idx': 153, 'gate': 'not_b', 'inputs': (470, 154)},\n",
       "  {'neuron_idx': 154, 'gate': 'not_xor', 'inputs': (591, 332)},\n",
       "  {'neuron_idx': 155, 'gate': 'or', 'inputs': (719, 715)},\n",
       "  {'neuron_idx': 156, 'gate': 'not_or', 'inputs': (628, 531)},\n",
       "  {'neuron_idx': 157, 'gate': 'or', 'inputs': (642, 301)},\n",
       "  {'neuron_idx': 158, 'gate': 'implies', 'inputs': (269, 186)},\n",
       "  {'neuron_idx': 159, 'gate': 'implied_by', 'inputs': (561, 174)},\n",
       "  {'neuron_idx': 160, 'gate': 'or', 'inputs': (652, 201)},\n",
       "  {'neuron_idx': 161, 'gate': 'not_or', 'inputs': (313, 115)},\n",
       "  {'neuron_idx': 162, 'gate': 'not_a', 'inputs': (115, 517)},\n",
       "  {'neuron_idx': 163, 'gate': 'not_or', 'inputs': (230, 262)},\n",
       "  {'neuron_idx': 164, 'gate': 'and', 'inputs': (562, 540)},\n",
       "  {'neuron_idx': 165, 'gate': 'or', 'inputs': (149, 121)},\n",
       "  {'neuron_idx': 166, 'gate': 'not_b', 'inputs': (615, 27)},\n",
       "  {'neuron_idx': 167, 'gate': 'or', 'inputs': (308, 525)},\n",
       "  {'neuron_idx': 168, 'gate': 'a', 'inputs': (301, 76)},\n",
       "  {'neuron_idx': 169, 'gate': 'not_a', 'inputs': (373, 442)},\n",
       "  {'neuron_idx': 170, 'gate': 'not_b', 'inputs': (672, 206)},\n",
       "  {'neuron_idx': 171, 'gate': 'xor', 'inputs': (509, 554)},\n",
       "  {'neuron_idx': 172, 'gate': 'not_b', 'inputs': (498, 481)},\n",
       "  {'neuron_idx': 173, 'gate': 'not_xor', 'inputs': (593, 431)},\n",
       "  {'neuron_idx': 174, 'gate': 'xor', 'inputs': (373, 434)},\n",
       "  {'neuron_idx': 175, 'gate': 'a', 'inputs': (43, 407)},\n",
       "  {'neuron_idx': 176, 'gate': 'xor', 'inputs': (767, 752)},\n",
       "  {'neuron_idx': 177, 'gate': 'b', 'inputs': (79, 524)},\n",
       "  {'neuron_idx': 178, 'gate': 'not_b', 'inputs': (783, 396)},\n",
       "  {'neuron_idx': 179, 'gate': 'not_xor', 'inputs': (297, 437)},\n",
       "  {'neuron_idx': 180, 'gate': 'not_implied_by', 'inputs': (49, 126)},\n",
       "  {'neuron_idx': 181, 'gate': 'not_or', 'inputs': (303, 726)},\n",
       "  {'neuron_idx': 182, 'gate': 'or', 'inputs': (388, 644)},\n",
       "  {'neuron_idx': 183, 'gate': 'not_and', 'inputs': (209, 296)},\n",
       "  {'neuron_idx': 184, 'gate': 'implies', 'inputs': (535, 139)},\n",
       "  {'neuron_idx': 185, 'gate': 'not_b', 'inputs': (480, 264)},\n",
       "  {'neuron_idx': 186, 'gate': 'not_or', 'inputs': (130, 570)},\n",
       "  {'neuron_idx': 187, 'gate': 'a', 'inputs': (288, 403)},\n",
       "  {'neuron_idx': 188, 'gate': 'not_xor', 'inputs': (663, 571)},\n",
       "  {'neuron_idx': 189, 'gate': 'xor', 'inputs': (408, 512)},\n",
       "  {'neuron_idx': 190, 'gate': 'not_implies', 'inputs': (423, 491)},\n",
       "  {'neuron_idx': 191, 'gate': 'not_a', 'inputs': (125, 644)},\n",
       "  {'neuron_idx': 192, 'gate': 'not_or', 'inputs': (273, 514)},\n",
       "  {'neuron_idx': 193, 'gate': 'and', 'inputs': (680, 579)},\n",
       "  {'neuron_idx': 194, 'gate': 'a', 'inputs': (623, 729)},\n",
       "  {'neuron_idx': 195, 'gate': 'b', 'inputs': (322, 261)},\n",
       "  {'neuron_idx': 196, 'gate': 'not_or', 'inputs': (680, 368)},\n",
       "  {'neuron_idx': 197, 'gate': 'not_implied_by', 'inputs': (92, 581)},\n",
       "  {'neuron_idx': 198, 'gate': 'not_a', 'inputs': (218, 384)},\n",
       "  {'neuron_idx': 199, 'gate': 'b', 'inputs': (95, 229)},\n",
       "  {'neuron_idx': 200, 'gate': 'b', 'inputs': (769, 17)},\n",
       "  {'neuron_idx': 201, 'gate': 'not_or', 'inputs': (303, 559)},\n",
       "  {'neuron_idx': 202, 'gate': 'not_a', 'inputs': (595, 628)},\n",
       "  {'neuron_idx': 203, 'gate': 'not_a', 'inputs': (511, 631)},\n",
       "  {'neuron_idx': 204, 'gate': 'a', 'inputs': (728, 114)},\n",
       "  {'neuron_idx': 205, 'gate': 'xor', 'inputs': (283, 213)},\n",
       "  {'neuron_idx': 206, 'gate': 'not_and', 'inputs': (264, 382)},\n",
       "  {'neuron_idx': 207, 'gate': 'not_a', 'inputs': (408, 256)},\n",
       "  {'neuron_idx': 208, 'gate': 'xor', 'inputs': (60, 654)},\n",
       "  {'neuron_idx': 209, 'gate': 'not_implies', 'inputs': (597, 244)},\n",
       "  {'neuron_idx': 210, 'gate': 'implies', 'inputs': (345, 446)},\n",
       "  {'neuron_idx': 211, 'gate': 'implied_by', 'inputs': (174, 466)},\n",
       "  {'neuron_idx': 212, 'gate': 'a', 'inputs': (177, 457)},\n",
       "  {'neuron_idx': 213, 'gate': 'implies', 'inputs': (76, 225)},\n",
       "  {'neuron_idx': 214, 'gate': 'and', 'inputs': (596, 709)},\n",
       "  {'neuron_idx': 215, 'gate': 'not_b', 'inputs': (157, 295)},\n",
       "  {'neuron_idx': 216, 'gate': 'implies', 'inputs': (107, 34)},\n",
       "  {'neuron_idx': 217, 'gate': 'or', 'inputs': (79, 67)},\n",
       "  {'neuron_idx': 218, 'gate': 'not_xor', 'inputs': (242, 166)},\n",
       "  {'neuron_idx': 219, 'gate': 'b', 'inputs': (496, 77)},\n",
       "  {'neuron_idx': 220, 'gate': 'not_xor', 'inputs': (575, 604)},\n",
       "  {'neuron_idx': 221, 'gate': 'and', 'inputs': (638, 380)},\n",
       "  {'neuron_idx': 222, 'gate': 'not_xor', 'inputs': (592, 137)},\n",
       "  {'neuron_idx': 223, 'gate': 'not_a', 'inputs': (491, 565)},\n",
       "  {'neuron_idx': 224, 'gate': 'not_or', 'inputs': (596, 169)},\n",
       "  {'neuron_idx': 225, 'gate': 'not_xor', 'inputs': (321, 324)},\n",
       "  {'neuron_idx': 226, 'gate': 'not_xor', 'inputs': (414, 440)},\n",
       "  {'neuron_idx': 227, 'gate': 'or', 'inputs': (193, 277)},\n",
       "  {'neuron_idx': 228, 'gate': 'implied_by', 'inputs': (752, 298)},\n",
       "  {'neuron_idx': 229, 'gate': 'not_implies', 'inputs': (714, 154)},\n",
       "  {'neuron_idx': 230, 'gate': 'not_xor', 'inputs': (715, 324)},\n",
       "  {'neuron_idx': 231, 'gate': 'not_xor', 'inputs': (678, 272)},\n",
       "  {'neuron_idx': 232, 'gate': 'not_xor', 'inputs': (350, 219)},\n",
       "  {'neuron_idx': 233, 'gate': 'a', 'inputs': (98, 210)},\n",
       "  {'neuron_idx': 234, 'gate': 'xor', 'inputs': (470, 534)},\n",
       "  {'neuron_idx': 235, 'gate': 'xor', 'inputs': (47, 749)},\n",
       "  {'neuron_idx': 236, 'gate': 'b', 'inputs': (478, 12)},\n",
       "  {'neuron_idx': 237, 'gate': 'not_implied_by', 'inputs': (108, 695)},\n",
       "  {'neuron_idx': 238, 'gate': 'or', 'inputs': (765, 111)},\n",
       "  {'neuron_idx': 239, 'gate': 'not_xor', 'inputs': (748, 594)},\n",
       "  {'neuron_idx': 240, 'gate': 'not_a', 'inputs': (42, 775)},\n",
       "  {'neuron_idx': 241, 'gate': 'or', 'inputs': (588, 281)},\n",
       "  {'neuron_idx': 242, 'gate': 'not_a', 'inputs': (456, 617)},\n",
       "  {'neuron_idx': 243, 'gate': 'not_implies', 'inputs': (239, 205)},\n",
       "  {'neuron_idx': 244, 'gate': 'b', 'inputs': (143, 51)},\n",
       "  {'neuron_idx': 245, 'gate': 'or', 'inputs': (782, 49)},\n",
       "  {'neuron_idx': 246, 'gate': 'a', 'inputs': (325, 170)},\n",
       "  {'neuron_idx': 247, 'gate': 'xor', 'inputs': (737, 2)},\n",
       "  {'neuron_idx': 248, 'gate': 'not_a', 'inputs': (523, 343)},\n",
       "  {'neuron_idx': 249, 'gate': 'or', 'inputs': (641, 515)},\n",
       "  {'neuron_idx': 250, 'gate': 'not_and', 'inputs': (344, 93)},\n",
       "  {'neuron_idx': 251, 'gate': 'implied_by', 'inputs': (397, 31)},\n",
       "  {'neuron_idx': 252, 'gate': 'a', 'inputs': (441, 447)},\n",
       "  {'neuron_idx': 253, 'gate': 'not_implies', 'inputs': (762, 21)},\n",
       "  {'neuron_idx': 254, 'gate': 'xor', 'inputs': (569, 232)},\n",
       "  {'neuron_idx': 255, 'gate': 'xor', 'inputs': (242, 649)},\n",
       "  {'neuron_idx': 256, 'gate': 'not_b', 'inputs': (314, 530)},\n",
       "  {'neuron_idx': 257, 'gate': 'b', 'inputs': (416, 63)},\n",
       "  {'neuron_idx': 258, 'gate': 'not_or', 'inputs': (392, 56)},\n",
       "  {'neuron_idx': 259, 'gate': 'not_b', 'inputs': (582, 250)},\n",
       "  {'neuron_idx': 260, 'gate': 'or', 'inputs': (252, 559)},\n",
       "  {'neuron_idx': 261, 'gate': 'xor', 'inputs': (572, 601)},\n",
       "  {'neuron_idx': 262, 'gate': 'a', 'inputs': (244, 449)},\n",
       "  {'neuron_idx': 263, 'gate': 'xor', 'inputs': (694, 556)},\n",
       "  {'neuron_idx': 264, 'gate': 'xor', 'inputs': (712, 146)},\n",
       "  {'neuron_idx': 265, 'gate': 'xor', 'inputs': (309, 496)},\n",
       "  {'neuron_idx': 266, 'gate': 'not_or', 'inputs': (773, 675)},\n",
       "  {'neuron_idx': 267, 'gate': 'a', 'inputs': (174, 401)},\n",
       "  {'neuron_idx': 268, 'gate': 'or', 'inputs': (104, 783)},\n",
       "  {'neuron_idx': 269, 'gate': 'not_a', 'inputs': (568, 390)},\n",
       "  {'neuron_idx': 270, 'gate': 'not_b', 'inputs': (632, 455)},\n",
       "  {'neuron_idx': 271, 'gate': 'implies', 'inputs': (394, 677)},\n",
       "  {'neuron_idx': 272, 'gate': 'not_b', 'inputs': (425, 133)},\n",
       "  {'neuron_idx': 273, 'gate': 'or', 'inputs': (226, 278)},\n",
       "  {'neuron_idx': 274, 'gate': 'xor', 'inputs': (548, 213)},\n",
       "  {'neuron_idx': 275, 'gate': 'not_implies', 'inputs': (675, 361)},\n",
       "  {'neuron_idx': 276, 'gate': 'implied_by', 'inputs': (616, 191)},\n",
       "  {'neuron_idx': 277, 'gate': 'xor', 'inputs': (593, 538)},\n",
       "  {'neuron_idx': 278, 'gate': 'xor', 'inputs': (222, 367)},\n",
       "  {'neuron_idx': 279, 'gate': 'b', 'inputs': (521, 388)},\n",
       "  {'neuron_idx': 280, 'gate': 'a', 'inputs': (104, 508)},\n",
       "  {'neuron_idx': 281, 'gate': 'implied_by', 'inputs': (202, 349)},\n",
       "  {'neuron_idx': 282, 'gate': 'xor', 'inputs': (184, 665)},\n",
       "  {'neuron_idx': 283, 'gate': 'implied_by', 'inputs': (261, 544)},\n",
       "  {'neuron_idx': 284, 'gate': 'xor', 'inputs': (126, 360)},\n",
       "  {'neuron_idx': 285, 'gate': 'and', 'inputs': (233, 634)},\n",
       "  {'neuron_idx': 286, 'gate': 'a', 'inputs': (18, 380)},\n",
       "  {'neuron_idx': 287, 'gate': 'not_a', 'inputs': (236, 80)},\n",
       "  {'neuron_idx': 288, 'gate': 'xor', 'inputs': (439, 480)},\n",
       "  {'neuron_idx': 289, 'gate': 'not_b', 'inputs': (718, 44)},\n",
       "  {'neuron_idx': 290, 'gate': 'not_b', 'inputs': (472, 14)},\n",
       "  {'neuron_idx': 291, 'gate': 'not_b', 'inputs': (447, 291)},\n",
       "  {'neuron_idx': 292, 'gate': 'not_xor', 'inputs': (703, 422)},\n",
       "  {'neuron_idx': 293, 'gate': 'b', 'inputs': (670, 288)},\n",
       "  {'neuron_idx': 294, 'gate': 'not_b', 'inputs': (424, 210)},\n",
       "  {'neuron_idx': 295, 'gate': 'b', 'inputs': (65, 271)},\n",
       "  {'neuron_idx': 296, 'gate': 'or', 'inputs': (478, 510)},\n",
       "  {'neuron_idx': 297, 'gate': 'not_b', 'inputs': (683, 449)},\n",
       "  {'neuron_idx': 298, 'gate': 'a', 'inputs': (49, 318)},\n",
       "  {'neuron_idx': 299, 'gate': 'not_or', 'inputs': (779, 390)},\n",
       "  {'neuron_idx': 300, 'gate': 'a', 'inputs': (610, 558)},\n",
       "  {'neuron_idx': 301, 'gate': 'not_implies', 'inputs': (505, 757)},\n",
       "  {'neuron_idx': 302, 'gate': 'not_xor', 'inputs': (438, 749)},\n",
       "  {'neuron_idx': 303, 'gate': 'not_xor', 'inputs': (355, 29)},\n",
       "  {'neuron_idx': 304, 'gate': 'not_b', 'inputs': (290, 285)},\n",
       "  {'neuron_idx': 305, 'gate': 'not_a', 'inputs': (70, 359)},\n",
       "  {'neuron_idx': 306, 'gate': 'xor', 'inputs': (772, 351)},\n",
       "  {'neuron_idx': 307, 'gate': 'xor', 'inputs': (583, 135)},\n",
       "  {'neuron_idx': 308, 'gate': 'a', 'inputs': (296, 467)},\n",
       "  {'neuron_idx': 309, 'gate': 'implies', 'inputs': (373, 33)},\n",
       "  {'neuron_idx': 310, 'gate': 'xor', 'inputs': (395, 499)},\n",
       "  {'neuron_idx': 311, 'gate': 'implied_by', 'inputs': (462, 178)},\n",
       "  {'neuron_idx': 312, 'gate': 'b', 'inputs': (692, 371)},\n",
       "  {'neuron_idx': 313, 'gate': 'not_b', 'inputs': (518, 179)},\n",
       "  {'neuron_idx': 314, 'gate': 'not_xor', 'inputs': (555, 604)},\n",
       "  {'neuron_idx': 315, 'gate': 'implies', 'inputs': (423, 48)},\n",
       "  {'neuron_idx': 316, 'gate': 'not_implies', 'inputs': (381, 683)},\n",
       "  {'neuron_idx': 317, 'gate': 'b', 'inputs': (271, 426)},\n",
       "  {'neuron_idx': 318, 'gate': 'not_b', 'inputs': (170, 231)},\n",
       "  {'neuron_idx': 319, 'gate': 'not_or', 'inputs': (540, 415)},\n",
       "  {'neuron_idx': 320, 'gate': 'b', 'inputs': (302, 393)},\n",
       "  {'neuron_idx': 321, 'gate': 'not_implied_by', 'inputs': (518, 570)},\n",
       "  {'neuron_idx': 322, 'gate': 'a', 'inputs': (474, 11)},\n",
       "  {'neuron_idx': 323, 'gate': 'not_or', 'inputs': (588, 645)},\n",
       "  {'neuron_idx': 324, 'gate': 'not_b', 'inputs': (703, 583)},\n",
       "  {'neuron_idx': 325, 'gate': 'a', 'inputs': (490, 145)},\n",
       "  {'neuron_idx': 326, 'gate': 'not_implied_by', 'inputs': (495, 706)},\n",
       "  {'neuron_idx': 327, 'gate': 'xor', 'inputs': (774, 646)},\n",
       "  {'neuron_idx': 328, 'gate': 'b', 'inputs': (235, 745)},\n",
       "  {'neuron_idx': 329, 'gate': 'not_b', 'inputs': (520, 208)},\n",
       "  {'neuron_idx': 330, 'gate': 'a', 'inputs': (128, 587)},\n",
       "  {'neuron_idx': 331, 'gate': 'not_xor', 'inputs': (621, 282)},\n",
       "  {'neuron_idx': 332, 'gate': 'not_a', 'inputs': (606, 5)},\n",
       "  {'neuron_idx': 333, 'gate': 'not_xor', 'inputs': (668, 686)},\n",
       "  {'neuron_idx': 334, 'gate': 'not_xor', 'inputs': (221, 343)},\n",
       "  {'neuron_idx': 335, 'gate': 'b', 'inputs': (219, 253)},\n",
       "  {'neuron_idx': 336, 'gate': 'not_a', 'inputs': (603, 247)},\n",
       "  {'neuron_idx': 337, 'gate': 'a', 'inputs': (633, 492)},\n",
       "  {'neuron_idx': 338, 'gate': 'not_a', 'inputs': (537, 150)},\n",
       "  {'neuron_idx': 339, 'gate': 'implied_by', 'inputs': (77, 541)},\n",
       "  {'neuron_idx': 340, 'gate': 'not_or', 'inputs': (726, 693)},\n",
       "  {'neuron_idx': 341, 'gate': 'implied_by', 'inputs': (4, 337)},\n",
       "  {'neuron_idx': 342, 'gate': 'xor', 'inputs': (746, 619)},\n",
       "  {'neuron_idx': 343, 'gate': 'implies', 'inputs': (70, 278)},\n",
       "  {'neuron_idx': 344, 'gate': 'a', 'inputs': (157, 300)},\n",
       "  {'neuron_idx': 345, 'gate': 'or', 'inputs': (213, 313)},\n",
       "  {'neuron_idx': 346, 'gate': 'not_implied_by', 'inputs': (475, 526)},\n",
       "  {'neuron_idx': 347, 'gate': 'or', 'inputs': (652, 398)},\n",
       "  {'neuron_idx': 348, 'gate': 'not_xor', 'inputs': (369, 741)},\n",
       "  {'neuron_idx': 349, 'gate': 'or', 'inputs': (176, 176)},\n",
       "  {'neuron_idx': 350, 'gate': 'xor', 'inputs': (623, 547)},\n",
       "  {'neuron_idx': 351, 'gate': 'not_xor', 'inputs': (687, 445)},\n",
       "  {'neuron_idx': 352, 'gate': 'a', 'inputs': (179, 183)},\n",
       "  {'neuron_idx': 353, 'gate': 'not_implied_by', 'inputs': (770, 495)},\n",
       "  {'neuron_idx': 354, 'gate': 'xor', 'inputs': (120, 680)},\n",
       "  {'neuron_idx': 355, 'gate': 'not_xor', 'inputs': (657, 532)},\n",
       "  {'neuron_idx': 356, 'gate': 'not_or', 'inputs': (30, 537)},\n",
       "  {'neuron_idx': 357, 'gate': 'xor', 'inputs': (193, 220)},\n",
       "  {'neuron_idx': 358, 'gate': 'not_b', 'inputs': (692, 238)},\n",
       "  {'neuron_idx': 359, 'gate': 'not_a', 'inputs': (407, 439)},\n",
       "  {'neuron_idx': 360, 'gate': 'xor', 'inputs': (573, 527)},\n",
       "  {'neuron_idx': 361, 'gate': 'or', 'inputs': (708, 402)},\n",
       "  {'neuron_idx': 362, 'gate': 'not_a', 'inputs': (238, 3)},\n",
       "  {'neuron_idx': 363, 'gate': 'not_implied_by', 'inputs': (260, 472)},\n",
       "  {'neuron_idx': 364, 'gate': 'not_b', 'inputs': (451, 106)},\n",
       "  {'neuron_idx': 365, 'gate': 'a', 'inputs': (507, 88)},\n",
       "  {'neuron_idx': 366, 'gate': 'not_b', 'inputs': (550, 51)},\n",
       "  {'neuron_idx': 367, 'gate': 'or', 'inputs': (579, 59)},\n",
       "  {'neuron_idx': 368, 'gate': 'not_implied_by', 'inputs': (689, 494)},\n",
       "  {'neuron_idx': 369, 'gate': 'a', 'inputs': (316, 181)},\n",
       "  {'neuron_idx': 370, 'gate': 'a', 'inputs': (341, 586)},\n",
       "  {'neuron_idx': 371, 'gate': 'not_or', 'inputs': (611, 337)},\n",
       "  {'neuron_idx': 372, 'gate': 'not_or', 'inputs': (169, 98)},\n",
       "  {'neuron_idx': 373, 'gate': 'or', 'inputs': (84, 321)},\n",
       "  {'neuron_idx': 374, 'gate': 'not_b', 'inputs': (448, 659)},\n",
       "  {'neuron_idx': 375, 'gate': 'not_and', 'inputs': (351, 189)},\n",
       "  {'neuron_idx': 376, 'gate': 'a', 'inputs': (99, 758)},\n",
       "  {'neuron_idx': 377, 'gate': 'not_a', 'inputs': (182, 322)},\n",
       "  {'neuron_idx': 378, 'gate': 'not_implied_by', 'inputs': (3, 269)},\n",
       "  {'neuron_idx': 379, 'gate': 'or', 'inputs': (696, 511)},\n",
       "  {'neuron_idx': 380, 'gate': 'b', 'inputs': (157, 63)},\n",
       "  {'neuron_idx': 381, 'gate': 'not_and', 'inputs': (227, 696)},\n",
       "  {'neuron_idx': 382, 'gate': 'not_xor', 'inputs': (364, 25)},\n",
       "  {'neuron_idx': 383, 'gate': 'b', 'inputs': (59, 616)},\n",
       "  {'neuron_idx': 384, 'gate': 'not_a', 'inputs': (52, 756)},\n",
       "  {'neuron_idx': 385, 'gate': 'not_xor', 'inputs': (410, 713)},\n",
       "  {'neuron_idx': 386, 'gate': 'not_implies', 'inputs': (154, 504)},\n",
       "  {'neuron_idx': 387, 'gate': 'or', 'inputs': (147, 312)},\n",
       "  {'neuron_idx': 388, 'gate': 'or', 'inputs': (573, 280)},\n",
       "  {'neuron_idx': 389, 'gate': 'not_or', 'inputs': (141, 767)},\n",
       "  {'neuron_idx': 390, 'gate': 'b', 'inputs': (142, 79)},\n",
       "  {'neuron_idx': 391, 'gate': 'not_xor', 'inputs': (487, 416)},\n",
       "  {'neuron_idx': 392, 'gate': 'not_implied_by', 'inputs': (398, 743)},\n",
       "  {'neuron_idx': 393, 'gate': 'xor', 'inputs': (28, 487)},\n",
       "  {'neuron_idx': 394, 'gate': 'not_xor', 'inputs': (537, 594)},\n",
       "  {'neuron_idx': 395, 'gate': 'not_b', 'inputs': (486, 181)},\n",
       "  {'neuron_idx': 396, 'gate': 'xor', 'inputs': (505, 314)},\n",
       "  {'neuron_idx': 397, 'gate': 'xor', 'inputs': (665, 199)},\n",
       "  {'neuron_idx': 398, 'gate': 'xor', 'inputs': (755, 228)},\n",
       "  {'neuron_idx': 399, 'gate': 'xor', 'inputs': (711, 659)},\n",
       "  {'neuron_idx': 400, 'gate': 'a', 'inputs': (149, 389)},\n",
       "  {'neuron_idx': 401, 'gate': 'or', 'inputs': (161, 439)},\n",
       "  {'neuron_idx': 402, 'gate': 'or', 'inputs': (383, 776)},\n",
       "  {'neuron_idx': 403, 'gate': 'not_xor', 'inputs': (404, 441)},\n",
       "  {'neuron_idx': 404, 'gate': 'not_or', 'inputs': (37, 415)},\n",
       "  {'neuron_idx': 405, 'gate': 'not_or', 'inputs': (526, 175)},\n",
       "  {'neuron_idx': 406, 'gate': 'b', 'inputs': (263, 675)},\n",
       "  {'neuron_idx': 407, 'gate': 'implies', 'inputs': (236, 160)},\n",
       "  {'neuron_idx': 408, 'gate': 'not_b', 'inputs': (28, 169)},\n",
       "  {'neuron_idx': 409, 'gate': 'b', 'inputs': (21, 400)},\n",
       "  {'neuron_idx': 410, 'gate': 'b', 'inputs': (631, 518)},\n",
       "  {'neuron_idx': 411, 'gate': 'not_implies', 'inputs': (314, 714)},\n",
       "  {'neuron_idx': 412, 'gate': 'b', 'inputs': (592, 137)},\n",
       "  {'neuron_idx': 413, 'gate': 'not_or', 'inputs': (616, 340)},\n",
       "  {'neuron_idx': 414, 'gate': 'not_a', 'inputs': (729, 285)},\n",
       "  {'neuron_idx': 415, 'gate': 'not_xor', 'inputs': (375, 143)},\n",
       "  {'neuron_idx': 416, 'gate': 'not_or', 'inputs': (455, 304)},\n",
       "  {'neuron_idx': 417, 'gate': 'not_or', 'inputs': (151, 143)},\n",
       "  {'neuron_idx': 418, 'gate': 'implied_by', 'inputs': (601, 601)},\n",
       "  {'neuron_idx': 419, 'gate': 'not_b', 'inputs': (209, 35)},\n",
       "  {'neuron_idx': 420, 'gate': 'a', 'inputs': (130, 283)},\n",
       "  {'neuron_idx': 421, 'gate': 'not_a', 'inputs': (8, 731)},\n",
       "  {'neuron_idx': 422, 'gate': 'or', 'inputs': (721, 503)},\n",
       "  {'neuron_idx': 423, 'gate': 'not_a', 'inputs': (203, 267)},\n",
       "  {'neuron_idx': 424, 'gate': 'not_a', 'inputs': (105, 370)},\n",
       "  {'neuron_idx': 425, 'gate': 'b', 'inputs': (681, 317)},\n",
       "  {'neuron_idx': 426, 'gate': 'xor', 'inputs': (94, 134)},\n",
       "  {'neuron_idx': 427, 'gate': 'not_implies', 'inputs': (134, 281)},\n",
       "  {'neuron_idx': 428, 'gate': 'not_or', 'inputs': (286, 768)},\n",
       "  {'neuron_idx': 429, 'gate': 'a', 'inputs': (353, 344)},\n",
       "  {'neuron_idx': 430, 'gate': 'not_implied_by', 'inputs': (190, 129)},\n",
       "  {'neuron_idx': 431, 'gate': 'not_xor', 'inputs': (196, 607)},\n",
       "  {'neuron_idx': 432, 'gate': 'xor', 'inputs': (329, 707)},\n",
       "  {'neuron_idx': 433, 'gate': 'not_xor', 'inputs': (32, 400)},\n",
       "  {'neuron_idx': 434, 'gate': 'implied_by', 'inputs': (336, 431)},\n",
       "  {'neuron_idx': 435, 'gate': 'not_implies', 'inputs': (643, 519)},\n",
       "  {'neuron_idx': 436, 'gate': 'a', 'inputs': (688, 63)},\n",
       "  {'neuron_idx': 437, 'gate': 'xor', 'inputs': (515, 616)},\n",
       "  {'neuron_idx': 438, 'gate': 'or', 'inputs': (147, 397)},\n",
       "  {'neuron_idx': 439, 'gate': 'not_xor', 'inputs': (214, 203)},\n",
       "  {'neuron_idx': 440, 'gate': 'not_a', 'inputs': (633, 332)},\n",
       "  {'neuron_idx': 441, 'gate': 'not_implies', 'inputs': (628, 669)},\n",
       "  {'neuron_idx': 442, 'gate': 'a', 'inputs': (118, 392)},\n",
       "  {'neuron_idx': 443, 'gate': 'not_xor', 'inputs': (706, 349)},\n",
       "  {'neuron_idx': 444, 'gate': 'not_a', 'inputs': (439, 594)},\n",
       "  {'neuron_idx': 445, 'gate': 'implied_by', 'inputs': (274, 430)},\n",
       "  {'neuron_idx': 446, 'gate': 'xor', 'inputs': (357, 511)},\n",
       "  {'neuron_idx': 447, 'gate': 'not_or', 'inputs': (26, 440)},\n",
       "  {'neuron_idx': 448, 'gate': 'not_or', 'inputs': (772, 422)},\n",
       "  {'neuron_idx': 449, 'gate': 'not_a', 'inputs': (548, 24)},\n",
       "  {'neuron_idx': 450, 'gate': 'not_and', 'inputs': (710, 325)},\n",
       "  {'neuron_idx': 451, 'gate': 'not_xor', 'inputs': (187, 708)},\n",
       "  {'neuron_idx': 452, 'gate': 'or', 'inputs': (457, 190)},\n",
       "  {'neuron_idx': 453, 'gate': 'xor', 'inputs': (747, 603)},\n",
       "  {'neuron_idx': 454, 'gate': 'xor', 'inputs': (113, 386)},\n",
       "  {'neuron_idx': 455, 'gate': 'not_xor', 'inputs': (377, 61)},\n",
       "  {'neuron_idx': 456, 'gate': 'b', 'inputs': (372, 742)},\n",
       "  {'neuron_idx': 457, 'gate': 'xor', 'inputs': (666, 500)},\n",
       "  {'neuron_idx': 458, 'gate': 'or', 'inputs': (13, 362)},\n",
       "  {'neuron_idx': 459, 'gate': 'b', 'inputs': (82, 304)},\n",
       "  {'neuron_idx': 460, 'gate': 'implies', 'inputs': (666, 549)},\n",
       "  {'neuron_idx': 461, 'gate': 'xor', 'inputs': (345, 501)},\n",
       "  {'neuron_idx': 462, 'gate': 'implied_by', 'inputs': (759, 345)},\n",
       "  {'neuron_idx': 463, 'gate': 'not_xor', 'inputs': (121, 401)},\n",
       "  {'neuron_idx': 464, 'gate': 'not_xor', 'inputs': (238, 78)},\n",
       "  {'neuron_idx': 465, 'gate': 'not_a', 'inputs': (520, 311)},\n",
       "  {'neuron_idx': 466, 'gate': 'and', 'inputs': (417, 513)},\n",
       "  {'neuron_idx': 467, 'gate': 'xor', 'inputs': (113, 430)},\n",
       "  {'neuron_idx': 468, 'gate': 'not_a', 'inputs': (150, 300)},\n",
       "  {'neuron_idx': 469, 'gate': 'xor', 'inputs': (301, 339)},\n",
       "  {'neuron_idx': 470, 'gate': 'not_or', 'inputs': (32, 501)},\n",
       "  {'neuron_idx': 471, 'gate': 'or', 'inputs': (229, 470)},\n",
       "  {'neuron_idx': 472, 'gate': 'not_b', 'inputs': (128, 286)},\n",
       "  {'neuron_idx': 473, 'gate': 'implies', 'inputs': (640, 142)},\n",
       "  {'neuron_idx': 474, 'gate': 'or', 'inputs': (405, 581)},\n",
       "  {'neuron_idx': 475, 'gate': 'not_implied_by', 'inputs': (731, 274)},\n",
       "  {'neuron_idx': 476, 'gate': 'b', 'inputs': (369, 274)},\n",
       "  {'neuron_idx': 477, 'gate': 'not_xor', 'inputs': (206, 460)},\n",
       "  {'neuron_idx': 478, 'gate': 'implies', 'inputs': (182, 489)},\n",
       "  {'neuron_idx': 479, 'gate': 'not_or', 'inputs': (380, 645)},\n",
       "  {'neuron_idx': 480, 'gate': 'not_xor', 'inputs': (426, 194)},\n",
       "  {'neuron_idx': 481, 'gate': 'a', 'inputs': (295, 450)},\n",
       "  {'neuron_idx': 482, 'gate': 'not_or', 'inputs': (748, 142)},\n",
       "  {'neuron_idx': 483, 'gate': 'and', 'inputs': (590, 223)},\n",
       "  {'neuron_idx': 484, 'gate': 'xor', 'inputs': (481, 745)},\n",
       "  {'neuron_idx': 485, 'gate': 'not_xor', 'inputs': (269, 0)},\n",
       "  {'neuron_idx': 486, 'gate': 'b', 'inputs': (109, 737)},\n",
       "  {'neuron_idx': 487, 'gate': 'implied_by', 'inputs': (34, 749)},\n",
       "  {'neuron_idx': 488, 'gate': 'b', 'inputs': (764, 297)},\n",
       "  {'neuron_idx': 489, 'gate': 'and', 'inputs': (783, 484)},\n",
       "  {'neuron_idx': 490, 'gate': 'implied_by', 'inputs': (170, 370)},\n",
       "  {'neuron_idx': 491, 'gate': 'or', 'inputs': (762, 425)},\n",
       "  {'neuron_idx': 492, 'gate': 'not_xor', 'inputs': (343, 348)},\n",
       "  {'neuron_idx': 493, 'gate': 'and', 'inputs': (188, 613)},\n",
       "  {'neuron_idx': 494, 'gate': 'or', 'inputs': (214, 103)},\n",
       "  {'neuron_idx': 495, 'gate': 'not_a', 'inputs': (107, 516)},\n",
       "  {'neuron_idx': 496, 'gate': 'or', 'inputs': (410, 469)},\n",
       "  {'neuron_idx': 497, 'gate': 'xor', 'inputs': (725, 311)},\n",
       "  {'neuron_idx': 498, 'gate': 'not_b', 'inputs': (386, 742)},\n",
       "  {'neuron_idx': 499, 'gate': 'not_or', 'inputs': (472, 420)},\n",
       "  {'neuron_idx': 500, 'gate': 'xor', 'inputs': (352, 71)},\n",
       "  {'neuron_idx': 501, 'gate': 'a', 'inputs': (212, 618)},\n",
       "  {'neuron_idx': 502, 'gate': 'or', 'inputs': (247, 425)},\n",
       "  {'neuron_idx': 503, 'gate': 'or', 'inputs': (153, 469)},\n",
       "  {'neuron_idx': 504, 'gate': 'one', 'inputs': (703, 145)},\n",
       "  {'neuron_idx': 505, 'gate': 'xor', 'inputs': (697, 590)},\n",
       "  {'neuron_idx': 506, 'gate': 'not_implied_by', 'inputs': (530, 522)},\n",
       "  {'neuron_idx': 507, 'gate': 'xor', 'inputs': (774, 194)},\n",
       "  {'neuron_idx': 508, 'gate': 'not_or', 'inputs': (163, 117)},\n",
       "  {'neuron_idx': 509, 'gate': 'not_implied_by', 'inputs': (414, 704)},\n",
       "  {'neuron_idx': 510, 'gate': 'implies', 'inputs': (655, 457)},\n",
       "  {'neuron_idx': 511, 'gate': 'not_implies', 'inputs': (131, 65)},\n",
       "  {'neuron_idx': 512, 'gate': 'not_implies', 'inputs': (740, 607)},\n",
       "  {'neuron_idx': 513, 'gate': 'or', 'inputs': (744, 447)},\n",
       "  {'neuron_idx': 514, 'gate': 'not_implies', 'inputs': (572, 34)},\n",
       "  {'neuron_idx': 515, 'gate': 'implies', 'inputs': (403, 564)},\n",
       "  {'neuron_idx': 516, 'gate': 'or', 'inputs': (272, 15)},\n",
       "  {'neuron_idx': 517, 'gate': 'or', 'inputs': (685, 479)},\n",
       "  {'neuron_idx': 518, 'gate': 'not_implied_by', 'inputs': (782, 12)},\n",
       "  {'neuron_idx': 519, 'gate': 'not_b', 'inputs': (61, 579)},\n",
       "  {'neuron_idx': 520, 'gate': 'and', 'inputs': (112, 275)},\n",
       "  {'neuron_idx': 521, 'gate': 'b', 'inputs': (303, 438)},\n",
       "  {'neuron_idx': 522, 'gate': 'not_xor', 'inputs': (521, 257)},\n",
       "  {'neuron_idx': 523, 'gate': 'and', 'inputs': (86, 615)},\n",
       "  {'neuron_idx': 524, 'gate': 'not_implied_by', 'inputs': (48, 240)},\n",
       "  {'neuron_idx': 525, 'gate': 'xor', 'inputs': (107, 613)},\n",
       "  {'neuron_idx': 526, 'gate': 'not_b', 'inputs': (509, 16)},\n",
       "  {'neuron_idx': 527, 'gate': 'not_or', 'inputs': (167, 748)},\n",
       "  {'neuron_idx': 528, 'gate': 'not_implies', 'inputs': (258, 325)},\n",
       "  {'neuron_idx': 529, 'gate': 'not_b', 'inputs': (650, 653)},\n",
       "  {'neuron_idx': 530, 'gate': 'b', 'inputs': (737, 319)},\n",
       "  {'neuron_idx': 531, 'gate': 'xor', 'inputs': (374, 500)},\n",
       "  {'neuron_idx': 532, 'gate': 'not_or', 'inputs': (557, 3)},\n",
       "  {'neuron_idx': 533, 'gate': 'not_implies', 'inputs': (299, 202)},\n",
       "  {'neuron_idx': 534, 'gate': 'or', 'inputs': (582, 166)},\n",
       "  {'neuron_idx': 535, 'gate': 'not_xor', 'inputs': (706, 694)},\n",
       "  {'neuron_idx': 536, 'gate': 'zero', 'inputs': (647, 779)},\n",
       "  {'neuron_idx': 537, 'gate': 'not_implies', 'inputs': (608, 173)},\n",
       "  {'neuron_idx': 538, 'gate': 'not_xor', 'inputs': (285, 735)},\n",
       "  {'neuron_idx': 539, 'gate': 'not_or', 'inputs': (585, 255)},\n",
       "  {'neuron_idx': 540, 'gate': 'implied_by', 'inputs': (177, 403)},\n",
       "  {'neuron_idx': 541, 'gate': 'not_b', 'inputs': (339, 490)},\n",
       "  {'neuron_idx': 542, 'gate': 'implied_by', 'inputs': (322, 206)},\n",
       "  {'neuron_idx': 543, 'gate': 'or', 'inputs': (191, 202)},\n",
       "  {'neuron_idx': 544, 'gate': 'b', 'inputs': (766, 93)},\n",
       "  {'neuron_idx': 545, 'gate': 'not_implied_by', 'inputs': (112, 46)},\n",
       "  {'neuron_idx': 546, 'gate': 'implies', 'inputs': (236, 668)},\n",
       "  {'neuron_idx': 547, 'gate': 'not_or', 'inputs': (200, 533)},\n",
       "  {'neuron_idx': 548, 'gate': 'not_or', 'inputs': (295, 366)},\n",
       "  {'neuron_idx': 549, 'gate': 'not_or', 'inputs': (622, 636)},\n",
       "  {'neuron_idx': 550, 'gate': 'implied_by', 'inputs': (24, 116)},\n",
       "  {'neuron_idx': 551, 'gate': 'not_xor', 'inputs': (749, 623)},\n",
       "  {'neuron_idx': 552, 'gate': 'not_xor', 'inputs': (237, 55)},\n",
       "  {'neuron_idx': 553, 'gate': 'implies', 'inputs': (692, 149)},\n",
       "  {'neuron_idx': 554, 'gate': 'not_xor', 'inputs': (190, 196)},\n",
       "  {'neuron_idx': 555, 'gate': 'not_xor', 'inputs': (52, 744)},\n",
       "  {'neuron_idx': 556, 'gate': 'b', 'inputs': (405, 135)},\n",
       "  {'neuron_idx': 557, 'gate': 'not_b', 'inputs': (105, 746)},\n",
       "  {'neuron_idx': 558, 'gate': 'a', 'inputs': (655, 544)},\n",
       "  {'neuron_idx': 559, 'gate': 'or', 'inputs': (20, 117)},\n",
       "  {'neuron_idx': 560, 'gate': 'not_or', 'inputs': (463, 381)},\n",
       "  {'neuron_idx': 561, 'gate': 'not_b', 'inputs': (753, 608)},\n",
       "  {'neuron_idx': 562, 'gate': 'not_b', 'inputs': (699, 614)},\n",
       "  {'neuron_idx': 563, 'gate': 'not_implies', 'inputs': (480, 304)},\n",
       "  {'neuron_idx': 564, 'gate': 'not_and', 'inputs': (372, 73)},\n",
       "  {'neuron_idx': 565, 'gate': 'not_xor', 'inputs': (153, 177)},\n",
       "  {'neuron_idx': 566, 'gate': 'xor', 'inputs': (316, 755)},\n",
       "  {'neuron_idx': 567, 'gate': 'a', 'inputs': (191, 211)},\n",
       "  {'neuron_idx': 568, 'gate': 'or', 'inputs': (684, 371)},\n",
       "  {'neuron_idx': 569, 'gate': 'not_or', 'inputs': (581, 755)},\n",
       "  {'neuron_idx': 570, 'gate': 'not_implied_by', 'inputs': (63, 678)},\n",
       "  {'neuron_idx': 571, 'gate': 'implied_by', 'inputs': (244, 123)},\n",
       "  {'neuron_idx': 572, 'gate': 'not_implies', 'inputs': (328, 173)},\n",
       "  {'neuron_idx': 573, 'gate': 'not_b', 'inputs': (432, 284)},\n",
       "  {'neuron_idx': 574, 'gate': 'not_implies', 'inputs': (200, 56)},\n",
       "  {'neuron_idx': 575, 'gate': 'and', 'inputs': (28, 331)},\n",
       "  {'neuron_idx': 576, 'gate': 'not_b', 'inputs': (28, 191)},\n",
       "  {'neuron_idx': 577, 'gate': 'not_or', 'inputs': (221, 438)},\n",
       "  {'neuron_idx': 578, 'gate': 'not_implied_by', 'inputs': (718, 742)},\n",
       "  {'neuron_idx': 579, 'gate': 'not_b', 'inputs': (4, 205)},\n",
       "  {'neuron_idx': 580, 'gate': 'implied_by', 'inputs': (111, 434)},\n",
       "  {'neuron_idx': 581, 'gate': 'xor', 'inputs': (163, 308)},\n",
       "  {'neuron_idx': 582, 'gate': 'b', 'inputs': (723, 736)},\n",
       "  {'neuron_idx': 583, 'gate': 'xor', 'inputs': (216, 284)},\n",
       "  {'neuron_idx': 584, 'gate': 'implies', 'inputs': (513, 224)},\n",
       "  {'neuron_idx': 585, 'gate': 'b', 'inputs': (221, 256)},\n",
       "  {'neuron_idx': 586, 'gate': 'implies', 'inputs': (66, 675)},\n",
       "  {'neuron_idx': 587, 'gate': 'not_a', 'inputs': (528, 769)},\n",
       "  {'neuron_idx': 588, 'gate': 'not_a', 'inputs': (417, 782)},\n",
       "  {'neuron_idx': 589, 'gate': 'xor', 'inputs': (738, 627)},\n",
       "  {'neuron_idx': 590, 'gate': 'not_b', 'inputs': (222, 153)},\n",
       "  {'neuron_idx': 591, 'gate': 'not_or', 'inputs': (783, 333)},\n",
       "  {'neuron_idx': 592, 'gate': 'implied_by', 'inputs': (265, 761)},\n",
       "  {'neuron_idx': 593, 'gate': 'not_xor', 'inputs': (654, 479)},\n",
       "  {'neuron_idx': 594, 'gate': 'or', 'inputs': (725, 114)},\n",
       "  {'neuron_idx': 595, 'gate': 'xor', 'inputs': (651, 639)},\n",
       "  {'neuron_idx': 596, 'gate': 'not_implies', 'inputs': (574, 193)},\n",
       "  {'neuron_idx': 597, 'gate': 'or', 'inputs': (17, 16)},\n",
       "  {'neuron_idx': 598, 'gate': 'xor', 'inputs': (696, 50)},\n",
       "  {'neuron_idx': 599, 'gate': 'implied_by', 'inputs': (28, 564)},\n",
       "  {'neuron_idx': 600, 'gate': 'or', 'inputs': (368, 69)},\n",
       "  {'neuron_idx': 601, 'gate': 'not_implies', 'inputs': (453, 142)},\n",
       "  {'neuron_idx': 602, 'gate': 'a', 'inputs': (484, 91)},\n",
       "  {'neuron_idx': 603, 'gate': 'implies', 'inputs': (209, 642)},\n",
       "  {'neuron_idx': 604, 'gate': 'not_xor', 'inputs': (478, 5)},\n",
       "  {'neuron_idx': 605, 'gate': 'xor', 'inputs': (98, 584)},\n",
       "  {'neuron_idx': 606, 'gate': 'not_or', 'inputs': (541, 367)},\n",
       "  {'neuron_idx': 607, 'gate': 'not_b', 'inputs': (651, 381)},\n",
       "  {'neuron_idx': 608, 'gate': 'not_b', 'inputs': (429, 639)},\n",
       "  {'neuron_idx': 609, 'gate': 'not_a', 'inputs': (716, 756)},\n",
       "  {'neuron_idx': 610, 'gate': 'not_implies', 'inputs': (626, 442)},\n",
       "  {'neuron_idx': 611, 'gate': 'xor', 'inputs': (174, 458)},\n",
       "  {'neuron_idx': 612, 'gate': 'b', 'inputs': (546, 683)},\n",
       "  {'neuron_idx': 613, 'gate': 'a', 'inputs': (607, 290)},\n",
       "  {'neuron_idx': 614, 'gate': 'not_xor', 'inputs': (384, 707)},\n",
       "  {'neuron_idx': 615, 'gate': 'or', 'inputs': (476, 731)},\n",
       "  {'neuron_idx': 616, 'gate': 'b', 'inputs': (377, 248)},\n",
       "  {'neuron_idx': 617, 'gate': 'not_or', 'inputs': (474, 682)},\n",
       "  {'neuron_idx': 618, 'gate': 'implies', 'inputs': (103, 535)},\n",
       "  {'neuron_idx': 619, 'gate': 'not_and', 'inputs': (555, 125)},\n",
       "  {'neuron_idx': 620, 'gate': 'not_implies', 'inputs': (301, 1)},\n",
       "  {'neuron_idx': 621, 'gate': 'implied_by', 'inputs': (430, 617)},\n",
       "  {'neuron_idx': 622, 'gate': 'not_or', 'inputs': (286, 119)},\n",
       "  {'neuron_idx': 623, 'gate': 'not_implied_by', 'inputs': (71, 534)},\n",
       "  {'neuron_idx': 624, 'gate': 'not_a', 'inputs': (331, 728)},\n",
       "  {'neuron_idx': 625, 'gate': 'not_xor', 'inputs': (420, 640)},\n",
       "  {'neuron_idx': 626, 'gate': 'b', 'inputs': (533, 290)},\n",
       "  {'neuron_idx': 627, 'gate': 'not_implies', 'inputs': (239, 483)},\n",
       "  {'neuron_idx': 628, 'gate': 'not_or', 'inputs': (298, 557)},\n",
       "  {'neuron_idx': 629, 'gate': 'not_or', 'inputs': (140, 506)},\n",
       "  {'neuron_idx': 630, 'gate': 'implies', 'inputs': (445, 120)},\n",
       "  {'neuron_idx': 631, 'gate': 'not_xor', 'inputs': (603, 405)},\n",
       "  {'neuron_idx': 632, 'gate': 'not_implied_by', 'inputs': (163, 633)},\n",
       "  {'neuron_idx': 633, 'gate': 'not_implied_by', 'inputs': (504, 496)},\n",
       "  {'neuron_idx': 634, 'gate': 'b', 'inputs': (709, 647)},\n",
       "  {'neuron_idx': 635, 'gate': 'and', 'inputs': (426, 634)},\n",
       "  {'neuron_idx': 636, 'gate': 'implied_by', 'inputs': (665, 220)},\n",
       "  {'neuron_idx': 637, 'gate': 'implied_by', 'inputs': (774, 779)},\n",
       "  {'neuron_idx': 638, 'gate': 'or', 'inputs': (108, 572)},\n",
       "  {'neuron_idx': 639, 'gate': 'implied_by', 'inputs': (357, 453)},\n",
       "  {'neuron_idx': 640, 'gate': 'not_xor', 'inputs': (479, 41)},\n",
       "  {'neuron_idx': 641, 'gate': 'and', 'inputs': (540, 459)},\n",
       "  {'neuron_idx': 642, 'gate': 'xor', 'inputs': (455, 9)},\n",
       "  {'neuron_idx': 643, 'gate': 'not_implied_by', 'inputs': (544, 349)},\n",
       "  {'neuron_idx': 644, 'gate': 'and', 'inputs': (543, 706)},\n",
       "  {'neuron_idx': 645, 'gate': 'b', 'inputs': (523, 340)},\n",
       "  {'neuron_idx': 646, 'gate': 'xor', 'inputs': (427, 428)},\n",
       "  {'neuron_idx': 647, 'gate': 'xor', 'inputs': (685, 497)},\n",
       "  {'neuron_idx': 648, 'gate': 'implies', 'inputs': (170, 632)},\n",
       "  {'neuron_idx': 649, 'gate': 'b', 'inputs': (320, 469)},\n",
       "  {'neuron_idx': 650, 'gate': 'implied_by', 'inputs': (359, 470)},\n",
       "  {'neuron_idx': 651, 'gate': 'not_implies', 'inputs': (327, 541)},\n",
       "  {'neuron_idx': 652, 'gate': 'a', 'inputs': (123, 681)},\n",
       "  {'neuron_idx': 653, 'gate': 'not_xor', 'inputs': (676, 514)},\n",
       "  {'neuron_idx': 654, 'gate': 'not_or', 'inputs': (585, 336)},\n",
       "  {'neuron_idx': 655, 'gate': 'not_b', 'inputs': (383, 595)},\n",
       "  {'neuron_idx': 656, 'gate': 'not_implied_by', 'inputs': (373, 194)},\n",
       "  {'neuron_idx': 657, 'gate': 'xor', 'inputs': (99, 107)},\n",
       "  {'neuron_idx': 658, 'gate': 'one', 'inputs': (470, 374)},\n",
       "  {'neuron_idx': 659, 'gate': 'or', 'inputs': (336, 538)},\n",
       "  {'neuron_idx': 660, 'gate': 'or', 'inputs': (118, 405)},\n",
       "  {'neuron_idx': 661, 'gate': 'not_b', 'inputs': (394, 34)},\n",
       "  {'neuron_idx': 662, 'gate': 'not_and', 'inputs': (665, 609)},\n",
       "  {'neuron_idx': 663, 'gate': 'xor', 'inputs': (632, 177)},\n",
       "  {'neuron_idx': 664, 'gate': 'not_implied_by', 'inputs': (477, 317)},\n",
       "  {'neuron_idx': 665, 'gate': 'a', 'inputs': (716, 487)},\n",
       "  {'neuron_idx': 666, 'gate': 'or', 'inputs': (244, 78)},\n",
       "  {'neuron_idx': 667, 'gate': 'not_implies', 'inputs': (637, 350)},\n",
       "  {'neuron_idx': 668, 'gate': 'or', 'inputs': (10, 63)},\n",
       "  {'neuron_idx': 669, 'gate': 'not_implies', 'inputs': (175, 134)},\n",
       "  {'neuron_idx': 670, 'gate': 'xor', 'inputs': (244, 328)},\n",
       "  {'neuron_idx': 671, 'gate': 'a', 'inputs': (267, 402)},\n",
       "  {'neuron_idx': 672, 'gate': 'not_xor', 'inputs': (384, 461)},\n",
       "  {'neuron_idx': 673, 'gate': 'and', 'inputs': (387, 0)},\n",
       "  {'neuron_idx': 674, 'gate': 'or', 'inputs': (437, 500)},\n",
       "  {'neuron_idx': 675, 'gate': 'or', 'inputs': (304, 340)},\n",
       "  {'neuron_idx': 676, 'gate': 'not_xor', 'inputs': (483, 701)},\n",
       "  {'neuron_idx': 677, 'gate': 'implied_by', 'inputs': (22, 572)},\n",
       "  {'neuron_idx': 678, 'gate': 'implies', 'inputs': (778, 52)},\n",
       "  {'neuron_idx': 679, 'gate': 'not_b', 'inputs': (625, 530)},\n",
       "  {'neuron_idx': 680, 'gate': 'b', 'inputs': (5, 47)},\n",
       "  {'neuron_idx': 681, 'gate': 'not_b', 'inputs': (327, 582)},\n",
       "  {'neuron_idx': 682, 'gate': 'and', 'inputs': (746, 214)},\n",
       "  {'neuron_idx': 683, 'gate': 'xor', 'inputs': (774, 563)},\n",
       "  {'neuron_idx': 684, 'gate': 'not_xor', 'inputs': (625, 667)},\n",
       "  {'neuron_idx': 685, 'gate': 'not_b', 'inputs': (116, 477)},\n",
       "  {'neuron_idx': 686, 'gate': 'xor', 'inputs': (364, 460)},\n",
       "  {'neuron_idx': 687, 'gate': 'not_a', 'inputs': (697, 284)},\n",
       "  {'neuron_idx': 688, 'gate': 'or', 'inputs': (249, 141)},\n",
       "  {'neuron_idx': 689, 'gate': 'not_xor', 'inputs': (257, 243)},\n",
       "  {'neuron_idx': 690, 'gate': 'not_a', 'inputs': (138, 357)},\n",
       "  {'neuron_idx': 691, 'gate': 'not_a', 'inputs': (630, 272)},\n",
       "  {'neuron_idx': 692, 'gate': 'not_implied_by', 'inputs': (616, 118)},\n",
       "  {'neuron_idx': 693, 'gate': 'b', 'inputs': (66, 192)},\n",
       "  {'neuron_idx': 694, 'gate': 'not_b', 'inputs': (520, 285)},\n",
       "  {'neuron_idx': 695, 'gate': 'not_a', 'inputs': (686, 736)},\n",
       "  {'neuron_idx': 696, 'gate': 'not_implies', 'inputs': (203, 392)},\n",
       "  {'neuron_idx': 697, 'gate': 'not_or', 'inputs': (448, 227)},\n",
       "  {'neuron_idx': 698, 'gate': 'not_implied_by', 'inputs': (243, 293)},\n",
       "  {'neuron_idx': 699, 'gate': 'not_implied_by', 'inputs': (60, 47)},\n",
       "  {'neuron_idx': 700, 'gate': 'not_implies', 'inputs': (688, 110)},\n",
       "  {'neuron_idx': 701, 'gate': 'not_implied_by', 'inputs': (55, 235)},\n",
       "  {'neuron_idx': 702, 'gate': 'not_or', 'inputs': (248, 423)},\n",
       "  {'neuron_idx': 703, 'gate': 'not_a', 'inputs': (240, 698)},\n",
       "  {'neuron_idx': 704, 'gate': 'or', 'inputs': (673, 476)},\n",
       "  {'neuron_idx': 705, 'gate': 'or', 'inputs': (730, 473)},\n",
       "  {'neuron_idx': 706, 'gate': 'a', 'inputs': (430, 508)},\n",
       "  {'neuron_idx': 707, 'gate': 'or', 'inputs': (213, 612)},\n",
       "  {'neuron_idx': 708, 'gate': 'implies', 'inputs': (636, 211)},\n",
       "  {'neuron_idx': 709, 'gate': 'not_xor', 'inputs': (141, 647)},\n",
       "  {'neuron_idx': 710, 'gate': 'not_or', 'inputs': (191, 765)},\n",
       "  {'neuron_idx': 711, 'gate': 'not_xor', 'inputs': (707, 736)},\n",
       "  {'neuron_idx': 712, 'gate': 'implied_by', 'inputs': (647, 286)},\n",
       "  {'neuron_idx': 713, 'gate': 'not_xor', 'inputs': (756, 421)},\n",
       "  {'neuron_idx': 714, 'gate': 'or', 'inputs': (560, 387)},\n",
       "  {'neuron_idx': 715, 'gate': 'implies', 'inputs': (406, 143)},\n",
       "  {'neuron_idx': 716, 'gate': 'b', 'inputs': (347, 40)},\n",
       "  {'neuron_idx': 717, 'gate': 'not_a', 'inputs': (539, 484)},\n",
       "  {'neuron_idx': 718, 'gate': 'or', 'inputs': (65, 420)},\n",
       "  {'neuron_idx': 719, 'gate': 'implied_by', 'inputs': (779, 97)},\n",
       "  {'neuron_idx': 720, 'gate': 'not_a', 'inputs': (343, 287)},\n",
       "  {'neuron_idx': 721, 'gate': 'or', 'inputs': (472, 608)},\n",
       "  {'neuron_idx': 722, 'gate': 'not_implies', 'inputs': (391, 175)},\n",
       "  {'neuron_idx': 723, 'gate': 'a', 'inputs': (538, 378)},\n",
       "  {'neuron_idx': 724, 'gate': 'xor', 'inputs': (623, 341)},\n",
       "  {'neuron_idx': 725, 'gate': 'not_or', 'inputs': (220, 497)},\n",
       "  {'neuron_idx': 726, 'gate': 'xor', 'inputs': (705, 226)},\n",
       "  {'neuron_idx': 727, 'gate': 'xor', 'inputs': (269, 735)},\n",
       "  {'neuron_idx': 728, 'gate': 'implies', 'inputs': (730, 765)},\n",
       "  {'neuron_idx': 729, 'gate': 'implied_by', 'inputs': (642, 456)},\n",
       "  {'neuron_idx': 730, 'gate': 'not_xor', 'inputs': (506, 394)},\n",
       "  {'neuron_idx': 731, 'gate': 'not_xor', 'inputs': (293, 93)},\n",
       "  {'neuron_idx': 732, 'gate': 'not_xor', 'inputs': (357, 664)},\n",
       "  {'neuron_idx': 733, 'gate': 'a', 'inputs': (347, 24)},\n",
       "  {'neuron_idx': 734, 'gate': 'a', 'inputs': (42, 87)},\n",
       "  {'neuron_idx': 735, 'gate': 'not_or', 'inputs': (521, 342)},\n",
       "  {'neuron_idx': 736, 'gate': 'not_a', 'inputs': (80, 148)},\n",
       "  {'neuron_idx': 737, 'gate': 'not_a', 'inputs': (665, 119)},\n",
       "  {'neuron_idx': 738, 'gate': 'implies', 'inputs': (325, 717)},\n",
       "  {'neuron_idx': 739, 'gate': 'not_b', 'inputs': (536, 557)},\n",
       "  {'neuron_idx': 740, 'gate': 'b', 'inputs': (182, 245)},\n",
       "  {'neuron_idx': 741, 'gate': 'b', 'inputs': (215, 623)},\n",
       "  {'neuron_idx': 742, 'gate': 'not_implied_by', 'inputs': (368, 568)},\n",
       "  {'neuron_idx': 743, 'gate': 'not_implies', 'inputs': (179, 490)},\n",
       "  {'neuron_idx': 744, 'gate': 'not_or', 'inputs': (395, 740)},\n",
       "  {'neuron_idx': 745, 'gate': 'implies', 'inputs': (317, 214)},\n",
       "  {'neuron_idx': 746, 'gate': 'xor', 'inputs': (639, 574)},\n",
       "  {'neuron_idx': 747, 'gate': 'and', 'inputs': (493, 166)},\n",
       "  {'neuron_idx': 748, 'gate': 'not_xor', 'inputs': (634, 462)},\n",
       "  {'neuron_idx': 749, 'gate': 'not_implies', 'inputs': (390, 54)},\n",
       "  {'neuron_idx': 750, 'gate': 'implied_by', 'inputs': (364, 218)},\n",
       "  {'neuron_idx': 751, 'gate': 'xor', 'inputs': (108, 154)},\n",
       "  {'neuron_idx': 752, 'gate': 'not_xor', 'inputs': (211, 138)},\n",
       "  {'neuron_idx': 753, 'gate': 'not_implies', 'inputs': (451, 606)},\n",
       "  {'neuron_idx': 754, 'gate': 'implied_by', 'inputs': (671, 359)},\n",
       "  {'neuron_idx': 755, 'gate': 'not_or', 'inputs': (449, 293)},\n",
       "  {'neuron_idx': 756, 'gate': 'a', 'inputs': (664, 419)},\n",
       "  {'neuron_idx': 757, 'gate': 'not_xor', 'inputs': (237, 120)},\n",
       "  {'neuron_idx': 758, 'gate': 'not_a', 'inputs': (567, 779)},\n",
       "  {'neuron_idx': 759, 'gate': 'or', 'inputs': (753, 25)},\n",
       "  {'neuron_idx': 760, 'gate': 'not_b', 'inputs': (62, 722)},\n",
       "  {'neuron_idx': 761, 'gate': 'not_a', 'inputs': (17, 187)},\n",
       "  {'neuron_idx': 762, 'gate': 'not_a', 'inputs': (14, 455)},\n",
       "  {'neuron_idx': 763, 'gate': 'not_xor', 'inputs': (60, 384)},\n",
       "  {'neuron_idx': 764, 'gate': 'or', 'inputs': (335, 74)},\n",
       "  {'neuron_idx': 765, 'gate': 'and', 'inputs': (325, 657)},\n",
       "  {'neuron_idx': 766, 'gate': 'xor', 'inputs': (364, 648)},\n",
       "  {'neuron_idx': 767, 'gate': 'xor', 'inputs': (136, 222)},\n",
       "  {'neuron_idx': 768, 'gate': 'not_or', 'inputs': (181, 21)},\n",
       "  {'neuron_idx': 769, 'gate': 'a', 'inputs': (480, 90)},\n",
       "  {'neuron_idx': 770, 'gate': 'xor', 'inputs': (685, 731)},\n",
       "  {'neuron_idx': 771, 'gate': 'not_or', 'inputs': (420, 63)},\n",
       "  {'neuron_idx': 772, 'gate': 'not_xor', 'inputs': (456, 648)},\n",
       "  {'neuron_idx': 773, 'gate': 'not_b', 'inputs': (382, 743)},\n",
       "  {'neuron_idx': 774, 'gate': 'xor', 'inputs': (11, 171)},\n",
       "  {'neuron_idx': 775, 'gate': 'not_xor', 'inputs': (409, 716)},\n",
       "  {'neuron_idx': 776, 'gate': 'not_implied_by', 'inputs': (36, 503)},\n",
       "  {'neuron_idx': 777, 'gate': 'implied_by', 'inputs': (29, 329)},\n",
       "  {'neuron_idx': 778, 'gate': 'not_or', 'inputs': (17, 156)},\n",
       "  {'neuron_idx': 779, 'gate': 'or', 'inputs': (374, 186)},\n",
       "  {'neuron_idx': 780, 'gate': 'not_a', 'inputs': (663, 726)},\n",
       "  {'neuron_idx': 781, 'gate': 'not_implies', 'inputs': (38, 558)},\n",
       "  {'neuron_idx': 782, 'gate': 'not_xor', 'inputs': (74, 597)},\n",
       "  {'neuron_idx': 783, 'gate': 'or', 'inputs': (127, 182)},\n",
       "  {'neuron_idx': 784, 'gate': 'b', 'inputs': (439, 287)},\n",
       "  {'neuron_idx': 785, 'gate': 'b', 'inputs': (471, 334)},\n",
       "  {'neuron_idx': 786, 'gate': 'not_a', 'inputs': (388, 27)},\n",
       "  {'neuron_idx': 787, 'gate': 'xor', 'inputs': (724, 599)},\n",
       "  {'neuron_idx': 788, 'gate': 'implies', 'inputs': (242, 254)},\n",
       "  {'neuron_idx': 789, 'gate': 'not_b', 'inputs': (324, 47)},\n",
       "  {'neuron_idx': 790, 'gate': 'not_b', 'inputs': (375, 427)},\n",
       "  {'neuron_idx': 791, 'gate': 'not_implied_by', 'inputs': (137, 122)},\n",
       "  {'neuron_idx': 792, 'gate': 'or', 'inputs': (200, 666)},\n",
       "  {'neuron_idx': 793, 'gate': 'not_a', 'inputs': (276, 73)},\n",
       "  {'neuron_idx': 794, 'gate': 'or', 'inputs': (95, 741)},\n",
       "  {'neuron_idx': 795, 'gate': 'implies', 'inputs': (634, 60)},\n",
       "  {'neuron_idx': 796, 'gate': 'xor', 'inputs': (113, 4)},\n",
       "  {'neuron_idx': 797, 'gate': 'not_a', 'inputs': (45, 95)},\n",
       "  {'neuron_idx': 798, 'gate': 'not_implied_by', 'inputs': (16, 35)},\n",
       "  {'neuron_idx': 799, 'gate': 'b', 'inputs': (646, 288)},\n",
       "  {'neuron_idx': 800, 'gate': 'xor', 'inputs': (633, 631)},\n",
       "  {'neuron_idx': 801, 'gate': 'not_a', 'inputs': (410, 498)},\n",
       "  {'neuron_idx': 802, 'gate': 'not_or', 'inputs': (27, 620)},\n",
       "  {'neuron_idx': 803, 'gate': 'not_xor', 'inputs': (22, 69)},\n",
       "  {'neuron_idx': 804, 'gate': 'implied_by', 'inputs': (559, 543)},\n",
       "  {'neuron_idx': 805, 'gate': 'not_implies', 'inputs': (637, 28)},\n",
       "  {'neuron_idx': 806, 'gate': 'and', 'inputs': (604, 287)},\n",
       "  {'neuron_idx': 807, 'gate': 'implies', 'inputs': (719, 765)},\n",
       "  {'neuron_idx': 808, 'gate': 'not_a', 'inputs': (441, 482)},\n",
       "  {'neuron_idx': 809, 'gate': 'not_or', 'inputs': (75, 197)},\n",
       "  {'neuron_idx': 810, 'gate': 'not_implies', 'inputs': (667, 385)},\n",
       "  {'neuron_idx': 811, 'gate': 'implies', 'inputs': (591, 139)},\n",
       "  {'neuron_idx': 812, 'gate': 'a', 'inputs': (629, 117)},\n",
       "  {'neuron_idx': 813, 'gate': 'implies', 'inputs': (709, 342)},\n",
       "  {'neuron_idx': 814, 'gate': 'not_xor', 'inputs': (727, 584)},\n",
       "  {'neuron_idx': 815, 'gate': 'implied_by', 'inputs': (3, 29)},\n",
       "  {'neuron_idx': 816, 'gate': 'not_b', 'inputs': (260, 737)},\n",
       "  {'neuron_idx': 817, 'gate': 'not_a', 'inputs': (635, 169)},\n",
       "  {'neuron_idx': 818, 'gate': 'not_implied_by', 'inputs': (575, 535)},\n",
       "  {'neuron_idx': 819, 'gate': 'not_implies', 'inputs': (319, 285)},\n",
       "  {'neuron_idx': 820, 'gate': 'or', 'inputs': (643, 423)},\n",
       "  {'neuron_idx': 821, 'gate': 'or', 'inputs': (66, 189)},\n",
       "  {'neuron_idx': 822, 'gate': 'xor', 'inputs': (236, 722)},\n",
       "  {'neuron_idx': 823, 'gate': 'not_b', 'inputs': (607, 700)},\n",
       "  {'neuron_idx': 824, 'gate': 'and', 'inputs': (505, 588)},\n",
       "  {'neuron_idx': 825, 'gate': 'b', 'inputs': (750, 445)},\n",
       "  {'neuron_idx': 826, 'gate': 'implied_by', 'inputs': (777, 626)},\n",
       "  {'neuron_idx': 827, 'gate': 'not_or', 'inputs': (20, 429)},\n",
       "  {'neuron_idx': 828, 'gate': 'implies', 'inputs': (430, 378)},\n",
       "  {'neuron_idx': 829, 'gate': 'b', 'inputs': (778, 386)},\n",
       "  {'neuron_idx': 830, 'gate': 'or', 'inputs': (739, 688)},\n",
       "  {'neuron_idx': 831, 'gate': 'not_xor', 'inputs': (270, 332)},\n",
       "  {'neuron_idx': 832, 'gate': 'not_implies', 'inputs': (111, 591)},\n",
       "  {'neuron_idx': 833, 'gate': 'not_or', 'inputs': (556, 145)},\n",
       "  {'neuron_idx': 834, 'gate': 'not_b', 'inputs': (539, 347)},\n",
       "  {'neuron_idx': 835, 'gate': 'not_or', 'inputs': (216, 449)},\n",
       "  {'neuron_idx': 836, 'gate': 'not_and', 'inputs': (713, 154)},\n",
       "  {'neuron_idx': 837, 'gate': 'not_a', 'inputs': (340, 435)},\n",
       "  {'neuron_idx': 838, 'gate': 'a', 'inputs': (721, 769)},\n",
       "  {'neuron_idx': 839, 'gate': 'not_implies', 'inputs': (465, 265)},\n",
       "  {'neuron_idx': 840, 'gate': 'not_or', 'inputs': (96, 566)},\n",
       "  {'neuron_idx': 841, 'gate': 'b', 'inputs': (781, 446)},\n",
       "  {'neuron_idx': 842, 'gate': 'implied_by', 'inputs': (249, 732)},\n",
       "  {'neuron_idx': 843, 'gate': 'or', 'inputs': (507, 86)},\n",
       "  {'neuron_idx': 844, 'gate': 'or', 'inputs': (273, 645)},\n",
       "  {'neuron_idx': 845, 'gate': 'not_implied_by', 'inputs': (264, 519)},\n",
       "  {'neuron_idx': 846, 'gate': 'not_b', 'inputs': (513, 536)},\n",
       "  {'neuron_idx': 847, 'gate': 'not_or', 'inputs': (651, 612)},\n",
       "  {'neuron_idx': 848, 'gate': 'not_a', 'inputs': (387, 547)},\n",
       "  {'neuron_idx': 849, 'gate': 'not_or', 'inputs': (392, 103)},\n",
       "  {'neuron_idx': 850, 'gate': 'a', 'inputs': (643, 565)},\n",
       "  {'neuron_idx': 851, 'gate': 'a', 'inputs': (327, 124)},\n",
       "  {'neuron_idx': 852, 'gate': 'not_and', 'inputs': (538, 608)},\n",
       "  {'neuron_idx': 853, 'gate': 'xor', 'inputs': (563, 144)},\n",
       "  {'neuron_idx': 854, 'gate': 'implies', 'inputs': (242, 695)},\n",
       "  {'neuron_idx': 855, 'gate': 'not_a', 'inputs': (587, 213)},\n",
       "  {'neuron_idx': 856, 'gate': 'not_or', 'inputs': (281, 15)},\n",
       "  {'neuron_idx': 857, 'gate': 'and', 'inputs': (603, 383)},\n",
       "  {'neuron_idx': 858, 'gate': 'not_implies', 'inputs': (204, 401)},\n",
       "  {'neuron_idx': 859, 'gate': 'not_implies', 'inputs': (144, 24)},\n",
       "  {'neuron_idx': 860, 'gate': 'a', 'inputs': (684, 280)},\n",
       "  {'neuron_idx': 861, 'gate': 'not_implies', 'inputs': (168, 362)},\n",
       "  {'neuron_idx': 862, 'gate': 'a', 'inputs': (631, 471)},\n",
       "  {'neuron_idx': 863, 'gate': 'b', 'inputs': (322, 658)},\n",
       "  {'neuron_idx': 864, 'gate': 'or', 'inputs': (553, 279)},\n",
       "  {'neuron_idx': 865, 'gate': 'not_a', 'inputs': (339, 433)},\n",
       "  {'neuron_idx': 866, 'gate': 'not_xor', 'inputs': (210, 672)},\n",
       "  {'neuron_idx': 867, 'gate': 'not_xor', 'inputs': (237, 220)},\n",
       "  {'neuron_idx': 868, 'gate': 'not_or', 'inputs': (212, 136)},\n",
       "  {'neuron_idx': 869, 'gate': 'b', 'inputs': (424, 685)},\n",
       "  {'neuron_idx': 870, 'gate': 'not_or', 'inputs': (478, 628)},\n",
       "  {'neuron_idx': 871, 'gate': 'a', 'inputs': (584, 96)},\n",
       "  {'neuron_idx': 872, 'gate': 'xor', 'inputs': (767, 510)},\n",
       "  {'neuron_idx': 873, 'gate': 'implies', 'inputs': (155, 136)},\n",
       "  {'neuron_idx': 874, 'gate': 'or', 'inputs': (255, 102)},\n",
       "  {'neuron_idx': 875, 'gate': 'not_b', 'inputs': (684, 722)},\n",
       "  {'neuron_idx': 876, 'gate': 'not_b', 'inputs': (654, 685)},\n",
       "  {'neuron_idx': 877, 'gate': 'not_xor', 'inputs': (13, 451)},\n",
       "  {'neuron_idx': 878, 'gate': 'or', 'inputs': (282, 280)},\n",
       "  {'neuron_idx': 879, 'gate': 'xor', 'inputs': (551, 635)},\n",
       "  {'neuron_idx': 880, 'gate': 'not_xor', 'inputs': (249, 188)},\n",
       "  {'neuron_idx': 881, 'gate': 'or', 'inputs': (758, 509)},\n",
       "  {'neuron_idx': 882, 'gate': 'not_implies', 'inputs': (474, 762)},\n",
       "  {'neuron_idx': 883, 'gate': 'not_b', 'inputs': (195, 141)},\n",
       "  {'neuron_idx': 884, 'gate': 'and', 'inputs': (129, 459)},\n",
       "  {'neuron_idx': 885, 'gate': 'not_xor', 'inputs': (48, 366)},\n",
       "  {'neuron_idx': 886, 'gate': 'or', 'inputs': (338, 699)},\n",
       "  {'neuron_idx': 887, 'gate': 'a', 'inputs': (400, 351)},\n",
       "  {'neuron_idx': 888, 'gate': 'b', 'inputs': (154, 19)},\n",
       "  {'neuron_idx': 889, 'gate': 'a', 'inputs': (523, 770)},\n",
       "  {'neuron_idx': 890, 'gate': 'not_or', 'inputs': (380, 2)},\n",
       "  {'neuron_idx': 891, 'gate': 'and', 'inputs': (632, 130)},\n",
       "  {'neuron_idx': 892, 'gate': 'not_implied_by', 'inputs': (91, 552)},\n",
       "  {'neuron_idx': 893, 'gate': 'not_xor', 'inputs': (455, 662)},\n",
       "  {'neuron_idx': 894, 'gate': 'or', 'inputs': (94, 402)},\n",
       "  {'neuron_idx': 895, 'gate': 'not_a', 'inputs': (165, 383)},\n",
       "  {'neuron_idx': 896, 'gate': 'not_implied_by', 'inputs': (382, 600)},\n",
       "  {'neuron_idx': 897, 'gate': 'implies', 'inputs': (269, 729)},\n",
       "  {'neuron_idx': 898, 'gate': 'not_xor', 'inputs': (255, 509)},\n",
       "  {'neuron_idx': 899, 'gate': 'b', 'inputs': (443, 269)},\n",
       "  {'neuron_idx': 900, 'gate': 'not_or', 'inputs': (600, 380)},\n",
       "  {'neuron_idx': 901, 'gate': 'b', 'inputs': (582, 259)},\n",
       "  {'neuron_idx': 902, 'gate': 'not_or', 'inputs': (555, 334)},\n",
       "  {'neuron_idx': 903, 'gate': 'b', 'inputs': (126, 145)},\n",
       "  {'neuron_idx': 904, 'gate': 'not_xor', 'inputs': (533, 459)},\n",
       "  {'neuron_idx': 905, 'gate': 'not_implied_by', 'inputs': (170, 480)},\n",
       "  {'neuron_idx': 906, 'gate': 'not_implied_by', 'inputs': (592, 305)},\n",
       "  {'neuron_idx': 907, 'gate': 'not_or', 'inputs': (353, 45)},\n",
       "  {'neuron_idx': 908, 'gate': 'or', 'inputs': (619, 647)},\n",
       "  {'neuron_idx': 909, 'gate': 'implies', 'inputs': (466, 255)},\n",
       "  {'neuron_idx': 910, 'gate': 'not_and', 'inputs': (295, 407)},\n",
       "  {'neuron_idx': 911, 'gate': 'not_a', 'inputs': (38, 637)},\n",
       "  {'neuron_idx': 912, 'gate': 'and', 'inputs': (477, 738)},\n",
       "  {'neuron_idx': 913, 'gate': 'implied_by', 'inputs': (257, 551)},\n",
       "  {'neuron_idx': 914, 'gate': 'not_xor', 'inputs': (750, 404)},\n",
       "  {'neuron_idx': 915, 'gate': 'a', 'inputs': (110, 447)},\n",
       "  {'neuron_idx': 916, 'gate': 'and', 'inputs': (161, 161)},\n",
       "  {'neuron_idx': 917, 'gate': 'xor', 'inputs': (204, 394)},\n",
       "  {'neuron_idx': 918, 'gate': 'not_implies', 'inputs': (544, 135)},\n",
       "  {'neuron_idx': 919, 'gate': 'not_implies', 'inputs': (761, 282)},\n",
       "  {'neuron_idx': 920, 'gate': 'not_or', 'inputs': (7, 591)},\n",
       "  {'neuron_idx': 921, 'gate': 'not_or', 'inputs': (263, 500)},\n",
       "  {'neuron_idx': 922, 'gate': 'not_xor', 'inputs': (382, 313)},\n",
       "  {'neuron_idx': 923, 'gate': 'not_or', 'inputs': (636, 167)},\n",
       "  {'neuron_idx': 924, 'gate': 'or', 'inputs': (235, 215)},\n",
       "  {'neuron_idx': 925, 'gate': 'implied_by', 'inputs': (384, 599)},\n",
       "  {'neuron_idx': 926, 'gate': 'not_implies', 'inputs': (242, 179)},\n",
       "  {'neuron_idx': 927, 'gate': 'or', 'inputs': (628, 642)},\n",
       "  {'neuron_idx': 928, 'gate': 'not_xor', 'inputs': (401, 399)},\n",
       "  {'neuron_idx': 929, 'gate': 'not_implied_by', 'inputs': (72, 600)},\n",
       "  {'neuron_idx': 930, 'gate': 'not_or', 'inputs': (525, 681)},\n",
       "  {'neuron_idx': 931, 'gate': 'b', 'inputs': (544, 734)},\n",
       "  {'neuron_idx': 932, 'gate': 'not_or', 'inputs': (228, 7)},\n",
       "  {'neuron_idx': 933, 'gate': 'or', 'inputs': (653, 25)},\n",
       "  {'neuron_idx': 934, 'gate': 'not_implies', 'inputs': (322, 719)},\n",
       "  {'neuron_idx': 935, 'gate': 'implies', 'inputs': (423, 346)},\n",
       "  {'neuron_idx': 936, 'gate': 'implied_by', 'inputs': (528, 767)},\n",
       "  {'neuron_idx': 937, 'gate': 'zero', 'inputs': (33, 429)},\n",
       "  {'neuron_idx': 938, 'gate': 'b', 'inputs': (61, 524)},\n",
       "  {'neuron_idx': 939, 'gate': 'not_implied_by', 'inputs': (494, 189)},\n",
       "  {'neuron_idx': 940, 'gate': 'one', 'inputs': (714, 694)},\n",
       "  {'neuron_idx': 941, 'gate': 'not_implied_by', 'inputs': (240, 37)},\n",
       "  {'neuron_idx': 942, 'gate': 'not_xor', 'inputs': (708, 769)},\n",
       "  {'neuron_idx': 943, 'gate': 'not_a', 'inputs': (19, 510)},\n",
       "  {'neuron_idx': 944, 'gate': 'not_a', 'inputs': (752, 265)},\n",
       "  {'neuron_idx': 945, 'gate': 'not_xor', 'inputs': (619, 19)},\n",
       "  {'neuron_idx': 946, 'gate': 'or', 'inputs': (526, 494)},\n",
       "  {'neuron_idx': 947, 'gate': 'xor', 'inputs': (511, 454)},\n",
       "  {'neuron_idx': 948, 'gate': 'b', 'inputs': (591, 284)},\n",
       "  {'neuron_idx': 949, 'gate': 'or', 'inputs': (487, 677)},\n",
       "  {'neuron_idx': 950, 'gate': 'xor', 'inputs': (626, 219)},\n",
       "  {'neuron_idx': 951, 'gate': 'or', 'inputs': (36, 500)},\n",
       "  {'neuron_idx': 952, 'gate': 'not_implied_by', 'inputs': (227, 547)},\n",
       "  {'neuron_idx': 953, 'gate': 'implies', 'inputs': (575, 412)},\n",
       "  {'neuron_idx': 954, 'gate': 'not_a', 'inputs': (457, 592)},\n",
       "  {'neuron_idx': 955, 'gate': 'or', 'inputs': (152, 36)},\n",
       "  {'neuron_idx': 956, 'gate': 'not_implies', 'inputs': (639, 336)},\n",
       "  {'neuron_idx': 957, 'gate': 'not_a', 'inputs': (344, 773)},\n",
       "  {'neuron_idx': 958, 'gate': 'and', 'inputs': (96, 576)},\n",
       "  {'neuron_idx': 959, 'gate': 'xor', 'inputs': (195, 55)},\n",
       "  {'neuron_idx': 960, 'gate': 'xor', 'inputs': (553, 747)},\n",
       "  {'neuron_idx': 961, 'gate': 'implied_by', 'inputs': (771, 37)},\n",
       "  {'neuron_idx': 962, 'gate': 'and', 'inputs': (525, 726)},\n",
       "  {'neuron_idx': 963, 'gate': 'xor', 'inputs': (690, 617)},\n",
       "  {'neuron_idx': 964, 'gate': 'and', 'inputs': (295, 409)},\n",
       "  {'neuron_idx': 965, 'gate': 'xor', 'inputs': (336, 305)},\n",
       "  {'neuron_idx': 966, 'gate': 'not_and', 'inputs': (274, 550)},\n",
       "  {'neuron_idx': 967, 'gate': 'implied_by', 'inputs': (750, 571)},\n",
       "  {'neuron_idx': 968, 'gate': 'implies', 'inputs': (741, 706)},\n",
       "  {'neuron_idx': 969, 'gate': 'not_xor', 'inputs': (171, 218)},\n",
       "  {'neuron_idx': 970, 'gate': 'not_and', 'inputs': (458, 377)},\n",
       "  {'neuron_idx': 971, 'gate': 'b', 'inputs': (315, 634)},\n",
       "  {'neuron_idx': 972, 'gate': 'not_implied_by', 'inputs': (27, 467)},\n",
       "  {'neuron_idx': 973, 'gate': 'or', 'inputs': (424, 45)},\n",
       "  {'neuron_idx': 974, 'gate': 'or', 'inputs': (181, 253)},\n",
       "  {'neuron_idx': 975, 'gate': 'or', 'inputs': (239, 695)},\n",
       "  {'neuron_idx': 976, 'gate': 'not_implied_by', 'inputs': (74, 699)},\n",
       "  {'neuron_idx': 977, 'gate': 'not_implied_by', 'inputs': (363, 340)},\n",
       "  {'neuron_idx': 978, 'gate': 'not_xor', 'inputs': (114, 542)},\n",
       "  {'neuron_idx': 979, 'gate': 'not_implied_by', 'inputs': (102, 492)},\n",
       "  {'neuron_idx': 980, 'gate': 'implied_by', 'inputs': (168, 323)},\n",
       "  {'neuron_idx': 981, 'gate': 'not_b', 'inputs': (366, 245)},\n",
       "  {'neuron_idx': 982, 'gate': 'xor', 'inputs': (361, 360)},\n",
       "  {'neuron_idx': 983, 'gate': 'xor', 'inputs': (394, 74)},\n",
       "  {'neuron_idx': 984, 'gate': 'not_or', 'inputs': (733, 440)},\n",
       "  {'neuron_idx': 985, 'gate': 'xor', 'inputs': (452, 65)},\n",
       "  {'neuron_idx': 986, 'gate': 'not_implied_by', 'inputs': (398, 472)},\n",
       "  {'neuron_idx': 987, 'gate': 'or', 'inputs': (271, 702)},\n",
       "  {'neuron_idx': 988, 'gate': 'not_or', 'inputs': (336, 272)},\n",
       "  {'neuron_idx': 989, 'gate': 'b', 'inputs': (615, 193)},\n",
       "  {'neuron_idx': 990, 'gate': 'not_or', 'inputs': (282, 364)},\n",
       "  {'neuron_idx': 991, 'gate': 'xor', 'inputs': (611, 446)},\n",
       "  {'neuron_idx': 992, 'gate': 'not_xor', 'inputs': (216, 238)},\n",
       "  {'neuron_idx': 993, 'gate': 'not_xor', 'inputs': (331, 179)},\n",
       "  {'neuron_idx': 994, 'gate': 'implies', 'inputs': (102, 173)},\n",
       "  {'neuron_idx': 995, 'gate': 'not_implied_by', 'inputs': (621, 260)},\n",
       "  {'neuron_idx': 996, 'gate': 'not_xor', 'inputs': (211, 663)},\n",
       "  {'neuron_idx': 997, 'gate': 'xor', 'inputs': (700, 538)},\n",
       "  {'neuron_idx': 998, 'gate': 'not_or', 'inputs': (277, 593)},\n",
       "  {'neuron_idx': 999, 'gate': 'implies', 'inputs': (69, 549)},\n",
       "  ...],\n",
       " [{'neuron_idx': 0, 'gate': 'xor', 'inputs': (1443, 4690)},\n",
       "  {'neuron_idx': 1, 'gate': 'not_xor', 'inputs': (1796, 1071)},\n",
       "  {'neuron_idx': 2, 'gate': 'not_or', 'inputs': (2172, 3332)},\n",
       "  {'neuron_idx': 3, 'gate': 'not_xor', 'inputs': (1065, 1364)},\n",
       "  {'neuron_idx': 4, 'gate': 'or', 'inputs': (2122, 2699)},\n",
       "  {'neuron_idx': 5, 'gate': 'and', 'inputs': (4775, 4864)},\n",
       "  {'neuron_idx': 6, 'gate': 'not_implies', 'inputs': (108, 3037)},\n",
       "  {'neuron_idx': 7, 'gate': 'implied_by', 'inputs': (4251, 1950)},\n",
       "  {'neuron_idx': 8, 'gate': 'or', 'inputs': (2679, 1190)},\n",
       "  {'neuron_idx': 9, 'gate': 'implies', 'inputs': (4778, 2178)},\n",
       "  {'neuron_idx': 10, 'gate': 'and', 'inputs': (4175, 397)},\n",
       "  {'neuron_idx': 11, 'gate': 'not_implied_by', 'inputs': (267, 1464)},\n",
       "  {'neuron_idx': 12, 'gate': 'not_or', 'inputs': (482, 4186)},\n",
       "  {'neuron_idx': 13, 'gate': 'not_xor', 'inputs': (2510, 214)},\n",
       "  {'neuron_idx': 14, 'gate': 'xor', 'inputs': (1246, 2704)},\n",
       "  {'neuron_idx': 15, 'gate': 'and', 'inputs': (4017, 3876)},\n",
       "  {'neuron_idx': 16, 'gate': 'and', 'inputs': (2108, 1399)},\n",
       "  {'neuron_idx': 17, 'gate': 'not_xor', 'inputs': (2224, 4720)},\n",
       "  {'neuron_idx': 18, 'gate': 'not_implied_by', 'inputs': (4604, 1836)},\n",
       "  {'neuron_idx': 19, 'gate': 'xor', 'inputs': (4147, 2581)},\n",
       "  {'neuron_idx': 20, 'gate': 'not_b', 'inputs': (483, 1299)},\n",
       "  {'neuron_idx': 21, 'gate': 'not_and', 'inputs': (2913, 461)},\n",
       "  {'neuron_idx': 22, 'gate': 'not_xor', 'inputs': (1165, 1840)},\n",
       "  {'neuron_idx': 23, 'gate': 'b', 'inputs': (1171, 2379)},\n",
       "  {'neuron_idx': 24, 'gate': 'not_implies', 'inputs': (2497, 3833)},\n",
       "  {'neuron_idx': 25, 'gate': 'and', 'inputs': (2403, 1528)},\n",
       "  {'neuron_idx': 26, 'gate': 'xor', 'inputs': (1911, 2092)},\n",
       "  {'neuron_idx': 27, 'gate': 'not_and', 'inputs': (132, 2851)},\n",
       "  {'neuron_idx': 28, 'gate': 'not_implies', 'inputs': (4948, 766)},\n",
       "  {'neuron_idx': 29, 'gate': 'implied_by', 'inputs': (1460, 4214)},\n",
       "  {'neuron_idx': 30, 'gate': 'implies', 'inputs': (2480, 1481)},\n",
       "  {'neuron_idx': 31, 'gate': 'xor', 'inputs': (2728, 4099)},\n",
       "  {'neuron_idx': 32, 'gate': 'and', 'inputs': (1917, 2545)},\n",
       "  {'neuron_idx': 33, 'gate': 'not_xor', 'inputs': (3849, 3491)},\n",
       "  {'neuron_idx': 34, 'gate': 'not_implied_by', 'inputs': (2195, 4402)},\n",
       "  {'neuron_idx': 35, 'gate': 'not_implies', 'inputs': (2314, 1685)},\n",
       "  {'neuron_idx': 36, 'gate': 'and', 'inputs': (638, 604)},\n",
       "  {'neuron_idx': 37, 'gate': 'implied_by', 'inputs': (2848, 2674)},\n",
       "  {'neuron_idx': 38, 'gate': 'not_b', 'inputs': (3255, 4807)},\n",
       "  {'neuron_idx': 39, 'gate': 'not_implied_by', 'inputs': (1319, 3516)},\n",
       "  {'neuron_idx': 40, 'gate': 'or', 'inputs': (4916, 1297)},\n",
       "  {'neuron_idx': 41, 'gate': 'not_xor', 'inputs': (3214, 1188)},\n",
       "  {'neuron_idx': 42, 'gate': 'xor', 'inputs': (1242, 1580)},\n",
       "  {'neuron_idx': 43, 'gate': 'xor', 'inputs': (2358, 2010)},\n",
       "  {'neuron_idx': 44, 'gate': 'not_xor', 'inputs': (4854, 4334)},\n",
       "  {'neuron_idx': 45, 'gate': 'implied_by', 'inputs': (3801, 1713)},\n",
       "  {'neuron_idx': 46, 'gate': 'or', 'inputs': (4685, 2555)},\n",
       "  {'neuron_idx': 47, 'gate': 'not_or', 'inputs': (3055, 1998)},\n",
       "  {'neuron_idx': 48, 'gate': 'not_a', 'inputs': (92, 3291)},\n",
       "  {'neuron_idx': 49, 'gate': 'not_b', 'inputs': (1236, 908)},\n",
       "  {'neuron_idx': 50, 'gate': 'not_xor', 'inputs': (4742, 1680)},\n",
       "  {'neuron_idx': 51, 'gate': 'not_implied_by', 'inputs': (3013, 2814)},\n",
       "  {'neuron_idx': 52, 'gate': 'not_xor', 'inputs': (1539, 4052)},\n",
       "  {'neuron_idx': 53, 'gate': 'not_implies', 'inputs': (4366, 254)},\n",
       "  {'neuron_idx': 54, 'gate': 'not_a', 'inputs': (3373, 52)},\n",
       "  {'neuron_idx': 55, 'gate': 'and', 'inputs': (3256, 2478)},\n",
       "  {'neuron_idx': 56, 'gate': 'xor', 'inputs': (4325, 262)},\n",
       "  {'neuron_idx': 57, 'gate': 'a', 'inputs': (2745, 1577)},\n",
       "  {'neuron_idx': 58, 'gate': 'not_implied_by', 'inputs': (2356, 4663)},\n",
       "  {'neuron_idx': 59, 'gate': 'implies', 'inputs': (1089, 8)},\n",
       "  {'neuron_idx': 60, 'gate': 'not_b', 'inputs': (1, 163)},\n",
       "  {'neuron_idx': 61, 'gate': 'not_or', 'inputs': (2861, 2663)},\n",
       "  {'neuron_idx': 62, 'gate': 'implies', 'inputs': (1920, 1946)},\n",
       "  {'neuron_idx': 63, 'gate': 'xor', 'inputs': (3293, 4814)},\n",
       "  {'neuron_idx': 64, 'gate': 'a', 'inputs': (4796, 4548)},\n",
       "  {'neuron_idx': 65, 'gate': 'implied_by', 'inputs': (1649, 4790)},\n",
       "  {'neuron_idx': 66, 'gate': 'not_b', 'inputs': (1734, 3052)},\n",
       "  {'neuron_idx': 67, 'gate': 'xor', 'inputs': (4610, 602)},\n",
       "  {'neuron_idx': 68, 'gate': 'not_and', 'inputs': (171, 2204)},\n",
       "  {'neuron_idx': 69, 'gate': 'not_xor', 'inputs': (1715, 1690)},\n",
       "  {'neuron_idx': 70, 'gate': 'not_implies', 'inputs': (34, 1627)},\n",
       "  {'neuron_idx': 71, 'gate': 'a', 'inputs': (3309, 1881)},\n",
       "  {'neuron_idx': 72, 'gate': 'not_or', 'inputs': (426, 4081)},\n",
       "  {'neuron_idx': 73, 'gate': 'not_xor', 'inputs': (4229, 1218)},\n",
       "  {'neuron_idx': 74, 'gate': 'not_xor', 'inputs': (3170, 3838)},\n",
       "  {'neuron_idx': 75, 'gate': 'implied_by', 'inputs': (2847, 554)},\n",
       "  {'neuron_idx': 76, 'gate': 'xor', 'inputs': (397, 585)},\n",
       "  {'neuron_idx': 77, 'gate': 'not_implies', 'inputs': (2479, 4895)},\n",
       "  {'neuron_idx': 78, 'gate': 'and', 'inputs': (166, 2334)},\n",
       "  {'neuron_idx': 79, 'gate': 'not_or', 'inputs': (1228, 3882)},\n",
       "  {'neuron_idx': 80, 'gate': 'xor', 'inputs': (4507, 495)},\n",
       "  {'neuron_idx': 81, 'gate': 'not_implies', 'inputs': (145, 4726)},\n",
       "  {'neuron_idx': 82, 'gate': 'not_xor', 'inputs': (4214, 1811)},\n",
       "  {'neuron_idx': 83, 'gate': 'xor', 'inputs': (2811, 1948)},\n",
       "  {'neuron_idx': 84, 'gate': 'xor', 'inputs': (4688, 4736)},\n",
       "  {'neuron_idx': 85, 'gate': 'a', 'inputs': (3673, 3348)},\n",
       "  {'neuron_idx': 86, 'gate': 'xor', 'inputs': (3035, 1471)},\n",
       "  {'neuron_idx': 87, 'gate': 'not_a', 'inputs': (1424, 4694)},\n",
       "  {'neuron_idx': 88, 'gate': 'b', 'inputs': (4661, 1728)},\n",
       "  {'neuron_idx': 89, 'gate': 'implied_by', 'inputs': (692, 3399)},\n",
       "  {'neuron_idx': 90, 'gate': 'not_implies', 'inputs': (1939, 4631)},\n",
       "  {'neuron_idx': 91, 'gate': 'not_xor', 'inputs': (3527, 4730)},\n",
       "  {'neuron_idx': 92, 'gate': 'implied_by', 'inputs': (4429, 1185)},\n",
       "  {'neuron_idx': 93, 'gate': 'not_a', 'inputs': (3207, 1365)},\n",
       "  {'neuron_idx': 94, 'gate': 'not_implied_by', 'inputs': (2409, 4242)},\n",
       "  {'neuron_idx': 95, 'gate': 'xor', 'inputs': (4801, 2041)},\n",
       "  {'neuron_idx': 96, 'gate': 'xor', 'inputs': (4717, 4820)},\n",
       "  {'neuron_idx': 97, 'gate': 'not_a', 'inputs': (4904, 3233)},\n",
       "  {'neuron_idx': 98, 'gate': 'not_or', 'inputs': (4601, 2457)},\n",
       "  {'neuron_idx': 99, 'gate': 'not_implies', 'inputs': (2437, 2328)},\n",
       "  {'neuron_idx': 100, 'gate': 'or', 'inputs': (1290, 4431)},\n",
       "  {'neuron_idx': 101, 'gate': 'not_implied_by', 'inputs': (951, 4727)},\n",
       "  {'neuron_idx': 102, 'gate': 'not_b', 'inputs': (1898, 3702)},\n",
       "  {'neuron_idx': 103, 'gate': 'not_b', 'inputs': (372, 3234)},\n",
       "  {'neuron_idx': 104, 'gate': 'xor', 'inputs': (1274, 700)},\n",
       "  {'neuron_idx': 105, 'gate': 'not_xor', 'inputs': (3634, 1747)},\n",
       "  {'neuron_idx': 106, 'gate': 'xor', 'inputs': (984, 2843)},\n",
       "  {'neuron_idx': 107, 'gate': 'xor', 'inputs': (4101, 1766)},\n",
       "  {'neuron_idx': 108, 'gate': 'not_or', 'inputs': (4845, 4073)},\n",
       "  {'neuron_idx': 109, 'gate': 'not_or', 'inputs': (71, 3299)},\n",
       "  {'neuron_idx': 110, 'gate': 'not_and', 'inputs': (3351, 3016)},\n",
       "  {'neuron_idx': 111, 'gate': 'not_implied_by', 'inputs': (430, 1689)},\n",
       "  {'neuron_idx': 112, 'gate': 'not_a', 'inputs': (3671, 690)},\n",
       "  {'neuron_idx': 113, 'gate': 'not_xor', 'inputs': (2777, 2876)},\n",
       "  {'neuron_idx': 114, 'gate': 'not_xor', 'inputs': (1207, 3126)},\n",
       "  {'neuron_idx': 115, 'gate': 'xor', 'inputs': (2381, 4766)},\n",
       "  {'neuron_idx': 116, 'gate': 'not_xor', 'inputs': (3122, 3383)},\n",
       "  {'neuron_idx': 117, 'gate': 'xor', 'inputs': (1946, 3470)},\n",
       "  {'neuron_idx': 118, 'gate': 'not_xor', 'inputs': (1340, 1220)},\n",
       "  {'neuron_idx': 119, 'gate': 'not_implies', 'inputs': (592, 1747)},\n",
       "  {'neuron_idx': 120, 'gate': 'not_xor', 'inputs': (3753, 970)},\n",
       "  {'neuron_idx': 121, 'gate': 'not_and', 'inputs': (282, 4124)},\n",
       "  {'neuron_idx': 122, 'gate': 'not_implies', 'inputs': (1612, 1151)},\n",
       "  {'neuron_idx': 123, 'gate': 'not_and', 'inputs': (3514, 4030)},\n",
       "  {'neuron_idx': 124, 'gate': 'not_xor', 'inputs': (1045, 1670)},\n",
       "  {'neuron_idx': 125, 'gate': 'implies', 'inputs': (245, 1824)},\n",
       "  {'neuron_idx': 126, 'gate': 'and', 'inputs': (1462, 1514)},\n",
       "  {'neuron_idx': 127, 'gate': 'and', 'inputs': (971, 1610)},\n",
       "  {'neuron_idx': 128, 'gate': 'a', 'inputs': (473, 3483)},\n",
       "  {'neuron_idx': 129, 'gate': 'not_a', 'inputs': (33, 2670)},\n",
       "  {'neuron_idx': 130, 'gate': 'not_xor', 'inputs': (94, 283)},\n",
       "  {'neuron_idx': 131, 'gate': 'not_xor', 'inputs': (1593, 3446)},\n",
       "  {'neuron_idx': 132, 'gate': 'implies', 'inputs': (3585, 4477)},\n",
       "  {'neuron_idx': 133, 'gate': 'or', 'inputs': (4168, 2166)},\n",
       "  {'neuron_idx': 134, 'gate': 'not_a', 'inputs': (32, 251)},\n",
       "  {'neuron_idx': 135, 'gate': 'not_or', 'inputs': (2669, 1019)},\n",
       "  {'neuron_idx': 136, 'gate': 'not_xor', 'inputs': (4573, 3963)},\n",
       "  {'neuron_idx': 137, 'gate': 'not_or', 'inputs': (3575, 1676)},\n",
       "  {'neuron_idx': 138, 'gate': 'and', 'inputs': (857, 1999)},\n",
       "  {'neuron_idx': 139, 'gate': 'not_implies', 'inputs': (1643, 2376)},\n",
       "  {'neuron_idx': 140, 'gate': 'xor', 'inputs': (3802, 4697)},\n",
       "  {'neuron_idx': 141, 'gate': 'xor', 'inputs': (1889, 3139)},\n",
       "  {'neuron_idx': 142, 'gate': 'not_implied_by', 'inputs': (4647, 1793)},\n",
       "  {'neuron_idx': 143, 'gate': 'not_xor', 'inputs': (356, 3085)},\n",
       "  {'neuron_idx': 144, 'gate': 'b', 'inputs': (2494, 4968)},\n",
       "  {'neuron_idx': 145, 'gate': 'not_b', 'inputs': (3873, 4885)},\n",
       "  {'neuron_idx': 146, 'gate': 'not_xor', 'inputs': (2098, 36)},\n",
       "  {'neuron_idx': 147, 'gate': 'xor', 'inputs': (1723, 1640)},\n",
       "  {'neuron_idx': 148, 'gate': 'not_implied_by', 'inputs': (1677, 1965)},\n",
       "  {'neuron_idx': 149, 'gate': 'and', 'inputs': (1673, 2180)},\n",
       "  {'neuron_idx': 150, 'gate': 'and', 'inputs': (468, 1877)},\n",
       "  {'neuron_idx': 151, 'gate': 'and', 'inputs': (3813, 4460)},\n",
       "  {'neuron_idx': 152, 'gate': 'not_implies', 'inputs': (2666, 2596)},\n",
       "  {'neuron_idx': 153, 'gate': 'xor', 'inputs': (4516, 1394)},\n",
       "  {'neuron_idx': 154, 'gate': 'not_b', 'inputs': (3663, 3458)},\n",
       "  {'neuron_idx': 155, 'gate': 'not_and', 'inputs': (248, 2254)},\n",
       "  {'neuron_idx': 156, 'gate': 'not_implies', 'inputs': (3107, 4042)},\n",
       "  {'neuron_idx': 157, 'gate': 'xor', 'inputs': (2442, 2134)},\n",
       "  {'neuron_idx': 158, 'gate': 'not_xor', 'inputs': (1591, 808)},\n",
       "  {'neuron_idx': 159, 'gate': 'xor', 'inputs': (4785, 1854)},\n",
       "  {'neuron_idx': 160, 'gate': 'not_implies', 'inputs': (2815, 4769)},\n",
       "  {'neuron_idx': 161, 'gate': 'not_or', 'inputs': (365, 457)},\n",
       "  {'neuron_idx': 162, 'gate': 'implied_by', 'inputs': (467, 2125)},\n",
       "  {'neuron_idx': 163, 'gate': 'not_and', 'inputs': (1467, 4414)},\n",
       "  {'neuron_idx': 164, 'gate': 'and', 'inputs': (2819, 679)},\n",
       "  {'neuron_idx': 165, 'gate': 'not_xor', 'inputs': (1504, 4499)},\n",
       "  {'neuron_idx': 166, 'gate': 'b', 'inputs': (2750, 1813)},\n",
       "  {'neuron_idx': 167, 'gate': 'xor', 'inputs': (3205, 3523)},\n",
       "  {'neuron_idx': 168, 'gate': 'not_b', 'inputs': (3748, 1758)},\n",
       "  {'neuron_idx': 169, 'gate': 'not_implies', 'inputs': (3677, 3115)},\n",
       "  {'neuron_idx': 170, 'gate': 'not_b', 'inputs': (764, 4385)},\n",
       "  {'neuron_idx': 171, 'gate': 'not_b', 'inputs': (3985, 3174)},\n",
       "  {'neuron_idx': 172, 'gate': 'not_or', 'inputs': (4703, 4637)},\n",
       "  {'neuron_idx': 173, 'gate': 'implied_by', 'inputs': (1761, 1069)},\n",
       "  {'neuron_idx': 174, 'gate': 'implies', 'inputs': (2446, 1751)},\n",
       "  {'neuron_idx': 175, 'gate': 'not_implies', 'inputs': (3516, 697)},\n",
       "  {'neuron_idx': 176, 'gate': 'or', 'inputs': (888, 4286)},\n",
       "  {'neuron_idx': 177, 'gate': 'or', 'inputs': (4096, 4242)},\n",
       "  {'neuron_idx': 178, 'gate': 'not_b', 'inputs': (4462, 1818)},\n",
       "  {'neuron_idx': 179, 'gate': 'a', 'inputs': (1440, 927)},\n",
       "  {'neuron_idx': 180, 'gate': 'not_a', 'inputs': (296, 246)},\n",
       "  {'neuron_idx': 181, 'gate': 'not_b', 'inputs': (2183, 1183)},\n",
       "  {'neuron_idx': 182, 'gate': 'not_or', 'inputs': (32, 976)},\n",
       "  {'neuron_idx': 183, 'gate': 'not_a', 'inputs': (4990, 1168)},\n",
       "  {'neuron_idx': 184, 'gate': 'not_implied_by', 'inputs': (3251, 4104)},\n",
       "  {'neuron_idx': 185, 'gate': 'not_xor', 'inputs': (328, 4764)},\n",
       "  {'neuron_idx': 186, 'gate': 'xor', 'inputs': (1218, 689)},\n",
       "  {'neuron_idx': 187, 'gate': 'b', 'inputs': (4220, 3231)},\n",
       "  {'neuron_idx': 188, 'gate': 'not_xor', 'inputs': (105, 791)},\n",
       "  {'neuron_idx': 189, 'gate': 'b', 'inputs': (3138, 4205)},\n",
       "  {'neuron_idx': 190, 'gate': 'xor', 'inputs': (2154, 1387)},\n",
       "  {'neuron_idx': 191, 'gate': 'not_a', 'inputs': (1150, 3194)},\n",
       "  {'neuron_idx': 192, 'gate': 'not_or', 'inputs': (4536, 4729)},\n",
       "  {'neuron_idx': 193, 'gate': 'not_implied_by', 'inputs': (976, 1947)},\n",
       "  {'neuron_idx': 194, 'gate': 'b', 'inputs': (3765, 2853)},\n",
       "  {'neuron_idx': 195, 'gate': 'not_or', 'inputs': (2565, 753)},\n",
       "  {'neuron_idx': 196, 'gate': 'xor', 'inputs': (4946, 2362)},\n",
       "  {'neuron_idx': 197, 'gate': 'not_xor', 'inputs': (4659, 4112)},\n",
       "  {'neuron_idx': 198, 'gate': 'not_b', 'inputs': (2025, 2079)},\n",
       "  {'neuron_idx': 199, 'gate': 'not_xor', 'inputs': (3974, 2887)},\n",
       "  {'neuron_idx': 200, 'gate': 'not_implied_by', 'inputs': (3846, 1332)},\n",
       "  {'neuron_idx': 201, 'gate': 'and', 'inputs': (4688, 292)},\n",
       "  {'neuron_idx': 202, 'gate': 'not_and', 'inputs': (144, 4160)},\n",
       "  {'neuron_idx': 203, 'gate': 'xor', 'inputs': (385, 4881)},\n",
       "  {'neuron_idx': 204, 'gate': 'implies', 'inputs': (1985, 3899)},\n",
       "  {'neuron_idx': 205, 'gate': 'not_implies', 'inputs': (2315, 1700)},\n",
       "  {'neuron_idx': 206, 'gate': 'a', 'inputs': (1560, 2295)},\n",
       "  {'neuron_idx': 207, 'gate': 'not_implies', 'inputs': (1584, 1886)},\n",
       "  {'neuron_idx': 208, 'gate': 'a', 'inputs': (3994, 3617)},\n",
       "  {'neuron_idx': 209, 'gate': 'and', 'inputs': (4512, 1273)},\n",
       "  {'neuron_idx': 210, 'gate': 'implies', 'inputs': (508, 1691)},\n",
       "  {'neuron_idx': 211, 'gate': 'b', 'inputs': (1292, 3249)},\n",
       "  {'neuron_idx': 212, 'gate': 'not_xor', 'inputs': (102, 2625)},\n",
       "  {'neuron_idx': 213, 'gate': 'not_xor', 'inputs': (2557, 1025)},\n",
       "  {'neuron_idx': 214, 'gate': 'not_xor', 'inputs': (1427, 2002)},\n",
       "  {'neuron_idx': 215, 'gate': 'not_b', 'inputs': (980, 885)},\n",
       "  {'neuron_idx': 216, 'gate': 'xor', 'inputs': (3798, 1531)},\n",
       "  {'neuron_idx': 217, 'gate': 'not_xor', 'inputs': (360, 369)},\n",
       "  {'neuron_idx': 218, 'gate': 'not_a', 'inputs': (180, 1845)},\n",
       "  {'neuron_idx': 219, 'gate': 'xor', 'inputs': (4363, 2997)},\n",
       "  {'neuron_idx': 220, 'gate': 'a', 'inputs': (56, 3695)},\n",
       "  {'neuron_idx': 221, 'gate': 'not_implied_by', 'inputs': (3261, 302)},\n",
       "  {'neuron_idx': 222, 'gate': 'implies', 'inputs': (269, 2155)},\n",
       "  {'neuron_idx': 223, 'gate': 'implies', 'inputs': (895, 920)},\n",
       "  {'neuron_idx': 224, 'gate': 'b', 'inputs': (4606, 4467)},\n",
       "  {'neuron_idx': 225, 'gate': 'not_xor', 'inputs': (1890, 3784)},\n",
       "  {'neuron_idx': 226, 'gate': 'and', 'inputs': (2269, 620)},\n",
       "  {'neuron_idx': 227, 'gate': 'b', 'inputs': (2275, 1780)},\n",
       "  {'neuron_idx': 228, 'gate': 'a', 'inputs': (582, 993)},\n",
       "  {'neuron_idx': 229, 'gate': 'not_a', 'inputs': (1900, 1109)},\n",
       "  {'neuron_idx': 230, 'gate': 'not_xor', 'inputs': (4047, 4615)},\n",
       "  {'neuron_idx': 231, 'gate': 'xor', 'inputs': (2698, 2371)},\n",
       "  {'neuron_idx': 232, 'gate': 'a', 'inputs': (127, 3653)},\n",
       "  {'neuron_idx': 233, 'gate': 'or', 'inputs': (2895, 3079)},\n",
       "  {'neuron_idx': 234, 'gate': 'not_and', 'inputs': (210, 2196)},\n",
       "  {'neuron_idx': 235, 'gate': 'b', 'inputs': (919, 2769)},\n",
       "  {'neuron_idx': 236, 'gate': 'implied_by', 'inputs': (4090, 3514)},\n",
       "  {'neuron_idx': 237, 'gate': 'xor', 'inputs': (4273, 2467)},\n",
       "  {'neuron_idx': 238, 'gate': 'not_or', 'inputs': (4244, 406)},\n",
       "  {'neuron_idx': 239, 'gate': 'not_a', 'inputs': (1925, 2870)},\n",
       "  {'neuron_idx': 240, 'gate': 'not_implies', 'inputs': (4460, 4798)},\n",
       "  {'neuron_idx': 241, 'gate': 'xor', 'inputs': (1701, 3456)},\n",
       "  {'neuron_idx': 242, 'gate': 'zero', 'inputs': (3043, 2771)},\n",
       "  {'neuron_idx': 243, 'gate': 'not_xor', 'inputs': (3426, 4774)},\n",
       "  {'neuron_idx': 244, 'gate': 'and', 'inputs': (2766, 3232)},\n",
       "  {'neuron_idx': 245, 'gate': 'a', 'inputs': (1600, 3278)},\n",
       "  {'neuron_idx': 246, 'gate': 'implied_by', 'inputs': (3566, 3307)},\n",
       "  {'neuron_idx': 247, 'gate': 'not_b', 'inputs': (1389, 759)},\n",
       "  {'neuron_idx': 248, 'gate': 'not_a', 'inputs': (2508, 3333)},\n",
       "  {'neuron_idx': 249, 'gate': 'not_xor', 'inputs': (2492, 1864)},\n",
       "  {'neuron_idx': 250, 'gate': 'xor', 'inputs': (409, 2920)},\n",
       "  {'neuron_idx': 251, 'gate': 'xor', 'inputs': (4176, 152)},\n",
       "  {'neuron_idx': 252, 'gate': 'not_xor', 'inputs': (835, 4341)},\n",
       "  {'neuron_idx': 253, 'gate': 'implied_by', 'inputs': (2354, 3525)},\n",
       "  {'neuron_idx': 254, 'gate': 'not_implies', 'inputs': (4671, 1166)},\n",
       "  {'neuron_idx': 255, 'gate': 'xor', 'inputs': (2339, 2435)},\n",
       "  {'neuron_idx': 256, 'gate': 'not_b', 'inputs': (3674, 3855)},\n",
       "  {'neuron_idx': 257, 'gate': 'not_implied_by', 'inputs': (1238, 1800)},\n",
       "  {'neuron_idx': 258, 'gate': 'not_and', 'inputs': (3368, 3195)},\n",
       "  {'neuron_idx': 259, 'gate': 'not_implies', 'inputs': (475, 1867)},\n",
       "  {'neuron_idx': 260, 'gate': 'and', 'inputs': (2324, 3308)},\n",
       "  {'neuron_idx': 261, 'gate': 'or', 'inputs': (1882, 3155)},\n",
       "  {'neuron_idx': 262, 'gate': 'b', 'inputs': (3025, 4454)},\n",
       "  {'neuron_idx': 263, 'gate': 'not_b', 'inputs': (2816, 3020)},\n",
       "  {'neuron_idx': 264, 'gate': 'implies', 'inputs': (3998, 1109)},\n",
       "  {'neuron_idx': 265, 'gate': 'a', 'inputs': (863, 1566)},\n",
       "  {'neuron_idx': 266, 'gate': 'not_implied_by', 'inputs': (4724, 4425)},\n",
       "  {'neuron_idx': 267, 'gate': 'xor', 'inputs': (4535, 849)},\n",
       "  {'neuron_idx': 268, 'gate': 'not_or', 'inputs': (3164, 2862)},\n",
       "  {'neuron_idx': 269, 'gate': 'b', 'inputs': (4154, 3502)},\n",
       "  {'neuron_idx': 270, 'gate': 'a', 'inputs': (3057, 1046)},\n",
       "  {'neuron_idx': 271, 'gate': 'xor', 'inputs': (2338, 66)},\n",
       "  {'neuron_idx': 272, 'gate': 'not_a', 'inputs': (3143, 611)},\n",
       "  {'neuron_idx': 273, 'gate': 'or', 'inputs': (1945, 2124)},\n",
       "  {'neuron_idx': 274, 'gate': 'not_or', 'inputs': (698, 234)},\n",
       "  {'neuron_idx': 275, 'gate': 'not_implied_by', 'inputs': (2005, 3063)},\n",
       "  {'neuron_idx': 276, 'gate': 'xor', 'inputs': (1572, 2321)},\n",
       "  {'neuron_idx': 277, 'gate': 'not_implies', 'inputs': (574, 3205)},\n",
       "  {'neuron_idx': 278, 'gate': 'b', 'inputs': (1844, 3450)},\n",
       "  {'neuron_idx': 279, 'gate': 'not_a', 'inputs': (4676, 1329)},\n",
       "  {'neuron_idx': 280, 'gate': 'xor', 'inputs': (1143, 3574)},\n",
       "  {'neuron_idx': 281, 'gate': 'b', 'inputs': (4833, 3653)},\n",
       "  {'neuron_idx': 282, 'gate': 'xor', 'inputs': (4543, 2491)},\n",
       "  {'neuron_idx': 283, 'gate': 'not_and', 'inputs': (4452, 2503)},\n",
       "  {'neuron_idx': 284, 'gate': 'not_or', 'inputs': (4193, 1697)},\n",
       "  {'neuron_idx': 285, 'gate': 'a', 'inputs': (4970, 828)},\n",
       "  {'neuron_idx': 286, 'gate': 'b', 'inputs': (601, 856)},\n",
       "  {'neuron_idx': 287, 'gate': 'implied_by', 'inputs': (4535, 3048)},\n",
       "  {'neuron_idx': 288, 'gate': 'not_b', 'inputs': (841, 1912)},\n",
       "  {'neuron_idx': 289, 'gate': 'b', 'inputs': (4507, 3423)},\n",
       "  {'neuron_idx': 290, 'gate': 'and', 'inputs': (3360, 2236)},\n",
       "  {'neuron_idx': 291, 'gate': 'b', 'inputs': (3268, 4587)},\n",
       "  {'neuron_idx': 292, 'gate': 'not_xor', 'inputs': (2987, 3791)},\n",
       "  {'neuron_idx': 293, 'gate': 'and', 'inputs': (2473, 4842)},\n",
       "  {'neuron_idx': 294, 'gate': 'not_a', 'inputs': (2570, 1896)},\n",
       "  {'neuron_idx': 295, 'gate': 'not_b', 'inputs': (4125, 3952)},\n",
       "  {'neuron_idx': 296, 'gate': 'not_xor', 'inputs': (3728, 945)},\n",
       "  {'neuron_idx': 297, 'gate': 'not_xor', 'inputs': (3537, 808)},\n",
       "  {'neuron_idx': 298, 'gate': 'not_xor', 'inputs': (238, 4551)},\n",
       "  {'neuron_idx': 299, 'gate': 'not_xor', 'inputs': (2005, 3964)},\n",
       "  {'neuron_idx': 300, 'gate': 'not_xor', 'inputs': (4347, 181)},\n",
       "  {'neuron_idx': 301, 'gate': 'or', 'inputs': (4479, 499)},\n",
       "  {'neuron_idx': 302, 'gate': 'xor', 'inputs': (28, 3118)},\n",
       "  {'neuron_idx': 303, 'gate': 'or', 'inputs': (1162, 788)},\n",
       "  {'neuron_idx': 304, 'gate': 'a', 'inputs': (4094, 3606)},\n",
       "  {'neuron_idx': 305, 'gate': 'b', 'inputs': (1503, 2101)},\n",
       "  {'neuron_idx': 306, 'gate': 'not_and', 'inputs': (3402, 1581)},\n",
       "  {'neuron_idx': 307, 'gate': 'not_a', 'inputs': (4928, 892)},\n",
       "  {'neuron_idx': 308, 'gate': 'not_or', 'inputs': (4428, 3567)},\n",
       "  {'neuron_idx': 309, 'gate': 'not_and', 'inputs': (310, 384)},\n",
       "  {'neuron_idx': 310, 'gate': 'a', 'inputs': (1042, 2037)},\n",
       "  {'neuron_idx': 311, 'gate': 'not_implied_by', 'inputs': (3324, 842)},\n",
       "  {'neuron_idx': 312, 'gate': 'not_or', 'inputs': (4489, 2169)},\n",
       "  {'neuron_idx': 313, 'gate': 'not_b', 'inputs': (33, 3616)},\n",
       "  {'neuron_idx': 314, 'gate': 'xor', 'inputs': (3152, 16)},\n",
       "  {'neuron_idx': 315, 'gate': 'not_xor', 'inputs': (1602, 2064)},\n",
       "  {'neuron_idx': 316, 'gate': 'not_a', 'inputs': (4026, 4191)},\n",
       "  {'neuron_idx': 317, 'gate': 'implies', 'inputs': (2912, 1472)},\n",
       "  {'neuron_idx': 318, 'gate': 'and', 'inputs': (4298, 1981)},\n",
       "  {'neuron_idx': 319, 'gate': 'a', 'inputs': (3800, 1937)},\n",
       "  {'neuron_idx': 320, 'gate': 'xor', 'inputs': (2915, 2142)},\n",
       "  {'neuron_idx': 321, 'gate': 'not_implied_by', 'inputs': (4117, 588)},\n",
       "  {'neuron_idx': 322, 'gate': 'not_a', 'inputs': (1189, 2243)},\n",
       "  {'neuron_idx': 323, 'gate': 'not_b', 'inputs': (110, 4905)},\n",
       "  {'neuron_idx': 324, 'gate': 'not_and', 'inputs': (3120, 4555)},\n",
       "  {'neuron_idx': 325, 'gate': 'not_xor', 'inputs': (4751, 1864)},\n",
       "  {'neuron_idx': 326, 'gate': 'not_implies', 'inputs': (998, 3443)},\n",
       "  {'neuron_idx': 327, 'gate': 'xor', 'inputs': (2993, 2289)},\n",
       "  {'neuron_idx': 328, 'gate': 'b', 'inputs': (385, 3458)},\n",
       "  {'neuron_idx': 329, 'gate': 'not_xor', 'inputs': (1961, 2953)},\n",
       "  {'neuron_idx': 330, 'gate': 'and', 'inputs': (3165, 528)},\n",
       "  {'neuron_idx': 331, 'gate': 'xor', 'inputs': (4967, 3867)},\n",
       "  {'neuron_idx': 332, 'gate': 'not_and', 'inputs': (899, 2346)},\n",
       "  {'neuron_idx': 333, 'gate': 'implied_by', 'inputs': (3083, 2685)},\n",
       "  {'neuron_idx': 334, 'gate': 'xor', 'inputs': (4855, 291)},\n",
       "  {'neuron_idx': 335, 'gate': 'xor', 'inputs': (4280, 4642)},\n",
       "  {'neuron_idx': 336, 'gate': 'not_xor', 'inputs': (661, 933)},\n",
       "  {'neuron_idx': 337, 'gate': 'not_implied_by', 'inputs': (4502, 4380)},\n",
       "  {'neuron_idx': 338, 'gate': 'not_xor', 'inputs': (1004, 1144)},\n",
       "  {'neuron_idx': 339, 'gate': 'and', 'inputs': (1800, 1032)},\n",
       "  {'neuron_idx': 340, 'gate': 'implied_by', 'inputs': (1914, 2034)},\n",
       "  {'neuron_idx': 341, 'gate': 'a', 'inputs': (3210, 1567)},\n",
       "  {'neuron_idx': 342, 'gate': 'not_implied_by', 'inputs': (1983, 1769)},\n",
       "  {'neuron_idx': 343, 'gate': 'xor', 'inputs': (4552, 541)},\n",
       "  {'neuron_idx': 344, 'gate': 'not_xor', 'inputs': (2944, 4523)},\n",
       "  {'neuron_idx': 345, 'gate': 'b', 'inputs': (1344, 3819)},\n",
       "  {'neuron_idx': 346, 'gate': 'or', 'inputs': (1099, 2932)},\n",
       "  {'neuron_idx': 347, 'gate': 'implied_by', 'inputs': (4655, 3793)},\n",
       "  {'neuron_idx': 348, 'gate': 'not_xor', 'inputs': (2072, 323)},\n",
       "  {'neuron_idx': 349, 'gate': 'not_xor', 'inputs': (2230, 1426)},\n",
       "  {'neuron_idx': 350, 'gate': 'not_b', 'inputs': (1008, 1292)},\n",
       "  {'neuron_idx': 351, 'gate': 'xor', 'inputs': (3047, 2498)},\n",
       "  {'neuron_idx': 352, 'gate': 'not_and', 'inputs': (1934, 4697)},\n",
       "  {'neuron_idx': 353, 'gate': 'b', 'inputs': (1657, 1268)},\n",
       "  {'neuron_idx': 354, 'gate': 'not_xor', 'inputs': (3109, 2465)},\n",
       "  {'neuron_idx': 355, 'gate': 'not_xor', 'inputs': (196, 698)},\n",
       "  {'neuron_idx': 356, 'gate': 'not_implies', 'inputs': (494, 3081)},\n",
       "  {'neuron_idx': 357, 'gate': 'implied_by', 'inputs': (339, 3993)},\n",
       "  {'neuron_idx': 358, 'gate': 'or', 'inputs': (1516, 3210)},\n",
       "  {'neuron_idx': 359, 'gate': 'implied_by', 'inputs': (2649, 1028)},\n",
       "  {'neuron_idx': 360, 'gate': 'xor', 'inputs': (485, 2196)},\n",
       "  {'neuron_idx': 361, 'gate': 'xor', 'inputs': (862, 597)},\n",
       "  {'neuron_idx': 362, 'gate': 'not_xor', 'inputs': (2795, 767)},\n",
       "  {'neuron_idx': 363, 'gate': 'a', 'inputs': (1456, 4717)},\n",
       "  {'neuron_idx': 364, 'gate': 'not_xor', 'inputs': (1583, 4014)},\n",
       "  {'neuron_idx': 365, 'gate': 'implies', 'inputs': (1746, 3635)},\n",
       "  {'neuron_idx': 366, 'gate': 'not_a', 'inputs': (2, 2159)},\n",
       "  {'neuron_idx': 367, 'gate': 'implies', 'inputs': (2471, 4427)},\n",
       "  {'neuron_idx': 368, 'gate': 'implied_by', 'inputs': (1992, 2658)},\n",
       "  {'neuron_idx': 369, 'gate': 'a', 'inputs': (660, 2554)},\n",
       "  {'neuron_idx': 370, 'gate': 'not_b', 'inputs': (1402, 3768)},\n",
       "  {'neuron_idx': 371, 'gate': 'implies', 'inputs': (773, 3587)},\n",
       "  {'neuron_idx': 372, 'gate': 'not_a', 'inputs': (462, 4023)},\n",
       "  {'neuron_idx': 373, 'gate': 'not_or', 'inputs': (819, 1380)},\n",
       "  {'neuron_idx': 374, 'gate': 'implies', 'inputs': (1024, 2008)},\n",
       "  {'neuron_idx': 375, 'gate': 'not_xor', 'inputs': (4633, 4959)},\n",
       "  {'neuron_idx': 376, 'gate': 'not_implies', 'inputs': (2540, 2671)},\n",
       "  {'neuron_idx': 377, 'gate': 'not_implied_by', 'inputs': (2779, 2780)},\n",
       "  {'neuron_idx': 378, 'gate': 'or', 'inputs': (2667, 3136)},\n",
       "  {'neuron_idx': 379, 'gate': 'not_and', 'inputs': (3550, 865)},\n",
       "  {'neuron_idx': 380, 'gate': 'not_or', 'inputs': (3373, 828)},\n",
       "  {'neuron_idx': 381, 'gate': 'b', 'inputs': (3680, 1307)},\n",
       "  {'neuron_idx': 382, 'gate': 'implies', 'inputs': (1005, 96)},\n",
       "  {'neuron_idx': 383, 'gate': 'or', 'inputs': (3138, 4847)},\n",
       "  {'neuron_idx': 384, 'gate': 'not_b', 'inputs': (730, 2397)},\n",
       "  {'neuron_idx': 385, 'gate': 'or', 'inputs': (2432, 4779)},\n",
       "  {'neuron_idx': 386, 'gate': 'implies', 'inputs': (605, 2330)},\n",
       "  {'neuron_idx': 387, 'gate': 'not_a', 'inputs': (800, 1466)},\n",
       "  {'neuron_idx': 388, 'gate': 'not_xor', 'inputs': (1547, 1356)},\n",
       "  {'neuron_idx': 389, 'gate': 'and', 'inputs': (39, 3187)},\n",
       "  {'neuron_idx': 390, 'gate': 'not_and', 'inputs': (2054, 3000)},\n",
       "  {'neuron_idx': 391, 'gate': 'xor', 'inputs': (4397, 2684)},\n",
       "  {'neuron_idx': 392, 'gate': 'b', 'inputs': (545, 4588)},\n",
       "  {'neuron_idx': 393, 'gate': 'not_a', 'inputs': (4169, 1497)},\n",
       "  {'neuron_idx': 394, 'gate': 'or', 'inputs': (204, 4445)},\n",
       "  {'neuron_idx': 395, 'gate': 'implied_by', 'inputs': (570, 53)},\n",
       "  {'neuron_idx': 396, 'gate': 'xor', 'inputs': (1788, 1444)},\n",
       "  {'neuron_idx': 397, 'gate': 'not_or', 'inputs': (89, 2625)},\n",
       "  {'neuron_idx': 398, 'gate': 'not_xor', 'inputs': (115, 2397)},\n",
       "  {'neuron_idx': 399, 'gate': 'a', 'inputs': (2641, 714)},\n",
       "  {'neuron_idx': 400, 'gate': 'not_a', 'inputs': (651, 1002)},\n",
       "  {'neuron_idx': 401, 'gate': 'or', 'inputs': (861, 4419)},\n",
       "  {'neuron_idx': 402, 'gate': 'not_or', 'inputs': (3538, 4708)},\n",
       "  {'neuron_idx': 403, 'gate': 'or', 'inputs': (1011, 1916)},\n",
       "  {'neuron_idx': 404, 'gate': 'not_xor', 'inputs': (3701, 3474)},\n",
       "  {'neuron_idx': 405, 'gate': 'not_xor', 'inputs': (2543, 1402)},\n",
       "  {'neuron_idx': 406, 'gate': 'xor', 'inputs': (191, 2582)},\n",
       "  {'neuron_idx': 407, 'gate': 'a', 'inputs': (3169, 4159)},\n",
       "  {'neuron_idx': 408, 'gate': 'not_a', 'inputs': (1931, 1745)},\n",
       "  {'neuron_idx': 409, 'gate': 'implied_by', 'inputs': (2014, 3950)},\n",
       "  {'neuron_idx': 410, 'gate': 'xor', 'inputs': (1956, 4282)},\n",
       "  {'neuron_idx': 411, 'gate': 'not_xor', 'inputs': (2816, 3397)},\n",
       "  {'neuron_idx': 412, 'gate': 'not_implied_by', 'inputs': (850, 2684)},\n",
       "  {'neuron_idx': 413, 'gate': 'xor', 'inputs': (4114, 2540)},\n",
       "  {'neuron_idx': 414, 'gate': 'xor', 'inputs': (2910, 4551)},\n",
       "  {'neuron_idx': 415, 'gate': 'implies', 'inputs': (3918, 3561)},\n",
       "  {'neuron_idx': 416, 'gate': 'xor', 'inputs': (1215, 1131)},\n",
       "  {'neuron_idx': 417, 'gate': 'not_xor', 'inputs': (3023, 3655)},\n",
       "  {'neuron_idx': 418, 'gate': 'b', 'inputs': (3267, 1644)},\n",
       "  {'neuron_idx': 419, 'gate': 'not_xor', 'inputs': (4001, 4075)},\n",
       "  {'neuron_idx': 420, 'gate': 'implied_by', 'inputs': (1018, 736)},\n",
       "  {'neuron_idx': 421, 'gate': 'implied_by', 'inputs': (3285, 1783)},\n",
       "  {'neuron_idx': 422, 'gate': 'not_and', 'inputs': (2153, 4347)},\n",
       "  {'neuron_idx': 423, 'gate': 'xor', 'inputs': (346, 2624)},\n",
       "  {'neuron_idx': 424, 'gate': 'not_implied_by', 'inputs': (4618, 361)},\n",
       "  {'neuron_idx': 425, 'gate': 'and', 'inputs': (4006, 1801)},\n",
       "  {'neuron_idx': 426, 'gate': 'not_xor', 'inputs': (1617, 4902)},\n",
       "  {'neuron_idx': 427, 'gate': 'and', 'inputs': (3185, 2182)},\n",
       "  {'neuron_idx': 428, 'gate': 'not_implied_by', 'inputs': (4521, 3862)},\n",
       "  {'neuron_idx': 429, 'gate': 'xor', 'inputs': (3896, 2562)},\n",
       "  {'neuron_idx': 430, 'gate': 'implied_by', 'inputs': (3397, 780)},\n",
       "  {'neuron_idx': 431, 'gate': 'not_xor', 'inputs': (3015, 3242)},\n",
       "  {'neuron_idx': 432, 'gate': 'xor', 'inputs': (2931, 3464)},\n",
       "  {'neuron_idx': 433, 'gate': 'not_and', 'inputs': (3103, 708)},\n",
       "  {'neuron_idx': 434, 'gate': 'a', 'inputs': (2017, 241)},\n",
       "  {'neuron_idx': 435, 'gate': 'not_implies', 'inputs': (2810, 3325)},\n",
       "  {'neuron_idx': 436, 'gate': 'a', 'inputs': (2100, 2565)},\n",
       "  {'neuron_idx': 437, 'gate': 'xor', 'inputs': (1566, 1863)},\n",
       "  {'neuron_idx': 438, 'gate': 'implies', 'inputs': (3741, 195)},\n",
       "  {'neuron_idx': 439, 'gate': 'or', 'inputs': (3630, 715)},\n",
       "  {'neuron_idx': 440, 'gate': 'not_xor', 'inputs': (3582, 4960)},\n",
       "  {'neuron_idx': 441, 'gate': 'not_or', 'inputs': (124, 4173)},\n",
       "  {'neuron_idx': 442, 'gate': 'not_xor', 'inputs': (2984, 1009)},\n",
       "  {'neuron_idx': 443, 'gate': 'implies', 'inputs': (4020, 4817)},\n",
       "  {'neuron_idx': 444, 'gate': 'not_xor', 'inputs': (1605, 1974)},\n",
       "  {'neuron_idx': 445, 'gate': 'not_xor', 'inputs': (313, 3201)},\n",
       "  {'neuron_idx': 446, 'gate': 'or', 'inputs': (3803, 2061)},\n",
       "  {'neuron_idx': 447, 'gate': 'not_xor', 'inputs': (4439, 1797)},\n",
       "  {'neuron_idx': 448, 'gate': 'not_b', 'inputs': (1036, 2104)},\n",
       "  {'neuron_idx': 449, 'gate': 'not_xor', 'inputs': (2980, 3196)},\n",
       "  {'neuron_idx': 450, 'gate': 'not_a', 'inputs': (3693, 3883)},\n",
       "  {'neuron_idx': 451, 'gate': 'not_implies', 'inputs': (559, 4057)},\n",
       "  {'neuron_idx': 452, 'gate': 'and', 'inputs': (510, 2145)},\n",
       "  {'neuron_idx': 453, 'gate': 'implies', 'inputs': (573, 4964)},\n",
       "  {'neuron_idx': 454, 'gate': 'not_implies', 'inputs': (1744, 1529)},\n",
       "  {'neuron_idx': 455, 'gate': 'not_implied_by', 'inputs': (1647, 1777)},\n",
       "  {'neuron_idx': 456, 'gate': 'implies', 'inputs': (4181, 4142)},\n",
       "  {'neuron_idx': 457, 'gate': 'xor', 'inputs': (1935, 1645)},\n",
       "  {'neuron_idx': 458, 'gate': 'or', 'inputs': (2027, 849)},\n",
       "  {'neuron_idx': 459, 'gate': 'implies', 'inputs': (3667, 3027)},\n",
       "  {'neuron_idx': 460, 'gate': 'not_xor', 'inputs': (1321, 757)},\n",
       "  {'neuron_idx': 461, 'gate': 'not_and', 'inputs': (4247, 4563)},\n",
       "  {'neuron_idx': 462, 'gate': 'not_xor', 'inputs': (1428, 147)},\n",
       "  {'neuron_idx': 463, 'gate': 'not_xor', 'inputs': (2032, 1039)},\n",
       "  {'neuron_idx': 464, 'gate': 'b', 'inputs': (4784, 3767)},\n",
       "  {'neuron_idx': 465, 'gate': 'not_xor', 'inputs': (4529, 1752)},\n",
       "  {'neuron_idx': 466, 'gate': 'xor', 'inputs': (1650, 1477)},\n",
       "  {'neuron_idx': 467, 'gate': 'not_xor', 'inputs': (2360, 405)},\n",
       "  {'neuron_idx': 468, 'gate': 'xor', 'inputs': (1564, 2097)},\n",
       "  {'neuron_idx': 469, 'gate': 'not_or', 'inputs': (103, 2006)},\n",
       "  {'neuron_idx': 470, 'gate': 'not_xor', 'inputs': (3342, 4094)},\n",
       "  {'neuron_idx': 471, 'gate': 'not_xor', 'inputs': (1418, 4151)},\n",
       "  {'neuron_idx': 472, 'gate': 'and', 'inputs': (2651, 3974)},\n",
       "  {'neuron_idx': 473, 'gate': 'not_implies', 'inputs': (4917, 1365)},\n",
       "  {'neuron_idx': 474, 'gate': 'b', 'inputs': (260, 2344)},\n",
       "  {'neuron_idx': 475, 'gate': 'implied_by', 'inputs': (2014, 3101)},\n",
       "  {'neuron_idx': 476, 'gate': 'b', 'inputs': (2175, 2879)},\n",
       "  {'neuron_idx': 477, 'gate': 'not_a', 'inputs': (1423, 881)},\n",
       "  {'neuron_idx': 478, 'gate': 'not_xor', 'inputs': (4782, 592)},\n",
       "  {'neuron_idx': 479, 'gate': 'not_and', 'inputs': (2954, 2591)},\n",
       "  {'neuron_idx': 480, 'gate': 'implies', 'inputs': (4528, 3094)},\n",
       "  {'neuron_idx': 481, 'gate': 'a', 'inputs': (3289, 4698)},\n",
       "  {'neuron_idx': 482, 'gate': 'not_xor', 'inputs': (3874, 4701)},\n",
       "  {'neuron_idx': 483, 'gate': 'not_or', 'inputs': (139, 3696)},\n",
       "  {'neuron_idx': 484, 'gate': 'xor', 'inputs': (355, 4063)},\n",
       "  {'neuron_idx': 485, 'gate': 'not_implies', 'inputs': (3441, 1444)},\n",
       "  {'neuron_idx': 486, 'gate': 'not_a', 'inputs': (2574, 4266)},\n",
       "  {'neuron_idx': 487, 'gate': 'xor', 'inputs': (2394, 887)},\n",
       "  {'neuron_idx': 488, 'gate': 'and', 'inputs': (4225, 2293)},\n",
       "  {'neuron_idx': 489, 'gate': 'not_b', 'inputs': (3300, 2222)},\n",
       "  {'neuron_idx': 490, 'gate': 'and', 'inputs': (1692, 760)},\n",
       "  {'neuron_idx': 491, 'gate': 'b', 'inputs': (515, 1724)},\n",
       "  {'neuron_idx': 492, 'gate': 'xor', 'inputs': (2042, 4298)},\n",
       "  {'neuron_idx': 493, 'gate': 'not_or', 'inputs': (3603, 2974)},\n",
       "  {'neuron_idx': 494, 'gate': 'not_or', 'inputs': (1345, 2212)},\n",
       "  {'neuron_idx': 495, 'gate': 'not_xor', 'inputs': (931, 3909)},\n",
       "  {'neuron_idx': 496, 'gate': 'b', 'inputs': (2052, 4011)},\n",
       "  {'neuron_idx': 497, 'gate': 'not_a', 'inputs': (3032, 2011)},\n",
       "  {'neuron_idx': 498, 'gate': 'b', 'inputs': (3975, 2068)},\n",
       "  {'neuron_idx': 499, 'gate': 'not_a', 'inputs': (589, 1943)},\n",
       "  {'neuron_idx': 500, 'gate': 'xor', 'inputs': (4745, 390)},\n",
       "  {'neuron_idx': 501, 'gate': 'not_xor', 'inputs': (3459, 4310)},\n",
       "  {'neuron_idx': 502, 'gate': 'xor', 'inputs': (144, 3966)},\n",
       "  {'neuron_idx': 503, 'gate': 'not_implied_by', 'inputs': (1161, 2419)},\n",
       "  {'neuron_idx': 504, 'gate': 'b', 'inputs': (4639, 399)},\n",
       "  {'neuron_idx': 505, 'gate': 'not_or', 'inputs': (2534, 1764)},\n",
       "  {'neuron_idx': 506, 'gate': 'xor', 'inputs': (2890, 1510)},\n",
       "  {'neuron_idx': 507, 'gate': 'not_b', 'inputs': (1930, 1512)},\n",
       "  {'neuron_idx': 508, 'gate': 'not_implies', 'inputs': (1848, 2808)},\n",
       "  {'neuron_idx': 509, 'gate': 'xor', 'inputs': (1658, 334)},\n",
       "  {'neuron_idx': 510, 'gate': 'not_or', 'inputs': (2831, 2544)},\n",
       "  {'neuron_idx': 511, 'gate': 'implies', 'inputs': (169, 165)},\n",
       "  {'neuron_idx': 512, 'gate': 'not_implies', 'inputs': (4062, 2603)},\n",
       "  {'neuron_idx': 513, 'gate': 'not_and', 'inputs': (1615, 1892)},\n",
       "  {'neuron_idx': 514, 'gate': 'and', 'inputs': (4043, 4422)},\n",
       "  {'neuron_idx': 515, 'gate': 'implies', 'inputs': (866, 4818)},\n",
       "  {'neuron_idx': 516, 'gate': 'xor', 'inputs': (4525, 1920)},\n",
       "  {'neuron_idx': 517, 'gate': 'not_b', 'inputs': (3273, 817)},\n",
       "  {'neuron_idx': 518, 'gate': 'not_a', 'inputs': (4230, 3665)},\n",
       "  {'neuron_idx': 519, 'gate': 'not_b', 'inputs': (1926, 307)},\n",
       "  {'neuron_idx': 520, 'gate': 'a', 'inputs': (3790, 1748)},\n",
       "  {'neuron_idx': 521, 'gate': 'implies', 'inputs': (3980, 3080)},\n",
       "  {'neuron_idx': 522, 'gate': 'implies', 'inputs': (1348, 349)},\n",
       "  {'neuron_idx': 523, 'gate': 'not_xor', 'inputs': (547, 2527)},\n",
       "  {'neuron_idx': 524, 'gate': 'and', 'inputs': (4728, 3778)},\n",
       "  {'neuron_idx': 525, 'gate': 'not_implies', 'inputs': (93, 4568)},\n",
       "  {'neuron_idx': 526, 'gate': 'not_and', 'inputs': (1518, 4483)},\n",
       "  {'neuron_idx': 527, 'gate': 'xor', 'inputs': (2938, 3866)},\n",
       "  {'neuron_idx': 528, 'gate': 'not_xor', 'inputs': (2451, 799)},\n",
       "  {'neuron_idx': 529, 'gate': 'not_a', 'inputs': (2545, 4638)},\n",
       "  {'neuron_idx': 530, 'gate': 'not_xor', 'inputs': (3386, 2917)},\n",
       "  {'neuron_idx': 531, 'gate': 'not_a', 'inputs': (4889, 1784)},\n",
       "  {'neuron_idx': 532, 'gate': 'b', 'inputs': (2247, 1872)},\n",
       "  {'neuron_idx': 533, 'gate': 'a', 'inputs': (4845, 168)},\n",
       "  {'neuron_idx': 534, 'gate': 'implies', 'inputs': (3521, 641)},\n",
       "  {'neuron_idx': 535, 'gate': 'not_xor', 'inputs': (3231, 4925)},\n",
       "  {'neuron_idx': 536, 'gate': 'not_implies', 'inputs': (2320, 2487)},\n",
       "  {'neuron_idx': 537, 'gate': 'not_xor', 'inputs': (600, 2364)},\n",
       "  {'neuron_idx': 538, 'gate': 'xor', 'inputs': (3678, 1523)},\n",
       "  {'neuron_idx': 539, 'gate': 'xor', 'inputs': (1311, 1781)},\n",
       "  {'neuron_idx': 540, 'gate': 'xor', 'inputs': (1834, 4474)},\n",
       "  {'neuron_idx': 541, 'gate': 'b', 'inputs': (1841, 3858)},\n",
       "  {'neuron_idx': 542, 'gate': 'not_implies', 'inputs': (754, 4408)},\n",
       "  {'neuron_idx': 543, 'gate': 'not_b', 'inputs': (3330, 368)},\n",
       "  {'neuron_idx': 544, 'gate': 'not_b', 'inputs': (3894, 4360)},\n",
       "  {'neuron_idx': 545, 'gate': 'not_a', 'inputs': (543, 2260)},\n",
       "  {'neuron_idx': 546, 'gate': 'not_or', 'inputs': (2894, 3934)},\n",
       "  {'neuron_idx': 547, 'gate': 'b', 'inputs': (5, 3165)},\n",
       "  {'neuron_idx': 548, 'gate': 'not_xor', 'inputs': (577, 4346)},\n",
       "  {'neuron_idx': 549, 'gate': 'not_or', 'inputs': (3579, 1023)},\n",
       "  {'neuron_idx': 550, 'gate': 'not_xor', 'inputs': (3556, 1310)},\n",
       "  {'neuron_idx': 551, 'gate': 'not_xor', 'inputs': (4386, 1519)},\n",
       "  {'neuron_idx': 552, 'gate': 'not_a', 'inputs': (4319, 2194)},\n",
       "  {'neuron_idx': 553, 'gate': 'implied_by', 'inputs': (4122, 124)},\n",
       "  {'neuron_idx': 554, 'gate': 'xor', 'inputs': (3075, 303)},\n",
       "  {'neuron_idx': 555, 'gate': 'and', 'inputs': (4547, 393)},\n",
       "  {'neuron_idx': 556, 'gate': 'not_b', 'inputs': (2498, 3209)},\n",
       "  {'neuron_idx': 557, 'gate': 'not_implied_by', 'inputs': (1486, 3188)},\n",
       "  {'neuron_idx': 558, 'gate': 'not_implied_by', 'inputs': (1778, 3568)},\n",
       "  {'neuron_idx': 559, 'gate': 'not_or', 'inputs': (1909, 2655)},\n",
       "  {'neuron_idx': 560, 'gate': 'not_a', 'inputs': (1071, 3650)},\n",
       "  {'neuron_idx': 561, 'gate': 'not_implied_by', 'inputs': (3690, 2417)},\n",
       "  {'neuron_idx': 562, 'gate': 'not_or', 'inputs': (502, 1196)},\n",
       "  {'neuron_idx': 563, 'gate': 'and', 'inputs': (2709, 1993)},\n",
       "  {'neuron_idx': 564, 'gate': 'not_or', 'inputs': (1810, 3752)},\n",
       "  {'neuron_idx': 565, 'gate': 'not_implies', 'inputs': (4258, 1334)},\n",
       "  {'neuron_idx': 566, 'gate': 'b', 'inputs': (949, 2754)},\n",
       "  {'neuron_idx': 567, 'gate': 'not_a', 'inputs': (1179, 4950)},\n",
       "  {'neuron_idx': 568, 'gate': 'not_a', 'inputs': (3577, 4700)},\n",
       "  {'neuron_idx': 569, 'gate': 'not_b', 'inputs': (4674, 3779)},\n",
       "  {'neuron_idx': 570, 'gate': 'not_b', 'inputs': (1096, 3825)},\n",
       "  {'neuron_idx': 571, 'gate': 'not_b', 'inputs': (2388, 2966)},\n",
       "  {'neuron_idx': 572, 'gate': 'not_xor', 'inputs': (4994, 4835)},\n",
       "  {'neuron_idx': 573, 'gate': 'not_a', 'inputs': (858, 2765)},\n",
       "  {'neuron_idx': 574, 'gate': 'not_or', 'inputs': (3636, 2205)},\n",
       "  {'neuron_idx': 575, 'gate': 'not_implies', 'inputs': (420, 3003)},\n",
       "  {'neuron_idx': 576, 'gate': 'not_implied_by', 'inputs': (2515, 4372)},\n",
       "  {'neuron_idx': 577, 'gate': 'not_a', 'inputs': (778, 1831)},\n",
       "  {'neuron_idx': 578, 'gate': 'zero', 'inputs': (557, 2977)},\n",
       "  {'neuron_idx': 579, 'gate': 'not_a', 'inputs': (1639, 4223)},\n",
       "  {'neuron_idx': 580, 'gate': 'or', 'inputs': (4261, 2508)},\n",
       "  {'neuron_idx': 581, 'gate': 'not_implies', 'inputs': (4856, 3003)},\n",
       "  {'neuron_idx': 582, 'gate': 'not_xor', 'inputs': (4027, 4449)},\n",
       "  {'neuron_idx': 583, 'gate': 'a', 'inputs': (453, 3905)},\n",
       "  {'neuron_idx': 584, 'gate': 'xor', 'inputs': (538, 1843)},\n",
       "  {'neuron_idx': 585, 'gate': 'not_implies', 'inputs': (2426, 4749)},\n",
       "  {'neuron_idx': 586, 'gate': 'implied_by', 'inputs': (2847, 2956)},\n",
       "  {'neuron_idx': 587, 'gate': 'not_implies', 'inputs': (2138, 3592)},\n",
       "  {'neuron_idx': 588, 'gate': 'xor', 'inputs': (946, 2181)},\n",
       "  {'neuron_idx': 589, 'gate': 'not_a', 'inputs': (3379, 2170)},\n",
       "  {'neuron_idx': 590, 'gate': 'not_xor', 'inputs': (2647, 4635)},\n",
       "  {'neuron_idx': 591, 'gate': 'b', 'inputs': (1412, 614)},\n",
       "  {'neuron_idx': 592, 'gate': 'and', 'inputs': (3167, 4847)},\n",
       "  {'neuron_idx': 593, 'gate': 'xor', 'inputs': (3068, 2047)},\n",
       "  {'neuron_idx': 594, 'gate': 'not_b', 'inputs': (3287, 3329)},\n",
       "  {'neuron_idx': 595, 'gate': 'not_implied_by', 'inputs': (4628, 3196)},\n",
       "  {'neuron_idx': 596, 'gate': 'or', 'inputs': (3862, 3074)},\n",
       "  {'neuron_idx': 597, 'gate': 'xor', 'inputs': (3754, 918)},\n",
       "  {'neuron_idx': 598, 'gate': 'not_b', 'inputs': (4684, 1891)},\n",
       "  {'neuron_idx': 599, 'gate': 'not_implied_by', 'inputs': (2193, 4101)},\n",
       "  {'neuron_idx': 600, 'gate': 'and', 'inputs': (2618, 291)},\n",
       "  {'neuron_idx': 601, 'gate': 'not_implied_by', 'inputs': (4171, 1059)},\n",
       "  {'neuron_idx': 602, 'gate': 'and', 'inputs': (243, 3553)},\n",
       "  {'neuron_idx': 603, 'gate': 'not_implied_by', 'inputs': (2815, 2078)},\n",
       "  {'neuron_idx': 604, 'gate': 'implies', 'inputs': (1189, 4417)},\n",
       "  {'neuron_idx': 605, 'gate': 'not_xor', 'inputs': (2520, 3578)},\n",
       "  {'neuron_idx': 606, 'gate': 'not_implied_by', 'inputs': (4795, 1714)},\n",
       "  {'neuron_idx': 607, 'gate': 'and', 'inputs': (4952, 3050)},\n",
       "  {'neuron_idx': 608, 'gate': 'b', 'inputs': (4473, 4229)},\n",
       "  {'neuron_idx': 609, 'gate': 'not_or', 'inputs': (1142, 4410)},\n",
       "  {'neuron_idx': 610, 'gate': 'b', 'inputs': (2721, 1201)},\n",
       "  {'neuron_idx': 611, 'gate': 'not_or', 'inputs': (215, 2515)},\n",
       "  {'neuron_idx': 612, 'gate': 'not_a', 'inputs': (718, 1599)},\n",
       "  {'neuron_idx': 613, 'gate': 'not_b', 'inputs': (1404, 4768)},\n",
       "  {'neuron_idx': 614, 'gate': 'or', 'inputs': (2686, 1163)},\n",
       "  {'neuron_idx': 615, 'gate': 'implied_by', 'inputs': (3364, 2163)},\n",
       "  {'neuron_idx': 616, 'gate': 'not_implies', 'inputs': (695, 3987)},\n",
       "  {'neuron_idx': 617, 'gate': 'not_or', 'inputs': (4389, 934)},\n",
       "  {'neuron_idx': 618, 'gate': 'not_xor', 'inputs': (1245, 3784)},\n",
       "  {'neuron_idx': 619, 'gate': 'not_or', 'inputs': (3478, 4956)},\n",
       "  {'neuron_idx': 620, 'gate': 'xor', 'inputs': (877, 2615)},\n",
       "  {'neuron_idx': 621, 'gate': 'xor', 'inputs': (4938, 1304)},\n",
       "  {'neuron_idx': 622, 'gate': 'not_xor', 'inputs': (3293, 2618)},\n",
       "  {'neuron_idx': 623, 'gate': 'not_xor', 'inputs': (3064, 3962)},\n",
       "  {'neuron_idx': 624, 'gate': 'not_a', 'inputs': (4420, 2044)},\n",
       "  {'neuron_idx': 625, 'gate': 'not_xor', 'inputs': (455, 175)},\n",
       "  {'neuron_idx': 626, 'gate': 'not_implies', 'inputs': (1459, 832)},\n",
       "  {'neuron_idx': 627, 'gate': 'a', 'inputs': (3369, 3594)},\n",
       "  {'neuron_idx': 628, 'gate': 'a', 'inputs': (3667, 4296)},\n",
       "  {'neuron_idx': 629, 'gate': 'a', 'inputs': (1913, 1359)},\n",
       "  {'neuron_idx': 630, 'gate': 'xor', 'inputs': (2882, 935)},\n",
       "  {'neuron_idx': 631, 'gate': 'xor', 'inputs': (2174, 1020)},\n",
       "  {'neuron_idx': 632, 'gate': 'b', 'inputs': (616, 1079)},\n",
       "  {'neuron_idx': 633, 'gate': 'implies', 'inputs': (489, 1798)},\n",
       "  {'neuron_idx': 634, 'gate': 'not_a', 'inputs': (4126, 471)},\n",
       "  {'neuron_idx': 635, 'gate': 'and', 'inputs': (1750, 3942)},\n",
       "  {'neuron_idx': 636, 'gate': 'not_xor', 'inputs': (184, 1548)},\n",
       "  {'neuron_idx': 637, 'gate': 'b', 'inputs': (891, 327)},\n",
       "  {'neuron_idx': 638, 'gate': 'not_or', 'inputs': (3529, 2881)},\n",
       "  {'neuron_idx': 639, 'gate': 'not_implies', 'inputs': (1316, 1456)},\n",
       "  {'neuron_idx': 640, 'gate': 'b', 'inputs': (2040, 2711)},\n",
       "  {'neuron_idx': 641, 'gate': 'a', 'inputs': (355, 3361)},\n",
       "  {'neuron_idx': 642, 'gate': 'b', 'inputs': (3646, 1853)},\n",
       "  {'neuron_idx': 643, 'gate': 'not_xor', 'inputs': (2956, 1294)},\n",
       "  {'neuron_idx': 644, 'gate': 'not_xor', 'inputs': (4911, 3256)},\n",
       "  {'neuron_idx': 645, 'gate': 'not_or', 'inputs': (407, 1873)},\n",
       "  {'neuron_idx': 646, 'gate': 'b', 'inputs': (1174, 1391)},\n",
       "  {'neuron_idx': 647, 'gate': 'xor', 'inputs': (2165, 2430)},\n",
       "  {'neuron_idx': 648, 'gate': 'b', 'inputs': (4289, 1388)},\n",
       "  {'neuron_idx': 649, 'gate': 'not_b', 'inputs': (2985, 2934)},\n",
       "  {'neuron_idx': 650, 'gate': 'not_or', 'inputs': (1300, 4315)},\n",
       "  {'neuron_idx': 651, 'gate': 'xor', 'inputs': (351, 70)},\n",
       "  {'neuron_idx': 652, 'gate': 'and', 'inputs': (4927, 2365)},\n",
       "  {'neuron_idx': 653, 'gate': 'b', 'inputs': (3191, 298)},\n",
       "  {'neuron_idx': 654, 'gate': 'a', 'inputs': (1847, 4278)},\n",
       "  {'neuron_idx': 655, 'gate': 'not_xor', 'inputs': (4188, 3281)},\n",
       "  {'neuron_idx': 656, 'gate': 'not_xor', 'inputs': (2217, 1090)},\n",
       "  {'neuron_idx': 657, 'gate': 'not_implies', 'inputs': (3884, 4623)},\n",
       "  {'neuron_idx': 658, 'gate': 'not_or', 'inputs': (4194, 4194)},\n",
       "  {'neuron_idx': 659, 'gate': 'a', 'inputs': (4817, 242)},\n",
       "  {'neuron_idx': 660, 'gate': 'xor', 'inputs': (4188, 1657)},\n",
       "  {'neuron_idx': 661, 'gate': 'not_b', 'inputs': (3488, 3854)},\n",
       "  {'neuron_idx': 662, 'gate': 'not_a', 'inputs': (731, 3788)},\n",
       "  {'neuron_idx': 663, 'gate': 'xor', 'inputs': (4825, 4965)},\n",
       "  {'neuron_idx': 664, 'gate': 'not_xor', 'inputs': (3075, 3564)},\n",
       "  {'neuron_idx': 665, 'gate': 'b', 'inputs': (1398, 1000)},\n",
       "  {'neuron_idx': 666, 'gate': 'b', 'inputs': (882, 3141)},\n",
       "  {'neuron_idx': 667, 'gate': 'not_and', 'inputs': (3749, 1010)},\n",
       "  {'neuron_idx': 668, 'gate': 'implies', 'inputs': (2784, 2370)},\n",
       "  {'neuron_idx': 669, 'gate': 'not_xor', 'inputs': (1286, 3275)},\n",
       "  {'neuron_idx': 670, 'gate': 'not_xor', 'inputs': (1073, 3828)},\n",
       "  {'neuron_idx': 671, 'gate': 'not_implies', 'inputs': (3548, 4738)},\n",
       "  {'neuron_idx': 672, 'gate': 'a', 'inputs': (4174, 4800)},\n",
       "  {'neuron_idx': 673, 'gate': 'not_implies', 'inputs': (4079, 959)},\n",
       "  {'neuron_idx': 674, 'gate': 'xor', 'inputs': (1704, 617)},\n",
       "  {'neuron_idx': 675, 'gate': 'xor', 'inputs': (3114, 2730)},\n",
       "  {'neuron_idx': 676, 'gate': 'not_a', 'inputs': (3875, 271)},\n",
       "  {'neuron_idx': 677, 'gate': 'implied_by', 'inputs': (4079, 3745)},\n",
       "  {'neuron_idx': 678, 'gate': 'not_and', 'inputs': (3356, 4929)},\n",
       "  {'neuron_idx': 679, 'gate': 'b', 'inputs': (1842, 2313)},\n",
       "  {'neuron_idx': 680, 'gate': 'implied_by', 'inputs': (2123, 649)},\n",
       "  {'neuron_idx': 681, 'gate': 'xor', 'inputs': (1553, 3170)},\n",
       "  {'neuron_idx': 682, 'gate': 'not_xor', 'inputs': (1892, 4846)},\n",
       "  {'neuron_idx': 683, 'gate': 'xor', 'inputs': (666, 1480)},\n",
       "  {'neuron_idx': 684, 'gate': 'b', 'inputs': (4664, 264)},\n",
       "  {'neuron_idx': 685, 'gate': 'not_implied_by', 'inputs': (1410, 3366)},\n",
       "  {'neuron_idx': 686, 'gate': 'not_and', 'inputs': (943, 1545)},\n",
       "  {'neuron_idx': 687, 'gate': 'not_b', 'inputs': (1351, 1253)},\n",
       "  {'neuron_idx': 688, 'gate': 'not_xor', 'inputs': (3585, 2210)},\n",
       "  {'neuron_idx': 689, 'gate': 'b', 'inputs': (4348, 677)},\n",
       "  {'neuron_idx': 690, 'gate': 'not_b', 'inputs': (4603, 4334)},\n",
       "  {'neuron_idx': 691, 'gate': 'xor', 'inputs': (2968, 4676)},\n",
       "  {'neuron_idx': 692, 'gate': 'not_implied_by', 'inputs': (478, 2468)},\n",
       "  {'neuron_idx': 693, 'gate': 'and', 'inputs': (2841, 4259)},\n",
       "  {'neuron_idx': 694, 'gate': 'and', 'inputs': (625, 4158)},\n",
       "  {'neuron_idx': 695, 'gate': 'a', 'inputs': (4225, 3879)},\n",
       "  {'neuron_idx': 696, 'gate': 'not_xor', 'inputs': (2213, 1414)},\n",
       "  {'neuron_idx': 697, 'gate': 'not_xor', 'inputs': (243, 3559)},\n",
       "  {'neuron_idx': 698, 'gate': 'implied_by', 'inputs': (1374, 1221)},\n",
       "  {'neuron_idx': 699, 'gate': 'b', 'inputs': (4474, 4031)},\n",
       "  {'neuron_idx': 700, 'gate': 'a', 'inputs': (1220, 2660)},\n",
       "  {'neuron_idx': 701, 'gate': 'implies', 'inputs': (146, 3121)},\n",
       "  {'neuron_idx': 702, 'gate': 'xor', 'inputs': (1786, 4707)},\n",
       "  {'neuron_idx': 703, 'gate': 'not_implies', 'inputs': (2810, 2316)},\n",
       "  {'neuron_idx': 704, 'gate': 'or', 'inputs': (544, 1185)},\n",
       "  {'neuron_idx': 705, 'gate': 'not_or', 'inputs': (1146, 3569)},\n",
       "  {'neuron_idx': 706, 'gate': 'a', 'inputs': (2762, 1669)},\n",
       "  {'neuron_idx': 707, 'gate': 'xor', 'inputs': (2327, 4441)},\n",
       "  {'neuron_idx': 708, 'gate': 'a', 'inputs': (342, 504)},\n",
       "  {'neuron_idx': 709, 'gate': 'and', 'inputs': (2121, 736)},\n",
       "  {'neuron_idx': 710, 'gate': 'not_implied_by', 'inputs': (2525, 881)},\n",
       "  {'neuron_idx': 711, 'gate': 'xor', 'inputs': (2911, 725)},\n",
       "  {'neuron_idx': 712, 'gate': 'not_xor', 'inputs': (325, 2705)},\n",
       "  {'neuron_idx': 713, 'gate': 'and', 'inputs': (4016, 1373)},\n",
       "  {'neuron_idx': 714, 'gate': 'not_implied_by', 'inputs': (4309, 1945)},\n",
       "  {'neuron_idx': 715, 'gate': 'not_implies', 'inputs': (1742, 4362)},\n",
       "  {'neuron_idx': 716, 'gate': 'implied_by', 'inputs': (4660, 2434)},\n",
       "  {'neuron_idx': 717, 'gate': 'a', 'inputs': (400, 1195)},\n",
       "  {'neuron_idx': 718, 'gate': 'b', 'inputs': (641, 580)},\n",
       "  {'neuron_idx': 719, 'gate': 'not_implied_by', 'inputs': (3161, 576)},\n",
       "  {'neuron_idx': 720, 'gate': 'not_a', 'inputs': (2455, 74)},\n",
       "  {'neuron_idx': 721, 'gate': 'xor', 'inputs': (2256, 4983)},\n",
       "  {'neuron_idx': 722, 'gate': 'not_implies', 'inputs': (1159, 1455)},\n",
       "  {'neuron_idx': 723, 'gate': 'and', 'inputs': (2023, 2759)},\n",
       "  {'neuron_idx': 724, 'gate': 'a', 'inputs': (2886, 72)},\n",
       "  {'neuron_idx': 725, 'gate': 'not_and', 'inputs': (2043, 1703)},\n",
       "  {'neuron_idx': 726, 'gate': 'not_a', 'inputs': (546, 1620)},\n",
       "  {'neuron_idx': 727, 'gate': 'not_and', 'inputs': (421, 1944)},\n",
       "  {'neuron_idx': 728, 'gate': 'and', 'inputs': (3130, 3204)},\n",
       "  {'neuron_idx': 729, 'gate': 'not_implies', 'inputs': (4641, 1216)},\n",
       "  {'neuron_idx': 730, 'gate': 'b', 'inputs': (1975, 4070)},\n",
       "  {'neuron_idx': 731, 'gate': 'not_xor', 'inputs': (3822, 2239)},\n",
       "  {'neuron_idx': 732, 'gate': 'xor', 'inputs': (4136, 1251)},\n",
       "  {'neuron_idx': 733, 'gate': 'xor', 'inputs': (3281, 4245)},\n",
       "  {'neuron_idx': 734, 'gate': 'not_implies', 'inputs': (988, 2900)},\n",
       "  {'neuron_idx': 735, 'gate': 'a', 'inputs': (2374, 2908)},\n",
       "  {'neuron_idx': 736, 'gate': 'b', 'inputs': (4834, 4289)},\n",
       "  {'neuron_idx': 737, 'gate': 'and', 'inputs': (2428, 394)},\n",
       "  {'neuron_idx': 738, 'gate': 'not_xor', 'inputs': (3868, 3339)},\n",
       "  {'neuron_idx': 739, 'gate': 'not_xor', 'inputs': (4145, 3851)},\n",
       "  {'neuron_idx': 740, 'gate': 'xor', 'inputs': (3400, 4679)},\n",
       "  {'neuron_idx': 741, 'gate': 'not_implies', 'inputs': (4758, 2892)},\n",
       "  {'neuron_idx': 742, 'gate': 'not_or', 'inputs': (4241, 1930)},\n",
       "  {'neuron_idx': 743, 'gate': 'a', 'inputs': (1281, 1742)},\n",
       "  {'neuron_idx': 744, 'gate': 'not_implied_by', 'inputs': (1553, 2960)},\n",
       "  {'neuron_idx': 745, 'gate': 'not_b', 'inputs': (2546, 2828)},\n",
       "  {'neuron_idx': 746, 'gate': 'not_a', 'inputs': (3599, 3885)},\n",
       "  {'neuron_idx': 747, 'gate': 'a', 'inputs': (3261, 1514)},\n",
       "  {'neuron_idx': 748, 'gate': 'not_implies', 'inputs': (78, 1759)},\n",
       "  {'neuron_idx': 749, 'gate': 'not_or', 'inputs': (4115, 73)},\n",
       "  {'neuron_idx': 750, 'gate': 'not_a', 'inputs': (590, 610)},\n",
       "  {'neuron_idx': 751, 'gate': 'or', 'inputs': (4073, 3202)},\n",
       "  {'neuron_idx': 752, 'gate': 'not_xor', 'inputs': (706, 281)},\n",
       "  {'neuron_idx': 753, 'gate': 'not_implies', 'inputs': (2201, 2552)},\n",
       "  {'neuron_idx': 754, 'gate': 'not_or', 'inputs': (1086, 2747)},\n",
       "  {'neuron_idx': 755, 'gate': 'xor', 'inputs': (225, 2220)},\n",
       "  {'neuron_idx': 756, 'gate': 'not_xor', 'inputs': (566, 3116)},\n",
       "  {'neuron_idx': 757, 'gate': 'not_implied_by', 'inputs': (1498, 1222)},\n",
       "  {'neuron_idx': 758, 'gate': 'not_implies', 'inputs': (4182, 4303)},\n",
       "  {'neuron_idx': 759, 'gate': 'and', 'inputs': (1953, 4157)},\n",
       "  {'neuron_idx': 760, 'gate': 'not_implies', 'inputs': (1197, 4961)},\n",
       "  {'neuron_idx': 761, 'gate': 'not_xor', 'inputs': (4244, 1636)},\n",
       "  {'neuron_idx': 762, 'gate': 'not_a', 'inputs': (1288, 617)},\n",
       "  {'neuron_idx': 763, 'gate': 'not_and', 'inputs': (2706, 2516)},\n",
       "  {'neuron_idx': 764, 'gate': 'b', 'inputs': (1187, 4336)},\n",
       "  {'neuron_idx': 765, 'gate': 'not_xor', 'inputs': (2523, 2854)},\n",
       "  {'neuron_idx': 766, 'gate': 'not_a', 'inputs': (4109, 3562)},\n",
       "  {'neuron_idx': 767, 'gate': 'not_implies', 'inputs': (321, 4918)},\n",
       "  {'neuron_idx': 768, 'gate': 'not_b', 'inputs': (297, 1576)},\n",
       "  {'neuron_idx': 769, 'gate': 'a', 'inputs': (3846, 341)},\n",
       "  {'neuron_idx': 770, 'gate': 'not_a', 'inputs': (3728, 2009)},\n",
       "  {'neuron_idx': 771, 'gate': 'xor', 'inputs': (3757, 299)},\n",
       "  {'neuron_idx': 772, 'gate': 'a', 'inputs': (1628, 3308)},\n",
       "  {'neuron_idx': 773, 'gate': 'not_b', 'inputs': (1862, 1284)},\n",
       "  {'neuron_idx': 774, 'gate': 'not_implied_by', 'inputs': (58, 1534)},\n",
       "  {'neuron_idx': 775, 'gate': 'not_or', 'inputs': (4733, 160)},\n",
       "  {'neuron_idx': 776, 'gate': 'b', 'inputs': (2499, 2753)},\n",
       "  {'neuron_idx': 777, 'gate': 'not_xor', 'inputs': (4825, 1352)},\n",
       "  {'neuron_idx': 778, 'gate': 'not_a', 'inputs': (4988, 3926)},\n",
       "  {'neuron_idx': 779, 'gate': 'implies', 'inputs': (869, 2114)},\n",
       "  {'neuron_idx': 780, 'gate': 'not_implied_by', 'inputs': (3517, 1260)},\n",
       "  {'neuron_idx': 781, 'gate': 'not_a', 'inputs': (4892, 3417)},\n",
       "  {'neuron_idx': 782, 'gate': 'implied_by', 'inputs': (3742, 3276)},\n",
       "  {'neuron_idx': 783, 'gate': 'not_xor', 'inputs': (2736, 896)},\n",
       "  {'neuron_idx': 784, 'gate': 'not_or', 'inputs': (3719, 2542)},\n",
       "  {'neuron_idx': 785, 'gate': 'implied_by', 'inputs': (4216, 1234)},\n",
       "  {'neuron_idx': 786, 'gate': 'not_implies', 'inputs': (3925, 4662)},\n",
       "  {'neuron_idx': 787, 'gate': 'not_implied_by', 'inputs': (3832, 700)},\n",
       "  {'neuron_idx': 788, 'gate': 'not_implied_by', 'inputs': (4192, 394)},\n",
       "  {'neuron_idx': 789, 'gate': 'xor', 'inputs': (3129, 1386)},\n",
       "  {'neuron_idx': 790, 'gate': 'b', 'inputs': (1644, 108)},\n",
       "  {'neuron_idx': 791, 'gate': 'implies', 'inputs': (1075, 4258)},\n",
       "  {'neuron_idx': 792, 'gate': 'and', 'inputs': (3096, 3037)},\n",
       "  {'neuron_idx': 793, 'gate': 'a', 'inputs': (4070, 848)},\n",
       "  {'neuron_idx': 794, 'gate': 'not_a', 'inputs': (897, 1493)},\n",
       "  {'neuron_idx': 795, 'gate': 'xor', 'inputs': (2382, 4133)},\n",
       "  {'neuron_idx': 796, 'gate': 'xor', 'inputs': (1236, 4396)},\n",
       "  {'neuron_idx': 797, 'gate': 'not_a', 'inputs': (4393, 3761)},\n",
       "  {'neuron_idx': 798, 'gate': 'not_implies', 'inputs': (490, 4607)},\n",
       "  {'neuron_idx': 799, 'gate': 'not_implied_by', 'inputs': (2883, 1609)},\n",
       "  {'neuron_idx': 800, 'gate': 'not_a', 'inputs': (1110, 4837)},\n",
       "  {'neuron_idx': 801, 'gate': 'not_a', 'inputs': (852, 3783)},\n",
       "  {'neuron_idx': 802, 'gate': 'xor', 'inputs': (3932, 3919)},\n",
       "  {'neuron_idx': 803, 'gate': 'not_a', 'inputs': (3387, 842)},\n",
       "  {'neuron_idx': 804, 'gate': 'not_b', 'inputs': (3621, 1007)},\n",
       "  {'neuron_idx': 805, 'gate': 'and', 'inputs': (1708, 1656)},\n",
       "  {'neuron_idx': 806, 'gate': 'not_b', 'inputs': (3391, 1229)},\n",
       "  {'neuron_idx': 807, 'gate': 'not_b', 'inputs': (1741, 748)},\n",
       "  {'neuron_idx': 808, 'gate': 'not_and', 'inputs': (6, 1207)},\n",
       "  {'neuron_idx': 809, 'gate': 'not_b', 'inputs': (4711, 1140)},\n",
       "  {'neuron_idx': 810, 'gate': 'not_or', 'inputs': (936, 396)},\n",
       "  {'neuron_idx': 811, 'gate': 'not_or', 'inputs': (877, 4421)},\n",
       "  {'neuron_idx': 812, 'gate': 'a', 'inputs': (2094, 3310)},\n",
       "  {'neuron_idx': 813, 'gate': 'not_or', 'inputs': (2265, 3699)},\n",
       "  {'neuron_idx': 814, 'gate': 'not_implied_by', 'inputs': (440, 1119)},\n",
       "  {'neuron_idx': 815, 'gate': 'not_or', 'inputs': (3970, 2642)},\n",
       "  {'neuron_idx': 816, 'gate': 'not_and', 'inputs': (757, 331)},\n",
       "  {'neuron_idx': 817, 'gate': 'not_xor', 'inputs': (1788, 4919)},\n",
       "  {'neuron_idx': 818, 'gate': 'b', 'inputs': (3371, 1479)},\n",
       "  {'neuron_idx': 819, 'gate': 'not_a', 'inputs': (724, 4427)},\n",
       "  {'neuron_idx': 820, 'gate': 'xor', 'inputs': (255, 3292)},\n",
       "  {'neuron_idx': 821, 'gate': 'a', 'inputs': (2304, 4199)},\n",
       "  {'neuron_idx': 822, 'gate': 'not_implies', 'inputs': (3188, 1205)},\n",
       "  {'neuron_idx': 823, 'gate': 'b', 'inputs': (1843, 4310)},\n",
       "  {'neuron_idx': 824, 'gate': 'b', 'inputs': (2292, 16)},\n",
       "  {'neuron_idx': 825, 'gate': 'not_and', 'inputs': (4148, 4469)},\n",
       "  {'neuron_idx': 826, 'gate': 'xor', 'inputs': (3712, 1790)},\n",
       "  {'neuron_idx': 827, 'gate': 'xor', 'inputs': (998, 4481)},\n",
       "  {'neuron_idx': 828, 'gate': 'not_a', 'inputs': (4480, 1889)},\n",
       "  {'neuron_idx': 829, 'gate': 'and', 'inputs': (1969, 17)},\n",
       "  {'neuron_idx': 830, 'gate': 'xor', 'inputs': (4048, 1105)},\n",
       "  {'neuron_idx': 831, 'gate': 'b', 'inputs': (2880, 4475)},\n",
       "  {'neuron_idx': 832, 'gate': 'implies', 'inputs': (4220, 2242)},\n",
       "  {'neuron_idx': 833, 'gate': 'not_xor', 'inputs': (3032, 3552)},\n",
       "  {'neuron_idx': 834, 'gate': 'not_xor', 'inputs': (1275, 3796)},\n",
       "  {'neuron_idx': 835, 'gate': 'not_b', 'inputs': (4454, 3897)},\n",
       "  {'neuron_idx': 836, 'gate': 'a', 'inputs': (1915, 1366)},\n",
       "  {'neuron_idx': 837, 'gate': 'not_b', 'inputs': (4668, 3639)},\n",
       "  {'neuron_idx': 838, 'gate': 'not_or', 'inputs': (726, 1153)},\n",
       "  {'neuron_idx': 839, 'gate': 'not_or', 'inputs': (2297, 2808)},\n",
       "  {'neuron_idx': 840, 'gate': 'not_or', 'inputs': (956, 4939)},\n",
       "  {'neuron_idx': 841, 'gate': 'not_and', 'inputs': (2801, 2486)},\n",
       "  {'neuron_idx': 842, 'gate': 'not_b', 'inputs': (4623, 4383)},\n",
       "  {'neuron_idx': 843, 'gate': 'not_a', 'inputs': (517, 649)},\n",
       "  {'neuron_idx': 844, 'gate': 'not_implies', 'inputs': (179, 785)},\n",
       "  {'neuron_idx': 845, 'gate': 'not_a', 'inputs': (947, 4664)},\n",
       "  {'neuron_idx': 846, 'gate': 'not_implies', 'inputs': (3943, 4609)},\n",
       "  {'neuron_idx': 847, 'gate': 'not_xor', 'inputs': (4652, 4312)},\n",
       "  {'neuron_idx': 848, 'gate': 'not_a', 'inputs': (3038, 4025)},\n",
       "  {'neuron_idx': 849, 'gate': 'a', 'inputs': (4202, 4896)},\n",
       "  {'neuron_idx': 850, 'gate': 'not_implied_by', 'inputs': (4877, 3009)},\n",
       "  {'neuron_idx': 851, 'gate': 'not_b', 'inputs': (46, 3571)},\n",
       "  {'neuron_idx': 852, 'gate': 'a', 'inputs': (4865, 435)},\n",
       "  {'neuron_idx': 853, 'gate': 'and', 'inputs': (4494, 1322)},\n",
       "  {'neuron_idx': 854, 'gate': 'b', 'inputs': (2279, 52)},\n",
       "  {'neuron_idx': 855, 'gate': 'not_xor', 'inputs': (3627, 812)},\n",
       "  {'neuron_idx': 856, 'gate': 'not_implies', 'inputs': (3944, 4841)},\n",
       "  {'neuron_idx': 857, 'gate': 'xor', 'inputs': (1803, 2265)},\n",
       "  {'neuron_idx': 858, 'gate': 'xor', 'inputs': (2855, 59)},\n",
       "  {'neuron_idx': 859, 'gate': 'not_xor', 'inputs': (4399, 2127)},\n",
       "  {'neuron_idx': 860, 'gate': 'and', 'inputs': (654, 4409)},\n",
       "  {'neuron_idx': 861, 'gate': 'implies', 'inputs': (2150, 4519)},\n",
       "  {'neuron_idx': 862, 'gate': 'implies', 'inputs': (3907, 4593)},\n",
       "  {'neuron_idx': 863, 'gate': 'not_implied_by', 'inputs': (4054, 3711)},\n",
       "  {'neuron_idx': 864, 'gate': 'not_b', 'inputs': (3807, 3489)},\n",
       "  {'neuron_idx': 865, 'gate': 'b', 'inputs': (1112, 2879)},\n",
       "  {'neuron_idx': 866, 'gate': 'not_implies', 'inputs': (3090, 1710)},\n",
       "  {'neuron_idx': 867, 'gate': 'a', 'inputs': (4561, 1538)},\n",
       "  {'neuron_idx': 868, 'gate': 'not_implied_by', 'inputs': (3853, 671)},\n",
       "  {'neuron_idx': 869, 'gate': 'not_xor', 'inputs': (1588, 2720)},\n",
       "  {'neuron_idx': 870, 'gate': 'and', 'inputs': (1995, 1159)},\n",
       "  {'neuron_idx': 871, 'gate': 'not_xor', 'inputs': (1933, 296)},\n",
       "  {'neuron_idx': 872, 'gate': 'and', 'inputs': (2653, 1200)},\n",
       "  {'neuron_idx': 873, 'gate': 'or', 'inputs': (232, 3498)},\n",
       "  {'neuron_idx': 874, 'gate': 'not_b', 'inputs': (906, 1239)},\n",
       "  {'neuron_idx': 875, 'gate': 'not_xor', 'inputs': (2830, 4654)},\n",
       "  {'neuron_idx': 876, 'gate': 'or', 'inputs': (3762, 3249)},\n",
       "  {'neuron_idx': 877, 'gate': 'not_xor', 'inputs': (4280, 2867)},\n",
       "  {'neuron_idx': 878, 'gate': 'not_and', 'inputs': (932, 960)},\n",
       "  {'neuron_idx': 879, 'gate': 'not_xor', 'inputs': (4993, 4145)},\n",
       "  {'neuron_idx': 880, 'gate': 'and', 'inputs': (3162, 2215)},\n",
       "  {'neuron_idx': 881, 'gate': 'implied_by', 'inputs': (125, 681)},\n",
       "  {'neuron_idx': 882, 'gate': 'not_implied_by', 'inputs': (858, 4059)},\n",
       "  {'neuron_idx': 883, 'gate': 'not_a', 'inputs': (4801, 4134)},\n",
       "  {'neuron_idx': 884, 'gate': 'and', 'inputs': (3384, 702)},\n",
       "  {'neuron_idx': 885, 'gate': 'xor', 'inputs': (721, 2046)},\n",
       "  {'neuron_idx': 886, 'gate': 'not_implies', 'inputs': (4728, 45)},\n",
       "  {'neuron_idx': 887, 'gate': 'a', 'inputs': (1217, 3978)},\n",
       "  {'neuron_idx': 888, 'gate': 'b', 'inputs': (3201, 2676)},\n",
       "  {'neuron_idx': 889, 'gate': 'not_and', 'inputs': (4294, 81)},\n",
       "  {'neuron_idx': 890, 'gate': 'not_b', 'inputs': (2776, 1314)},\n",
       "  {'neuron_idx': 891, 'gate': 'and', 'inputs': (1385, 1558)},\n",
       "  {'neuron_idx': 892, 'gate': 'xor', 'inputs': (4036, 717)},\n",
       "  {'neuron_idx': 893, 'gate': 'not_xor', 'inputs': (1121, 3697)},\n",
       "  {'neuron_idx': 894, 'gate': 'xor', 'inputs': (323, 4308)},\n",
       "  {'neuron_idx': 895, 'gate': 'xor', 'inputs': (1866, 3711)},\n",
       "  {'neuron_idx': 896, 'gate': 'not_or', 'inputs': (3026, 3642)},\n",
       "  {'neuron_idx': 897, 'gate': 'not_a', 'inputs': (1282, 1755)},\n",
       "  {'neuron_idx': 898, 'gate': 'xor', 'inputs': (2999, 4158)},\n",
       "  {'neuron_idx': 899, 'gate': 'not_b', 'inputs': (2301, 410)},\n",
       "  {'neuron_idx': 900, 'gate': 'not_a', 'inputs': (4748, 2656)},\n",
       "  {'neuron_idx': 901, 'gate': 'b', 'inputs': (4019, 4705)},\n",
       "  {'neuron_idx': 902, 'gate': 'b', 'inputs': (1676, 663)},\n",
       "  {'neuron_idx': 903, 'gate': 'implied_by', 'inputs': (2402, 2047)},\n",
       "  {'neuron_idx': 904, 'gate': 'xor', 'inputs': (1722, 4692)},\n",
       "  {'neuron_idx': 905, 'gate': 'not_xor', 'inputs': (4105, 1521)},\n",
       "  {'neuron_idx': 906, 'gate': 'not_b', 'inputs': (4640, 4680)},\n",
       "  {'neuron_idx': 907, 'gate': 'and', 'inputs': (3402, 286)},\n",
       "  {'neuron_idx': 908, 'gate': 'not_xor', 'inputs': (3850, 3131)},\n",
       "  {'neuron_idx': 909, 'gate': 'not_implies', 'inputs': (2329, 1056)},\n",
       "  {'neuron_idx': 910, 'gate': 'or', 'inputs': (1366, 4975)},\n",
       "  {'neuron_idx': 911, 'gate': 'not_or', 'inputs': (675, 2048)},\n",
       "  {'neuron_idx': 912, 'gate': 'xor', 'inputs': (2593, 4533)},\n",
       "  {'neuron_idx': 913, 'gate': 'not_and', 'inputs': (994, 2675)},\n",
       "  {'neuron_idx': 914, 'gate': 'implies', 'inputs': (1735, 205)},\n",
       "  {'neuron_idx': 915, 'gate': 'xor', 'inputs': (3926, 1466)},\n",
       "  {'neuron_idx': 916, 'gate': 'not_and', 'inputs': (4874, 3747)},\n",
       "  {'neuron_idx': 917, 'gate': 'and', 'inputs': (3469, 614)},\n",
       "  {'neuron_idx': 918, 'gate': 'not_implied_by', 'inputs': (3490, 2813)},\n",
       "  {'neuron_idx': 919, 'gate': 'not_or', 'inputs': (3367, 4283)},\n",
       "  {'neuron_idx': 920, 'gate': 'xor', 'inputs': (2922, 653)},\n",
       "  {'neuron_idx': 921, 'gate': 'a', 'inputs': (37, 266)},\n",
       "  {'neuron_idx': 922, 'gate': 'xor', 'inputs': (3593, 4891)},\n",
       "  {'neuron_idx': 923, 'gate': 'implied_by', 'inputs': (1849, 2352)},\n",
       "  {'neuron_idx': 924, 'gate': 'not_implied_by', 'inputs': (2100, 1506)},\n",
       "  {'neuron_idx': 925, 'gate': 'not_xor', 'inputs': (3393, 2213)},\n",
       "  {'neuron_idx': 926, 'gate': 'not_b', 'inputs': (278, 524)},\n",
       "  {'neuron_idx': 927, 'gate': 'b', 'inputs': (4901, 4741)},\n",
       "  {'neuron_idx': 928, 'gate': 'not_xor', 'inputs': (1874, 2308)},\n",
       "  {'neuron_idx': 929, 'gate': 'not_b', 'inputs': (3581, 4739)},\n",
       "  {'neuron_idx': 930, 'gate': 'xor', 'inputs': (4984, 4931)},\n",
       "  {'neuron_idx': 931, 'gate': 'not_implied_by', 'inputs': (3812, 4818)},\n",
       "  {'neuron_idx': 932, 'gate': 'not_xor', 'inputs': (2310, 2637)},\n",
       "  {'neuron_idx': 933, 'gate': 'a', 'inputs': (3674, 4681)},\n",
       "  {'neuron_idx': 934, 'gate': 'xor', 'inputs': (55, 265)},\n",
       "  {'neuron_idx': 935, 'gate': 'not_implied_by', 'inputs': (4761, 4527)},\n",
       "  {'neuron_idx': 936, 'gate': 'not_implies', 'inputs': (3266, 2946)},\n",
       "  {'neuron_idx': 937, 'gate': 'not_xor', 'inputs': (4871, 1295)},\n",
       "  {'neuron_idx': 938, 'gate': 'not_a', 'inputs': (3771, 2023)},\n",
       "  {'neuron_idx': 939, 'gate': 'implied_by', 'inputs': (963, 4659)},\n",
       "  {'neuron_idx': 940, 'gate': 'a', 'inputs': (3961, 2930)},\n",
       "  {'neuron_idx': 941, 'gate': 'not_implies', 'inputs': (3992, 1393)},\n",
       "  {'neuron_idx': 942, 'gate': 'xor', 'inputs': (3563, 1606)},\n",
       "  {'neuron_idx': 943, 'gate': 'zero', 'inputs': (1624, 2844)},\n",
       "  {'neuron_idx': 944, 'gate': 'xor', 'inputs': (1745, 686)},\n",
       "  {'neuron_idx': 945, 'gate': 'b', 'inputs': (3370, 4031)},\n",
       "  {'neuron_idx': 946, 'gate': 'implied_by', 'inputs': (4530, 4895)},\n",
       "  {'neuron_idx': 947, 'gate': 'b', 'inputs': (284, 3587)},\n",
       "  {'neuron_idx': 948, 'gate': 'xor', 'inputs': (3670, 3712)},\n",
       "  {'neuron_idx': 949, 'gate': 'not_xor', 'inputs': (2045, 4933)},\n",
       "  {'neuron_idx': 950, 'gate': 'a', 'inputs': (4243, 599)},\n",
       "  {'neuron_idx': 951, 'gate': 'a', 'inputs': (1666, 1264)},\n",
       "  {'neuron_idx': 952, 'gate': 'and', 'inputs': (3615, 4050)},\n",
       "  {'neuron_idx': 953, 'gate': 'xor', 'inputs': (4208, 1775)},\n",
       "  {'neuron_idx': 954, 'gate': 'implied_by', 'inputs': (2773, 4160)},\n",
       "  {'neuron_idx': 955, 'gate': 'xor', 'inputs': (3827, 4994)},\n",
       "  {'neuron_idx': 956, 'gate': 'not_implies', 'inputs': (821, 151)},\n",
       "  {'neuron_idx': 957, 'gate': 'not_or', 'inputs': (3344, 3151)},\n",
       "  {'neuron_idx': 958, 'gate': 'xor', 'inputs': (172, 1884)},\n",
       "  {'neuron_idx': 959, 'gate': 'not_or', 'inputs': (3647, 861)},\n",
       "  {'neuron_idx': 960, 'gate': 'b', 'inputs': (1980, 3271)},\n",
       "  {'neuron_idx': 961, 'gate': 'xor', 'inputs': (4222, 2467)},\n",
       "  {'neuron_idx': 962, 'gate': 'xor', 'inputs': (1713, 1072)},\n",
       "  {'neuron_idx': 963, 'gate': 'implies', 'inputs': (4898, 598)},\n",
       "  {'neuron_idx': 964, 'gate': 'or', 'inputs': (4734, 3837)},\n",
       "  {'neuron_idx': 965, 'gate': 'not_b', 'inputs': (4908, 230)},\n",
       "  {'neuron_idx': 966, 'gate': 'not_or', 'inputs': (2777, 3895)},\n",
       "  {'neuron_idx': 967, 'gate': 'xor', 'inputs': (4953, 684)},\n",
       "  {'neuron_idx': 968, 'gate': 'not_b', 'inputs': (356, 3716)},\n",
       "  {'neuron_idx': 969, 'gate': 'not_xor', 'inputs': (1217, 4139)},\n",
       "  {'neuron_idx': 970, 'gate': 'not_or', 'inputs': (533, 989)},\n",
       "  {'neuron_idx': 971, 'gate': 'not_xor', 'inputs': (1587, 1251)},\n",
       "  {'neuron_idx': 972, 'gate': 'not_xor', 'inputs': (4998, 4146)},\n",
       "  {'neuron_idx': 973, 'gate': 'not_or', 'inputs': (633, 4279)},\n",
       "  {'neuron_idx': 974, 'gate': 'implies', 'inputs': (3620, 400)},\n",
       "  {'neuron_idx': 975, 'gate': 'xor', 'inputs': (1803, 529)},\n",
       "  {'neuron_idx': 976, 'gate': 'not_xor', 'inputs': (2424, 1252)},\n",
       "  {'neuron_idx': 977, 'gate': 'b', 'inputs': (3824, 3991)},\n",
       "  {'neuron_idx': 978, 'gate': 'b', 'inputs': (4321, 3178)},\n",
       "  {'neuron_idx': 979, 'gate': 'implied_by', 'inputs': (1258, 1312)},\n",
       "  {'neuron_idx': 980, 'gate': 'xor', 'inputs': (1005, 2173)},\n",
       "  {'neuron_idx': 981, 'gate': 'b', 'inputs': (1791, 2586)},\n",
       "  {'neuron_idx': 982, 'gate': 'not_xor', 'inputs': (3204, 4301)},\n",
       "  {'neuron_idx': 983, 'gate': 'xor', 'inputs': (3422, 4219)},\n",
       "  {'neuron_idx': 984, 'gate': 'and', 'inputs': (2931, 1147)},\n",
       "  {'neuron_idx': 985, 'gate': 'b', 'inputs': (3773, 75)},\n",
       "  {'neuron_idx': 986, 'gate': 'not_xor', 'inputs': (2429, 247)},\n",
       "  {'neuron_idx': 987, 'gate': 'implied_by', 'inputs': (1754, 3873)},\n",
       "  {'neuron_idx': 988, 'gate': 'b', 'inputs': (2425, 1966)},\n",
       "  {'neuron_idx': 989, 'gate': 'not_a', 'inputs': (3688, 4962)},\n",
       "  {'neuron_idx': 990, 'gate': 'xor', 'inputs': (319, 1704)},\n",
       "  {'neuron_idx': 991, 'gate': 'not_or', 'inputs': (290, 2492)},\n",
       "  {'neuron_idx': 992, 'gate': 'xor', 'inputs': (1909, 4759)},\n",
       "  {'neuron_idx': 993, 'gate': 'xor', 'inputs': (4933, 4093)},\n",
       "  {'neuron_idx': 994, 'gate': 'not_xor', 'inputs': (1805, 655)},\n",
       "  {'neuron_idx': 995, 'gate': 'a', 'inputs': (298, 4380)},\n",
       "  {'neuron_idx': 996, 'gate': 'not_xor', 'inputs': (1982, 184)},\n",
       "  {'neuron_idx': 997, 'gate': 'a', 'inputs': (470, 4802)},\n",
       "  {'neuron_idx': 998, 'gate': 'not_xor', 'inputs': (504, 3558)},\n",
       "  {'neuron_idx': 999, 'gate': 'not_a', 'inputs': (2067, 2575)},\n",
       "  ...]]"
      ]
     },
     "execution_count": 74,
     "metadata": {},
     "output_type": "execute_result"
    }
   ],
   "source": [
    "# gets the connections for the overall model\n",
    "ALL_OPERATIONS = [\n",
    "    \"zero\", \"and\", \"not_implies\", \"a\", \"not_implied_by\", \"b\", \"xor\", \"or\", \n",
    "    \"not_or\", \"not_xor\", \"not_b\", \"implied_by\", \"not_a\", \"implies\", \"not_and\", \"one\"\n",
    "]\n",
    "\n",
    "def get_all_connections(model):\n",
    "    \"\"\"\n",
    "    Retrieves all the connections (gates and their inputs) for each layer in the network.\n",
    "    \n",
    "    Args:\n",
    "    model (nn.Module): The network model.\n",
    "    \n",
    "    Returns:\n",
    "    gates_per_layer (list): List of dictionaries containing the connections for each neuron in each layer.\n",
    "    \"\"\"\n",
    "    gates_per_layer = []\n",
    "    \n",
    "    for layer_idx, layer in enumerate(model.logic_layers):\n",
    "        layer_connections = []\n",
    "        \n",
    "        # for each neuron in the layer\n",
    "        for neuron_idx in range(layer.weights.size(0)):\n",
    "            # get the learned gate by taking the argmax of the weights for the neuron\n",
    "            gate_op_idx = layer.weights[neuron_idx].argmax().item()\n",
    "            learned_gate = ALL_OPERATIONS[gate_op_idx]\n",
    "\n",
    "            # get the input connections (indices) for the gate\n",
    "            input_neuron_a = layer.indices[0][neuron_idx].item()\n",
    "            input_neuron_b = layer.indices[1][neuron_idx].item()\n",
    "\n",
    "            # store the gate and connections\n",
    "            layer_connections.append({\n",
    "                'neuron_idx': neuron_idx,\n",
    "                'gate': learned_gate,\n",
    "                'inputs': (input_neuron_a, input_neuron_b),\n",
    "            })\n",
    "        \n",
    "        gates_per_layer.append(layer_connections)\n",
    "    \n",
    "    return gates_per_layer\n",
    "\n",
    "# retrieve all connections for the model\n",
    "connections = get_all_connections(model)\n",
    "connections"
   ]
  },
  {
   "cell_type": "code",
   "execution_count": 75,
   "id": "1b2c4410-f4f2-416c-bebe-c86d93e4da2a",
   "metadata": {
    "tags": []
   },
   "outputs": [],
   "source": [
    "# makes sure no gate references an unused digit\n",
    "def propagate_activity(connections, unused_nodes_per_digit, digit):\n",
    "    \"\"\"\n",
    "    Propagates neuron activity backward through the layers. If a neuron in the second layer is active, \n",
    "    it makes the connected neurons in the first layer active.\n",
    "    \n",
    "    Args:\n",
    "    connections (list): List of connections for each layer for the overall model.\n",
    "    unused_nodes_per_digit (dict): Dictionary of unused nodes per digit and layer.\n",
    "    digit (int): The digit to process.\n",
    "\n",
    "    Returns:\n",
    "    updated_unused_nodes_per_digit (dict): The updated dictionary with necessary nodes marked as active.\n",
    "    \"\"\"\n",
    "    # Copy the unused_nodes_per_digit to modify it\n",
    "    updated_unused_nodes_per_digit = copy.deepcopy(unused_nodes_per_digit)\n",
    "\n",
    "    # Iterate backward through layers (starting from the second-to-last)\n",
    "    for layer_idx in range(len(connections) - 1, 0, -1):\n",
    "        # Get the current layer's connections and unused nodes\n",
    "        layer_connections = connections[layer_idx]\n",
    "        unused_nodes_in_layer = updated_unused_nodes_per_digit[digit][layer_idx]\n",
    "\n",
    "        # Check which neurons are active in the current layer\n",
    "        active_neurons = {conn['neuron_idx'] for conn in layer_connections if conn['neuron_idx'] not in unused_nodes_in_layer}\n",
    "\n",
    "        # Activate the neurons in the previous layer that are connected to active neurons in the current layer\n",
    "        for conn in layer_connections:\n",
    "            if conn['neuron_idx'] in active_neurons:\n",
    "                input_a, input_b = conn['inputs']\n",
    "                # Remove these neurons from the \"unused\" set, making them active\n",
    "                updated_unused_nodes_per_digit[digit][layer_idx - 1].discard(input_a)\n",
    "                updated_unused_nodes_per_digit[digit][layer_idx - 1].discard(input_b)\n",
    "\n",
    "    return updated_unused_nodes_per_digit\n",
    "\n",
    "def filter_connections_after_propagation(connections, unused_nodes_per_digit, digit):\n",
    "    \"\"\"\n",
    "    Filters out unused gates and updates connections after propagating neuron activity.\n",
    "    \n",
    "    Args:\n",
    "    - connections (list): List of connections for each layer.\n",
    "    - unused_nodes_per_digit (dict): Updated dictionary of unused nodes per digit and layer.\n",
    "    - digit (int): The digit to process.\n",
    "    \n",
    "    Returns:\n",
    "    - filtered_connections (list): The adjusted connections after removing unused gates.\n",
    "    \"\"\"\n",
    "    filtered_connections = []\n",
    "\n",
    "    for layer_idx, layer_connections in enumerate(connections):\n",
    "        layer_unused_nodes = unused_nodes_per_digit[digit][layer_idx]\n",
    "        \n",
    "        # Filter out connections where the neuron index is in the unused nodes\n",
    "        filtered_layer_connections = [\n",
    "            conn for conn in layer_connections if conn['neuron_idx'] not in layer_unused_nodes\n",
    "        ]\n",
    "        \n",
    "        filtered_connections.append(filtered_layer_connections)\n",
    "\n",
    "    return filtered_connections\n",
    "\n",
    "def process_network_with_propagation(connections, unused_nodes_per_digit, digit):\n",
    "    # Step 1: Propagate activity backward\n",
    "    updated_unused_nodes_per_digit = propagate_activity(connections, unused_nodes_per_digit, digit)\n",
    "    \n",
    "    # Step 2: Filter connections based on updated activity\n",
    "    filtered_connections = filter_connections_after_propagation(connections, updated_unused_nodes_per_digit, digit)\n",
    "    \n",
    "    return filtered_connections\n",
    "\n",
    "# dictionary to store connections for all digits\n",
    "full_connections_per_digit = {}\n",
    "\n",
    "for digit in range(10):\n",
    "    full_connections_per_digit[digit] = process_network_with_propagation(connections, unused_gates_per_digit, digit=digit)"
   ]
  },
  {
   "cell_type": "code",
   "execution_count": 76,
   "id": "fdb38063-83ff-4858-a9e9-ec9a9af217f6",
   "metadata": {
    "jupyter": {
     "source_hidden": true
    },
    "tags": []
   },
   "outputs": [],
   "source": [
    "# map gate names to indices\n",
    "gate_name_to_index = {name: idx for idx, name in enumerate(ALL_OPERATIONS)}\n",
    "\n",
    "# calculation given two inputs (a and b) and their logic gate (i)\n",
    "def bin_op(a, b, i):\n",
    "    assert a[0].shape == b[0].shape, (a[0].shape, b[0].shape)\n",
    "    if a.shape[0] > 1:\n",
    "        assert a[1].shape == b[1].shape, (a[1].shape, b[1].shape)\n",
    "\n",
    "    if i == 0:\n",
    "        return torch.zeros_like(a)\n",
    "    elif i == 1:\n",
    "        return a * b\n",
    "    elif i == 2:\n",
    "        return a - a * b\n",
    "    elif i == 3:\n",
    "        return a\n",
    "    elif i == 4:\n",
    "        return b - a * b\n",
    "    elif i == 5:\n",
    "        return b\n",
    "    elif i == 6:\n",
    "        return a + b - 2 * a * b\n",
    "    elif i == 7:\n",
    "        return a + b - a * b\n",
    "    elif i == 8:\n",
    "        return 1 - (a + b - a * b)\n",
    "    elif i == 9:\n",
    "        return 1 - (a + b - 2 * a * b)\n",
    "    elif i == 10:\n",
    "        return 1 - b\n",
    "    elif i == 11:\n",
    "        return 1 - b + a * b\n",
    "    elif i == 12:\n",
    "        return 1 - a\n",
    "    elif i == 13:\n",
    "        return 1 - a + a * b\n",
    "    elif i == 14:\n",
    "        return 1 - a * b\n",
    "    elif i == 15:\n",
    "        return torch.ones_like(a)"
   ]
  },
  {
   "cell_type": "code",
   "execution_count": 77,
   "id": "5f9840c6-281c-4c7a-9019-5df5a9bb468d",
   "metadata": {
    "tags": []
   },
   "outputs": [],
   "source": [
    "# extract logic gates per layer\n",
    "def extract_logic_gates_per_layer(adjusted_connections, gate_name_to_index):\n",
    "    logic_gates_per_layer = []\n",
    "    for layer_connections in adjusted_connections:\n",
    "        # Convert each gate name to its corresponding index\n",
    "        logic_gates = [gate_name_to_index[conn['gate']] for conn in layer_connections]\n",
    "        logic_gates_per_layer.append(logic_gates)\n",
    "    return logic_gates_per_layer\n",
    "\n",
    "# loop for all digits\n",
    "logic_gates_per_layer_per_digit = {}\n",
    "for digit in range(10):\n",
    "    adjusted_connections = full_connections_per_digit[digit]\n",
    "    logic_gates_per_layer_per_digit[digit] = extract_logic_gates_per_layer(adjusted_connections, gate_name_to_index)"
   ]
  },
  {
   "cell_type": "code",
   "execution_count": 78,
   "id": "6e8de1fb-ebb4-4ef8-8813-df3f56cefcc8",
   "metadata": {
    "tags": []
   },
   "outputs": [],
   "source": [
    "def create_layer_specs(adjusted_connections, logic_gates_per_layer, input_size):\n",
    "    layer_specs = []\n",
    "    previous_absolute_indices = None\n",
    "    previous_absolute_to_relative = None\n",
    "\n",
    "    for layer_idx, layer_connections in enumerate(adjusted_connections):\n",
    "        if layer_idx == 0:\n",
    "            # First Layer\n",
    "            current_input_size = input_size\n",
    "            output_size = len(layer_connections)\n",
    "\n",
    "            # Build mapping from output neuron absolute indices to relative indices\n",
    "            absolute_indices = [conn['neuron_idx'] for conn in layer_connections]\n",
    "            absolute_to_relative = {abs_idx: rel_idx for rel_idx, abs_idx in enumerate(absolute_indices)}\n",
    "\n",
    "            # Connections: no need to remap inputs\n",
    "            connections = torch.tensor([conn['inputs'] for conn in layer_connections], dtype=torch.long).to('cuda')\n",
    "\n",
    "            logic_gates = logic_gates_per_layer[layer_idx]\n",
    "            layer_specs.append({\n",
    "                'input_size': current_input_size,\n",
    "                'output_size': output_size,\n",
    "                'connections': connections,\n",
    "                'logic_gates': logic_gates,\n",
    "            })\n",
    "\n",
    "            previous_absolute_indices = absolute_indices\n",
    "            previous_absolute_to_relative = absolute_to_relative\n",
    "        else:\n",
    "            # Subsequent Layers\n",
    "            current_input_size = len(previous_absolute_indices)\n",
    "            output_size = len(layer_connections)\n",
    "\n",
    "            # Remap inputs using previous layer's absolute to relative mapping\n",
    "            connections = []\n",
    "            for conn in layer_connections:\n",
    "                input_a_abs = conn['inputs'][0]\n",
    "                input_b_abs = conn['inputs'][1]\n",
    "\n",
    "                # Map absolute indices to relative indices\n",
    "                input_a_rel = previous_absolute_to_relative[input_a_abs]\n",
    "                input_b_rel = previous_absolute_to_relative[input_b_abs]\n",
    "                connections.append((input_a_rel, input_b_rel))\n",
    "\n",
    "            connections = torch.tensor(connections, dtype=torch.long).to('cuda')\n",
    "            logic_gates = logic_gates_per_layer[layer_idx]\n",
    "            layer_specs.append({\n",
    "                'input_size': current_input_size,\n",
    "                'output_size': output_size,\n",
    "                'connections': connections,\n",
    "                'logic_gates': logic_gates,\n",
    "            })\n",
    "\n",
    "            # Update mappings for the next layer\n",
    "            absolute_indices = [conn['neuron_idx'] for conn in layer_connections]\n",
    "            absolute_to_relative = {abs_idx: rel_idx for rel_idx, abs_idx in enumerate(absolute_indices)}\n",
    "            previous_absolute_indices = absolute_indices\n",
    "            previous_absolute_to_relative = absolute_to_relative\n",
    "    \n",
    "    #pad_layer(layer_specs[-1], k=10)\n",
    "    \n",
    "    return layer_specs"
   ]
  },
  {
   "cell_type": "code",
   "execution_count": 79,
   "id": "d5296c39-690d-453b-8287-e213f211c0ab",
   "metadata": {
    "tags": []
   },
   "outputs": [],
   "source": [
    "specific_connections = process_network_with_propagation(connections, unused_gates_per_digit, digit=0)\n",
    "specific_gates = extract_logic_gates_per_layer(full_connections_for_digit, gate_name_to_index)\n",
    "layer_specs = create_layer_specs(specific_connections, specific_gates, input_size=784)\n",
    "mininet_0 = CustomDiffLogic(layer_specs)"
   ]
  },
  {
   "cell_type": "code",
   "execution_count": 80,
   "id": "d6939cbe-cf75-4e4e-b838-da0f01aae709",
   "metadata": {
    "tags": []
   },
   "outputs": [
    {
     "data": {
      "text/plain": [
       "CustomDiffLogic(\n",
       "  (flatten): Flatten(start_dim=1, end_dim=-1)\n",
       "  (logic_layers): Sequential(\n",
       "    (0): CustomLogicLayer(784, 4916, train)\n",
       "    (1): CustomLogicLayer(4916, 4027, train)\n",
       "  )\n",
       "  (group): GroupSum(k=10, tau=30)\n",
       ")"
      ]
     },
     "execution_count": 80,
     "metadata": {},
     "output_type": "execute_result"
    }
   ],
   "source": [
    "mininet_0"
   ]
  },
  {
   "cell_type": "code",
   "execution_count": 83,
   "id": "8538534c-72cf-40d1-9ab3-14dca4e89880",
   "metadata": {
    "collapsed": true,
    "jupyter": {
     "outputs_hidden": true
    },
    "tags": []
   },
   "outputs": [
    {
     "name": "stdout",
     "output_type": "stream",
     "text": [
      "Processing digit 0\n",
      "CustomDiffLogic(\n",
      "  (flatten): Flatten(start_dim=1, end_dim=-1)\n",
      "  (logic_layers): Sequential(\n",
      "    (0): CustomLogicLayer(784, 4916, train)\n",
      "    (1): CustomLogicLayer(4916, 4027, train)\n",
      "  )\n",
      "  (group): GroupSum(k=10, tau=30)\n",
      ")\n",
      "Processing digit 1\n",
      "CustomDiffLogic(\n",
      "  (flatten): Flatten(start_dim=1, end_dim=-1)\n",
      "  (logic_layers): Sequential(\n",
      "    (0): CustomLogicLayer(784, 4706, train)\n",
      "    (1): CustomLogicLayer(4706, 3308, train)\n",
      "  )\n",
      "  (group): GroupSum(k=10, tau=30)\n",
      ")\n",
      "Processing digit 2\n",
      "CustomDiffLogic(\n",
      "  (flatten): Flatten(start_dim=1, end_dim=-1)\n",
      "  (logic_layers): Sequential(\n",
      "    (0): CustomLogicLayer(784, 4945, train)\n",
      "    (1): CustomLogicLayer(4945, 4149, train)\n",
      "  )\n",
      "  (group): GroupSum(k=10, tau=30)\n",
      ")\n",
      "Processing digit 3\n",
      "CustomDiffLogic(\n",
      "  (flatten): Flatten(start_dim=1, end_dim=-1)\n",
      "  (logic_layers): Sequential(\n",
      "    (0): CustomLogicLayer(784, 4884, train)\n",
      "    (1): CustomLogicLayer(4884, 3891, train)\n",
      "  )\n",
      "  (group): GroupSum(k=10, tau=30)\n",
      ")\n",
      "Processing digit 4\n",
      "CustomDiffLogic(\n",
      "  (flatten): Flatten(start_dim=1, end_dim=-1)\n",
      "  (logic_layers): Sequential(\n",
      "    (0): CustomLogicLayer(784, 4813, train)\n",
      "    (1): CustomLogicLayer(4813, 3613, train)\n",
      "  )\n",
      "  (group): GroupSum(k=10, tau=30)\n",
      ")\n",
      "Processing digit 5\n",
      "CustomDiffLogic(\n",
      "  (flatten): Flatten(start_dim=1, end_dim=-1)\n",
      "  (logic_layers): Sequential(\n",
      "    (0): CustomLogicLayer(784, 4803, train)\n",
      "    (1): CustomLogicLayer(4803, 3629, train)\n",
      "  )\n",
      "  (group): GroupSum(k=10, tau=30)\n",
      ")\n",
      "Processing digit 6\n",
      "CustomDiffLogic(\n",
      "  (flatten): Flatten(start_dim=1, end_dim=-1)\n",
      "  (logic_layers): Sequential(\n",
      "    (0): CustomLogicLayer(784, 4950, train)\n",
      "    (1): CustomLogicLayer(4950, 4202, train)\n",
      "  )\n",
      "  (group): GroupSum(k=10, tau=30)\n",
      ")\n",
      "Processing digit 7\n",
      "CustomDiffLogic(\n",
      "  (flatten): Flatten(start_dim=1, end_dim=-1)\n",
      "  (logic_layers): Sequential(\n",
      "    (0): CustomLogicLayer(784, 4746, train)\n",
      "    (1): CustomLogicLayer(4746, 3470, train)\n",
      "  )\n",
      "  (group): GroupSum(k=10, tau=30)\n",
      ")\n",
      "Processing digit 8\n",
      "CustomDiffLogic(\n",
      "  (flatten): Flatten(start_dim=1, end_dim=-1)\n",
      "  (logic_layers): Sequential(\n",
      "    (0): CustomLogicLayer(784, 4931, train)\n",
      "    (1): CustomLogicLayer(4931, 4199, train)\n",
      "  )\n",
      "  (group): GroupSum(k=10, tau=30)\n",
      ")\n",
      "Processing digit 9\n",
      "CustomDiffLogic(\n",
      "  (flatten): Flatten(start_dim=1, end_dim=-1)\n",
      "  (logic_layers): Sequential(\n",
      "    (0): CustomLogicLayer(784, 4793, train)\n",
      "    (1): CustomLogicLayer(4793, 3594, train)\n",
      "  )\n",
      "  (group): GroupSum(k=10, tau=30)\n",
      ")\n"
     ]
    }
   ],
   "source": [
    "# Initialize a dictionary to store models per digit\n",
    "models_per_digit = {}\n",
    "accuracies_on_test_loader = {}\n",
    "accuracies_on_digit_loader = {}\n",
    "\n",
    "# Loop over all digits from 0 to 9\n",
    "for digit in range(10):\n",
    "    print(f\"Processing digit {digit}\")\n",
    "\n",
    "    # All the necessary (used) connections for the current digit\n",
    "    full_connections_for_digit = process_network_with_propagation(connections, unused_gates_per_digit, digit=digit)\n",
    "\n",
    "    # All the logic gates (nodes) needed in the current digit\n",
    "    logic_gates_per_layer = extract_logic_gates_per_layer(full_connections_for_digit, gate_name_to_index)\n",
    "\n",
    "    # Combined list of gates and connections\n",
    "    layer_specs = create_layer_specs(full_connections_for_digit, logic_gates_per_layer, input_size=784)\n",
    "\n",
    "    # Create the custom model\n",
    "    custom_model = CustomDiffLogic(layer_specs)\n",
    "\n",
    "    # Move model to device\n",
    "    if torch.cuda.is_available():\n",
    "        custom_model = custom_model.to('cuda')\n",
    "\n",
    "    # Store the model in the dictionary\n",
    "    models_per_digit[digit] = custom_model\n",
    "\n",
    "    # Print the reduced model architecture\n",
    "    print(custom_model)"
   ]
  },
  {
   "cell_type": "code",
   "execution_count": 85,
   "id": "21a027a7-aa88-431f-88ce-d4a14bf71b1e",
   "metadata": {
    "tags": []
   },
   "outputs": [
    {
     "ename": "RuntimeError",
     "evalue": "Boolean value of Tensor with more than one value is ambiguous",
     "output_type": "error",
     "traceback": [
      "\u001b[0;31m---------------------------------------------------------------------------\u001b[0m",
      "\u001b[0;31mRuntimeError\u001b[0m                              Traceback (most recent call last)",
      "Cell \u001b[0;32mIn[85], line 42\u001b[0m\n\u001b[1;32m     39\u001b[0m     \u001b[38;5;28;01mreturn\u001b[39;00m accuracy\n\u001b[1;32m     41\u001b[0m \u001b[38;5;66;03m# Example usage:\u001b[39;00m\n\u001b[0;32m---> 42\u001b[0m accuracy \u001b[38;5;241m=\u001b[39m \u001b[43mtest_model_accuracy\u001b[49m\u001b[43m(\u001b[49m\u001b[43mmodels_per_digit\u001b[49m\u001b[43m[\u001b[49m\u001b[38;5;241;43m0\u001b[39;49m\u001b[43m]\u001b[49m\u001b[43m,\u001b[49m\u001b[43m \u001b[49m\u001b[43mtest_loader\u001b[49m\u001b[43m)\u001b[49m\n",
      "Cell \u001b[0;32mIn[85], line 25\u001b[0m, in \u001b[0;36mtest_model_accuracy\u001b[0;34m(model, dataloader, device)\u001b[0m\n\u001b[1;32m     22\u001b[0m inputs, labels \u001b[38;5;241m=\u001b[39m inputs\u001b[38;5;241m.\u001b[39mto(device), labels\u001b[38;5;241m.\u001b[39mto(device)\n\u001b[1;32m     24\u001b[0m \u001b[38;5;66;03m# Forward pass\u001b[39;00m\n\u001b[0;32m---> 25\u001b[0m outputs \u001b[38;5;241m=\u001b[39m \u001b[43mmodel\u001b[49m\u001b[43m(\u001b[49m\u001b[43minputs\u001b[49m\u001b[43m)\u001b[49m\n\u001b[1;32m     26\u001b[0m _, predicted \u001b[38;5;241m=\u001b[39m torch\u001b[38;5;241m.\u001b[39mmax(outputs\u001b[38;5;241m.\u001b[39mdata, \u001b[38;5;241m1\u001b[39m)\n\u001b[1;32m     28\u001b[0m \u001b[38;5;66;03m# Accumulate correct predictions\u001b[39;00m\n",
      "File \u001b[0;32m/blue/woodard/mkunzlermaldaner/project/ExpLogic/explogic_env/lib/python3.9/site-packages/torch/nn/modules/module.py:1051\u001b[0m, in \u001b[0;36mModule._call_impl\u001b[0;34m(self, *input, **kwargs)\u001b[0m\n\u001b[1;32m   1047\u001b[0m \u001b[38;5;66;03m# If we don't have any hooks, we want to skip the rest of the logic in\u001b[39;00m\n\u001b[1;32m   1048\u001b[0m \u001b[38;5;66;03m# this function, and just call forward.\u001b[39;00m\n\u001b[1;32m   1049\u001b[0m \u001b[38;5;28;01mif\u001b[39;00m \u001b[38;5;129;01mnot\u001b[39;00m (\u001b[38;5;28mself\u001b[39m\u001b[38;5;241m.\u001b[39m_backward_hooks \u001b[38;5;129;01mor\u001b[39;00m \u001b[38;5;28mself\u001b[39m\u001b[38;5;241m.\u001b[39m_forward_hooks \u001b[38;5;129;01mor\u001b[39;00m \u001b[38;5;28mself\u001b[39m\u001b[38;5;241m.\u001b[39m_forward_pre_hooks \u001b[38;5;129;01mor\u001b[39;00m _global_backward_hooks\n\u001b[1;32m   1050\u001b[0m         \u001b[38;5;129;01mor\u001b[39;00m _global_forward_hooks \u001b[38;5;129;01mor\u001b[39;00m _global_forward_pre_hooks):\n\u001b[0;32m-> 1051\u001b[0m     \u001b[38;5;28;01mreturn\u001b[39;00m \u001b[43mforward_call\u001b[49m\u001b[43m(\u001b[49m\u001b[38;5;241;43m*\u001b[39;49m\u001b[38;5;28;43minput\u001b[39;49m\u001b[43m,\u001b[49m\u001b[43m \u001b[49m\u001b[38;5;241;43m*\u001b[39;49m\u001b[38;5;241;43m*\u001b[39;49m\u001b[43mkwargs\u001b[49m\u001b[43m)\u001b[49m\n\u001b[1;32m   1052\u001b[0m \u001b[38;5;66;03m# Do not call functions when jit is used\u001b[39;00m\n\u001b[1;32m   1053\u001b[0m full_backward_hooks, non_full_backward_hooks \u001b[38;5;241m=\u001b[39m [], []\n",
      "Cell \u001b[0;32mIn[82], line 39\u001b[0m, in \u001b[0;36mCustomDiffLogic.forward\u001b[0;34m(self, x)\u001b[0m\n\u001b[1;32m     36\u001b[0m     x \u001b[38;5;241m=\u001b[39m x\u001b[38;5;241m.\u001b[39mto(\u001b[38;5;28mself\u001b[39m\u001b[38;5;241m.\u001b[39mdevice)\n\u001b[1;32m     38\u001b[0m x \u001b[38;5;241m=\u001b[39m \u001b[38;5;28mself\u001b[39m\u001b[38;5;241m.\u001b[39mflatten(x)\n\u001b[0;32m---> 39\u001b[0m logits \u001b[38;5;241m=\u001b[39m \u001b[38;5;28;43mself\u001b[39;49m\u001b[38;5;241;43m.\u001b[39;49m\u001b[43mlogic_layers\u001b[49m\u001b[43m(\u001b[49m\u001b[43mx\u001b[49m\u001b[43m)\u001b[49m\n\u001b[1;32m     41\u001b[0m \u001b[38;5;66;03m# Grouping the final logits\u001b[39;00m\n\u001b[1;32m     42\u001b[0m \u001b[38;5;28;01mreturn\u001b[39;00m \u001b[38;5;28mself\u001b[39m\u001b[38;5;241m.\u001b[39mgroup(logits)\n",
      "File \u001b[0;32m/blue/woodard/mkunzlermaldaner/project/ExpLogic/explogic_env/lib/python3.9/site-packages/torch/nn/modules/module.py:1051\u001b[0m, in \u001b[0;36mModule._call_impl\u001b[0;34m(self, *input, **kwargs)\u001b[0m\n\u001b[1;32m   1047\u001b[0m \u001b[38;5;66;03m# If we don't have any hooks, we want to skip the rest of the logic in\u001b[39;00m\n\u001b[1;32m   1048\u001b[0m \u001b[38;5;66;03m# this function, and just call forward.\u001b[39;00m\n\u001b[1;32m   1049\u001b[0m \u001b[38;5;28;01mif\u001b[39;00m \u001b[38;5;129;01mnot\u001b[39;00m (\u001b[38;5;28mself\u001b[39m\u001b[38;5;241m.\u001b[39m_backward_hooks \u001b[38;5;129;01mor\u001b[39;00m \u001b[38;5;28mself\u001b[39m\u001b[38;5;241m.\u001b[39m_forward_hooks \u001b[38;5;129;01mor\u001b[39;00m \u001b[38;5;28mself\u001b[39m\u001b[38;5;241m.\u001b[39m_forward_pre_hooks \u001b[38;5;129;01mor\u001b[39;00m _global_backward_hooks\n\u001b[1;32m   1050\u001b[0m         \u001b[38;5;129;01mor\u001b[39;00m _global_forward_hooks \u001b[38;5;129;01mor\u001b[39;00m _global_forward_pre_hooks):\n\u001b[0;32m-> 1051\u001b[0m     \u001b[38;5;28;01mreturn\u001b[39;00m \u001b[43mforward_call\u001b[49m\u001b[43m(\u001b[49m\u001b[38;5;241;43m*\u001b[39;49m\u001b[38;5;28;43minput\u001b[39;49m\u001b[43m,\u001b[49m\u001b[43m \u001b[49m\u001b[38;5;241;43m*\u001b[39;49m\u001b[38;5;241;43m*\u001b[39;49m\u001b[43mkwargs\u001b[49m\u001b[43m)\u001b[49m\n\u001b[1;32m   1052\u001b[0m \u001b[38;5;66;03m# Do not call functions when jit is used\u001b[39;00m\n\u001b[1;32m   1053\u001b[0m full_backward_hooks, non_full_backward_hooks \u001b[38;5;241m=\u001b[39m [], []\n",
      "File \u001b[0;32m/blue/woodard/mkunzlermaldaner/project/ExpLogic/explogic_env/lib/python3.9/site-packages/torch/nn/modules/container.py:139\u001b[0m, in \u001b[0;36mSequential.forward\u001b[0;34m(self, input)\u001b[0m\n\u001b[1;32m    137\u001b[0m \u001b[38;5;28;01mdef\u001b[39;00m \u001b[38;5;21mforward\u001b[39m(\u001b[38;5;28mself\u001b[39m, \u001b[38;5;28minput\u001b[39m):\n\u001b[1;32m    138\u001b[0m     \u001b[38;5;28;01mfor\u001b[39;00m module \u001b[38;5;129;01min\u001b[39;00m \u001b[38;5;28mself\u001b[39m:\n\u001b[0;32m--> 139\u001b[0m         \u001b[38;5;28minput\u001b[39m \u001b[38;5;241m=\u001b[39m \u001b[43mmodule\u001b[49m\u001b[43m(\u001b[49m\u001b[38;5;28;43minput\u001b[39;49m\u001b[43m)\u001b[49m\n\u001b[1;32m    140\u001b[0m     \u001b[38;5;28;01mreturn\u001b[39;00m \u001b[38;5;28minput\u001b[39m\n",
      "File \u001b[0;32m/blue/woodard/mkunzlermaldaner/project/ExpLogic/explogic_env/lib/python3.9/site-packages/torch/nn/modules/module.py:1051\u001b[0m, in \u001b[0;36mModule._call_impl\u001b[0;34m(self, *input, **kwargs)\u001b[0m\n\u001b[1;32m   1047\u001b[0m \u001b[38;5;66;03m# If we don't have any hooks, we want to skip the rest of the logic in\u001b[39;00m\n\u001b[1;32m   1048\u001b[0m \u001b[38;5;66;03m# this function, and just call forward.\u001b[39;00m\n\u001b[1;32m   1049\u001b[0m \u001b[38;5;28;01mif\u001b[39;00m \u001b[38;5;129;01mnot\u001b[39;00m (\u001b[38;5;28mself\u001b[39m\u001b[38;5;241m.\u001b[39m_backward_hooks \u001b[38;5;129;01mor\u001b[39;00m \u001b[38;5;28mself\u001b[39m\u001b[38;5;241m.\u001b[39m_forward_hooks \u001b[38;5;129;01mor\u001b[39;00m \u001b[38;5;28mself\u001b[39m\u001b[38;5;241m.\u001b[39m_forward_pre_hooks \u001b[38;5;129;01mor\u001b[39;00m _global_backward_hooks\n\u001b[1;32m   1050\u001b[0m         \u001b[38;5;129;01mor\u001b[39;00m _global_forward_hooks \u001b[38;5;129;01mor\u001b[39;00m _global_forward_pre_hooks):\n\u001b[0;32m-> 1051\u001b[0m     \u001b[38;5;28;01mreturn\u001b[39;00m \u001b[43mforward_call\u001b[49m\u001b[43m(\u001b[49m\u001b[38;5;241;43m*\u001b[39;49m\u001b[38;5;28;43minput\u001b[39;49m\u001b[43m,\u001b[49m\u001b[43m \u001b[49m\u001b[38;5;241;43m*\u001b[39;49m\u001b[38;5;241;43m*\u001b[39;49m\u001b[43mkwargs\u001b[49m\u001b[43m)\u001b[49m\n\u001b[1;32m   1052\u001b[0m \u001b[38;5;66;03m# Do not call functions when jit is used\u001b[39;00m\n\u001b[1;32m   1053\u001b[0m full_backward_hooks, non_full_backward_hooks \u001b[38;5;241m=\u001b[39m [], []\n",
      "Cell \u001b[0;32mIn[15], line 18\u001b[0m, in \u001b[0;36mCustomLogicLayer.forward\u001b[0;34m(self, x)\u001b[0m\n\u001b[1;32m     17\u001b[0m \u001b[38;5;28;01mdef\u001b[39;00m \u001b[38;5;21mforward\u001b[39m(\u001b[38;5;28mself\u001b[39m, x):\n\u001b[0;32m---> 18\u001b[0m     \u001b[38;5;28;01mreturn\u001b[39;00m \u001b[38;5;28;43mself\u001b[39;49m\u001b[38;5;241;43m.\u001b[39;49m\u001b[43mforward_python\u001b[49m\u001b[43m(\u001b[49m\u001b[43mx\u001b[49m\u001b[43m)\u001b[49m\n",
      "Cell \u001b[0;32mIn[15], line 29\u001b[0m, in \u001b[0;36mCustomLogicLayer.forward_python\u001b[0;34m(self, x)\u001b[0m\n\u001b[1;32m     26\u001b[0m gate_indices \u001b[38;5;241m=\u001b[39m \u001b[38;5;28mself\u001b[39m\u001b[38;5;241m.\u001b[39mlogic_gates  \u001b[38;5;66;03m# Shape: (out_dim,)\u001b[39;00m\n\u001b[1;32m     28\u001b[0m \u001b[38;5;66;03m# Compute the outputs using bin_op and the known gate indices\u001b[39;00m\n\u001b[0;32m---> 29\u001b[0m outputs \u001b[38;5;241m=\u001b[39m \u001b[43mbin_op\u001b[49m\u001b[43m(\u001b[49m\u001b[43ma\u001b[49m\u001b[43m,\u001b[49m\u001b[43m \u001b[49m\u001b[43mb\u001b[49m\u001b[43m,\u001b[49m\u001b[43m \u001b[49m\u001b[43mgate_indices\u001b[49m\u001b[43m)\u001b[49m\n\u001b[1;32m     30\u001b[0m \u001b[38;5;28;01mreturn\u001b[39;00m outputs\n",
      "Cell \u001b[0;32mIn[76], line 10\u001b[0m, in \u001b[0;36mbin_op\u001b[0;34m(a, b, i)\u001b[0m\n\u001b[1;32m      7\u001b[0m \u001b[38;5;28;01mif\u001b[39;00m a\u001b[38;5;241m.\u001b[39mshape[\u001b[38;5;241m0\u001b[39m] \u001b[38;5;241m>\u001b[39m \u001b[38;5;241m1\u001b[39m:\n\u001b[1;32m      8\u001b[0m     \u001b[38;5;28;01massert\u001b[39;00m a[\u001b[38;5;241m1\u001b[39m]\u001b[38;5;241m.\u001b[39mshape \u001b[38;5;241m==\u001b[39m b[\u001b[38;5;241m1\u001b[39m]\u001b[38;5;241m.\u001b[39mshape, (a[\u001b[38;5;241m1\u001b[39m]\u001b[38;5;241m.\u001b[39mshape, b[\u001b[38;5;241m1\u001b[39m]\u001b[38;5;241m.\u001b[39mshape)\n\u001b[0;32m---> 10\u001b[0m \u001b[38;5;28;01mif\u001b[39;00m i \u001b[38;5;241m==\u001b[39m \u001b[38;5;241m0\u001b[39m:\n\u001b[1;32m     11\u001b[0m     \u001b[38;5;28;01mreturn\u001b[39;00m torch\u001b[38;5;241m.\u001b[39mzeros_like(a)\n\u001b[1;32m     12\u001b[0m \u001b[38;5;28;01melif\u001b[39;00m i \u001b[38;5;241m==\u001b[39m \u001b[38;5;241m1\u001b[39m:\n",
      "\u001b[0;31mRuntimeError\u001b[0m: Boolean value of Tensor with more than one value is ambiguous"
     ]
    }
   ],
   "source": [
    "def test_model_accuracy(model, dataloader, device='cuda'):\n",
    "    \"\"\"\n",
    "    Tests the accuracy of a model on a given dataloader.\n",
    "    \n",
    "    Args:\n",
    "        model (nn.Module): The model to be tested.\n",
    "        dataloader (DataLoader): DataLoader containing test data.\n",
    "        device (str): Device to perform computations on ('cuda' or 'cpu').\n",
    "    \n",
    "    Returns:\n",
    "        float: Accuracy of the model on the test data.\n",
    "    \"\"\"\n",
    "    model.eval()  # Set the model to evaluation mode\n",
    "    correct = 0\n",
    "    total = 0\n",
    "    \n",
    "    all_preds = []\n",
    "    all_labels = []\n",
    "\n",
    "    with torch.no_grad():  # Disable gradient computation\n",
    "        for inputs, labels in dataloader:\n",
    "            inputs, labels = inputs.to(device), labels.to(device)\n",
    "            \n",
    "            # Forward pass\n",
    "            outputs = model(inputs)\n",
    "            _, predicted = torch.max(outputs.data, 1)\n",
    "            \n",
    "            # Accumulate correct predictions\n",
    "            correct += (predicted == labels).sum().item()\n",
    "            total += labels.size(0)\n",
    "\n",
    "            # Collect predictions and labels for detailed metrics\n",
    "            all_preds.extend(predicted.cpu().numpy())\n",
    "            all_labels.extend(labels.cpu().numpy())\n",
    "\n",
    "    # Compute overall accuracy\n",
    "    accuracy = accuracy_score(all_labels, all_preds)\n",
    "    print(f\"Accuracy: {accuracy * 100:.2f}%\")\n",
    "    return accuracy\n",
    "\n",
    "# Example usage:\n",
    "accuracy = test_model_accuracy(models_per_digit[0], test_loader)"
   ]
  },
  {
   "cell_type": "code",
   "execution_count": null,
   "id": "494eb084-e0a1-4761-b7e4-92f9d775f353",
   "metadata": {},
   "outputs": [],
   "source": [
    "\n",
    "# Evaluate the model\n",
    "test_loader_accuracy = custom_model.get_accuracy(test_loader)\n",
    "print(f\"Accuracy on TestLoader for reduced model of digit {digit}: {test_loader_accuracy}\")\n",
    "accuracies_on_test_loader[digit] = test_loader_accuracy\n",
    "\n",
    "digit_loader_accuracy = custom_model.get_accuracy(digit_loaders[digit])\n",
    "print(f\"Accuracy on DigitLoader {digit} for reduced model of digit {digit}: {digit_loader_accuracy}\")\n",
    "accuracies_on_digit_loader[digit] = digit_loader_accuracy"
   ]
  },
  {
   "cell_type": "markdown",
   "id": "746aacdc-aa52-4a9c-838e-275e822aae16",
   "metadata": {},
   "source": [
    "-----"
   ]
  },
  {
   "cell_type": "markdown",
   "id": "40bd379a-b014-4568-99d1-56cba2f083f1",
   "metadata": {},
   "source": [
    "#### **Creating MiniNets**"
   ]
  },
  {
   "cell_type": "markdown",
   "id": "93aa30a1-4971-4eea-8fd2-ae941949356f",
   "metadata": {},
   "source": [
    "1. Prune the graph by a specific SF threshold"
   ]
  },
  {
   "cell_type": "code",
   "execution_count": 104,
   "id": "4348adfa-6c73-4655-8cda-127ae187584f",
   "metadata": {
    "tags": []
   },
   "outputs": [],
   "source": [
    "def prune_graph_by_sf(logic_graph, sf_threshold=0.1, keep_high_low=False):\n",
    "    \"\"\"\n",
    "    Returns a subgraph containing only nodes whose SF >= sf_threshold.\n",
    "    Optionally keep 'HIGH'/'LOW' nodes always.\n",
    "\n",
    "    Args:\n",
    "        logic_graph (LogicGraph): The LogicGraph instance that already called compute_sf(...) \n",
    "                                  so each node has an 'sf' attribute.\n",
    "        sf_threshold (float): The minimum SF required to keep the node.\n",
    "        keep_high_low (bool): If True, do not remove 'HIGH'/'LOW' nodes.\n",
    "\n",
    "    Returns:\n",
    "        nx.DiGraph: pruned (sub)graph\n",
    "    \"\"\"\n",
    "    # Copy original graph to avoid modifying in-place\n",
    "    pruned = logic_graph.g.copy()\n",
    "\n",
    "    for node in list(pruned.nodes()):\n",
    "        # If user wants to keep 'HIGH'/'LOW', skip them\n",
    "        if keep_high_low and node in (\"HIGH\", \"LOW\"):\n",
    "            continue\n",
    "\n",
    "        # Get the SF for this node\n",
    "        node_sf = pruned.nodes[node].get(\"sf\", 0.0)\n",
    "        if node_sf < sf_threshold:\n",
    "            pruned.remove_node(node)\n",
    "\n",
    "    return pruned"
   ]
  },
  {
   "cell_type": "code",
   "execution_count": 108,
   "id": "afbce318-2b6a-44b5-8b5e-a8542b2ebbe4",
   "metadata": {
    "collapsed": true,
    "jupyter": {
     "outputs_hidden": true
    },
    "tags": []
   },
   "outputs": [
    {
     "name": "stdout",
     "output_type": "stream",
     "text": [
      "Nodes in the graph:\n",
      "  ('L1_N166', {'layer': 1, 'counts': 0, 'gate': 'not_b', 'sf': 1.0, 'sp': 0})\n",
      "  ('L1_N418', {'layer': 1, 'counts': 0, 'gate': 'implied_by', 'sf': 1.0, 'sp': 0})\n",
      "  ('L1_N504', {'layer': 1, 'counts': 0, 'gate': 'one', 'sf': 1.0, 'sp': 0})\n",
      "  ('L1_N658', {'layer': 1, 'counts': 0, 'gate': 'one', 'sf': 1.0, 'sp': 0})\n",
      "  ('L1_N815', {'layer': 1, 'counts': 0, 'gate': 'implied_by', 'sf': 1.0, 'sp': 0})\n",
      "  ('L1_N940', {'layer': 1, 'counts': 0, 'gate': 'one', 'sf': 1.0, 'sp': 0})\n",
      "  ('L1_N1048', {'layer': 1, 'counts': 0, 'gate': 'implies', 'sf': 1.0, 'sp': 0})\n",
      "  ('L1_N1081', {'layer': 1, 'counts': 0, 'gate': 'one', 'sf': 1.0, 'sp': 0})\n",
      "  ('L1_N1112', {'layer': 1, 'counts': 0, 'gate': 'one', 'sf': 1.0, 'sp': 0})\n",
      "  ('L1_N1295', {'layer': 1, 'counts': 0, 'gate': 'not_a', 'sf': 1.0, 'sp': 0})\n",
      "  ('L1_N1354', {'layer': 1, 'counts': 0, 'gate': 'one', 'sf': 1.0, 'sp': 0})\n",
      "  ('L1_N1530', {'layer': 1, 'counts': 0, 'gate': 'implied_by', 'sf': 1.0, 'sp': 0})\n",
      "  ('L1_N1681', {'layer': 1, 'counts': 0, 'gate': 'not_a', 'sf': 1.0, 'sp': 0})\n",
      "  ('L1_N1821', {'layer': 1, 'counts': 0, 'gate': 'not_a', 'sf': 1.0, 'sp': 0})\n",
      "  ('L1_N1913', {'layer': 1, 'counts': 0, 'gate': 'not_and', 'sf': 1.0, 'sp': 0})\n",
      "  ('L1_N1920', {'layer': 1, 'counts': 0, 'gate': 'one', 'sf': 1.0, 'sp': 0})\n",
      "  ('L1_N1950', {'layer': 1, 'counts': 0, 'gate': 'one', 'sf': 1.0, 'sp': 0})\n",
      "  ('L1_N1991', {'layer': 1, 'counts': 0, 'gate': 'implied_by', 'sf': 1.0, 'sp': 0})\n",
      "  ('L1_N2147', {'layer': 1, 'counts': 0, 'gate': 'one', 'sf': 1.0, 'sp': 0})\n",
      "  ('L1_N2263', {'layer': 1, 'counts': 0, 'gate': 'one', 'sf': 1.0, 'sp': 0})\n",
      "  ('L1_N2485', {'layer': 1, 'counts': 0, 'gate': 'one', 'sf': 1.0, 'sp': 0})\n",
      "  ('L1_N2571', {'layer': 1, 'counts': 0, 'gate': 'one', 'sf': 1.0, 'sp': 0})\n",
      "  ('L1_N2578', {'layer': 1, 'counts': 0, 'gate': 'not_b', 'sf': 1.0, 'sp': 0})\n",
      "  ('L1_N2645', {'layer': 1, 'counts': 0, 'gate': 'one', 'sf': 1.0, 'sp': 0})\n",
      "  ('L1_N2680', {'layer': 1, 'counts': 0, 'gate': 'implies', 'sf': 1.0, 'sp': 0})\n",
      "  ('L1_N2715', {'layer': 1, 'counts': 0, 'gate': 'not_and', 'sf': 1.0, 'sp': 0})\n",
      "  ('L1_N2732', {'layer': 1, 'counts': 0, 'gate': 'implied_by', 'sf': 1.0, 'sp': 0})\n",
      "  ('L1_N3041', {'layer': 1, 'counts': 0, 'gate': 'not_a', 'sf': 1.0, 'sp': 0})\n",
      "  ('L1_N3053', {'layer': 1, 'counts': 0, 'gate': 'implied_by', 'sf': 1.0, 'sp': 0})\n",
      "  ('L1_N3054', {'layer': 1, 'counts': 0, 'gate': 'one', 'sf': 1.0, 'sp': 0})\n",
      "  ('L1_N3063', {'layer': 1, 'counts': 0, 'gate': 'not_and', 'sf': 1.0, 'sp': 0})\n",
      "  ('L1_N3221', {'layer': 1, 'counts': 0, 'gate': 'not_b', 'sf': 1.0, 'sp': 0})\n",
      "  ('L1_N3661', {'layer': 1, 'counts': 0, 'gate': 'one', 'sf': 1.0, 'sp': 0})\n",
      "  ('L1_N3730', {'layer': 1, 'counts': 0, 'gate': 'one', 'sf': 1.0, 'sp': 0})\n",
      "  ('L1_N3824', {'layer': 1, 'counts': 0, 'gate': 'one', 'sf': 1.0, 'sp': 0})\n",
      "  ('L1_N4069', {'layer': 1, 'counts': 0, 'gate': 'one', 'sf': 1.0, 'sp': 0})\n",
      "  ('L1_N4131', {'layer': 1, 'counts': 0, 'gate': 'implies', 'sf': 1.0, 'sp': 0})\n",
      "  ('L1_N4297', {'layer': 1, 'counts': 0, 'gate': 'not_a', 'sf': 1.0, 'sp': 0})\n",
      "  ('L1_N4413', {'layer': 1, 'counts': 0, 'gate': 'implies', 'sf': 1.0, 'sp': 0})\n",
      "  ('L1_N4466', {'layer': 1, 'counts': 0, 'gate': 'one', 'sf': 1.0, 'sp': 0})\n",
      "  ('L1_N4498', {'layer': 1, 'counts': 0, 'gate': 'one', 'sf': 1.0, 'sp': 0})\n",
      "  ('L1_N4672', {'layer': 1, 'counts': 0, 'gate': 'not_and', 'sf': 1.0, 'sp': 0})\n",
      "  ('L2_N162', {'layer': 2, 'counts': 0, 'gate': 'implied_by', 'sf': 1.0, 'sp': 0})\n",
      "  ('L2_N629', {'layer': 2, 'counts': 0, 'gate': 'a', 'sf': 1.0, 'sp': 0})\n",
      "  ('L2_N633', {'layer': 2, 'counts': 0, 'gate': 'implies', 'sf': 1.0, 'sp': 0})\n",
      "  ('L2_N1215', {'layer': 2, 'counts': 0, 'gate': 'not_and', 'sf': 1.0, 'sp': 0})\n",
      "  ('L2_N1292', {'layer': 2, 'counts': 0, 'gate': 'one', 'sf': 1.0, 'sp': 0})\n",
      "  ('L2_N1332', {'layer': 2, 'counts': 0, 'gate': 'one', 'sf': 1.0, 'sp': 0})\n",
      "  ('L2_N3090', {'layer': 2, 'counts': 0, 'gate': 'one', 'sf': 1.0, 'sp': 0})\n",
      "  ('L2_N3180', {'layer': 2, 'counts': 0, 'gate': 'one', 'sf': 1.0, 'sp': 0})\n",
      "  ('L2_N3339', {'layer': 2, 'counts': 0, 'gate': 'implies', 'sf': 1.0, 'sp': 0})\n",
      "  ('L2_N3433', {'layer': 2, 'counts': 0, 'gate': 'or', 'sf': 1.0, 'sp': 0})\n",
      "  ('L2_N3480', {'layer': 2, 'counts': 0, 'gate': 'one', 'sf': 1.0, 'sp': 0})\n",
      "  ('L2_N4045', {'layer': 2, 'counts': 0, 'gate': 'implies', 'sf': 1.0, 'sp': 0})\n",
      "  ('L2_N4072', {'layer': 2, 'counts': 0, 'gate': 'not_a', 'sf': 1.0, 'sp': 0})\n",
      "  ('L2_N4080', {'layer': 2, 'counts': 0, 'gate': 'or', 'sf': 1.0, 'sp': 0})\n",
      "  ('L2_N4108', {'layer': 2, 'counts': 0, 'gate': 'implies', 'sf': 1.0, 'sp': 0})\n",
      "  ('L2_N4361', {'layer': 2, 'counts': 0, 'gate': 'one', 'sf': 1.0, 'sp': 0})\n",
      "  ('L2_N4372', {'layer': 2, 'counts': 0, 'gate': 'one', 'sf': 1.0, 'sp': 0})\n",
      "  ('L2_N4377', {'layer': 2, 'counts': 0, 'gate': 'or', 'sf': 1.0, 'sp': 0})\n",
      "  ('L2_N4482', {'layer': 2, 'counts': 0, 'gate': 'one', 'sf': 1.0, 'sp': 0})\n",
      "  ('L2_N4593', {'layer': 2, 'counts': 0, 'gate': 'one', 'sf': 1.0, 'sp': 0})\n",
      "\n",
      "Edges in the graph:\n",
      "  ('L1_N1913', 'L2_N629', {'ab': 'a'})\n",
      "  ('L1_N1950', 'L2_N4377', {'ab': 'a'})\n",
      "  ('L1_N3053', 'L2_N4080', {'ab': 'a'})\n"
     ]
    }
   ],
   "source": [
    "# helper function to print out the graph\n",
    "def print_graph_connections(graph):\n",
    "    \"\"\"\n",
    "    Prints the connections (edges) in the graph along with optional attributes.\n",
    "\n",
    "    Args:\n",
    "        graph (nx.DiGraph): The graph to print.\n",
    "    \"\"\"\n",
    "    print(\"Nodes in the graph:\")\n",
    "    for node in graph.nodes(data=True):  # `data=True` includes node attributes\n",
    "        print(f\"  {node}\")\n",
    "\n",
    "    print(\"\\nEdges in the graph:\")\n",
    "    for edge in graph.edges(data=True):  # `data=True` includes edge attributes\n",
    "        print(f\"  {edge}\")\n",
    "\n",
    "# example usage:\n",
    "pruned_graph = prune_graph_by_sf(graphs[0], sf_threshold=0.9999, keep_high_low=False)\n",
    "print_graph_connections(pruned_graph)"
   ]
  },
  {
   "cell_type": "markdown",
   "id": "c707eb9e-d284-4363-b596-ed4436d4ce42",
   "metadata": {},
   "source": [
    "testing"
   ]
  },
  {
   "cell_type": "code",
   "execution_count": 126,
   "id": "456a5f67-11d5-4cb8-9f77-c010c74e1ad5",
   "metadata": {
    "tags": []
   },
   "outputs": [],
   "source": [
    "import networkx as nx\n",
    "def reindex_subgraph_nodes(pruned_graph):\n",
    "    \"\"\"\n",
    "    Re-map each layer's node IDs to consecutive indices [0..k-1].\n",
    "    Returns a new graph (or mapping) with the updated node IDs plus a dict\n",
    "    that maps old IDs -> new IDs.\n",
    "    \"\"\"\n",
    "    # Example approach:\n",
    "    # 1. Separate nodes by layer\n",
    "    nodes_by_layer = {}\n",
    "    for node in pruned_graph.nodes():\n",
    "        if node in (\"HIGH\",\"LOW\"):\n",
    "            continue\n",
    "        layer = pruned_graph.nodes[node][\"layer\"]  # assume your graph stored 'layer' attribute\n",
    "        nodes_by_layer.setdefault(layer, []).append(node)\n",
    "    \n",
    "    # 2. Sort each layer's nodes and build re-mapping\n",
    "    mapping = {}\n",
    "    for layer, node_list in nodes_by_layer.items():\n",
    "        node_list_sorted = sorted(node_list)  # or sort by their numeric ID\n",
    "        for new_idx, n in enumerate(node_list_sorted):\n",
    "            mapping[n] = f\"L{layer}_IDX{new_idx}\"  # or just store the integer new_idx\n",
    "            # if you prefer storing an integer: mapping[n] = (layer, new_idx)\n",
    "    \n",
    "    # 3. Create a copy of the graph and rename\n",
    "    new_g = nx.relabel_nodes(pruned_graph, mapping, copy=True)\n",
    "    return new_g, mapping\n",
    "\n",
    "new_g, mapping = reindex_subgraph_nodes(pruned_graph)"
   ]
  },
  {
   "cell_type": "markdown",
   "id": "045f1c40-5588-4d09-9cb8-c7031e68e9a9",
   "metadata": {},
   "source": [
    "2. Extract the connections and gates from this subgraph"
   ]
  },
  {
   "cell_type": "code",
   "execution_count": 111,
   "id": "20fe5a17-28f5-482c-9d9d-8bcbbe2dd532",
   "metadata": {
    "tags": []
   },
   "outputs": [],
   "source": [
    "def extract_connections_and_gates_from_subgraph(pruned_graph):\n",
    "    \"\"\"\n",
    "    Creates a list of (inputA, inputB, outputNode) plus a dict of node->gate from the pruned graph.\n",
    "    \n",
    "    Args:\n",
    "        pruned_graph (nx.DiGraph): The pruned networkx graph.\n",
    "    \n",
    "    Returns:\n",
    "        connections (list of (inputA, inputB, outputNode))\n",
    "        gates (dict) mapping each node to its learned gate (str).\n",
    "    \"\"\"\n",
    "    connections = []\n",
    "    gates = {}\n",
    "\n",
    "    for node in pruned_graph.nodes():\n",
    "        # Skip 'HIGH','LOW' if they're present\n",
    "        if node in (\"HIGH\", \"LOW\"):\n",
    "            continue\n",
    "\n",
    "        # Gate name\n",
    "        learned_gate = pruned_graph.nodes[node][\"gate\"]\n",
    "        gates[node] = learned_gate\n",
    "\n",
    "        # The node’s predecessors\n",
    "        preds = list(pruned_graph.predecessors(node))\n",
    "\n",
    "        # If 2 predecessors => typical binary gate\n",
    "        if len(preds) == 2:\n",
    "            connections.append((preds[0], preds[1], node))\n",
    "        # If 1 predecessor => unary gate (like \"not_a\",\"not_b\", or \"a\"/\"b\" ignoring the second input)\n",
    "        elif len(preds) == 1:\n",
    "            connections.append((preds[0], None, node))\n",
    "        # If 0 => either 'HIGH','LOW', or something unusual\n",
    "\n",
    "    return connections, gates\n",
    "\n",
    "connections, gates = extract_connections_and_gates_from_subgraph(pruned_graph)"
   ]
  },
  {
   "cell_type": "code",
   "execution_count": 118,
   "id": "09f52601-04f0-442a-b24b-da618fb1050e",
   "metadata": {
    "tags": []
   },
   "outputs": [
    {
     "data": {
      "text/plain": [
       "([('L1_N1913', None, 'L2_N629'),\n",
       "  ('L1_N3053', None, 'L2_N4080'),\n",
       "  ('L1_N1950', None, 'L2_N4377')],\n",
       " {'L2_N629': 'a', 'L2_N4080': 'a', 'L2_N4377': 'a'})"
      ]
     },
     "execution_count": 118,
     "metadata": {},
     "output_type": "execute_result"
    }
   ],
   "source": [
    "def validate_and_fix_binary_gates(connections, gates):\n",
    "    \"\"\"\n",
    "    Ensures that binary gates (AND, OR, XOR, IMPLIES, etc.)\n",
    "    have exactly 2 inputs. If they only have 1 input, either drop them\n",
    "    or convert them to a unary gate (like 'a').\n",
    "    If the gate is unary (NOT_A, etc.), ensure it has exactly 1 input.\n",
    "    Returns new_connections, new_gates with invalid gates removed or fixed.\n",
    "    \"\"\"\n",
    "    # The set of definitely-binary gates in your list:\n",
    "    BINARY_GATES = {\"and\",\"not_implies\",\"not_implied_by\",\"xor\",\"or\",\n",
    "                    \"implies\",\"implied_by\",\"not_and\",\"not_or\",\"not_xor\"}\n",
    "    \n",
    "    # The set of definitely-unary gates in your list:\n",
    "    UNARY_GATES = {\"a\",\"b\",\"not_a\",\"not_b\"}\n",
    "    \n",
    "    new_connections = []\n",
    "    new_gates = {}\n",
    "    \n",
    "    for (inpA, inpB, node) in connections:\n",
    "        gate = gates[node]\n",
    "        \n",
    "        # Count how many real (non-None) inputs we have\n",
    "        inputs_count = (inpA is not None) + (inpB is not None)\n",
    "        \n",
    "        if gate in BINARY_GATES:\n",
    "            if inputs_count < 2:\n",
    "                # Option A: drop the node\n",
    "                # continue  # skip adding this node entirely\n",
    "                \n",
    "                # OR Option B: degrade the node to gate 'a' if it had exactly 1 input\n",
    "                if inputs_count == 1:\n",
    "                    new_gate = \"a\"  # or \"b\", your choice\n",
    "                    # keep whichever input is not None\n",
    "                    if inpA is None:\n",
    "                        new_connections.append((inpB, None, node))\n",
    "                    else:\n",
    "                        new_connections.append((inpA, None, node))\n",
    "                    new_gates[node] = new_gate\n",
    "                else:\n",
    "                    # 0 inputs? skip\n",
    "                    continue\n",
    "            else:\n",
    "                # 2 inputs => good\n",
    "                new_connections.append((inpA, inpB, node))\n",
    "                new_gates[node] = gate\n",
    "                \n",
    "        elif gate in UNARY_GATES:\n",
    "            if inputs_count == 0:\n",
    "                # if gate is 'a' but no inputs => skip\n",
    "                continue\n",
    "            # If it has 2 inputs by mistake, you must choose how to handle that:\n",
    "            if inputs_count == 2:\n",
    "                # just keep the first input, or skip:\n",
    "                new_connections.append((inpA, None, node))\n",
    "                new_gates[node] = gate\n",
    "            else:\n",
    "                # exactly 1 input => good\n",
    "                new_connections.append((inpA, inpB, node))\n",
    "                new_gates[node] = gate\n",
    "        else:\n",
    "            # Could be gates \"zero\" or \"one\" which actually need 0 inputs\n",
    "            if gate in {\"zero\",\"one\"}:\n",
    "                # 0 inputs is ideal for them. If there's at least 1 input, we might skip them or ignore.\n",
    "                if inputs_count == 0:\n",
    "                    new_connections.append((None, None, node))\n",
    "                    new_gates[node] = gate\n",
    "                # else skip or handle\n",
    "            else:\n",
    "                # If unknown gate, skip or keep\n",
    "                new_connections.append((inpA, inpB, node))\n",
    "                new_gates[node] = gate\n",
    "    \n",
    "    return new_connections, new_gates\n",
    "\n",
    "validate_and_fix_binary_gates(connections, gates)"
   ]
  },
  {
   "cell_type": "markdown",
   "id": "ccbbb973-0d5d-4ea9-b547-194c8a0def7e",
   "metadata": {},
   "source": [
    "3. Convert the Connections into layer_specs"
   ]
  },
  {
   "cell_type": "code",
   "execution_count": 114,
   "id": "5b1b431a-3fa5-4b74-bbe1-5571bd4257c0",
   "metadata": {
    "tags": []
   },
   "outputs": [
    {
     "data": {
      "text/plain": [
       "{'zero': 0,\n",
       " 'and': 1,\n",
       " 'not_implies': 2,\n",
       " 'a': 3,\n",
       " 'not_implied_by': 4,\n",
       " 'b': 5,\n",
       " 'xor': 6,\n",
       " 'or': 7,\n",
       " 'not_or': 8,\n",
       " 'not_xor': 9,\n",
       " 'not_b': 10,\n",
       " 'implied_by': 11,\n",
       " 'not_a': 12,\n",
       " 'implies': 13,\n",
       " 'not_and': 14,\n",
       " 'one': 15}"
      ]
     },
     "execution_count": 114,
     "metadata": {},
     "output_type": "execute_result"
    }
   ],
   "source": [
    "# map gate names to indices\n",
    "ALL_OPERATIONS = [\n",
    "    \"zero\", \"and\", \"not_implies\", \"a\", \"not_implied_by\", \"b\", \"xor\", \"or\", \n",
    "    \"not_or\", \"not_xor\", \"not_b\", \"implied_by\", \"not_a\", \"implies\", \"not_and\", \"one\"\n",
    "]\n",
    "\n",
    "gate_name_to_index = {name: idx for idx, name in enumerate(ALL_OPERATIONS)}\n",
    "gate_name_to_index"
   ]
  },
  {
   "cell_type": "code",
   "execution_count": 115,
   "id": "6b7bd08c-4281-459a-b7d5-aab112b1aa1d",
   "metadata": {
    "tags": []
   },
   "outputs": [],
   "source": [
    "# helper function to convert strings into integers and speed up processing\n",
    "def parse_node_id(node_id):\n",
    "    \"\"\"\n",
    "    Given a string like 'L2_N123', returns (layer=2, node_index=123).\n",
    "    If node_id is None, return None.\n",
    "\n",
    "    Example:\n",
    "        parse_node_id('L1_N4690') -> (1, 4690)\n",
    "        parse_node_id(None) -> None\n",
    "    \"\"\"\n",
    "    if node_id is None:\n",
    "        return None\n",
    "\n",
    "    if \"_N\" not in node_id:\n",
    "        print(f\"parse_node_id -> Node WITHOUT '_N': {node_id}\")\n",
    "    layer_part, idx_part = node_id.split('_N')\n",
    "    \n",
    "    layer_part, idx_part = node_id.split('_N')  # e.g. ['L1', '4690']\n",
    "    layer = int(layer_part.replace('L',''))     # e.g. 'L1' -> 1\n",
    "    node_idx = int(idx_part)                    # '4690' -> 4690\n",
    "    return (layer, node_idx)\n",
    "\n",
    "# helper function to group connections by the output layer\n",
    "def group_connections_by_output_layer(connections, gates):\n",
    "    \"\"\"\n",
    "    Given a list of (inA, inB, outNode) plus a dict of gates,\n",
    "    group them by the *outputNode*'s layer.\n",
    "\n",
    "    Returns a dict: { layer_number -> [ { 'inA': ..., 'inB': ..., 'out_idx': ..., 'gate': ...}, ... ] }\n",
    "    \"\"\"\n",
    "\n",
    "    grouped = defaultdict(list)\n",
    "\n",
    "    for (nodeA, nodeB, outNode) in connections:\n",
    "        out_layer, out_idx = parse_node_id(outNode)\n",
    "        # parse inputA, inputB as well\n",
    "        A_layer_idx = parse_node_id(nodeA)\n",
    "        B_layer_idx = parse_node_id(nodeB)\n",
    "\n",
    "        # each entry is a small dict describing this connection\n",
    "        gate_name = gates[outNode]  # e.g. \"not_or\", \"xor\", etc.\n",
    "        grouped[out_layer].append({\n",
    "            'inA': A_layer_idx,     # (layer, idx) or None\n",
    "            'inB': B_layer_idx,     # (layer, idx) or None\n",
    "            'out_idx': out_idx,     # e.g. 0, 4, 5, etc.\n",
    "            'gate_name': gate_name  # string\n",
    "        })\n",
    "\n",
    "    return dict(grouped)  # convert defaultdict -> normal dict"
   ]
  },
  {
   "cell_type": "code",
   "execution_count": 116,
   "id": "fe672c21-2ee9-4959-b33d-fb75c0986d73",
   "metadata": {
    "tags": []
   },
   "outputs": [
    {
     "data": {
      "text/plain": [
       "[{'input_size': 784,\n",
       "  'output_size': 3,\n",
       "  'connections': tensor([[1913,   -1],\n",
       "          [3053,   -1],\n",
       "          [1950,   -1]]),\n",
       "  'logic_gates': [3, 7, 7]}]"
      ]
     },
     "execution_count": 116,
     "metadata": {},
     "output_type": "execute_result"
    }
   ],
   "source": [
    "def create_layer_specs_fast(connections, gates, gate_name_to_index, input_size = 784):\n",
    "    \"\"\"\n",
    "    Builds layer_specs from (inA, inB, outNode) by grouping them by outNode's layer.\n",
    "\n",
    "    Args:\n",
    "      - connections: list of (nodeA, nodeB, outNode) like:\n",
    "          ('L1_N4690', None, 'L2_N0'), ...\n",
    "      - gates: dict, e.g. { 'L2_N0': 'xor', ... }\n",
    "      - input_size: e.g. 784 for MNIST\n",
    "      - gate_name_to_index: maps gate string to int\n",
    "\n",
    "    Returns: list of layer_specs, each a dict:\n",
    "      {\n",
    "        \"input_size\": <int>,\n",
    "        \"output_size\": <int>,\n",
    "        \"connections\": torch.Tensor of shape [output_size, 2] (with -1 for missing input),\n",
    "        \"logic_gates\": list of length output_size\n",
    "      }\n",
    "    \"\"\"\n",
    "\n",
    "    # 1) Group by output layer\n",
    "    grouped = group_connections_by_output_layer(connections, gates)\n",
    "    # grouped is e.g. { 2: [ {...}, {...} ], 3: [ ... ], etc. }\n",
    "\n",
    "    # 2) Sort the layers in ascending order ( ignore L0, that's the input layer itself )\n",
    "    sorted_layers = sorted(k for k in grouped.keys() if k > 0)\n",
    "\n",
    "    # We'll store the final results here\n",
    "    layer_specs = []\n",
    "\n",
    "    # We'll track how many nodes are in the \"previous layer,\" so we can set input_size accordingly\n",
    "    # For the first hidden layer, we define input_size=the actual pixel input_size\n",
    "    prev_layer_size = input_size\n",
    "\n",
    "    for layer in sorted_layers:\n",
    "        entries = grouped[layer]\n",
    "        output_size = len(entries)  # each outNode is presumably unique in your data\n",
    "\n",
    "        # Build \"connections\" -> an array of shape [output_size, 2], with -1 for None\n",
    "        connections_array = []\n",
    "        logic_gates = []\n",
    "\n",
    "        for e in entries:\n",
    "            A_layer_idx = e['inA']  # e.g. (1, 4690) or None\n",
    "            B_layer_idx = e['inB']\n",
    "            # out_idx = e['out_idx']  # we might not need 'out_idx' if we just do them in order\n",
    "            gate = e['gate_name']\n",
    "            gate_idx = gate_name_to_index[gate]\n",
    "\n",
    "            # parse the inputA or inputB index\n",
    "            if A_layer_idx is None:\n",
    "                inA = -1\n",
    "            else:\n",
    "                # e.g. A_layer_idx = (1, 4690), we only need the \"node index\" part\n",
    "                # but be sure that layer is (layer-1) if we assume it’s from the previous layer\n",
    "                inA = A_layer_idx[1]\n",
    "\n",
    "            if B_layer_idx is None:\n",
    "                inB = -1\n",
    "            else:\n",
    "                inB = B_layer_idx[1]\n",
    "\n",
    "            connections_array.append( (inA, inB) )\n",
    "            logic_gates.append( gate_idx )\n",
    "\n",
    "        # Convert to torch tensor\n",
    "        connections_t = torch.tensor(connections_array, dtype=torch.long)\n",
    "\n",
    "        layer_specs.append({\n",
    "            \"input_size\":  prev_layer_size,\n",
    "            \"output_size\": output_size,\n",
    "            \"connections\": connections_t,\n",
    "            \"logic_gates\": logic_gates,\n",
    "        })\n",
    "\n",
    "        # The new 'prev_layer_size' is output_size for the next layer.\n",
    "        prev_layer_size = output_size\n",
    "\n",
    "    return layer_specs\n",
    "\n",
    "# Example usage\n",
    "create_layer_specs_fast(connections, gates, gate_name_to_index)"
   ]
  },
  {
   "cell_type": "markdown",
   "id": "e7d74b15-bd95-4f30-8adc-41bb6b0040ca",
   "metadata": {},
   "source": [
    "4. Combines the previous functions and returns a MiniNet"
   ]
  },
  {
   "cell_type": "code",
   "execution_count": 117,
   "id": "406b7b32-a94c-4988-876a-defc90f58efc",
   "metadata": {
    "tags": []
   },
   "outputs": [
    {
     "ename": "RuntimeError",
     "evalue": "CUDA error: device-side assert triggered\nCUDA kernel errors might be asynchronously reported at some other API call,so the stacktrace below might be incorrect.\nFor debugging consider passing CUDA_LAUNCH_BLOCKING=1.",
     "output_type": "error",
     "traceback": [
      "\u001b[0;31m---------------------------------------------------------------------------\u001b[0m",
      "\u001b[0;31mRuntimeError\u001b[0m                              Traceback (most recent call last)",
      "Cell \u001b[0;32mIn[117], line 33\u001b[0m\n\u001b[1;32m     29\u001b[0m     mini_net \u001b[38;5;241m=\u001b[39m CustomDiffLogic(layer_specs\u001b[38;5;241m=\u001b[39mlayer_specs, output_size\u001b[38;5;241m=\u001b[39m\u001b[38;5;241m10\u001b[39m, device\u001b[38;5;241m=\u001b[39m\u001b[38;5;124m'\u001b[39m\u001b[38;5;124mcuda\u001b[39m\u001b[38;5;124m'\u001b[39m, tau\u001b[38;5;241m=\u001b[39m\u001b[38;5;241m30\u001b[39m)\n\u001b[1;32m     31\u001b[0m     \u001b[38;5;28;01mreturn\u001b[39;00m mini_net\n\u001b[0;32m---> 33\u001b[0m \u001b[43mcreate_mininet_for_digit\u001b[49m\u001b[43m(\u001b[49m\u001b[38;5;241;43m0\u001b[39;49m\u001b[43m,\u001b[49m\u001b[43m \u001b[49m\u001b[43mgraphs\u001b[49m\u001b[43m)\u001b[49m\n",
      "Cell \u001b[0;32mIn[117], line 29\u001b[0m, in \u001b[0;36mcreate_mininet_for_digit\u001b[0;34m(digit, graphs, sf_threshold, input_size)\u001b[0m\n\u001b[1;32m     21\u001b[0m layer_specs \u001b[38;5;241m=\u001b[39m create_layer_specs_fast(\n\u001b[1;32m     22\u001b[0m     connections,\n\u001b[1;32m     23\u001b[0m     gates,\n\u001b[1;32m     24\u001b[0m     gate_name_to_index \n\u001b[1;32m     25\u001b[0m )\n\u001b[1;32m     27\u001b[0m \u001b[38;5;66;03m# 4) Build the net\u001b[39;00m\n\u001b[1;32m     28\u001b[0m \u001b[38;5;66;03m# 'output_size=10' if you want 10-class final grouping, or 1 if \"one vs rest\"\u001b[39;00m\n\u001b[0;32m---> 29\u001b[0m mini_net \u001b[38;5;241m=\u001b[39m \u001b[43mCustomDiffLogic\u001b[49m\u001b[43m(\u001b[49m\u001b[43mlayer_specs\u001b[49m\u001b[38;5;241;43m=\u001b[39;49m\u001b[43mlayer_specs\u001b[49m\u001b[43m,\u001b[49m\u001b[43m \u001b[49m\u001b[43moutput_size\u001b[49m\u001b[38;5;241;43m=\u001b[39;49m\u001b[38;5;241;43m10\u001b[39;49m\u001b[43m,\u001b[49m\u001b[43m \u001b[49m\u001b[43mdevice\u001b[49m\u001b[38;5;241;43m=\u001b[39;49m\u001b[38;5;124;43m'\u001b[39;49m\u001b[38;5;124;43mcuda\u001b[39;49m\u001b[38;5;124;43m'\u001b[39;49m\u001b[43m,\u001b[49m\u001b[43m \u001b[49m\u001b[43mtau\u001b[49m\u001b[38;5;241;43m=\u001b[39;49m\u001b[38;5;241;43m30\u001b[39;49m\u001b[43m)\u001b[49m\n\u001b[1;32m     31\u001b[0m \u001b[38;5;28;01mreturn\u001b[39;00m mini_net\n",
      "Cell \u001b[0;32mIn[103], line 21\u001b[0m, in \u001b[0;36mCustomDiffLogic.__init__\u001b[0;34m(self, layer_specs, output_size, device, tau)\u001b[0m\n\u001b[1;32m     19\u001b[0m \u001b[38;5;66;03m# Create each layer with specific connections and logic gates\u001b[39;00m\n\u001b[1;32m     20\u001b[0m \u001b[38;5;28;01mfor\u001b[39;00m layer_spec \u001b[38;5;129;01min\u001b[39;00m layer_specs:\n\u001b[0;32m---> 21\u001b[0m     layer \u001b[38;5;241m=\u001b[39m \u001b[43mCustomLogicLayer\u001b[49m\u001b[43m(\u001b[49m\n\u001b[1;32m     22\u001b[0m \u001b[43m        \u001b[49m\u001b[43min_dim\u001b[49m\u001b[38;5;241;43m=\u001b[39;49m\u001b[43mlayer_spec\u001b[49m\u001b[43m[\u001b[49m\u001b[38;5;124;43m\"\u001b[39;49m\u001b[38;5;124;43minput_size\u001b[39;49m\u001b[38;5;124;43m\"\u001b[39;49m\u001b[43m]\u001b[49m\u001b[43m,\u001b[49m\n\u001b[1;32m     23\u001b[0m \u001b[43m        \u001b[49m\u001b[43mout_dim\u001b[49m\u001b[38;5;241;43m=\u001b[39;49m\u001b[43mlayer_spec\u001b[49m\u001b[43m[\u001b[49m\u001b[38;5;124;43m\"\u001b[39;49m\u001b[38;5;124;43moutput_size\u001b[39;49m\u001b[38;5;124;43m\"\u001b[39;49m\u001b[43m]\u001b[49m\u001b[43m,\u001b[49m\n\u001b[1;32m     24\u001b[0m \u001b[43m        \u001b[49m\u001b[43mconnections\u001b[49m\u001b[38;5;241;43m=\u001b[39;49m\u001b[43mlayer_spec\u001b[49m\u001b[43m[\u001b[49m\u001b[38;5;124;43m\"\u001b[39;49m\u001b[38;5;124;43mconnections\u001b[39;49m\u001b[38;5;124;43m\"\u001b[39;49m\u001b[43m]\u001b[49m\u001b[43m,\u001b[49m\n\u001b[1;32m     25\u001b[0m \u001b[43m        \u001b[49m\u001b[43mlogic_gates\u001b[49m\u001b[38;5;241;43m=\u001b[39;49m\u001b[43mlayer_spec\u001b[49m\u001b[43m[\u001b[49m\u001b[38;5;124;43m\"\u001b[39;49m\u001b[38;5;124;43mlogic_gates\u001b[39;49m\u001b[38;5;124;43m\"\u001b[39;49m\u001b[43m]\u001b[49m\u001b[43m,\u001b[49m\n\u001b[1;32m     26\u001b[0m \u001b[43m        \u001b[49m\u001b[43mdevice\u001b[49m\u001b[38;5;241;43m=\u001b[39;49m\u001b[38;5;28;43mself\u001b[39;49m\u001b[38;5;241;43m.\u001b[39;49m\u001b[43mdevice\u001b[49m\u001b[43m,\u001b[49m\n\u001b[1;32m     27\u001b[0m \u001b[43m    \u001b[49m\u001b[43m)\u001b[49m\n\u001b[1;32m     28\u001b[0m     layers\u001b[38;5;241m.\u001b[39mappend(layer)\n\u001b[1;32m     30\u001b[0m \u001b[38;5;28mself\u001b[39m\u001b[38;5;241m.\u001b[39mlogic_layers \u001b[38;5;241m=\u001b[39m torch\u001b[38;5;241m.\u001b[39mnn\u001b[38;5;241m.\u001b[39mSequential(\u001b[38;5;241m*\u001b[39mlayers)\n",
      "Cell \u001b[0;32mIn[102], line 11\u001b[0m, in \u001b[0;36mCustomLogicLayer.__init__\u001b[0;34m(self, in_dim, out_dim, connections, logic_gates, device)\u001b[0m\n\u001b[1;32m      2\u001b[0m \u001b[38;5;28;01mdef\u001b[39;00m \u001b[38;5;21m__init__\u001b[39m(\n\u001b[1;32m      3\u001b[0m     \u001b[38;5;28mself\u001b[39m,\n\u001b[1;32m      4\u001b[0m     in_dim: \u001b[38;5;28mint\u001b[39m,\n\u001b[0;32m   (...)\u001b[0m\n\u001b[1;32m      8\u001b[0m     device: \u001b[38;5;28mstr\u001b[39m \u001b[38;5;241m=\u001b[39m \u001b[38;5;124m\"\u001b[39m\u001b[38;5;124mcuda\u001b[39m\u001b[38;5;124m\"\u001b[39m,\n\u001b[1;32m      9\u001b[0m ):\n\u001b[1;32m     10\u001b[0m     \u001b[38;5;28msuper\u001b[39m()\u001b[38;5;241m.\u001b[39m\u001b[38;5;21m__init__\u001b[39m()\n\u001b[0;32m---> 11\u001b[0m     \u001b[38;5;28mself\u001b[39m\u001b[38;5;241m.\u001b[39mindices \u001b[38;5;241m=\u001b[39m \u001b[43mconnections\u001b[49m\u001b[38;5;241;43m.\u001b[39;49m\u001b[43mto\u001b[49m\u001b[43m(\u001b[49m\u001b[43mdevice\u001b[49m\u001b[43m)\u001b[49m\n\u001b[1;32m     12\u001b[0m     \u001b[38;5;28mself\u001b[39m\u001b[38;5;241m.\u001b[39mlogic_gates \u001b[38;5;241m=\u001b[39m torch\u001b[38;5;241m.\u001b[39mtensor(logic_gates, dtype\u001b[38;5;241m=\u001b[39mtorch\u001b[38;5;241m.\u001b[39mlong, device\u001b[38;5;241m=\u001b[39mdevice)\n\u001b[1;32m     13\u001b[0m     \u001b[38;5;28mself\u001b[39m\u001b[38;5;241m.\u001b[39min_dim \u001b[38;5;241m=\u001b[39m in_dim\n",
      "\u001b[0;31mRuntimeError\u001b[0m: CUDA error: device-side assert triggered\nCUDA kernel errors might be asynchronously reported at some other API call,so the stacktrace below might be incorrect.\nFor debugging consider passing CUDA_LAUNCH_BLOCKING=1."
     ]
    }
   ],
   "source": [
    "def create_mininet_for_digit(digit, \n",
    "                             graphs,    # dict of {digit: LogicGraph}, each LogicGraph has .compute_sf done\n",
    "                             sf_threshold=0.1, \n",
    "                             input_size=784):\n",
    "    \"\"\"\n",
    "    Builds a CustomDiffLogic net for a specific digit, \n",
    "    pruning the LogicGraph by 'sf_threshold'.\n",
    "\n",
    "    Returns:\n",
    "        mini_net (CustomDiffLogic)\n",
    "    \"\"\"\n",
    "    logic_graph = graphs[digit]  # a LogicGraph for this digit\n",
    "    \n",
    "    # 1) Prune\n",
    "    pruned_subgraph = prune_graph_by_sf(logic_graph, sf_threshold=sf_threshold)\n",
    "    \n",
    "    # 2) Extract the pruned connections & gates\n",
    "    connections, gates = extract_connections_and_gates_from_subgraph(pruned_subgraph)\n",
    "    \n",
    "    # 3) Build layer specs\n",
    "    layer_specs = create_layer_specs_fast(\n",
    "        connections,\n",
    "        gates,\n",
    "        gate_name_to_index \n",
    "    )\n",
    "    \n",
    "    # 4) Build the net\n",
    "    # 'output_size=10' if you want 10-class final grouping, or 1 if \"one vs rest\"\n",
    "    mini_net = CustomDiffLogic(layer_specs=layer_specs, output_size=10, device='cuda', tau=30)\n",
    "    \n",
    "    return mini_net\n",
    "\n",
    "create_mininet_for_digit(0, graphs)"
   ]
  },
  {
   "cell_type": "markdown",
   "id": "df6f4ec9-f87c-4e95-b195-64c8fe09301b",
   "metadata": {},
   "source": [
    "5. Evaluation"
   ]
  },
  {
   "cell_type": "code",
   "execution_count": 80,
   "id": "caa53daa-f62e-427b-9957-e0dbdf6ea4fd",
   "metadata": {
    "collapsed": true,
    "jupyter": {
     "outputs_hidden": true
    },
    "tags": []
   },
   "outputs": [
    {
     "name": "stderr",
     "output_type": "stream",
     "text": [
      "/pytorch/aten/src/ATen/native/cuda/IndexKernel.cu:97: operator(): block: [22,0,0], thread: [1,0,0] Assertion `index >= -sizes[i] && index < sizes[i] && \"index out of bounds\"` failed.\n",
      "/pytorch/aten/src/ATen/native/cuda/IndexKernel.cu:97: operator(): block: [22,0,0], thread: [2,0,0] Assertion `index >= -sizes[i] && index < sizes[i] && \"index out of bounds\"` failed.\n",
      "/pytorch/aten/src/ATen/native/cuda/IndexKernel.cu:97: operator(): block: [22,0,0], thread: [4,0,0] Assertion `index >= -sizes[i] && index < sizes[i] && \"index out of bounds\"` failed.\n",
      "/pytorch/aten/src/ATen/native/cuda/IndexKernel.cu:97: operator(): block: [22,0,0], thread: [5,0,0] Assertion `index >= -sizes[i] && index < sizes[i] && \"index out of bounds\"` failed.\n",
      "/pytorch/aten/src/ATen/native/cuda/IndexKernel.cu:97: operator(): block: [22,0,0], thread: [6,0,0] Assertion `index >= -sizes[i] && index < sizes[i] && \"index out of bounds\"` failed.\n",
      "/pytorch/aten/src/ATen/native/cuda/IndexKernel.cu:97: operator(): block: [22,0,0], thread: [7,0,0] Assertion `index >= -sizes[i] && index < sizes[i] && \"index out of bounds\"` failed.\n",
      "/pytorch/aten/src/ATen/native/cuda/IndexKernel.cu:97: operator(): block: [22,0,0], thread: [8,0,0] Assertion `index >= -sizes[i] && index < sizes[i] && \"index out of bounds\"` failed.\n",
      "/pytorch/aten/src/ATen/native/cuda/IndexKernel.cu:97: operator(): block: [22,0,0], thread: [9,0,0] Assertion `index >= -sizes[i] && index < sizes[i] && \"index out of bounds\"` failed.\n",
      "/pytorch/aten/src/ATen/native/cuda/IndexKernel.cu:97: operator(): block: [22,0,0], thread: [11,0,0] Assertion `index >= -sizes[i] && index < sizes[i] && \"index out of bounds\"` failed.\n",
      "/pytorch/aten/src/ATen/native/cuda/IndexKernel.cu:97: operator(): block: [22,0,0], thread: [12,0,0] Assertion `index >= -sizes[i] && index < sizes[i] && \"index out of bounds\"` failed.\n",
      "/pytorch/aten/src/ATen/native/cuda/IndexKernel.cu:97: operator(): block: [22,0,0], thread: [13,0,0] Assertion `index >= -sizes[i] && index < sizes[i] && \"index out of bounds\"` failed.\n",
      "/pytorch/aten/src/ATen/native/cuda/IndexKernel.cu:97: operator(): block: [22,0,0], thread: [14,0,0] Assertion `index >= -sizes[i] && index < sizes[i] && \"index out of bounds\"` failed.\n",
      "/pytorch/aten/src/ATen/native/cuda/IndexKernel.cu:97: operator(): block: [22,0,0], thread: [15,0,0] Assertion `index >= -sizes[i] && index < sizes[i] && \"index out of bounds\"` failed.\n",
      "/pytorch/aten/src/ATen/native/cuda/IndexKernel.cu:97: operator(): block: [22,0,0], thread: [17,0,0] Assertion `index >= -sizes[i] && index < sizes[i] && \"index out of bounds\"` failed.\n",
      "/pytorch/aten/src/ATen/native/cuda/IndexKernel.cu:97: operator(): block: [22,0,0], thread: [18,0,0] Assertion `index >= -sizes[i] && index < sizes[i] && \"index out of bounds\"` failed.\n",
      "/pytorch/aten/src/ATen/native/cuda/IndexKernel.cu:97: operator(): block: [22,0,0], thread: [19,0,0] Assertion `index >= -sizes[i] && index < sizes[i] && \"index out of bounds\"` failed.\n",
      "/pytorch/aten/src/ATen/native/cuda/IndexKernel.cu:97: operator(): block: [22,0,0], thread: [20,0,0] Assertion `index >= -sizes[i] && index < sizes[i] && \"index out of bounds\"` failed.\n",
      "/pytorch/aten/src/ATen/native/cuda/IndexKernel.cu:97: operator(): block: [22,0,0], thread: [22,0,0] Assertion `index >= -sizes[i] && index < sizes[i] && \"index out of bounds\"` failed.\n",
      "/pytorch/aten/src/ATen/native/cuda/IndexKernel.cu:97: operator(): block: [22,0,0], thread: [25,0,0] Assertion `index >= -sizes[i] && index < sizes[i] && \"index out of bounds\"` failed.\n",
      "/pytorch/aten/src/ATen/native/cuda/IndexKernel.cu:97: operator(): block: [22,0,0], thread: [26,0,0] Assertion `index >= -sizes[i] && index < sizes[i] && \"index out of bounds\"` failed.\n",
      "/pytorch/aten/src/ATen/native/cuda/IndexKernel.cu:97: operator(): block: [22,0,0], thread: [27,0,0] Assertion `index >= -sizes[i] && index < sizes[i] && \"index out of bounds\"` failed.\n",
      "/pytorch/aten/src/ATen/native/cuda/IndexKernel.cu:97: operator(): block: [22,0,0], thread: [28,0,0] Assertion `index >= -sizes[i] && index < sizes[i] && \"index out of bounds\"` failed.\n",
      "/pytorch/aten/src/ATen/native/cuda/IndexKernel.cu:97: operator(): block: [22,0,0], thread: [29,0,0] Assertion `index >= -sizes[i] && index < sizes[i] && \"index out of bounds\"` failed.\n",
      "/pytorch/aten/src/ATen/native/cuda/IndexKernel.cu:97: operator(): block: [22,0,0], thread: [30,0,0] Assertion `index >= -sizes[i] && index < sizes[i] && \"index out of bounds\"` failed.\n",
      "/pytorch/aten/src/ATen/native/cuda/IndexKernel.cu:97: operator(): block: [22,0,0], thread: [31,0,0] Assertion `index >= -sizes[i] && index < sizes[i] && \"index out of bounds\"` failed.\n",
      "/pytorch/aten/src/ATen/native/cuda/IndexKernel.cu:97: operator(): block: [90,0,0], thread: [96,0,0] Assertion `index >= -sizes[i] && index < sizes[i] && \"index out of bounds\"` failed.\n",
      "/pytorch/aten/src/ATen/native/cuda/IndexKernel.cu:97: operator(): block: [90,0,0], thread: [98,0,0] Assertion `index >= -sizes[i] && index < sizes[i] && \"index out of bounds\"` failed.\n",
      "/pytorch/aten/src/ATen/native/cuda/IndexKernel.cu:97: operator(): block: [90,0,0], thread: [99,0,0] Assertion `index >= -sizes[i] && index < sizes[i] && \"index out of bounds\"` failed.\n",
      "/pytorch/aten/src/ATen/native/cuda/IndexKernel.cu:97: operator(): block: [90,0,0], thread: [100,0,0] Assertion `index >= -sizes[i] && index < sizes[i] && \"index out of bounds\"` failed.\n",
      "/pytorch/aten/src/ATen/native/cuda/IndexKernel.cu:97: operator(): block: [90,0,0], thread: [105,0,0] Assertion `index >= -sizes[i] && index < sizes[i] && \"index out of bounds\"` failed.\n",
      "/pytorch/aten/src/ATen/native/cuda/IndexKernel.cu:97: operator(): block: [90,0,0], thread: [108,0,0] Assertion `index >= -sizes[i] && index < sizes[i] && \"index out of bounds\"` failed.\n",
      "/pytorch/aten/src/ATen/native/cuda/IndexKernel.cu:97: operator(): block: [90,0,0], thread: [110,0,0] Assertion `index >= -sizes[i] && index < sizes[i] && \"index out of bounds\"` failed.\n",
      "/pytorch/aten/src/ATen/native/cuda/IndexKernel.cu:97: operator(): block: [90,0,0], thread: [112,0,0] Assertion `index >= -sizes[i] && index < sizes[i] && \"index out of bounds\"` failed.\n",
      "/pytorch/aten/src/ATen/native/cuda/IndexKernel.cu:97: operator(): block: [90,0,0], thread: [113,0,0] Assertion `index >= -sizes[i] && index < sizes[i] && \"index out of bounds\"` failed.\n",
      "/pytorch/aten/src/ATen/native/cuda/IndexKernel.cu:97: operator(): block: [90,0,0], thread: [114,0,0] Assertion `index >= -sizes[i] && index < sizes[i] && \"index out of bounds\"` failed.\n",
      "/pytorch/aten/src/ATen/native/cuda/IndexKernel.cu:97: operator(): block: [90,0,0], thread: [115,0,0] Assertion `index >= -sizes[i] && index < sizes[i] && \"index out of bounds\"` failed.\n",
      "/pytorch/aten/src/ATen/native/cuda/IndexKernel.cu:97: operator(): block: [90,0,0], thread: [116,0,0] Assertion `index >= -sizes[i] && index < sizes[i] && \"index out of bounds\"` failed.\n",
      "/pytorch/aten/src/ATen/native/cuda/IndexKernel.cu:97: operator(): block: [90,0,0], thread: [117,0,0] Assertion `index >= -sizes[i] && index < sizes[i] && \"index out of bounds\"` failed.\n",
      "/pytorch/aten/src/ATen/native/cuda/IndexKernel.cu:97: operator(): block: [90,0,0], thread: [118,0,0] Assertion `index >= -sizes[i] && index < sizes[i] && \"index out of bounds\"` failed.\n",
      "/pytorch/aten/src/ATen/native/cuda/IndexKernel.cu:97: operator(): block: [90,0,0], thread: [119,0,0] Assertion `index >= -sizes[i] && index < sizes[i] && \"index out of bounds\"` failed.\n",
      "/pytorch/aten/src/ATen/native/cuda/IndexKernel.cu:97: operator(): block: [90,0,0], thread: [120,0,0] Assertion `index >= -sizes[i] && index < sizes[i] && \"index out of bounds\"` failed.\n",
      "/pytorch/aten/src/ATen/native/cuda/IndexKernel.cu:97: operator(): block: [90,0,0], thread: [122,0,0] Assertion `index >= -sizes[i] && index < sizes[i] && \"index out of bounds\"` failed.\n",
      "/pytorch/aten/src/ATen/native/cuda/IndexKernel.cu:97: operator(): block: [90,0,0], thread: [123,0,0] Assertion `index >= -sizes[i] && index < sizes[i] && \"index out of bounds\"` failed.\n",
      "/pytorch/aten/src/ATen/native/cuda/IndexKernel.cu:97: operator(): block: [90,0,0], thread: [125,0,0] Assertion `index >= -sizes[i] && index < sizes[i] && \"index out of bounds\"` failed.\n",
      "/pytorch/aten/src/ATen/native/cuda/IndexKernel.cu:97: operator(): block: [90,0,0], thread: [126,0,0] Assertion `index >= -sizes[i] && index < sizes[i] && \"index out of bounds\"` failed.\n",
      "/pytorch/aten/src/ATen/native/cuda/IndexKernel.cu:97: operator(): block: [90,0,0], thread: [127,0,0] Assertion `index >= -sizes[i] && index < sizes[i] && \"index out of bounds\"` failed.\n"
     ]
    },
    {
     "ename": "RuntimeError",
     "evalue": "CUDA error: device-side assert triggered\nCUDA kernel errors might be asynchronously reported at some other API call,so the stacktrace below might be incorrect.\nFor debugging consider passing CUDA_LAUNCH_BLOCKING=1.",
     "output_type": "error",
     "traceback": [
      "\u001b[0;31m---------------------------------------------------------------------------\u001b[0m",
      "\u001b[0;31mRuntimeError\u001b[0m                              Traceback (most recent call last)",
      "Cell \u001b[0;32mIn[80], line 11\u001b[0m\n\u001b[1;32m      9\u001b[0m \u001b[38;5;28;01mfor\u001b[39;00m batch_inputs, batch_labels \u001b[38;5;129;01min\u001b[39;00m test_loader:\n\u001b[1;32m     10\u001b[0m     batch_inputs, batch_labels \u001b[38;5;241m=\u001b[39m batch_inputs\u001b[38;5;241m.\u001b[39mto(device), batch_labels\u001b[38;5;241m.\u001b[39mto(device)\n\u001b[0;32m---> 11\u001b[0m     outputs \u001b[38;5;241m=\u001b[39m \u001b[43mmininet\u001b[49m\u001b[43m(\u001b[49m\u001b[43mbatch_inputs\u001b[49m\u001b[43m)\u001b[49m\n\u001b[1;32m     12\u001b[0m     \u001b[38;5;66;03m# Because CustomDiffLogic returns shape (batch_size, 10) if output_size=10\u001b[39;00m\n\u001b[1;32m     13\u001b[0m     \u001b[38;5;66;03m# we pick the argmax across the 10 classes\u001b[39;00m\n\u001b[1;32m     14\u001b[0m     _, predicted \u001b[38;5;241m=\u001b[39m torch\u001b[38;5;241m.\u001b[39mmax(outputs, dim\u001b[38;5;241m=\u001b[39m\u001b[38;5;241m1\u001b[39m)\n",
      "File \u001b[0;32m/blue/woodard/mkunzlermaldaner/project/ExpLogic/explogic_env/lib/python3.9/site-packages/torch/nn/modules/module.py:1051\u001b[0m, in \u001b[0;36mModule._call_impl\u001b[0;34m(self, *input, **kwargs)\u001b[0m\n\u001b[1;32m   1047\u001b[0m \u001b[38;5;66;03m# If we don't have any hooks, we want to skip the rest of the logic in\u001b[39;00m\n\u001b[1;32m   1048\u001b[0m \u001b[38;5;66;03m# this function, and just call forward.\u001b[39;00m\n\u001b[1;32m   1049\u001b[0m \u001b[38;5;28;01mif\u001b[39;00m \u001b[38;5;129;01mnot\u001b[39;00m (\u001b[38;5;28mself\u001b[39m\u001b[38;5;241m.\u001b[39m_backward_hooks \u001b[38;5;129;01mor\u001b[39;00m \u001b[38;5;28mself\u001b[39m\u001b[38;5;241m.\u001b[39m_forward_hooks \u001b[38;5;129;01mor\u001b[39;00m \u001b[38;5;28mself\u001b[39m\u001b[38;5;241m.\u001b[39m_forward_pre_hooks \u001b[38;5;129;01mor\u001b[39;00m _global_backward_hooks\n\u001b[1;32m   1050\u001b[0m         \u001b[38;5;129;01mor\u001b[39;00m _global_forward_hooks \u001b[38;5;129;01mor\u001b[39;00m _global_forward_pre_hooks):\n\u001b[0;32m-> 1051\u001b[0m     \u001b[38;5;28;01mreturn\u001b[39;00m \u001b[43mforward_call\u001b[49m\u001b[43m(\u001b[49m\u001b[38;5;241;43m*\u001b[39;49m\u001b[38;5;28;43minput\u001b[39;49m\u001b[43m,\u001b[49m\u001b[43m \u001b[49m\u001b[38;5;241;43m*\u001b[39;49m\u001b[38;5;241;43m*\u001b[39;49m\u001b[43mkwargs\u001b[49m\u001b[43m)\u001b[49m\n\u001b[1;32m   1052\u001b[0m \u001b[38;5;66;03m# Do not call functions when jit is used\u001b[39;00m\n\u001b[1;32m   1053\u001b[0m full_backward_hooks, non_full_backward_hooks \u001b[38;5;241m=\u001b[39m [], []\n",
      "Cell \u001b[0;32mIn[37], line 39\u001b[0m, in \u001b[0;36mCustomDiffLogic.forward\u001b[0;34m(self, x)\u001b[0m\n\u001b[1;32m     36\u001b[0m     x \u001b[38;5;241m=\u001b[39m x\u001b[38;5;241m.\u001b[39mto(\u001b[38;5;28mself\u001b[39m\u001b[38;5;241m.\u001b[39mdevice)\n\u001b[1;32m     38\u001b[0m x \u001b[38;5;241m=\u001b[39m \u001b[38;5;28mself\u001b[39m\u001b[38;5;241m.\u001b[39mflatten(x)\n\u001b[0;32m---> 39\u001b[0m logits \u001b[38;5;241m=\u001b[39m \u001b[38;5;28;43mself\u001b[39;49m\u001b[38;5;241;43m.\u001b[39;49m\u001b[43mlogic_layers\u001b[49m\u001b[43m(\u001b[49m\u001b[43mx\u001b[49m\u001b[43m)\u001b[49m\n\u001b[1;32m     41\u001b[0m \u001b[38;5;66;03m# Grouping the final logits\u001b[39;00m\n\u001b[1;32m     42\u001b[0m \u001b[38;5;28;01mreturn\u001b[39;00m \u001b[38;5;28mself\u001b[39m\u001b[38;5;241m.\u001b[39mgroup(logits)\n",
      "File \u001b[0;32m/blue/woodard/mkunzlermaldaner/project/ExpLogic/explogic_env/lib/python3.9/site-packages/torch/nn/modules/module.py:1051\u001b[0m, in \u001b[0;36mModule._call_impl\u001b[0;34m(self, *input, **kwargs)\u001b[0m\n\u001b[1;32m   1047\u001b[0m \u001b[38;5;66;03m# If we don't have any hooks, we want to skip the rest of the logic in\u001b[39;00m\n\u001b[1;32m   1048\u001b[0m \u001b[38;5;66;03m# this function, and just call forward.\u001b[39;00m\n\u001b[1;32m   1049\u001b[0m \u001b[38;5;28;01mif\u001b[39;00m \u001b[38;5;129;01mnot\u001b[39;00m (\u001b[38;5;28mself\u001b[39m\u001b[38;5;241m.\u001b[39m_backward_hooks \u001b[38;5;129;01mor\u001b[39;00m \u001b[38;5;28mself\u001b[39m\u001b[38;5;241m.\u001b[39m_forward_hooks \u001b[38;5;129;01mor\u001b[39;00m \u001b[38;5;28mself\u001b[39m\u001b[38;5;241m.\u001b[39m_forward_pre_hooks \u001b[38;5;129;01mor\u001b[39;00m _global_backward_hooks\n\u001b[1;32m   1050\u001b[0m         \u001b[38;5;129;01mor\u001b[39;00m _global_forward_hooks \u001b[38;5;129;01mor\u001b[39;00m _global_forward_pre_hooks):\n\u001b[0;32m-> 1051\u001b[0m     \u001b[38;5;28;01mreturn\u001b[39;00m \u001b[43mforward_call\u001b[49m\u001b[43m(\u001b[49m\u001b[38;5;241;43m*\u001b[39;49m\u001b[38;5;28;43minput\u001b[39;49m\u001b[43m,\u001b[49m\u001b[43m \u001b[49m\u001b[38;5;241;43m*\u001b[39;49m\u001b[38;5;241;43m*\u001b[39;49m\u001b[43mkwargs\u001b[49m\u001b[43m)\u001b[49m\n\u001b[1;32m   1052\u001b[0m \u001b[38;5;66;03m# Do not call functions when jit is used\u001b[39;00m\n\u001b[1;32m   1053\u001b[0m full_backward_hooks, non_full_backward_hooks \u001b[38;5;241m=\u001b[39m [], []\n",
      "File \u001b[0;32m/blue/woodard/mkunzlermaldaner/project/ExpLogic/explogic_env/lib/python3.9/site-packages/torch/nn/modules/container.py:139\u001b[0m, in \u001b[0;36mSequential.forward\u001b[0;34m(self, input)\u001b[0m\n\u001b[1;32m    137\u001b[0m \u001b[38;5;28;01mdef\u001b[39;00m \u001b[38;5;21mforward\u001b[39m(\u001b[38;5;28mself\u001b[39m, \u001b[38;5;28minput\u001b[39m):\n\u001b[1;32m    138\u001b[0m     \u001b[38;5;28;01mfor\u001b[39;00m module \u001b[38;5;129;01min\u001b[39;00m \u001b[38;5;28mself\u001b[39m:\n\u001b[0;32m--> 139\u001b[0m         \u001b[38;5;28minput\u001b[39m \u001b[38;5;241m=\u001b[39m \u001b[43mmodule\u001b[49m\u001b[43m(\u001b[49m\u001b[38;5;28;43minput\u001b[39;49m\u001b[43m)\u001b[49m\n\u001b[1;32m    140\u001b[0m     \u001b[38;5;28;01mreturn\u001b[39;00m \u001b[38;5;28minput\u001b[39m\n",
      "File \u001b[0;32m/blue/woodard/mkunzlermaldaner/project/ExpLogic/explogic_env/lib/python3.9/site-packages/torch/nn/modules/module.py:1051\u001b[0m, in \u001b[0;36mModule._call_impl\u001b[0;34m(self, *input, **kwargs)\u001b[0m\n\u001b[1;32m   1047\u001b[0m \u001b[38;5;66;03m# If we don't have any hooks, we want to skip the rest of the logic in\u001b[39;00m\n\u001b[1;32m   1048\u001b[0m \u001b[38;5;66;03m# this function, and just call forward.\u001b[39;00m\n\u001b[1;32m   1049\u001b[0m \u001b[38;5;28;01mif\u001b[39;00m \u001b[38;5;129;01mnot\u001b[39;00m (\u001b[38;5;28mself\u001b[39m\u001b[38;5;241m.\u001b[39m_backward_hooks \u001b[38;5;129;01mor\u001b[39;00m \u001b[38;5;28mself\u001b[39m\u001b[38;5;241m.\u001b[39m_forward_hooks \u001b[38;5;129;01mor\u001b[39;00m \u001b[38;5;28mself\u001b[39m\u001b[38;5;241m.\u001b[39m_forward_pre_hooks \u001b[38;5;129;01mor\u001b[39;00m _global_backward_hooks\n\u001b[1;32m   1050\u001b[0m         \u001b[38;5;129;01mor\u001b[39;00m _global_forward_hooks \u001b[38;5;129;01mor\u001b[39;00m _global_forward_pre_hooks):\n\u001b[0;32m-> 1051\u001b[0m     \u001b[38;5;28;01mreturn\u001b[39;00m \u001b[43mforward_call\u001b[49m\u001b[43m(\u001b[49m\u001b[38;5;241;43m*\u001b[39;49m\u001b[38;5;28;43minput\u001b[39;49m\u001b[43m,\u001b[49m\u001b[43m \u001b[49m\u001b[38;5;241;43m*\u001b[39;49m\u001b[38;5;241;43m*\u001b[39;49m\u001b[43mkwargs\u001b[49m\u001b[43m)\u001b[49m\n\u001b[1;32m   1052\u001b[0m \u001b[38;5;66;03m# Do not call functions when jit is used\u001b[39;00m\n\u001b[1;32m   1053\u001b[0m full_backward_hooks, non_full_backward_hooks \u001b[38;5;241m=\u001b[39m [], []\n",
      "Cell \u001b[0;32mIn[36], line 18\u001b[0m, in \u001b[0;36mCustomLogicLayer.forward\u001b[0;34m(self, x)\u001b[0m\n\u001b[1;32m     17\u001b[0m \u001b[38;5;28;01mdef\u001b[39;00m \u001b[38;5;21mforward\u001b[39m(\u001b[38;5;28mself\u001b[39m, x):\n\u001b[0;32m---> 18\u001b[0m     \u001b[38;5;28;01mreturn\u001b[39;00m \u001b[38;5;28;43mself\u001b[39;49m\u001b[38;5;241;43m.\u001b[39;49m\u001b[43mforward_python\u001b[49m\u001b[43m(\u001b[49m\u001b[43mx\u001b[49m\u001b[43m)\u001b[49m\n",
      "Cell \u001b[0;32mIn[36], line 29\u001b[0m, in \u001b[0;36mCustomLogicLayer.forward_python\u001b[0;34m(self, x)\u001b[0m\n\u001b[1;32m     26\u001b[0m gate_indices \u001b[38;5;241m=\u001b[39m \u001b[38;5;28mself\u001b[39m\u001b[38;5;241m.\u001b[39mlogic_gates  \u001b[38;5;66;03m# Shape: (out_dim,)\u001b[39;00m\n\u001b[1;32m     28\u001b[0m \u001b[38;5;66;03m# Compute the outputs using bin_op and the known gate indices\u001b[39;00m\n\u001b[0;32m---> 29\u001b[0m outputs \u001b[38;5;241m=\u001b[39m \u001b[43mbin_op\u001b[49m\u001b[43m(\u001b[49m\u001b[43ma\u001b[49m\u001b[43m,\u001b[49m\u001b[43m \u001b[49m\u001b[43mb\u001b[49m\u001b[43m,\u001b[49m\u001b[43m \u001b[49m\u001b[43mgate_indices\u001b[49m\u001b[43m)\u001b[49m\n\u001b[1;32m     30\u001b[0m \u001b[38;5;28;01mreturn\u001b[39;00m outputs\n",
      "Cell \u001b[0;32mIn[35], line 34\u001b[0m, in \u001b[0;36mbin_op\u001b[0;34m(a, b, i)\u001b[0m\n\u001b[1;32m     14\u001b[0m gate_ops \u001b[38;5;241m=\u001b[39m {\n\u001b[1;32m     15\u001b[0m     \u001b[38;5;241m0\u001b[39m: \u001b[38;5;28;01mlambda\u001b[39;00m a, b: torch\u001b[38;5;241m.\u001b[39mzeros_like(a),  \u001b[38;5;66;03m# zero\u001b[39;00m\n\u001b[1;32m     16\u001b[0m     \u001b[38;5;241m1\u001b[39m: \u001b[38;5;28;01mlambda\u001b[39;00m a, b: a \u001b[38;5;241m*\u001b[39m b,  \u001b[38;5;66;03m# and\u001b[39;00m\n\u001b[0;32m   (...)\u001b[0m\n\u001b[1;32m     30\u001b[0m     \u001b[38;5;241m15\u001b[39m: \u001b[38;5;28;01mlambda\u001b[39;00m a, b: torch\u001b[38;5;241m.\u001b[39mones_like(a),  \u001b[38;5;66;03m# one\u001b[39;00m\n\u001b[1;32m     31\u001b[0m }\n\u001b[1;32m     33\u001b[0m outputs \u001b[38;5;241m=\u001b[39m torch\u001b[38;5;241m.\u001b[39mzeros_like(a)\n\u001b[0;32m---> 34\u001b[0m \u001b[38;5;28;01mfor\u001b[39;00m gate_idx \u001b[38;5;129;01min\u001b[39;00m \u001b[43mtorch\u001b[49m\u001b[38;5;241;43m.\u001b[39;49m\u001b[43munique\u001b[49m\u001b[43m(\u001b[49m\u001b[43mi\u001b[49m\u001b[43m)\u001b[49m:\n\u001b[1;32m     35\u001b[0m     mask \u001b[38;5;241m=\u001b[39m (i \u001b[38;5;241m==\u001b[39m gate_idx)\u001b[38;5;241m.\u001b[39munsqueeze(\u001b[38;5;241m0\u001b[39m)  \u001b[38;5;66;03m# Shape: (1, out_dim)\u001b[39;00m\n\u001b[1;32m     36\u001b[0m     gate_output \u001b[38;5;241m=\u001b[39m gate_ops[gate_idx\u001b[38;5;241m.\u001b[39mitem()](a, b)\n",
      "File \u001b[0;32m/blue/woodard/mkunzlermaldaner/project/ExpLogic/explogic_env/lib/python3.9/site-packages/torch/_jit_internal.py:405\u001b[0m, in \u001b[0;36mboolean_dispatch.<locals>.fn\u001b[0;34m(*args, **kwargs)\u001b[0m\n\u001b[1;32m    403\u001b[0m     \u001b[38;5;28;01mreturn\u001b[39;00m if_true(\u001b[38;5;241m*\u001b[39margs, \u001b[38;5;241m*\u001b[39m\u001b[38;5;241m*\u001b[39mkwargs)\n\u001b[1;32m    404\u001b[0m \u001b[38;5;28;01melse\u001b[39;00m:\n\u001b[0;32m--> 405\u001b[0m     \u001b[38;5;28;01mreturn\u001b[39;00m \u001b[43mif_false\u001b[49m\u001b[43m(\u001b[49m\u001b[38;5;241;43m*\u001b[39;49m\u001b[43margs\u001b[49m\u001b[43m,\u001b[49m\u001b[43m \u001b[49m\u001b[38;5;241;43m*\u001b[39;49m\u001b[38;5;241;43m*\u001b[39;49m\u001b[43mkwargs\u001b[49m\u001b[43m)\u001b[49m\n",
      "File \u001b[0;32m/blue/woodard/mkunzlermaldaner/project/ExpLogic/explogic_env/lib/python3.9/site-packages/torch/_jit_internal.py:405\u001b[0m, in \u001b[0;36mboolean_dispatch.<locals>.fn\u001b[0;34m(*args, **kwargs)\u001b[0m\n\u001b[1;32m    403\u001b[0m     \u001b[38;5;28;01mreturn\u001b[39;00m if_true(\u001b[38;5;241m*\u001b[39margs, \u001b[38;5;241m*\u001b[39m\u001b[38;5;241m*\u001b[39mkwargs)\n\u001b[1;32m    404\u001b[0m \u001b[38;5;28;01melse\u001b[39;00m:\n\u001b[0;32m--> 405\u001b[0m     \u001b[38;5;28;01mreturn\u001b[39;00m \u001b[43mif_false\u001b[49m\u001b[43m(\u001b[49m\u001b[38;5;241;43m*\u001b[39;49m\u001b[43margs\u001b[49m\u001b[43m,\u001b[49m\u001b[43m \u001b[49m\u001b[38;5;241;43m*\u001b[39;49m\u001b[38;5;241;43m*\u001b[39;49m\u001b[43mkwargs\u001b[49m\u001b[43m)\u001b[49m\n",
      "File \u001b[0;32m/blue/woodard/mkunzlermaldaner/project/ExpLogic/explogic_env/lib/python3.9/site-packages/torch/functional.py:722\u001b[0m, in \u001b[0;36m_return_output\u001b[0;34m(input, sorted, return_inverse, return_counts, dim)\u001b[0m\n\u001b[1;32m    719\u001b[0m \u001b[38;5;28;01mif\u001b[39;00m has_torch_function_unary(\u001b[38;5;28minput\u001b[39m):\n\u001b[1;32m    720\u001b[0m     \u001b[38;5;28;01mreturn\u001b[39;00m _unique_impl(\u001b[38;5;28minput\u001b[39m, \u001b[38;5;28msorted\u001b[39m, return_inverse, return_counts, dim)\n\u001b[0;32m--> 722\u001b[0m output, _, _ \u001b[38;5;241m=\u001b[39m \u001b[43m_unique_impl\u001b[49m\u001b[43m(\u001b[49m\u001b[38;5;28;43minput\u001b[39;49m\u001b[43m,\u001b[49m\u001b[43m \u001b[49m\u001b[38;5;28;43msorted\u001b[39;49m\u001b[43m,\u001b[49m\u001b[43m \u001b[49m\u001b[43mreturn_inverse\u001b[49m\u001b[43m,\u001b[49m\u001b[43m \u001b[49m\u001b[43mreturn_counts\u001b[49m\u001b[43m,\u001b[49m\u001b[43m \u001b[49m\u001b[43mdim\u001b[49m\u001b[43m)\u001b[49m\n\u001b[1;32m    723\u001b[0m \u001b[38;5;28;01mreturn\u001b[39;00m output\n",
      "File \u001b[0;32m/blue/woodard/mkunzlermaldaner/project/ExpLogic/explogic_env/lib/python3.9/site-packages/torch/functional.py:636\u001b[0m, in \u001b[0;36m_unique_impl\u001b[0;34m(input, sorted, return_inverse, return_counts, dim)\u001b[0m\n\u001b[1;32m    628\u001b[0m     output, inverse_indices, counts \u001b[38;5;241m=\u001b[39m _VF\u001b[38;5;241m.\u001b[39munique_dim(\n\u001b[1;32m    629\u001b[0m         \u001b[38;5;28minput\u001b[39m,\n\u001b[1;32m    630\u001b[0m         dim,\n\u001b[0;32m   (...)\u001b[0m\n\u001b[1;32m    633\u001b[0m         return_counts\u001b[38;5;241m=\u001b[39mreturn_counts,\n\u001b[1;32m    634\u001b[0m     )\n\u001b[1;32m    635\u001b[0m \u001b[38;5;28;01melse\u001b[39;00m:\n\u001b[0;32m--> 636\u001b[0m     output, inverse_indices, counts \u001b[38;5;241m=\u001b[39m \u001b[43mtorch\u001b[49m\u001b[38;5;241;43m.\u001b[39;49m\u001b[43m_unique2\u001b[49m\u001b[43m(\u001b[49m\n\u001b[1;32m    637\u001b[0m \u001b[43m        \u001b[49m\u001b[38;5;28;43minput\u001b[39;49m\u001b[43m,\u001b[49m\n\u001b[1;32m    638\u001b[0m \u001b[43m        \u001b[49m\u001b[38;5;28;43msorted\u001b[39;49m\u001b[38;5;241;43m=\u001b[39;49m\u001b[38;5;28;43msorted\u001b[39;49m\u001b[43m,\u001b[49m\n\u001b[1;32m    639\u001b[0m \u001b[43m        \u001b[49m\u001b[43mreturn_inverse\u001b[49m\u001b[38;5;241;43m=\u001b[39;49m\u001b[43mreturn_inverse\u001b[49m\u001b[43m,\u001b[49m\n\u001b[1;32m    640\u001b[0m \u001b[43m        \u001b[49m\u001b[43mreturn_counts\u001b[49m\u001b[38;5;241;43m=\u001b[39;49m\u001b[43mreturn_counts\u001b[49m\u001b[43m,\u001b[49m\n\u001b[1;32m    641\u001b[0m \u001b[43m    \u001b[49m\u001b[43m)\u001b[49m\n\u001b[1;32m    642\u001b[0m \u001b[38;5;28;01mreturn\u001b[39;00m output, inverse_indices, counts\n",
      "\u001b[0;31mRuntimeError\u001b[0m: CUDA error: device-side assert triggered\nCUDA kernel errors might be asynchronously reported at some other API call,so the stacktrace below might be incorrect.\nFor debugging consider passing CUDA_LAUNCH_BLOCKING=1."
     ]
    }
   ],
   "source": [
    "# Example: Evaluate the mini-net for digit 0 on the test_loader\n",
    "device = 'cuda' if torch.cuda.is_available() else 'cpu'\n",
    "mininet.eval()\n",
    "\n",
    "correct = 0\n",
    "total = 0\n",
    "\n",
    "with torch.no_grad():\n",
    "    for batch_inputs, batch_labels in test_loader:\n",
    "        batch_inputs, batch_labels = batch_inputs.to(device), batch_labels.to(device)\n",
    "        outputs = mininet(batch_inputs)\n",
    "        # Because CustomDiffLogic returns shape (batch_size, 10) if output_size=10\n",
    "        # we pick the argmax across the 10 classes\n",
    "        _, predicted = torch.max(outputs, dim=1)\n",
    "        \n",
    "        total += batch_labels.size(0)\n",
    "        correct += (predicted == batch_labels).sum().item()\n",
    "\n",
    "acc = correct / total\n",
    "print(f\"MiniNet for digit 0 - Accuracy on test set: {acc}\")\n"
   ]
  },
  {
   "cell_type": "code",
   "execution_count": null,
   "id": "30a6e005-941e-4c8c-a56e-ad60bd7da069",
   "metadata": {},
   "outputs": [],
   "source": [
    "# 1) For each digit 0..9, compute the switching frequency on that digit's data\n",
    "graphs = {}\n",
    "for d in range(10):\n",
    "    graphs[d] = lg.LogicGraph(model)\n",
    "    graphs[d].compute_sf(train_class_loaders[d])  # or test_class_loaders[d]\n",
    "\n",
    "# 2) For each digit, build a “mininet” with a certain threshold\n",
    "mini_nets = {}\n",
    "threshold = 0.1\n",
    "for d in range(10):\n",
    "    mini_nets[d] = create_mininet_for_digit(digit=d,\n",
    "                                            graphs=graphs,\n",
    "                                            sf_threshold=threshold,\n",
    "                                            input_size=784)\n",
    "\n",
    "# 3) Evaluate each mini-net\n",
    "for d in range(10):\n",
    "    # Evaluate on test_loader or digit_loader, up to you\n",
    "    accuracy = evaluate_mininet(mini_nets[d], test_loader)  # define a helper function\n",
    "    print(f\"Digit {d} MiniNet => test accuracy: {accuracy:.3f}\")\n",
    "\n",
    "def evaluate_mininet(mini_net, data_loader):\n",
    "    device = next(mini_net.parameters()).device\n",
    "    mini_net.eval()\n",
    "    correct, total = 0, 0\n",
    "    with torch.no_grad():\n",
    "        for batch_inputs, batch_labels in data_loader:\n",
    "            batch_inputs, batch_labels = batch_inputs.to(device), batch_labels.to(device)\n",
    "            logits = mini_net(batch_inputs)   # shape [batch_size, 10]\n",
    "            _, predicted = torch.max(logits, dim=1)\n",
    "            total += batch_labels.size(0)\n",
    "            correct += (predicted == batch_labels).sum().item()\n",
    "    return correct / total\n"
   ]
  },
  {
   "cell_type": "markdown",
   "id": "19b61859-82f3-4bd0-a2b2-55f05d71a8b9",
   "metadata": {},
   "source": [
    "FINAL STEPS:\n",
    "1. Declare CustomDiffLogic that takes the layer_specs for all 10 classes (I have this somewhere)\n",
    "2. Do the one vs all separation, I forgot how that worked\n",
    "3. Check for speed, etc"
   ]
  },
  {
   "cell_type": "markdown",
   "id": "abc014f3-e307-4468-aa4f-f7666607389c",
   "metadata": {},
   "source": [
    "---- Everything below here has not been tested / will be scratched ----"
   ]
  },
  {
   "cell_type": "code",
   "execution_count": null,
   "id": "1d0010d5-b4bf-4769-bf95-b93219df32a0",
   "metadata": {},
   "outputs": [],
   "source": []
  },
  {
   "cell_type": "code",
   "execution_count": null,
   "id": "d9ce5a32-3248-4cf2-9f00-71aed90a19c1",
   "metadata": {},
   "outputs": [],
   "source": [
    "import matplotlib.pyplot as plt\n",
    "import torch\n",
    "import random\n",
    "\n",
    "def show_random_samples_for_each_digit(train_class_loaders, shape=(28,28)):\n",
    "    \"\"\"\n",
    "    Displays one random sample from each digit (0..9).\n",
    "    \"\"\"\n",
    "\n",
    "    fig, axes = plt.subplots(1, 10, figsize=(20, 2))\n",
    "    \n",
    "    for digit in range(10):\n",
    "        digit_dataset = train_class_loaders[digit].dataset\n",
    "        dataset_size = len(digit_dataset)\n",
    "\n",
    "        # Pick a random index, fetch the image\n",
    "        random_index = random.randint(0, dataset_size - 1)\n",
    "        image, label = digit_dataset[random_index]\n",
    "\n",
    "        # If image is bpp=1, shape is (28,28) or (20,20), \n",
    "        # but might also be [1,28,28]. If so, do .squeeze(0).\n",
    "        if image.ndim == 3:\n",
    "            image = image.squeeze(0)\n",
    "        \n",
    "        axes[digit].imshow(image.reshape(shape), cmap='gray')\n",
    "        axes[digit].axis('off')\n",
    "        axes[digit].set_title(f'Digit {digit}')\n",
    "\n",
    "    plt.tight_layout()\n",
    "    plt.show()\n"
   ]
  },
  {
   "cell_type": "code",
   "execution_count": 122,
   "id": "45e019c5-33a0-4baa-a10f-86a3a917f587",
   "metadata": {},
   "outputs": [
    {
     "ename": "RuntimeError",
     "evalue": "CUDA error: device-side assert triggered\nCUDA kernel errors might be asynchronously reported at some other API call,so the stacktrace below might be incorrect.\nFor debugging consider passing CUDA_LAUNCH_BLOCKING=1.",
     "output_type": "error",
     "traceback": [
      "\u001b[0;31m---------------------------------------------------------------------------\u001b[0m",
      "\u001b[0;31mRuntimeError\u001b[0m                              Traceback (most recent call last)",
      "Cell \u001b[0;32mIn[122], line 26\u001b[0m\n\u001b[1;32m     23\u001b[0m             hook\u001b[38;5;241m.\u001b[39mremove()\n\u001b[1;32m     25\u001b[0m \u001b[38;5;66;03m# passes trained diff logic model and all digit loaders\u001b[39;00m\n\u001b[0;32m---> 26\u001b[0m \u001b[43mrun_and_collect_activations\u001b[49m\u001b[43m(\u001b[49m\u001b[43mmodel\u001b[49m\u001b[43m,\u001b[49m\u001b[43m \u001b[49m\u001b[43mtrain_class_loaders\u001b[49m\u001b[43m)\u001b[49m\n",
      "Cell \u001b[0;32mIn[122], line 19\u001b[0m, in \u001b[0;36mrun_and_collect_activations\u001b[0;34m(model, train_class_loaders)\u001b[0m\n\u001b[1;32m     17\u001b[0m \u001b[38;5;66;03m# runs forward pass for each batch in the DataLoader for the current digit\u001b[39;00m\n\u001b[1;32m     18\u001b[0m \u001b[38;5;28;01mfor\u001b[39;00m batch_data, _ \u001b[38;5;129;01min\u001b[39;00m loader:\n\u001b[0;32m---> 19\u001b[0m     \u001b[43mmodel\u001b[49m\u001b[43m(\u001b[49m\u001b[43mbatch_data\u001b[49m\u001b[43m)\u001b[49m\n\u001b[1;32m     21\u001b[0m \u001b[38;5;66;03m# unhook all the registered hooks after the forward pass\u001b[39;00m\n\u001b[1;32m     22\u001b[0m \u001b[38;5;28;01mfor\u001b[39;00m hook \u001b[38;5;129;01min\u001b[39;00m hooks:\n",
      "File \u001b[0;32m/blue/woodard/mkunzlermaldaner/project/ExpLogic/explogic_env/lib/python3.9/site-packages/torch/nn/modules/module.py:1051\u001b[0m, in \u001b[0;36mModule._call_impl\u001b[0;34m(self, *input, **kwargs)\u001b[0m\n\u001b[1;32m   1047\u001b[0m \u001b[38;5;66;03m# If we don't have any hooks, we want to skip the rest of the logic in\u001b[39;00m\n\u001b[1;32m   1048\u001b[0m \u001b[38;5;66;03m# this function, and just call forward.\u001b[39;00m\n\u001b[1;32m   1049\u001b[0m \u001b[38;5;28;01mif\u001b[39;00m \u001b[38;5;129;01mnot\u001b[39;00m (\u001b[38;5;28mself\u001b[39m\u001b[38;5;241m.\u001b[39m_backward_hooks \u001b[38;5;129;01mor\u001b[39;00m \u001b[38;5;28mself\u001b[39m\u001b[38;5;241m.\u001b[39m_forward_hooks \u001b[38;5;129;01mor\u001b[39;00m \u001b[38;5;28mself\u001b[39m\u001b[38;5;241m.\u001b[39m_forward_pre_hooks \u001b[38;5;129;01mor\u001b[39;00m _global_backward_hooks\n\u001b[1;32m   1050\u001b[0m         \u001b[38;5;129;01mor\u001b[39;00m _global_forward_hooks \u001b[38;5;129;01mor\u001b[39;00m _global_forward_pre_hooks):\n\u001b[0;32m-> 1051\u001b[0m     \u001b[38;5;28;01mreturn\u001b[39;00m \u001b[43mforward_call\u001b[49m\u001b[43m(\u001b[49m\u001b[38;5;241;43m*\u001b[39;49m\u001b[38;5;28;43minput\u001b[39;49m\u001b[43m,\u001b[49m\u001b[43m \u001b[49m\u001b[38;5;241;43m*\u001b[39;49m\u001b[38;5;241;43m*\u001b[39;49m\u001b[43mkwargs\u001b[49m\u001b[43m)\u001b[49m\n\u001b[1;32m   1052\u001b[0m \u001b[38;5;66;03m# Do not call functions when jit is used\u001b[39;00m\n\u001b[1;32m   1053\u001b[0m full_backward_hooks, non_full_backward_hooks \u001b[38;5;241m=\u001b[39m [], []\n",
      "Cell \u001b[0;32mIn[10], line 44\u001b[0m, in \u001b[0;36mDiffLogic.forward\u001b[0;34m(self, x)\u001b[0m\n\u001b[1;32m     42\u001b[0m \u001b[38;5;66;03m# moves tensor to GPU\u001b[39;00m\n\u001b[1;32m     43\u001b[0m \u001b[38;5;28;01mif\u001b[39;00m torch\u001b[38;5;241m.\u001b[39mcuda\u001b[38;5;241m.\u001b[39mis_available():\n\u001b[0;32m---> 44\u001b[0m     x \u001b[38;5;241m=\u001b[39m \u001b[43mx\u001b[49m\u001b[38;5;241;43m.\u001b[39;49m\u001b[43mto\u001b[49m\u001b[43m(\u001b[49m\u001b[38;5;124;43m'\u001b[39;49m\u001b[38;5;124;43mcuda\u001b[39;49m\u001b[38;5;124;43m'\u001b[39;49m\u001b[43m)\u001b[49m          \n\u001b[1;32m     45\u001b[0m \u001b[38;5;66;03m#x = torch.flatten(x)\u001b[39;00m\n\u001b[1;32m     46\u001b[0m logits \u001b[38;5;241m=\u001b[39m \u001b[38;5;28mself\u001b[39m\u001b[38;5;241m.\u001b[39mlogic_layers(x)\n",
      "\u001b[0;31mRuntimeError\u001b[0m: CUDA error: device-side assert triggered\nCUDA kernel errors might be asynchronously reported at some other API call,so the stacktrace below might be incorrect.\nFor debugging consider passing CUDA_LAUNCH_BLOCKING=1."
     ]
    }
   ],
   "source": [
    "# run forward pass and collect activations for each digit's dataset\n",
    "def run_and_collect_activations(model, train_class_loaders):\n",
    "    \n",
    "    for digit, loader in train_class_loaders.items():\n",
    "        hooks = []  \n",
    "        \n",
    "        for idx, layer in enumerate(model.logic_layers):\n",
    "            if isinstance(layer, LogicLayer): \n",
    "                # register hook for the current layer and digit\n",
    "                hook = layer.register_forward_hook(\n",
    "                    (lambda layer_idx, digit: \n",
    "                        lambda module, input, output: \n",
    "                            hook_fn(module, input, output, layer_idx, digit))(idx, digit)\n",
    "                )\n",
    "                hooks.append(hook)\n",
    "\n",
    "        # runs forward pass for each batch in the DataLoader for the current digit\n",
    "        for batch_data, _ in loader:\n",
    "            model(batch_data)\n",
    "\n",
    "        # unhook all the registered hooks after the forward pass\n",
    "        for hook in hooks:\n",
    "            hook.remove()\n",
    "\n",
    "# passes trained diff logic model and all digit loaders\n",
    "run_and_collect_activations(model, train_class_loaders)"
   ]
  },
  {
   "cell_type": "code",
   "execution_count": null,
   "id": "151c9295-fe6a-4f28-b808-be797ca2d07f",
   "metadata": {},
   "outputs": [],
   "source": []
  },
  {
   "cell_type": "code",
   "execution_count": null,
   "id": "e15bd7aa-bf9e-4f8d-9f88-4173ebe02d91",
   "metadata": {},
   "outputs": [],
   "source": []
  },
  {
   "cell_type": "code",
   "execution_count": null,
   "id": "308ca4f4-c722-4b35-a529-3cea05db8236",
   "metadata": {},
   "outputs": [],
   "source": []
  },
  {
   "cell_type": "code",
   "execution_count": null,
   "id": "3b086d6e-9521-4c76-b8ca-d0ba694e726c",
   "metadata": {},
   "outputs": [],
   "source": []
  },
  {
   "cell_type": "code",
   "execution_count": null,
   "id": "689fdddf-5d42-454e-98c0-704f0d5a9b81",
   "metadata": {},
   "outputs": [],
   "source": []
  },
  {
   "cell_type": "code",
   "execution_count": null,
   "id": "3224005d-0c7b-4dbf-9ced-bea83d6ddb14",
   "metadata": {},
   "outputs": [],
   "source": []
  }
 ],
 "metadata": {
  "kernelspec": {
   "display_name": "EXPLOGIC",
   "language": "python",
   "name": "explogic_env"
  },
  "language_info": {
   "codemirror_mode": {
    "name": "ipython",
    "version": 3
   },
   "file_extension": ".py",
   "mimetype": "text/x-python",
   "name": "python",
   "nbconvert_exporter": "python",
   "pygments_lexer": "ipython3",
   "version": "3.9.21"
  }
 },
 "nbformat": 4,
 "nbformat_minor": 5
}
